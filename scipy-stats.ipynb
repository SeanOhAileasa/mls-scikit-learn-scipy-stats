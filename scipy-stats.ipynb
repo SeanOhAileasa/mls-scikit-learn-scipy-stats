{
 "cells": [
  {
   "cell_type": "markdown",
   "id": "616b0550",
   "metadata": {},
   "source": [
    "***\n",
    "< [GMIT Data Analytics](https://web.archive.org/web/20201029063153/https://www.gmit.ie/computer-science-and-applied-physics/higher-diploma-science-computing-data-analytics-ict) | [Home](https://github.com/SeanOhAileasa) | [README](https://github.com/SeanOhAileasa/mls-scikit-learn-scipy-stats/blob/main/README.md) >\n",
    "\n",
    "[![GMIT](https://github.com/SeanOhAileasa/SeanOhAileasa/blob/master/rc/gmit.png?raw=true)](https://web.archive.org/web/20201029063153/https://www.gmit.ie/computer-science-and-applied-physics/higher-diploma-science-computing-data-analytics-ict)\n",
    "\n",
    "## Machine Learning & Statistics, Winter 21/22\n",
    "### Due: last commit on or before January 2nd, 2022\n",
    "### Topic: [``scipy-stats``](https://nbviewer.jupyter.org/github/SeanOhAileasa/mls-scikit-learn-scipy-stats/blob/main/scipy-stats.ipynb)\n",
    "***"
   ]
  },
  {
   "cell_type": "markdown",
   "id": "3cb013c8",
   "metadata": {},
   "source": [
    "Winter 21/22 assessment for the ``Machine Learning & Statistics`` module (5 Credits) of the ``Higher Diploma in Science in Computing (Data Analytics) (H.Dip)`` programme (75 Credits) at **Galway-Mayo Institute of Technology (GMIT)**."
   ]
  },
  {
   "cell_type": "markdown",
   "id": "c5d47c64",
   "metadata": {},
   "source": [
    "<a id=\"instructions\"></a>\n",
    "< [Table of Contents](#top) > < [Instructions](#instructions) > < [Abstract](#abstract) > < [Introduction](#introduction)&nbsp;&nbsp;:&nbsp;&nbsp;[Sampling](#introductionScenario)&nbsp;&nbsp;|&nbsp;&nbsp;[``scipy.stats``](#solutionttest)&nbsp;&nbsp;|&nbsp;&nbsp;[Multiple Samples](#solutionMultipleSamples) > < [Solution](#solution)&nbsp;&nbsp;:&nbsp;&nbsp;[``ANOVA``](#solutionANOVA)&nbsp;&nbsp;|&nbsp;&nbsp;[Flavors of Cacao](#solutionANOVAOnewayflavorsofcacao) > < [Conclusion](#conclusion) > < [References](#references) > < [Appendix](#appendix) >\n",
    "***\n",
    "## Instructions\n",
    "***"
   ]
  },
  {
   "cell_type": "markdown",
   "id": "b0e834d1",
   "metadata": {},
   "source": [
    "The purpose of the assessment is to ensure the module's learning outcomes are achieved while also providing sample work to show prospective employers [0]. The overall assessment is split into the three components detailed below [0]. The percentages indicate the weighting of that item in the overall mark [0]. However, the examiners’ general impression of the submission may override the individual weightings where deemed appropriate [0]."
   ]
  },
  {
   "cell_type": "markdown",
   "id": "1ca7cb0f",
   "metadata": {},
   "source": [
    "Include a Jupyter Notebook called ``scikit-stats.ipynb`` that contains the following:"
   ]
  },
  {
   "cell_type": "markdown",
   "id": "1fba5b49",
   "metadata": {},
   "source": [
    "###### $10\\%$\n",
    "***"
   ]
  },
  {
   "cell_type": "markdown",
   "id": "575bc8e9",
   "metadata": {},
   "source": [
    "A clear and concise overview of the ``scikit-stats`` Python library [[Online](https://docs.scipy.org/doc/scipy/reference/stats.html)][0]."
   ]
  },
  {
   "cell_type": "markdown",
   "id": "0fa367f7",
   "metadata": {},
   "source": [
    "###### $20\\%$\n",
    "***"
   ]
  },
  {
   "cell_type": "markdown",
   "id": "8a8668fc",
   "metadata": {},
   "source": [
    "An example hypothesis test using ``ANOVA``. The dataset used must be appropriate to use ``ANOVA``, ensuring the assumptions underlying ``ANOVA`` are met, and then perform and display the results of ``ANOVA`` using ``scipy.stats`` [0]."
   ]
  },
  {
   "cell_type": "markdown",
   "id": "17a11496",
   "metadata": {},
   "source": [
    "###### $10\\%$\n",
    "***"
   ]
  },
  {
   "cell_type": "markdown",
   "id": "1c7a18eb",
   "metadata": {},
   "source": [
    "Appropriate plots and other visualisations to enhance the notebook for viewers [0]."
   ]
  },
  {
   "cell_type": "markdown",
   "id": "7ef737a5",
   "metadata": {},
   "source": [
    "###### GitHub Repository\n",
    "***"
   ]
  },
  {
   "cell_type": "markdown",
   "id": "b8ce9a27",
   "metadata": {},
   "source": [
    "GitHub repository containing two Jupyter Notebooks (each representing $20\\%$):"
   ]
  },
  {
   "cell_type": "markdown",
   "id": "1c6898fa",
   "metadata": {},
   "source": [
    "i. ``scipy-stats``\n",
    "\n",
    "ii. ``scikit-learn`` (refer [``README``](https://github.com/SeanOhAileasa/mls-scikit-learn-scipy-stats/blob/main/README.md))"
   ]
  },
  {
   "cell_type": "markdown",
   "id": "ffbb1bb0",
   "metadata": {},
   "source": [
    "Can interact in an executable environment, making the code immediately reproducible for experimentation and enabling live interaction using ``binder`` (click on the badge below) - does not change the original Jupyter Notebook as it cannot sync with GitHub."
   ]
  },
  {
   "cell_type": "markdown",
   "id": "f00b7374",
   "metadata": {},
   "source": [
    "[![Binder](https://mybinder.org/badge_logo.svg)](https://mybinder.org/v2/gh/SeanOhAileasa/mls-scikit-learn-scipy-stats/HEAD?labpath=scikit-learn.ipynb)"
   ]
  },
  {
   "cell_type": "markdown",
   "id": "8aebc577",
   "metadata": {},
   "source": [
    "Can view the Jupyter Notebook as a static ``HTML`` page on GitHub. Unfortunately, GitHub may not fully render the Jupyter Notebook (equation tags may not be visible) when compared with running locally. Alternatively, can use ``nbviewer`` (click on the badge below)."
   ]
  },
  {
   "cell_type": "markdown",
   "id": "a1663610",
   "metadata": {},
   "source": [
    "[![nbviewer](https://raw.githubusercontent.com/jupyter/design/master/logos/Badges/nbviewer_badge.svg)](https://nbviewer.jupyter.org/github/SeanOhAileasa/mls-scikit-learn-scipy-stats/blob/main/scikit-learn.ipynb)"
   ]
  },
  {
   "cell_type": "markdown",
   "id": "473d6272",
   "metadata": {},
   "source": [
    "Refer to [``README``](https://github.com/SeanOhAileasa/mls-scikit-learn-scipy-stats/blob/main/README.md) for details for running this Jupyter Notebook on your local machine and the second Jupyter Notebook (``scikit-learn``) comprising the assessment."
   ]
  },
  {
   "cell_type": "markdown",
   "id": "7acee675",
   "metadata": {},
   "source": [
    "###### $10\\%$\n",
    "***"
   ]
  },
  {
   "cell_type": "markdown",
   "id": "d7a52751",
   "metadata": {},
   "source": [
    "A clear and informative [``README``](https://github.com/SeanOhAileasa/mls-scikit-learn-scipy-stats/blob/main/README.md) explaining why the repository exists, what is in it, and how to run the notebooks [0]."
   ]
  },
  {
   "cell_type": "markdown",
   "id": "ad5f8143",
   "metadata": {},
   "source": [
    "###### $10\\%$\n",
    "***"
   ]
  },
  {
   "cell_type": "markdown",
   "id": "7917adff",
   "metadata": {},
   "source": [
    "A ``requirements.txt`` file enables someone to quickly run the notebooks with minimal configuration. Of course, also include any required files such as data files and image files [0]."
   ]
  },
  {
   "cell_type": "markdown",
   "id": "46431d41",
   "metadata": {},
   "source": [
    "***\n",
    "## END"
   ]
  },
  {
   "cell_type": "markdown",
   "id": "e9dfbb57",
   "metadata": {},
   "source": [
    "<a id=\"top\"></a>\n",
    "***\n",
    "## Table of Contents\n",
    "***"
   ]
  },
  {
   "cell_type": "markdown",
   "id": "f65a36cc",
   "metadata": {},
   "source": [
    "``\"Remove literary, grammatical and syntactical inhibition.\"`` [27]\n",
    "\n",
    "The notebook is considered never finished and therefore presented as a first draft. As a first draft, best read without literary inhibitions (no wasting time on editing). The viewer should experience the pure white light of the raw information (via code and visualisation). "
   ]
  },
  {
   "cell_type": "markdown",
   "id": "5691f0ec",
   "metadata": {},
   "source": [
    "<hr width=50%;>"
   ]
  },
  {
   "cell_type": "markdown",
   "id": "e69e607f",
   "metadata": {},
   "source": [
    "< [Instructions](#instructions) > <br/><br/>\n",
    "* [Packages](#structureLibraries) <br/><br/>\n",
    "* [Abstract](#abstract) <br/><br/>\n",
    "* [Introduction](#introduction) <br/><br/>\n",
    "    * [Sampling](#introductionScenario) <br/><br/>\n",
    "        * [Simulation](#simulation) <br/><br/>\n",
    "            * [Visualisation](#dataStructurevisualisation) <br/><br/>\n",
    "    * [``scipy.stats``](#solutionttest) <br/><br/>\n",
    "        * [Hypothesis](#solutionttestHypothesis) <br/><br/>\n",
    "            * [T-Test](#solutionttestTTest) <br/><br/>\n",
    "                * [Visualisation](#solutionttestintuitionVisualisation) <br/><br/>\n",
    "                    * [Statistic](#solutionDifferentQuestionttestCriticalValues) <br/><br/>\n",
    "                * [Error](#solutionProbabilityDensityFunctionError) <br/><br/>\n",
    "                    * [Type I Errors](#solutionProbabilityDensityFunctionErrorTypeIErrorFalsePositives) (``False Positives``) <br/><br/>\n",
    "                    * [Type II Errors](#solutionProbabilityDensityFunctionErrorTypeIErrorFalseNegatives) (``False Negatives``) <br/><br/>\n",
    "    * [Multiple Samples](#solutionMultipleSamples) <br/><br/>\n",
    "        * [$H_0$](#solutionMultipleSamplesnull)&nbsp;&nbsp;|&nbsp;&nbsp;[$H_1$](#solutionMultipleSamplealternative) <br/><br/>\n",
    "            * [T-Test](#solutionMultipleSamplesTTest) <br/><br/>\n",
    "            * [Analysis of Variance](#solutionMultipleSamplesANOVA) <br/><br/>\n",
    "* [Solution](#solution) <br/><br/>\n",
    "    * [``ANOVA``](#solutionANOVA) <br/><br/>\n",
    "        * [``scipy.stats.f_oneway``](#solutiontfoneway) <br/><br/>\n",
    "            * [One-way](#solutionANOVAOneway) <br/><br/>\n",
    "                * [Sampling](#solutiontfonewaySampling) <br/><br/>\n",
    "                * [Visualisation](#solutiontfonewaySamplingVisualisation) <br/><br/>\n",
    "            * [Hypothesis](#solutiontfonewayHypothesis) <br/><br/>\n",
    "                * [$H_0$](#solutionfonewaynull)&nbsp;&nbsp;|&nbsp;&nbsp;[$H_1$](#solutionfonewaynullalternative) <br/><br/>\n",
    "            * [``ANOVA``](#solutiontfonewaySamplingVisualisationANOVA) <br/><br/>\n",
    "                * [Statistic](#solutiontfonewaySamplingVisualisationANOVAOrigination) <br/><br/>\n",
    "    * [Flavors of Cacao](#solutionANOVAOnewayflavorsofcacao) <br/><br/>\n",
    "        * [Data](#solutionANOVAOnewayflavorsofcacaoData) <br/><br/>\n",
    "            * [One-way](#solutionANOVAOnewayflavorsofcacaoANOVAOneway) <br/><br/>\n",
    "                * [Sampling](#solutionANOVAOnewayflavorsofcacaoANOVAOnewaySampling) <br/><br/>\n",
    "                * [Visualisation](#solutionANOVAOnewayflavorsofcacaoANOVAOnewayVisualisation) <br/><br/>\n",
    "            * [Hypothesis](#solutionANOVAOnewayflavorsofcacaoANOVAOnewayHypothesis) <br/><br/>\n",
    "                * [$H_0$](#solutionANOVAOnewayflavorsofcacaoANOVAOnewayHypothesisH0)&nbsp;&nbsp;|&nbsp;&nbsp;[$H_1$](#solutionANOVAOnewayflavorsofcacaoANOVAOnewayHypothesisH1) <br/><br/>\n",
    "            * [``ANOVA``](#solutionANOVAOnewayflavorsofcacaoANOVAOnewayHypothesisH0ANOVA) <br/><br/>\n",
    "* [Conclusion](#conclusion) <br/><br/>\n",
    "* [Appendix](#appendix) <br/><br/>\n",
    "    * [T-Test - Sleep Dataset](#appendixSleep)"
   ]
  },
  {
   "cell_type": "markdown",
   "id": "13394337",
   "metadata": {},
   "source": [
    "***\n",
    "## END"
   ]
  },
  {
   "cell_type": "markdown",
   "id": "fcdfdc64",
   "metadata": {},
   "source": [
    "<a id=\"structureLibraries\"></a>\n",
    "< [Table of Contents](#top) > < [Instructions](#instructions) > < [Abstract](#abstract) > < [Introduction](#introduction)&nbsp;&nbsp;:&nbsp;&nbsp;[Sampling](#introductionScenario)&nbsp;&nbsp;|&nbsp;&nbsp;[``scipy.stats``](#solutionttest)&nbsp;&nbsp;|&nbsp;&nbsp;[Multiple Samples](#solutionMultipleSamples) > < [Solution](#solution)&nbsp;&nbsp;:&nbsp;&nbsp;[``ANOVA``](#solutionANOVA)&nbsp;&nbsp;|&nbsp;&nbsp;[Flavors of Cacao](#solutionANOVAOnewayflavorsofcacao) > < [Conclusion](#conclusion) > < [References](#references) > < [Appendix](#appendix) >\n",
    "***\n",
    "## Packages\n",
    "***"
   ]
  },
  {
   "cell_type": "code",
   "execution_count": 1,
   "id": "ee510eb5",
   "metadata": {},
   "outputs": [],
   "source": [
    "import scipy.stats as ss"
   ]
  },
  {
   "cell_type": "code",
   "execution_count": 2,
   "id": "00a11a02",
   "metadata": {},
   "outputs": [],
   "source": [
    "import numpy as np"
   ]
  },
  {
   "cell_type": "code",
   "execution_count": 3,
   "id": "19a60f3d",
   "metadata": {},
   "outputs": [
    {
     "name": "stdout",
     "output_type": "stream",
     "text": [
      "Provides\n",
      "  1. An array object of arbitrary homogeneous items\n",
      "  2. Fast mathematical operations over arrays\n",
      "  3. Linear Algebra, Fourier Transforms, Random Number Generation\n"
     ]
    }
   ],
   "source": [
    "print(\"\\n\".join(np.__doc__.split(\"\\n\")[4:8])) # package numpy overview"
   ]
  },
  {
   "cell_type": "code",
   "execution_count": 4,
   "id": "64a8a7d4",
   "metadata": {},
   "outputs": [],
   "source": [
    "import pandas as pd"
   ]
  },
  {
   "cell_type": "code",
   "execution_count": 5,
   "id": "7020d491",
   "metadata": {},
   "outputs": [
    {
     "name": "stdout",
     "output_type": "stream",
     "text": [
      "pandas - a powerful data analysis and manipulation library for Python\n"
     ]
    }
   ],
   "source": [
    "print(\"\\n\".join(pd.__doc__.split(\"\\n\")[1:2])) # package pandas overview"
   ]
  },
  {
   "cell_type": "code",
   "execution_count": 6,
   "id": "318b0399",
   "metadata": {},
   "outputs": [],
   "source": [
    "import matplotlib.pyplot as plt"
   ]
  },
  {
   "cell_type": "code",
   "execution_count": 7,
   "id": "38021d41",
   "metadata": {},
   "outputs": [
    {
     "name": "stdout",
     "output_type": "stream",
     "text": [
      "`matplotlib.pyplot` is a state-based interface to matplotlib. It provides\n",
      "a MATLAB-like way of plotting.\n",
      "\n",
      "pyplot is mainly intended for interactive plots and simple cases of\n",
      "programmatic plot generation::\n"
     ]
    }
   ],
   "source": [
    "print(\"\\n\".join(plt.__doc__.split(\"\\n\")[1:6])) # subpackage pyplot overview"
   ]
  },
  {
   "cell_type": "code",
   "execution_count": 8,
   "id": "511132d3",
   "metadata": {},
   "outputs": [],
   "source": [
    "plt.style.use(style=\"ggplot\") # R based style\n",
    "plt.rcParams[\"figure.figsize\"]=12.8,7.2 # size of plots"
   ]
  },
  {
   "cell_type": "code",
   "execution_count": 9,
   "id": "12bf5381",
   "metadata": {},
   "outputs": [],
   "source": [
    "import seaborn as sns"
   ]
  },
  {
   "cell_type": "markdown",
   "id": "4667a790",
   "metadata": {},
   "source": [
    "***\n",
    "## END"
   ]
  },
  {
   "cell_type": "markdown",
   "id": "5459b8fd",
   "metadata": {},
   "source": [
    "<a id=\"abstract\"></a>\n",
    "< [Table of Contents](#top) > < [Instructions](#instructions) > < [Abstract](#abstract) > < [Introduction](#introduction)&nbsp;&nbsp;:&nbsp;&nbsp;[Sampling](#introductionScenario)&nbsp;&nbsp;|&nbsp;&nbsp;[``scipy.stats``](#solutionttest)&nbsp;&nbsp;|&nbsp;&nbsp;[Multiple Samples](#solutionMultipleSamples) > < [Solution](#solution)&nbsp;&nbsp;:&nbsp;&nbsp;[``ANOVA``](#solutionANOVA)&nbsp;&nbsp;|&nbsp;&nbsp;[Flavors of Cacao](#solutionANOVAOnewayflavorsofcacao) > < [Conclusion](#conclusion) > < [References](#references) > < [Appendix](#appendix) >\n",
    "***\n",
    "## Abstract\n",
    "***"
   ]
  },
  {
   "cell_type": "markdown",
   "id": "fc86edb5",
   "metadata": {},
   "source": [
    "- the open-source ``scipy`` library (built on the ``numpy`` extension of python) is used to solve scientific and mathematical problems rivaling systems such as ``MATLAB`` and ``Octave`` [19]"
   ]
  },
  {
   "cell_type": "markdown",
   "id": "883a7eed",
   "metadata": {},
   "source": [
    "- the library is organized into subpackages covering many scientific computing domains - the ``stats`` domain contains a large number of statistical functions [19]"
   ]
  },
  {
   "cell_type": "code",
   "execution_count": 10,
   "id": "b8bae643",
   "metadata": {
    "scrolled": false
   },
   "outputs": [
    {
     "name": "stdout",
     "output_type": "stream",
     "text": [
      "   ttest_1samp\n",
      "   ttest_ind\n",
      "   ttest_ind_from_stats\n",
      "   ttest_rel\n",
      "   chisquare\n",
      "   cramervonmises\n",
      "   power_divergence\n",
      "   kstest\n",
      "   ks_1samp\n",
      "   ks_2samp\n",
      "   epps_singleton_2samp\n",
      "   mannwhitneyu\n",
      "   tiecorrect\n",
      "   rankdata\n",
      "   ranksums\n",
      "   wilcoxon\n",
      "   kruskal\n",
      "   friedmanchisquare\n",
      "   brunnermunzel\n",
      "   combine_pvalues\n",
      "   jarque_bera\n"
     ]
    }
   ],
   "source": [
    "print(\"\\n\".join(ss.__doc__.split(\"\\n\")[249:270])) # stats statistical tests"
   ]
  },
  {
   "cell_type": "code",
   "execution_count": 11,
   "id": "839aaeaa",
   "metadata": {},
   "outputs": [
    {
     "name": "stdout",
     "output_type": "stream",
     "text": [
      "   f_oneway\n",
      "   pearsonr\n",
      "   spearmanr\n",
      "   pointbiserialr\n",
      "   kendalltau\n",
      "   weightedtau\n",
      "   linregress\n",
      "   siegelslopes\n",
      "   theilslopes\n",
      "   multiscale_graphcorr\n"
     ]
    }
   ],
   "source": [
    "print(\"\\n\".join(ss.__doc__.split(\"\\n\")[232:242])) # stats correlation functions"
   ]
  },
  {
   "cell_type": "markdown",
   "id": "5763af0a",
   "metadata": {},
   "source": [
    "***"
   ]
  },
  {
   "cell_type": "markdown",
   "id": "15200137",
   "metadata": {},
   "source": [
    "- the word ``statistics`` can be used in at least four different senses: \n",
    "\n",
    "i. indicate a whole subject or discipline; \n",
    "\n",
    "ii. a set of methods of inquiry; \n",
    "\n",
    "iii. collections of data gathered by those methods and;\n",
    "\n",
    "iv. refer to calculated figures (mean and mode etc.) that sum up such a collection of data [20]"
   ]
  },
  {
   "cell_type": "markdown",
   "id": "7498d5ff",
   "metadata": {},
   "source": [
    "- the word ``statistical`` used above to describe the ``stats`` subpackage is as a set of methods of inquiry [20] "
   ]
  },
  {
   "cell_type": "markdown",
   "id": "cf0389e9",
   "metadata": {},
   "source": [
    "- this Juypter Notebook will use ``stats`` as a means of understanding a specific set of ``statistical`` methods (treating the theory and the application all as one) [21]"
   ]
  },
  {
   "cell_type": "markdown",
   "id": "f287e0ea",
   "metadata": {},
   "source": [
    "- the traditional view is that the theory must be learned first and then applied using a library such as ``scipy`` and its associated subpackages - this style of learning misses a trick [21]"
   ]
  },
  {
   "cell_type": "markdown",
   "id": "2652d73a",
   "metadata": {},
   "source": [
    "- rather than trying to learn the theory upfront might be better to start with something like ``stats`` and instead figure out its ``statistical`` functions - therefore making the learning process much quicker [21]"
   ]
  },
  {
   "cell_type": "markdown",
   "id": "2a40d4ed",
   "metadata": {},
   "source": [
    "- with some programming knowledge its possible to be ahead of the curve compared to someone with pure mathematics knowledge and not knowing how to program [21]"
   ]
  },
  {
   "cell_type": "markdown",
   "id": "b36c42bf",
   "metadata": {},
   "source": [
    "- python is the best programming language for this approach to learning because the basic idea behind python is that it is easy to read without needing to refer to a lot of documentation (is designed that way) [21]"
   ]
  },
  {
   "cell_type": "markdown",
   "id": "73acd7c4",
   "metadata": {},
   "source": [
    "***"
   ]
  },
  {
   "cell_type": "markdown",
   "id": "999926fa",
   "metadata": {},
   "source": [
    "- this Jupyter Notebook will focus on two ``statistical`` tests - introducing ``t-tests`` using ``scipy.stats.ttest_ind`` in order to build upon the knowledge of ``ANOVA`` using ``scipy.stats.f_oneway`` [19]"
   ]
  },
  {
   "cell_type": "markdown",
   "id": "5bd4acc7",
   "metadata": {},
   "source": [
    "- the independent sample ``t-test`` compares two random samples but the real-world is much more complex than just limiting to the comparison of two populations [1]"
   ]
  },
  {
   "cell_type": "markdown",
   "id": "d2639b32",
   "metadata": {},
   "source": [
    "- the analysis of variance (known as ``ANOVA``) allows us to move beyond comparing just two populations - allows the comparison of multiple populations and even subgroups of those populations to investigate how two groups interact with each other quantitatively [1]"
   ]
  },
  {
   "cell_type": "markdown",
   "id": "af829a68",
   "metadata": {},
   "source": [
    "- ``ANOVA`` greatly expands what we are able to do in statistics [1]"
   ]
  },
  {
   "cell_type": "markdown",
   "id": "c22704fc",
   "metadata": {},
   "source": [
    "***\n",
    "## END"
   ]
  },
  {
   "cell_type": "markdown",
   "id": "d98b70b6",
   "metadata": {},
   "source": [
    "<a id=\"introduction\"></a>\n",
    "< [Table of Contents](#top) > < [Instructions](#instructions) > < [Abstract](#abstract) > < [Introduction](#introduction)&nbsp;&nbsp;:&nbsp;&nbsp;[Sampling](#introductionScenario)&nbsp;&nbsp;|&nbsp;&nbsp;[``scipy.stats``](#solutionttest)&nbsp;&nbsp;|&nbsp;&nbsp;[Multiple Samples](#solutionMultipleSamples) > < [Solution](#solution)&nbsp;&nbsp;:&nbsp;&nbsp;[``ANOVA``](#solutionANOVA)&nbsp;&nbsp;|&nbsp;&nbsp;[Flavors of Cacao](#solutionANOVAOnewayflavorsofcacao) > < [Conclusion](#conclusion) > < [References](#references) > < [Appendix](#appendix) >\n",
    "***\n",
    "## Introduction\n",
    "***"
   ]
  },
  {
   "cell_type": "markdown",
   "id": "39a33212",
   "metadata": {},
   "source": [
    "- in comparison to machine learning (hereafter referred to as ``ml``) the ``t-test`` is an old-style statistical test [2]"
   ]
  },
  {
   "cell_type": "markdown",
   "id": "fca23472",
   "metadata": {},
   "source": [
    "- there is an interesting relationship between the ``t-test`` and Ireland - William Sealy Gosset figured out a way to test if two sets of numbers are similar [2]"
   ]
  },
  {
   "cell_type": "markdown",
   "id": "16802a04",
   "metadata": {},
   "source": [
    "- the technique is a traditional way of looking at the world and trying to make predictions based on data - even though it is the older approach many think it is still the better approach (``ml`` practitioners may not know much about these older methods) [2]"
   ]
  },
  {
   "cell_type": "markdown",
   "id": "0537e666",
   "metadata": {},
   "source": [
    "- the ``t-test`` is heavily used in the life/medical/physical sciences and provides a grounding in the ideas around ``ml`` [2]"
   ]
  },
  {
   "cell_type": "markdown",
   "id": "79c7a725",
   "metadata": {},
   "source": [
    "- thinking about uncertainty in the world and datasets that have a pattern in them - that pattern may have a little bit of variability and a little bit of volatility (not a straightforward pattern) [2]"
   ]
  },
  {
   "cell_type": "markdown",
   "id": "6730a6c2",
   "metadata": {},
   "source": [
    "- there is a lot of theory behind ``t-tests`` (probability distributions and formulating hypothesis tests etc) - demonstrating the ``t-test`` from a computer science point of view [2]"
   ]
  },
  {
   "cell_type": "markdown",
   "id": "6fb66ad9",
   "metadata": {},
   "source": [
    "- ``scipy.stats.ttest_ind`` is literally performing a ``t-test`` (passing arguments ``a`` and ``b``) [2]\n",
    "\n",
    "```python\n",
    "scipy.stats.ttest_ind(a,b)\n",
    "```"
   ]
  },
  {
   "cell_type": "markdown",
   "id": "352638bc",
   "metadata": {},
   "source": [
    "- ``a`` and ``b`` are sample collections (hereafter denoted $C$ to include arrays and lists) of numbers [2]"
   ]
  },
  {
   "cell_type": "markdown",
   "id": "860eaab4",
   "metadata": {},
   "source": [
    "- it is very easy to run statistical tests when you know a little bit of programming - many organisations spend a lot of money on ``SPSS`` and the main thing its used for is to run something like ``stat.ttest_ind(a,b)`` (in python) and get the exact same output [2]"
   ]
  },
  {
   "cell_type": "markdown",
   "id": "6bf20a31",
   "metadata": {},
   "source": [
    "- could easily code up a ``t-test`` function - its the interpretation of the outputs that is important (assumptions before doing the test (how the assumptions are justified) then comes the interpretation of the results) [2]"
   ]
  },
  {
   "cell_type": "markdown",
   "id": "f286a835",
   "metadata": {},
   "source": [
    "- ``stat.ttest_ind(a,b)`` returns two numbers in the output: \n",
    "\n",
    "i. the calculation of the actual statistic - the ``t-statistic`` (``t-value``) is used to accept or reject the null hypothesis [2]\n",
    "\n",
    "ii. some probability (``p-value``) related to that statistic determines how likely it is to see that statistic based on prior assumptions [2]"
   ]
  },
  {
   "cell_type": "markdown",
   "id": "cf75bff7",
   "metadata": {},
   "source": [
    "<hr width=50%;>"
   ]
  },
  {
   "cell_type": "markdown",
   "id": "a873d942",
   "metadata": {},
   "source": [
    "<a id=\"introductionScenario\"></a>\n",
    "< [Table of Contents](#top) > < [Instructions](#instructions) > < [Abstract](#abstract) > < [Introduction](#introduction)&nbsp;&nbsp;:&nbsp;&nbsp;[Sampling](#introductionScenario)&nbsp;&nbsp;|&nbsp;&nbsp;[``scipy.stats``](#solutionttest)&nbsp;&nbsp;|&nbsp;&nbsp;[Multiple Samples](#solutionMultipleSamples) > < [Solution](#solution)&nbsp;&nbsp;:&nbsp;&nbsp;[``ANOVA``](#solutionANOVA)&nbsp;&nbsp;|&nbsp;&nbsp;[Flavors of Cacao](#solutionANOVAOnewayflavorsofcacao) > < [Conclusion](#conclusion) > < [References](#references) > < [Appendix](#appendix) >\n",
    "***\n",
    "###### Sampling\n",
    "***"
   ]
  },
  {
   "cell_type": "markdown",
   "id": "b2ebe227",
   "metadata": {},
   "source": [
    "- a ``t-test`` is a ``statistical`` test that checks if two sample $C$ came from populations that have the same average or mean (hereinafter denoting the sample mean ``statistic`` typically represented in formulae by a Roman letter $\\bar x$) [2][25]"
   ]
  },
  {
   "cell_type": "markdown",
   "id": "bbbd7664",
   "metadata": {},
   "source": [
    "<a id=\"simulation\"></a>\n",
    "< [Table of Contents](#top) > < [Instructions](#instructions) > < [Abstract](#abstract) > < [Introduction](#introduction)&nbsp;&nbsp;:&nbsp;&nbsp;[Sampling](#introductionScenario)&nbsp;&nbsp;|&nbsp;&nbsp;[``scipy.stats``](#solutionttest)&nbsp;&nbsp;|&nbsp;&nbsp;[Multiple Samples](#solutionMultipleSamples) > < [Solution](#solution)&nbsp;&nbsp;:&nbsp;&nbsp;[``ANOVA``](#solutionANOVA)&nbsp;&nbsp;|&nbsp;&nbsp;[Flavors of Cacao](#solutionANOVAOnewayflavorsofcacao) > < [Conclusion](#conclusion) > < [References](#references) > < [Appendix](#appendix) >\n",
    "***\n",
    "###### Simulation\n",
    "***"
   ]
  },
  {
   "cell_type": "markdown",
   "id": "08bc4295",
   "metadata": {},
   "source": [
    "- creating two $C$ (``a`` and ``b``) of random numbers [4] generated on a bell-shaped curve via package ``numpy`` subpackage ``random`` function ``normal`` [7]"
   ]
  },
  {
   "cell_type": "markdown",
   "id": "e31598b0",
   "metadata": {},
   "source": [
    "- ``m_a`` represents $\\bar x$ of $C$ ``a`` and ``m_b`` represents the $\\bar x$ of $C$ ``b`` [3][7] - observing a number (in each respective $C$) further away from ``Eq. (1)`` (and ``Eq. (2)``) in either direction is less likely [7]"
   ]
  },
  {
   "cell_type": "markdown",
   "id": "0996db3f",
   "metadata": {},
   "source": [
    "$$\\bar a=1.5\\tag{1}$$"
   ]
  },
  {
   "cell_type": "markdown",
   "id": "8179c465",
   "metadata": {},
   "source": [
    "$$\\bar b=2.5\\tag{2}$$"
   ]
  },
  {
   "cell_type": "code",
   "execution_count": 12,
   "id": "55d76e25",
   "metadata": {},
   "outputs": [],
   "source": [
    "m_a,m_b=1.5,2.5"
   ]
  },
  {
   "cell_type": "markdown",
   "id": "6d9f889a",
   "metadata": {},
   "source": [
    "- ``s_a`` and ``s_b`` represents the standard deviation (hereafter denoted $\\sigma$) and is related to generating numbers on a bell-shaped curve [7]"
   ]
  },
  {
   "cell_type": "markdown",
   "id": "7a998641",
   "metadata": {},
   "source": [
    "$$\\sigma(a)=\\sigma(b)=0.5\\tag{3}$$"
   ]
  },
  {
   "cell_type": "markdown",
   "id": "38b5d401",
   "metadata": {},
   "source": [
    "- about $99.7\\%$ of the numbers lie within three $\\sigma$ ``(Eq. (3))`` of the $\\bar x$ ``(Eq. (1)`` and ``Eq. (2))`` [7]"
   ]
  },
  {
   "cell_type": "markdown",
   "id": "3a2ea9af",
   "metadata": {},
   "source": [
    "- the numbers generated are a distance of $1.5$ or less away from ``Eq. (1)`` (observing numbers around $0.5$ and $2.5$ are unlikely) - the same is true of ``Eq. (2)`` (observing numbers around $1.5$ and $3.5$ are unlikely) [7]"
   ]
  },
  {
   "cell_type": "markdown",
   "id": "414405d1",
   "metadata": {},
   "source": [
    "$$C\\space a\\space =[0.0,3.0]$$"
   ]
  },
  {
   "cell_type": "markdown",
   "id": "82a8ab21",
   "metadata": {},
   "source": [
    "$$C\\space b\\space =[1.0,4.0]$$"
   ]
  },
  {
   "cell_type": "code",
   "execution_count": 13,
   "id": "9c5f1007",
   "metadata": {},
   "outputs": [],
   "source": [
    "s_a,s_b=0.5,0.5 # each standard deviation"
   ]
  },
  {
   "cell_type": "code",
   "execution_count": 14,
   "id": "144da80c",
   "metadata": {},
   "outputs": [],
   "source": [
    "N=40 # representing sample size"
   ]
  },
  {
   "cell_type": "code",
   "execution_count": 15,
   "id": "0d024a2f",
   "metadata": {
    "scrolled": true
   },
   "outputs": [
    {
     "name": "stdout",
     "output_type": "stream",
     "text": [
      "Provides\n",
      "  1. An array object of arbitrary homogeneous items\n",
      "  2. Fast mathematical operations over arrays\n",
      "  3. Linear Algebra, Fourier Transforms, Random Number Generation\n"
     ]
    }
   ],
   "source": [
    "print(\"\\n\".join(np.__doc__.split(\"\\n\")[4:8])) # package numpy overview"
   ]
  },
  {
   "cell_type": "code",
   "execution_count": 16,
   "id": "8b003466",
   "metadata": {},
   "outputs": [
    {
     "name": "stdout",
     "output_type": "stream",
     "text": [
      "        The probability density function of the normal distribution, first\n",
      "        derived by De Moivre and 200 years later by both Gauss and Laplace\n",
      "        independently [2]_, is often called the bell curve because of\n",
      "        its characteristic shape (see the example below).\n",
      "\n",
      "        The normal distributions occurs often in nature.  For example, it\n",
      "        describes the commonly occurring distribution of samples influenced\n",
      "        by a large number of tiny, random disturbances, each with its own\n",
      "        unique distribution [2]_.\n"
     ]
    }
   ],
   "source": [
    "print(\"\\n\".join(np.random.normal.__doc__.split(\"\\n\")[5:14])) # function normal overview"
   ]
  },
  {
   "cell_type": "code",
   "execution_count": 17,
   "id": "3ddaa5f0",
   "metadata": {},
   "outputs": [
    {
     "name": "stdout",
     "output_type": "stream",
     "text": [
      "        Parameters\n",
      "        ----------\n",
      "        loc : float or array_like of floats\n",
      "            Mean (\"centre\") of the distribution.\n"
     ]
    }
   ],
   "source": [
    "print(\"\\n\".join(np.random.normal.__doc__.split(\"\\n\")[19:23])) # parameter loc overview"
   ]
  },
  {
   "cell_type": "code",
   "execution_count": 18,
   "id": "3e07f1db",
   "metadata": {},
   "outputs": [
    {
     "data": {
      "text/plain": [
       "1.5"
      ]
     },
     "execution_count": 18,
     "metadata": {},
     "output_type": "execute_result"
    }
   ],
   "source": [
    "m_a # collection a centered"
   ]
  },
  {
   "cell_type": "code",
   "execution_count": 19,
   "id": "eb0cc3b7",
   "metadata": {},
   "outputs": [
    {
     "data": {
      "text/plain": [
       "2.5"
      ]
     },
     "execution_count": 19,
     "metadata": {},
     "output_type": "execute_result"
    }
   ],
   "source": [
    "m_b # collection b centered"
   ]
  },
  {
   "cell_type": "code",
   "execution_count": 20,
   "id": "2b77a95c",
   "metadata": {},
   "outputs": [
    {
     "name": "stdout",
     "output_type": "stream",
     "text": [
      "        scale : float or array_like of floats\n",
      "            Standard deviation (spread or \"width\") of the distribution. Must be\n",
      "            non-negative.\n"
     ]
    }
   ],
   "source": [
    "print(\"\\n\".join(np.random.normal.__doc__.split(\"\\n\")[23:26])) # parameter scale overview"
   ]
  },
  {
   "cell_type": "code",
   "execution_count": 21,
   "id": "661e4553",
   "metadata": {},
   "outputs": [
    {
     "data": {
      "text/plain": [
       "0.5"
      ]
     },
     "execution_count": 21,
     "metadata": {},
     "output_type": "execute_result"
    }
   ],
   "source": [
    "s_a"
   ]
  },
  {
   "cell_type": "code",
   "execution_count": 22,
   "id": "0b4f0ffd",
   "metadata": {},
   "outputs": [
    {
     "data": {
      "text/plain": [
       "True"
      ]
     },
     "execution_count": 22,
     "metadata": {},
     "output_type": "execute_result"
    }
   ],
   "source": [
    "s_a==s_b # s_b same spread"
   ]
  },
  {
   "cell_type": "code",
   "execution_count": 23,
   "id": "0cda7f13",
   "metadata": {},
   "outputs": [
    {
     "name": "stdout",
     "output_type": "stream",
     "text": [
      "        size : int or tuple of ints, optional\n",
      "            Output shape.  If the given shape is, e.g., ``(m, n, k)``, then\n",
      "            ``m * n * k`` samples are drawn.  If size is ``None`` (default),\n",
      "            a single value is returned if ``loc`` and ``scale`` are both scalars.\n",
      "            Otherwise, ``np.broadcast(loc, scale).size`` samples are drawn.\n"
     ]
    }
   ],
   "source": [
    "print(\"\\n\".join(np.random.normal.__doc__.split(\"\\n\")[26:31])) # parameter size overview"
   ]
  },
  {
   "cell_type": "code",
   "execution_count": 24,
   "id": "ac58b6f6",
   "metadata": {},
   "outputs": [
    {
     "data": {
      "text/plain": [
       "40"
      ]
     },
     "execution_count": 24,
     "metadata": {},
     "output_type": "execute_result"
    }
   ],
   "source": [
    "N # length of collection"
   ]
  },
  {
   "cell_type": "code",
   "execution_count": 25,
   "id": "4be1f699",
   "metadata": {},
   "outputs": [],
   "source": [
    "a=np.random.normal(loc=m_a,scale=s_a,size=N)"
   ]
  },
  {
   "cell_type": "code",
   "execution_count": 26,
   "id": "590abe1a",
   "metadata": {},
   "outputs": [
    {
     "data": {
      "text/plain": [
       "array([ 1.70174891,  0.61288402,  2.0051133 ,  0.96628755, -0.00915843,\n",
       "        0.73693422,  2.20525716,  1.56696669,  1.40186775,  1.85336037,\n",
       "        1.40507427,  1.50024873,  1.96813239,  0.75341878,  1.89621011,\n",
       "        1.55025957,  1.66965514,  1.0272092 ,  1.70768583,  1.12770516,\n",
       "        1.10267817,  1.50476579,  1.90343099,  1.72534059,  1.57967126,\n",
       "        0.89256022,  0.85512404,  0.8325804 ,  1.94017891,  1.79738222,\n",
       "        1.83273084,  1.84679204,  1.56466689,  1.13365967,  2.02375145,\n",
       "        2.23369109,  1.89331139,  1.66075825,  1.40954383,  1.54641143])"
      ]
     },
     "execution_count": 26,
     "metadata": {},
     "output_type": "execute_result"
    }
   ],
   "source": [
    "a"
   ]
  },
  {
   "cell_type": "code",
   "execution_count": 27,
   "id": "2c5a5ff4",
   "metadata": {},
   "outputs": [
    {
     "data": {
      "text/plain": [
       "numpy.ndarray"
      ]
     },
     "execution_count": 27,
     "metadata": {},
     "output_type": "execute_result"
    }
   ],
   "source": [
    "type(a)"
   ]
  },
  {
   "cell_type": "code",
   "execution_count": 28,
   "id": "55fca79a",
   "metadata": {},
   "outputs": [],
   "source": [
    "b=np.random.normal(loc=m_b,scale=s_b,size=N)"
   ]
  },
  {
   "cell_type": "code",
   "execution_count": 29,
   "id": "dc9289e7",
   "metadata": {},
   "outputs": [
    {
     "data": {
      "text/plain": [
       "array([2.53678754, 2.09775496, 2.97465363, 2.14808628, 1.96222182,\n",
       "       2.9448971 , 1.48873795, 3.04778624, 1.7079949 , 3.00270243,\n",
       "       3.49548429, 1.93948673, 2.207565  , 2.0724542 , 2.67066742,\n",
       "       2.31060288, 2.65542203, 2.36757766, 1.52848837, 2.73285608,\n",
       "       2.86858014, 2.57117135, 2.92862387, 3.14773284, 2.59845802,\n",
       "       2.35133445, 1.9104097 , 2.58924041, 2.96046228, 2.61076071,\n",
       "       1.9541149 , 1.28579602, 2.29709967, 2.26008349, 2.67329983,\n",
       "       2.71705942, 1.88938534, 2.81468164, 2.64481578, 2.73754543])"
      ]
     },
     "execution_count": 29,
     "metadata": {},
     "output_type": "execute_result"
    }
   ],
   "source": [
    "b"
   ]
  },
  {
   "cell_type": "code",
   "execution_count": 30,
   "id": "16aebb05",
   "metadata": {},
   "outputs": [
    {
     "data": {
      "text/plain": [
       "numpy.ndarray"
      ]
     },
     "execution_count": 30,
     "metadata": {},
     "output_type": "execute_result"
    }
   ],
   "source": [
    "type(b)"
   ]
  },
  {
   "cell_type": "markdown",
   "id": "7156d181",
   "metadata": {},
   "source": [
    "- creating a ``DataFrame`` (data structure) built from the ``numpy`` $C$ (``a`` and ``b``) - using ``pandas`` allows different types for the columns (an abstraction on top of ``numpy``) [2]"
   ]
  },
  {
   "cell_type": "code",
   "execution_count": 31,
   "id": "be304152",
   "metadata": {},
   "outputs": [
    {
     "name": "stdout",
     "output_type": "stream",
     "text": [
      "pandas - a powerful data analysis and manipulation library for Python\n"
     ]
    }
   ],
   "source": [
    "print(\"\\n\".join(pd.__doc__.split(\"\\n\")[1:2])) # package pandas overview"
   ]
  },
  {
   "cell_type": "markdown",
   "id": "183d10b5",
   "metadata": {},
   "source": [
    "- ``A`` is going to be in the column beside the $C$ ``a`` and ``B`` is going to be in the column beside the $C$ ``b`` [3]"
   ]
  },
  {
   "cell_type": "code",
   "execution_count": 32,
   "id": "5d2b654e",
   "metadata": {},
   "outputs": [
    {
     "name": "stdout",
     "output_type": "stream",
     "text": [
      "    Two-dimensional, size-mutable, potentially heterogeneous tabular data.\n",
      "\n",
      "    Data structure also contains labeled axes (rows and columns).\n",
      "    Arithmetic operations align on both row and column labels. Can be\n",
      "    thought of as a dict-like container for Series objects. The primary\n",
      "    pandas data structure.\n"
     ]
    }
   ],
   "source": [
    "print(\"\\n\".join(pd.DataFrame.__doc__.split(\"\\n\")[1:7])) # object DataFrame overview"
   ]
  },
  {
   "cell_type": "code",
   "execution_count": 33,
   "id": "6173d533",
   "metadata": {},
   "outputs": [],
   "source": [
    "df=pd.DataFrame(data={\"Category\":[\"A\"]*len(a)+[\"B\"]*len(b),\"Value\":np.hstack([a,b])})"
   ]
  },
  {
   "cell_type": "code",
   "execution_count": 34,
   "id": "7bee085c",
   "metadata": {},
   "outputs": [
    {
     "data": {
      "text/plain": [
       "pandas.core.frame.DataFrame"
      ]
     },
     "execution_count": 34,
     "metadata": {},
     "output_type": "execute_result"
    }
   ],
   "source": [
    "type(df)"
   ]
  },
  {
   "cell_type": "markdown",
   "id": "73ba0b01",
   "metadata": {},
   "source": [
    "- providing a systematic way of simulating (faking up) two sample $C$ - these numbers could come from some natural process or from some measurements in the real-world (relating to humans or some other phenomenon) [7]"
   ]
  },
  {
   "cell_type": "code",
   "execution_count": 35,
   "id": "f8f6c0d3",
   "metadata": {
    "scrolled": true
   },
   "outputs": [
    {
     "data": {
      "text/plain": [
       "array([ 1.70174891,  0.61288402,  2.0051133 ,  0.96628755, -0.00915843,\n",
       "        0.73693422,  2.20525716,  1.56696669,  1.40186775,  1.85336037,\n",
       "        1.40507427,  1.50024873,  1.96813239,  0.75341878,  1.89621011,\n",
       "        1.55025957,  1.66965514,  1.0272092 ,  1.70768583,  1.12770516,\n",
       "        1.10267817,  1.50476579,  1.90343099,  1.72534059,  1.57967126,\n",
       "        0.89256022,  0.85512404,  0.8325804 ,  1.94017891,  1.79738222,\n",
       "        1.83273084,  1.84679204,  1.56466689,  1.13365967,  2.02375145,\n",
       "        2.23369109,  1.89331139,  1.66075825,  1.40954383,  1.54641143])"
      ]
     },
     "execution_count": 35,
     "metadata": {},
     "output_type": "execute_result"
    }
   ],
   "source": [
    "a # sample of population"
   ]
  },
  {
   "cell_type": "code",
   "execution_count": 36,
   "id": "589852e9",
   "metadata": {},
   "outputs": [
    {
     "data": {
      "text/plain": [
       "array([2.53678754, 2.09775496, 2.97465363, 2.14808628, 1.96222182,\n",
       "       2.9448971 , 1.48873795, 3.04778624, 1.7079949 , 3.00270243,\n",
       "       3.49548429, 1.93948673, 2.207565  , 2.0724542 , 2.67066742,\n",
       "       2.31060288, 2.65542203, 2.36757766, 1.52848837, 2.73285608,\n",
       "       2.86858014, 2.57117135, 2.92862387, 3.14773284, 2.59845802,\n",
       "       2.35133445, 1.9104097 , 2.58924041, 2.96046228, 2.61076071,\n",
       "       1.9541149 , 1.28579602, 2.29709967, 2.26008349, 2.67329983,\n",
       "       2.71705942, 1.88938534, 2.81468164, 2.64481578, 2.73754543])"
      ]
     },
     "execution_count": 36,
     "metadata": {},
     "output_type": "execute_result"
    }
   ],
   "source": [
    "b # sample of population"
   ]
  },
  {
   "cell_type": "markdown",
   "id": "555701a6",
   "metadata": {},
   "source": [
    "- if its not possible to see how nature generated them then the question would be is the $\\bar x$ (whatever these are in the natural process) the same for both $C$ [7]"
   ]
  },
  {
   "cell_type": "markdown",
   "id": "47b77c7c",
   "metadata": {},
   "source": [
    "- thus far specifying the $\\bar x$ points are different for the two $C$ (``Eq. (1)`` and ``Eq. (2)``) [7]"
   ]
  },
  {
   "cell_type": "code",
   "execution_count": 37,
   "id": "ce733a42",
   "metadata": {},
   "outputs": [
    {
     "data": {
      "text/plain": [
       "False"
      ]
     },
     "execution_count": 37,
     "metadata": {},
     "output_type": "execute_result"
    }
   ],
   "source": [
    "m_a==m_b"
   ]
  },
  {
   "cell_type": "markdown",
   "id": "17b3304e",
   "metadata": {},
   "source": [
    "- in the real-world the $C$ ``a`` could be a sample of the heights of women (Category ``A``) and the $C$ ``b`` could be a sample of the heights of males (Category ``B``) [7]"
   ]
  },
  {
   "cell_type": "markdown",
   "id": "d169c7da",
   "metadata": {},
   "source": [
    "- do these two $C$ now provide any evidence that maybe the $\\bar x$ male height is different than the $\\bar x$ female height [7]"
   ]
  },
  {
   "cell_type": "code",
   "execution_count": 38,
   "id": "65b71501",
   "metadata": {},
   "outputs": [
    {
     "data": {
      "text/html": [
       "<div>\n",
       "<style scoped>\n",
       "    .dataframe tbody tr th:only-of-type {\n",
       "        vertical-align: middle;\n",
       "    }\n",
       "\n",
       "    .dataframe tbody tr th {\n",
       "        vertical-align: top;\n",
       "    }\n",
       "\n",
       "    .dataframe thead th {\n",
       "        text-align: right;\n",
       "    }\n",
       "</style>\n",
       "<table border=\"1\" class=\"dataframe\">\n",
       "  <thead>\n",
       "    <tr style=\"text-align: right;\">\n",
       "      <th></th>\n",
       "      <th>Category</th>\n",
       "      <th>Value</th>\n",
       "    </tr>\n",
       "  </thead>\n",
       "  <tbody>\n",
       "    <tr>\n",
       "      <th>0</th>\n",
       "      <td>A</td>\n",
       "      <td>1.701749</td>\n",
       "    </tr>\n",
       "    <tr>\n",
       "      <th>1</th>\n",
       "      <td>A</td>\n",
       "      <td>0.612884</td>\n",
       "    </tr>\n",
       "    <tr>\n",
       "      <th>2</th>\n",
       "      <td>A</td>\n",
       "      <td>2.005113</td>\n",
       "    </tr>\n",
       "    <tr>\n",
       "      <th>3</th>\n",
       "      <td>A</td>\n",
       "      <td>0.966288</td>\n",
       "    </tr>\n",
       "    <tr>\n",
       "      <th>4</th>\n",
       "      <td>A</td>\n",
       "      <td>-0.009158</td>\n",
       "    </tr>\n",
       "    <tr>\n",
       "      <th>...</th>\n",
       "      <td>...</td>\n",
       "      <td>...</td>\n",
       "    </tr>\n",
       "    <tr>\n",
       "      <th>75</th>\n",
       "      <td>B</td>\n",
       "      <td>2.717059</td>\n",
       "    </tr>\n",
       "    <tr>\n",
       "      <th>76</th>\n",
       "      <td>B</td>\n",
       "      <td>1.889385</td>\n",
       "    </tr>\n",
       "    <tr>\n",
       "      <th>77</th>\n",
       "      <td>B</td>\n",
       "      <td>2.814682</td>\n",
       "    </tr>\n",
       "    <tr>\n",
       "      <th>78</th>\n",
       "      <td>B</td>\n",
       "      <td>2.644816</td>\n",
       "    </tr>\n",
       "    <tr>\n",
       "      <th>79</th>\n",
       "      <td>B</td>\n",
       "      <td>2.737545</td>\n",
       "    </tr>\n",
       "  </tbody>\n",
       "</table>\n",
       "<p>80 rows × 2 columns</p>\n",
       "</div>"
      ],
      "text/plain": [
       "   Category     Value\n",
       "0         A  1.701749\n",
       "1         A  0.612884\n",
       "2         A  2.005113\n",
       "3         A  0.966288\n",
       "4         A -0.009158\n",
       "..      ...       ...\n",
       "75        B  2.717059\n",
       "76        B  1.889385\n",
       "77        B  2.814682\n",
       "78        B  2.644816\n",
       "79        B  2.737545\n",
       "\n",
       "[80 rows x 2 columns]"
      ]
     },
     "execution_count": 38,
     "metadata": {},
     "output_type": "execute_result"
    }
   ],
   "source": [
    "df"
   ]
  },
  {
   "cell_type": "markdown",
   "id": "95bdd80d",
   "metadata": {},
   "source": [
    "<a id=\"dataStructurevisualisation\"></a>\n",
    "< [Table of Contents](#top) > < [Instructions](#instructions) > < [Abstract](#abstract) > < [Introduction](#introduction)&nbsp;&nbsp;:&nbsp;&nbsp;[Sampling](#introductionScenario)&nbsp;&nbsp;|&nbsp;&nbsp;[``scipy.stats``](#solutionttest)&nbsp;&nbsp;|&nbsp;&nbsp;[Multiple Samples](#solutionMultipleSamples) > < [Solution](#solution)&nbsp;&nbsp;:&nbsp;&nbsp;[``ANOVA``](#solutionANOVA)&nbsp;&nbsp;|&nbsp;&nbsp;[Flavors of Cacao](#solutionANOVAOnewayflavorsofcacao) > < [Conclusion](#conclusion) > < [References](#references) > < [Appendix](#appendix) >\n",
    "***\n",
    "###### Visualisation\n",
    "***"
   ]
  },
  {
   "cell_type": "markdown",
   "id": "6e97c50d",
   "metadata": {},
   "source": [
    "- the ``catplot`` shows that the $C$ ``a`` (Category ``A``) looks lower than the $C$ ``b`` (Category ``B``) albeit there is overlap between the blue and red dots [7]"
   ]
  },
  {
   "cell_type": "markdown",
   "id": "dd4e1b4c",
   "metadata": {},
   "source": [
    "- if making the assumption that the two $\\bar x$ points of each $C$ are the same (or the processes that they were generated from) then how likely is it to see all the red dots at the top right versus all the blue dots at the bottom left [7]"
   ]
  },
  {
   "cell_type": "markdown",
   "id": "23fa7375",
   "metadata": {},
   "source": [
    "- there is always a random chance of this occurring even when the two $C$ have the same (or generated from) $\\bar x$ [7]"
   ]
  },
  {
   "cell_type": "markdown",
   "id": "51743749",
   "metadata": {},
   "source": [
    "- the question is how likely is it and thats what the ``t-test`` aims to determine - does both $C$ differ in general enough to justify saying the $C$ ``a`` is different to the $C$ ``b`` [7]"
   ]
  },
  {
   "cell_type": "code",
   "execution_count": 39,
   "id": "b00b0f37",
   "metadata": {},
   "outputs": [
    {
     "name": "stdout",
     "output_type": "stream",
     "text": [
      "This function provides access to several axes-level functions that\n",
      "show the relationship between a numerical and one or more categorical\n",
      "variables using one of several visual representations. The ``kind``\n"
     ]
    }
   ],
   "source": [
    "print(\"\\n\".join(sns.catplot.__doc__.split(\"\\n\")[2:5])) # seaborn catplot overview"
   ]
  },
  {
   "cell_type": "code",
   "execution_count": 40,
   "id": "67998135",
   "metadata": {},
   "outputs": [
    {
     "data": {
      "image/png": "[encoded data removed]",
      "text/plain": [
       "<Figure size 360x360 with 1 Axes>"
      ]
     },
     "metadata": {},
     "output_type": "display_data"
    }
   ],
   "source": [
    "sns.catplot(x=\"Category\",y=\"Value\",jitter=False,data=df);"
   ]
  },
  {
   "cell_type": "markdown",
   "id": "8aa786dc",
   "metadata": {},
   "source": [
    "<a id=\"solutionttest\"></a>\n",
    "< [Table of Contents](#top) > < [Instructions](#instructions) > < [Abstract](#abstract) > < [Introduction](#introduction)&nbsp;&nbsp;:&nbsp;&nbsp;[Sampling](#introductionScenario)&nbsp;&nbsp;|&nbsp;&nbsp;[``scipy.stats``](#solutionttest)&nbsp;&nbsp;|&nbsp;&nbsp;[Multiple Samples](#solutionMultipleSamples) > < [Solution](#solution)&nbsp;&nbsp;:&nbsp;&nbsp;[``ANOVA``](#solutionANOVA)&nbsp;&nbsp;|&nbsp;&nbsp;[Flavors of Cacao](#solutionANOVAOnewayflavorsofcacao) > < [Conclusion](#conclusion) > < [References](#references) > < [Appendix](#appendix) >\n",
    "***\n",
    "###### ``scipy.stats``\n",
    "***"
   ]
  },
  {
   "cell_type": "code",
   "execution_count": 41,
   "id": "b5e0ee0a",
   "metadata": {},
   "outputs": [
    {
     "name": "stdout",
     "output_type": "stream",
     "text": [
      "This module contains a large number of probability distributions as\n",
      "well as a growing library of statistical functions.\n"
     ]
    }
   ],
   "source": [
    "print(\"\\n\".join(ss.__doc__.split(\"\\n\")[9:11])) # subpackage scipy.stats overview "
   ]
  },
  {
   "cell_type": "markdown",
   "id": "ebd1d014",
   "metadata": {},
   "source": [
    "<a id=\"solutionttestHypothesis\"></a>\n",
    "< [Table of Contents](#top) > < [Instructions](#instructions) > < [Abstract](#abstract) > < [Introduction](#introduction)&nbsp;&nbsp;:&nbsp;&nbsp;[Sampling](#introductionScenario)&nbsp;&nbsp;|&nbsp;&nbsp;[``scipy.stats``](#solutionttest)&nbsp;&nbsp;|&nbsp;&nbsp;[Multiple Samples](#solutionMultipleSamples) > < [Solution](#solution)&nbsp;&nbsp;:&nbsp;&nbsp;[``ANOVA``](#solutionANOVA)&nbsp;&nbsp;|&nbsp;&nbsp;[Flavors of Cacao](#solutionANOVAOnewayflavorsofcacao) > < [Conclusion](#conclusion) > < [References](#references) > < [Appendix](#appendix) >\n",
    "***\n",
    "###### Hypothesis\n",
    "***"
   ]
  },
  {
   "cell_type": "markdown",
   "id": "edf94fd5",
   "metadata": {},
   "source": [
    "- a hypothesis is an idea that can be tested [9] <a id=\"revert1\"></a>"
   ]
  },
  {
   "cell_type": "markdown",
   "id": "e96ab973",
   "metadata": {},
   "source": [
    "- the null hypothesis (hereafter denoted $H_0$) is the assumption to be tested and the alternative hypothesis (hereafter denoted $H_1$) being everything else [9] <a id=\"revert2\"></a>"
   ]
  },
  {
   "cell_type": "markdown",
   "id": "b4432e43",
   "metadata": {},
   "source": [
    "<a id=\"solutionttestTTest\"></a>\n",
    "< [Table of Contents](#top) > < [Instructions](#instructions) > < [Abstract](#abstract) > < [Introduction](#introduction)&nbsp;&nbsp;:&nbsp;&nbsp;[Sampling](#introductionScenario)&nbsp;&nbsp;|&nbsp;&nbsp;[``scipy.stats``](#solutionttest)&nbsp;&nbsp;|&nbsp;&nbsp;[Multiple Samples](#solutionMultipleSamples) > < [Solution](#solution)&nbsp;&nbsp;:&nbsp;&nbsp;[``ANOVA``](#solutionANOVA)&nbsp;&nbsp;|&nbsp;&nbsp;[Flavors of Cacao](#solutionANOVAOnewayflavorsofcacao) > < [Conclusion](#conclusion) > < [References](#references) > < [Appendix](#appendix) >\n",
    "***\n",
    "###### ``T-Test``\n",
    "***"
   ]
  },
  {
   "cell_type": "markdown",
   "id": "f5498d90",
   "metadata": {},
   "source": [
    "- the ``t-test`` is testing what is the probability (based on a few assumptions) that the distribution from which the two generated $C$ (``a`` and ``b``) had the same $\\bar x$ (capturing the ``p-value`` returned from package ``scipy`` subpackage ``stats``  function ``ttest_ind``) [4] <a id=\"revert6\"></a"
   ]
  },
  {
   "cell_type": "code",
   "execution_count": 42,
   "id": "ad8062e7",
   "metadata": {},
   "outputs": [
    {
     "name": "stdout",
     "output_type": "stream",
     "text": [
      "    This is a two-sided test for the null hypothesis that 2 independent samples\n",
      "    have identical average (expected) values. This test assumes that the\n",
      "    populations have identical variances by default.\n"
     ]
    }
   ],
   "source": [
    "print(\"\\n\".join(ss.ttest_ind.__doc__.split(\"\\n\")[3:6])) # function ttest_ind overview"
   ]
  },
  {
   "cell_type": "code",
   "execution_count": 43,
   "id": "29efe8f9",
   "metadata": {},
   "outputs": [
    {
     "name": "stdout",
     "output_type": "stream",
     "text": [
      "    Notes\n",
      "    -----\n",
      "    We can use this test, if we observe two independent samples from\n",
      "    the same or different population, e.g. exam scores of boys and\n",
      "    girls or of two ethnic groups. The test measures whether the\n",
      "    average (expected) value differs significantly across samples. If\n",
      "    we observe a large p-value, for example larger than 0.05 or 0.1,\n",
      "    then we cannot reject the null hypothesis of identical average scores.\n",
      "    If the p-value is smaller than the threshold, e.g. 1%, 5% or 10%,\n",
      "    then we reject the null hypothesis of equal averages.\n",
      "\n",
      "    References\n",
      "    ----------\n",
      "    .. [1] https://en.wikipedia.org/wiki/T-test#Independent_two-sample_t-test\n",
      "\n",
      "    .. [2] https://en.wikipedia.org/wiki/Welch%27s_t-test\n"
     ]
    }
   ],
   "source": [
    "print(\"\\n\".join(ss.ttest_ind.__doc__.split(\"\\n\")[46:62])) # function ttest_ind notes"
   ]
  },
  {
   "cell_type": "markdown",
   "id": "fbaa0c20",
   "metadata": {},
   "source": [
    "- the ($H_0$) by default is the assumption (hypothesis) that the $\\bar x$ of $C$ ``a`` is equal to the $\\bar x$ of $C$ ``b`` (not whether the mean of the $C$ ``a`` of size ``N`` is equal to the mean of the $C$ ``b`` of size ``N``) [10]"
   ]
  },
  {
   "cell_type": "markdown",
   "id": "a4e41dc9",
   "metadata": {},
   "source": [
    "- ``Eq. (4)`` represents the $H_0$ that the $\\bar x$ of $C$ ``a`` values (generated from a random sample of size ``N``) is equal to the $\\bar x$ of the $C$ ``b`` values (generated from a random sample of size ``N``) [10]"
   ]
  },
  {
   "cell_type": "markdown",
   "id": "57900a6b",
   "metadata": {},
   "source": [
    "$$H_0:\\bar x_a=\\bar x_b\\tag{4}$$"
   ]
  },
  {
   "cell_type": "markdown",
   "id": "154c798e",
   "metadata": {},
   "source": [
    "- the concept of the $H_0$ is similiar to being innocent until proven guilty ($H_0$ is true until rejected) - a researcher is trying to reject the status quo ($H_0$) and the alternative is to challenge the status quo ``(Eq. (5))`` [9]"
   ]
  },
  {
   "cell_type": "markdown",
   "id": "5765d0b7",
   "metadata": {},
   "source": [
    "$$H_1:\\bar x_a\\neq\\bar x_b\\tag{5}$$"
   ]
  },
  {
   "cell_type": "code",
   "execution_count": 44,
   "id": "7511ac85",
   "metadata": {},
   "outputs": [
    {
     "data": {
      "text/plain": [
       "<function scipy.stats.stats.ttest_ind(a, b, axis=0, equal_var=True, nan_policy='propagate', alternative='two-sided')>"
      ]
     },
     "execution_count": 44,
     "metadata": {},
     "output_type": "execute_result"
    }
   ],
   "source": [
    "ss.ttest_ind # function ttest_ind signature"
   ]
  },
  {
   "cell_type": "code",
   "execution_count": 45,
   "id": "780c83fb",
   "metadata": {},
   "outputs": [],
   "source": [
    "t_ss,p_ss=ss.ttest_ind(a=a,b=b) # returns statistic pvalue"
   ]
  },
  {
   "cell_type": "markdown",
   "id": "bdd527f9",
   "metadata": {},
   "source": [
    "- the calculation returns:\n",
    "\n",
    "i. the ``t-statistic`` or the ``t-value`` (does not have much meaning independently) [7] - a calculation based on the $C$ ``a`` values and the $C$ ``b`` values (includes other calculations) [10]"
   ]
  },
  {
   "cell_type": "code",
   "execution_count": 46,
   "id": "1e6aa7a8",
   "metadata": {},
   "outputs": [
    {
     "name": "stdout",
     "output_type": "stream",
     "text": [
      "    statistic : float or array\n",
      "        The calculated t-statistic.\n"
     ]
    }
   ],
   "source": [
    "print(\"\\n\".join(ss.ttest_ind.__doc__.split(\"\\n\")[41:43])) # return statistic overview"
   ]
  },
  {
   "cell_type": "code",
   "execution_count": 47,
   "id": "c1b6bc35",
   "metadata": {},
   "outputs": [
    {
     "data": {
      "text/plain": [
       "-8.765949958151909"
      ]
     },
     "execution_count": 47,
     "metadata": {},
     "output_type": "execute_result"
    }
   ],
   "source": [
    "t_ss"
   ]
  },
  {
   "cell_type": "markdown",
   "id": "309fe25a",
   "metadata": {},
   "source": [
    "ii. the ``p-value`` associated with the ``t-value`` (``t-statistic``) is the probability of observing the values from the two sample $C$ (``a`` and ``b``) under the assumption both $C$ have the same $\\bar x$ ``(Eq. (4))`` [10]"
   ]
  },
  {
   "cell_type": "code",
   "execution_count": 48,
   "id": "fcec3e7d",
   "metadata": {},
   "outputs": [
    {
     "name": "stdout",
     "output_type": "stream",
     "text": [
      "    pvalue : float or array\n",
      "        The two-tailed p-value.\n"
     ]
    }
   ],
   "source": [
    "print(\"\\n\".join(ss.ttest_ind.__doc__.split(\"\\n\")[43:45])) # return p-value overview"
   ]
  },
  {
   "cell_type": "code",
   "execution_count": 49,
   "id": "38e6a598",
   "metadata": {
    "scrolled": true
   },
   "outputs": [
    {
     "data": {
      "text/plain": [
       "3.071401587672142e-13"
      ]
     },
     "execution_count": 49,
     "metadata": {},
     "output_type": "execute_result"
    }
   ],
   "source": [
    "p_ss"
   ]
  },
  {
   "cell_type": "code",
   "execution_count": 50,
   "id": "f92eccd1",
   "metadata": {},
   "outputs": [
    {
     "data": {
      "text/plain": [
       "numpy.float64"
      ]
     },
     "execution_count": 50,
     "metadata": {},
     "output_type": "execute_result"
    }
   ],
   "source": [
    "type(p_ss) # result exponential notation"
   ]
  },
  {
   "cell_type": "code",
   "execution_count": 51,
   "id": "7fea8c3d",
   "metadata": {},
   "outputs": [
    {
     "data": {
      "text/plain": [
       "0"
      ]
     },
     "execution_count": 51,
     "metadata": {},
     "output_type": "execute_result"
    }
   ],
   "source": [
    "int(p_ss) # round out decimals"
   ]
  },
  {
   "cell_type": "markdown",
   "id": "3b505c32",
   "metadata": {},
   "source": [
    "- its typical to use a ``p-value`` cutoff of $0.05$ meaning there is a $5\\%$ chance of making the wrong decision [4]"
   ]
  },
  {
   "cell_type": "markdown",
   "id": "5e45c5c6",
   "metadata": {},
   "source": [
    "- the ``t-test`` is suggesting there is almost a $0\\%$ chance ($0.00$ probability) of observing both $C$ (``a`` and ``b``) having the same $\\bar x$ therefore rejecting the $H_0$ ``(Eq. (4))`` [4][7][10]"
   ]
  },
  {
   "cell_type": "code",
   "execution_count": 52,
   "id": "6df270b3",
   "metadata": {
    "scrolled": true
   },
   "outputs": [
    {
     "name": "stdout",
     "output_type": "stream",
     "text": [
      "0.00\n"
     ]
    }
   ],
   "source": [
    "print(f\"{p_ss:.02f}\") # round second decimal"
   ]
  },
  {
   "cell_type": "markdown",
   "id": "53016788",
   "metadata": {},
   "source": [
    "- there is sufficient evidence to suggest the numbers in the $C$ ``a`` are different from the numbers in the $C$ ``b`` (specifically the $\\bar x$ of the distribution they came from) [4]"
   ]
  },
  {
   "cell_type": "markdown",
   "id": "f422c986",
   "metadata": {},
   "source": [
    "- can identify the numbers in both $C$ are different by visually observing the categorical plot as done prior but now running the statistical test provides evidence that its reproducibly true [4] "
   ]
  },
  {
   "cell_type": "markdown",
   "id": "607ad8a8",
   "metadata": {},
   "source": [
    "- if the chance of seeing sample data like this is less than the typical ``p-value`` cutoff ($0.05$) based on the $H_0$ ``(Eq. (4))`` then can make the decision to reject the idea as its too unlikely [7]"
   ]
  },
  {
   "cell_type": "code",
   "execution_count": 53,
   "id": "18cf8720",
   "metadata": {
    "scrolled": false
   },
   "outputs": [
    {
     "data": {
      "image/png": "[encoded data removed]",
      "text/plain": [
       "<Figure size 360x360 with 1 Axes>"
      ]
     },
     "metadata": {},
     "output_type": "display_data"
    }
   ],
   "source": [
    "sns.catplot(x=\"Category\",y=\"Value\",jitter=False,data=df);"
   ]
  },
  {
   "cell_type": "markdown",
   "id": "f650a7b3",
   "metadata": {},
   "source": [
    "- now manipulating the simulation so that both $C$ centre around the same $\\bar x$ - gaming the system by making the ``Eq. (4)`` assumption true [4]"
   ]
  },
  {
   "cell_type": "code",
   "execution_count": 54,
   "id": "b05078e5",
   "metadata": {},
   "outputs": [
    {
     "data": {
      "text/plain": [
       "1.5"
      ]
     },
     "execution_count": 54,
     "metadata": {},
     "output_type": "execute_result"
    }
   ],
   "source": [
    "m_a"
   ]
  },
  {
   "cell_type": "code",
   "execution_count": 55,
   "id": "17d121d4",
   "metadata": {},
   "outputs": [],
   "source": [
    "m_b_same_m_a=m_a"
   ]
  },
  {
   "cell_type": "code",
   "execution_count": 56,
   "id": "900f0b81",
   "metadata": {},
   "outputs": [
    {
     "data": {
      "text/plain": [
       "1.5"
      ]
     },
     "execution_count": 56,
     "metadata": {},
     "output_type": "execute_result"
    }
   ],
   "source": [
    "m_b_same_m_a"
   ]
  },
  {
   "cell_type": "code",
   "execution_count": 57,
   "id": "8baf7b07",
   "metadata": {},
   "outputs": [],
   "source": [
    "b_m_a=np.random.normal(loc=m_b_same_m_a,scale=s_b,size=N) # collection same mean"
   ]
  },
  {
   "cell_type": "code",
   "execution_count": 58,
   "id": "3079b2e2",
   "metadata": {},
   "outputs": [],
   "source": [
    "df_b_m_a=pd.DataFrame(data={\"Category\":[\"A\"]*len(a)+[\"B\"]*len(b_m_a),\"Value\":np.hstack([a,b_m_a])}) # new DataFrame object"
   ]
  },
  {
   "cell_type": "code",
   "execution_count": 59,
   "id": "87c0c9a1",
   "metadata": {},
   "outputs": [
    {
     "data": {
      "text/html": [
       "<div>\n",
       "<style scoped>\n",
       "    .dataframe tbody tr th:only-of-type {\n",
       "        vertical-align: middle;\n",
       "    }\n",
       "\n",
       "    .dataframe tbody tr th {\n",
       "        vertical-align: top;\n",
       "    }\n",
       "\n",
       "    .dataframe thead th {\n",
       "        text-align: right;\n",
       "    }\n",
       "</style>\n",
       "<table border=\"1\" class=\"dataframe\">\n",
       "  <thead>\n",
       "    <tr style=\"text-align: right;\">\n",
       "      <th></th>\n",
       "      <th>Category</th>\n",
       "      <th>Value</th>\n",
       "    </tr>\n",
       "  </thead>\n",
       "  <tbody>\n",
       "    <tr>\n",
       "      <th>0</th>\n",
       "      <td>A</td>\n",
       "      <td>1.701749</td>\n",
       "    </tr>\n",
       "    <tr>\n",
       "      <th>1</th>\n",
       "      <td>A</td>\n",
       "      <td>0.612884</td>\n",
       "    </tr>\n",
       "    <tr>\n",
       "      <th>2</th>\n",
       "      <td>A</td>\n",
       "      <td>2.005113</td>\n",
       "    </tr>\n",
       "    <tr>\n",
       "      <th>3</th>\n",
       "      <td>A</td>\n",
       "      <td>0.966288</td>\n",
       "    </tr>\n",
       "    <tr>\n",
       "      <th>4</th>\n",
       "      <td>A</td>\n",
       "      <td>-0.009158</td>\n",
       "    </tr>\n",
       "    <tr>\n",
       "      <th>...</th>\n",
       "      <td>...</td>\n",
       "      <td>...</td>\n",
       "    </tr>\n",
       "    <tr>\n",
       "      <th>75</th>\n",
       "      <td>B</td>\n",
       "      <td>0.999402</td>\n",
       "    </tr>\n",
       "    <tr>\n",
       "      <th>76</th>\n",
       "      <td>B</td>\n",
       "      <td>1.968437</td>\n",
       "    </tr>\n",
       "    <tr>\n",
       "      <th>77</th>\n",
       "      <td>B</td>\n",
       "      <td>1.287429</td>\n",
       "    </tr>\n",
       "    <tr>\n",
       "      <th>78</th>\n",
       "      <td>B</td>\n",
       "      <td>1.247946</td>\n",
       "    </tr>\n",
       "    <tr>\n",
       "      <th>79</th>\n",
       "      <td>B</td>\n",
       "      <td>1.985513</td>\n",
       "    </tr>\n",
       "  </tbody>\n",
       "</table>\n",
       "<p>80 rows × 2 columns</p>\n",
       "</div>"
      ],
      "text/plain": [
       "   Category     Value\n",
       "0         A  1.701749\n",
       "1         A  0.612884\n",
       "2         A  2.005113\n",
       "3         A  0.966288\n",
       "4         A -0.009158\n",
       "..      ...       ...\n",
       "75        B  0.999402\n",
       "76        B  1.968437\n",
       "77        B  1.287429\n",
       "78        B  1.247946\n",
       "79        B  1.985513\n",
       "\n",
       "[80 rows x 2 columns]"
      ]
     },
     "execution_count": 59,
     "metadata": {},
     "output_type": "execute_result"
    }
   ],
   "source": [
    "df_b_m_a"
   ]
  },
  {
   "cell_type": "markdown",
   "id": "6bb061cc",
   "metadata": {},
   "source": [
    "- the ``t-test`` now suggests there is a probability greater than the ``p-value`` of observing both $C$ (``a`` and ``b``) sample values having the same $\\bar x$ therefore accepting the $H_0$ ``(Eq. (4))`` [4][7][10]"
   ]
  },
  {
   "cell_type": "code",
   "execution_count": 60,
   "id": "32e7dd71",
   "metadata": {},
   "outputs": [
    {
     "name": "stdout",
     "output_type": "stream",
     "text": [
      "0.21% probability (2% chance)\n"
     ]
    }
   ],
   "source": [
    "t_ss,p_ss=ss.ttest_ind(a=a,b=b_m_a)\n",
    "print(f\"{p_ss:0.2f}% probability ({p_ss*10:.0f}% chance)\") # typical cutoff 0.05"
   ]
  },
  {
   "cell_type": "markdown",
   "id": "e0862208",
   "metadata": {},
   "source": [
    "- on the new categorical plot (minds eye) looks like one $C$ is a little bit higher than the other but they are not and its important to note this is just random chance [4]"
   ]
  },
  {
   "cell_type": "markdown",
   "id": "405b87d3",
   "metadata": {},
   "source": [
    "- if the chance of seeing sample data like this is greater than the typical ``p-value`` cutoff ($0.05$) based on the $H_0$ ``(Eq. (4))`` then can make the decision to accept the idea both populations are of the same mean [7] <a id=\"revert4\"></a>"
   ]
  },
  {
   "cell_type": "code",
   "execution_count": 61,
   "id": "5b37f85d",
   "metadata": {},
   "outputs": [
    {
     "data": {
      "image/png": "[encoded data removed]",
      "text/plain": [
       "<Figure size 360x360 with 1 Axes>"
      ]
     },
     "metadata": {},
     "output_type": "display_data"
    }
   ],
   "source": [
    "sns.catplot(x=\"Category\",y=\"Value\",jitter=False,data=df_b_m_a);"
   ]
  },
  {
   "cell_type": "markdown",
   "id": "b6d56797",
   "metadata": {},
   "source": [
    "<a id=\"solutionttestintuitionVisualisation\"></a>\n",
    "< [Table of Contents](#top) > < [Instructions](#instructions) > < [Abstract](#abstract) > < [Introduction](#introduction)&nbsp;&nbsp;:&nbsp;&nbsp;[Sampling](#introductionScenario)&nbsp;&nbsp;|&nbsp;&nbsp;[``scipy.stats``](#solutionttest)&nbsp;&nbsp;|&nbsp;&nbsp;[Multiple Samples](#solutionMultipleSamples) > < [Solution](#solution)&nbsp;&nbsp;:&nbsp;&nbsp;[``ANOVA``](#solutionANOVA)&nbsp;&nbsp;|&nbsp;&nbsp;[Flavors of Cacao](#solutionANOVAOnewayflavorsofcacao) > < [Conclusion](#conclusion) > < [References](#references) > < [Appendix](#appendix) >\n",
    "***\n",
    "###### Visualisation\n",
    "***"
   ]
  },
  {
   "cell_type": "markdown",
   "id": "c7ad5833",
   "metadata": {},
   "source": [
    "- visualising the populations with the assumption the two sample $C$ (``a`` and ``b``) are bell-shaped curves (from the outset these curves are not available but are imagined to exist) [7]"
   ]
  },
  {
   "cell_type": "markdown",
   "id": "ad41c2e9",
   "metadata": {},
   "source": [
    "- available only are the numbers from both $C$ therefore the ``t-test`` is asking does the ``a`` curve coincide with the ``b`` curve (are the two $\\bar x$ points the same or separated) [7]"
   ]
  },
  {
   "cell_type": "code",
   "execution_count": 62,
   "id": "d02147a1",
   "metadata": {},
   "outputs": [
    {
     "name": "stdout",
     "output_type": "stream",
     "text": [
      "    Return evenly spaced numbers over a specified interval.\n"
     ]
    }
   ],
   "source": [
    "print(\"\\n\".join(np.linspace.__doc__.split(\"\\n\")[1:2])) # function linspace overview"
   ]
  },
  {
   "cell_type": "code",
   "execution_count": 63,
   "id": "21a29c4f",
   "metadata": {},
   "outputs": [],
   "source": [
    "x=np.linspace(start=-2,stop=4,num=1000) # RV uniformly distributed"
   ]
  },
  {
   "cell_type": "code",
   "execution_count": 64,
   "id": "977c21f0",
   "metadata": {},
   "outputs": [
    {
     "name": "stdout",
     "output_type": "stream",
     "text": [
      "        Probability density function at x of the given RV.\n"
     ]
    }
   ],
   "source": [
    "print(\"\\n\".join(ss.norm.pdf.__doc__.split(\"\\n\")[1:2])) # function pdf overview"
   ]
  },
  {
   "cell_type": "markdown",
   "id": "7753d497",
   "metadata": {},
   "source": [
    "- the blue curve represents the way in which the numbers in the $C$ ``a`` are generated (as expected are very high around the $\\bar x$) [5]"
   ]
  },
  {
   "cell_type": "markdown",
   "id": "baa1e4d7",
   "metadata": {},
   "source": [
    "- it is very close to the $0$ point on the x-axis for numbers less than appropriately $0$ or greater than appropriately $3.0$ and stays above the line out to infinity in the positive direction and negative direction (hugging the x-axis when compared to its $\\bar x$ height) [5]"
   ]
  },
  {
   "cell_type": "markdown",
   "id": "b85903f9",
   "metadata": {},
   "source": [
    "- the curve (population ``a`` ) represents how unlikely it is to see certain values (within certain ranges) - represents the uncertainty (probability density function - ``PDF``) when generating the $C$ [5]"
   ]
  },
  {
   "cell_type": "code",
   "execution_count": 65,
   "id": "0ab3a909",
   "metadata": {},
   "outputs": [],
   "source": [
    "y_a=ss.norm.pdf(x=x,loc=m_a,scale=s_a)"
   ]
  },
  {
   "cell_type": "code",
   "execution_count": 66,
   "id": "5b862558",
   "metadata": {},
   "outputs": [
    {
     "data": {
      "image/png": "[encoded data removed]",
      "text/plain": [
       "<Figure size 921.6x518.4 with 1 Axes>"
      ]
     },
     "metadata": {},
     "output_type": "display_data"
    }
   ],
   "source": [
    "fig_a_not_b,ax=plt.subplots()\n",
    "ax.set_title(\"Probability Density Function (\"+r\"$a$\"+\") - Uncertainty\")\n",
    "ax.plot(x,y_a,color=\"b\",label=r\"$\\bar{a}$\"+f\" = {m_a}\")\n",
    "ax.fill_between(x=x,y1=y_a,color=\"b\",alpha=0.2,label=r\"$Population: a$\")\n",
    "ax.set_xlabel(\"Spread (\"+r\"$\\bar{x}$\"+\")\")\n",
    "ax.set_ylabel(\"Generated Random Numbers\")\n",
    "ax.legend();"
   ]
  },
  {
   "cell_type": "markdown",
   "id": "60d8dfe2",
   "metadata": {},
   "source": [
    "- the histogram represents the sample from the population ``a`` and closely minics the population - inferring something about the population (underlying process generating the numbers) based on the histogram only because the population is unknown (cannot observe) [7]"
   ]
  },
  {
   "cell_type": "code",
   "execution_count": 67,
   "id": "bb3f5541",
   "metadata": {},
   "outputs": [],
   "source": [
    "ax.hist(x=a,density=True,color=\"b\",alpha=0.5,label=\"Sample: \"+r\"$a$\") # x-axis chop bins\n",
    "ax.legend();"
   ]
  },
  {
   "cell_type": "code",
   "execution_count": 68,
   "id": "83a319df",
   "metadata": {
    "scrolled": false
   },
   "outputs": [
    {
     "data": {
      "image/png": "[encoded data removed]",
      "text/plain": [
       "<Figure size 921.6x518.4 with 1 Axes>"
      ]
     },
     "execution_count": 68,
     "metadata": {},
     "output_type": "execute_result"
    }
   ],
   "source": [
    "fig_a_not_b"
   ]
  },
  {
   "cell_type": "markdown",
   "id": "59be3acf",
   "metadata": {},
   "source": [
    "- the red dotted curve represents the uncertainty (``PDF``) when generating numbers in the $C$ ``b`` [5] and the histogram represents the sample from the population ``b`` [7]"
   ]
  },
  {
   "cell_type": "code",
   "execution_count": 69,
   "id": "f1b98616",
   "metadata": {},
   "outputs": [],
   "source": [
    "y_b=ss.norm.pdf(x=x,loc=m_b,scale=s_b)"
   ]
  },
  {
   "cell_type": "code",
   "execution_count": 70,
   "id": "c1872b2f",
   "metadata": {},
   "outputs": [],
   "source": [
    "ax.set_title(\"Probability Density Function (\"+r\"$a$\"+\" & \"+r\"$b$\"+\") - Uncertainty\")\n",
    "ax.plot(x,y_b,\"r:\",label=r\"$\\bar{b}$\"+f\" = {m_b}\")\n",
    "ax.fill_between(x=x,y1=y_b,color=\"r\",alpha=0.2,label=\"Population: \"+r\"$b$\")\n",
    "ax.hist(x=b,density=True,color=\"r\",alpha=0.5,label=\"Sample: \"+r\"$b$\")\n",
    "ax.legend();"
   ]
  },
  {
   "cell_type": "code",
   "execution_count": 71,
   "id": "dc460ae8",
   "metadata": {},
   "outputs": [
    {
     "data": {
      "image/png": "[encoded data removed]",
      "text/plain": [
       "<Figure size 921.6x518.4 with 1 Axes>"
      ]
     },
     "execution_count": 71,
     "metadata": {},
     "output_type": "execute_result"
    }
   ],
   "source": [
    "fig_a_not_b"
   ]
  },
  {
   "cell_type": "markdown",
   "id": "2e0fae7c",
   "metadata": {},
   "source": [
    "- in the real world this kind of randomness occurs very frequently - if measuring the heights of men in Ireland would probably find there is an average height number (probably $1.6$ or $1.8$ metres) [5]"
   ]
  },
  {
   "cell_type": "markdown",
   "id": "337985dc",
   "metadata": {},
   "source": [
    "- its very likely to observe a height of around $1.7$ and very unlikely to observe a height of around $2.5$ (equally unlikely to observe a height of around $0.5$) but these two extremes do exist [5]"
   ]
  },
  {
   "cell_type": "markdown",
   "id": "cd3a066d",
   "metadata": {},
   "source": [
    "- the blue and (dotted) red curves represents a different type of randomness when compared with picking a number between $[1,10]$ which is a uniform distribution (every value is likely) [5]"
   ]
  },
  {
   "cell_type": "markdown",
   "id": "38fe022e",
   "metadata": {},
   "source": [
    "- its important to note that in the real world the blue and (dotted) red lines are unknown (making the assumption these are nice bell-shaped curves) in addition not knowing where the tip of each of the two curves are [5]"
   ]
  },
  {
   "cell_type": "markdown",
   "id": "f9377baa",
   "metadata": {},
   "source": [
    "- the ``t-test`` is checking (questions) if the tip of both curves are at the same point or not and thus far gamed the system (created a fake dataset) knowing both sample $C$ are different [5]"
   ]
  },
  {
   "cell_type": "code",
   "execution_count": 72,
   "id": "485e75bb",
   "metadata": {},
   "outputs": [
    {
     "data": {
      "image/png": "[encoded data removed]",
      "text/plain": [
       "<Figure size 921.6x518.4 with 1 Axes>"
      ]
     },
     "execution_count": 72,
     "metadata": {},
     "output_type": "execute_result"
    }
   ],
   "source": [
    "fig_a_not_b # both clearly different"
   ]
  },
  {
   "cell_type": "markdown",
   "id": "1e02762c",
   "metadata": {},
   "source": [
    "- now manipulating the simulation so that both $C$ centre around the same $\\bar x$ - gaming the system by making the ``Eq. (4)`` assumption true [4]"
   ]
  },
  {
   "cell_type": "code",
   "execution_count": 73,
   "id": "5d8b1bb6",
   "metadata": {},
   "outputs": [
    {
     "data": {
      "text/plain": [
       "1.5"
      ]
     },
     "execution_count": 73,
     "metadata": {},
     "output_type": "execute_result"
    }
   ],
   "source": [
    "m_a"
   ]
  },
  {
   "cell_type": "code",
   "execution_count": 74,
   "id": "84c79e33",
   "metadata": {},
   "outputs": [
    {
     "data": {
      "text/plain": [
       "1.5"
      ]
     },
     "execution_count": 74,
     "metadata": {},
     "output_type": "execute_result"
    }
   ],
   "source": [
    "m_b_same_m_a"
   ]
  },
  {
   "cell_type": "markdown",
   "id": "c01f2a28",
   "metadata": {},
   "source": [
    "- checking to see if they are the same or if there is any evidence that they are not the same (checking if the tips of the curves are the same or not) [5]"
   ]
  },
  {
   "cell_type": "code",
   "execution_count": 75,
   "id": "c9d779b0",
   "metadata": {},
   "outputs": [],
   "source": [
    "y_b=ss.norm.pdf(x=x,loc=m_b_same_m_a,scale=s_b)"
   ]
  },
  {
   "cell_type": "code",
   "execution_count": 76,
   "id": "ee63c119",
   "metadata": {},
   "outputs": [
    {
     "data": {
      "image/png": "[encoded data removed]",
      "text/plain": [
       "<Figure size 921.6x518.4 with 1 Axes>"
      ]
     },
     "metadata": {},
     "output_type": "display_data"
    }
   ],
   "source": [
    "fig_a_tip_b,ax=plt.subplots()\n",
    "ax.set_title(\"Probability Density Function (\"+r\"$a$\"+\" & \"+r\"$b$\"+\") - Uncertainty\")\n",
    "ax.plot(x,y_a,color=\"b\",label=r\"$\\bar{a}$\"+f\" = {m_a}\")\n",
    "ax.plot(x,y_b,\"r:\",label=r\"$\\bar{b}$\"+f\" = {m_b_same_m_a}\")\n",
    "ax.set_xlabel(\"Spread (\"+r\"$\\bar{x}$\"+\")\")\n",
    "ax.set_ylabel(\"Generated Random Numbers\")\n",
    "ax.legend();"
   ]
  },
  {
   "cell_type": "markdown",
   "id": "2c70e88a",
   "metadata": {},
   "source": [
    "- a different way of asking the ``t-test`` question is if the $\\bar x$ of the $C$ ``a`` (blue) is substacted away from the the $\\bar x$ of the $C$ ``b`` (dotted red) then is the result $0$ or not [5]"
   ]
  },
  {
   "cell_type": "code",
   "execution_count": 77,
   "id": "784b07f7",
   "metadata": {},
   "outputs": [
    {
     "data": {
      "text/plain": [
       "False"
      ]
     },
     "execution_count": 77,
     "metadata": {},
     "output_type": "execute_result"
    }
   ],
   "source": [
    "m_a-m_b==0 # different mean point"
   ]
  },
  {
   "cell_type": "code",
   "execution_count": 78,
   "id": "0b0ef6c6",
   "metadata": {},
   "outputs": [
    {
     "data": {
      "image/png": "[encoded data removed]",
      "text/plain": [
       "<Figure size 921.6x518.4 with 1 Axes>"
      ]
     },
     "execution_count": 78,
     "metadata": {},
     "output_type": "execute_result"
    }
   ],
   "source": [
    "fig_a_not_b # result not zero"
   ]
  },
  {
   "cell_type": "code",
   "execution_count": 79,
   "id": "a1e793d6",
   "metadata": {},
   "outputs": [
    {
     "data": {
      "text/plain": [
       "True"
      ]
     },
     "execution_count": 79,
     "metadata": {},
     "output_type": "execute_result"
    }
   ],
   "source": [
    "m_a==m_b_same_m_a # same mean point"
   ]
  },
  {
   "cell_type": "code",
   "execution_count": 80,
   "id": "46d1825d",
   "metadata": {},
   "outputs": [
    {
     "data": {
      "image/png": "[encoded data removed]",
      "text/plain": [
       "<Figure size 921.6x518.4 with 1 Axes>"
      ]
     },
     "execution_count": 80,
     "metadata": {},
     "output_type": "execute_result"
    }
   ],
   "source": [
    "fig_a_tip_b # tip result zero"
   ]
  },
  {
   "cell_type": "markdown",
   "id": "6080ec67",
   "metadata": {},
   "source": [
    "- essentially this is what the ``t-test`` is doing (end up with a ``t-distribution``) and looks like the normal distribution but is actually a ``t-curve`` based on ``degrees of freedom`` (``dof``) [7]"
   ]
  },
  {
   "cell_type": "code",
   "execution_count": 81,
   "id": "c6490c48",
   "metadata": {},
   "outputs": [],
   "source": [
    "dof=len(a)+len(b)-2 # not returned stats"
   ]
  },
  {
   "cell_type": "code",
   "execution_count": 82,
   "id": "b5e0d548",
   "metadata": {},
   "outputs": [
    {
     "data": {
      "text/plain": [
       "78"
      ]
     },
     "execution_count": 82,
     "metadata": {},
     "output_type": "execute_result"
    }
   ],
   "source": [
    "dof # degrees of freedom"
   ]
  },
  {
   "cell_type": "markdown",
   "id": "7622697f",
   "metadata": {},
   "source": [
    "- randomly selecting samples ($C$ ``a`` and $C$ ``b``) then doing a ``t-test`` on both results in a ``t-value`` (``t-statistic``) [5]"
   ]
  },
  {
   "cell_type": "markdown",
   "id": "9d0cd92d",
   "metadata": {},
   "source": [
    "- assuming ``Eq. (4)``is true (blue curve and red curve coincide) then what is the chance of seeing such data [5]"
   ]
  },
  {
   "cell_type": "code",
   "execution_count": 83,
   "id": "dc320c38",
   "metadata": {},
   "outputs": [
    {
     "data": {
      "image/png": "[encoded data removed]",
      "text/plain": [
       "<Figure size 360x360 with 1 Axes>"
      ]
     },
     "metadata": {},
     "output_type": "display_data"
    }
   ],
   "source": [
    "sns.catplot(x=\"Category\",y=\"Value\",jitter=False,data=df_b_m_a);"
   ]
  },
  {
   "cell_type": "markdown",
   "id": "b90b2267",
   "metadata": {},
   "source": [
    "- the data looks very different when plot (coincide) [5]"
   ]
  },
  {
   "cell_type": "code",
   "execution_count": 84,
   "id": "843c764a",
   "metadata": {},
   "outputs": [
    {
     "data": {
      "image/png": "[encoded data removed]",
      "text/plain": [
       "<Figure size 921.6x518.4 with 1 Axes>"
      ]
     },
     "execution_count": 84,
     "metadata": {},
     "output_type": "execute_result"
    }
   ],
   "source": [
    "fig_a_tip_b"
   ]
  },
  {
   "cell_type": "markdown",
   "id": "98ed9b05",
   "metadata": {},
   "source": [
    "<a id=\"solutionDifferentQuestionttestCriticalValues\"></a>\n",
    "< [Table of Contents](#top) > < [Instructions](#instructions) > < [Abstract](#abstract) > < [Introduction](#introduction)&nbsp;&nbsp;:&nbsp;&nbsp;[Sampling](#introductionScenario)&nbsp;&nbsp;|&nbsp;&nbsp;[``scipy.stats``](#solutionttest)&nbsp;&nbsp;|&nbsp;&nbsp;[Multiple Samples](#solutionMultipleSamples) > < [Solution](#solution)&nbsp;&nbsp;:&nbsp;&nbsp;[``ANOVA``](#solutionANOVA)&nbsp;&nbsp;|&nbsp;&nbsp;[Flavors of Cacao](#solutionANOVAOnewayflavorsofcacao) > < [Conclusion](#conclusion) > < [References](#references) > < [Appendix](#appendix) >\n",
    "***\n",
    "###### Statistic\n",
    "***"
   ]
  },
  {
   "cell_type": "markdown",
   "id": "67504bdc",
   "metadata": {},
   "source": [
    "- when $C$ (``a`` and ``b``) are overlapping (same $\\bar x$) and calculating the ``t-statistic`` (``t-value``) with repeated samples of size ``a`` and ``b`` (same curves) then performing visualisation the most likely ``t-value`` (``t-statistic``) are bunched at $0$ [7]"
   ]
  },
  {
   "cell_type": "markdown",
   "id": "9a624aaf",
   "metadata": {},
   "source": [
    "- might by random chance see extreme numbers of the ``t-statistic`` (``t-value``) albeit it never goes down to $0$ (just gets closer and closer to the x-axis) [7] <a id=\"revert5\"></a>"
   ]
  },
  {
   "cell_type": "code",
   "execution_count": 85,
   "id": "340b9187",
   "metadata": {},
   "outputs": [],
   "source": [
    "x_t=np.linspace(start=-4.0,stop=4.0,num=1000)"
   ]
  },
  {
   "cell_type": "code",
   "execution_count": 86,
   "id": "d8b6da08",
   "metadata": {},
   "outputs": [
    {
     "name": "stdout",
     "output_type": "stream",
     "text": [
      "A Student's t continuous random variable.\n"
     ]
    }
   ],
   "source": [
    "print(\"\\n\".join(ss.t.__doc__.split(\"\\n\")[:1]))"
   ]
  },
  {
   "cell_type": "code",
   "execution_count": 87,
   "id": "70ca0b0f",
   "metadata": {},
   "outputs": [
    {
     "name": "stdout",
     "output_type": "stream",
     "text": [
      "        Probability density function at x of the given RV.\n"
     ]
    }
   ],
   "source": [
    "print(\"\\n\".join(ss.t.pdf.__doc__.split(\"\\n\")[1:2]))"
   ]
  },
  {
   "cell_type": "code",
   "execution_count": 88,
   "id": "729afe49",
   "metadata": {},
   "outputs": [],
   "source": [
    "t=ss.t.pdf(x_t,dof)"
   ]
  },
  {
   "cell_type": "code",
   "execution_count": 89,
   "id": "eed31405",
   "metadata": {},
   "outputs": [],
   "source": [
    "tf=pd.DataFrame({\"x\":x_t,\"t\":t})"
   ]
  },
  {
   "cell_type": "code",
   "execution_count": 90,
   "id": "a8d0ddaf",
   "metadata": {},
   "outputs": [
    {
     "data": {
      "text/html": [
       "<div>\n",
       "<style scoped>\n",
       "    .dataframe tbody tr th:only-of-type {\n",
       "        vertical-align: middle;\n",
       "    }\n",
       "\n",
       "    .dataframe tbody tr th {\n",
       "        vertical-align: top;\n",
       "    }\n",
       "\n",
       "    .dataframe thead th {\n",
       "        text-align: right;\n",
       "    }\n",
       "</style>\n",
       "<table border=\"1\" class=\"dataframe\">\n",
       "  <thead>\n",
       "    <tr style=\"text-align: right;\">\n",
       "      <th></th>\n",
       "      <th>x</th>\n",
       "      <th>t</th>\n",
       "    </tr>\n",
       "  </thead>\n",
       "  <tbody>\n",
       "    <tr>\n",
       "      <th>0</th>\n",
       "      <td>-4.000000</td>\n",
       "      <td>0.000250</td>\n",
       "    </tr>\n",
       "    <tr>\n",
       "      <th>1</th>\n",
       "      <td>-3.991992</td>\n",
       "      <td>0.000257</td>\n",
       "    </tr>\n",
       "    <tr>\n",
       "      <th>2</th>\n",
       "      <td>-3.983984</td>\n",
       "      <td>0.000264</td>\n",
       "    </tr>\n",
       "    <tr>\n",
       "      <th>3</th>\n",
       "      <td>-3.975976</td>\n",
       "      <td>0.000271</td>\n",
       "    </tr>\n",
       "    <tr>\n",
       "      <th>4</th>\n",
       "      <td>-3.967968</td>\n",
       "      <td>0.000279</td>\n",
       "    </tr>\n",
       "    <tr>\n",
       "      <th>...</th>\n",
       "      <td>...</td>\n",
       "      <td>...</td>\n",
       "    </tr>\n",
       "    <tr>\n",
       "      <th>995</th>\n",
       "      <td>3.967968</td>\n",
       "      <td>0.000279</td>\n",
       "    </tr>\n",
       "    <tr>\n",
       "      <th>996</th>\n",
       "      <td>3.975976</td>\n",
       "      <td>0.000271</td>\n",
       "    </tr>\n",
       "    <tr>\n",
       "      <th>997</th>\n",
       "      <td>3.983984</td>\n",
       "      <td>0.000264</td>\n",
       "    </tr>\n",
       "    <tr>\n",
       "      <th>998</th>\n",
       "      <td>3.991992</td>\n",
       "      <td>0.000257</td>\n",
       "    </tr>\n",
       "    <tr>\n",
       "      <th>999</th>\n",
       "      <td>4.000000</td>\n",
       "      <td>0.000250</td>\n",
       "    </tr>\n",
       "  </tbody>\n",
       "</table>\n",
       "<p>1000 rows × 2 columns</p>\n",
       "</div>"
      ],
      "text/plain": [
       "            x         t\n",
       "0   -4.000000  0.000250\n",
       "1   -3.991992  0.000257\n",
       "2   -3.983984  0.000264\n",
       "3   -3.975976  0.000271\n",
       "4   -3.967968  0.000279\n",
       "..        ...       ...\n",
       "995  3.967968  0.000279\n",
       "996  3.975976  0.000271\n",
       "997  3.983984  0.000264\n",
       "998  3.991992  0.000257\n",
       "999  4.000000  0.000250\n",
       "\n",
       "[1000 rows x 2 columns]"
      ]
     },
     "execution_count": 90,
     "metadata": {},
     "output_type": "execute_result"
    }
   ],
   "source": [
    "tf"
   ]
  },
  {
   "cell_type": "code",
   "execution_count": 91,
   "id": "5879613c",
   "metadata": {},
   "outputs": [
    {
     "name": "stdout",
     "output_type": "stream",
     "text": [
      "        Percent point function (inverse of `cdf`) at q of the given RV.\n"
     ]
    }
   ],
   "source": [
    "print(\"\\n\".join(ss.t.ppf.__doc__.split(\"\\n\")[1:2]))"
   ]
  },
  {
   "cell_type": "code",
   "execution_count": 92,
   "id": "71b80b1f",
   "metadata": {
    "scrolled": false
   },
   "outputs": [],
   "source": [
    "tcrit=abs(ss.t.ppf(0.025,dof))"
   ]
  },
  {
   "cell_type": "code",
   "execution_count": 93,
   "id": "4d73a502",
   "metadata": {},
   "outputs": [
    {
     "data": {
      "text/plain": [
       "1.9908470685550523"
      ]
     },
     "execution_count": 93,
     "metadata": {},
     "output_type": "execute_result"
    }
   ],
   "source": [
    "tcrit"
   ]
  },
  {
   "cell_type": "code",
   "execution_count": 94,
   "id": "75546e70",
   "metadata": {},
   "outputs": [],
   "source": [
    "one=tf[tf[\"x\"]>=tcrit]"
   ]
  },
  {
   "cell_type": "code",
   "execution_count": 95,
   "id": "dda9b2fe",
   "metadata": {},
   "outputs": [
    {
     "data": {
      "text/html": [
       "<div>\n",
       "<style scoped>\n",
       "    .dataframe tbody tr th:only-of-type {\n",
       "        vertical-align: middle;\n",
       "    }\n",
       "\n",
       "    .dataframe tbody tr th {\n",
       "        vertical-align: top;\n",
       "    }\n",
       "\n",
       "    .dataframe thead th {\n",
       "        text-align: right;\n",
       "    }\n",
       "</style>\n",
       "<table border=\"1\" class=\"dataframe\">\n",
       "  <thead>\n",
       "    <tr style=\"text-align: right;\">\n",
       "      <th></th>\n",
       "      <th>x</th>\n",
       "      <th>t</th>\n",
       "    </tr>\n",
       "  </thead>\n",
       "  <tbody>\n",
       "    <tr>\n",
       "      <th>749</th>\n",
       "      <td>1.997998</td>\n",
       "      <td>0.055371</td>\n",
       "    </tr>\n",
       "    <tr>\n",
       "      <th>750</th>\n",
       "      <td>2.006006</td>\n",
       "      <td>0.054522</td>\n",
       "    </tr>\n",
       "    <tr>\n",
       "      <th>751</th>\n",
       "      <td>2.014014</td>\n",
       "      <td>0.053684</td>\n",
       "    </tr>\n",
       "    <tr>\n",
       "      <th>752</th>\n",
       "      <td>2.022022</td>\n",
       "      <td>0.052855</td>\n",
       "    </tr>\n",
       "    <tr>\n",
       "      <th>753</th>\n",
       "      <td>2.030030</td>\n",
       "      <td>0.052037</td>\n",
       "    </tr>\n",
       "    <tr>\n",
       "      <th>...</th>\n",
       "      <td>...</td>\n",
       "      <td>...</td>\n",
       "    </tr>\n",
       "    <tr>\n",
       "      <th>995</th>\n",
       "      <td>3.967968</td>\n",
       "      <td>0.000279</td>\n",
       "    </tr>\n",
       "    <tr>\n",
       "      <th>996</th>\n",
       "      <td>3.975976</td>\n",
       "      <td>0.000271</td>\n",
       "    </tr>\n",
       "    <tr>\n",
       "      <th>997</th>\n",
       "      <td>3.983984</td>\n",
       "      <td>0.000264</td>\n",
       "    </tr>\n",
       "    <tr>\n",
       "      <th>998</th>\n",
       "      <td>3.991992</td>\n",
       "      <td>0.000257</td>\n",
       "    </tr>\n",
       "    <tr>\n",
       "      <th>999</th>\n",
       "      <td>4.000000</td>\n",
       "      <td>0.000250</td>\n",
       "    </tr>\n",
       "  </tbody>\n",
       "</table>\n",
       "<p>251 rows × 2 columns</p>\n",
       "</div>"
      ],
      "text/plain": [
       "            x         t\n",
       "749  1.997998  0.055371\n",
       "750  2.006006  0.054522\n",
       "751  2.014014  0.053684\n",
       "752  2.022022  0.052855\n",
       "753  2.030030  0.052037\n",
       "..        ...       ...\n",
       "995  3.967968  0.000279\n",
       "996  3.975976  0.000271\n",
       "997  3.983984  0.000264\n",
       "998  3.991992  0.000257\n",
       "999  4.000000  0.000250\n",
       "\n",
       "[251 rows x 2 columns]"
      ]
     },
     "execution_count": 95,
     "metadata": {},
     "output_type": "execute_result"
    }
   ],
   "source": [
    "one"
   ]
  },
  {
   "cell_type": "code",
   "execution_count": 96,
   "id": "d793a520",
   "metadata": {},
   "outputs": [],
   "source": [
    "two=tf[tf[\"x\"]<=-tcrit]"
   ]
  },
  {
   "cell_type": "code",
   "execution_count": 97,
   "id": "f7598fc8",
   "metadata": {},
   "outputs": [
    {
     "data": {
      "text/html": [
       "<div>\n",
       "<style scoped>\n",
       "    .dataframe tbody tr th:only-of-type {\n",
       "        vertical-align: middle;\n",
       "    }\n",
       "\n",
       "    .dataframe tbody tr th {\n",
       "        vertical-align: top;\n",
       "    }\n",
       "\n",
       "    .dataframe thead th {\n",
       "        text-align: right;\n",
       "    }\n",
       "</style>\n",
       "<table border=\"1\" class=\"dataframe\">\n",
       "  <thead>\n",
       "    <tr style=\"text-align: right;\">\n",
       "      <th></th>\n",
       "      <th>x</th>\n",
       "      <th>t</th>\n",
       "    </tr>\n",
       "  </thead>\n",
       "  <tbody>\n",
       "    <tr>\n",
       "      <th>0</th>\n",
       "      <td>-4.000000</td>\n",
       "      <td>0.000250</td>\n",
       "    </tr>\n",
       "    <tr>\n",
       "      <th>1</th>\n",
       "      <td>-3.991992</td>\n",
       "      <td>0.000257</td>\n",
       "    </tr>\n",
       "    <tr>\n",
       "      <th>2</th>\n",
       "      <td>-3.983984</td>\n",
       "      <td>0.000264</td>\n",
       "    </tr>\n",
       "    <tr>\n",
       "      <th>3</th>\n",
       "      <td>-3.975976</td>\n",
       "      <td>0.000271</td>\n",
       "    </tr>\n",
       "    <tr>\n",
       "      <th>4</th>\n",
       "      <td>-3.967968</td>\n",
       "      <td>0.000279</td>\n",
       "    </tr>\n",
       "    <tr>\n",
       "      <th>...</th>\n",
       "      <td>...</td>\n",
       "      <td>...</td>\n",
       "    </tr>\n",
       "    <tr>\n",
       "      <th>246</th>\n",
       "      <td>-2.030030</td>\n",
       "      <td>0.052037</td>\n",
       "    </tr>\n",
       "    <tr>\n",
       "      <th>247</th>\n",
       "      <td>-2.022022</td>\n",
       "      <td>0.052855</td>\n",
       "    </tr>\n",
       "    <tr>\n",
       "      <th>248</th>\n",
       "      <td>-2.014014</td>\n",
       "      <td>0.053684</td>\n",
       "    </tr>\n",
       "    <tr>\n",
       "      <th>249</th>\n",
       "      <td>-2.006006</td>\n",
       "      <td>0.054522</td>\n",
       "    </tr>\n",
       "    <tr>\n",
       "      <th>250</th>\n",
       "      <td>-1.997998</td>\n",
       "      <td>0.055371</td>\n",
       "    </tr>\n",
       "  </tbody>\n",
       "</table>\n",
       "<p>251 rows × 2 columns</p>\n",
       "</div>"
      ],
      "text/plain": [
       "            x         t\n",
       "0   -4.000000  0.000250\n",
       "1   -3.991992  0.000257\n",
       "2   -3.983984  0.000264\n",
       "3   -3.975976  0.000271\n",
       "4   -3.967968  0.000279\n",
       "..        ...       ...\n",
       "246 -2.030030  0.052037\n",
       "247 -2.022022  0.052855\n",
       "248 -2.014014  0.053684\n",
       "249 -2.006006  0.054522\n",
       "250 -1.997998  0.055371\n",
       "\n",
       "[251 rows x 2 columns]"
      ]
     },
     "execution_count": 97,
     "metadata": {},
     "output_type": "execute_result"
    }
   ],
   "source": [
    "two"
   ]
  },
  {
   "cell_type": "markdown",
   "id": "32d0a3b6",
   "metadata": {},
   "source": [
    "- when calculating the ``t-statistic`` (``t-value``) in this particular situation there is a $2.5\\%$ chance on each side ($5\\%$ of the time - $5\\%$ chance) when the curves do coincide that the wrong decision will be made (deem both $C$ do not have the same $\\bar x$) [5]"
   ]
  },
  {
   "cell_type": "markdown",
   "id": "daafdcc4",
   "metadata": {},
   "source": [
    "- if the ``t-value`` (``t-statistic``) was roughly between $2$ and $-2$ then there is no evidence to suggest that the two curves do not coincide [5] - there is a limited number of ``t-value`` (``t-statistic``) within this range [7]"
   ]
  },
  {
   "cell_type": "markdown",
   "id": "52cf9d6f",
   "metadata": {},
   "source": [
    "- there exists an infinity of ``t-value`` (``t-statistic``) on the LHS and an infinity of ``t-value`` (``t-statistic``) on the RHS [7]"
   ]
  },
  {
   "cell_type": "markdown",
   "id": "1d573512",
   "metadata": {},
   "source": [
    "- any number less than $-2$ and any value greater than $2$ then its too extreme [5] therfore rejecting the idea the $C$ have the same curve (or $\\bar x$) [7]"
   ]
  },
  {
   "cell_type": "code",
   "execution_count": 98,
   "id": "c2c33bcf",
   "metadata": {},
   "outputs": [
    {
     "data": {
      "image/png": "[encoded data removed]",
      "text/plain": [
       "<Figure size 921.6x518.4 with 1 Axes>"
      ]
     },
     "metadata": {},
     "output_type": "display_data"
    }
   ],
   "source": [
    "fig,ax=plt.subplots()\n",
    "ax.set_title(\"t-distribution - t-curve (based on degrees of freedom)\")\n",
    "ax.plot(x_t,t)\n",
    "ax.fill_between(one[\"x\"],one[\"t\"],0,facecolor=\"red\")\n",
    "ax.fill_between(two[\"x\"],two[\"t\"],0,facecolor=\"red\")\n",
    "ax.set_xlabel(\"t-value (t-statistic)\")\n",
    "ax.set_ylabel(\"Sample Size (\"+r\"$C$\"+\" a & \"+r\"$C$ \"+\"b)\");"
   ]
  },
  {
   "cell_type": "markdown",
   "id": "52083162",
   "metadata": {},
   "source": [
    "<a id=\"solutionProbabilityDensityFunctionError\"></a>\n",
    "< [Table of Contents](#top) > < [Instructions](#instructions) > < [Abstract](#abstract) > < [Introduction](#introduction)&nbsp;&nbsp;:&nbsp;&nbsp;[Sampling](#introductionScenario)&nbsp;&nbsp;|&nbsp;&nbsp;[``scipy.stats``](#solutionttest)&nbsp;&nbsp;|&nbsp;&nbsp;[Multiple Samples](#solutionMultipleSamples) > < [Solution](#solution)&nbsp;&nbsp;:&nbsp;&nbsp;[``ANOVA``](#solutionANOVA)&nbsp;&nbsp;|&nbsp;&nbsp;[Flavors of Cacao](#solutionANOVAOnewayflavorsofcacao) > < [Conclusion](#conclusion) > < [References](#references) > < [Appendix](#appendix) >\n",
    "***\n",
    "###### Error\n",
    "***"
   ]
  },
  {
   "cell_type": "markdown",
   "id": "d7b8474c",
   "metadata": {},
   "source": [
    "- are the numbers in the sample $C$ ``a`` different than the numbers in the sample $C$ ``b`` (doing measurments on vaccine ``a`` is there enough evidence to suggest its different to vaccine ``b``) [6]"
   ]
  },
  {
   "cell_type": "markdown",
   "id": "10d7a814",
   "metadata": {},
   "source": [
    "- cannot get away from the fact that a wrong decision may be made (built into ``statistical`` tests) - it is the errors that enable the evidence to be produced and is the whole point of doing ``statistical`` tests [6]"
   ]
  },
  {
   "cell_type": "markdown",
   "id": "af42f361",
   "metadata": {},
   "source": [
    "- ``statistical`` tests such as the ``t-test`` trys to manage the error (quantify it in some way) and that is the best to hope for [6]"
   ]
  },
  {
   "cell_type": "markdown",
   "id": "f73b5a11",
   "metadata": {},
   "source": [
    "<a id=\"solutionProbabilityDensityFunctionErrorTypeIErrorFalsePositives\"></a>\n",
    "< [Table of Contents](#top) > < [Instructions](#instructions) > < [Abstract](#abstract) > < [Introduction](#introduction)&nbsp;&nbsp;:&nbsp;&nbsp;[Sampling](#introductionScenario)&nbsp;&nbsp;|&nbsp;&nbsp;[``scipy.stats``](#solutionttest)&nbsp;&nbsp;|&nbsp;&nbsp;[Multiple Samples](#solutionMultipleSamples) > < [Solution](#solution)&nbsp;&nbsp;:&nbsp;&nbsp;[``ANOVA``](#solutionANOVA)&nbsp;&nbsp;|&nbsp;&nbsp;[Flavors of Cacao](#solutionANOVAOnewayflavorsofcacao) > < [Conclusion](#conclusion) > < [References](#references) > < [Appendix](#appendix) >\n",
    "***\n",
    "###### Type I Errors (``False Positives``)\n",
    "***"
   ]
  },
  {
   "cell_type": "markdown",
   "id": "1fdc7574",
   "metadata": {},
   "source": [
    "- rejecting the $H_0$ when in fact should not have [7]"
   ]
  },
  {
   "cell_type": "code",
   "execution_count": 99,
   "id": "a9988abe",
   "metadata": {},
   "outputs": [
    {
     "data": {
      "text/plain": [
       "True"
      ]
     },
     "execution_count": 99,
     "metadata": {},
     "output_type": "execute_result"
    }
   ],
   "source": [
    "m_a==m_b_same_m_a # actual null hypothesis"
   ]
  },
  {
   "cell_type": "markdown",
   "id": "eb43ad88",
   "metadata": {},
   "source": [
    "- running a ``t-test`` rejecting the idea that the $C$ ``a`` and the $C$ ``b`` have the same $\\bar x$ [6]"
   ]
  },
  {
   "cell_type": "code",
   "execution_count": 100,
   "id": "05a50f32",
   "metadata": {},
   "outputs": [
    {
     "data": {
      "text/plain": [
       "False"
      ]
     },
     "execution_count": 100,
     "metadata": {},
     "output_type": "execute_result"
    }
   ],
   "source": [
    "not(m_a==m_b_same_m_a) # assumption alternative hypothesis"
   ]
  },
  {
   "cell_type": "code",
   "execution_count": 101,
   "id": "4d8d5845",
   "metadata": {},
   "outputs": [],
   "source": [
    "s=0.2 # closer standard deviation"
   ]
  },
  {
   "cell_type": "markdown",
   "id": "ec81c28d",
   "metadata": {},
   "source": [
    "- running twenty-thousand ``t-test`` generating ``a`` numbers and ``b`` numbers each time but keeping the underlying curves the same (coincide) then the ``t-test`` should not reject the $H_0$ [6]"
   ]
  },
  {
   "cell_type": "code",
   "execution_count": 102,
   "id": "a2281737",
   "metadata": {},
   "outputs": [],
   "source": [
    "nTrails=20000"
   ]
  },
  {
   "cell_type": "markdown",
   "id": "82777ff6",
   "metadata": {},
   "source": [
    "- giving the ``t-test`` a $5\\%$ chance of determining both $C$ are different when they are not [6] - $5\\%$ chance of making the wrong decision (built-in) although both $C$ are generated from the same $\\bar x$ albeit having extreme values [7]"
   ]
  },
  {
   "cell_type": "code",
   "execution_count": 103,
   "id": "26aa3eed",
   "metadata": {},
   "outputs": [],
   "source": [
    "nChance=0.05 # power of test "
   ]
  },
  {
   "cell_type": "markdown",
   "id": "92619a79",
   "metadata": {},
   "source": [
    "- the data suggests rejecting the $H_0$ - this result is a ``False Positive`` [6]"
   ]
  },
  {
   "cell_type": "code",
   "execution_count": 104,
   "id": "af29ebf4",
   "metadata": {},
   "outputs": [],
   "source": [
    "nRejects=0\n",
    "for nEachRun in range(nTrails):\n",
    "    a=np.random.normal(loc=m_a,scale=s,size=N)\n",
    "    b=np.random.normal(loc=m_b_same_m_a,scale=s,size=N)\n",
    "    if ss.ttest_ind(a=a,b=b)[1]<=nChance:\n",
    "        nRejects=nRejects+1"
   ]
  },
  {
   "cell_type": "code",
   "execution_count": 105,
   "id": "f0891630",
   "metadata": {},
   "outputs": [
    {
     "data": {
      "text/plain": [
       "'5.0%'"
      ]
     },
     "execution_count": 105,
     "metadata": {},
     "output_type": "execute_result"
    }
   ],
   "source": [
    "f\"{nChance*100}%\""
   ]
  },
  {
   "cell_type": "code",
   "execution_count": 106,
   "id": "f41f6849",
   "metadata": {},
   "outputs": [
    {
     "name": "stdout",
     "output_type": "stream",
     "text": [
      "Type I Error (False Positives): 4.92%\n"
     ]
    }
   ],
   "source": [
    "print(f\"Type I Error (False Positives): {100.0*nRejects/nTrails:0.2f}%\")"
   ]
  },
  {
   "cell_type": "markdown",
   "id": "dc62afde",
   "metadata": {},
   "source": [
    "- if it is determined there is a difference between vaccine ``a`` and vaccine ``b`` when in fact there is actually no difference is called a ``False Positive`` (typically when doing a vaccine the chance of this happening is more like $0.000001\\%$) [6]"
   ]
  },
  {
   "cell_type": "markdown",
   "id": "d934033f",
   "metadata": {},
   "source": [
    "<a id=\"solutionProbabilityDensityFunctionErrorTypeIErrorFalseNegatives\"></a>\n",
    "< [Table of Contents](#top) > < [Instructions](#instructions) > < [Abstract](#abstract) > < [Introduction](#introduction)&nbsp;&nbsp;:&nbsp;&nbsp;[Sampling](#introductionScenario)&nbsp;&nbsp;|&nbsp;&nbsp;[``scipy.stats``](#solutionttest)&nbsp;&nbsp;|&nbsp;&nbsp;[Multiple Samples](#solutionMultipleSamples) > < [Solution](#solution)&nbsp;&nbsp;:&nbsp;&nbsp;[``ANOVA``](#solutionANOVA)&nbsp;&nbsp;|&nbsp;&nbsp;[Flavors of Cacao](#solutionANOVAOnewayflavorsofcacao) > < [Conclusion](#conclusion) > < [References](#references) > < [Appendix](#appendix) >\n",
    "***\n",
    "###### Type II Errors (``False Negatives``)\n",
    "***"
   ]
  },
  {
   "cell_type": "markdown",
   "id": "fe681723",
   "metadata": {},
   "source": [
    "- accepting the $H_0$ when in fact should not have [7]"
   ]
  },
  {
   "cell_type": "code",
   "execution_count": 107,
   "id": "46106452",
   "metadata": {},
   "outputs": [
    {
     "data": {
      "text/plain": [
       "False"
      ]
     },
     "execution_count": 107,
     "metadata": {},
     "output_type": "execute_result"
    }
   ],
   "source": [
    "m_a==m_b # actual alternative hypothesis"
   ]
  },
  {
   "cell_type": "markdown",
   "id": "61d360a8",
   "metadata": {},
   "source": [
    "- running a ``t-test`` rejecting the idea that the $C$ ``a`` and the $C$ ``b`` do not have the same $\\bar x$ ``(Eq. (5))`` [6]"
   ]
  },
  {
   "cell_type": "code",
   "execution_count": 108,
   "id": "975da90c",
   "metadata": {},
   "outputs": [
    {
     "data": {
      "text/plain": [
       "True"
      ]
     },
     "execution_count": 108,
     "metadata": {},
     "output_type": "execute_result"
    }
   ],
   "source": [
    "not(m_a==m_b) # assumption null hypothesis"
   ]
  },
  {
   "cell_type": "markdown",
   "id": "56e9d3c8",
   "metadata": {},
   "source": [
    "- running twenty-thousand ``t-test`` generating ``a`` numbers and ``b`` numbers each time but keeping the underlying curves separated (not coincide) then the ``t-test`` should reject the $H_0$ [6]"
   ]
  },
  {
   "cell_type": "code",
   "execution_count": 109,
   "id": "c9181f78",
   "metadata": {},
   "outputs": [
    {
     "data": {
      "text/plain": [
       "20000"
      ]
     },
     "execution_count": 109,
     "metadata": {},
     "output_type": "execute_result"
    }
   ],
   "source": [
    "nTrails"
   ]
  },
  {
   "cell_type": "code",
   "execution_count": 110,
   "id": "f6b81046",
   "metadata": {},
   "outputs": [
    {
     "data": {
      "text/plain": [
       "0.05"
      ]
     },
     "execution_count": 110,
     "metadata": {},
     "output_type": "execute_result"
    }
   ],
   "source": [
    "nChance # same p-value cutoff"
   ]
  },
  {
   "cell_type": "markdown",
   "id": "b15419cb",
   "metadata": {},
   "source": [
    "- the data suggests accepting the $H_0$ - this result is a ``False Negative`` [6]"
   ]
  },
  {
   "cell_type": "code",
   "execution_count": 111,
   "id": "9b987950",
   "metadata": {},
   "outputs": [],
   "source": [
    "nDoNot=0\n",
    "for nEachRun in range(nTrails):\n",
    "    a=np.random.normal(loc=m_a,scale=s,size=N)\n",
    "    b=np.random.normal(loc=m_b,scale=s,size=N)\n",
    "    if ss.ttest_ind(a=a,b=b)[1]>nChance:\n",
    "        nDoNot=nDoNot+1"
   ]
  },
  {
   "cell_type": "code",
   "execution_count": 112,
   "id": "d7fa851c",
   "metadata": {},
   "outputs": [
    {
     "name": "stdout",
     "output_type": "stream",
     "text": [
      "Type II Error (False Negatives): 0.00%\n"
     ]
    }
   ],
   "source": [
    "print(f\"Type II Error (False Negatives): {100.0*nDoNot/nTrails:0.2f}%\")"
   ]
  },
  {
   "cell_type": "markdown",
   "id": "8dc4e0c9",
   "metadata": {},
   "source": [
    "- when the $\\bar x$ (``m_a`` and ``m_b``) of each $C$ are closer together relative to the $\\sigma$ (``s``) then its easier to get ``False Negatives`` [6][7]"
   ]
  },
  {
   "cell_type": "code",
   "execution_count": 113,
   "id": "c711b6b8",
   "metadata": {},
   "outputs": [
    {
     "data": {
      "text/plain": [
       "1.5"
      ]
     },
     "execution_count": 113,
     "metadata": {},
     "output_type": "execute_result"
    }
   ],
   "source": [
    "m_a"
   ]
  },
  {
   "cell_type": "code",
   "execution_count": 114,
   "id": "d879b74d",
   "metadata": {},
   "outputs": [],
   "source": [
    "m_b_closer_m_a=1.6"
   ]
  },
  {
   "cell_type": "code",
   "execution_count": 115,
   "id": "f1ba1dfc",
   "metadata": {},
   "outputs": [
    {
     "data": {
      "text/plain": [
       "0.2"
      ]
     },
     "execution_count": 115,
     "metadata": {},
     "output_type": "execute_result"
    }
   ],
   "source": [
    "s"
   ]
  },
  {
   "cell_type": "code",
   "execution_count": 116,
   "id": "d222d5e9",
   "metadata": {},
   "outputs": [],
   "source": [
    "nDoNot=0\n",
    "for nEachRun in range(nTrails):\n",
    "    a=np.random.normal(loc=m_a,scale=s,size=N)\n",
    "    b=np.random.normal(loc=m_b_closer_m_a,scale=s,size=N)\n",
    "    if ss.ttest_ind(a=a,b=b)[1]>nChance:\n",
    "        nDoNot=nDoNot+1"
   ]
  },
  {
   "cell_type": "code",
   "execution_count": 117,
   "id": "1b35273b",
   "metadata": {},
   "outputs": [
    {
     "name": "stdout",
     "output_type": "stream",
     "text": [
      "Type II Error (False Negatives): 40.52%\n"
     ]
    }
   ],
   "source": [
    "print(f\"Type II Error (False Negatives): {100.0*nDoNot/nTrails:0.2f}%\")"
   ]
  },
  {
   "cell_type": "markdown",
   "id": "c1ea6b45",
   "metadata": {},
   "source": [
    "<a id=\"solutionMultipleSamples\"></a>\n",
    "< [Table of Contents](#top) > < [Instructions](#instructions) > < [Abstract](#abstract) > < [Introduction](#introduction)&nbsp;&nbsp;:&nbsp;&nbsp;[Sampling](#introductionScenario)&nbsp;&nbsp;|&nbsp;&nbsp;[``scipy.stats``](#solutionttest)&nbsp;&nbsp;|&nbsp;&nbsp;[Multiple Samples](#solutionMultipleSamples) > < [Solution](#solution)&nbsp;&nbsp;:&nbsp;&nbsp;[``ANOVA``](#solutionANOVA)&nbsp;&nbsp;|&nbsp;&nbsp;[Flavors of Cacao](#solutionANOVAOnewayflavorsofcacao) > < [Conclusion](#conclusion) > < [References](#references) > < [Appendix](#appendix) >\n",
    "***\n",
    "###### Multiple Samples\n",
    "***"
   ]
  },
  {
   "cell_type": "markdown",
   "id": "5e8b8ba8",
   "metadata": {},
   "source": [
    "- adding an addition sample ($C$ ``c``) generated from a $\\bar x$ (``m_c``) with same $\\sigma$ and size ``N`` (of $C$ ``a`` and ``b``) [7]"
   ]
  },
  {
   "cell_type": "code",
   "execution_count": 118,
   "id": "911c041e",
   "metadata": {},
   "outputs": [
    {
     "data": {
      "text/plain": [
       "True"
      ]
     },
     "execution_count": 118,
     "metadata": {},
     "output_type": "execute_result"
    }
   ],
   "source": [
    "s_a==s_b # standard deviation 0.5"
   ]
  },
  {
   "cell_type": "code",
   "execution_count": 119,
   "id": "8dd2d315",
   "metadata": {},
   "outputs": [
    {
     "data": {
      "text/plain": [
       "40"
      ]
     },
     "execution_count": 119,
     "metadata": {},
     "output_type": "execute_result"
    }
   ],
   "source": [
    "N"
   ]
  },
  {
   "cell_type": "code",
   "execution_count": 120,
   "id": "ca8e6b2b",
   "metadata": {},
   "outputs": [],
   "source": [
    "m_c=3.0 # new sample mean"
   ]
  },
  {
   "cell_type": "code",
   "execution_count": 121,
   "id": "eef11b60",
   "metadata": {},
   "outputs": [],
   "source": [
    "c=np.random.normal(loc=m_c,scale=s_b,size=N)"
   ]
  },
  {
   "cell_type": "code",
   "execution_count": 122,
   "id": "d05c02b0",
   "metadata": {},
   "outputs": [
    {
     "data": {
      "text/plain": [
       "array([2.64823447, 2.11307883, 2.75005019, 2.94282911, 3.0112296 ,\n",
       "       3.20545416, 3.05666432, 2.91724561, 2.63442755, 2.49979837,\n",
       "       3.1856118 , 3.1361831 , 3.20822774, 2.93706804, 2.64630584,\n",
       "       2.98380553, 2.78039957, 3.43366334, 1.66929651, 2.49895592,\n",
       "       2.64959154, 3.42976603, 3.16575646, 3.51107427, 3.29966111,\n",
       "       3.28636892, 2.33179686, 2.63283888, 3.06256373, 3.21775544,\n",
       "       2.52107052, 2.52936525, 2.32971852, 2.89502815, 3.79473614,\n",
       "       3.35646006, 2.40036792, 3.16821429, 2.51405892, 2.92249547])"
      ]
     },
     "execution_count": 122,
     "metadata": {},
     "output_type": "execute_result"
    }
   ],
   "source": [
    "c # collection mean m_c"
   ]
  },
  {
   "cell_type": "markdown",
   "id": "19d8e68d",
   "metadata": {},
   "source": [
    "- existing $C$ (i. ``a`` and ii. ``b_m_a``):"
   ]
  },
  {
   "cell_type": "markdown",
   "id": "0461d06c",
   "metadata": {},
   "source": [
    "i. $C$ ``a`` (generated from  $\\bar x$ ``m_a`` ``(Eq. (1))``) [7]"
   ]
  },
  {
   "cell_type": "code",
   "execution_count": 123,
   "id": "2b24ea7c",
   "metadata": {},
   "outputs": [
    {
     "data": {
      "text/plain": [
       "1.5"
      ]
     },
     "execution_count": 123,
     "metadata": {},
     "output_type": "execute_result"
    }
   ],
   "source": [
    "m_a # generate collection a"
   ]
  },
  {
   "cell_type": "code",
   "execution_count": 124,
   "id": "39e46eb8",
   "metadata": {},
   "outputs": [
    {
     "data": {
      "text/plain": [
       "array([1.58467999, 1.34279855, 1.58347227, 1.37129018, 1.82252571,\n",
       "       1.25792061, 1.822935  , 1.50140246, 1.80235286, 1.71621883,\n",
       "       1.48986246, 1.47877307, 1.69733625, 1.6881248 , 1.7545857 ,\n",
       "       1.3953666 , 1.56570346, 1.35917125, 1.25659456, 1.53144917,\n",
       "       1.20423838, 1.5953316 , 1.73070639, 1.35760356, 1.4104387 ,\n",
       "       1.51241766, 1.46670454, 1.25713269, 1.02080577, 1.68271867,\n",
       "       1.36724795, 1.3900005 , 1.63693343, 1.36043003, 1.45582809,\n",
       "       1.41576486, 1.44974553, 1.607596  , 2.03550213, 1.43013154])"
      ]
     },
     "execution_count": 124,
     "metadata": {},
     "output_type": "execute_result"
    }
   ],
   "source": [
    "a # collection mean m_a"
   ]
  },
  {
   "cell_type": "markdown",
   "id": "17c6e179",
   "metadata": {},
   "source": [
    "ii. $C$ ``b_m_a`` (generated from $\\bar x$ ``m_b_same_m_a``) [7]"
   ]
  },
  {
   "cell_type": "code",
   "execution_count": 125,
   "id": "b2124035",
   "metadata": {},
   "outputs": [
    {
     "data": {
      "text/plain": [
       "1.5"
      ]
     },
     "execution_count": 125,
     "metadata": {},
     "output_type": "execute_result"
    }
   ],
   "source": [
    "m_b_same_m_a # generate collection b_m_a"
   ]
  },
  {
   "cell_type": "code",
   "execution_count": 126,
   "id": "a23bff70",
   "metadata": {},
   "outputs": [
    {
     "data": {
      "text/plain": [
       "array([1.11848551, 1.508264  , 1.41077187, 1.29122761, 1.55276447,\n",
       "       1.11941142, 1.15217755, 2.32994448, 2.10540812, 1.52035275,\n",
       "       1.88019269, 1.77322954, 1.47071775, 1.67545593, 2.07996525,\n",
       "       1.68538743, 1.88292133, 2.18212965, 2.01776125, 1.27611726,\n",
       "       0.63311005, 1.99110146, 1.55007836, 1.34688316, 0.94152163,\n",
       "       2.13168802, 1.83340686, 1.11352535, 0.99472872, 2.67058051,\n",
       "       2.02516598, 0.82786606, 1.58741042, 1.86624475, 2.34772519,\n",
       "       0.99940222, 1.96843738, 1.28742865, 1.24794582, 1.98551293])"
      ]
     },
     "execution_count": 126,
     "metadata": {},
     "output_type": "execute_result"
    }
   ],
   "source": [
    "b_m_a # collection mean m_b_same_m_a"
   ]
  },
  {
   "cell_type": "code",
   "execution_count": 127,
   "id": "b769c20e",
   "metadata": {},
   "outputs": [],
   "source": [
    "samples_a_b_c=[\"A\"]*N+[\"B\"]*N+[\"C\"]*N # change collection reference\n",
    "v=np.hstack([a,b_m_a,c])\n",
    "df_A_B_C=pd.DataFrame({\"Samples\":samples_a_b_c,\"Values\":v}) # collections now samples"
   ]
  },
  {
   "cell_type": "code",
   "execution_count": 128,
   "id": "c17229f2",
   "metadata": {},
   "outputs": [
    {
     "data": {
      "text/html": [
       "<div>\n",
       "<style scoped>\n",
       "    .dataframe tbody tr th:only-of-type {\n",
       "        vertical-align: middle;\n",
       "    }\n",
       "\n",
       "    .dataframe tbody tr th {\n",
       "        vertical-align: top;\n",
       "    }\n",
       "\n",
       "    .dataframe thead th {\n",
       "        text-align: right;\n",
       "    }\n",
       "</style>\n",
       "<table border=\"1\" class=\"dataframe\">\n",
       "  <thead>\n",
       "    <tr style=\"text-align: right;\">\n",
       "      <th></th>\n",
       "      <th>Samples</th>\n",
       "      <th>Values</th>\n",
       "    </tr>\n",
       "  </thead>\n",
       "  <tbody>\n",
       "    <tr>\n",
       "      <th>0</th>\n",
       "      <td>A</td>\n",
       "      <td>1.584680</td>\n",
       "    </tr>\n",
       "    <tr>\n",
       "      <th>1</th>\n",
       "      <td>A</td>\n",
       "      <td>1.342799</td>\n",
       "    </tr>\n",
       "    <tr>\n",
       "      <th>2</th>\n",
       "      <td>A</td>\n",
       "      <td>1.583472</td>\n",
       "    </tr>\n",
       "    <tr>\n",
       "      <th>3</th>\n",
       "      <td>A</td>\n",
       "      <td>1.371290</td>\n",
       "    </tr>\n",
       "    <tr>\n",
       "      <th>4</th>\n",
       "      <td>A</td>\n",
       "      <td>1.822526</td>\n",
       "    </tr>\n",
       "    <tr>\n",
       "      <th>...</th>\n",
       "      <td>...</td>\n",
       "      <td>...</td>\n",
       "    </tr>\n",
       "    <tr>\n",
       "      <th>115</th>\n",
       "      <td>C</td>\n",
       "      <td>3.356460</td>\n",
       "    </tr>\n",
       "    <tr>\n",
       "      <th>116</th>\n",
       "      <td>C</td>\n",
       "      <td>2.400368</td>\n",
       "    </tr>\n",
       "    <tr>\n",
       "      <th>117</th>\n",
       "      <td>C</td>\n",
       "      <td>3.168214</td>\n",
       "    </tr>\n",
       "    <tr>\n",
       "      <th>118</th>\n",
       "      <td>C</td>\n",
       "      <td>2.514059</td>\n",
       "    </tr>\n",
       "    <tr>\n",
       "      <th>119</th>\n",
       "      <td>C</td>\n",
       "      <td>2.922495</td>\n",
       "    </tr>\n",
       "  </tbody>\n",
       "</table>\n",
       "<p>120 rows × 2 columns</p>\n",
       "</div>"
      ],
      "text/plain": [
       "    Samples    Values\n",
       "0         A  1.584680\n",
       "1         A  1.342799\n",
       "2         A  1.583472\n",
       "3         A  1.371290\n",
       "4         A  1.822526\n",
       "..      ...       ...\n",
       "115       C  3.356460\n",
       "116       C  2.400368\n",
       "117       C  3.168214\n",
       "118       C  2.514059\n",
       "119       C  2.922495\n",
       "\n",
       "[120 rows x 2 columns]"
      ]
     },
     "execution_count": 128,
     "metadata": {},
     "output_type": "execute_result"
    }
   ],
   "source": [
    "df_A_B_C # a=A b=B c=C"
   ]
  },
  {
   "cell_type": "markdown",
   "id": "5c4c27f5",
   "metadata": {},
   "source": [
    " - ``C`` sample looks different to the ``A`` and ``B`` samples (note as mentioned the samples ``A`` and ``B`` may appear different but this is random chance given both have the same $\\bar x$) [7]"
   ]
  },
  {
   "cell_type": "code",
   "execution_count": 129,
   "id": "ea56316b",
   "metadata": {},
   "outputs": [
    {
     "data": {
      "image/png": "[encoded data removed]",
      "text/plain": [
       "<Figure size 360x360 with 1 Axes>"
      ]
     },
     "metadata": {},
     "output_type": "display_data"
    }
   ],
   "source": [
    "sns.catplot(x=\"Samples\",y=\"Values\",jitter=False,data=df_A_B_C);"
   ]
  },
  {
   "cell_type": "markdown",
   "id": "d48c769b",
   "metadata": {},
   "source": [
    "<a id=\"solutionMultipleSamplesnull\"></a>\n",
    "< [Table of Contents](#top) > < [Instructions](#instructions) > < [Abstract](#abstract) > < [Introduction](#introduction)&nbsp;&nbsp;:&nbsp;&nbsp;[Sampling](#introductionScenario)&nbsp;&nbsp;|&nbsp;&nbsp;[``scipy.stats``](#solutionttest)&nbsp;&nbsp;|&nbsp;&nbsp;[Multiple Samples](#solutionMultipleSamples) > < [Solution](#solution)&nbsp;&nbsp;:&nbsp;&nbsp;[``ANOVA``](#solutionANOVA)&nbsp;&nbsp;|&nbsp;&nbsp;[Flavors of Cacao](#solutionANOVAOnewayflavorsofcacao) > < [Conclusion](#conclusion) > < [References](#references) > < [Appendix](#appendix) >\n",
    "***\n",
    "###### $H_0$\n",
    "***"
   ]
  },
  {
   "cell_type": "markdown",
   "id": "7ef30fcf",
   "metadata": {},
   "source": [
    "- $H_0$ is true until rejected therefore trying to reject the status quo ($H_0$) [9]"
   ]
  },
  {
   "cell_type": "markdown",
   "id": "29822745",
   "metadata": {},
   "source": [
    "$$H_0:\\bar x_a=\\bar x_b=\\bar x_c\\tag{6}$$"
   ]
  },
  {
   "cell_type": "markdown",
   "id": "24b3e625",
   "metadata": {},
   "source": [
    "<a id=\"solutionMultipleSamplealternative\"></a>\n",
    "< [Table of Contents](#top) > < [Instructions](#instructions) > < [Abstract](#abstract) > < [Introduction](#introduction)&nbsp;&nbsp;:&nbsp;&nbsp;[Sampling](#introductionScenario)&nbsp;&nbsp;|&nbsp;&nbsp;[``scipy.stats``](#solutionttest)&nbsp;&nbsp;|&nbsp;&nbsp;[Multiple Samples](#solutionMultipleSamples) > < [Solution](#solution)&nbsp;&nbsp;:&nbsp;&nbsp;[``ANOVA``](#solutionANOVA)&nbsp;&nbsp;|&nbsp;&nbsp;[Flavors of Cacao](#solutionANOVAOnewayflavorsofcacao) > < [Conclusion](#conclusion) > < [References](#references) > < [Appendix](#appendix) >\n",
    "***\n",
    "###### $H_1$\n",
    "***"
   ]
  },
  {
   "cell_type": "markdown",
   "id": "ccfe4fcf",
   "metadata": {},
   "source": [
    "- the alternative ($H_1$) challenges the status quo ``(Eq. (6))`` (note system is gamed so that the new $C$ ``c`` is generated from a different $\\bar x$) [9]"
   ]
  },
  {
   "cell_type": "markdown",
   "id": "aee15b1f",
   "metadata": {},
   "source": [
    "$$At\\space least\\space one\\space pair\\space of\\space \\bar x\\space is\\space not\\space equal.$$"
   ]
  },
  {
   "cell_type": "code",
   "execution_count": 130,
   "id": "15b273f7",
   "metadata": {},
   "outputs": [
    {
     "data": {
      "text/plain": [
       "False"
      ]
     },
     "execution_count": 130,
     "metadata": {},
     "output_type": "execute_result"
    }
   ],
   "source": [
    "m_a==m_b==m_c"
   ]
  },
  {
   "cell_type": "markdown",
   "id": "ed7ec9ae",
   "metadata": {},
   "source": [
    "<a id=\"solutionMultipleSamplesTTest\"></a>\n",
    "< [Table of Contents](#top) > < [Instructions](#instructions) > < [Abstract](#abstract) > < [Introduction](#introduction)&nbsp;&nbsp;:&nbsp;&nbsp;[Sampling](#introductionScenario)&nbsp;&nbsp;|&nbsp;&nbsp;[``scipy.stats``](#solutionttest)&nbsp;&nbsp;|&nbsp;&nbsp;[Multiple Samples](#solutionMultipleSamples) > < [Solution](#solution)&nbsp;&nbsp;:&nbsp;&nbsp;[``ANOVA``](#solutionANOVA)&nbsp;&nbsp;|&nbsp;&nbsp;[Flavors of Cacao](#solutionANOVAOnewayflavorsofcacao) > < [Conclusion](#conclusion) > < [References](#references) > < [Appendix](#appendix) >\n",
    "***\n",
    "###### T-Test\n",
    "***"
   ]
  },
  {
   "cell_type": "markdown",
   "id": "56bd7e10",
   "metadata": {},
   "source": [
    "- at first may deem it appropriate to using a ``t-test`` to simply compare each possible pair of $C$ (``a`` with ``b``; ``a`` with ``c``; ``b`` with ``c``; three significance tests in all) [11]"
   ]
  },
  {
   "cell_type": "code",
   "execution_count": 131,
   "id": "ad308545",
   "metadata": {},
   "outputs": [
    {
     "data": {
      "text/plain": [
       "1.5"
      ]
     },
     "execution_count": 131,
     "metadata": {},
     "output_type": "execute_result"
    }
   ],
   "source": [
    "m_a # collection a centre"
   ]
  },
  {
   "cell_type": "code",
   "execution_count": 132,
   "id": "a5f26940",
   "metadata": {},
   "outputs": [
    {
     "data": {
      "text/plain": [
       "1.5"
      ]
     },
     "execution_count": 132,
     "metadata": {},
     "output_type": "execute_result"
    }
   ],
   "source": [
    "m_b_same_m_a # collection b_m_a centre"
   ]
  },
  {
   "cell_type": "code",
   "execution_count": 133,
   "id": "18c8cbc6",
   "metadata": {},
   "outputs": [],
   "source": [
    "t_ssAvB,p_ssAvB=ss.ttest_ind(a=a,b=b_m_a) # A versus B"
   ]
  },
  {
   "cell_type": "markdown",
   "id": "f72986f8",
   "metadata": {},
   "source": [
    "- the ``t-test`` that compares ``A`` and ``B`` returns a ``p-value`` providing no evidence to reject the $H_0$ [7]"
   ]
  },
  {
   "cell_type": "code",
   "execution_count": 134,
   "id": "0e00edcd",
   "metadata": {},
   "outputs": [
    {
     "name": "stdout",
     "output_type": "stream",
     "text": [
      "0.22% probability (2% chance)\n"
     ]
    }
   ],
   "source": [
    "print(f\"{p_ssAvB:0.2f}% probability ({p_ssAvB*10:.0f}% chance)\")"
   ]
  },
  {
   "cell_type": "markdown",
   "id": "911401d5",
   "metadata": {},
   "source": [
    "- comparing ``A`` and ``C`` return a ``p-value`` providing evidence to suggest both came from different populations (true also for ``B`` and ``C``) [7]"
   ]
  },
  {
   "cell_type": "code",
   "execution_count": 135,
   "id": "5b9be7f6",
   "metadata": {},
   "outputs": [
    {
     "data": {
      "text/plain": [
       "3.0"
      ]
     },
     "execution_count": 135,
     "metadata": {},
     "output_type": "execute_result"
    }
   ],
   "source": [
    "m_c # collection c centre"
   ]
  },
  {
   "cell_type": "code",
   "execution_count": 136,
   "id": "ceae0eda",
   "metadata": {},
   "outputs": [],
   "source": [
    "t_ssAvC,p_ssAvC=ss.ttest_ind(a=a,b=c) # A versus C"
   ]
  },
  {
   "cell_type": "markdown",
   "id": "b9cbd436",
   "metadata": {},
   "source": [
    "- rejecting the $H_0$ of equal $\\bar x$ [7]"
   ]
  },
  {
   "cell_type": "code",
   "execution_count": 137,
   "id": "72de39d2",
   "metadata": {},
   "outputs": [
    {
     "name": "stdout",
     "output_type": "stream",
     "text": [
      "0.00% probability (0% chance)\n"
     ]
    }
   ],
   "source": [
    "print(f\"{p_ssAvC:0.2f}% probability ({p_ssAvC*10:.0f}% chance)\")"
   ]
  },
  {
   "cell_type": "code",
   "execution_count": 138,
   "id": "64fc16c1",
   "metadata": {},
   "outputs": [],
   "source": [
    "t_ssBvC,p_ssBvC=ss.ttest_ind(a=b_m_a,b=c) # B versus C"
   ]
  },
  {
   "cell_type": "markdown",
   "id": "f4f86014",
   "metadata": {},
   "source": [
    "- rejecting the $H_0$ of equal $\\bar x$ [7]"
   ]
  },
  {
   "cell_type": "code",
   "execution_count": 139,
   "id": "1145fe5c",
   "metadata": {},
   "outputs": [
    {
     "name": "stdout",
     "output_type": "stream",
     "text": [
      "0.00% probability (0% chance)\n"
     ]
    }
   ],
   "source": [
    "print(f\"{p_ssBvC:0.2f}% probability ({p_ssBvC*10:.0f}% chance)\") "
   ]
  },
  {
   "cell_type": "markdown",
   "id": "32678515",
   "metadata": {},
   "source": [
    "- each of the samples (``A`` and ``B`` and ``C``) are used twice in the three tests therefore this increases the chance of making an error by performing a number of ``t-test`` in parallel (one after the other) [7]"
   ]
  },
  {
   "cell_type": "markdown",
   "id": "9751c18c",
   "metadata": {},
   "source": [
    "- if all the samples are generated from the same population (generated from the same $\\bar x$) then every time a ``t-test`` is run using the critical value (cut-off) of $5\\%$ (both $C$ are different when both are not) there will be a high ``False Positive`` rate because of repetition [7]"
   ]
  },
  {
   "cell_type": "code",
   "execution_count": 140,
   "id": "dacf229c",
   "metadata": {},
   "outputs": [],
   "source": [
    "f_p=0 # count false positives"
   ]
  },
  {
   "cell_type": "code",
   "execution_count": 141,
   "id": "e0130215",
   "metadata": {},
   "outputs": [],
   "source": [
    "for i in range(1000): # running twenty-thousand tests\n",
    "    # samples same mean\n",
    "    sA=np.random.normal(loc=1.5,scale=0.3,size=N) # generate A sample\n",
    "    sB=np.random.normal(loc=1.5,scale=0.3,size=N) # generate B sample\n",
    "    sC=np.random.normal(loc=1.5,scale=0.3,size=N) # generate C sample\n",
    "    # perform the t-tests\n",
    "    t_ssAvB,p_ssAvB=ss.ttest_ind(a=sA,b=sB) # A versus B\n",
    "    t_ssAvC,p_ssAvC=ss.ttest_ind(a=sA,b=sC) # A versus C\n",
    "    t_ssBvC,p_ssBvC=ss.ttest_ind(a=sB,b=sC) # B versus C\n",
    "    if p_ssAvB<=nChance or p_ssAvC<=nChance or p_ssBvC<=nChance: # check for cut-off\n",
    "        f_p+=1"
   ]
  },
  {
   "cell_type": "code",
   "execution_count": 142,
   "id": "1d72e25a",
   "metadata": {},
   "outputs": [
    {
     "name": "stdout",
     "output_type": "stream",
     "text": [
      "Type I Error (False Positives): 11.7%\n"
     ]
    }
   ],
   "source": [
    "print(f\"Type I Error (False Positives): {f_p / 10}%\")"
   ]
  },
  {
   "cell_type": "markdown",
   "id": "14029b64",
   "metadata": {},
   "source": [
    "<a id=\"solutionMultipleSamplesANOVA\"></a>\n",
    "< [Table of Contents](#top) > < [Instructions](#instructions) > < [Abstract](#abstract) > < [Introduction](#introduction)&nbsp;&nbsp;:&nbsp;&nbsp;[Sampling](#introductionScenario)&nbsp;&nbsp;|&nbsp;&nbsp;[``scipy.stats``](#solutionttest)&nbsp;&nbsp;|&nbsp;&nbsp;[Multiple Samples](#solutionMultipleSamples) > < [Solution](#solution)&nbsp;&nbsp;:&nbsp;&nbsp;[``ANOVA``](#solutionANOVA)&nbsp;&nbsp;|&nbsp;&nbsp;[Flavors of Cacao](#solutionANOVAOnewayflavorsofcacao) > < [Conclusion](#conclusion) > < [References](#references) > < [Appendix](#appendix) >\n",
    "***\n",
    "###### Analysis of Variance\n",
    "***"
   ]
  },
  {
   "cell_type": "markdown",
   "id": "d3e2c61b",
   "metadata": {},
   "source": [
    "- to avoid ``False Positives`` employing analysis of variance (hereafter abbreviated ``ANOVA``) [7]"
   ]
  },
  {
   "cell_type": "markdown",
   "id": "30c3fc76",
   "metadata": {},
   "source": [
    "- similar to a ``t-test`` but designed for the scenario of comparing a number of different samples in parallel (same time) and still have a ``p-value`` cutoff of $0.05$ ($5\\%$ chance of making a wrong decision) [7]"
   ]
  },
  {
   "cell_type": "markdown",
   "id": "59c74454",
   "metadata": {},
   "source": [
    "- running the ``ANOVA`` on the three samples (``a`` and ``b`` and ``c``) returns a ``p-value`` that suggests there is a difference between the three samples therefore rejecting the $H_0$ ``(Eq. (6))`` [7]"
   ]
  },
  {
   "cell_type": "code",
   "execution_count": 143,
   "id": "4f7f2c1e",
   "metadata": {},
   "outputs": [],
   "source": [
    "f_ss_anova,p_ss_anova=ss.f_oneway(a,b,c) # rejecting null hypothesis"
   ]
  },
  {
   "cell_type": "code",
   "execution_count": 144,
   "id": "f667464c",
   "metadata": {},
   "outputs": [
    {
     "name": "stdout",
     "output_type": "stream",
     "text": [
      "0.00% probability (0% chance)\n"
     ]
    }
   ],
   "source": [
    "print(f\"{p_ss_anova:0.2f}% probability ({p_ss_anova*10:.0f}% chance)\") # typical cutoff 0.05"
   ]
  },
  {
   "cell_type": "markdown",
   "id": "c8781b87",
   "metadata": {},
   "source": [
    "***\n",
    "## END"
   ]
  },
  {
   "cell_type": "markdown",
   "id": "f1291269",
   "metadata": {},
   "source": [
    "<a id=\"solution\"></a>\n",
    "< [Table of Contents](#top) > < [Instructions](#instructions) > < [Abstract](#abstract) > < [Introduction](#introduction)&nbsp;&nbsp;:&nbsp;&nbsp;[Sampling](#introductionScenario)&nbsp;&nbsp;|&nbsp;&nbsp;[``scipy.stats``](#solutionttest)&nbsp;&nbsp;|&nbsp;&nbsp;[Multiple Samples](#solutionMultipleSamples) > < [Solution](#solution)&nbsp;&nbsp;:&nbsp;&nbsp;[``ANOVA``](#solutionANOVA)&nbsp;&nbsp;|&nbsp;&nbsp;[Flavors of Cacao](#solutionANOVAOnewayflavorsofcacao) > < [Conclusion](#conclusion) > < [References](#references) > < [Appendix](#appendix) >\n",
    "***\n",
    "## Solution\n",
    "***"
   ]
  },
  {
   "cell_type": "markdown",
   "id": "213a5bb0",
   "metadata": {},
   "source": [
    "- the phrase ``\"correlation does not imply causation\"`` is proclaimed when confronted by claims based on some simple observation [12]"
   ]
  },
  {
   "cell_type": "markdown",
   "id": "823a1bc4",
   "metadata": {},
   "source": [
    "- one such poor association is the whimsical correlation of $95.45\\%$ ($r=0.954509$) between US crude oil import from Norway between 1999 and 2009 and the number of drivers killed in collisions with railway trains in each of those years [12][13]"
   ]
  },
  {
   "cell_type": "markdown",
   "id": "8bb52005",
   "metadata": {},
   "source": [
    "![norway-oil-drivers-killed](https://github.com/SeanOhAileasa/SeanOhAileasa/blob/master/rc/mls/scipy/spurious-correlation.png?raw=true)\n",
    "\n",
    "***T. Vigen, \"Spurious correlations,\" [tylervigen.com](https://tylervigen.com/spurious-correlations), July 2014.***"
   ]
  },
  {
   "cell_type": "markdown",
   "id": "a9b01cca",
   "metadata": {},
   "source": [
    "- allowing for variability (the idea of causation) is not deterministic [12]"
   ]
  },
  {
   "cell_type": "markdown",
   "id": "ec284902",
   "metadata": {},
   "source": [
    "- if $x$ causes $y$ it is not correct to infer that everytime $x$ occurs then $y$ too occurs or that $y$ will occur if $x$ occurs - instead to intervene and force $x$ to occur then $y$ tends to happen more often ($x$ increases the proportion of times that $y$ happens) [12]"
   ]
  },
  {
   "cell_type": "markdown",
   "id": "07bc515d",
   "metadata": {},
   "source": [
    "- it took decades for the medical community to conclude that smoking cigarettes caused lung cancer - the reason is that most people who do not smoke do get lung cancer - instead it is more likely to get lung cancer if a person smokes [12]"
   ]
  },
  {
   "cell_type": "markdown",
   "id": "500094da",
   "metadata": {},
   "source": [
    "- the danger of multiple comparisons is the likeihood of observing relationships that do not actually exist and is to be avoided [14]"
   ]
  },
  {
   "cell_type": "markdown",
   "id": "35402a13",
   "metadata": {},
   "source": [
    "- performing a ``t-test`` on more than two $C$ (using a cut-off of $5\\%$) results in a high ``False Positive`` rate because of repetition (rejecting the $H_0$ when in fact should not have) [7][14]"
   ]
  },
  {
   "cell_type": "markdown",
   "id": "23fe6e8c",
   "metadata": {},
   "source": [
    "- fortunately there is a single test whereby several samples can be compared at once - called the ``f-test`` after statistician R. A. Fisher who developed the process called ``ANOVA`` on which it rests [11]"
   ]
  },
  {
   "cell_type": "markdown",
   "id": "40400d4b",
   "metadata": {},
   "source": [
    "<a id=\"solutionANOVA\"></a>\n",
    "< [Table of Contents](#top) > < [Instructions](#instructions) > < [Abstract](#abstract) > < [Introduction](#introduction)&nbsp;&nbsp;:&nbsp;&nbsp;[Sampling](#introductionScenario)&nbsp;&nbsp;|&nbsp;&nbsp;[``scipy.stats``](#solutionttest)&nbsp;&nbsp;|&nbsp;&nbsp;[Multiple Samples](#solutionMultipleSamples) > < [Solution](#solution)&nbsp;&nbsp;:&nbsp;&nbsp;[``ANOVA``](#solutionANOVA)&nbsp;&nbsp;|&nbsp;&nbsp;[Flavors of Cacao](#solutionANOVAOnewayflavorsofcacao) > < [Conclusion](#conclusion) > < [References](#references) > < [Appendix](#appendix) >\n",
    "***\n",
    "###### ``ANOVA``\n",
    "***"
   ]
  },
  {
   "cell_type": "markdown",
   "id": "2e7be9a6",
   "metadata": {},
   "source": [
    "- ``ANOVA`` can be applied to comparing two groups returning the same result as a ``t-test`` albeit more commonly used for comparing three or more samples [11]"
   ]
  },
  {
   "cell_type": "code",
   "execution_count": 145,
   "id": "147a19ff",
   "metadata": {},
   "outputs": [
    {
     "name": "stdout",
     "output_type": "stream",
     "text": [
      "    The one-way ANOVA tests the null hypothesis that two or more groups have\n",
      "    the same population mean.  The test is applied to samples from two or\n",
      "    more groups, possibly with differing sizes.\n"
     ]
    }
   ],
   "source": [
    "print(\"\\n\".join(ss.f_oneway.__doc__.split(\"\\n\")[3:6])) # function f_oneway overview"
   ]
  },
  {
   "cell_type": "code",
   "execution_count": 146,
   "id": "141d5299",
   "metadata": {},
   "outputs": [
    {
     "name": "stdout",
     "output_type": "stream",
     "text": [
      "    The ANOVA test has important assumptions that must be satisfied in order\n",
      "    for the associated p-value to be valid.\n",
      "\n",
      "    1. The samples are independent.\n",
      "    2. Each sample is from a normally distributed population.\n",
      "    3. The population standard deviations of the groups are all equal.  This\n",
      "       property is known as homoscedasticity.\n",
      "\n",
      "    If these assumptions are not true for a given set of data, it may still\n",
      "    be possible to use the Kruskal-Wallis H-test (`scipy.stats.kruskal`)\n",
      "    although with some loss of power.\n",
      "\n",
      "    The length of each group must be at least one, and there must be at\n",
      "    least one group with length greater than one.  If these conditions\n",
      "    are not satisfied, a warning is generated and (``np.nan``, ``np.nan``)\n",
      "    is returned.\n",
      "\n",
      "    If each group contains constant values, and there exist at least two\n",
      "    groups with different values, the function generates a warning and\n",
      "    returns (``np.inf``, 0).\n",
      "\n",
      "    If all values in all groups are the same, function generates a warning\n",
      "    and returns (``np.nan``, ``np.nan``).\n",
      "\n",
      "    The algorithm is from Heiman [2]_, pp.394-7.\n",
      "\n",
      "    References\n",
      "    ----------\n",
      "    .. [1] R. Lowry, \"Concepts and Applications of Inferential Statistics\",\n",
      "           Chapter 14, 2014, http://vassarstats.net/textbook/\n",
      "\n",
      "    .. [2] G.W. Heiman, \"Understanding research methods and statistics: An\n",
      "           integrated introduction for psychology\", Houghton, Mifflin and\n",
      "           Company, 2001.\n",
      "\n",
      "    .. [3] G.H. McDonald, \"Handbook of Biological Statistics\", One-way ANOVA.\n",
      "           http://www.biostathandbook.com/onewayanova.html\n"
     ]
    }
   ],
   "source": [
    "print(\"\\n\".join(ss.f_oneway.__doc__.split(\"\\n\")[38:75])) # function f_oneway assumptions"
   ]
  },
  {
   "cell_type": "markdown",
   "id": "1c89ff37",
   "metadata": {},
   "source": [
    "![significant](https://github.com/SeanOhAileasa/SeanOhAileasa/blob/master/rc/mls/scipy/significant.png?raw=true)\n",
    "\n",
    "***xkcd, \"Significant,\" [xkcd.com](https://imgs.xkcd.com/comics/significant.png), n.d..***"
   ]
  },
  {
   "cell_type": "markdown",
   "id": "4fff0d94",
   "metadata": {},
   "source": [
    "- asks the question ``Are there one or more significant differences anywhere among the samples?`` - if the answer is no then there is no point in examining the data any further [11]"
   ]
  },
  {
   "cell_type": "markdown",
   "id": "51b8dfb1",
   "metadata": {},
   "source": [
    "<a id=\"solutiontfoneway\"></a>\n",
    "< [Table of Contents](#top) > < [Instructions](#instructions) > < [Abstract](#abstract) > < [Introduction](#introduction)&nbsp;&nbsp;:&nbsp;&nbsp;[Sampling](#introductionScenario)&nbsp;&nbsp;|&nbsp;&nbsp;[``scipy.stats``](#solutionttest)&nbsp;&nbsp;|&nbsp;&nbsp;[Multiple Samples](#solutionMultipleSamples) > < [Solution](#solution)&nbsp;&nbsp;:&nbsp;&nbsp;[``ANOVA``](#solutionANOVA)&nbsp;&nbsp;|&nbsp;&nbsp;[Flavors of Cacao](#solutionANOVAOnewayflavorsofcacao) > < [Conclusion](#conclusion) > < [References](#references) > < [Appendix](#appendix) >\n",
    "***\n",
    "###### ``scipy.stats.f_oneway``\n",
    "***"
   ]
  },
  {
   "cell_type": "markdown",
   "id": "82615a59",
   "metadata": {},
   "source": [
    "- analysing example code from ``scipy.stats.f_oneway`` documentation [16]"
   ]
  },
  {
   "cell_type": "code",
   "execution_count": 147,
   "id": "7fede964",
   "metadata": {},
   "outputs": [
    {
     "name": "stdout",
     "output_type": "stream",
     "text": [
      "    >>> from scipy.stats import f_oneway\n",
      "\n",
      "    Here are some data [3]_ on a shell measurement (the length of the anterior\n",
      "    adductor muscle scar, standardized by dividing by length) in the mussel\n",
      "    Mytilus trossulus from five locations: Tillamook, Oregon; Newport, Oregon;\n",
      "    Petersburg, Alaska; Magadan, Russia; and Tvarminne, Finland, taken from a\n",
      "    much larger data set used in McDonald et al. (1991).\n",
      "\n",
      "    >>> tillamook = [0.0571, 0.0813, 0.0831, 0.0976, 0.0817, 0.0859, 0.0735,\n",
      "    ...              0.0659, 0.0923, 0.0836]\n",
      "    >>> newport = [0.0873, 0.0662, 0.0672, 0.0819, 0.0749, 0.0649, 0.0835,\n",
      "    ...            0.0725]\n",
      "    >>> petersburg = [0.0974, 0.1352, 0.0817, 0.1016, 0.0968, 0.1064, 0.105]\n",
      "    >>> magadan = [0.1033, 0.0915, 0.0781, 0.0685, 0.0677, 0.0697, 0.0764,\n",
      "    ...            0.0689]\n",
      "    >>> tvarminne = [0.0703, 0.1026, 0.0956, 0.0973, 0.1039, 0.1045]\n",
      "    >>> f_oneway(tillamook, newport, petersburg, magadan, tvarminne)\n",
      "    F_onewayResult(statistic=7.121019471642447, pvalue=0.0002812242314534544)\n"
     ]
    }
   ],
   "source": [
    "print(\"\\n\".join(ss.f_oneway.__doc__.split(\"\\n\")[78:96])) # function f_oneway example"
   ]
  },
  {
   "cell_type": "markdown",
   "id": "a6bd9205",
   "metadata": {},
   "source": [
    "<a id=\"solutionANOVAOneway\"></a>\n",
    "< [Table of Contents](#top) > < [Instructions](#instructions) > < [Abstract](#abstract) > < [Introduction](#introduction)&nbsp;&nbsp;:&nbsp;&nbsp;[Sampling](#introductionScenario)&nbsp;&nbsp;|&nbsp;&nbsp;[``scipy.stats``](#solutionttest)&nbsp;&nbsp;|&nbsp;&nbsp;[Multiple Samples](#solutionMultipleSamples) > < [Solution](#solution)&nbsp;&nbsp;:&nbsp;&nbsp;[``ANOVA``](#solutionANOVA)&nbsp;&nbsp;|&nbsp;&nbsp;[Flavors of Cacao](#solutionANOVAOnewayflavorsofcacao) > < [Conclusion](#conclusion) > < [References](#references) > < [Appendix](#appendix) >\n",
    "***\n",
    "###### One-way\n",
    "***"
   ]
  },
  {
   "cell_type": "markdown",
   "id": "b585c4c5",
   "metadata": {},
   "source": [
    "- one-way ``ANOVA`` is also known as one-factor or single-factor or single-classification ``ANOVA`` [15]"
   ]
  },
  {
   "cell_type": "markdown",
   "id": "0e48751e",
   "metadata": {},
   "source": [
    "- the technique consists of the following variables [15]:\n",
    "\n",
    "\n",
    "i. one categorical (nominal)\n",
    "\n",
    "\n",
    "- think of animal taxonomy that biologists use (such as - mammals - reptiles etc) representing categorical levels - when representing such categories using numbers then these become nominal [15][17]\n",
    "\n",
    "\n",
    "ii. one quantity (continuous or measurement)"
   ]
  },
  {
   "cell_type": "markdown",
   "id": "703de135",
   "metadata": {},
   "source": [
    "- the following five locations represent samples of the mussel Mytilus trossulus [15]"
   ]
  },
  {
   "cell_type": "markdown",
   "id": "61616d4b",
   "metadata": {},
   "source": [
    "![mytilus-trossulus](https://github.com/SeanOhAileasa/SeanOhAileasa/blob/master/rc/mls/scipy/mytilus-trossulus.png?raw=true)\n",
    "\n",
    "***G.H. McDonald, \"Handbook of Biological Statistics (One-way ANOVA)\", [biostathandbook.com](http://www.biostathandbook.com/onewayanova.html), n.d..***"
   ]
  },
  {
   "cell_type": "markdown",
   "id": "f7913d19",
   "metadata": {},
   "source": [
    "- the technique involves taking multiple observations of the quantity (shell measurement - length of the anterior adductor muscle scar standardized by dividing by length) for each value of the nominal (category - five locations) [15]"
   ]
  },
  {
   "cell_type": "markdown",
   "id": "94c7af37",
   "metadata": {},
   "source": [
    "![stattrossulus](https://github.com/SeanOhAileasa/SeanOhAileasa/blob/master/rc/mls/scipy/stattrossulus.png?raw=true)\n",
    "\n",
    "***G.H. McDonald, \"Handbook of Biological Statistics (One-way ANOVA)\", [biostathandbook.com](http://www.biostathandbook.com/onewayanova.html), n.d..***"
   ]
  },
  {
   "cell_type": "markdown",
   "id": "7c536643",
   "metadata": {},
   "source": [
    "<a id=\"solutiontfonewaySampling\"></a>\n",
    "< [Table of Contents](#top) > < [Instructions](#instructions) > < [Abstract](#abstract) > < [Introduction](#introduction)&nbsp;&nbsp;:&nbsp;&nbsp;[Sampling](#introductionScenario)&nbsp;&nbsp;|&nbsp;&nbsp;[``scipy.stats``](#solutionttest)&nbsp;&nbsp;|&nbsp;&nbsp;[Multiple Samples](#solutionMultipleSamples) > < [Solution](#solution)&nbsp;&nbsp;:&nbsp;&nbsp;[``ANOVA``](#solutionANOVA)&nbsp;&nbsp;|&nbsp;&nbsp;[Flavors of Cacao](#solutionANOVAOnewayflavorsofcacao) > < [Conclusion](#conclusion) > < [References](#references) > < [Appendix](#appendix) >\n",
    "***\n",
    "###### Sampling\n",
    "***"
   ]
  },
  {
   "cell_type": "markdown",
   "id": "c79afe57",
   "metadata": {},
   "source": [
    "- creating five $C$ each representing the five locations taken from a much larger dataset used in McDonald et al. (1991) of the shell measurements in the mussel Mytilus trossulus [15]"
   ]
  },
  {
   "cell_type": "markdown",
   "id": "caf94fb3",
   "metadata": {},
   "source": [
    "- each $C$ has six to ten observations of the measurement variable called ``AAM length`` [15]"
   ]
  },
  {
   "cell_type": "code",
   "execution_count": 148,
   "id": "cd2c0457",
   "metadata": {},
   "outputs": [],
   "source": [
    "tillamook_sample=[0.0571,0.0813,0.0831,0.0976,0.0817,0.0859,0.0735,0.0659,0.0923,0.0836]"
   ]
  },
  {
   "cell_type": "code",
   "execution_count": 149,
   "id": "c7054e23",
   "metadata": {},
   "outputs": [],
   "source": [
    "newport_sample=[0.0873,0.0662,0.0672,0.0819,0.0749,0.0649,0.0835,0.0725]"
   ]
  },
  {
   "cell_type": "code",
   "execution_count": 150,
   "id": "35dbe2b0",
   "metadata": {},
   "outputs": [],
   "source": [
    "petersburg_sample=[0.0974,0.1352,0.0817,0.1016,0.0968,0.1064,0.105]"
   ]
  },
  {
   "cell_type": "code",
   "execution_count": 151,
   "id": "cf23830c",
   "metadata": {},
   "outputs": [],
   "source": [
    "magadan_sample=[0.1033,0.0915,0.0781,0.0685,0.0677,0.0697,0.0764,0.0689]"
   ]
  },
  {
   "cell_type": "code",
   "execution_count": 152,
   "id": "b4d2ce9c",
   "metadata": {},
   "outputs": [],
   "source": [
    "tvarminne_sample=[0.0703,0.1026,0.0956,0.0973,0.1039,0.1045]"
   ]
  },
  {
   "cell_type": "markdown",
   "id": "e6041734",
   "metadata": {},
   "source": [
    "- creating a DataFrame (data structure) built from each $C$ [2][16]"
   ]
  },
  {
   "cell_type": "code",
   "execution_count": 153,
   "id": "61792202",
   "metadata": {},
   "outputs": [],
   "source": [
    "dfFoolishMussel=pd.DataFrame(data={\n",
    "    \"Location\":[\"Tillamook\"]*len(tillamook_sample)+[\"Newport\"]*len(newport_sample)+[\"Petersburg\"]*len(petersburg_sample)+[\"Magadan\"]*len(magadan_sample)+[\"Tvarminne\"]*len(tvarminne_sample),\n",
    "    \"AAM length\":np.hstack([tillamook_sample,newport_sample,petersburg_sample,magadan_sample,tvarminne_sample])})"
   ]
  },
  {
   "cell_type": "code",
   "execution_count": 154,
   "id": "2345e349",
   "metadata": {},
   "outputs": [
    {
     "data": {
      "text/html": [
       "<div>\n",
       "<style scoped>\n",
       "    .dataframe tbody tr th:only-of-type {\n",
       "        vertical-align: middle;\n",
       "    }\n",
       "\n",
       "    .dataframe tbody tr th {\n",
       "        vertical-align: top;\n",
       "    }\n",
       "\n",
       "    .dataframe thead th {\n",
       "        text-align: right;\n",
       "    }\n",
       "</style>\n",
       "<table border=\"1\" class=\"dataframe\">\n",
       "  <thead>\n",
       "    <tr style=\"text-align: right;\">\n",
       "      <th></th>\n",
       "      <th>Location</th>\n",
       "      <th>AAM length</th>\n",
       "    </tr>\n",
       "  </thead>\n",
       "  <tbody>\n",
       "    <tr>\n",
       "      <th>0</th>\n",
       "      <td>Tillamook</td>\n",
       "      <td>0.0571</td>\n",
       "    </tr>\n",
       "    <tr>\n",
       "      <th>1</th>\n",
       "      <td>Tillamook</td>\n",
       "      <td>0.0813</td>\n",
       "    </tr>\n",
       "    <tr>\n",
       "      <th>2</th>\n",
       "      <td>Tillamook</td>\n",
       "      <td>0.0831</td>\n",
       "    </tr>\n",
       "    <tr>\n",
       "      <th>3</th>\n",
       "      <td>Tillamook</td>\n",
       "      <td>0.0976</td>\n",
       "    </tr>\n",
       "    <tr>\n",
       "      <th>4</th>\n",
       "      <td>Tillamook</td>\n",
       "      <td>0.0817</td>\n",
       "    </tr>\n",
       "    <tr>\n",
       "      <th>5</th>\n",
       "      <td>Tillamook</td>\n",
       "      <td>0.0859</td>\n",
       "    </tr>\n",
       "    <tr>\n",
       "      <th>6</th>\n",
       "      <td>Tillamook</td>\n",
       "      <td>0.0735</td>\n",
       "    </tr>\n",
       "    <tr>\n",
       "      <th>7</th>\n",
       "      <td>Tillamook</td>\n",
       "      <td>0.0659</td>\n",
       "    </tr>\n",
       "    <tr>\n",
       "      <th>8</th>\n",
       "      <td>Tillamook</td>\n",
       "      <td>0.0923</td>\n",
       "    </tr>\n",
       "    <tr>\n",
       "      <th>9</th>\n",
       "      <td>Tillamook</td>\n",
       "      <td>0.0836</td>\n",
       "    </tr>\n",
       "    <tr>\n",
       "      <th>10</th>\n",
       "      <td>Newport</td>\n",
       "      <td>0.0873</td>\n",
       "    </tr>\n",
       "    <tr>\n",
       "      <th>11</th>\n",
       "      <td>Newport</td>\n",
       "      <td>0.0662</td>\n",
       "    </tr>\n",
       "    <tr>\n",
       "      <th>12</th>\n",
       "      <td>Newport</td>\n",
       "      <td>0.0672</td>\n",
       "    </tr>\n",
       "    <tr>\n",
       "      <th>13</th>\n",
       "      <td>Newport</td>\n",
       "      <td>0.0819</td>\n",
       "    </tr>\n",
       "    <tr>\n",
       "      <th>14</th>\n",
       "      <td>Newport</td>\n",
       "      <td>0.0749</td>\n",
       "    </tr>\n",
       "    <tr>\n",
       "      <th>15</th>\n",
       "      <td>Newport</td>\n",
       "      <td>0.0649</td>\n",
       "    </tr>\n",
       "    <tr>\n",
       "      <th>16</th>\n",
       "      <td>Newport</td>\n",
       "      <td>0.0835</td>\n",
       "    </tr>\n",
       "    <tr>\n",
       "      <th>17</th>\n",
       "      <td>Newport</td>\n",
       "      <td>0.0725</td>\n",
       "    </tr>\n",
       "    <tr>\n",
       "      <th>18</th>\n",
       "      <td>Petersburg</td>\n",
       "      <td>0.0974</td>\n",
       "    </tr>\n",
       "    <tr>\n",
       "      <th>19</th>\n",
       "      <td>Petersburg</td>\n",
       "      <td>0.1352</td>\n",
       "    </tr>\n",
       "    <tr>\n",
       "      <th>20</th>\n",
       "      <td>Petersburg</td>\n",
       "      <td>0.0817</td>\n",
       "    </tr>\n",
       "    <tr>\n",
       "      <th>21</th>\n",
       "      <td>Petersburg</td>\n",
       "      <td>0.1016</td>\n",
       "    </tr>\n",
       "    <tr>\n",
       "      <th>22</th>\n",
       "      <td>Petersburg</td>\n",
       "      <td>0.0968</td>\n",
       "    </tr>\n",
       "    <tr>\n",
       "      <th>23</th>\n",
       "      <td>Petersburg</td>\n",
       "      <td>0.1064</td>\n",
       "    </tr>\n",
       "    <tr>\n",
       "      <th>24</th>\n",
       "      <td>Petersburg</td>\n",
       "      <td>0.1050</td>\n",
       "    </tr>\n",
       "    <tr>\n",
       "      <th>25</th>\n",
       "      <td>Magadan</td>\n",
       "      <td>0.1033</td>\n",
       "    </tr>\n",
       "    <tr>\n",
       "      <th>26</th>\n",
       "      <td>Magadan</td>\n",
       "      <td>0.0915</td>\n",
       "    </tr>\n",
       "    <tr>\n",
       "      <th>27</th>\n",
       "      <td>Magadan</td>\n",
       "      <td>0.0781</td>\n",
       "    </tr>\n",
       "    <tr>\n",
       "      <th>28</th>\n",
       "      <td>Magadan</td>\n",
       "      <td>0.0685</td>\n",
       "    </tr>\n",
       "    <tr>\n",
       "      <th>29</th>\n",
       "      <td>Magadan</td>\n",
       "      <td>0.0677</td>\n",
       "    </tr>\n",
       "    <tr>\n",
       "      <th>30</th>\n",
       "      <td>Magadan</td>\n",
       "      <td>0.0697</td>\n",
       "    </tr>\n",
       "    <tr>\n",
       "      <th>31</th>\n",
       "      <td>Magadan</td>\n",
       "      <td>0.0764</td>\n",
       "    </tr>\n",
       "    <tr>\n",
       "      <th>32</th>\n",
       "      <td>Magadan</td>\n",
       "      <td>0.0689</td>\n",
       "    </tr>\n",
       "    <tr>\n",
       "      <th>33</th>\n",
       "      <td>Tvarminne</td>\n",
       "      <td>0.0703</td>\n",
       "    </tr>\n",
       "    <tr>\n",
       "      <th>34</th>\n",
       "      <td>Tvarminne</td>\n",
       "      <td>0.1026</td>\n",
       "    </tr>\n",
       "    <tr>\n",
       "      <th>35</th>\n",
       "      <td>Tvarminne</td>\n",
       "      <td>0.0956</td>\n",
       "    </tr>\n",
       "    <tr>\n",
       "      <th>36</th>\n",
       "      <td>Tvarminne</td>\n",
       "      <td>0.0973</td>\n",
       "    </tr>\n",
       "    <tr>\n",
       "      <th>37</th>\n",
       "      <td>Tvarminne</td>\n",
       "      <td>0.1039</td>\n",
       "    </tr>\n",
       "    <tr>\n",
       "      <th>38</th>\n",
       "      <td>Tvarminne</td>\n",
       "      <td>0.1045</td>\n",
       "    </tr>\n",
       "  </tbody>\n",
       "</table>\n",
       "</div>"
      ],
      "text/plain": [
       "      Location  AAM length\n",
       "0    Tillamook      0.0571\n",
       "1    Tillamook      0.0813\n",
       "2    Tillamook      0.0831\n",
       "3    Tillamook      0.0976\n",
       "4    Tillamook      0.0817\n",
       "5    Tillamook      0.0859\n",
       "6    Tillamook      0.0735\n",
       "7    Tillamook      0.0659\n",
       "8    Tillamook      0.0923\n",
       "9    Tillamook      0.0836\n",
       "10     Newport      0.0873\n",
       "11     Newport      0.0662\n",
       "12     Newport      0.0672\n",
       "13     Newport      0.0819\n",
       "14     Newport      0.0749\n",
       "15     Newport      0.0649\n",
       "16     Newport      0.0835\n",
       "17     Newport      0.0725\n",
       "18  Petersburg      0.0974\n",
       "19  Petersburg      0.1352\n",
       "20  Petersburg      0.0817\n",
       "21  Petersburg      0.1016\n",
       "22  Petersburg      0.0968\n",
       "23  Petersburg      0.1064\n",
       "24  Petersburg      0.1050\n",
       "25     Magadan      0.1033\n",
       "26     Magadan      0.0915\n",
       "27     Magadan      0.0781\n",
       "28     Magadan      0.0685\n",
       "29     Magadan      0.0677\n",
       "30     Magadan      0.0697\n",
       "31     Magadan      0.0764\n",
       "32     Magadan      0.0689\n",
       "33   Tvarminne      0.0703\n",
       "34   Tvarminne      0.1026\n",
       "35   Tvarminne      0.0956\n",
       "36   Tvarminne      0.0973\n",
       "37   Tvarminne      0.1039\n",
       "38   Tvarminne      0.1045"
      ]
     },
     "execution_count": 154,
     "metadata": {},
     "output_type": "execute_result"
    }
   ],
   "source": [
    "dfFoolishMussel"
   ]
  },
  {
   "cell_type": "markdown",
   "id": "f8842d53",
   "metadata": {},
   "source": [
    "<a id=\"solutiontfonewaySamplingVisualisation\"></a>\n",
    "< [Table of Contents](#top) > < [Instructions](#instructions) > < [Abstract](#abstract) > < [Introduction](#introduction)&nbsp;&nbsp;:&nbsp;&nbsp;[Sampling](#introductionScenario)&nbsp;&nbsp;|&nbsp;&nbsp;[``scipy.stats``](#solutionttest)&nbsp;&nbsp;|&nbsp;&nbsp;[Multiple Samples](#solutionMultipleSamples) > < [Solution](#solution)&nbsp;&nbsp;:&nbsp;&nbsp;[``ANOVA``](#solutionANOVA)&nbsp;&nbsp;|&nbsp;&nbsp;[Flavors of Cacao](#solutionANOVAOnewayflavorsofcacao) > < [Conclusion](#conclusion) > < [References](#references) > < [Appendix](#appendix) >\n",
    "***\n",
    "###### Visualisation\n",
    "***"
   ]
  },
  {
   "cell_type": "code",
   "execution_count": 155,
   "id": "e82e2fb2",
   "metadata": {},
   "outputs": [
    {
     "name": "stdout",
     "output_type": "stream",
     "text": [
      "Draw a box plot to show distributions with respect to categories.\n",
      "\n",
      "A box plot (or box-and-whisker plot) shows the distribution of quantitative\n",
      "data in a way that facilitates comparisons between variables or across\n",
      "levels of a categorical variable. The box shows the quartiles of the\n",
      "dataset while the whiskers extend to show the rest of the distribution,\n",
      "except for points that are determined to be \"outliers\" using a method\n",
      "that is a function of the inter-quartile range.\n"
     ]
    }
   ],
   "source": [
    "print(\"\\n\".join(sns.boxplot.__doc__.split(\"\\n\")[:8])) # function boxplot overview"
   ]
  },
  {
   "cell_type": "code",
   "execution_count": 156,
   "id": "083c95a5",
   "metadata": {},
   "outputs": [
    {
     "name": "stdout",
     "output_type": "stream",
     "text": [
      "A swarm plot can be drawn on its own, but it is also a good complement\n",
      "to a box or violin plot in cases where you want to show all observations\n",
      "along with some representation of the underlying distribution.\n"
     ]
    }
   ],
   "source": [
    "print(\"\\n\".join(sns.swarmplot.__doc__.split(\"\\n\")[8:11])) # function swarmplot overview"
   ]
  },
  {
   "cell_type": "markdown",
   "id": "fdfe41af",
   "metadata": {},
   "source": [
    "- the box plot includes the actual data points [16]"
   ]
  },
  {
   "cell_type": "markdown",
   "id": "a96c9463",
   "metadata": {},
   "source": [
    "- Peterburg is clustered closely albeit has two outliners [16]"
   ]
  },
  {
   "cell_type": "code",
   "execution_count": 157,
   "id": "fc9a4304",
   "metadata": {},
   "outputs": [
    {
     "data": {
      "image/png": "[encoded data removed]",
      "text/plain": [
       "<Figure size 921.6x518.4 with 1 Axes>"
      ]
     },
     "metadata": {},
     "output_type": "display_data"
    }
   ],
   "source": [
    "fig,ax=plt.subplots()\n",
    "sns.boxplot(x=\"Location\",y=\"AAM length\",data=dfFoolishMussel,ax=ax,color=\"aqua\",linewidth=4) # location of mussel\n",
    "sns.swarmplot(x=\"Location\",y=\"AAM length\",data=dfFoolishMussel,ax=ax,color=\"red\",alpha=0.9,size=12); # actual data points"
   ]
  },
  {
   "cell_type": "code",
   "execution_count": 158,
   "id": "b7f8ac11",
   "metadata": {
    "scrolled": false
   },
   "outputs": [
    {
     "name": "stdout",
     "output_type": "stream",
     "text": [
      "Draw a combination of boxplot and kernel density estimate.\n",
      "\n",
      "A violin plot plays a similar role as a box and whisker plot. It shows the\n",
      "distribution of quantitative data across several levels of one (or more)\n",
      "categorical variables such that those distributions can be compared. Unlike\n",
      "a box plot, in which all of the plot components correspond to actual\n",
      "datapoints, the violin plot features a kernel density estimation of the\n",
      "underlying distribution.\n",
      "\n",
      "This can be an effective and attractive way to show multiple distributions\n",
      "of data at once, but keep in mind that the estimation procedure is\n",
      "influenced by the sample size, and violins for relatively small samples\n",
      "might look misleadingly smooth.\n"
     ]
    }
   ],
   "source": [
    "print(\"\\n\".join(sns.violinplot.__doc__.split(\"\\n\")[:13])) # function violinplot overview"
   ]
  },
  {
   "cell_type": "markdown",
   "id": "e17d14c9",
   "metadata": {},
   "source": [
    "- the violin plot show how the data points are formed (emphasising location) [16]"
   ]
  },
  {
   "cell_type": "code",
   "execution_count": 159,
   "id": "aaed4fd5",
   "metadata": {},
   "outputs": [
    {
     "data": {
      "image/png": "[encoded data removed]",
      "text/plain": [
       "<Figure size 921.6x518.4 with 1 Axes>"
      ]
     },
     "metadata": {},
     "output_type": "display_data"
    }
   ],
   "source": [
    "fig,ax=plt.subplots()\n",
    "sns.violinplot(x=\"Location\",y=\"AAM length\",data=dfFoolishMussel,ax=ax,color=\"aqua\",\n",
    "               inner=\"quartile\", # mean and quariles\n",
    "               bw=.3) # smoothing to use\n",
    "sns.swarmplot(x=\"Location\",y=\"AAM length\",data=dfFoolishMussel,ax=ax,color=\"red\",alpha=0.9,size=12); # note location Petersburg"
   ]
  },
  {
   "cell_type": "markdown",
   "id": "0d33150e",
   "metadata": {},
   "source": [
    "<a id=\"solutiontfonewayHypothesis\"></a>\n",
    "< [Table of Contents](#top) > < [Instructions](#instructions) > < [Abstract](#abstract) > < [Introduction](#introduction)&nbsp;&nbsp;:&nbsp;&nbsp;[Sampling](#introductionScenario)&nbsp;&nbsp;|&nbsp;&nbsp;[``scipy.stats``](#solutionttest)&nbsp;&nbsp;|&nbsp;&nbsp;[Multiple Samples](#solutionMultipleSamples) > < [Solution](#solution)&nbsp;&nbsp;:&nbsp;&nbsp;[``ANOVA``](#solutionANOVA)&nbsp;&nbsp;|&nbsp;&nbsp;[Flavors of Cacao](#solutionANOVAOnewayflavorsofcacao) > < [Conclusion](#conclusion) > < [References](#references) > < [Appendix](#appendix) >\n",
    "***\n",
    "###### Hypothesis\n",
    "***"
   ]
  },
  {
   "cell_type": "markdown",
   "id": "25bbf8b6",
   "metadata": {},
   "source": [
    "- the $H_0$ is that the $\\bar x$ of the measurement variable ``AAM lengths`` are the same for each location (category) [15]"
   ]
  },
  {
   "cell_type": "markdown",
   "id": "7c5cf42e",
   "metadata": {},
   "source": [
    "<a id=\"solutionfonewaynull\"></a>\n",
    "< [Table of Contents](#top) > < [Instructions](#instructions) > < [Abstract](#abstract) > < [Introduction](#introduction)&nbsp;&nbsp;:&nbsp;&nbsp;[Sampling](#introductionScenario)&nbsp;&nbsp;|&nbsp;&nbsp;[``scipy.stats``](#solutionttest)&nbsp;&nbsp;|&nbsp;&nbsp;[Multiple Samples](#solutionMultipleSamples) > < [Solution](#solution)&nbsp;&nbsp;:&nbsp;&nbsp;[``ANOVA``](#solutionANOVA)&nbsp;&nbsp;|&nbsp;&nbsp;[Flavors of Cacao](#solutionANOVAOnewayflavorsofcacao) > < [Conclusion](#conclusion) > < [References](#references) > < [Appendix](#appendix) >\n",
    "***\n",
    "###### $H_0$\n",
    "***"
   ]
  },
  {
   "cell_type": "markdown",
   "id": "5cafe148",
   "metadata": {},
   "source": [
    "$$H_0:\\bar x_{(Tillamook)}=\\bar x_{(Newport)}=\\bar x_{(Petersburg)}=\\bar x_{(Magadan)}=\\bar x_{(Tvarminne)}\\tag{7}$$"
   ]
  },
  {
   "cell_type": "markdown",
   "id": "4f7de786",
   "metadata": {},
   "source": [
    "<a id=\"solutionfonewaynullalternative\"></a>\n",
    "< [Table of Contents](#top) > < [Instructions](#instructions) > < [Abstract](#abstract) > < [Introduction](#introduction)&nbsp;&nbsp;:&nbsp;&nbsp;[Sampling](#introductionScenario)&nbsp;&nbsp;|&nbsp;&nbsp;[``scipy.stats``](#solutionttest)&nbsp;&nbsp;|&nbsp;&nbsp;[Multiple Samples](#solutionMultipleSamples) > < [Solution](#solution)&nbsp;&nbsp;:&nbsp;&nbsp;[``ANOVA``](#solutionANOVA)&nbsp;&nbsp;|&nbsp;&nbsp;[Flavors of Cacao](#solutionANOVAOnewayflavorsofcacao) > < [Conclusion](#conclusion) > < [References](#references) > < [Appendix](#appendix) >\n",
    "***\n",
    "###### $H_1$\n",
    "***"
   ]
  },
  {
   "cell_type": "markdown",
   "id": "0d6a0fa3",
   "metadata": {},
   "source": [
    "$$At\\space least\\space one\\space pair\\space of\\space \\bar x\\space AAM\\space length\\space is\\space not\\space equal.$$"
   ]
  },
  {
   "cell_type": "markdown",
   "id": "92c1592e",
   "metadata": {},
   "source": [
    "<hr width=50%;>"
   ]
  },
  {
   "cell_type": "markdown",
   "id": "2703685b",
   "metadata": {},
   "source": [
    "<a id=\"solutiontfonewaySamplingVisualisationANOVA\"></a>\n",
    "< [Table of Contents](#top) > < [Instructions](#instructions) > < [Abstract](#abstract) > < [Introduction](#introduction)&nbsp;&nbsp;:&nbsp;&nbsp;[Sampling](#introductionScenario)&nbsp;&nbsp;|&nbsp;&nbsp;[``scipy.stats``](#solutionttest)&nbsp;&nbsp;|&nbsp;&nbsp;[Multiple Samples](#solutionMultipleSamples) > < [Solution](#solution)&nbsp;&nbsp;:&nbsp;&nbsp;[``ANOVA``](#solutionANOVA)&nbsp;&nbsp;|&nbsp;&nbsp;[Flavors of Cacao](#solutionANOVAOnewayflavorsofcacao) > < [Conclusion](#conclusion) > < [References](#references) > < [Appendix](#appendix) >\n",
    "***\n",
    "###### ``ANOVA``\n",
    "***"
   ]
  },
  {
   "cell_type": "code",
   "execution_count": 160,
   "id": "3c9588ec",
   "metadata": {},
   "outputs": [
    {
     "data": {
      "text/plain": [
       "<function scipy.stats.stats.f_oneway(*args, axis=0)>"
      ]
     },
     "execution_count": 160,
     "metadata": {},
     "output_type": "execute_result"
    }
   ],
   "source": [
    "ss.f_oneway # function f_oneway signature"
   ]
  },
  {
   "cell_type": "markdown",
   "id": "54c3532a",
   "metadata": {},
   "source": [
    "- passing $C$ in the function ``f_oneway`` [16] "
   ]
  },
  {
   "cell_type": "code",
   "execution_count": 161,
   "id": "a4311a7c",
   "metadata": {},
   "outputs": [],
   "source": [
    "f_av_ss,p_av_ss=ss.f_oneway(tillamook_sample,newport_sample,petersburg_sample,magadan_sample,tvarminne_sample) # return statistic pvalue"
   ]
  },
  {
   "cell_type": "markdown",
   "id": "f870e479",
   "metadata": {},
   "source": [
    "- the calculation returns:"
   ]
  },
  {
   "cell_type": "markdown",
   "id": "4215d609",
   "metadata": {},
   "source": [
    "i.) the ``f-statistic`` (does not have much meaning independently) [7][16]"
   ]
  },
  {
   "cell_type": "code",
   "execution_count": 162,
   "id": "1c406d75",
   "metadata": {
    "scrolled": false
   },
   "outputs": [
    {
     "name": "stdout",
     "output_type": "stream",
     "text": [
      "    statistic : float\n",
      "        The computed F statistic of the test.\n"
     ]
    }
   ],
   "source": [
    "print(\"\\n\".join(ss.f_oneway.__doc__.split(\"\\n\")[19:21])) # return statistic overview"
   ]
  },
  {
   "cell_type": "code",
   "execution_count": 163,
   "id": "00677799",
   "metadata": {},
   "outputs": [
    {
     "data": {
      "text/plain": [
       "7.121019471642447"
      ]
     },
     "execution_count": 163,
     "metadata": {},
     "output_type": "execute_result"
    }
   ],
   "source": [
    "f_av_ss"
   ]
  },
  {
   "cell_type": "markdown",
   "id": "63d61df5",
   "metadata": {},
   "source": [
    "ii. the ``p-value`` associated with the ``f-statistic`` [7][16]"
   ]
  },
  {
   "cell_type": "code",
   "execution_count": 164,
   "id": "58683a95",
   "metadata": {},
   "outputs": [
    {
     "name": "stdout",
     "output_type": "stream",
     "text": [
      "    pvalue : float\n",
      "        The associated p-value from the F distribution.\n"
     ]
    }
   ],
   "source": [
    "print(\"\\n\".join(ss.f_oneway.__doc__.split(\"\\n\")[21:23])) # return p-value overview"
   ]
  },
  {
   "cell_type": "code",
   "execution_count": 165,
   "id": "61a5f1e2",
   "metadata": {},
   "outputs": [
    {
     "data": {
      "text/plain": [
       "0.0002812242314534544"
      ]
     },
     "execution_count": 165,
     "metadata": {},
     "output_type": "execute_result"
    }
   ],
   "source": [
    "p_av_ss"
   ]
  },
  {
   "cell_type": "markdown",
   "id": "c0bc2ffc",
   "metadata": {},
   "source": [
    "- using the same ``p-value`` cutoff of $0.05$ meaning there is a $5\\$ chance of making the wrong decision therefore determine there is a significant difference [4]"
   ]
  },
  {
   "cell_type": "markdown",
   "id": "8e146a80",
   "metadata": {},
   "source": [
    "- the ``ANOVA`` is suggesting there is almost a $0\\%$ chance (zero probability) of observing $C$ sample values with populations of the same $\\bar x$ therefore rejecting the $H_0$ ``(Eq. (7))`` [4][7][10][16] "
   ]
  },
  {
   "cell_type": "code",
   "execution_count": 166,
   "id": "5a0446a8",
   "metadata": {},
   "outputs": [
    {
     "name": "stdout",
     "output_type": "stream",
     "text": [
      "0.00\n"
     ]
    }
   ],
   "source": [
    "print(f\"{p_av_ss:.02f}\") # round second decimal"
   ]
  },
  {
   "cell_type": "markdown",
   "id": "127cf101",
   "metadata": {},
   "source": [
    "<a id=\"solutiontfonewaySamplingVisualisationANOVAOrigination\"></a>\n",
    "< [Table of Contents](#top) > < [Instructions](#instructions) > < [Abstract](#abstract) > < [Introduction](#introduction)&nbsp;&nbsp;:&nbsp;&nbsp;[Sampling](#introductionScenario)&nbsp;&nbsp;|&nbsp;&nbsp;[``scipy.stats``](#solutionttest)&nbsp;&nbsp;|&nbsp;&nbsp;[Multiple Samples](#solutionMultipleSamples) > < [Solution](#solution)&nbsp;&nbsp;:&nbsp;&nbsp;[``ANOVA``](#solutionANOVA)&nbsp;&nbsp;|&nbsp;&nbsp;[Flavors of Cacao](#solutionANOVAOnewayflavorsofcacao) > < [Conclusion](#conclusion) > < [References](#references) > < [Appendix](#appendix) >\n",
    "***\n",
    "###### Statistic\n",
    "***"
   ]
  },
  {
   "cell_type": "code",
   "execution_count": 167,
   "id": "b7b687d2",
   "metadata": {},
   "outputs": [
    {
     "data": {
      "text/plain": [
       "[[0.0571,\n",
       "  0.0813,\n",
       "  0.0831,\n",
       "  0.0976,\n",
       "  0.0817,\n",
       "  0.0859,\n",
       "  0.0735,\n",
       "  0.0659,\n",
       "  0.0923,\n",
       "  0.0836],\n",
       " [0.0873, 0.0662, 0.0672, 0.0819, 0.0749, 0.0649, 0.0835, 0.0725],\n",
       " [0.0974, 0.1352, 0.0817, 0.1016, 0.0968, 0.1064, 0.105],\n",
       " [0.1033, 0.0915, 0.0781, 0.0685, 0.0677, 0.0697, 0.0764, 0.0689],\n",
       " [0.0703, 0.1026, 0.0956, 0.0973, 0.1039, 0.1045]]"
      ]
     },
     "execution_count": 167,
     "metadata": {},
     "output_type": "execute_result"
    }
   ],
   "source": [
    "e=[tillamook_sample,newport_sample,petersburg_sample,magadan_sample,tvarminne_sample] # experiment with samples\n",
    "e"
   ]
  },
  {
   "cell_type": "code",
   "execution_count": 168,
   "id": "8b63bc8a",
   "metadata": {},
   "outputs": [
    {
     "data": {
      "text/plain": [
       "[0.0571,\n",
       " 0.0813,\n",
       " 0.0831,\n",
       " 0.0976,\n",
       " 0.0817,\n",
       " 0.0859,\n",
       " 0.0735,\n",
       " 0.0659,\n",
       " 0.0923,\n",
       " 0.0836]"
      ]
     },
     "execution_count": 168,
     "metadata": {},
     "output_type": "execute_result"
    }
   ],
   "source": [
    "y_1=e[0] # first experiment collection\n",
    "y_1"
   ]
  },
  {
   "cell_type": "code",
   "execution_count": 169,
   "id": "c9d6ba39",
   "metadata": {},
   "outputs": [
    {
     "data": {
      "text/plain": [
       "[0.0873, 0.0662, 0.0672, 0.0819, 0.0749, 0.0649, 0.0835, 0.0725]"
      ]
     },
     "execution_count": 169,
     "metadata": {},
     "output_type": "execute_result"
    }
   ],
   "source": [
    "y_2=e[1] # second experiment collection\n",
    "y_2"
   ]
  },
  {
   "cell_type": "code",
   "execution_count": 170,
   "id": "e406d694",
   "metadata": {},
   "outputs": [
    {
     "data": {
      "text/plain": [
       "[0.0974, 0.1352, 0.0817, 0.1016, 0.0968, 0.1064, 0.105]"
      ]
     },
     "execution_count": 170,
     "metadata": {},
     "output_type": "execute_result"
    }
   ],
   "source": [
    "y_3=e[2] # third experiment collection\n",
    "y_3"
   ]
  },
  {
   "cell_type": "code",
   "execution_count": 171,
   "id": "eb5ecd20",
   "metadata": {},
   "outputs": [
    {
     "data": {
      "text/plain": [
       "[0.1033, 0.0915, 0.0781, 0.0685, 0.0677, 0.0697, 0.0764, 0.0689]"
      ]
     },
     "execution_count": 171,
     "metadata": {},
     "output_type": "execute_result"
    }
   ],
   "source": [
    "y_4=e[3] # fourth experiment collection\n",
    "y_4"
   ]
  },
  {
   "cell_type": "code",
   "execution_count": 172,
   "id": "6a593c24",
   "metadata": {},
   "outputs": [
    {
     "data": {
      "text/plain": [
       "[0.0703, 0.1026, 0.0956, 0.0973, 0.1039, 0.1045]"
      ]
     },
     "execution_count": 172,
     "metadata": {},
     "output_type": "execute_result"
    }
   ],
   "source": [
    "y_5=e[4] # fourth experiment collection\n",
    "y_5"
   ]
  },
  {
   "cell_type": "code",
   "execution_count": 173,
   "id": "e89abd47",
   "metadata": {},
   "outputs": [
    {
     "data": {
      "text/plain": [
       "5"
      ]
     },
     "execution_count": 173,
     "metadata": {},
     "output_type": "execute_result"
    }
   ],
   "source": [
    "a=len(e) # number of collections\n",
    "a"
   ]
  },
  {
   "cell_type": "code",
   "execution_count": 174,
   "id": "78cc2453",
   "metadata": {},
   "outputs": [
    {
     "data": {
      "text/plain": [
       "10"
      ]
     },
     "execution_count": 174,
     "metadata": {},
     "output_type": "execute_result"
    }
   ],
   "source": [
    "n_y_1=len(y_1) # total values y_1\n",
    "n_y_1"
   ]
  },
  {
   "cell_type": "code",
   "execution_count": 175,
   "id": "2d592171",
   "metadata": {},
   "outputs": [
    {
     "data": {
      "text/plain": [
       "8"
      ]
     },
     "execution_count": 175,
     "metadata": {},
     "output_type": "execute_result"
    }
   ],
   "source": [
    "n_y_2=len(y_2) # total values y_2\n",
    "n_y_2"
   ]
  },
  {
   "cell_type": "code",
   "execution_count": 176,
   "id": "696ee056",
   "metadata": {},
   "outputs": [
    {
     "data": {
      "text/plain": [
       "7"
      ]
     },
     "execution_count": 176,
     "metadata": {},
     "output_type": "execute_result"
    }
   ],
   "source": [
    "n_y_3=len(y_3) # total values y_3\n",
    "n_y_3"
   ]
  },
  {
   "cell_type": "code",
   "execution_count": 177,
   "id": "66f3d48b",
   "metadata": {},
   "outputs": [
    {
     "data": {
      "text/plain": [
       "8"
      ]
     },
     "execution_count": 177,
     "metadata": {},
     "output_type": "execute_result"
    }
   ],
   "source": [
    "n_y_4=len(y_4) # total values y_4\n",
    "n_y_4"
   ]
  },
  {
   "cell_type": "code",
   "execution_count": 178,
   "id": "5e73af29",
   "metadata": {},
   "outputs": [
    {
     "data": {
      "text/plain": [
       "6"
      ]
     },
     "execution_count": 178,
     "metadata": {},
     "output_type": "execute_result"
    }
   ],
   "source": [
    "n_y_5=len(y_5) # total values y_5\n",
    "n_y_5"
   ]
  },
  {
   "cell_type": "markdown",
   "id": "8e7da52a",
   "metadata": {},
   "source": [
    "- calculating the $\\bar x$ within each group [15] "
   ]
  },
  {
   "cell_type": "code",
   "execution_count": 179,
   "id": "fec6a3ca",
   "metadata": {},
   "outputs": [
    {
     "data": {
      "text/plain": [
       "0.0802"
      ]
     },
     "execution_count": 179,
     "metadata": {},
     "output_type": "execute_result"
    }
   ],
   "source": [
    "y_1_m=sum(y_1)/n_y_1 # mean collection y_1\n",
    "y_1_m"
   ]
  },
  {
   "cell_type": "code",
   "execution_count": 180,
   "id": "8fce5d22",
   "metadata": {},
   "outputs": [
    {
     "data": {
      "text/plain": [
       "0.07479999999999999"
      ]
     },
     "execution_count": 180,
     "metadata": {},
     "output_type": "execute_result"
    }
   ],
   "source": [
    "y_2_m=sum(y_2)/n_y_2 # mean collection y_2\n",
    "y_2_m"
   ]
  },
  {
   "cell_type": "code",
   "execution_count": 181,
   "id": "644a8257",
   "metadata": {},
   "outputs": [
    {
     "data": {
      "text/plain": [
       "0.10344285714285714"
      ]
     },
     "execution_count": 181,
     "metadata": {},
     "output_type": "execute_result"
    }
   ],
   "source": [
    "y_3_m=sum(y_3)/n_y_3 # mean collection y_3\n",
    "y_3_m"
   ]
  },
  {
   "cell_type": "code",
   "execution_count": 182,
   "id": "2131725a",
   "metadata": {},
   "outputs": [
    {
     "data": {
      "text/plain": [
       "0.0780125"
      ]
     },
     "execution_count": 182,
     "metadata": {},
     "output_type": "execute_result"
    }
   ],
   "source": [
    "y_4_m=sum(y_4)/n_y_4 # mean collection y_4\n",
    "y_4_m"
   ]
  },
  {
   "cell_type": "code",
   "execution_count": 183,
   "id": "90831ea6",
   "metadata": {},
   "outputs": [
    {
     "data": {
      "text/plain": [
       "0.09570000000000001"
      ]
     },
     "execution_count": 183,
     "metadata": {},
     "output_type": "execute_result"
    }
   ],
   "source": [
    "y_5_m=sum(y_5)/n_y_5 # mean collection y_5\n",
    "y_5_m"
   ]
  },
  {
   "cell_type": "markdown",
   "id": "aad3b40a",
   "metadata": {},
   "source": [
    "- calculating the mean of the overall $\\bar x$ [15] "
   ]
  },
  {
   "cell_type": "code",
   "execution_count": 184,
   "id": "a446aa02",
   "metadata": {},
   "outputs": [
    {
     "data": {
      "text/plain": [
       "0.08643107142857141"
      ]
     },
     "execution_count": 184,
     "metadata": {},
     "output_type": "execute_result"
    }
   ],
   "source": [
    "y=(y_1_m+y_2_m+y_3_m+y_4_m+y_5_m)/a # mean all collection\n",
    "y"
   ]
  },
  {
   "cell_type": "markdown",
   "id": "0ea09d18",
   "metadata": {},
   "source": [
    "- calculating the sum of squared differences among the groups [15]"
   ]
  },
  {
   "cell_type": "code",
   "execution_count": 185,
   "id": "a74ecb22",
   "metadata": {},
   "outputs": [
    {
     "data": {
      "text/plain": [
       "0.00457878004477041"
      ]
     },
     "execution_count": 185,
     "metadata": {},
     "output_type": "execute_result"
    }
   ],
   "source": [
    "s_b=(n_y_1*(y_1_m-y)**2)+(n_y_2*(y_2_m-y)**2)+(n_y_3*(y_3_m-y)**2)+(n_y_4*(y_4_m-y)**2)+(n_y_5*(y_5_m-y)**2) # sum squared between\n",
    "s_b"
   ]
  },
  {
   "cell_type": "code",
   "execution_count": 186,
   "id": "4ad65c8d",
   "metadata": {},
   "outputs": [
    {
     "data": {
      "text/plain": [
       "4"
      ]
     },
     "execution_count": 186,
     "metadata": {},
     "output_type": "execute_result"
    }
   ],
   "source": [
    "f_b=a-1 # degrees freedom between\n",
    "f_b"
   ]
  },
  {
   "cell_type": "code",
   "execution_count": 187,
   "id": "dd81aab4",
   "metadata": {},
   "outputs": [
    {
     "data": {
      "text/plain": [
       "0.0011446950111926024"
      ]
     },
     "execution_count": 187,
     "metadata": {},
     "output_type": "execute_result"
    }
   ],
   "source": [
    "m_s_b=s_b/f_b # mean square between\n",
    "m_s_b"
   ]
  },
  {
   "cell_type": "markdown",
   "id": "7a87b442",
   "metadata": {},
   "source": [
    "- calculating the sum of squares within groups [15]"
   ]
  },
  {
   "cell_type": "code",
   "execution_count": 188,
   "id": "e629f88c",
   "metadata": {},
   "outputs": [
    {
     "data": {
      "text/plain": [
       "0.0053949058928571434"
      ]
     },
     "execution_count": 188,
     "metadata": {},
     "output_type": "execute_result"
    }
   ],
   "source": [
    "s_w=sum([(y_1[i]-y_1_m)**2 for i in range(n_y_1)])+ \\\n",
    "    sum([(y_2[i]-y_2_m)**2 for i in range(n_y_2)])+ \\\n",
    "    sum([(y_3[i]-y_3_m)**2 for i in range(n_y_3)])+ \\\n",
    "    sum([(y_4[i]-y_4_m)**2 for i in range(n_y_4)])+ \\\n",
    "    sum([(y_5[i]-y_5_m)**2 for i in range(n_y_5)]) # sum squares within\n",
    "s_w"
   ]
  },
  {
   "cell_type": "code",
   "execution_count": 189,
   "id": "d20c1633",
   "metadata": {},
   "outputs": [
    {
     "data": {
      "text/plain": [
       "34.0"
      ]
     },
     "execution_count": 189,
     "metadata": {},
     "output_type": "execute_result"
    }
   ],
   "source": [
    "f_w=a*(((n_y_1+n_y_2+n_y_3+n_y_4+n_y_5)/a)-1) # degrees freedom within\n",
    "f_w"
   ]
  },
  {
   "cell_type": "code",
   "execution_count": 190,
   "id": "717ca498",
   "metadata": {},
   "outputs": [
    {
     "data": {
      "text/plain": [
       "0.00015867370273109246"
      ]
     },
     "execution_count": 190,
     "metadata": {},
     "output_type": "execute_result"
    }
   ],
   "source": [
    "m_s_w=s_w/f_w # mean square within\n",
    "m_s_w"
   ]
  },
  {
   "cell_type": "code",
   "execution_count": 191,
   "id": "0f940a12",
   "metadata": {},
   "outputs": [
    {
     "data": {
      "text/plain": [
       "7.214144445425467"
      ]
     },
     "execution_count": 191,
     "metadata": {},
     "output_type": "execute_result"
    }
   ],
   "source": [
    "f=m_s_b/m_s_w\n",
    "f"
   ]
  },
  {
   "cell_type": "markdown",
   "id": "485ab374",
   "metadata": {},
   "source": [
    "<a id=\"solutionANOVAOnewayflavorsofcacao\"></a>\n",
    "< [Table of Contents](#top) > < [Instructions](#instructions) > < [Abstract](#abstract) > < [Introduction](#introduction)&nbsp;&nbsp;:&nbsp;&nbsp;[Sampling](#introductionScenario)&nbsp;&nbsp;|&nbsp;&nbsp;[``scipy.stats``](#solutionttest)&nbsp;&nbsp;|&nbsp;&nbsp;[Multiple Samples](#solutionMultipleSamples) > < [Solution](#solution)&nbsp;&nbsp;:&nbsp;&nbsp;[``ANOVA``](#solutionANOVA)&nbsp;&nbsp;|&nbsp;&nbsp;[Flavors of Cacao](#solutionANOVAOnewayflavorsofcacao) > < [Conclusion](#conclusion) > < [References](#references) > < [Appendix](#appendix) >\n",
    "***\n",
    "###### Flavors of Cacao\n",
    "***"
   ]
  },
  {
   "cell_type": "markdown",
   "id": "dc2b4c3a",
   "metadata": {},
   "source": [
    "- the ``Manhattan Chocolate Society`` maintains an online database called [``Flavors of Cacao``](http://flavorsofcacao.com/chocolate_database.html) rating 2452 plain dark chocolate bars (as of July 19, 2021) [18]"
   ]
  },
  {
   "cell_type": "markdown",
   "id": "ea18eb95",
   "metadata": {},
   "source": [
    "![index_bean_colors.png](https://github.com/SeanOhAileasa/SeanOhAileasa/blob/master/rc/mls/scipy/index_bean_colors.png?raw=true)\n",
    "\n",
    "***A. Brelinski, \"Flavors of Cacao\", [flavorsofcacao.com](http://flavorsofcacao.com/), n.d..***"
   ]
  },
  {
   "cell_type": "markdown",
   "id": "2c6b892f",
   "metadata": {},
   "source": [
    "<a id=\"solutionANOVAOnewayflavorsofcacaoData\"></a>\n",
    "< [Table of Contents](#top) > < [Instructions](#instructions) > < [Abstract](#abstract) > < [Introduction](#introduction)&nbsp;&nbsp;:&nbsp;&nbsp;[Sampling](#introductionScenario)&nbsp;&nbsp;|&nbsp;&nbsp;[``scipy.stats``](#solutionttest)&nbsp;&nbsp;|&nbsp;&nbsp;[Multiple Samples](#solutionMultipleSamples) > < [Solution](#solution)&nbsp;&nbsp;:&nbsp;&nbsp;[``ANOVA``](#solutionANOVA)&nbsp;&nbsp;|&nbsp;&nbsp;[Flavors of Cacao](#solutionANOVAOnewayflavorsofcacao) > < [Conclusion](#conclusion) > < [References](#references) > < [Appendix](#appendix) >\n",
    "***\n",
    "###### Data\n",
    "***"
   ]
  },
  {
   "cell_type": "markdown",
   "id": "e25a6ae2",
   "metadata": {},
   "source": [
    "- using the dataset created by [``R. Tatman``](https://www.kaggle.com/rtatman/chocolate-bar-ratings) (uploaded to ``Kaggle`` in August, 2017) going to extract the top five bean countries of origin and investigate associated customer ratings [26]  "
   ]
  },
  {
   "cell_type": "code",
   "execution_count": 192,
   "id": "b5a2a2e7",
   "metadata": {},
   "outputs": [
    {
     "name": "stdout",
     "output_type": "stream",
     "text": [
      "Read a comma-separated values (csv) file into DataFrame.\n"
     ]
    }
   ],
   "source": [
    "print(\"\\n\".join(pd.read_csv.__doc__.split(\"\\n\")[1:2])) # function read_csv overview"
   ]
  },
  {
   "cell_type": "code",
   "execution_count": 193,
   "id": "9d994447",
   "metadata": {},
   "outputs": [],
   "source": [
    "dfFlavorsofCacao=pd.read_csv(filepath_or_buffer=\"./rc/data/flavors_of_cacao.csv\") # returns a DataFrame"
   ]
  },
  {
   "cell_type": "code",
   "execution_count": 194,
   "id": "776099b1",
   "metadata": {},
   "outputs": [
    {
     "name": "stdout",
     "output_type": "stream",
     "text": [
      "        Return the first `n` rows.\n",
      "\n",
      "        This function returns the first `n` rows for the object based\n",
      "        on position. It is useful for quickly testing if your object\n",
      "        has the right type of data in it.\n"
     ]
    }
   ],
   "source": [
    "print(\"\\n\".join(dfFlavorsofCacao.head.__doc__.split(\"\\n\")[1:6])) # function head overview"
   ]
  },
  {
   "cell_type": "code",
   "execution_count": 195,
   "id": "e83ad0bf",
   "metadata": {},
   "outputs": [
    {
     "data": {
      "text/html": [
       "<div>\n",
       "<style scoped>\n",
       "    .dataframe tbody tr th:only-of-type {\n",
       "        vertical-align: middle;\n",
       "    }\n",
       "\n",
       "    .dataframe tbody tr th {\n",
       "        vertical-align: top;\n",
       "    }\n",
       "\n",
       "    .dataframe thead th {\n",
       "        text-align: right;\n",
       "    }\n",
       "</style>\n",
       "<table border=\"1\" class=\"dataframe\">\n",
       "  <thead>\n",
       "    <tr style=\"text-align: right;\">\n",
       "      <th></th>\n",
       "      <th>Company \\n(Maker-if known)</th>\n",
       "      <th>Specific Bean Origin\\nor Bar Name</th>\n",
       "      <th>REF</th>\n",
       "      <th>Review\\nDate</th>\n",
       "      <th>Cocoa\\nPercent</th>\n",
       "      <th>Company\\nLocation</th>\n",
       "      <th>Rating</th>\n",
       "      <th>Bean\\nType</th>\n",
       "      <th>Broad Bean\\nOrigin</th>\n",
       "    </tr>\n",
       "  </thead>\n",
       "  <tbody>\n",
       "    <tr>\n",
       "      <th>0</th>\n",
       "      <td>A. Morin</td>\n",
       "      <td>Agua Grande</td>\n",
       "      <td>1876</td>\n",
       "      <td>2016</td>\n",
       "      <td>63%</td>\n",
       "      <td>France</td>\n",
       "      <td>3.75</td>\n",
       "      <td></td>\n",
       "      <td>Sao Tome</td>\n",
       "    </tr>\n",
       "    <tr>\n",
       "      <th>1</th>\n",
       "      <td>A. Morin</td>\n",
       "      <td>Kpime</td>\n",
       "      <td>1676</td>\n",
       "      <td>2015</td>\n",
       "      <td>70%</td>\n",
       "      <td>France</td>\n",
       "      <td>2.75</td>\n",
       "      <td></td>\n",
       "      <td>Togo</td>\n",
       "    </tr>\n",
       "    <tr>\n",
       "      <th>2</th>\n",
       "      <td>A. Morin</td>\n",
       "      <td>Atsane</td>\n",
       "      <td>1676</td>\n",
       "      <td>2015</td>\n",
       "      <td>70%</td>\n",
       "      <td>France</td>\n",
       "      <td>3.00</td>\n",
       "      <td></td>\n",
       "      <td>Togo</td>\n",
       "    </tr>\n",
       "    <tr>\n",
       "      <th>3</th>\n",
       "      <td>A. Morin</td>\n",
       "      <td>Akata</td>\n",
       "      <td>1680</td>\n",
       "      <td>2015</td>\n",
       "      <td>70%</td>\n",
       "      <td>France</td>\n",
       "      <td>3.50</td>\n",
       "      <td></td>\n",
       "      <td>Togo</td>\n",
       "    </tr>\n",
       "    <tr>\n",
       "      <th>4</th>\n",
       "      <td>A. Morin</td>\n",
       "      <td>Quilla</td>\n",
       "      <td>1704</td>\n",
       "      <td>2015</td>\n",
       "      <td>70%</td>\n",
       "      <td>France</td>\n",
       "      <td>3.50</td>\n",
       "      <td></td>\n",
       "      <td>Peru</td>\n",
       "    </tr>\n",
       "  </tbody>\n",
       "</table>\n",
       "</div>"
      ],
      "text/plain": [
       "  Company \\n(Maker-if known) Specific Bean Origin\\nor Bar Name   REF  \\\n",
       "0                   A. Morin                       Agua Grande  1876   \n",
       "1                   A. Morin                             Kpime  1676   \n",
       "2                   A. Morin                            Atsane  1676   \n",
       "3                   A. Morin                             Akata  1680   \n",
       "4                   A. Morin                            Quilla  1704   \n",
       "\n",
       "   Review\\nDate Cocoa\\nPercent Company\\nLocation  Rating Bean\\nType  \\\n",
       "0          2016            63%            France    3.75              \n",
       "1          2015            70%            France    2.75              \n",
       "2          2015            70%            France    3.00              \n",
       "3          2015            70%            France    3.50              \n",
       "4          2015            70%            France    3.50              \n",
       "\n",
       "  Broad Bean\\nOrigin  \n",
       "0           Sao Tome  \n",
       "1               Togo  \n",
       "2               Togo  \n",
       "3               Togo  \n",
       "4               Peru  "
      ]
     },
     "execution_count": 195,
     "metadata": {},
     "output_type": "execute_result"
    }
   ],
   "source": [
    "dfFlavorsofCacao.head() # viewing the DataFrame"
   ]
  },
  {
   "cell_type": "code",
   "execution_count": 196,
   "id": "8b168ac3",
   "metadata": {},
   "outputs": [
    {
     "name": "stdout",
     "output_type": "stream",
     "text": [
      "Built-in immutable sequence.\n",
      "\n",
      "If no argument is given, the constructor returns an empty tuple.\n",
      "If iterable is specified the tuple is initialized from iterable's items.\n",
      "\n",
      "If the argument is a tuple, the return value is the same object.\n"
     ]
    }
   ],
   "source": [
    "print(\"\\n\".join(dfFlavorsofCacao.shape.__doc__.split(\"\\n\")[:])) # attribute shape overview"
   ]
  },
  {
   "cell_type": "code",
   "execution_count": 197,
   "id": "77ac4f89",
   "metadata": {},
   "outputs": [
    {
     "data": {
      "text/plain": [
       "(1795, 9)"
      ]
     },
     "execution_count": 197,
     "metadata": {},
     "output_type": "execute_result"
    }
   ],
   "source": [
    "dfFlavorsofCacao.shape # tuple rows columns"
   ]
  },
  {
   "cell_type": "code",
   "execution_count": 198,
   "id": "8df20a95",
   "metadata": {},
   "outputs": [
    {
     "name": "stdout",
     "output_type": "stream",
     "text": [
      "Print a concise summary of a DataFrame.\n",
      "\n",
      "This method prints information about a DataFrame including\n",
      "the index dtype and columns, non-null values and memory usage.\n"
     ]
    }
   ],
   "source": [
    "print(\"\\n\".join(dfFlavorsofCacao.info.__doc__.split(\"\\n\")[1:5])) # method info overview"
   ]
  },
  {
   "cell_type": "code",
   "execution_count": 199,
   "id": "cf857619",
   "metadata": {},
   "outputs": [
    {
     "data": {
      "text/plain": [
       "<bound method DataFrame.info of      Company \\n(Maker-if known) Specific Bean Origin\\nor Bar Name   REF  \\\n",
       "0                      A. Morin                       Agua Grande  1876   \n",
       "1                      A. Morin                             Kpime  1676   \n",
       "2                      A. Morin                            Atsane  1676   \n",
       "3                      A. Morin                             Akata  1680   \n",
       "4                      A. Morin                            Quilla  1704   \n",
       "...                         ...                               ...   ...   \n",
       "1790                     Zotter                              Peru   647   \n",
       "1791                     Zotter                             Congo   749   \n",
       "1792                     Zotter                      Kerala State   749   \n",
       "1793                     Zotter                      Kerala State   781   \n",
       "1794                     Zotter                Brazil, Mitzi Blue   486   \n",
       "\n",
       "      Review\\nDate Cocoa\\nPercent Company\\nLocation  Rating Bean\\nType  \\\n",
       "0             2016            63%            France    3.75              \n",
       "1             2015            70%            France    2.75              \n",
       "2             2015            70%            France    3.00              \n",
       "3             2015            70%            France    3.50              \n",
       "4             2015            70%            France    3.50              \n",
       "...            ...            ...               ...     ...        ...   \n",
       "1790          2011            70%           Austria    3.75              \n",
       "1791          2011            65%           Austria    3.00  Forastero   \n",
       "1792          2011            65%           Austria    3.50  Forastero   \n",
       "1793          2011            62%           Austria    3.25              \n",
       "1794          2010            65%           Austria    3.00              \n",
       "\n",
       "     Broad Bean\\nOrigin  \n",
       "0              Sao Tome  \n",
       "1                  Togo  \n",
       "2                  Togo  \n",
       "3                  Togo  \n",
       "4                  Peru  \n",
       "...                 ...  \n",
       "1790               Peru  \n",
       "1791              Congo  \n",
       "1792              India  \n",
       "1793              India  \n",
       "1794             Brazil  \n",
       "\n",
       "[1795 rows x 9 columns]>"
      ]
     },
     "execution_count": 199,
     "metadata": {},
     "output_type": "execute_result"
    }
   ],
   "source": [
    "dfFlavorsofCacao.info # look further details"
   ]
  },
  {
   "cell_type": "code",
   "execution_count": 200,
   "id": "c39f961f",
   "metadata": {},
   "outputs": [
    {
     "name": "stdout",
     "output_type": "stream",
     "text": [
      "    Immutable sequence used for indexing and alignment. The basic object\n",
      "    storing axis labels for all pandas objects.\n"
     ]
    }
   ],
   "source": [
    "print(\"\\n\".join(dfFlavorsofCacao.columns.__doc__.split(\"\\n\")[1:3])) # method columns overview"
   ]
  },
  {
   "cell_type": "code",
   "execution_count": 201,
   "id": "98c4c90c",
   "metadata": {},
   "outputs": [
    {
     "data": {
      "text/plain": [
       "Index(['Company \\n(Maker-if known)', 'Specific Bean Origin\\nor Bar Name',\n",
       "       'REF', 'Review\\nDate', 'Cocoa\\nPercent', 'Company\\nLocation', 'Rating',\n",
       "       'Bean\\nType', 'Broad Bean\\nOrigin'],\n",
       "      dtype='object')"
      ]
     },
     "execution_count": 201,
     "metadata": {},
     "output_type": "execute_result"
    }
   ],
   "source": [
    "dfFlavorsofCacao.columns # investigating column structure"
   ]
  },
  {
   "cell_type": "code",
   "execution_count": 202,
   "id": "724d696d",
   "metadata": {},
   "outputs": [],
   "source": [
    "amendColumnNames=[\"Company\",\"Specific Bean Origin\",\"Reference\",\"Review Date\",\"Cocoa Percent\",\"Location\",\"Rating\",\"Bean Type\",\"Bean Country Origin\"] # rename remove newline"
   ]
  },
  {
   "cell_type": "code",
   "execution_count": 203,
   "id": "00aae2a7",
   "metadata": {},
   "outputs": [],
   "source": [
    "dfFlavorsofCacao=dfFlavorsofCacao.rename(columns=dict(zip(dfFlavorsofCacao.columns,amendColumnNames))) # perform column rename"
   ]
  },
  {
   "cell_type": "code",
   "execution_count": 204,
   "id": "08ed1080",
   "metadata": {
    "scrolled": true
   },
   "outputs": [
    {
     "data": {
      "text/html": [
       "<div>\n",
       "<style scoped>\n",
       "    .dataframe tbody tr th:only-of-type {\n",
       "        vertical-align: middle;\n",
       "    }\n",
       "\n",
       "    .dataframe tbody tr th {\n",
       "        vertical-align: top;\n",
       "    }\n",
       "\n",
       "    .dataframe thead th {\n",
       "        text-align: right;\n",
       "    }\n",
       "</style>\n",
       "<table border=\"1\" class=\"dataframe\">\n",
       "  <thead>\n",
       "    <tr style=\"text-align: right;\">\n",
       "      <th></th>\n",
       "      <th>Company</th>\n",
       "      <th>Specific Bean Origin</th>\n",
       "      <th>Reference</th>\n",
       "      <th>Review Date</th>\n",
       "      <th>Cocoa Percent</th>\n",
       "      <th>Location</th>\n",
       "      <th>Rating</th>\n",
       "      <th>Bean Type</th>\n",
       "      <th>Bean Country Origin</th>\n",
       "    </tr>\n",
       "  </thead>\n",
       "  <tbody>\n",
       "    <tr>\n",
       "      <th>0</th>\n",
       "      <td>A. Morin</td>\n",
       "      <td>Agua Grande</td>\n",
       "      <td>1876</td>\n",
       "      <td>2016</td>\n",
       "      <td>63%</td>\n",
       "      <td>France</td>\n",
       "      <td>3.75</td>\n",
       "      <td></td>\n",
       "      <td>Sao Tome</td>\n",
       "    </tr>\n",
       "    <tr>\n",
       "      <th>1</th>\n",
       "      <td>A. Morin</td>\n",
       "      <td>Kpime</td>\n",
       "      <td>1676</td>\n",
       "      <td>2015</td>\n",
       "      <td>70%</td>\n",
       "      <td>France</td>\n",
       "      <td>2.75</td>\n",
       "      <td></td>\n",
       "      <td>Togo</td>\n",
       "    </tr>\n",
       "    <tr>\n",
       "      <th>2</th>\n",
       "      <td>A. Morin</td>\n",
       "      <td>Atsane</td>\n",
       "      <td>1676</td>\n",
       "      <td>2015</td>\n",
       "      <td>70%</td>\n",
       "      <td>France</td>\n",
       "      <td>3.00</td>\n",
       "      <td></td>\n",
       "      <td>Togo</td>\n",
       "    </tr>\n",
       "    <tr>\n",
       "      <th>3</th>\n",
       "      <td>A. Morin</td>\n",
       "      <td>Akata</td>\n",
       "      <td>1680</td>\n",
       "      <td>2015</td>\n",
       "      <td>70%</td>\n",
       "      <td>France</td>\n",
       "      <td>3.50</td>\n",
       "      <td></td>\n",
       "      <td>Togo</td>\n",
       "    </tr>\n",
       "    <tr>\n",
       "      <th>4</th>\n",
       "      <td>A. Morin</td>\n",
       "      <td>Quilla</td>\n",
       "      <td>1704</td>\n",
       "      <td>2015</td>\n",
       "      <td>70%</td>\n",
       "      <td>France</td>\n",
       "      <td>3.50</td>\n",
       "      <td></td>\n",
       "      <td>Peru</td>\n",
       "    </tr>\n",
       "  </tbody>\n",
       "</table>\n",
       "</div>"
      ],
      "text/plain": [
       "    Company Specific Bean Origin  Reference  Review Date Cocoa Percent  \\\n",
       "0  A. Morin          Agua Grande       1876         2016           63%   \n",
       "1  A. Morin                Kpime       1676         2015           70%   \n",
       "2  A. Morin               Atsane       1676         2015           70%   \n",
       "3  A. Morin                Akata       1680         2015           70%   \n",
       "4  A. Morin               Quilla       1704         2015           70%   \n",
       "\n",
       "  Location  Rating Bean Type Bean Country Origin  \n",
       "0   France    3.75                      Sao Tome  \n",
       "1   France    2.75                          Togo  \n",
       "2   France    3.00                          Togo  \n",
       "3   France    3.50                          Togo  \n",
       "4   France    3.50                          Peru  "
      ]
     },
     "execution_count": 204,
     "metadata": {},
     "output_type": "execute_result"
    }
   ],
   "source": [
    "dfFlavorsofCacao.head() # appears more presentable"
   ]
  },
  {
   "cell_type": "markdown",
   "id": "4e15c2c1",
   "metadata": {},
   "source": [
    "<a id=\"solutionANOVAOnewayflavorsofcacaoANOVAOneway\"></a>\n",
    "< [Table of Contents](#top) > < [Instructions](#instructions) > < [Abstract](#abstract) > < [Introduction](#introduction)&nbsp;&nbsp;:&nbsp;&nbsp;[Sampling](#introductionScenario)&nbsp;&nbsp;|&nbsp;&nbsp;[``scipy.stats``](#solutionttest)&nbsp;&nbsp;|&nbsp;&nbsp;[Multiple Samples](#solutionMultipleSamples) > < [Solution](#solution)&nbsp;&nbsp;:&nbsp;&nbsp;[``ANOVA``](#solutionANOVA)&nbsp;&nbsp;|&nbsp;&nbsp;[Flavors of Cacao](#solutionANOVAOnewayflavorsofcacao) > < [Conclusion](#conclusion) > < [References](#references) > < [Appendix](#appendix) >\n",
    "***\n",
    "###### One-way\n",
    "***"
   ]
  },
  {
   "cell_type": "markdown",
   "id": "86378d2e",
   "metadata": {},
   "source": [
    "- each sample $C$ has:\n",
    "\n",
    "\n",
    "i. one categorical (nominal) variable representing bean country of origin and;\n",
    "\n",
    "\n",
    "ii. twenty-five quantity (continuous or measurement) variables representing chocolate rating [15][17]"
   ]
  },
  {
   "cell_type": "code",
   "execution_count": 205,
   "id": "a3cc0b49",
   "metadata": {},
   "outputs": [],
   "source": [
    "dfCountryRating=dfFlavorsofCacao[[\"Bean Country Origin\",\"Rating\"]] # columns of interest"
   ]
  },
  {
   "cell_type": "code",
   "execution_count": 206,
   "id": "f08c3680",
   "metadata": {},
   "outputs": [
    {
     "data": {
      "text/html": [
       "<div>\n",
       "<style scoped>\n",
       "    .dataframe tbody tr th:only-of-type {\n",
       "        vertical-align: middle;\n",
       "    }\n",
       "\n",
       "    .dataframe tbody tr th {\n",
       "        vertical-align: top;\n",
       "    }\n",
       "\n",
       "    .dataframe thead th {\n",
       "        text-align: right;\n",
       "    }\n",
       "</style>\n",
       "<table border=\"1\" class=\"dataframe\">\n",
       "  <thead>\n",
       "    <tr style=\"text-align: right;\">\n",
       "      <th></th>\n",
       "      <th>Bean Country Origin</th>\n",
       "      <th>Rating</th>\n",
       "    </tr>\n",
       "  </thead>\n",
       "  <tbody>\n",
       "    <tr>\n",
       "      <th>0</th>\n",
       "      <td>Sao Tome</td>\n",
       "      <td>3.75</td>\n",
       "    </tr>\n",
       "    <tr>\n",
       "      <th>1</th>\n",
       "      <td>Togo</td>\n",
       "      <td>2.75</td>\n",
       "    </tr>\n",
       "    <tr>\n",
       "      <th>2</th>\n",
       "      <td>Togo</td>\n",
       "      <td>3.00</td>\n",
       "    </tr>\n",
       "    <tr>\n",
       "      <th>3</th>\n",
       "      <td>Togo</td>\n",
       "      <td>3.50</td>\n",
       "    </tr>\n",
       "    <tr>\n",
       "      <th>4</th>\n",
       "      <td>Peru</td>\n",
       "      <td>3.50</td>\n",
       "    </tr>\n",
       "    <tr>\n",
       "      <th>...</th>\n",
       "      <td>...</td>\n",
       "      <td>...</td>\n",
       "    </tr>\n",
       "    <tr>\n",
       "      <th>1790</th>\n",
       "      <td>Peru</td>\n",
       "      <td>3.75</td>\n",
       "    </tr>\n",
       "    <tr>\n",
       "      <th>1791</th>\n",
       "      <td>Congo</td>\n",
       "      <td>3.00</td>\n",
       "    </tr>\n",
       "    <tr>\n",
       "      <th>1792</th>\n",
       "      <td>India</td>\n",
       "      <td>3.50</td>\n",
       "    </tr>\n",
       "    <tr>\n",
       "      <th>1793</th>\n",
       "      <td>India</td>\n",
       "      <td>3.25</td>\n",
       "    </tr>\n",
       "    <tr>\n",
       "      <th>1794</th>\n",
       "      <td>Brazil</td>\n",
       "      <td>3.00</td>\n",
       "    </tr>\n",
       "  </tbody>\n",
       "</table>\n",
       "<p>1795 rows × 2 columns</p>\n",
       "</div>"
      ],
      "text/plain": [
       "     Bean Country Origin  Rating\n",
       "0               Sao Tome    3.75\n",
       "1                   Togo    2.75\n",
       "2                   Togo    3.00\n",
       "3                   Togo    3.50\n",
       "4                   Peru    3.50\n",
       "...                  ...     ...\n",
       "1790                Peru    3.75\n",
       "1791               Congo    3.00\n",
       "1792               India    3.50\n",
       "1793               India    3.25\n",
       "1794              Brazil    3.00\n",
       "\n",
       "[1795 rows x 2 columns]"
      ]
     },
     "execution_count": 206,
     "metadata": {},
     "output_type": "execute_result"
    }
   ],
   "source": [
    "dfCountryRating"
   ]
  },
  {
   "cell_type": "code",
   "execution_count": 207,
   "id": "c9b9f48f",
   "metadata": {},
   "outputs": [
    {
     "name": "stdout",
     "output_type": "stream",
     "text": [
      "        Return a Series containing counts of unique rows in the DataFrame.\n"
     ]
    }
   ],
   "source": [
    "print(\"\\n\".join(dfFlavorsofCacao.value_counts.__doc__.split(\"\\n\")[1:2])) # method columns overview"
   ]
  },
  {
   "cell_type": "code",
   "execution_count": 208,
   "id": "a5ad3af2",
   "metadata": {
    "scrolled": true
   },
   "outputs": [
    {
     "data": {
      "text/plain": [
       "Venezuela             214\n",
       "Ecuador               193\n",
       "Peru                  165\n",
       "Madagascar            145\n",
       "Dominican Republic    141\n",
       "Name: Bean Country Origin, dtype: int64"
      ]
     },
     "execution_count": 208,
     "metadata": {},
     "output_type": "execute_result"
    }
   ],
   "source": [
    "dfCountryRating[\"Bean Country Origin\"].value_counts().head(5) # top five unique"
   ]
  },
  {
   "cell_type": "markdown",
   "id": "3e1d51d7",
   "metadata": {},
   "source": [
    "<a id=\"solutionANOVAOnewayflavorsofcacaoANOVAOnewaySampling\"></a>\n",
    "< [Table of Contents](#top) > < [Instructions](#instructions) > < [Abstract](#abstract) > < [Introduction](#introduction)&nbsp;&nbsp;:&nbsp;&nbsp;[Sampling](#introductionScenario)&nbsp;&nbsp;|&nbsp;&nbsp;[``scipy.stats``](#solutionttest)&nbsp;&nbsp;|&nbsp;&nbsp;[Multiple Samples](#solutionMultipleSamples) > < [Solution](#solution)&nbsp;&nbsp;:&nbsp;&nbsp;[``ANOVA``](#solutionANOVA)&nbsp;&nbsp;|&nbsp;&nbsp;[Flavors of Cacao](#solutionANOVAOnewayflavorsofcacao) > < [Conclusion](#conclusion) > < [References](#references) > < [Appendix](#appendix) >\n",
    "***\n",
    "###### Sampling\n",
    "***"
   ]
  },
  {
   "cell_type": "markdown",
   "id": "d20ea551",
   "metadata": {},
   "source": [
    "- creating five $C$ representing the top five bean producing countries - each $C$ has 25 observations of the measurement variable called ``Rating`` [15]  "
   ]
  },
  {
   "cell_type": "code",
   "execution_count": 209,
   "id": "2a77baeb",
   "metadata": {},
   "outputs": [],
   "source": [
    "dfVenezuela=dfCountryRating[dfCountryRating[\"Bean Country Origin\"]==\"Venezuela\"] # create Venezuela DataFrame"
   ]
  },
  {
   "cell_type": "code",
   "execution_count": 210,
   "id": "5fe8bf74",
   "metadata": {},
   "outputs": [
    {
     "data": {
      "text/html": [
       "<div>\n",
       "<style scoped>\n",
       "    .dataframe tbody tr th:only-of-type {\n",
       "        vertical-align: middle;\n",
       "    }\n",
       "\n",
       "    .dataframe tbody tr th {\n",
       "        vertical-align: top;\n",
       "    }\n",
       "\n",
       "    .dataframe thead th {\n",
       "        text-align: right;\n",
       "    }\n",
       "</style>\n",
       "<table border=\"1\" class=\"dataframe\">\n",
       "  <thead>\n",
       "    <tr style=\"text-align: right;\">\n",
       "      <th></th>\n",
       "      <th>Bean Country Origin</th>\n",
       "      <th>Rating</th>\n",
       "    </tr>\n",
       "  </thead>\n",
       "  <tbody>\n",
       "    <tr>\n",
       "      <th>5</th>\n",
       "      <td>Venezuela</td>\n",
       "      <td>2.75</td>\n",
       "    </tr>\n",
       "    <tr>\n",
       "      <th>7</th>\n",
       "      <td>Venezuela</td>\n",
       "      <td>3.50</td>\n",
       "    </tr>\n",
       "    <tr>\n",
       "      <th>8</th>\n",
       "      <td>Venezuela</td>\n",
       "      <td>3.75</td>\n",
       "    </tr>\n",
       "    <tr>\n",
       "      <th>17</th>\n",
       "      <td>Venezuela</td>\n",
       "      <td>4.00</td>\n",
       "    </tr>\n",
       "    <tr>\n",
       "      <th>38</th>\n",
       "      <td>Venezuela</td>\n",
       "      <td>2.50</td>\n",
       "    </tr>\n",
       "  </tbody>\n",
       "</table>\n",
       "</div>"
      ],
      "text/plain": [
       "   Bean Country Origin  Rating\n",
       "5            Venezuela    2.75\n",
       "7            Venezuela    3.50\n",
       "8            Venezuela    3.75\n",
       "17           Venezuela    4.00\n",
       "38           Venezuela    2.50"
      ]
     },
     "execution_count": 210,
     "metadata": {},
     "output_type": "execute_result"
    }
   ],
   "source": [
    "dfVenezuela.head() # view Venezuela DataFrame"
   ]
  },
  {
   "cell_type": "code",
   "execution_count": 211,
   "id": "c3587a9e",
   "metadata": {},
   "outputs": [
    {
     "name": "stdout",
     "output_type": "stream",
     "text": [
      "        Convert the DataFrame to a NumPy array.\n"
     ]
    }
   ],
   "source": [
    "print(\"\\n\".join(dfVenezuela.to_numpy.__doc__.split(\"\\n\")[1:2])) # method to_numpy overview"
   ]
  },
  {
   "cell_type": "code",
   "execution_count": 212,
   "id": "821d1cf1",
   "metadata": {},
   "outputs": [],
   "source": [
    "venezuela_rating_sample=dfVenezuela[\"Rating\"].to_numpy()[:25] # sample of rating"
   ]
  },
  {
   "cell_type": "code",
   "execution_count": 213,
   "id": "9c816b91",
   "metadata": {},
   "outputs": [
    {
     "data": {
      "text/plain": [
       "array([2.75, 3.5 , 3.75, 4.  , 2.5 , 2.5 , 3.  , 3.  , 3.  , 3.75, 3.25,\n",
       "       4.  , 5.  , 3.75, 3.  , 1.75, 2.5 , 3.5 , 3.5 , 3.  , 3.5 , 3.25,\n",
       "       3.25, 3.5 , 3.  ])"
      ]
     },
     "execution_count": 213,
     "metadata": {},
     "output_type": "execute_result"
    }
   ],
   "source": [
    "venezuela_rating_sample # view 25 ratings"
   ]
  },
  {
   "cell_type": "code",
   "execution_count": 214,
   "id": "9051c03d",
   "metadata": {},
   "outputs": [],
   "source": [
    "dfEcuador=dfCountryRating[dfCountryRating[\"Bean Country Origin\"]==\"Ecuador\"] # create Ecuador DataFrame\n",
    "ecuador_rating_sample=dfEcuador[\"Rating\"].to_numpy()[:25] # sample of rating"
   ]
  },
  {
   "cell_type": "code",
   "execution_count": 215,
   "id": "f45a4650",
   "metadata": {},
   "outputs": [],
   "source": [
    "dfPeru=dfCountryRating[dfCountryRating[\"Bean Country Origin\"]==\"Peru\"] # create Peru DataFrame\n",
    "peru_rating_sample=dfPeru[\"Rating\"].to_numpy()[:25] # sample of rating"
   ]
  },
  {
   "cell_type": "code",
   "execution_count": 216,
   "id": "b9caa820",
   "metadata": {},
   "outputs": [],
   "source": [
    "dfMadagascar=dfCountryRating[dfCountryRating[\"Bean Country Origin\"]==\"Madagascar\"] # create Madagascar DataFrame\n",
    "madagascar_rating_sample=dfMadagascar[\"Rating\"].to_numpy()[:25] # sample of rating"
   ]
  },
  {
   "cell_type": "code",
   "execution_count": 217,
   "id": "eaec0902",
   "metadata": {},
   "outputs": [],
   "source": [
    "dfDominicanRepublic=dfCountryRating[dfCountryRating[\"Bean Country Origin\"]==\"Dominican Republic\"] # Dominican Republic DataFrame\n",
    "dominican_republic_rating_sample=dfDominicanRepublic[\"Rating\"].to_numpy()[:25] # sample of rating"
   ]
  },
  {
   "cell_type": "markdown",
   "id": "6954edcf",
   "metadata": {},
   "source": [
    "- creating a ``DataFrame`` (data structure) built from each $C$ [2][16]"
   ]
  },
  {
   "cell_type": "code",
   "execution_count": 218,
   "id": "362af94b",
   "metadata": {},
   "outputs": [],
   "source": [
    "df=pd.DataFrame(data={\n",
    "    \"Country\":[\"Venezuela\"]*len(venezuela_rating_sample)+[\"Ecuador\"]*len(ecuador_rating_sample)+[\"Peru\"]*len(peru_rating_sample)+[\"Madagascar\"]*len(madagascar_rating_sample)+[\"Dominican Republic\"]*len(dominican_republic_rating_sample),\n",
    "    \"Rating\":np.hstack([venezuela_rating_sample,ecuador_rating_sample,peru_rating_sample,madagascar_rating_sample,dominican_republic_rating_sample])})"
   ]
  },
  {
   "cell_type": "code",
   "execution_count": 219,
   "id": "c53041e0",
   "metadata": {},
   "outputs": [
    {
     "data": {
      "text/html": [
       "<div>\n",
       "<style scoped>\n",
       "    .dataframe tbody tr th:only-of-type {\n",
       "        vertical-align: middle;\n",
       "    }\n",
       "\n",
       "    .dataframe tbody tr th {\n",
       "        vertical-align: top;\n",
       "    }\n",
       "\n",
       "    .dataframe thead th {\n",
       "        text-align: right;\n",
       "    }\n",
       "</style>\n",
       "<table border=\"1\" class=\"dataframe\">\n",
       "  <thead>\n",
       "    <tr style=\"text-align: right;\">\n",
       "      <th></th>\n",
       "      <th>Country</th>\n",
       "      <th>Rating</th>\n",
       "    </tr>\n",
       "  </thead>\n",
       "  <tbody>\n",
       "    <tr>\n",
       "      <th>0</th>\n",
       "      <td>Venezuela</td>\n",
       "      <td>2.75</td>\n",
       "    </tr>\n",
       "    <tr>\n",
       "      <th>1</th>\n",
       "      <td>Venezuela</td>\n",
       "      <td>3.50</td>\n",
       "    </tr>\n",
       "    <tr>\n",
       "      <th>2</th>\n",
       "      <td>Venezuela</td>\n",
       "      <td>3.75</td>\n",
       "    </tr>\n",
       "    <tr>\n",
       "      <th>3</th>\n",
       "      <td>Venezuela</td>\n",
       "      <td>4.00</td>\n",
       "    </tr>\n",
       "    <tr>\n",
       "      <th>4</th>\n",
       "      <td>Venezuela</td>\n",
       "      <td>2.50</td>\n",
       "    </tr>\n",
       "    <tr>\n",
       "      <th>...</th>\n",
       "      <td>...</td>\n",
       "      <td>...</td>\n",
       "    </tr>\n",
       "    <tr>\n",
       "      <th>120</th>\n",
       "      <td>Dominican Republic</td>\n",
       "      <td>2.50</td>\n",
       "    </tr>\n",
       "    <tr>\n",
       "      <th>121</th>\n",
       "      <td>Dominican Republic</td>\n",
       "      <td>2.75</td>\n",
       "    </tr>\n",
       "    <tr>\n",
       "      <th>122</th>\n",
       "      <td>Dominican Republic</td>\n",
       "      <td>3.00</td>\n",
       "    </tr>\n",
       "    <tr>\n",
       "      <th>123</th>\n",
       "      <td>Dominican Republic</td>\n",
       "      <td>3.75</td>\n",
       "    </tr>\n",
       "    <tr>\n",
       "      <th>124</th>\n",
       "      <td>Dominican Republic</td>\n",
       "      <td>3.00</td>\n",
       "    </tr>\n",
       "  </tbody>\n",
       "</table>\n",
       "<p>125 rows × 2 columns</p>\n",
       "</div>"
      ],
      "text/plain": [
       "                Country  Rating\n",
       "0             Venezuela    2.75\n",
       "1             Venezuela    3.50\n",
       "2             Venezuela    3.75\n",
       "3             Venezuela    4.00\n",
       "4             Venezuela    2.50\n",
       "..                  ...     ...\n",
       "120  Dominican Republic    2.50\n",
       "121  Dominican Republic    2.75\n",
       "122  Dominican Republic    3.00\n",
       "123  Dominican Republic    3.75\n",
       "124  Dominican Republic    3.00\n",
       "\n",
       "[125 rows x 2 columns]"
      ]
     },
     "execution_count": 219,
     "metadata": {},
     "output_type": "execute_result"
    }
   ],
   "source": [
    "df # country twenty-five ratings"
   ]
  },
  {
   "cell_type": "markdown",
   "id": "2810e62b",
   "metadata": {},
   "source": [
    "<a id=\"solutionANOVAOnewayflavorsofcacaoANOVAOnewayVisualisation\"></a>\n",
    "< [Table of Contents](#top) > < [Instructions](#instructions) > < [Abstract](#abstract) > < [Introduction](#introduction)&nbsp;&nbsp;:&nbsp;&nbsp;[Sampling](#introductionScenario)&nbsp;&nbsp;|&nbsp;&nbsp;[``scipy.stats``](#solutionttest)&nbsp;&nbsp;|&nbsp;&nbsp;[Multiple Samples](#solutionMultipleSamples) > < [Solution](#solution)&nbsp;&nbsp;:&nbsp;&nbsp;[``ANOVA``](#solutionANOVA)&nbsp;&nbsp;|&nbsp;&nbsp;[Flavors of Cacao](#solutionANOVAOnewayflavorsofcacao) > < [Conclusion](#conclusion) > < [References](#references) > < [Appendix](#appendix) >\n",
    "***\n",
    "###### Visualisation\n",
    "***"
   ]
  },
  {
   "cell_type": "markdown",
   "id": "32a298e1",
   "metadata": {},
   "source": [
    "- the box plot includes the twenty-five ``Rating`` data points for each of the top five bean producing countries - note outliners for Venezuela and Ecuador [16]"
   ]
  },
  {
   "cell_type": "code",
   "execution_count": 220,
   "id": "c05f2702",
   "metadata": {},
   "outputs": [
    {
     "data": {
      "image/png": "[encoded data removed]",
      "text/plain": [
       "<Figure size 921.6x518.4 with 1 Axes>"
      ]
     },
     "metadata": {},
     "output_type": "display_data"
    }
   ],
   "source": [
    "fig,ax=plt.subplots()\n",
    "sns.boxplot(x=\"Country\",y=\"Rating\",data=df,ax=ax,color=\"aqua\",linewidth=4) # bean country location\n",
    "sns.swarmplot(x=\"Country\",y=\"Rating\",data=df,ax=ax,color=\"red\",alpha=0.9,size=12); # actual data points"
   ]
  },
  {
   "cell_type": "markdown",
   "id": "16fca7f4",
   "metadata": {},
   "source": [
    "- emphasising ``Country`` using a violin plot showing how the data points are formed [16]"
   ]
  },
  {
   "cell_type": "code",
   "execution_count": 221,
   "id": "835e5927",
   "metadata": {},
   "outputs": [
    {
     "data": {
      "image/png": "[encoded data removed]",
      "text/plain": [
       "<Figure size 921.6x518.4 with 1 Axes>"
      ]
     },
     "metadata": {},
     "output_type": "display_data"
    }
   ],
   "source": [
    "fig,ax=plt.subplots()\n",
    "sns.violinplot(x=\"Country\",y=\"Rating\",data=df,ax=ax,color=\"aqua\",\n",
    "               inner=\"quartile\", # mean and quariles\n",
    "               bw=.3) # smoothing to use\n",
    "sns.swarmplot(x=\"Country\",y=\"Rating\",data=df,ax=ax,color=\"red\",alpha=0.9,size=12); # note location Petersburg"
   ]
  },
  {
   "cell_type": "markdown",
   "id": "ea57f4f8",
   "metadata": {},
   "source": [
    "<a id=\"solutionANOVAOnewayflavorsofcacaoANOVAOnewayHypothesis\"></a>\n",
    "< [Table of Contents](#top) > < [Instructions](#instructions) > < [Abstract](#abstract) > < [Introduction](#introduction)&nbsp;&nbsp;:&nbsp;&nbsp;[Sampling](#introductionScenario)&nbsp;&nbsp;|&nbsp;&nbsp;[``scipy.stats``](#solutionttest)&nbsp;&nbsp;|&nbsp;&nbsp;[Multiple Samples](#solutionMultipleSamples) > < [Solution](#solution)&nbsp;&nbsp;:&nbsp;&nbsp;[``ANOVA``](#solutionANOVA)&nbsp;&nbsp;|&nbsp;&nbsp;[Flavors of Cacao](#solutionANOVAOnewayflavorsofcacao) > < [Conclusion](#conclusion) > < [References](#references) > < [Appendix](#appendix) >\n",
    "***\n",
    "###### Hypothesis\n",
    "***"
   ]
  },
  {
   "cell_type": "markdown",
   "id": "36491cd3",
   "metadata": {},
   "source": [
    "- the $H_0$ is that the means of the measurement variable ``Rating`` are the same for each ``Country`` (category) [15]"
   ]
  },
  {
   "cell_type": "markdown",
   "id": "5e90c1e9",
   "metadata": {},
   "source": [
    "<a id=\"solutionANOVAOnewayflavorsofcacaoANOVAOnewayHypothesisH0\"></a>\n",
    "< [Table of Contents](#top) > < [Instructions](#instructions) > < [Abstract](#abstract) > < [Introduction](#introduction)&nbsp;&nbsp;:&nbsp;&nbsp;[Sampling](#introductionScenario)&nbsp;&nbsp;|&nbsp;&nbsp;[``scipy.stats``](#solutionttest)&nbsp;&nbsp;|&nbsp;&nbsp;[Multiple Samples](#solutionMultipleSamples) > < [Solution](#solution)&nbsp;&nbsp;:&nbsp;&nbsp;[``ANOVA``](#solutionANOVA)&nbsp;&nbsp;|&nbsp;&nbsp;[Flavors of Cacao](#solutionANOVAOnewayflavorsofcacao) > < [Conclusion](#conclusion) > < [References](#references) > < [Appendix](#appendix) >\n",
    "***\n",
    "###### $H_0$\n",
    "***"
   ]
  },
  {
   "cell_type": "markdown",
   "id": "a3d2f257",
   "metadata": {},
   "source": [
    "$$H_0:\\bar x_{(Venezuela)}=\\bar x_{(Ecuador)}=\\bar x_{(Peru)}=\\bar x_{(Madagascar)}=\\bar x_{(Dominican Republic)}\\tag{8}$$"
   ]
  },
  {
   "cell_type": "markdown",
   "id": "a77a3f2d",
   "metadata": {},
   "source": [
    "<a id=\"solutionANOVAOnewayflavorsofcacaoANOVAOnewayHypothesisH1\"></a>\n",
    "< [Table of Contents](#top) > < [Instructions](#instructions) > < [Abstract](#abstract) > < [Introduction](#introduction)&nbsp;&nbsp;:&nbsp;&nbsp;[Sampling](#introductionScenario)&nbsp;&nbsp;|&nbsp;&nbsp;[``scipy.stats``](#solutionttest)&nbsp;&nbsp;|&nbsp;&nbsp;[Multiple Samples](#solutionMultipleSamples) > < [Solution](#solution)&nbsp;&nbsp;:&nbsp;&nbsp;[``ANOVA``](#solutionANOVA)&nbsp;&nbsp;|&nbsp;&nbsp;[Flavors of Cacao](#solutionANOVAOnewayflavorsofcacao) > < [Conclusion](#conclusion) > < [References](#references) > < [Appendix](#appendix) >\n",
    "***\n",
    "###### $H_1$\n",
    "***"
   ]
  },
  {
   "cell_type": "markdown",
   "id": "d5017249",
   "metadata": {},
   "source": [
    "$$At\\space least\\space one\\space pair\\space of\\space \\bar x\\space Ratings\\space is\\space not\\space equal.$$"
   ]
  },
  {
   "cell_type": "markdown",
   "id": "ad4cf335",
   "metadata": {},
   "source": [
    "<a id=\"solutionANOVAOnewayflavorsofcacaoANOVAOnewayHypothesisH0ANOVA\"></a>\n",
    "< [Table of Contents](#top) > < [Instructions](#instructions) > < [Abstract](#abstract) > < [Introduction](#introduction)&nbsp;&nbsp;:&nbsp;&nbsp;[Sampling](#introductionScenario)&nbsp;&nbsp;|&nbsp;&nbsp;[``scipy.stats``](#solutionttest)&nbsp;&nbsp;|&nbsp;&nbsp;[Multiple Samples](#solutionMultipleSamples) > < [Solution](#solution)&nbsp;&nbsp;:&nbsp;&nbsp;[``ANOVA``](#solutionANOVA)&nbsp;&nbsp;|&nbsp;&nbsp;[Flavors of Cacao](#solutionANOVAOnewayflavorsofcacao) > < [Conclusion](#conclusion) > < [References](#references) > < [Appendix](#appendix) >\n",
    "***\n",
    "###### ``ANOVA``\n",
    "***"
   ]
  },
  {
   "cell_type": "markdown",
   "id": "a3aaf748",
   "metadata": {},
   "source": [
    "- passing sample $C$ to the function ``f_oneway`` [16] <a id=\"revert7\"></a>"
   ]
  },
  {
   "cell_type": "code",
   "execution_count": 222,
   "id": "5ccb85c2",
   "metadata": {},
   "outputs": [],
   "source": [
    "f,p=ss.f_oneway(venezuela_rating_sample,ecuador_rating_sample,peru_rating_sample,madagascar_rating_sample,dominican_republic_rating_sample) # return statistic pvalue"
   ]
  },
  {
   "cell_type": "code",
   "execution_count": 223,
   "id": "aa633274",
   "metadata": {},
   "outputs": [
    {
     "data": {
      "text/plain": [
       "1.146067415730337"
      ]
     },
     "execution_count": 223,
     "metadata": {},
     "output_type": "execute_result"
    }
   ],
   "source": [
    "f # computed test f-statistic"
   ]
  },
  {
   "cell_type": "markdown",
   "id": "2b21b775",
   "metadata": {},
   "source": [
    "- the ``ANOVA`` is suggesting there is almost a $0\\%$ chance ($0.0$ probability) of observing $C$ sample values with populations of the same $\\bar x$ therefore rejecting the $H_0$ (Eq. (8)) [4][7][10][16] "
   ]
  },
  {
   "cell_type": "code",
   "execution_count": 224,
   "id": "51ca191e",
   "metadata": {},
   "outputs": [
    {
     "data": {
      "text/plain": [
       "0.3382893718093375"
      ]
     },
     "execution_count": 224,
     "metadata": {},
     "output_type": "execute_result"
    }
   ],
   "source": [
    "p # associated with f-statistic"
   ]
  },
  {
   "cell_type": "markdown",
   "id": "681a4f11",
   "metadata": {},
   "source": [
    "<!-- - refer [Appendix](#appendix-df) to view the full dataset <a id=\"go-back-df\"></a> -->\n",
    "<!-- print(fGetModuleType(___x___),fDocumentation(___x___)) -->\n",
    "***\n",
    "## END"
   ]
  },
  {
   "cell_type": "markdown",
   "id": "28e9ffc8",
   "metadata": {},
   "source": [
    "<a id=\"conclusion\"></a>\n",
    "< [Table of Contents](#top) > < [Instructions](#instructions) > < [Abstract](#abstract) > < [Introduction](#introduction)&nbsp;&nbsp;:&nbsp;&nbsp;[Sampling](#introductionScenario)&nbsp;&nbsp;|&nbsp;&nbsp;[``scipy.stats``](#solutionttest)&nbsp;&nbsp;|&nbsp;&nbsp;[Multiple Samples](#solutionMultipleSamples) > < [Solution](#solution)&nbsp;&nbsp;:&nbsp;&nbsp;[``ANOVA``](#solutionANOVA)&nbsp;&nbsp;|&nbsp;&nbsp;[Flavors of Cacao](#solutionANOVAOnewayflavorsofcacao) > < [Conclusion](#conclusion) > < [References](#references) > < [Appendix](#appendix) >\n",
    "***\n",
    "## Conclusion\n",
    "***"
   ]
  },
  {
   "cell_type": "markdown",
   "id": "5dbd8a0a",
   "metadata": {},
   "source": [
    "- The Jupyter Notebook is organised in four parts:"
   ]
  },
  {
   "cell_type": "markdown",
   "id": "289c4aac",
   "metadata": {},
   "source": [
    "i. The [Abstract](#abstract) provides a clear and concise overview of the ``scipy-stats`` library."
   ]
  },
  {
   "cell_type": "markdown",
   "id": "71dda9c7",
   "metadata": {},
   "source": [
    "ii. The [Introduction](#introduction) serves as the foundation for introducing ``ANOVA`` (emphasis on ``t-test``) using the ``scipy-stats`` library using a simulated dataset."
   ]
  },
  {
   "cell_type": "markdown",
   "id": "6b7b5084",
   "metadata": {},
   "source": [
    "An analysis of collections ``a`` and ``b`` uses a specific type of ``t-test`` called the ``Independent Samples T-Test``, which assumes the numbers in the collections ``a`` and ``b`` are different (not related) [6]. For example, an ``Independent Samples T-Test`` might give vaccine ``a`` to a particular group and vaccine ``b``to one specific group and then compares the two groups [6]. "
   ]
  },
  {
   "cell_type": "markdown",
   "id": "5678d1ac",
   "metadata": {},
   "source": [
    "The ``Paired T-test`` is when the collection of numbers depend on one another, and an example is represented in the [Appendix](#appendixSleep) [6]. This type of test is helpful in scenarios such as a teaching environment. Teaching primary school children some topic and determining if they had learned anything about the subject, the teacher might: i. give a standardised test before the lesson; ii. present the lesson, and iii. do another standardised test; pairing the numbers before and after the class for each student (have a pair of numbers for each student) [6]"
   ]
  },
  {
   "cell_type": "markdown",
   "id": "f7385b6c",
   "metadata": {},
   "source": [
    "iii. The [Solution](#solution) builds upon the [Introduction](#introduction) by highlighting the shortcoming of the ``t-test`` when there are multiple samples (more than two)."
   ]
  },
  {
   "cell_type": "markdown",
   "id": "936e2d25",
   "metadata": {},
   "source": [
    "Demonstrating ``ANOVA`` by first experimenting with the ``scipy-stats.f_oneway`` documentation example code, then using the [[``Flavors of Cacao``](http://flavorsofcacao.com/)] dataset created by [[``R. Tatman``](https://www.kaggle.com/rtatman/chocolate-bar-ratings)] and uploaded to Kaggle in August 2017."
   ]
  },
  {
   "cell_type": "markdown",
   "id": "80306604",
   "metadata": {},
   "source": [
    "<hr width=50%;>"
   ]
  },
  {
   "cell_type": "markdown",
   "id": "305a3368",
   "metadata": {},
   "source": [
    "The Jupyter Notebook is considered never finished and therefore presented as a first draft - it will go through many iterations and requires a little more statistics knowledge to fill in the gaps.\n",
    "\n",
    "\n",
    "It starts my self-learning journey, building upon the knowledge gained from the H.Dip at GMIT. Thank you &#x1F44D;"
   ]
  },
  {
   "cell_type": "markdown",
   "id": "840b765a",
   "metadata": {},
   "source": [
    "***\n",
    "## END"
   ]
  },
  {
   "cell_type": "markdown",
   "id": "e5961b4d",
   "metadata": {},
   "source": [
    "<a id=\"appendix\"></a>\n",
    "< [Table of Contents](#top) > < [Instructions](#instructions) > < [Abstract](#abstract) > < [Introduction](#introduction)&nbsp;&nbsp;:&nbsp;&nbsp;[Sampling](#introductionScenario)&nbsp;&nbsp;|&nbsp;&nbsp;[``scipy.stats``](#solutionttest)&nbsp;&nbsp;|&nbsp;&nbsp;[Multiple Samples](#solutionMultipleSamples) > < [Solution](#solution)&nbsp;&nbsp;:&nbsp;&nbsp;[``ANOVA``](#solutionANOVA)&nbsp;&nbsp;|&nbsp;&nbsp;[Flavors of Cacao](#solutionANOVAOnewayflavorsofcacao) > < [Conclusion](#conclusion) > < [References](#references) > < [Appendix](#appendix) >\n",
    "***\n",
    "## Appendix\n",
    "***"
   ]
  },
  {
   "cell_type": "markdown",
   "id": "93620b12",
   "metadata": {},
   "source": [
    "<a id=\"appendixSleep\"></a>\n",
    "< [Table of Contents](#top) > < [Instructions](#instructions) > < [Abstract](#abstract) > < [Introduction](#introduction)&nbsp;&nbsp;:&nbsp;&nbsp;[Sampling](#introductionScenario)&nbsp;&nbsp;|&nbsp;&nbsp;[``scipy.stats``](#solutionttest)&nbsp;&nbsp;|&nbsp;&nbsp;[Multiple Samples](#solutionMultipleSamples) > < [Solution](#solution)&nbsp;&nbsp;:&nbsp;&nbsp;[``ANOVA``](#solutionANOVA)&nbsp;&nbsp;|&nbsp;&nbsp;[Flavors of Cacao](#solutionANOVAOnewayflavorsofcacao) > < [Conclusion](#conclusion) > < [References](#references) > < [Appendix](#appendix) >\n",
    "***\n",
    "### T-Test - Sleep Dataset \n",
    "***"
   ]
  },
  {
   "cell_type": "code",
   "execution_count": 225,
   "id": "f953761a",
   "metadata": {},
   "outputs": [],
   "source": [
    "import pandas as pd\n",
    "import scipy.stats as ss"
   ]
  },
  {
   "cell_type": "markdown",
   "id": "9d150aee",
   "metadata": {},
   "source": [
    "- doing a ``t-test`` on some real-world data (sleep dataset) [6]"
   ]
  },
  {
   "cell_type": "code",
   "execution_count": 226,
   "id": "c247b49d",
   "metadata": {},
   "outputs": [
    {
     "name": "stdout",
     "output_type": "stream",
     "text": [
      "Read a comma-separated values (csv) file into DataFrame.\n"
     ]
    }
   ],
   "source": [
    "print(\"\\n\".join(pd.read_csv.__doc__.split(\"\\n\")[1:2]))"
   ]
  },
  {
   "cell_type": "code",
   "execution_count": 227,
   "id": "bdfecc87",
   "metadata": {},
   "outputs": [],
   "source": [
    "dfsleep=pd.read_csv(\"https://vincentarelbundock.github.io/Rdatasets/csv/datasets/sleep.csv\")"
   ]
  },
  {
   "cell_type": "markdown",
   "id": "50546ca6",
   "metadata": {},
   "source": [
    "- two groups (``1`` and ``2``) plus associated person ``ID`` (each group) [6]"
   ]
  },
  {
   "cell_type": "code",
   "execution_count": 228,
   "id": "d0408ba2",
   "metadata": {},
   "outputs": [
    {
     "data": {
      "text/html": [
       "<div>\n",
       "<style scoped>\n",
       "    .dataframe tbody tr th:only-of-type {\n",
       "        vertical-align: middle;\n",
       "    }\n",
       "\n",
       "    .dataframe tbody tr th {\n",
       "        vertical-align: top;\n",
       "    }\n",
       "\n",
       "    .dataframe thead th {\n",
       "        text-align: right;\n",
       "    }\n",
       "</style>\n",
       "<table border=\"1\" class=\"dataframe\">\n",
       "  <thead>\n",
       "    <tr style=\"text-align: right;\">\n",
       "      <th></th>\n",
       "      <th>Unnamed: 0</th>\n",
       "      <th>extra</th>\n",
       "      <th>group</th>\n",
       "      <th>ID</th>\n",
       "    </tr>\n",
       "  </thead>\n",
       "  <tbody>\n",
       "    <tr>\n",
       "      <th>0</th>\n",
       "      <td>1</td>\n",
       "      <td>0.7</td>\n",
       "      <td>1</td>\n",
       "      <td>1</td>\n",
       "    </tr>\n",
       "    <tr>\n",
       "      <th>1</th>\n",
       "      <td>2</td>\n",
       "      <td>-1.6</td>\n",
       "      <td>1</td>\n",
       "      <td>2</td>\n",
       "    </tr>\n",
       "    <tr>\n",
       "      <th>2</th>\n",
       "      <td>3</td>\n",
       "      <td>-0.2</td>\n",
       "      <td>1</td>\n",
       "      <td>3</td>\n",
       "    </tr>\n",
       "    <tr>\n",
       "      <th>3</th>\n",
       "      <td>4</td>\n",
       "      <td>-1.2</td>\n",
       "      <td>1</td>\n",
       "      <td>4</td>\n",
       "    </tr>\n",
       "    <tr>\n",
       "      <th>4</th>\n",
       "      <td>5</td>\n",
       "      <td>-0.1</td>\n",
       "      <td>1</td>\n",
       "      <td>5</td>\n",
       "    </tr>\n",
       "    <tr>\n",
       "      <th>5</th>\n",
       "      <td>6</td>\n",
       "      <td>3.4</td>\n",
       "      <td>1</td>\n",
       "      <td>6</td>\n",
       "    </tr>\n",
       "    <tr>\n",
       "      <th>6</th>\n",
       "      <td>7</td>\n",
       "      <td>3.7</td>\n",
       "      <td>1</td>\n",
       "      <td>7</td>\n",
       "    </tr>\n",
       "    <tr>\n",
       "      <th>7</th>\n",
       "      <td>8</td>\n",
       "      <td>0.8</td>\n",
       "      <td>1</td>\n",
       "      <td>8</td>\n",
       "    </tr>\n",
       "    <tr>\n",
       "      <th>8</th>\n",
       "      <td>9</td>\n",
       "      <td>0.0</td>\n",
       "      <td>1</td>\n",
       "      <td>9</td>\n",
       "    </tr>\n",
       "    <tr>\n",
       "      <th>9</th>\n",
       "      <td>10</td>\n",
       "      <td>2.0</td>\n",
       "      <td>1</td>\n",
       "      <td>10</td>\n",
       "    </tr>\n",
       "    <tr>\n",
       "      <th>10</th>\n",
       "      <td>11</td>\n",
       "      <td>1.9</td>\n",
       "      <td>2</td>\n",
       "      <td>1</td>\n",
       "    </tr>\n",
       "    <tr>\n",
       "      <th>11</th>\n",
       "      <td>12</td>\n",
       "      <td>0.8</td>\n",
       "      <td>2</td>\n",
       "      <td>2</td>\n",
       "    </tr>\n",
       "    <tr>\n",
       "      <th>12</th>\n",
       "      <td>13</td>\n",
       "      <td>1.1</td>\n",
       "      <td>2</td>\n",
       "      <td>3</td>\n",
       "    </tr>\n",
       "    <tr>\n",
       "      <th>13</th>\n",
       "      <td>14</td>\n",
       "      <td>0.1</td>\n",
       "      <td>2</td>\n",
       "      <td>4</td>\n",
       "    </tr>\n",
       "    <tr>\n",
       "      <th>14</th>\n",
       "      <td>15</td>\n",
       "      <td>-0.1</td>\n",
       "      <td>2</td>\n",
       "      <td>5</td>\n",
       "    </tr>\n",
       "    <tr>\n",
       "      <th>15</th>\n",
       "      <td>16</td>\n",
       "      <td>4.4</td>\n",
       "      <td>2</td>\n",
       "      <td>6</td>\n",
       "    </tr>\n",
       "    <tr>\n",
       "      <th>16</th>\n",
       "      <td>17</td>\n",
       "      <td>5.5</td>\n",
       "      <td>2</td>\n",
       "      <td>7</td>\n",
       "    </tr>\n",
       "    <tr>\n",
       "      <th>17</th>\n",
       "      <td>18</td>\n",
       "      <td>1.6</td>\n",
       "      <td>2</td>\n",
       "      <td>8</td>\n",
       "    </tr>\n",
       "    <tr>\n",
       "      <th>18</th>\n",
       "      <td>19</td>\n",
       "      <td>4.6</td>\n",
       "      <td>2</td>\n",
       "      <td>9</td>\n",
       "    </tr>\n",
       "    <tr>\n",
       "      <th>19</th>\n",
       "      <td>20</td>\n",
       "      <td>3.4</td>\n",
       "      <td>2</td>\n",
       "      <td>10</td>\n",
       "    </tr>\n",
       "  </tbody>\n",
       "</table>\n",
       "</div>"
      ],
      "text/plain": [
       "    Unnamed: 0  extra  group  ID\n",
       "0            1    0.7      1   1\n",
       "1            2   -1.6      1   2\n",
       "2            3   -0.2      1   3\n",
       "3            4   -1.2      1   4\n",
       "4            5   -0.1      1   5\n",
       "5            6    3.4      1   6\n",
       "6            7    3.7      1   7\n",
       "7            8    0.8      1   8\n",
       "8            9    0.0      1   9\n",
       "9           10    2.0      1  10\n",
       "10          11    1.9      2   1\n",
       "11          12    0.8      2   2\n",
       "12          13    1.1      2   3\n",
       "13          14    0.1      2   4\n",
       "14          15   -0.1      2   5\n",
       "15          16    4.4      2   6\n",
       "16          17    5.5      2   7\n",
       "17          18    1.6      2   8\n",
       "18          19    4.6      2   9\n",
       "19          20    3.4      2  10"
      ]
     },
     "execution_count": 228,
     "metadata": {},
     "output_type": "execute_result"
    }
   ],
   "source": [
    "dfsleep"
   ]
  },
  {
   "cell_type": "markdown",
   "id": "ea015af2",
   "metadata": {},
   "source": [
    "- group ``1`` is a beforehand measure on a person via ``ID`` [6]"
   ]
  },
  {
   "cell_type": "code",
   "execution_count": 229,
   "id": "5c628be4",
   "metadata": {},
   "outputs": [],
   "source": [
    "drugA=dfsleep[dfsleep[\"group\"]==1] # extracting group ``1``"
   ]
  },
  {
   "cell_type": "code",
   "execution_count": 230,
   "id": "e53b807c",
   "metadata": {},
   "outputs": [
    {
     "data": {
      "text/html": [
       "<div>\n",
       "<style scoped>\n",
       "    .dataframe tbody tr th:only-of-type {\n",
       "        vertical-align: middle;\n",
       "    }\n",
       "\n",
       "    .dataframe tbody tr th {\n",
       "        vertical-align: top;\n",
       "    }\n",
       "\n",
       "    .dataframe thead th {\n",
       "        text-align: right;\n",
       "    }\n",
       "</style>\n",
       "<table border=\"1\" class=\"dataframe\">\n",
       "  <thead>\n",
       "    <tr style=\"text-align: right;\">\n",
       "      <th></th>\n",
       "      <th>Unnamed: 0</th>\n",
       "      <th>extra</th>\n",
       "      <th>group</th>\n",
       "      <th>ID</th>\n",
       "    </tr>\n",
       "  </thead>\n",
       "  <tbody>\n",
       "    <tr>\n",
       "      <th>0</th>\n",
       "      <td>1</td>\n",
       "      <td>0.7</td>\n",
       "      <td>1</td>\n",
       "      <td>1</td>\n",
       "    </tr>\n",
       "    <tr>\n",
       "      <th>1</th>\n",
       "      <td>2</td>\n",
       "      <td>-1.6</td>\n",
       "      <td>1</td>\n",
       "      <td>2</td>\n",
       "    </tr>\n",
       "    <tr>\n",
       "      <th>2</th>\n",
       "      <td>3</td>\n",
       "      <td>-0.2</td>\n",
       "      <td>1</td>\n",
       "      <td>3</td>\n",
       "    </tr>\n",
       "    <tr>\n",
       "      <th>3</th>\n",
       "      <td>4</td>\n",
       "      <td>-1.2</td>\n",
       "      <td>1</td>\n",
       "      <td>4</td>\n",
       "    </tr>\n",
       "    <tr>\n",
       "      <th>4</th>\n",
       "      <td>5</td>\n",
       "      <td>-0.1</td>\n",
       "      <td>1</td>\n",
       "      <td>5</td>\n",
       "    </tr>\n",
       "    <tr>\n",
       "      <th>5</th>\n",
       "      <td>6</td>\n",
       "      <td>3.4</td>\n",
       "      <td>1</td>\n",
       "      <td>6</td>\n",
       "    </tr>\n",
       "    <tr>\n",
       "      <th>6</th>\n",
       "      <td>7</td>\n",
       "      <td>3.7</td>\n",
       "      <td>1</td>\n",
       "      <td>7</td>\n",
       "    </tr>\n",
       "    <tr>\n",
       "      <th>7</th>\n",
       "      <td>8</td>\n",
       "      <td>0.8</td>\n",
       "      <td>1</td>\n",
       "      <td>8</td>\n",
       "    </tr>\n",
       "    <tr>\n",
       "      <th>8</th>\n",
       "      <td>9</td>\n",
       "      <td>0.0</td>\n",
       "      <td>1</td>\n",
       "      <td>9</td>\n",
       "    </tr>\n",
       "    <tr>\n",
       "      <th>9</th>\n",
       "      <td>10</td>\n",
       "      <td>2.0</td>\n",
       "      <td>1</td>\n",
       "      <td>10</td>\n",
       "    </tr>\n",
       "  </tbody>\n",
       "</table>\n",
       "</div>"
      ],
      "text/plain": [
       "   Unnamed: 0  extra  group  ID\n",
       "0           1    0.7      1   1\n",
       "1           2   -1.6      1   2\n",
       "2           3   -0.2      1   3\n",
       "3           4   -1.2      1   4\n",
       "4           5   -0.1      1   5\n",
       "5           6    3.4      1   6\n",
       "6           7    3.7      1   7\n",
       "7           8    0.8      1   8\n",
       "8           9    0.0      1   9\n",
       "9          10    2.0      1  10"
      ]
     },
     "execution_count": 230,
     "metadata": {},
     "output_type": "execute_result"
    }
   ],
   "source": [
    "drugA"
   ]
  },
  {
   "cell_type": "code",
   "execution_count": 231,
   "id": "de69fa4a",
   "metadata": {},
   "outputs": [
    {
     "name": "stdout",
     "output_type": "stream",
     "text": [
      "Sort by the values along either axis.\n"
     ]
    }
   ],
   "source": [
    "print(\"\\n\".join(drugA.sort_values.__doc__.split(\"\\n\")[1:2]))"
   ]
  },
  {
   "cell_type": "code",
   "execution_count": 232,
   "id": "9adef60b",
   "metadata": {},
   "outputs": [],
   "source": [
    "drugA=drugA.sort_values(by=\"ID\")"
   ]
  },
  {
   "cell_type": "code",
   "execution_count": 233,
   "id": "2ad464fc",
   "metadata": {},
   "outputs": [],
   "source": [
    "drugA=drugA[\"extra\"].to_numpy()"
   ]
  },
  {
   "cell_type": "markdown",
   "id": "2fcd61ab",
   "metadata": {},
   "source": [
    "- group ``2`` is a second measure after some intervention on the same person via ``ID`` [6]"
   ]
  },
  {
   "cell_type": "code",
   "execution_count": 234,
   "id": "52db02dd",
   "metadata": {},
   "outputs": [],
   "source": [
    "drugB=dfsleep[dfsleep[\"group\"]==2] # extracting group ``2``"
   ]
  },
  {
   "cell_type": "code",
   "execution_count": 235,
   "id": "7414b3bf",
   "metadata": {},
   "outputs": [
    {
     "data": {
      "text/html": [
       "<div>\n",
       "<style scoped>\n",
       "    .dataframe tbody tr th:only-of-type {\n",
       "        vertical-align: middle;\n",
       "    }\n",
       "\n",
       "    .dataframe tbody tr th {\n",
       "        vertical-align: top;\n",
       "    }\n",
       "\n",
       "    .dataframe thead th {\n",
       "        text-align: right;\n",
       "    }\n",
       "</style>\n",
       "<table border=\"1\" class=\"dataframe\">\n",
       "  <thead>\n",
       "    <tr style=\"text-align: right;\">\n",
       "      <th></th>\n",
       "      <th>Unnamed: 0</th>\n",
       "      <th>extra</th>\n",
       "      <th>group</th>\n",
       "      <th>ID</th>\n",
       "    </tr>\n",
       "  </thead>\n",
       "  <tbody>\n",
       "    <tr>\n",
       "      <th>10</th>\n",
       "      <td>11</td>\n",
       "      <td>1.9</td>\n",
       "      <td>2</td>\n",
       "      <td>1</td>\n",
       "    </tr>\n",
       "    <tr>\n",
       "      <th>11</th>\n",
       "      <td>12</td>\n",
       "      <td>0.8</td>\n",
       "      <td>2</td>\n",
       "      <td>2</td>\n",
       "    </tr>\n",
       "    <tr>\n",
       "      <th>12</th>\n",
       "      <td>13</td>\n",
       "      <td>1.1</td>\n",
       "      <td>2</td>\n",
       "      <td>3</td>\n",
       "    </tr>\n",
       "    <tr>\n",
       "      <th>13</th>\n",
       "      <td>14</td>\n",
       "      <td>0.1</td>\n",
       "      <td>2</td>\n",
       "      <td>4</td>\n",
       "    </tr>\n",
       "    <tr>\n",
       "      <th>14</th>\n",
       "      <td>15</td>\n",
       "      <td>-0.1</td>\n",
       "      <td>2</td>\n",
       "      <td>5</td>\n",
       "    </tr>\n",
       "    <tr>\n",
       "      <th>15</th>\n",
       "      <td>16</td>\n",
       "      <td>4.4</td>\n",
       "      <td>2</td>\n",
       "      <td>6</td>\n",
       "    </tr>\n",
       "    <tr>\n",
       "      <th>16</th>\n",
       "      <td>17</td>\n",
       "      <td>5.5</td>\n",
       "      <td>2</td>\n",
       "      <td>7</td>\n",
       "    </tr>\n",
       "    <tr>\n",
       "      <th>17</th>\n",
       "      <td>18</td>\n",
       "      <td>1.6</td>\n",
       "      <td>2</td>\n",
       "      <td>8</td>\n",
       "    </tr>\n",
       "    <tr>\n",
       "      <th>18</th>\n",
       "      <td>19</td>\n",
       "      <td>4.6</td>\n",
       "      <td>2</td>\n",
       "      <td>9</td>\n",
       "    </tr>\n",
       "    <tr>\n",
       "      <th>19</th>\n",
       "      <td>20</td>\n",
       "      <td>3.4</td>\n",
       "      <td>2</td>\n",
       "      <td>10</td>\n",
       "    </tr>\n",
       "  </tbody>\n",
       "</table>\n",
       "</div>"
      ],
      "text/plain": [
       "    Unnamed: 0  extra  group  ID\n",
       "10          11    1.9      2   1\n",
       "11          12    0.8      2   2\n",
       "12          13    1.1      2   3\n",
       "13          14    0.1      2   4\n",
       "14          15   -0.1      2   5\n",
       "15          16    4.4      2   6\n",
       "16          17    5.5      2   7\n",
       "17          18    1.6      2   8\n",
       "18          19    4.6      2   9\n",
       "19          20    3.4      2  10"
      ]
     },
     "execution_count": 235,
     "metadata": {},
     "output_type": "execute_result"
    }
   ],
   "source": [
    "drugB"
   ]
  },
  {
   "cell_type": "code",
   "execution_count": 236,
   "id": "02ad1f6f",
   "metadata": {},
   "outputs": [],
   "source": [
    "drugB=drugB.sort_values(by=\"ID\") # sort by ID"
   ]
  },
  {
   "cell_type": "code",
   "execution_count": 237,
   "id": "86eea804",
   "metadata": {},
   "outputs": [],
   "source": [
    "drugB = drugB[\"extra\"].to_numpy() # to numpy array"
   ]
  },
  {
   "cell_type": "markdown",
   "id": "716eaa7a",
   "metadata": {},
   "source": [
    "- the first number of ``drugA`` is paired with the first number of ``drugB`` etc [6]"
   ]
  },
  {
   "cell_type": "code",
   "execution_count": 238,
   "id": "d9dff172",
   "metadata": {},
   "outputs": [
    {
     "data": {
      "text/plain": [
       "array([ 0.7, -1.6, -0.2, -1.2, -0.1,  3.4,  3.7,  0.8,  0. ,  2. ])"
      ]
     },
     "execution_count": 238,
     "metadata": {},
     "output_type": "execute_result"
    }
   ],
   "source": [
    "drugA"
   ]
  },
  {
   "cell_type": "code",
   "execution_count": 239,
   "id": "640b0e7e",
   "metadata": {},
   "outputs": [
    {
     "data": {
      "text/plain": [
       "array([ 1.9,  0.8,  1.1,  0.1, -0.1,  4.4,  5.5,  1.6,  4.6,  3.4])"
      ]
     },
     "execution_count": 239,
     "metadata": {},
     "output_type": "execute_result"
    }
   ],
   "source": [
    "drugB"
   ]
  },
  {
   "cell_type": "markdown",
   "id": "71da9a52",
   "metadata": {},
   "source": [
    "- testing if there is a difference between ``drugA`` and ``drugB`` [6]"
   ]
  },
  {
   "cell_type": "code",
   "execution_count": 240,
   "id": "1c91691c",
   "metadata": {},
   "outputs": [
    {
     "name": "stdout",
     "output_type": "stream",
     "text": [
      "    Calculate the t-test on TWO RELATED samples of scores, a and b.\n",
      "\n",
      "    This is a two-sided test for the null hypothesis that 2 related or\n",
      "    repeated samples have identical average (expected) values.\n"
     ]
    }
   ],
   "source": [
    "print(\"\\n\".join(ss.ttest_rel.__doc__.split(\"\\n\")[1:5]))"
   ]
  },
  {
   "cell_type": "code",
   "execution_count": 241,
   "id": "8c1c40a0",
   "metadata": {},
   "outputs": [
    {
     "data": {
      "text/plain": [
       "Ttest_relResult(statistic=-4.062127683382037, pvalue=0.00283289019738427)"
      ]
     },
     "execution_count": 241,
     "metadata": {},
     "output_type": "execute_result"
    }
   ],
   "source": [
    "ss.ttest_rel(a=drugA,b=drugB)"
   ]
  },
  {
   "cell_type": "markdown",
   "id": "6e516672",
   "metadata": {},
   "source": [
    "- using a $0.5$ confidence level can reject this as it looks like there is a difference between ``drugA`` and ``drugB`` [6]"
   ]
  },
  {
   "cell_type": "code",
   "execution_count": 242,
   "id": "122dcbf4",
   "metadata": {},
   "outputs": [
    {
     "data": {
      "text/plain": [
       "'pvalue: 0.00283289019738427'"
      ]
     },
     "execution_count": 242,
     "metadata": {},
     "output_type": "execute_result"
    }
   ],
   "source": [
    "f\"pvalue: {ss.ttest_rel(a=drugA,b=drugB)[1]}\""
   ]
  },
  {
   "cell_type": "markdown",
   "id": "419569fa",
   "metadata": {},
   "source": [
    "- another type of ``t-test`` called the one sample (or a single sample which is the paired sample ``t-test``) asks the question if subtracting the numbers in ``drugA`` from ``drugB`` is the average zero [6]"
   ]
  },
  {
   "cell_type": "code",
   "execution_count": 243,
   "id": "d88ca3a2",
   "metadata": {},
   "outputs": [
    {
     "name": "stdout",
     "output_type": "stream",
     "text": [
      "    Calculate the T-test for the mean of ONE group of scores.\n",
      "\n",
      "    This is a two-sided test for the null hypothesis that the expected value\n",
      "    (mean) of a sample of independent observations `a` is equal to the given\n",
      "    population mean, `popmean`.\n"
     ]
    }
   ],
   "source": [
    "print(\"\\n\".join(ss.ttest_1samp.__doc__.split(\"\\n\")[1:6]))"
   ]
  },
  {
   "cell_type": "code",
   "execution_count": 244,
   "id": "3238ba75",
   "metadata": {},
   "outputs": [
    {
     "data": {
      "text/plain": [
       "Ttest_1sampResult(statistic=4.062127683382037, pvalue=0.00283289019738427)"
      ]
     },
     "execution_count": 244,
     "metadata": {},
     "output_type": "execute_result"
    }
   ],
   "source": [
    "ss.ttest_1samp(a=drugB-drugA,popmean=0)"
   ]
  },
  {
   "cell_type": "code",
   "execution_count": 245,
   "id": "8c1b6563",
   "metadata": {},
   "outputs": [
    {
     "data": {
      "text/plain": [
       "'pvalue: 0.00283289019738427'"
      ]
     },
     "execution_count": 245,
     "metadata": {},
     "output_type": "execute_result"
    }
   ],
   "source": [
    "f\"pvalue: {ss.ttest_1samp(a=drugA-drugB,popmean=0)[1]}\""
   ]
  },
  {
   "cell_type": "code",
   "execution_count": 246,
   "id": "8ac2a867",
   "metadata": {},
   "outputs": [
    {
     "data": {
      "text/plain": [
       "True"
      ]
     },
     "execution_count": 246,
     "metadata": {},
     "output_type": "execute_result"
    }
   ],
   "source": [
    "ss.ttest_rel(a=drugA,b=drugB)[1]==ss.ttest_1samp(a=drugB-drugA,popmean=0)[1]"
   ]
  },
  {
   "cell_type": "markdown",
   "id": "123f6728",
   "metadata": {},
   "source": [
    "- overview of not just ``t-tests`` but an overview of the typical way to use statistics to do things like hypothesis testing (traditional old way of doing statistics) [6]"
   ]
  },
  {
   "cell_type": "markdown",
   "id": "86c50795",
   "metadata": {},
   "source": [
    "***\n",
    "## END"
   ]
  },
  {
   "cell_type": "markdown",
   "id": "4ac24de1",
   "metadata": {},
   "source": [
    "***\n",
    "## END (Appendix)"
   ]
  },
  {
   "cell_type": "markdown",
   "id": "d4750ee0",
   "metadata": {},
   "source": [
    "<a id=\"references\"></a>\n",
    "< [Table of Contents](#top) > < [Instructions](#instructions) > < [Abstract](#abstract) > < [Introduction](#introduction)&nbsp;&nbsp;:&nbsp;&nbsp;[Sampling](#introductionScenario)&nbsp;&nbsp;|&nbsp;&nbsp;[``scipy.stats``](#solutionttest)&nbsp;&nbsp;|&nbsp;&nbsp;[Multiple Samples](#solutionMultipleSamples) > < [Solution](#solution)&nbsp;&nbsp;:&nbsp;&nbsp;[``ANOVA``](#solutionANOVA)&nbsp;&nbsp;|&nbsp;&nbsp;[Flavors of Cacao](#solutionANOVAOnewayflavorsofcacao) > < [Conclusion](#conclusion) > < [References](#references) > < [Appendix](#appendix) >\n",
    "***\n",
    "## References\n",
    "***\n",
    "&nbsp;&nbsp;&nbsp;&nbsp;&nbsp;&nbsp;&nbsp;&nbsp;&nbsp;[0] I. McLoughlin, \"Assessment,\" GMIT, October 2021.\n",
    "\n",
    "&nbsp;&nbsp;&nbsp;&nbsp;&nbsp;&nbsp;&nbsp;&nbsp;&nbsp;[1] B. Foltz, \"Statistics 101 - ANOVA, A Visual Introduction,\" [youtube.com](https://web.archive.org/web/20210930195145/https://www.youtube.com/watch?v=0Vj2V2qRU10), April 2013.\n",
    "\n",
    "&nbsp;&nbsp;&nbsp;&nbsp;&nbsp;&nbsp;&nbsp;&nbsp;&nbsp;[2] I. McLoughlin, \"t-tests in Python setup,\" GMIT, October 2020.\n",
    "\n",
    "&nbsp;&nbsp;&nbsp;&nbsp;&nbsp;&nbsp;&nbsp;&nbsp;&nbsp;[3] I. McLoughlin, \"Simulating data for a t-test,\" GMIT, October 2020.\n",
    "\n",
    "&nbsp;&nbsp;&nbsp;&nbsp;&nbsp;&nbsp;&nbsp;&nbsp;&nbsp;[4] I. McLoughlin, \"Running a t-test in Python,\" GMIT, October 2020.\n",
    "\n",
    "&nbsp;&nbsp;&nbsp;&nbsp;&nbsp;&nbsp;&nbsp;&nbsp;&nbsp;[5] I. McLoughlin, \"Interpreting a t-test,\" GMIT, October 2020.\n",
    "\n",
    "&nbsp;&nbsp;&nbsp;&nbsp;&nbsp;&nbsp;&nbsp;&nbsp;&nbsp;[6] I. McLoughlin, \"Errors and playing with t-tests,\" GMIT, October 2020.\n",
    "\n",
    "&nbsp;&nbsp;&nbsp;&nbsp;&nbsp;&nbsp;&nbsp;&nbsp;&nbsp;[7] I. McLoughlin, \"From t-tests to ANOVA,\" GMIT, October 2020.\n",
    "\n",
    "&nbsp;&nbsp;&nbsp;&nbsp;&nbsp;&nbsp;&nbsp;&nbsp;&nbsp;[8] D. Rowntree, \"Statistics without Tears,\" Penguin (updated edition), Chapter 4. The shape of a distribution, October 2018.\n",
    "\n",
    "&nbsp;&nbsp;&nbsp;&nbsp;&nbsp;&nbsp;&nbsp;&nbsp;&nbsp;[9] 365 Data Science, \"Hypothesis testing. Null vs alternative,\" [youtube.com](https://www.youtube.com/watch?v=ZzeXCKd5a18), August 2017.\n",
    "\n",
    "&nbsp;&nbsp;&nbsp;&nbsp;&nbsp;&nbsp;&nbsp;[10] I. McLoughlin, \"Practical t-tests in Python,\" GMIT, October 2019.\n",
    "\n",
    "&nbsp;&nbsp;&nbsp;&nbsp;&nbsp;&nbsp;&nbsp;[11] D. Rowntree, \"Statistics without Tears,\" Penguin (updated edition), Chapter 7. Further matters of significance, October 2018.\n",
    "\n",
    "&nbsp;&nbsp;&nbsp;&nbsp;&nbsp;&nbsp;&nbsp;[12] D. Spiegelhalter, \"The Art of Statistics,\" Pelican, p. 97-98, 2019.\n",
    "\n",
    "&nbsp;&nbsp;&nbsp;&nbsp;&nbsp;&nbsp;&nbsp;[13] T. Vigen, \"Spurious correlations,\" [tylervigen.com](https://tylervigen.com/spurious-correlations), July 2014.\n",
    "\n",
    "&nbsp;&nbsp;&nbsp;&nbsp;&nbsp;&nbsp;&nbsp;[14] V. Geislinger, \"Multiple Comparisons Warning,\" [youtube.com](https://www.youtube.com/watch?v=voHPvSkX3f4), April 2020.\n",
    "\n",
    "&nbsp;&nbsp;&nbsp;&nbsp;&nbsp;&nbsp;&nbsp;[15] G.H. McDonald, \"Handbook of Biological Statistics (One-way ANOVA)\", [biostathandbook.com](http://www.biostathandbook.com/onewayanova.html), n.d..\n",
    "\n",
    "&nbsp;&nbsp;&nbsp;&nbsp;&nbsp;&nbsp;&nbsp;[16] V. Geislinger, \"Coding ANOVA: SciPy Method,\" [youtube.com](https://www.youtube.com/watch?v=QnE8sBrKoNU), April 2020.\n",
    "\n",
    "&nbsp;&nbsp;&nbsp;&nbsp;&nbsp;&nbsp;&nbsp;[17] C. Shah, \"A Hands-on Introduction to Data Science,\" Cambridge University Press, pages 68-71, November 2020.\n",
    "\n",
    "&nbsp;&nbsp;&nbsp;&nbsp;&nbsp;&nbsp;&nbsp;[18] B, Brelinski, \"Flavors of Cacao\", [flavorsofcacao.com](http://flavorsofcacao.com/chocolate_database.html), n.d..\n",
    "\n",
    "&nbsp;&nbsp;&nbsp;&nbsp;&nbsp;&nbsp;&nbsp;[19] SciPy, \"Introduction,\" [scipy.github.io](https://scipy.github.io/devdocs/tutorial/general.html), August 2016.\n",
    "\n",
    "&nbsp;&nbsp;&nbsp;&nbsp;&nbsp;&nbsp;&nbsp;[20] D. Rowntree, \"Statistics without Tears,\" Penguin (updated edition), Chapter 1. Statistical inquiry, October 2018.\n",
    "\n",
    "&nbsp;&nbsp;&nbsp;&nbsp;&nbsp;&nbsp;&nbsp;[21] I. McLoughlin, \"scikit-learn Tutorials,\" GMIT, October 2021.\n",
    "\n",
    "&nbsp;&nbsp;&nbsp;&nbsp;&nbsp;&nbsp;&nbsp;[22] V. Geislinger, \"Coding ANOVA: Statsmodels OLS Method,\" [youtube.com](https://www.youtube.com/watch?v=3cCM0lQFMM4), April 2020.\n",
    "\n",
    "&nbsp;&nbsp;&nbsp;&nbsp;&nbsp;&nbsp;&nbsp;[23] I. McLoughlin, \"A Quick Overview of numpy,\" GMIT, October 2021.\n",
    "\n",
    "&nbsp;&nbsp;&nbsp;&nbsp;&nbsp;&nbsp;&nbsp;[24] I. McLoughlin, \"Using Pandas with scikit-learn,\" GMIT, October 2021.\n",
    "\n",
    "&nbsp;&nbsp;&nbsp;&nbsp;&nbsp;&nbsp;&nbsp;[25] D. Rowntree, \"Statistics without Tears,\" Penguin (updated edition), Chapter 5. From sample to population, October 2018.\n",
    "\n",
    "&nbsp;&nbsp;&nbsp;&nbsp;&nbsp;&nbsp;&nbsp;[26] R. Tatman, \"Chocolate Bar Ratings,\" [kaggle.com](https://www.kaggle.com/rtatman/chocolate-bar-ratings), August 2017.\n",
    "\n",
    "&nbsp;&nbsp;&nbsp;&nbsp;&nbsp;&nbsp;&nbsp;[27] J. Kerouac, \"Belief + Techniques for Modern Prose\", [americandigest.org](https://americandigest.org/wp/wp-content/uploads/2021/05/kerouacnotes.jpeg), 1958."
   ]
  },
  {
   "cell_type": "markdown",
   "id": "316d1979",
   "metadata": {},
   "source": [
    "***\n",
    "## END"
   ]
  },
  {
   "cell_type": "code",
   "execution_count": 247,
   "id": "342cc9a7",
   "metadata": {},
   "outputs": [
    {
     "data": {
      "text/html": [
       "<style>.container { width:100% !important; }</style>"
      ],
      "text/plain": [
       "<IPython.core.display.HTML object>"
      ]
     },
     "metadata": {},
     "output_type": "display_data"
    },
    {
     "data": {
      "text/html": [
       "<style>.container { width:100% !important; }</style>"
      ],
      "text/plain": [
       "<IPython.core.display.HTML object>"
      ]
     },
     "metadata": {},
     "output_type": "display_data"
    }
   ],
   "source": [
    "from sys import path; path.insert(1,\"./rc\");\n",
    "import fullscreen; from importlib import reload; reload(fullscreen);"
   ]
  },
  {
   "cell_type": "markdown",
   "id": "899c1783",
   "metadata": {},
   "source": [
    "# END JUPYTER NOTEBOOK"
   ]
  }
 ],
 "metadata": {
  "kernelspec": {
   "display_name": "Python 3",
   "language": "python",
   "name": "python3"
  },
  "language_info": {
   "codemirror_mode": {
    "name": "ipython",
    "version": 3
   },
   "file_extension": ".py",
   "mimetype": "text/x-python",
   "name": "python",
   "nbconvert_exporter": "python",
   "pygments_lexer": "ipython3",
   "version": "3.8.8"
  }
 },
 "nbformat": 4,
 "nbformat_minor": 5
}
