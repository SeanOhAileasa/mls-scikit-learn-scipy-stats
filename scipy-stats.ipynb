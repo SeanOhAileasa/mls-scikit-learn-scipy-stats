{
 "cells": [
  {
   "cell_type": "code",
   "execution_count": null,
   "id": "76b6aaa9",
   "metadata": {},
   "outputs": [
    {
     "data": {
      "text/html": [
       "<script>Jupyter.notebook.kernel.restart()</script>"
      ]
     },
     "metadata": {},
     "output_type": "display_data"
    }
   ],
   "source": [
    "from IPython.core.display import display_html\n",
    "display_html(\"<script>Jupyter.notebook.kernel.restart()</script>\",raw=True)"
   ]
  },
  {
   "cell_type": "code",
   "execution_count": 1,
   "id": "19093beb",
   "metadata": {},
   "outputs": [
    {
     "data": {
      "text/html": [
       "<style>.container { width:100% !important; }</style>"
      ],
      "text/plain": [
       "<IPython.core.display.HTML object>"
      ]
     },
     "metadata": {},
     "output_type": "display_data"
    },
    {
     "data": {
      "text/html": [
       "<style>.container { width:100% !important; }</style>"
      ],
      "text/plain": [
       "<IPython.core.display.HTML object>"
      ]
     },
     "metadata": {},
     "output_type": "display_data"
    }
   ],
   "source": [
    "from sys import path; path.insert(1,\"./rc\");\n",
    "import fullscreen; from importlib import reload; reload(fullscreen);"
   ]
  },
  {
   "cell_type": "markdown",
   "id": "616b0550",
   "metadata": {},
   "source": [
    "***\n",
    "< [GMIT Data Analytics](https://web.archive.org/web/20201029063153/https://www.gmit.ie/computer-science-and-applied-physics/higher-diploma-science-computing-data-analytics-ict) | [Home](https://github.com/SeanOhAileasa) | [README](https://github.com/SeanOhAileasa/mls-scikit-learn-scipy-stats/blob/main/README.md) >\n",
    "\n",
    "[![GMIT](https://github.com/SeanOhAileasa/SeanOhAileasa/blob/master/rc/gmit.png?raw=true)](https://web.archive.org/web/20201029063153/https://www.gmit.ie/computer-science-and-applied-physics/higher-diploma-science-computing-data-analytics-ict)\n",
    "\n",
    "## Machine Learning & Statistics, Winter 21/22\n",
    "### Due: last commit on or before January 2nd, 2022\n",
    "### Topic: [``scipy-stats``](https://nbviewer.jupyter.org/github/SeanOhAileasa/mls-scikit-learn-scipy-stats/blob/main/scipy-stats.ipynb)\n",
    "***"
   ]
  },
  {
   "cell_type": "markdown",
   "id": "3cb013c8",
   "metadata": {},
   "source": [
    "Winter 21/22 assessment for the ``Machine Learning & Statistics`` module (5 Credits) of the ``Higher Diploma in Science in Computing (Data Analytics) (H.Dip)`` programme (75 Credits) at **Galway-Mayo Institute of Technology (GMIT)**."
   ]
  },
  {
   "cell_type": "markdown",
   "id": "c5d47c64",
   "metadata": {},
   "source": [
    "<a id=\"instructions\"></a>\n",
    "< [Table of Contents](#top) > < [instructions](#instructions)&nbsp;&nbsp;|&nbsp;&nbsp;[Structure](#structure) > < [Abstract](#abstract) > < [Introduction](#introduction)&nbsp;&nbsp;:&nbsp;&nbsp;[Sampling](#introductionScenario)&nbsp;&nbsp;|&nbsp;&nbsp;[``scipy.stats``](#solutionttest)&nbsp;&nbsp;|&nbsp;&nbsp;[Multiple Samples](#solutionMultipleSamples) > < [Solution](#solution)&nbsp;&nbsp;:&nbsp;&nbsp;[``ANOVA``](#solutionANOVA)&nbsp;&nbsp;|&nbsp;&nbsp;[Flavors of Cacao](#solutionANOVAOnewayflavorsofcacao) > < [Conclusion](#conclusion) > < [References](#references) > < [Appendix](#appendix)&nbsp;&nbsp;|&nbsp;&nbsp;[Project Management](#ppmTOC) >\n",
    "***\n",
    "## Instructions\n",
    "***"
   ]
  },
  {
   "cell_type": "markdown",
   "id": "b0e834d1",
   "metadata": {},
   "source": [
    "The purpose of the assessment is to ensure the module's learning outcomes are achieved while also providing sample work to show prospective employers [0]. The overall assessment is split into the three components detailed below [0]. The percentages indicate the weighting of that item in the overall mark [0]. However, the examiners’ general impression of the submission may override the individual weightings where deemed appropriate [0]."
   ]
  },
  {
   "cell_type": "markdown",
   "id": "1ca7cb0f",
   "metadata": {},
   "source": [
    "Include a Jupyter Notebook called ``scikit-stats.ipynb`` that contains the following:"
   ]
  },
  {
   "cell_type": "markdown",
   "id": "1fba5b49",
   "metadata": {},
   "source": [
    "###### $10\\%$\n",
    "***"
   ]
  },
  {
   "cell_type": "markdown",
   "id": "575bc8e9",
   "metadata": {},
   "source": [
    "A clear and concise overview of the ``scikit-stats`` Python library [0]."
   ]
  },
  {
   "cell_type": "markdown",
   "id": "0fa367f7",
   "metadata": {},
   "source": [
    "###### $20\\%$\n",
    "***"
   ]
  },
  {
   "cell_type": "markdown",
   "id": "8a8668fc",
   "metadata": {},
   "source": [
    "An example hypothesis test using ``ANOVA``. The dataset used must be appropriate to use ``ANOVA``, ensuring the assumptions underlying ``ANOVA`` are met, and then perform and display the results of ``ANOVA`` using ``scipy.stats`` [0]."
   ]
  },
  {
   "cell_type": "markdown",
   "id": "17a11496",
   "metadata": {},
   "source": [
    "###### $10\\%$\n",
    "***"
   ]
  },
  {
   "cell_type": "markdown",
   "id": "1c7a18eb",
   "metadata": {},
   "source": [
    "Appropriate plots and other visualisations to enhance the notebook for viewers [0]."
   ]
  },
  {
   "cell_type": "markdown",
   "id": "7ef737a5",
   "metadata": {},
   "source": [
    "###### GitHub Repository\n",
    "***"
   ]
  },
  {
   "cell_type": "markdown",
   "id": "b8ce9a27",
   "metadata": {},
   "source": [
    "GitHub repository containing two Jupyter notebooks:"
   ]
  },
  {
   "cell_type": "markdown",
   "id": "1c6898fa",
   "metadata": {},
   "source": [
    "i. ``scikit-learn`` ($40\\%$)"
   ]
  },
  {
   "cell_type": "markdown",
   "id": "f00b7374",
   "metadata": {},
   "source": [
    "[![Binder](https://mybinder.org/badge_logo.svg)](https://mybinder.org/v2/gh/SeanOhAileasa/mls-scikit-learn-scipy-stats/HEAD?labpath=scikit-learn.ipynb)"
   ]
  },
  {
   "cell_type": "markdown",
   "id": "a1663610",
   "metadata": {},
   "source": [
    "[![nbviewer](https://raw.githubusercontent.com/jupyter/design/master/logos/Badges/nbviewer_badge.svg)](https://nbviewer.jupyter.org/github/SeanOhAileasa/mls-scikit-learn-scipy-stats/blob/main/scikit-learn.ipynb)"
   ]
  },
  {
   "cell_type": "markdown",
   "id": "fa718606",
   "metadata": {},
   "source": [
    "ii. ``scipy-stats``"
   ]
  },
  {
   "cell_type": "markdown",
   "id": "e7e1dadf",
   "metadata": {},
   "source": [
    "[![Binder](https://mybinder.org/badge_logo.svg)](https://mybinder.org/v2/gh/SeanOhAileasa/mls-scikit-learn-scipy-stats/HEAD?labpath=scipy-stats.ipynb) "
   ]
  },
  {
   "cell_type": "markdown",
   "id": "6cd4bf33",
   "metadata": {},
   "source": [
    "[![nbviewer](https://raw.githubusercontent.com/jupyter/design/master/logos/Badges/nbviewer_badge.svg)](https://nbviewer.jupyter.org/github/SeanOhAileasa/mls-scikit-learn-scipy-stats/blob/main/scipy-stats.ipynb)"
   ]
  },
  {
   "cell_type": "markdown",
   "id": "7acee675",
   "metadata": {},
   "source": [
    "###### $10\\%$\n",
    "***"
   ]
  },
  {
   "cell_type": "markdown",
   "id": "d7a52751",
   "metadata": {},
   "source": [
    "A clear and informative ``README.md`` explaining why the repository exists, what is in it, and how to run the notebooks [0]."
   ]
  },
  {
   "cell_type": "markdown",
   "id": "ad5f8143",
   "metadata": {},
   "source": [
    "###### $10\\%$\n",
    "***"
   ]
  },
  {
   "cell_type": "markdown",
   "id": "7917adff",
   "metadata": {},
   "source": [
    "A ``requirements.txt`` file enables someone to quickly run the notebooks with minimal configuration. Of course, also include any required files such as data files and image files [0]."
   ]
  },
  {
   "cell_type": "markdown",
   "id": "46431d41",
   "metadata": {},
   "source": [
    "***\n",
    "## END"
   ]
  },
  {
   "cell_type": "markdown",
   "id": "72504288",
   "metadata": {},
   "source": [
    "<a id=\"structure\"></a>\n",
    "< [Table of Contents](#top) > < [instructions](#instructions)&nbsp;&nbsp;|&nbsp;&nbsp;[Structure](#structure) > < [Abstract](#abstract) > < [Introduction](#introduction)&nbsp;&nbsp;:&nbsp;&nbsp;[Sampling](#introductionScenario)&nbsp;&nbsp;|&nbsp;&nbsp;[``scipy.stats``](#solutionttest)&nbsp;&nbsp;|&nbsp;&nbsp;[Multiple Samples](#solutionMultipleSamples) > < [Solution](#solution)&nbsp;&nbsp;:&nbsp;&nbsp;[``ANOVA``](#solutionANOVA)&nbsp;&nbsp;|&nbsp;&nbsp;[Flavors of Cacao](#solutionANOVAOnewayflavorsofcacao) > < [Conclusion](#conclusion) > < [References](#references) > < [Appendix](#appendix)&nbsp;&nbsp;|&nbsp;&nbsp;[Project Management](#ppmTOC) >\n",
    "***\n",
    "## Structure\n",
    "***"
   ]
  },
  {
   "cell_type": "markdown",
   "id": "ffe977e3",
   "metadata": {},
   "source": [
    "- notebook is organised in four parts: &#x1F6A7;"
   ]
  },
  {
   "cell_type": "markdown",
   "id": "29984bed",
   "metadata": {},
   "source": [
    "<hr width=50%;>"
   ]
  },
  {
   "cell_type": "markdown",
   "id": "cc0dddeb",
   "metadata": {},
   "source": [
    "``\"Remove literary, grammatical and syntactical inhibition.\"`` [J. Kerouac, \"Belief + Techniques for Modern Prose\", [americandigest.org](https://americandigest.org/wp/wp-content/uploads/2021/05/kerouacnotes.jpeg), 1958.]"
   ]
  },
  {
   "cell_type": "markdown",
   "id": "23f285a0",
   "metadata": {},
   "source": [
    "The notebook is considered never finished and therefore presented as a first draft. As a first draft, best read without literary inhibitions (no wasting time on editing). The viewer should experience the pure white light of the raw information (via code and visualisation). "
   ]
  },
  {
   "cell_type": "markdown",
   "id": "185d613d",
   "metadata": {},
   "source": [
    "***\n",
    "## END"
   ]
  },
  {
   "cell_type": "markdown",
   "id": "e9dfbb57",
   "metadata": {},
   "source": [
    "<a id=\"top\"></a>\n",
    "***\n",
    "## Table of Contents\n",
    "***"
   ]
  },
  {
   "cell_type": "markdown",
   "id": "e69e607f",
   "metadata": {},
   "source": [
    "< [Instructions](#instructions)&nbsp;&nbsp;|&nbsp;&nbsp;[Structure](#structure) > <br/><br/>\n",
    "* [Abstract](#abstract) <br/><br/>\n",
    "* [Introduction](#introduction) <br/><br/>\n",
    "    * [Sampling](#introductionScenario) <br/><br/>\n",
    "        * [Simulation](#simulation) <br/><br/>\n",
    "            * [Visualisation](#dataStructurevisualisation) <br/><br/>\n",
    "    * [``scipy.stats``](#solutionttest) <br/><br/>\n",
    "        * [Hypothesis](#solutionttestHypothesis) <br/><br/>\n",
    "            * [T-Test](#solutionttestTTest) <br/><br/>\n",
    "                * [Visualisation](#solutionttestintuitionVisualisation) <br/><br/>\n",
    "                    * [Statistic](#solutionDifferentQuestionttestCriticalValues) <br/><br/>\n",
    "                * [Error](#solutionProbabilityDensityFunctionError) <br/><br/>\n",
    "                    * [Type I Errors](#solutionProbabilityDensityFunctionErrorTypeIErrorFalsePositives) (``False Positives``) <br/><br/>\n",
    "                    * [Type II Errors](#solutionProbabilityDensityFunctionErrorTypeIErrorFalseNegatives) (``False Negatives``) <br/><br/>\n",
    "    * [Multiple Samples](#solutionMultipleSamples) <br/><br/>\n",
    "        * [$H_0$](#solutionMultipleSamplesnull)&nbsp;&nbsp;|&nbsp;&nbsp;[$H_1$](#solutionMultipleSamplealternative) <br/><br/>\n",
    "            * [T-Test](#solutionMultipleSamplesTTest) <br/><br/>\n",
    "            * [Analysis of Variance](#solutionMultipleSamplesANOVA) <br/><br/>\n",
    "* [Solution](#solution) <br/><br/>\n",
    "    * [``ANOVA``](#solutionANOVA) <br/><br/>\n",
    "        * [``scipy.stats.f_oneway``](#solutiontfoneway) <br/><br/>\n",
    "            * [One-way](#solutionANOVAOneway) <br/><br/>\n",
    "                * [Sampling](#solutiontfonewaySampling) <br/><br/>\n",
    "                * [Visualisation](#solutiontfonewaySamplingVisualisation) <br/><br/>\n",
    "            * [Hypothesis](#solutiontfonewayHypothesis) <br/><br/>\n",
    "                * [$H_0$](#solutionfonewaynull)&nbsp;&nbsp;|&nbsp;&nbsp;[$H_1$](#solutionfonewaynullalternative) <br/><br/>\n",
    "            * [``ANOVA``](#solutiontfonewaySamplingVisualisationANOVA) <br/><br/>\n",
    "                * [Statistic](#solutiontfonewaySamplingVisualisationANOVAOrigination) <br/><br/>\n",
    "    * [Flavors of Cacao](#solutionANOVAOnewayflavorsofcacao) <br/><br/>\n",
    "* [Conclusion](#conclusion) <br/><br/>\n",
    "* [Appendix](#appendix) <br/><br/>\n",
    "    * [Project Management](#ppmTOC) <br/><br/>\n",
    "    * [T-Test - Sleep Dataset](#appendixSleep)"
   ]
  },
  {
   "cell_type": "markdown",
   "id": "13394337",
   "metadata": {},
   "source": [
    "***\n",
    "## END"
   ]
  },
  {
   "cell_type": "markdown",
   "id": "5459b8fd",
   "metadata": {},
   "source": [
    "<a id=\"abstract\"></a>\n",
    "< [Table of Contents](#top) > < [instructions](#instructions)&nbsp;&nbsp;|&nbsp;&nbsp;[Structure](#structure) > < [Abstract](#abstract) > < [Introduction](#introduction)&nbsp;&nbsp;:&nbsp;&nbsp;[Sampling](#introductionScenario)&nbsp;&nbsp;|&nbsp;&nbsp;[``scipy.stats``](#solutionttest)&nbsp;&nbsp;|&nbsp;&nbsp;[Multiple Samples](#solutionMultipleSamples) > < [Solution](#solution)&nbsp;&nbsp;:&nbsp;&nbsp;[``ANOVA``](#solutionANOVA)&nbsp;&nbsp;|&nbsp;&nbsp;[Flavors of Cacao](#solutionANOVAOnewayflavorsofcacao) > < [Conclusion](#conclusion) > < [References](#references) > < [Appendix](#appendix)&nbsp;&nbsp;|&nbsp;&nbsp;[Project Management](#ppmTOC) >\n",
    "***\n",
    "## Abstract\n",
    "***"
   ]
  },
  {
   "cell_type": "markdown",
   "id": "fc86edb5",
   "metadata": {},
   "source": [
    "- the open-source ``scipy`` library (built on the ``numpy`` extension of python) is used to solve scientific and mathematical problems rivaling systems such as ``MATLAB`` and ``Octave`` [19]"
   ]
  },
  {
   "cell_type": "markdown",
   "id": "883a7eed",
   "metadata": {},
   "source": [
    "- the library is organized into subpackages covering many scientific computing domains - the ``stats`` domain contains a large number of statistical functions [19]"
   ]
  },
  {
   "cell_type": "code",
   "execution_count": 1,
   "id": "95468876",
   "metadata": {},
   "outputs": [],
   "source": [
    "import scipy.stats as ss"
   ]
  },
  {
   "cell_type": "code",
   "execution_count": 2,
   "id": "b8bae643",
   "metadata": {
    "scrolled": false
   },
   "outputs": [
    {
     "name": "stdout",
     "output_type": "stream",
     "text": [
      "   ttest_1samp\n",
      "   ttest_ind\n",
      "   ttest_ind_from_stats\n",
      "   ttest_rel\n",
      "   chisquare\n",
      "   cramervonmises\n",
      "   power_divergence\n",
      "   kstest\n",
      "   ks_1samp\n",
      "   ks_2samp\n",
      "   epps_singleton_2samp\n",
      "   mannwhitneyu\n",
      "   tiecorrect\n",
      "   rankdata\n",
      "   ranksums\n",
      "   wilcoxon\n",
      "   kruskal\n",
      "   friedmanchisquare\n",
      "   brunnermunzel\n",
      "   combine_pvalues\n",
      "   jarque_bera\n"
     ]
    }
   ],
   "source": [
    "print(\"\\n\".join(ss.__doc__.split(\"\\n\")[249:270])) # stats statistical tests"
   ]
  },
  {
   "cell_type": "code",
   "execution_count": 3,
   "id": "839aaeaa",
   "metadata": {},
   "outputs": [
    {
     "name": "stdout",
     "output_type": "stream",
     "text": [
      "   f_oneway\n",
      "   pearsonr\n",
      "   spearmanr\n",
      "   pointbiserialr\n",
      "   kendalltau\n",
      "   weightedtau\n",
      "   linregress\n",
      "   siegelslopes\n",
      "   theilslopes\n",
      "   multiscale_graphcorr\n"
     ]
    }
   ],
   "source": [
    "print(\"\\n\".join(ss.__doc__.split(\"\\n\")[232:242])) # stats correlation functions"
   ]
  },
  {
   "cell_type": "markdown",
   "id": "5763af0a",
   "metadata": {},
   "source": [
    "***"
   ]
  },
  {
   "cell_type": "markdown",
   "id": "15200137",
   "metadata": {},
   "source": [
    "- the word ``statistics`` can be used in at least four different senses: \n",
    "\n",
    "i. indicate a whole subject or discipline; \n",
    "\n",
    "ii. a set of methods of inquiry; \n",
    "\n",
    "iii. collections of data gathered by those methods and;\n",
    "\n",
    "iv. refer to calculated figures (mean and mode etc.) that sum up such a collection of data [20]"
   ]
  },
  {
   "cell_type": "markdown",
   "id": "cf0389e9",
   "metadata": {},
   "source": [
    "- the word ``statistical`` used above to describe the ``stats`` subpackage is as a set of methods of inquiry [20] - this Juypter Notebook will use ``stats`` as a means of understanding ``statistical`` methods (treating the theory and the application all as one) [21]"
   ]
  },
  {
   "cell_type": "markdown",
   "id": "f287e0ea",
   "metadata": {},
   "source": [
    "- the traditional view is that the theory must be learned first and then applied using a library such as ``scipy`` and its associated subpackage ``stats`` - this style of learning misses a trick [21]"
   ]
  },
  {
   "cell_type": "markdown",
   "id": "2652d73a",
   "metadata": {},
   "source": [
    "- rather than trying to learn the theory upfront might be better starting with something like ``stats`` and instead figure out its ``statistical`` functions - therefore making the learning process much quicker [21]"
   ]
  },
  {
   "cell_type": "markdown",
   "id": "2a40d4ed",
   "metadata": {},
   "source": [
    "- with some programming knowledge its possible to be ahead of the curve compared to someone with pure mathematics knowledge and not knowing how to program [21]"
   ]
  },
  {
   "cell_type": "markdown",
   "id": "b36c42bf",
   "metadata": {},
   "source": [
    "- python is the best programming language for this approach to learning because the basic idea behind python is that it is easy to read without needing to refer to a lot of documentation (is designed that way) [21]"
   ]
  },
  {
   "cell_type": "markdown",
   "id": "73acd7c4",
   "metadata": {},
   "source": [
    "***"
   ]
  },
  {
   "cell_type": "markdown",
   "id": "999926fa",
   "metadata": {},
   "source": [
    "- the focus will be on two ``statistical`` tests - introducing ``t-tests`` using ``scipy.stats.ttest_ind`` in order to build upon the knowledge of ``ANOVA`` using ``scipy.stats.f_oneway`` [19]"
   ]
  },
  {
   "cell_type": "markdown",
   "id": "5bd4acc7",
   "metadata": {},
   "source": [
    "- the independent sample ``t-tests`` compares two random samples but the real-world is much more complex than just limiting to the comparison of two populations [1]"
   ]
  },
  {
   "cell_type": "markdown",
   "id": "d2639b32",
   "metadata": {},
   "source": [
    "- the analysis of variance (known as ``ANOVA``) allows us to move beyond comparing just two populations - allows the comparison of multiple populations and even subgroups of those populations to investigate how two groups interact with each other quantitatively [1]"
   ]
  },
  {
   "cell_type": "markdown",
   "id": "af829a68",
   "metadata": {},
   "source": [
    "- ``ANOVA`` greatly expands what we are able to do in statistics [1]"
   ]
  },
  {
   "cell_type": "markdown",
   "id": "c22704fc",
   "metadata": {},
   "source": [
    "***\n",
    "## END"
   ]
  },
  {
   "cell_type": "markdown",
   "id": "d98b70b6",
   "metadata": {},
   "source": [
    "<a id=\"introduction\"></a>\n",
    "< [Table of Contents](#top) > < [instructions](#instructions)&nbsp;&nbsp;|&nbsp;&nbsp;[Structure](#structure) > < [Abstract](#abstract) > < [Introduction](#introduction)&nbsp;&nbsp;:&nbsp;&nbsp;[Sampling](#introductionScenario)&nbsp;&nbsp;|&nbsp;&nbsp;[``scipy.stats``](#solutionttest)&nbsp;&nbsp;|&nbsp;&nbsp;[Multiple Samples](#solutionMultipleSamples) > < [Solution](#solution)&nbsp;&nbsp;:&nbsp;&nbsp;[``ANOVA``](#solutionANOVA)&nbsp;&nbsp;|&nbsp;&nbsp;[Flavors of Cacao](#solutionANOVAOnewayflavorsofcacao) > < [Conclusion](#conclusion) > < [References](#references) > < [Appendix](#appendix)&nbsp;&nbsp;|&nbsp;&nbsp;[Project Management](#ppmTOC) >\n",
    "***\n",
    "## Introduction\n",
    "***"
   ]
  },
  {
   "cell_type": "markdown",
   "id": "39a33212",
   "metadata": {},
   "source": [
    "- in comparison to machine learning (hereafter referred to as ``ml``) the ``t-test`` is an old-style statistical test [2]"
   ]
  },
  {
   "cell_type": "markdown",
   "id": "fca23472",
   "metadata": {},
   "source": [
    "- there is an interesting relationship between the ``t-test`` and Ireland - William Sealy Gosset figured out a way to test if two sets of numbers are similar [2]"
   ]
  },
  {
   "cell_type": "markdown",
   "id": "16802a04",
   "metadata": {},
   "source": [
    "- the technique is a traditional way of looking at the world and trying to make predictions based on data - even though it is the older approach many think it is still the better approach (``ml`` practitioners may not know much about these older methods) [2]"
   ]
  },
  {
   "cell_type": "markdown",
   "id": "0537e666",
   "metadata": {},
   "source": [
    "- the ``t-test`` is heavily used in the life/medical/physical sciences and provides a grounding in the ideas around ``ml`` [2]"
   ]
  },
  {
   "cell_type": "markdown",
   "id": "79c7a725",
   "metadata": {},
   "source": [
    "- thinking about uncertainty in the world and datasets that have a pattern in them - that pattern may have a little bit of variability and a little bit of volatility (not a straightforward pattern) [2]"
   ]
  },
  {
   "cell_type": "markdown",
   "id": "6730a6c2",
   "metadata": {},
   "source": [
    "- there is a lot of theory behind ``t-tests`` (probability distributions and formulating hypothesis tests etc) - demonstrating the ``t-test`` from a computer science point of view (introducing probability distributions and hypothesis tests as appropriate) [2]"
   ]
  },
  {
   "cell_type": "markdown",
   "id": "6fb66ad9",
   "metadata": {},
   "source": [
    "- ``scipy.stats.ttest_ind`` is literally performing a ``t-test`` (passing arguments ``a`` and ``b``) [2]\n",
    "\n",
    "```python\n",
    "scipy.stats.ttest_ind(a,b)\n",
    "```"
   ]
  },
  {
   "cell_type": "markdown",
   "id": "352638bc",
   "metadata": {},
   "source": [
    "- ``a`` and ``b`` are sample collections (hereafter denoted $C$ to include arrays and lists) of numbers [2]"
   ]
  },
  {
   "cell_type": "markdown",
   "id": "860eaab4",
   "metadata": {},
   "source": [
    "- the point is it is very easy to run statistical tests when you know a little bit of programming - many organisations spend a lot of money on ``SPSS`` and the main thing its used for is to run something like ``stat.ttest_ind(a,b)`` (in python) and get the exact same output [2]"
   ]
  },
  {
   "cell_type": "markdown",
   "id": "c1f6dc0a",
   "metadata": {},
   "source": [
    "- running ``ml`` code is fairly straightforward whereby a single statement actually does the heavy lifting (digging into a package to do the calculation is straightforward) [2]"
   ]
  },
  {
   "cell_type": "markdown",
   "id": "6bf20a31",
   "metadata": {},
   "source": [
    "- could easily code up a ``t-test`` function but its the interpretation of the outputs that is important (assumptions before doing the test and how the assumptions are justified then comes the interpretation of the results) [2]"
   ]
  },
  {
   "cell_type": "markdown",
   "id": "f286a835",
   "metadata": {},
   "source": [
    "- generally speaking will return essentially two numbers in the output: \n",
    "\n",
    "i. the calculation of the actual ``t-statistic`` (``t-value``)\n",
    "\n",
    "ii. some probability (``p-value``) related to that ``t-value`` (``t-statistic``) \n",
    "\n",
    "- the ``p-value`` determines how likely it is to see that ``t-value`` (``t-statistic``) based on the prior assumptions [2]"
   ]
  },
  {
   "cell_type": "markdown",
   "id": "cf75bff7",
   "metadata": {},
   "source": [
    "<hr width=50%;>"
   ]
  },
  {
   "cell_type": "markdown",
   "id": "a873d942",
   "metadata": {},
   "source": [
    "<a id=\"introductionScenario\"></a>\n",
    "< [Table of Contents](#top) > < [instructions](#instructions)&nbsp;&nbsp;|&nbsp;&nbsp;[Structure](#structure) > < [Abstract](#abstract) > < [Introduction](#introduction)&nbsp;&nbsp;:&nbsp;&nbsp;[Sampling](#introductionScenario)&nbsp;&nbsp;|&nbsp;&nbsp;[``scipy.stats``](#solutionttest)&nbsp;&nbsp;|&nbsp;&nbsp;[Multiple Samples](#solutionMultipleSamples) > < [Solution](#solution)&nbsp;&nbsp;:&nbsp;&nbsp;[``ANOVA``](#solutionANOVA)&nbsp;&nbsp;|&nbsp;&nbsp;[Flavors of Cacao](#solutionANOVAOnewayflavorsofcacao) > < [Conclusion](#conclusion) > < [References](#references) > < [Appendix](#appendix)&nbsp;&nbsp;|&nbsp;&nbsp;[Project Management](#ppmTOC) >\n",
    "***\n",
    "###### Sampling\n",
    "***"
   ]
  },
  {
   "cell_type": "markdown",
   "id": "b2ebe227",
   "metadata": {},
   "source": [
    "- a ``t-test`` is a statistical test that checks if two sample $C$ came from populations that have the same average or mean (hereafter denoted $\\mu$ to include centre point) [2]"
   ]
  },
  {
   "cell_type": "markdown",
   "id": "bbbd7664",
   "metadata": {},
   "source": [
    "<a id=\"simulation\"></a>\n",
    "< [Table of Contents](#top) > < [instructions](#instructions)&nbsp;&nbsp;|&nbsp;&nbsp;[Structure](#structure) > < [Abstract](#abstract) > < [Introduction](#introduction)&nbsp;&nbsp;:&nbsp;&nbsp;[Sampling](#introductionScenario)&nbsp;&nbsp;|&nbsp;&nbsp;[``scipy.stats``](#solutionttest)&nbsp;&nbsp;|&nbsp;&nbsp;[Multiple Samples](#solutionMultipleSamples) > < [Solution](#solution)&nbsp;&nbsp;:&nbsp;&nbsp;[``ANOVA``](#solutionANOVA)&nbsp;&nbsp;|&nbsp;&nbsp;[Flavors of Cacao](#solutionANOVAOnewayflavorsofcacao) > < [Conclusion](#conclusion) > < [References](#references) > < [Appendix](#appendix)&nbsp;&nbsp;|&nbsp;&nbsp;[Project Management](#ppmTOC) >\n",
    "***\n",
    "###### Simulation\n",
    "***"
   ]
  },
  {
   "cell_type": "markdown",
   "id": "08bc4295",
   "metadata": {},
   "source": [
    "- creating two $C$ (``a`` and ``b``) of random numbers [4] generated on a bell-shaped curve via package ``numpy`` subpackage ``random`` function ``normal`` [7]"
   ]
  },
  {
   "cell_type": "markdown",
   "id": "e31598b0",
   "metadata": {},
   "source": [
    "- ``m_a`` represents $\\mu$ of $C$ ``a`` and ``m_b`` represents the $\\mu$ of $C$ ``b`` [3][7] - observing a number (in each respective $C$) further away from ``Eq. (1)`` (and ``Eq. (2)``) in either direction is less likely [7]"
   ]
  },
  {
   "cell_type": "markdown",
   "id": "0996db3f",
   "metadata": {},
   "source": [
    "$$\\bar a=1.5\\tag{1}$$"
   ]
  },
  {
   "cell_type": "markdown",
   "id": "8179c465",
   "metadata": {},
   "source": [
    "$$\\bar b=2.5\\tag{2}$$"
   ]
  },
  {
   "cell_type": "code",
   "execution_count": 4,
   "id": "55d76e25",
   "metadata": {},
   "outputs": [],
   "source": [
    "m_a,m_b=1.5,2.5"
   ]
  },
  {
   "cell_type": "markdown",
   "id": "6d9f889a",
   "metadata": {},
   "source": [
    "- ``s_a`` and ``s_b`` represents the standard deviation (hereafter denoted $\\sigma$) and is related to generating numbers on a bell-shaped curve [7]"
   ]
  },
  {
   "cell_type": "markdown",
   "id": "7a998641",
   "metadata": {},
   "source": [
    "$$\\sigma(a)=\\sigma(b)=0.5\\tag{3}$$"
   ]
  },
  {
   "cell_type": "markdown",
   "id": "38b5d401",
   "metadata": {},
   "source": [
    "- about $99.7\\%$ of the numbers lie within three $\\sigma$ ``(Eq. (3))`` of the $\\mu$ ``(Eq. (1)`` and ``Eq. (2))`` [7]"
   ]
  },
  {
   "cell_type": "markdown",
   "id": "3a2ea9af",
   "metadata": {},
   "source": [
    "- the numbers generated are a distance of $1.5$ or less away from ``Eq. (1)`` (observing numbers around $0.5$ and $2.5$ are unlikely) - the same is true of ``Eq. (2)`` (observing numbers around $1.5$ and $3.5$ are unlikely) [7]"
   ]
  },
  {
   "cell_type": "markdown",
   "id": "414405d1",
   "metadata": {},
   "source": [
    "$$C\\space a\\space =[0.0,3.0]$$"
   ]
  },
  {
   "cell_type": "markdown",
   "id": "82a8ab21",
   "metadata": {},
   "source": [
    "$$C\\space b\\space =[1.0,4.0]$$"
   ]
  },
  {
   "cell_type": "code",
   "execution_count": 5,
   "id": "9c5f1007",
   "metadata": {},
   "outputs": [],
   "source": [
    "s_a,s_b=0.5,0.5"
   ]
  },
  {
   "cell_type": "code",
   "execution_count": 6,
   "id": "144da80c",
   "metadata": {},
   "outputs": [],
   "source": [
    "N=40 # representing sample size"
   ]
  },
  {
   "cell_type": "code",
   "execution_count": 7,
   "id": "6180cc79",
   "metadata": {},
   "outputs": [],
   "source": [
    "import numpy as np"
   ]
  },
  {
   "cell_type": "code",
   "execution_count": 8,
   "id": "0d024a2f",
   "metadata": {
    "scrolled": true
   },
   "outputs": [
    {
     "name": "stdout",
     "output_type": "stream",
     "text": [
      "Provides\n",
      "  1. An array object of arbitrary homogeneous items\n",
      "  2. Fast mathematical operations over arrays\n",
      "  3. Linear Algebra, Fourier Transforms, Random Number Generation\n"
     ]
    }
   ],
   "source": [
    "print(\"\\n\".join(np.__doc__.split(\"\\n\")[4:8])) # package numpy overview"
   ]
  },
  {
   "cell_type": "code",
   "execution_count": 9,
   "id": "8b003466",
   "metadata": {},
   "outputs": [
    {
     "name": "stdout",
     "output_type": "stream",
     "text": [
      "        The probability density function of the normal distribution, first\n",
      "        derived by De Moivre and 200 years later by both Gauss and Laplace\n",
      "        independently [2]_, is often called the bell curve because of\n",
      "        its characteristic shape (see the example below).\n",
      "\n",
      "        The normal distributions occurs often in nature.  For example, it\n",
      "        describes the commonly occurring distribution of samples influenced\n",
      "        by a large number of tiny, random disturbances, each with its own\n",
      "        unique distribution [2]_.\n"
     ]
    }
   ],
   "source": [
    "print(\"\\n\".join(np.random.normal.__doc__.split(\"\\n\")[5:14])) # function normal overview"
   ]
  },
  {
   "cell_type": "code",
   "execution_count": 10,
   "id": "3ddaa5f0",
   "metadata": {},
   "outputs": [
    {
     "name": "stdout",
     "output_type": "stream",
     "text": [
      "        Parameters\n",
      "        ----------\n",
      "        loc : float or array_like of floats\n",
      "            Mean (\"centre\") of the distribution.\n"
     ]
    }
   ],
   "source": [
    "print(\"\\n\".join(np.random.normal.__doc__.split(\"\\n\")[19:23])) # parameter loc overview"
   ]
  },
  {
   "cell_type": "code",
   "execution_count": 11,
   "id": "3e07f1db",
   "metadata": {},
   "outputs": [
    {
     "data": {
      "text/plain": [
       "1.5"
      ]
     },
     "execution_count": 11,
     "metadata": {},
     "output_type": "execute_result"
    }
   ],
   "source": [
    "m_a # collection a centered"
   ]
  },
  {
   "cell_type": "code",
   "execution_count": 12,
   "id": "eb0cc3b7",
   "metadata": {},
   "outputs": [
    {
     "data": {
      "text/plain": [
       "2.5"
      ]
     },
     "execution_count": 12,
     "metadata": {},
     "output_type": "execute_result"
    }
   ],
   "source": [
    "m_b # collection b centered"
   ]
  },
  {
   "cell_type": "code",
   "execution_count": 13,
   "id": "2b77a95c",
   "metadata": {},
   "outputs": [
    {
     "name": "stdout",
     "output_type": "stream",
     "text": [
      "        scale : float or array_like of floats\n",
      "            Standard deviation (spread or \"width\") of the distribution. Must be\n",
      "            non-negative.\n"
     ]
    }
   ],
   "source": [
    "print(\"\\n\".join(np.random.normal.__doc__.split(\"\\n\")[23:26])) # parameter scale overview"
   ]
  },
  {
   "cell_type": "code",
   "execution_count": 14,
   "id": "661e4553",
   "metadata": {},
   "outputs": [
    {
     "data": {
      "text/plain": [
       "0.5"
      ]
     },
     "execution_count": 14,
     "metadata": {},
     "output_type": "execute_result"
    }
   ],
   "source": [
    "s_a"
   ]
  },
  {
   "cell_type": "code",
   "execution_count": 15,
   "id": "0b4f0ffd",
   "metadata": {},
   "outputs": [
    {
     "data": {
      "text/plain": [
       "True"
      ]
     },
     "execution_count": 15,
     "metadata": {},
     "output_type": "execute_result"
    }
   ],
   "source": [
    "s_a==s_b # s_b same spread"
   ]
  },
  {
   "cell_type": "code",
   "execution_count": 16,
   "id": "0cda7f13",
   "metadata": {},
   "outputs": [
    {
     "name": "stdout",
     "output_type": "stream",
     "text": [
      "        size : int or tuple of ints, optional\n",
      "            Output shape.  If the given shape is, e.g., ``(m, n, k)``, then\n",
      "            ``m * n * k`` samples are drawn.  If size is ``None`` (default),\n",
      "            a single value is returned if ``loc`` and ``scale`` are both scalars.\n",
      "            Otherwise, ``np.broadcast(loc, scale).size`` samples are drawn.\n"
     ]
    }
   ],
   "source": [
    "print(\"\\n\".join(np.random.normal.__doc__.split(\"\\n\")[26:31])) # parameter size overview"
   ]
  },
  {
   "cell_type": "code",
   "execution_count": 17,
   "id": "ac58b6f6",
   "metadata": {},
   "outputs": [
    {
     "data": {
      "text/plain": [
       "40"
      ]
     },
     "execution_count": 17,
     "metadata": {},
     "output_type": "execute_result"
    }
   ],
   "source": [
    "N # length of collection"
   ]
  },
  {
   "cell_type": "code",
   "execution_count": 18,
   "id": "4be1f699",
   "metadata": {},
   "outputs": [],
   "source": [
    "a=np.random.normal(loc=m_a,scale=s_a,size=N)"
   ]
  },
  {
   "cell_type": "code",
   "execution_count": 19,
   "id": "590abe1a",
   "metadata": {},
   "outputs": [
    {
     "data": {
      "text/plain": [
       "array([1.17436778, 0.92421572, 0.9102917 , 0.87406677, 1.05210244,\n",
       "       1.10978502, 1.50147959, 1.55305839, 1.1555384 , 1.66117261,\n",
       "       1.43770425, 0.90131653, 1.03621478, 0.88948648, 0.66956929,\n",
       "       1.43558757, 2.07759273, 1.46719583, 1.21240249, 2.35458904,\n",
       "       1.23148655, 2.26114053, 1.60984987, 1.43650517, 2.71850559,\n",
       "       1.53757461, 1.47404984, 0.93633848, 1.36272578, 2.1039803 ,\n",
       "       1.02793747, 2.34434669, 2.03969235, 2.01570577, 1.07592457,\n",
       "       1.27577241, 0.81656282, 1.17069207, 1.4262792 , 0.95321176])"
      ]
     },
     "execution_count": 19,
     "metadata": {},
     "output_type": "execute_result"
    }
   ],
   "source": [
    "a"
   ]
  },
  {
   "cell_type": "code",
   "execution_count": 20,
   "id": "2c5a5ff4",
   "metadata": {},
   "outputs": [
    {
     "data": {
      "text/plain": [
       "numpy.ndarray"
      ]
     },
     "execution_count": 20,
     "metadata": {},
     "output_type": "execute_result"
    }
   ],
   "source": [
    "type(a)"
   ]
  },
  {
   "cell_type": "code",
   "execution_count": 21,
   "id": "55fca79a",
   "metadata": {},
   "outputs": [],
   "source": [
    "b=np.random.normal(loc=m_b,scale=s_b,size=N)"
   ]
  },
  {
   "cell_type": "code",
   "execution_count": 22,
   "id": "dc9289e7",
   "metadata": {},
   "outputs": [
    {
     "data": {
      "text/plain": [
       "array([1.97149184, 2.50678295, 2.75475984, 1.39226845, 3.45326203,\n",
       "       2.40117022, 2.74780463, 2.85147139, 2.17887673, 1.87353676,\n",
       "       2.00507335, 2.68545487, 2.85099079, 2.44342991, 2.63332067,\n",
       "       3.20649368, 1.95116178, 2.78558819, 2.79207531, 1.61141794,\n",
       "       3.52857216, 2.37587781, 2.38457337, 2.21677904, 2.05416657,\n",
       "       2.32533523, 2.38793722, 2.33750167, 3.75881155, 2.6811307 ,\n",
       "       2.74667218, 1.53380644, 2.17838999, 1.43624173, 2.13676287,\n",
       "       2.23809153, 2.40516844, 3.0094582 , 2.75770275, 1.83762907])"
      ]
     },
     "execution_count": 22,
     "metadata": {},
     "output_type": "execute_result"
    }
   ],
   "source": [
    "b"
   ]
  },
  {
   "cell_type": "code",
   "execution_count": 23,
   "id": "16aebb05",
   "metadata": {},
   "outputs": [
    {
     "data": {
      "text/plain": [
       "numpy.ndarray"
      ]
     },
     "execution_count": 23,
     "metadata": {},
     "output_type": "execute_result"
    }
   ],
   "source": [
    "type(b)"
   ]
  },
  {
   "cell_type": "markdown",
   "id": "7156d181",
   "metadata": {},
   "source": [
    "- creating a ``DataFrame`` (data structure) built from the ``numpy`` $C$ (``a`` and ``b``) - using ``pandas`` allows different types for the columns (an abstraction on top of ``numpy``) [2]"
   ]
  },
  {
   "cell_type": "code",
   "execution_count": 24,
   "id": "6bfc14c0",
   "metadata": {},
   "outputs": [],
   "source": [
    "import pandas as pd"
   ]
  },
  {
   "cell_type": "code",
   "execution_count": 25,
   "id": "be304152",
   "metadata": {},
   "outputs": [
    {
     "name": "stdout",
     "output_type": "stream",
     "text": [
      "pandas - a powerful data analysis and manipulation library for Python\n"
     ]
    }
   ],
   "source": [
    "print(\"\\n\".join(pd.__doc__.split(\"\\n\")[1:2])) # package pandas overview"
   ]
  },
  {
   "cell_type": "markdown",
   "id": "183d10b5",
   "metadata": {},
   "source": [
    "- ``A`` is going to be in the column beside the $C$ ``a`` and ``B`` is going to be in the column beside the $C$ ``b`` [3]"
   ]
  },
  {
   "cell_type": "code",
   "execution_count": 26,
   "id": "5d2b654e",
   "metadata": {},
   "outputs": [
    {
     "name": "stdout",
     "output_type": "stream",
     "text": [
      "    Two-dimensional, size-mutable, potentially heterogeneous tabular data.\n",
      "\n",
      "    Data structure also contains labeled axes (rows and columns).\n",
      "    Arithmetic operations align on both row and column labels. Can be\n",
      "    thought of as a dict-like container for Series objects. The primary\n",
      "    pandas data structure.\n"
     ]
    }
   ],
   "source": [
    "print(\"\\n\".join(pd.DataFrame.__doc__.split(\"\\n\")[1:7])) # object DataFrame overview"
   ]
  },
  {
   "cell_type": "code",
   "execution_count": 27,
   "id": "6173d533",
   "metadata": {},
   "outputs": [],
   "source": [
    "df=pd.DataFrame(data={\"Category\":[\"A\"]*len(a)+[\"B\"]*len(b),\"Value\":np.hstack([a,b])})"
   ]
  },
  {
   "cell_type": "code",
   "execution_count": 28,
   "id": "7bee085c",
   "metadata": {},
   "outputs": [
    {
     "data": {
      "text/plain": [
       "pandas.core.frame.DataFrame"
      ]
     },
     "execution_count": 28,
     "metadata": {},
     "output_type": "execute_result"
    }
   ],
   "source": [
    "type(df)"
   ]
  },
  {
   "cell_type": "markdown",
   "id": "73ba0b01",
   "metadata": {},
   "source": [
    "- providing a systematic way of simulating (faking up) two sample $C$ - these numbers could come from some natural process or from some measurements in the real-world (relating to humans or some other phenomenon) [7]"
   ]
  },
  {
   "cell_type": "code",
   "execution_count": 29,
   "id": "f8f6c0d3",
   "metadata": {
    "scrolled": true
   },
   "outputs": [
    {
     "data": {
      "text/plain": [
       "array([1.17436778, 0.92421572, 0.9102917 , 0.87406677, 1.05210244,\n",
       "       1.10978502, 1.50147959, 1.55305839, 1.1555384 , 1.66117261,\n",
       "       1.43770425, 0.90131653, 1.03621478, 0.88948648, 0.66956929,\n",
       "       1.43558757, 2.07759273, 1.46719583, 1.21240249, 2.35458904,\n",
       "       1.23148655, 2.26114053, 1.60984987, 1.43650517, 2.71850559,\n",
       "       1.53757461, 1.47404984, 0.93633848, 1.36272578, 2.1039803 ,\n",
       "       1.02793747, 2.34434669, 2.03969235, 2.01570577, 1.07592457,\n",
       "       1.27577241, 0.81656282, 1.17069207, 1.4262792 , 0.95321176])"
      ]
     },
     "execution_count": 29,
     "metadata": {},
     "output_type": "execute_result"
    }
   ],
   "source": [
    "a # sample some population"
   ]
  },
  {
   "cell_type": "code",
   "execution_count": 30,
   "id": "589852e9",
   "metadata": {},
   "outputs": [
    {
     "data": {
      "text/plain": [
       "array([1.97149184, 2.50678295, 2.75475984, 1.39226845, 3.45326203,\n",
       "       2.40117022, 2.74780463, 2.85147139, 2.17887673, 1.87353676,\n",
       "       2.00507335, 2.68545487, 2.85099079, 2.44342991, 2.63332067,\n",
       "       3.20649368, 1.95116178, 2.78558819, 2.79207531, 1.61141794,\n",
       "       3.52857216, 2.37587781, 2.38457337, 2.21677904, 2.05416657,\n",
       "       2.32533523, 2.38793722, 2.33750167, 3.75881155, 2.6811307 ,\n",
       "       2.74667218, 1.53380644, 2.17838999, 1.43624173, 2.13676287,\n",
       "       2.23809153, 2.40516844, 3.0094582 , 2.75770275, 1.83762907])"
      ]
     },
     "execution_count": 30,
     "metadata": {},
     "output_type": "execute_result"
    }
   ],
   "source": [
    "b # sample some population"
   ]
  },
  {
   "cell_type": "markdown",
   "id": "555701a6",
   "metadata": {},
   "source": [
    "- if its not possible to see how nature generated them then the question would be is the $\\mu$ (whatever these are in the natural process) the same for both $C$ [7]"
   ]
  },
  {
   "cell_type": "markdown",
   "id": "47b77c7c",
   "metadata": {},
   "source": [
    "- thus far specifying the $\\mu$ points are different for the two $C$ (``Eq. (1)`` and ``Eq. (2)``) [7]"
   ]
  },
  {
   "cell_type": "code",
   "execution_count": 31,
   "id": "ce733a42",
   "metadata": {},
   "outputs": [
    {
     "data": {
      "text/plain": [
       "False"
      ]
     },
     "execution_count": 31,
     "metadata": {},
     "output_type": "execute_result"
    }
   ],
   "source": [
    "m_a==m_b"
   ]
  },
  {
   "cell_type": "markdown",
   "id": "17b3304e",
   "metadata": {},
   "source": [
    "- in the real-world the $C$ ``a`` could be a sample of the heights of women (Category ``A``) and the $C$ ``b`` could be a sample of the heights of males (Category ``B``) [7]"
   ]
  },
  {
   "cell_type": "markdown",
   "id": "d169c7da",
   "metadata": {},
   "source": [
    "- do these two $C$ now provide any evidence that maybe the $\\mu$ male height is different than the $\\mu$ female height [7]"
   ]
  },
  {
   "cell_type": "code",
   "execution_count": 32,
   "id": "65b71501",
   "metadata": {},
   "outputs": [
    {
     "data": {
      "text/html": [
       "<div>\n",
       "<style scoped>\n",
       "    .dataframe tbody tr th:only-of-type {\n",
       "        vertical-align: middle;\n",
       "    }\n",
       "\n",
       "    .dataframe tbody tr th {\n",
       "        vertical-align: top;\n",
       "    }\n",
       "\n",
       "    .dataframe thead th {\n",
       "        text-align: right;\n",
       "    }\n",
       "</style>\n",
       "<table border=\"1\" class=\"dataframe\">\n",
       "  <thead>\n",
       "    <tr style=\"text-align: right;\">\n",
       "      <th></th>\n",
       "      <th>Category</th>\n",
       "      <th>Value</th>\n",
       "    </tr>\n",
       "  </thead>\n",
       "  <tbody>\n",
       "    <tr>\n",
       "      <th>0</th>\n",
       "      <td>A</td>\n",
       "      <td>1.174368</td>\n",
       "    </tr>\n",
       "    <tr>\n",
       "      <th>1</th>\n",
       "      <td>A</td>\n",
       "      <td>0.924216</td>\n",
       "    </tr>\n",
       "    <tr>\n",
       "      <th>2</th>\n",
       "      <td>A</td>\n",
       "      <td>0.910292</td>\n",
       "    </tr>\n",
       "    <tr>\n",
       "      <th>3</th>\n",
       "      <td>A</td>\n",
       "      <td>0.874067</td>\n",
       "    </tr>\n",
       "    <tr>\n",
       "      <th>4</th>\n",
       "      <td>A</td>\n",
       "      <td>1.052102</td>\n",
       "    </tr>\n",
       "    <tr>\n",
       "      <th>...</th>\n",
       "      <td>...</td>\n",
       "      <td>...</td>\n",
       "    </tr>\n",
       "    <tr>\n",
       "      <th>75</th>\n",
       "      <td>B</td>\n",
       "      <td>2.238092</td>\n",
       "    </tr>\n",
       "    <tr>\n",
       "      <th>76</th>\n",
       "      <td>B</td>\n",
       "      <td>2.405168</td>\n",
       "    </tr>\n",
       "    <tr>\n",
       "      <th>77</th>\n",
       "      <td>B</td>\n",
       "      <td>3.009458</td>\n",
       "    </tr>\n",
       "    <tr>\n",
       "      <th>78</th>\n",
       "      <td>B</td>\n",
       "      <td>2.757703</td>\n",
       "    </tr>\n",
       "    <tr>\n",
       "      <th>79</th>\n",
       "      <td>B</td>\n",
       "      <td>1.837629</td>\n",
       "    </tr>\n",
       "  </tbody>\n",
       "</table>\n",
       "<p>80 rows × 2 columns</p>\n",
       "</div>"
      ],
      "text/plain": [
       "   Category     Value\n",
       "0         A  1.174368\n",
       "1         A  0.924216\n",
       "2         A  0.910292\n",
       "3         A  0.874067\n",
       "4         A  1.052102\n",
       "..      ...       ...\n",
       "75        B  2.238092\n",
       "76        B  2.405168\n",
       "77        B  3.009458\n",
       "78        B  2.757703\n",
       "79        B  1.837629\n",
       "\n",
       "[80 rows x 2 columns]"
      ]
     },
     "execution_count": 32,
     "metadata": {},
     "output_type": "execute_result"
    }
   ],
   "source": [
    "df"
   ]
  },
  {
   "cell_type": "markdown",
   "id": "95bdd80d",
   "metadata": {},
   "source": [
    "<a id=\"dataStructurevisualisation\"></a>\n",
    "< [Table of Contents](#top) > < [instructions](#instructions)&nbsp;&nbsp;|&nbsp;&nbsp;[Structure](#structure) > < [Abstract](#abstract) > < [Introduction](#introduction)&nbsp;&nbsp;:&nbsp;&nbsp;[Sampling](#introductionScenario)&nbsp;&nbsp;|&nbsp;&nbsp;[``scipy.stats``](#solutionttest)&nbsp;&nbsp;|&nbsp;&nbsp;[Multiple Samples](#solutionMultipleSamples) > < [Solution](#solution)&nbsp;&nbsp;:&nbsp;&nbsp;[``ANOVA``](#solutionANOVA)&nbsp;&nbsp;|&nbsp;&nbsp;[Flavors of Cacao](#solutionANOVAOnewayflavorsofcacao) > < [Conclusion](#conclusion) > < [References](#references) > < [Appendix](#appendix)&nbsp;&nbsp;|&nbsp;&nbsp;[Project Management](#ppmTOC) >\n",
    "***\n",
    "###### Visualisation\n",
    "***"
   ]
  },
  {
   "cell_type": "code",
   "execution_count": 33,
   "id": "b94ceeb1",
   "metadata": {},
   "outputs": [],
   "source": [
    "import matplotlib.pyplot as plt"
   ]
  },
  {
   "cell_type": "code",
   "execution_count": 34,
   "id": "e816832b",
   "metadata": {},
   "outputs": [
    {
     "name": "stdout",
     "output_type": "stream",
     "text": [
      "`matplotlib.pyplot` is a state-based interface to matplotlib. It provides\n",
      "a MATLAB-like way of plotting.\n",
      "\n",
      "pyplot is mainly intended for interactive plots and simple cases of\n",
      "programmatic plot generation::\n"
     ]
    }
   ],
   "source": [
    "print(\"\\n\".join(plt.__doc__.split(\"\\n\")[1:6])) # subpackage pyplot overview"
   ]
  },
  {
   "cell_type": "code",
   "execution_count": 35,
   "id": "05c4de9b",
   "metadata": {},
   "outputs": [],
   "source": [
    "plt.style.use(style=\"ggplot\")"
   ]
  },
  {
   "cell_type": "code",
   "execution_count": 36,
   "id": "4f3d906a",
   "metadata": {},
   "outputs": [],
   "source": [
    "plt.rcParams[\"figure.figsize\"]=12.8,7.2"
   ]
  },
  {
   "cell_type": "code",
   "execution_count": 37,
   "id": "81413187",
   "metadata": {},
   "outputs": [],
   "source": [
    "import seaborn as sns"
   ]
  },
  {
   "cell_type": "code",
   "execution_count": 38,
   "id": "a237f65f",
   "metadata": {},
   "outputs": [
    {
     "name": "stdout",
     "output_type": "stream",
     "text": [
      "This function provides access to several axes-level functions that\n",
      "show the relationship between a numerical and one or more categorical\n",
      "variables using one of several visual representations. The ``kind``\n"
     ]
    }
   ],
   "source": [
    "print(\"\\n\".join(sns.catplot.__doc__.split(\"\\n\")[2:5])) # seaborn catplot overview"
   ]
  },
  {
   "cell_type": "markdown",
   "id": "6e97c50d",
   "metadata": {},
   "source": [
    "- the ``catplot`` shows that the $C$ ``a`` (Category ``A``) looks lower than the $C$ ``b`` (Category ``B``) albeit there is overlap between the blue and red dots [7]"
   ]
  },
  {
   "cell_type": "markdown",
   "id": "dd4e1b4c",
   "metadata": {},
   "source": [
    "- if making the assumption that the two $\\mu$ points of each $C$ are the same (or the processes that they were generated from) then how likely is it to see all the red dots at the top right versus all the blue dots at the bottom left [7]"
   ]
  },
  {
   "cell_type": "markdown",
   "id": "23fa7375",
   "metadata": {},
   "source": [
    "- there is always a random chance of this occurring even when the two $C$ have the same (or generated from) $\\mu$ [7]"
   ]
  },
  {
   "cell_type": "markdown",
   "id": "51743749",
   "metadata": {},
   "source": [
    "- the question is how likely is it and thats what the ``t-test`` aims to determine - does both $C$ differ in general enough to justify saying the $C$ ``a`` is different to the $C$ ``b`` [7]"
   ]
  },
  {
   "cell_type": "code",
   "execution_count": 39,
   "id": "67998135",
   "metadata": {},
   "outputs": [
    {
     "data": {
      "image/png": "[encoded data removed]",
      "text/plain": [
       "<Figure size 360x360 with 1 Axes>"
      ]
     },
     "metadata": {},
     "output_type": "display_data"
    }
   ],
   "source": [
    "sns.catplot(x=\"Category\",y=\"Value\",jitter=False,data=df);"
   ]
  },
  {
   "cell_type": "markdown",
   "id": "8aa786dc",
   "metadata": {},
   "source": [
    "<a id=\"solutionttest\"></a>\n",
    "< [Table of Contents](#top) > < [instructions](#instructions)&nbsp;&nbsp;|&nbsp;&nbsp;[Structure](#structure) > < [Abstract](#abstract) > < [Introduction](#introduction)&nbsp;&nbsp;:&nbsp;&nbsp;[Sampling](#introductionScenario)&nbsp;&nbsp;|&nbsp;&nbsp;[``scipy.stats``](#solutionttest)&nbsp;&nbsp;|&nbsp;&nbsp;[Multiple Samples](#solutionMultipleSamples) > < [Solution](#solution)&nbsp;&nbsp;:&nbsp;&nbsp;[``ANOVA``](#solutionANOVA)&nbsp;&nbsp;|&nbsp;&nbsp;[Flavors of Cacao](#solutionANOVAOnewayflavorsofcacao) > < [Conclusion](#conclusion) > < [References](#references) > < [Appendix](#appendix)&nbsp;&nbsp;|&nbsp;&nbsp;[Project Management](#ppmTOC) >\n",
    "***\n",
    "###### ``scipy.stats``\n",
    "***"
   ]
  },
  {
   "cell_type": "code",
   "execution_count": 40,
   "id": "d0128f41",
   "metadata": {},
   "outputs": [],
   "source": [
    "import scipy.stats as ss"
   ]
  },
  {
   "cell_type": "code",
   "execution_count": 41,
   "id": "b5e0ee0a",
   "metadata": {},
   "outputs": [
    {
     "name": "stdout",
     "output_type": "stream",
     "text": [
      "This module contains a large number of probability distributions as\n",
      "well as a growing library of statistical functions.\n"
     ]
    }
   ],
   "source": [
    "print(\"\\n\".join(ss.__doc__.split(\"\\n\")[9:11])) # subpackage scipy.stats overview "
   ]
  },
  {
   "cell_type": "markdown",
   "id": "ebd1d014",
   "metadata": {},
   "source": [
    "<a id=\"solutionttestHypothesis\"></a>\n",
    "< [Table of Contents](#top) > < [instructions](#instructions)&nbsp;&nbsp;|&nbsp;&nbsp;[Structure](#structure) > < [Abstract](#abstract) > < [Introduction](#introduction)&nbsp;&nbsp;:&nbsp;&nbsp;[Sampling](#introductionScenario)&nbsp;&nbsp;|&nbsp;&nbsp;[``scipy.stats``](#solutionttest)&nbsp;&nbsp;|&nbsp;&nbsp;[Multiple Samples](#solutionMultipleSamples) > < [Solution](#solution)&nbsp;&nbsp;:&nbsp;&nbsp;[``ANOVA``](#solutionANOVA)&nbsp;&nbsp;|&nbsp;&nbsp;[Flavors of Cacao](#solutionANOVAOnewayflavorsofcacao) > < [Conclusion](#conclusion) > < [References](#references) > < [Appendix](#appendix)&nbsp;&nbsp;|&nbsp;&nbsp;[Project Management](#ppmTOC) >\n",
    "***\n",
    "###### Hypothesis\n",
    "***"
   ]
  },
  {
   "cell_type": "markdown",
   "id": "edf94fd5",
   "metadata": {},
   "source": [
    "- a hypothesis is an idea that can be tested [9]"
   ]
  },
  {
   "cell_type": "markdown",
   "id": "e96ab973",
   "metadata": {},
   "source": [
    "- the null hypothesis (hereafter denoted $H_0$) is the assumption to be tested and the alternative hypothesis (hereafter denoted $H_1$) being everything else [9]"
   ]
  },
  {
   "cell_type": "markdown",
   "id": "b4432e43",
   "metadata": {},
   "source": [
    "<a id=\"solutionttestTTest\"></a>\n",
    "< [Table of Contents](#top) > < [instructions](#instructions)&nbsp;&nbsp;|&nbsp;&nbsp;[Structure](#structure) > < [Abstract](#abstract) > < [Introduction](#introduction)&nbsp;&nbsp;:&nbsp;&nbsp;[Sampling](#introductionScenario)&nbsp;&nbsp;|&nbsp;&nbsp;[``scipy.stats``](#solutionttest)&nbsp;&nbsp;|&nbsp;&nbsp;[Multiple Samples](#solutionMultipleSamples) > < [Solution](#solution)&nbsp;&nbsp;:&nbsp;&nbsp;[``ANOVA``](#solutionANOVA)&nbsp;&nbsp;|&nbsp;&nbsp;[Flavors of Cacao](#solutionANOVAOnewayflavorsofcacao) > < [Conclusion](#conclusion) > < [References](#references) > < [Appendix](#appendix)&nbsp;&nbsp;|&nbsp;&nbsp;[Project Management](#ppmTOC) >\n",
    "***\n",
    "###### ``T-Test``\n",
    "***"
   ]
  },
  {
   "cell_type": "markdown",
   "id": "f5498d90",
   "metadata": {},
   "source": [
    "- the ``t-test`` is testing what is the probability (based on a few assumptions) that the distribution from which the two generated $C$ (``a`` and ``b``) had the same $\\mu$ (capturing the ``p-value`` returned from package ``scipy`` subpackage ``stats``  function ``ttest_ind``) [4]"
   ]
  },
  {
   "cell_type": "code",
   "execution_count": 42,
   "id": "ad8062e7",
   "metadata": {},
   "outputs": [
    {
     "name": "stdout",
     "output_type": "stream",
     "text": [
      "    This is a two-sided test for the null hypothesis that 2 independent samples\n",
      "    have identical average (expected) values. This test assumes that the\n",
      "    populations have identical variances by default.\n"
     ]
    }
   ],
   "source": [
    "print(\"\\n\".join(ss.ttest_ind.__doc__.split(\"\\n\")[3:6])) # function ttest_ind overview"
   ]
  },
  {
   "cell_type": "code",
   "execution_count": 43,
   "id": "29efe8f9",
   "metadata": {},
   "outputs": [
    {
     "name": "stdout",
     "output_type": "stream",
     "text": [
      "    Notes\n",
      "    -----\n",
      "    We can use this test, if we observe two independent samples from\n",
      "    the same or different population, e.g. exam scores of boys and\n",
      "    girls or of two ethnic groups. The test measures whether the\n",
      "    average (expected) value differs significantly across samples. If\n",
      "    we observe a large p-value, for example larger than 0.05 or 0.1,\n",
      "    then we cannot reject the null hypothesis of identical average scores.\n",
      "    If the p-value is smaller than the threshold, e.g. 1%, 5% or 10%,\n",
      "    then we reject the null hypothesis of equal averages.\n",
      "\n",
      "    References\n",
      "    ----------\n",
      "    .. [1] https://en.wikipedia.org/wiki/T-test#Independent_two-sample_t-test\n",
      "\n",
      "    .. [2] https://en.wikipedia.org/wiki/Welch%27s_t-test\n"
     ]
    }
   ],
   "source": [
    "print(\"\\n\".join(ss.ttest_ind.__doc__.split(\"\\n\")[46:62])) # function ttest_ind notes"
   ]
  },
  {
   "cell_type": "markdown",
   "id": "fbaa0c20",
   "metadata": {},
   "source": [
    "- the ($H_0$) by default is the assumption (hypothesis) that the $\\mu$ value of the $C$ ``a`` population is equal to the $\\mu$ value of the $C$ ``b`` population (not whether the $\\mu$ of the $C$ ``a`` values of size ``N`` is equal to the $\\mu$ of the $C$ ``b`` values of size ``N``) [10]"
   ]
  },
  {
   "cell_type": "markdown",
   "id": "a4e41dc9",
   "metadata": {},
   "source": [
    "- ``Eq. (4)`` represents the $H_0$ that the $\\mu$ population of the $C$ ``a`` values (generated from a random sample of size ``N``) is equal to the $\\mu$ population of the $C$ ``b`` values (generated from a random sample of size ``N``) [10]"
   ]
  },
  {
   "cell_type": "markdown",
   "id": "57900a6b",
   "metadata": {},
   "source": [
    "$$H_0:\\mu_a=\\mu_b\\tag{4}$$"
   ]
  },
  {
   "cell_type": "markdown",
   "id": "154c798e",
   "metadata": {},
   "source": [
    "- the concept of the $H_0$ is similiar to being innocent until proven guilty ($H_0$ is true until rejected) - a researcher is trying to reject the status quo ($H_0$) and the alternative is to challenge the status quo ``(Eq. (5))`` [9]"
   ]
  },
  {
   "cell_type": "markdown",
   "id": "5765d0b7",
   "metadata": {},
   "source": [
    "$$H_1:\\mu_a\\neq\\mu_b\\tag{5}$$"
   ]
  },
  {
   "cell_type": "code",
   "execution_count": 44,
   "id": "7511ac85",
   "metadata": {},
   "outputs": [
    {
     "data": {
      "text/plain": [
       "<function scipy.stats.stats.ttest_ind(a, b, axis=0, equal_var=True, nan_policy='propagate', alternative='two-sided')>"
      ]
     },
     "execution_count": 44,
     "metadata": {},
     "output_type": "execute_result"
    }
   ],
   "source": [
    "ss.ttest_ind # function ttest_ind signature"
   ]
  },
  {
   "cell_type": "code",
   "execution_count": 45,
   "id": "780c83fb",
   "metadata": {},
   "outputs": [],
   "source": [
    "t_ss,p_ss=ss.ttest_ind(a=a,b=b) # returns statistic pvalue"
   ]
  },
  {
   "cell_type": "markdown",
   "id": "bdd527f9",
   "metadata": {},
   "source": [
    "- the calculation returns:\n",
    "\n",
    "i. the ``t-statistic`` or the ``t-value`` (does not have much meaning independently) [7] is a calculation based on the $C$ ``a`` values and the $C$ ``b`` values (includes other calculations) [10]"
   ]
  },
  {
   "cell_type": "code",
   "execution_count": 46,
   "id": "1e6aa7a8",
   "metadata": {},
   "outputs": [
    {
     "name": "stdout",
     "output_type": "stream",
     "text": [
      "    statistic : float or array\n",
      "        The calculated t-statistic.\n"
     ]
    }
   ],
   "source": [
    "print(\"\\n\".join(ss.ttest_ind.__doc__.split(\"\\n\")[41:43])) # return statistic overview"
   ]
  },
  {
   "cell_type": "code",
   "execution_count": 47,
   "id": "c1b6bc35",
   "metadata": {},
   "outputs": [
    {
     "data": {
      "text/plain": [
       "-8.877495256476301"
      ]
     },
     "execution_count": 47,
     "metadata": {},
     "output_type": "execute_result"
    }
   ],
   "source": [
    "t_ss"
   ]
  },
  {
   "cell_type": "markdown",
   "id": "309fe25a",
   "metadata": {},
   "source": [
    "ii. the ``p-value`` associated with the ``t-value`` (``t-statistic``) is the probability of observing the values from the two sample $C$ (``a`` and ``b``) under the assumption both $C$ came from populations with the same $\\mu$ value [10]"
   ]
  },
  {
   "cell_type": "code",
   "execution_count": 48,
   "id": "fcec3e7d",
   "metadata": {},
   "outputs": [
    {
     "name": "stdout",
     "output_type": "stream",
     "text": [
      "    pvalue : float or array\n",
      "        The two-tailed p-value.\n"
     ]
    }
   ],
   "source": [
    "print(\"\\n\".join(ss.ttest_ind.__doc__.split(\"\\n\")[43:45])) # return p-value overview"
   ]
  },
  {
   "cell_type": "code",
   "execution_count": 49,
   "id": "38e6a598",
   "metadata": {
    "scrolled": true
   },
   "outputs": [
    {
     "data": {
      "text/plain": [
       "1.8655136309847078e-13"
      ]
     },
     "execution_count": 49,
     "metadata": {},
     "output_type": "execute_result"
    }
   ],
   "source": [
    "p_ss"
   ]
  },
  {
   "cell_type": "code",
   "execution_count": 50,
   "id": "f92eccd1",
   "metadata": {},
   "outputs": [
    {
     "data": {
      "text/plain": [
       "numpy.float64"
      ]
     },
     "execution_count": 50,
     "metadata": {},
     "output_type": "execute_result"
    }
   ],
   "source": [
    "type(p_ss) # result exponential notation"
   ]
  },
  {
   "cell_type": "code",
   "execution_count": 51,
   "id": "7fea8c3d",
   "metadata": {},
   "outputs": [
    {
     "data": {
      "text/plain": [
       "0"
      ]
     },
     "execution_count": 51,
     "metadata": {},
     "output_type": "execute_result"
    }
   ],
   "source": [
    "int(p_ss)"
   ]
  },
  {
   "cell_type": "markdown",
   "id": "3b505c32",
   "metadata": {},
   "source": [
    "- its typical to use a ``p-value`` cutoff of $0.05$ meaning there is a $5\\%$ chance of making the wrong decision [4]"
   ]
  },
  {
   "cell_type": "markdown",
   "id": "5e45c5c6",
   "metadata": {},
   "source": [
    "- the ``t-test`` is suggesting there is almost a $0\\%$ chance (zero probability) of observing $C$ (``a`` and ``b``) sample values with populations of the same $\\mu$ therefore rejecting the $H_0$ ``(Eq. (4))`` [4][7][10]"
   ]
  },
  {
   "cell_type": "code",
   "execution_count": 52,
   "id": "6df270b3",
   "metadata": {
    "scrolled": true
   },
   "outputs": [
    {
     "name": "stdout",
     "output_type": "stream",
     "text": [
      "0.00\n"
     ]
    }
   ],
   "source": [
    "print(f\"{p_ss:.02f}\") # round second decimal"
   ]
  },
  {
   "cell_type": "markdown",
   "id": "53016788",
   "metadata": {},
   "source": [
    "- there is sufficient evidence to suggest the numbers in the $C$ ``a`` are different from the numbers in the $C$ ``b`` (specifically the $\\mu$ of the distribution they came from) [4]"
   ]
  },
  {
   "cell_type": "markdown",
   "id": "f422c986",
   "metadata": {},
   "source": [
    "- can identify the numbers in both $C$ are different by visually observing the categorical plot as done prior but now running the statistical test provides evidence that its reproducibly true [4] "
   ]
  },
  {
   "cell_type": "markdown",
   "id": "607ad8a8",
   "metadata": {},
   "source": [
    "- if the chance of seeing sample data like this is less than the typical ``p-value`` cutoff ($0.05$) based on the $H_0$ ``(Eq. (4))`` then can make the decision to reject the idea as its too unlikely [7]"
   ]
  },
  {
   "cell_type": "code",
   "execution_count": 53,
   "id": "18cf8720",
   "metadata": {
    "scrolled": false
   },
   "outputs": [
    {
     "data": {
      "image/png": "[encoded data removed]",
      "text/plain": [
       "<Figure size 360x360 with 1 Axes>"
      ]
     },
     "metadata": {},
     "output_type": "display_data"
    }
   ],
   "source": [
    "sns.catplot(x=\"Category\",y=\"Value\",jitter=False,data=df);"
   ]
  },
  {
   "cell_type": "markdown",
   "id": "f650a7b3",
   "metadata": {},
   "source": [
    "- now centering both $C$ around the same $\\mu$ - gaming the system by making the ``Eq. (4)`` assumption true [4]"
   ]
  },
  {
   "cell_type": "code",
   "execution_count": 54,
   "id": "b05078e5",
   "metadata": {},
   "outputs": [
    {
     "data": {
      "text/plain": [
       "1.5"
      ]
     },
     "execution_count": 54,
     "metadata": {},
     "output_type": "execute_result"
    }
   ],
   "source": [
    "m_a"
   ]
  },
  {
   "cell_type": "code",
   "execution_count": 55,
   "id": "17d121d4",
   "metadata": {},
   "outputs": [],
   "source": [
    "m_b_same_m_a=m_a"
   ]
  },
  {
   "cell_type": "code",
   "execution_count": 56,
   "id": "900f0b81",
   "metadata": {},
   "outputs": [
    {
     "data": {
      "text/plain": [
       "1.5"
      ]
     },
     "execution_count": 56,
     "metadata": {},
     "output_type": "execute_result"
    }
   ],
   "source": [
    "m_b_same_m_a"
   ]
  },
  {
   "cell_type": "code",
   "execution_count": 57,
   "id": "8baf7b07",
   "metadata": {},
   "outputs": [],
   "source": [
    "b_m_a=np.random.normal(loc=m_b_same_m_a,scale=s_b,size=N) # collection same mean"
   ]
  },
  {
   "cell_type": "code",
   "execution_count": 58,
   "id": "3079b2e2",
   "metadata": {},
   "outputs": [],
   "source": [
    "df_b_m_a=pd.DataFrame(data={\"Category\":[\"A\"]*len(a)+[\"B\"]*len(b_m_a),\"Value\":np.hstack([a,b_m_a])}) # new DataFrame object"
   ]
  },
  {
   "cell_type": "code",
   "execution_count": 59,
   "id": "87c0c9a1",
   "metadata": {},
   "outputs": [
    {
     "data": {
      "text/html": [
       "<div>\n",
       "<style scoped>\n",
       "    .dataframe tbody tr th:only-of-type {\n",
       "        vertical-align: middle;\n",
       "    }\n",
       "\n",
       "    .dataframe tbody tr th {\n",
       "        vertical-align: top;\n",
       "    }\n",
       "\n",
       "    .dataframe thead th {\n",
       "        text-align: right;\n",
       "    }\n",
       "</style>\n",
       "<table border=\"1\" class=\"dataframe\">\n",
       "  <thead>\n",
       "    <tr style=\"text-align: right;\">\n",
       "      <th></th>\n",
       "      <th>Category</th>\n",
       "      <th>Value</th>\n",
       "    </tr>\n",
       "  </thead>\n",
       "  <tbody>\n",
       "    <tr>\n",
       "      <th>0</th>\n",
       "      <td>A</td>\n",
       "      <td>1.174368</td>\n",
       "    </tr>\n",
       "    <tr>\n",
       "      <th>1</th>\n",
       "      <td>A</td>\n",
       "      <td>0.924216</td>\n",
       "    </tr>\n",
       "    <tr>\n",
       "      <th>2</th>\n",
       "      <td>A</td>\n",
       "      <td>0.910292</td>\n",
       "    </tr>\n",
       "    <tr>\n",
       "      <th>3</th>\n",
       "      <td>A</td>\n",
       "      <td>0.874067</td>\n",
       "    </tr>\n",
       "    <tr>\n",
       "      <th>4</th>\n",
       "      <td>A</td>\n",
       "      <td>1.052102</td>\n",
       "    </tr>\n",
       "    <tr>\n",
       "      <th>...</th>\n",
       "      <td>...</td>\n",
       "      <td>...</td>\n",
       "    </tr>\n",
       "    <tr>\n",
       "      <th>75</th>\n",
       "      <td>B</td>\n",
       "      <td>1.126567</td>\n",
       "    </tr>\n",
       "    <tr>\n",
       "      <th>76</th>\n",
       "      <td>B</td>\n",
       "      <td>0.926071</td>\n",
       "    </tr>\n",
       "    <tr>\n",
       "      <th>77</th>\n",
       "      <td>B</td>\n",
       "      <td>1.074718</td>\n",
       "    </tr>\n",
       "    <tr>\n",
       "      <th>78</th>\n",
       "      <td>B</td>\n",
       "      <td>1.256338</td>\n",
       "    </tr>\n",
       "    <tr>\n",
       "      <th>79</th>\n",
       "      <td>B</td>\n",
       "      <td>1.428032</td>\n",
       "    </tr>\n",
       "  </tbody>\n",
       "</table>\n",
       "<p>80 rows × 2 columns</p>\n",
       "</div>"
      ],
      "text/plain": [
       "   Category     Value\n",
       "0         A  1.174368\n",
       "1         A  0.924216\n",
       "2         A  0.910292\n",
       "3         A  0.874067\n",
       "4         A  1.052102\n",
       "..      ...       ...\n",
       "75        B  1.126567\n",
       "76        B  0.926071\n",
       "77        B  1.074718\n",
       "78        B  1.256338\n",
       "79        B  1.428032\n",
       "\n",
       "[80 rows x 2 columns]"
      ]
     },
     "execution_count": 59,
     "metadata": {},
     "output_type": "execute_result"
    }
   ],
   "source": [
    "df_b_m_a"
   ]
  },
  {
   "cell_type": "markdown",
   "id": "6bb061cc",
   "metadata": {},
   "source": [
    "- the ``t-test`` now suggests there is a probability greater than the ``p-value`` of observing $C$ (``a`` and ``b``) sample values with populations of the same $\\mu$ therefore accepting the $H_0$ ``(Eq. (4))`` [4][7][10]"
   ]
  },
  {
   "cell_type": "code",
   "execution_count": 60,
   "id": "32e7dd71",
   "metadata": {},
   "outputs": [
    {
     "name": "stdout",
     "output_type": "stream",
     "text": [
      "0.53% probability (5% chance)\n"
     ]
    }
   ],
   "source": [
    "t_ss,p_ss=ss.ttest_ind(a=a,b=b_m_a)\n",
    "print(f\"{p_ss:0.2f}% probability ({p_ss*10:.0f}% chance)\") # typical cutoff 0.05"
   ]
  },
  {
   "cell_type": "markdown",
   "id": "e0862208",
   "metadata": {},
   "source": [
    "- on the new categorical plot (minds eye) looks like one $C$ is a little bit higher than the other but they are not and its important to note this is just random chance [4]"
   ]
  },
  {
   "cell_type": "markdown",
   "id": "405b87d3",
   "metadata": {},
   "source": [
    "- if the chance of seeing sample data like this is greater than the typical ``p-value`` cutoff ($0.05$) based on the $H_0$ ``(Eq. (4))`` then can make the decision to accept the idea both populations are of the same $\\mu$ [7]"
   ]
  },
  {
   "cell_type": "code",
   "execution_count": 61,
   "id": "5b37f85d",
   "metadata": {},
   "outputs": [
    {
     "data": {
      "image/png": "[encoded data removed]",
      "text/plain": [
       "<Figure size 360x360 with 1 Axes>"
      ]
     },
     "metadata": {},
     "output_type": "display_data"
    }
   ],
   "source": [
    "sns.catplot(x=\"Category\",y=\"Value\",jitter=False,data=df_b_m_a);"
   ]
  },
  {
   "cell_type": "markdown",
   "id": "b6d56797",
   "metadata": {},
   "source": [
    "<a id=\"solutionttestintuitionVisualisation\"></a>\n",
    "< [Table of Contents](#top) > < [instructions](#instructions)&nbsp;&nbsp;|&nbsp;&nbsp;[Structure](#structure) > < [Abstract](#abstract) > < [Introduction](#introduction)&nbsp;&nbsp;:&nbsp;&nbsp;[Sampling](#introductionScenario)&nbsp;&nbsp;|&nbsp;&nbsp;[``scipy.stats``](#solutionttest)&nbsp;&nbsp;|&nbsp;&nbsp;[Multiple Samples](#solutionMultipleSamples) > < [Solution](#solution)&nbsp;&nbsp;:&nbsp;&nbsp;[``ANOVA``](#solutionANOVA)&nbsp;&nbsp;|&nbsp;&nbsp;[Flavors of Cacao](#solutionANOVAOnewayflavorsofcacao) > < [Conclusion](#conclusion) > < [References](#references) > < [Appendix](#appendix)&nbsp;&nbsp;|&nbsp;&nbsp;[Project Management](#ppmTOC) >\n",
    "***\n",
    "###### Visualisation\n",
    "***"
   ]
  },
  {
   "cell_type": "markdown",
   "id": "c7ad5833",
   "metadata": {},
   "source": [
    "- visualising the populations with the assumption the two sample $C$ (``a`` and ``b``) are bell-shaped curves (from the outset these curves are not available but are imagined to exist) [7]"
   ]
  },
  {
   "cell_type": "markdown",
   "id": "ad41c2e9",
   "metadata": {},
   "source": [
    "- available only are the numbers from both $C$ therefore the ``t-test`` is asking does the ``a`` curve coincide with the ``b`` curve (are the two $\\mu$ points the same or separated) [7]"
   ]
  },
  {
   "cell_type": "code",
   "execution_count": 62,
   "id": "d02147a1",
   "metadata": {},
   "outputs": [
    {
     "name": "stdout",
     "output_type": "stream",
     "text": [
      "    Return evenly spaced numbers over a specified interval.\n"
     ]
    }
   ],
   "source": [
    "print(\"\\n\".join(np.linspace.__doc__.split(\"\\n\")[1:2])) # function linspace overview"
   ]
  },
  {
   "cell_type": "code",
   "execution_count": 63,
   "id": "21a29c4f",
   "metadata": {},
   "outputs": [],
   "source": [
    "x=np.linspace(start=-2,stop=4,num=1000) # RV uniformly distributed"
   ]
  },
  {
   "cell_type": "code",
   "execution_count": 64,
   "id": "977c21f0",
   "metadata": {},
   "outputs": [
    {
     "name": "stdout",
     "output_type": "stream",
     "text": [
      "        Probability density function at x of the given RV.\n"
     ]
    }
   ],
   "source": [
    "print(\"\\n\".join(ss.norm.pdf.__doc__.split(\"\\n\")[1:2])) # function pdf overview"
   ]
  },
  {
   "cell_type": "markdown",
   "id": "7753d497",
   "metadata": {},
   "source": [
    "- the blue curve represents the way in which the numbers in the $C$ ``a`` are generated (as expected are very high around the $\\mu$) [5]"
   ]
  },
  {
   "cell_type": "markdown",
   "id": "baa1e4d7",
   "metadata": {},
   "source": [
    "- it is very close to the $0$ point on the x-axis for numbers less than appropriately $0$ or greater than appropriately $3.0$ and stays above the line out to infinity in the positive direction and negative direction (hugging the x-axis when compared to its $\\mu$ height) [5]"
   ]
  },
  {
   "cell_type": "markdown",
   "id": "b85903f9",
   "metadata": {},
   "source": [
    "- the curve (population ``a`` ) represents how unlikely it is to see certain values (within certain ranges) - represents the uncertainty (probability density function - ``PDF``) when generating the $C$ [5]"
   ]
  },
  {
   "cell_type": "code",
   "execution_count": 65,
   "id": "0ab3a909",
   "metadata": {},
   "outputs": [],
   "source": [
    "y_a=ss.norm.pdf(x=x,loc=m_a,scale=s_a)"
   ]
  },
  {
   "cell_type": "code",
   "execution_count": 66,
   "id": "5b862558",
   "metadata": {},
   "outputs": [
    {
     "data": {
      "image/png": "[encoded data removed]",
      "text/plain": [
       "<Figure size 921.6x518.4 with 1 Axes>"
      ]
     },
     "metadata": {},
     "output_type": "display_data"
    }
   ],
   "source": [
    "fig_a_not_b,ax=plt.subplots()\n",
    "ax.set_title(\"Probability Density Function (\"+r\"$a$\"+\") - Uncertainty\")\n",
    "ax.plot(x,y_a,color=\"b\",label=r\"$\\bar{a}$\"+f\" = {m_a}\")\n",
    "ax.fill_between(x=x,y1=y_a,color=\"b\",alpha=0.2,label=r\"$Population: a$\")\n",
    "ax.set_xlabel(\"Spread (\"+r\"$\\mu$\"+\")\")\n",
    "ax.set_ylabel(\"Generated Random Numbers\")\n",
    "ax.legend();"
   ]
  },
  {
   "cell_type": "markdown",
   "id": "60d8dfe2",
   "metadata": {},
   "source": [
    "- the histogram represents the sample from the population ``a`` and closely minics the population - inferring something about the population (underlying process generating the numbers) based on the histogram only because the population is unknown (cannot observe) [7]"
   ]
  },
  {
   "cell_type": "code",
   "execution_count": 67,
   "id": "bb3f5541",
   "metadata": {},
   "outputs": [],
   "source": [
    "ax.hist(x=a,density=True,color=\"b\",alpha=0.5,label=\"Sample: \"+r\"$a$\") # x-axis chop bins\n",
    "ax.legend();"
   ]
  },
  {
   "cell_type": "code",
   "execution_count": 68,
   "id": "83a319df",
   "metadata": {
    "scrolled": false
   },
   "outputs": [
    {
     "data": {
      "image/png": "[encoded data removed]",
      "text/plain": [
       "<Figure size 921.6x518.4 with 1 Axes>"
      ]
     },
     "execution_count": 68,
     "metadata": {},
     "output_type": "execute_result"
    }
   ],
   "source": [
    "fig_a_not_b"
   ]
  },
  {
   "cell_type": "markdown",
   "id": "59be3acf",
   "metadata": {},
   "source": [
    "- the red dotted curve represents the uncertainty (``PDF``) when generating numbers in the $C$ ``b`` [5] and the histogram represents the sample from the population ``b`` [7]"
   ]
  },
  {
   "cell_type": "code",
   "execution_count": 69,
   "id": "f1b98616",
   "metadata": {},
   "outputs": [],
   "source": [
    "y_b=ss.norm.pdf(x=x,loc=m_b,scale=s_b)"
   ]
  },
  {
   "cell_type": "code",
   "execution_count": 70,
   "id": "c1872b2f",
   "metadata": {},
   "outputs": [],
   "source": [
    "ax.set_title(\"Probability Density Function (\"+r\"$a$\"+\" & \"+r\"$b$\"+\") - Uncertainty\")\n",
    "ax.plot(x,y_b,\"r:\",label=r\"$\\bar{b}$\"+f\" = {m_b}\")\n",
    "ax.fill_between(x=x,y1=y_b,color=\"r\",alpha=0.2,label=\"Population: \"+r\"$b$\")\n",
    "ax.hist(x=b,density=True,color=\"r\",alpha=0.5,label=\"Sample: \"+r\"$b$\")\n",
    "ax.legend();"
   ]
  },
  {
   "cell_type": "code",
   "execution_count": 71,
   "id": "dc460ae8",
   "metadata": {},
   "outputs": [
    {
     "data": {
      "image/png": "[encoded data removed]",
      "text/plain": [
       "<Figure size 921.6x518.4 with 1 Axes>"
      ]
     },
     "execution_count": 71,
     "metadata": {},
     "output_type": "execute_result"
    }
   ],
   "source": [
    "fig_a_not_b"
   ]
  },
  {
   "cell_type": "markdown",
   "id": "2e0fae7c",
   "metadata": {},
   "source": [
    "- in the real world this kind of randomness occurs very frequently - if measuring the heights of men in Ireland would probably find there is an average number (probably $1.6$ or $1.8$ metres) that most are centered around [5]"
   ]
  },
  {
   "cell_type": "markdown",
   "id": "337985dc",
   "metadata": {},
   "source": [
    "- its very likely to observe a height of around $1.7$ and very unlikely to observe a height of around $2.5$ (equally unlikely to observe a height of around $0.5$) but these two extremes do exist [5]"
   ]
  },
  {
   "cell_type": "markdown",
   "id": "cd3a066d",
   "metadata": {},
   "source": [
    "- the blue and (dotted) red curves represents a different type of randomness when compared with picking a number between $[1,10]$ which is a uniform distribution (every value is likely) [5]"
   ]
  },
  {
   "cell_type": "markdown",
   "id": "38fe022e",
   "metadata": {},
   "source": [
    "- its important to note that in the real world the blue and (dotted) red lines are unknown (making the assumption these are nice bell-shaped curves) in addition not knowing where the tip of each of the two curves are [5]"
   ]
  },
  {
   "cell_type": "markdown",
   "id": "f9377baa",
   "metadata": {},
   "source": [
    "- the ``t-test`` is checking (questions) if the the tip of both curves are at the same point or not and thus far gamed the system (created a fake dataset) knowing both sample $C$ are different [5]"
   ]
  },
  {
   "cell_type": "code",
   "execution_count": 72,
   "id": "485e75bb",
   "metadata": {},
   "outputs": [
    {
     "data": {
      "image/png": "[encoded data removed]",
      "text/plain": [
       "<Figure size 921.6x518.4 with 1 Axes>"
      ]
     },
     "execution_count": 72,
     "metadata": {},
     "output_type": "execute_result"
    }
   ],
   "source": [
    "fig_a_not_b # both clearly different"
   ]
  },
  {
   "cell_type": "markdown",
   "id": "382c100b",
   "metadata": {},
   "source": [
    "- now centering both $C$ around the same $\\mu$ - gaming the system by making the ``Eq. (4)`` assumption true [4]"
   ]
  },
  {
   "cell_type": "code",
   "execution_count": 73,
   "id": "5d8b1bb6",
   "metadata": {},
   "outputs": [
    {
     "data": {
      "text/plain": [
       "1.5"
      ]
     },
     "execution_count": 73,
     "metadata": {},
     "output_type": "execute_result"
    }
   ],
   "source": [
    "m_a"
   ]
  },
  {
   "cell_type": "code",
   "execution_count": 74,
   "id": "84c79e33",
   "metadata": {},
   "outputs": [
    {
     "data": {
      "text/plain": [
       "1.5"
      ]
     },
     "execution_count": 74,
     "metadata": {},
     "output_type": "execute_result"
    }
   ],
   "source": [
    "m_b_same_m_a"
   ]
  },
  {
   "cell_type": "markdown",
   "id": "c01f2a28",
   "metadata": {},
   "source": [
    "- checking to see if they are the same or if there is any evidence that they are not the same (checking if the tips of the curves are the same or not) [5]"
   ]
  },
  {
   "cell_type": "code",
   "execution_count": 75,
   "id": "c9d779b0",
   "metadata": {},
   "outputs": [],
   "source": [
    "y_b=ss.norm.pdf(x=x,loc=m_b_same_m_a,scale=s_b)"
   ]
  },
  {
   "cell_type": "code",
   "execution_count": 76,
   "id": "ee63c119",
   "metadata": {},
   "outputs": [
    {
     "data": {
      "image/png": "[encoded data removed]",
      "text/plain": [
       "<Figure size 921.6x518.4 with 1 Axes>"
      ]
     },
     "metadata": {},
     "output_type": "display_data"
    }
   ],
   "source": [
    "fig_a_tip_b,ax=plt.subplots()\n",
    "ax.set_title(\"Probability Density Function (\"+r\"$a$\"+\" & \"+r\"$b$\"+\") - Uncertainty\")\n",
    "ax.plot(x,y_a,color=\"b\",label=r\"$\\bar{a}$\"+f\" = {m_a}\")\n",
    "ax.plot(x,y_b,\"r:\",label=r\"$\\bar{b}$\"+f\" = {m_b_same_m_a}\")\n",
    "ax.set_xlabel(\"Spread (\"+r\"$\\mu$\"+\")\")\n",
    "ax.set_ylabel(\"Generated Random Numbers\")\n",
    "ax.legend();"
   ]
  },
  {
   "cell_type": "markdown",
   "id": "2c70e88a",
   "metadata": {},
   "source": [
    "- a different way of asking the ``t-test`` question is if the $\\mu$ of the $C$ ``a`` (blue) is substacted away from the the $\\mu$ of the collection ``b`` (dotted red) then is the result $0$ or not [5]"
   ]
  },
  {
   "cell_type": "code",
   "execution_count": 77,
   "id": "784b07f7",
   "metadata": {},
   "outputs": [
    {
     "data": {
      "text/plain": [
       "False"
      ]
     },
     "execution_count": 77,
     "metadata": {},
     "output_type": "execute_result"
    }
   ],
   "source": [
    "m_a-m_b==0 # different mean point"
   ]
  },
  {
   "cell_type": "code",
   "execution_count": 78,
   "id": "0b0ef6c6",
   "metadata": {},
   "outputs": [
    {
     "data": {
      "image/png": "[encoded data removed]",
      "text/plain": [
       "<Figure size 921.6x518.4 with 1 Axes>"
      ]
     },
     "execution_count": 78,
     "metadata": {},
     "output_type": "execute_result"
    }
   ],
   "source": [
    "fig_a_not_b # result not zero"
   ]
  },
  {
   "cell_type": "code",
   "execution_count": 79,
   "id": "a1e793d6",
   "metadata": {},
   "outputs": [
    {
     "data": {
      "text/plain": [
       "True"
      ]
     },
     "execution_count": 79,
     "metadata": {},
     "output_type": "execute_result"
    }
   ],
   "source": [
    "m_a==m_b_same_m_a # same mean point"
   ]
  },
  {
   "cell_type": "code",
   "execution_count": 80,
   "id": "46d1825d",
   "metadata": {},
   "outputs": [
    {
     "data": {
      "image/png": "[encoded data removed]",
      "text/plain": [
       "<Figure size 921.6x518.4 with 1 Axes>"
      ]
     },
     "execution_count": 80,
     "metadata": {},
     "output_type": "execute_result"
    }
   ],
   "source": [
    "fig_a_tip_b # tip result zero"
   ]
  },
  {
   "cell_type": "markdown",
   "id": "6080ec67",
   "metadata": {},
   "source": [
    "- essentially this is what the ``t-test`` is doing (end up with a ``t-distribution``) and looks like the normal distribution but is actually a ``t-curve`` based on ``degrees of freedom`` (``dof``) [7]"
   ]
  },
  {
   "cell_type": "code",
   "execution_count": 81,
   "id": "c6490c48",
   "metadata": {},
   "outputs": [],
   "source": [
    "dof=len(a)+len(b)-2"
   ]
  },
  {
   "cell_type": "code",
   "execution_count": 82,
   "id": "b5e0d548",
   "metadata": {},
   "outputs": [
    {
     "data": {
      "text/plain": [
       "78"
      ]
     },
     "execution_count": 82,
     "metadata": {},
     "output_type": "execute_result"
    }
   ],
   "source": [
    "dof # degrees of freedom"
   ]
  },
  {
   "cell_type": "markdown",
   "id": "7622697f",
   "metadata": {},
   "source": [
    "- randomly selecting samples ($C$ ``a`` and $C$ ``b``) then doing a ``t-test`` on both results in a ``t-value`` (``t-statistic``) [5]"
   ]
  },
  {
   "cell_type": "markdown",
   "id": "9d0cd92d",
   "metadata": {},
   "source": [
    "- assuming ``Eq. (4)``is true (blue curve and red curve coincide) then what is the chance of seeing such data [5]"
   ]
  },
  {
   "cell_type": "code",
   "execution_count": 83,
   "id": "dc320c38",
   "metadata": {},
   "outputs": [
    {
     "data": {
      "image/png": "[encoded data removed]",
      "text/plain": [
       "<Figure size 360x360 with 1 Axes>"
      ]
     },
     "metadata": {},
     "output_type": "display_data"
    }
   ],
   "source": [
    "sns.catplot(x=\"Category\",y=\"Value\",jitter=False,data=df_b_m_a);"
   ]
  },
  {
   "cell_type": "markdown",
   "id": "b90b2267",
   "metadata": {},
   "source": [
    "- the data looks very different when plot (coincide) [5]"
   ]
  },
  {
   "cell_type": "code",
   "execution_count": 84,
   "id": "843c764a",
   "metadata": {},
   "outputs": [
    {
     "data": {
      "image/png": "[encoded data removed]",
      "text/plain": [
       "<Figure size 921.6x518.4 with 1 Axes>"
      ]
     },
     "execution_count": 84,
     "metadata": {},
     "output_type": "execute_result"
    }
   ],
   "source": [
    "fig_a_tip_b"
   ]
  },
  {
   "cell_type": "markdown",
   "id": "98ed9b05",
   "metadata": {},
   "source": [
    "<a id=\"solutionDifferentQuestionttestCriticalValues\"></a>\n",
    "< [Table of Contents](#top) > < [instructions](#instructions)&nbsp;&nbsp;|&nbsp;&nbsp;[Structure](#structure) > < [Abstract](#abstract) > < [Introduction](#introduction)&nbsp;&nbsp;:&nbsp;&nbsp;[Sampling](#introductionScenario)&nbsp;&nbsp;|&nbsp;&nbsp;[``scipy.stats``](#solutionttest)&nbsp;&nbsp;|&nbsp;&nbsp;[Multiple Samples](#solutionMultipleSamples) > < [Solution](#solution)&nbsp;&nbsp;:&nbsp;&nbsp;[``ANOVA``](#solutionANOVA)&nbsp;&nbsp;|&nbsp;&nbsp;[Flavors of Cacao](#solutionANOVAOnewayflavorsofcacao) > < [Conclusion](#conclusion) > < [References](#references) > < [Appendix](#appendix)&nbsp;&nbsp;|&nbsp;&nbsp;[Project Management](#ppmTOC) >\n",
    "***\n",
    "###### Statistic\n",
    "***"
   ]
  },
  {
   "cell_type": "markdown",
   "id": "67504bdc",
   "metadata": {},
   "source": [
    "- when $C$ (``a`` and ``b``) are overlapping (same $\\mu$) and calculating the ``t-statistic`` (``t-value``) with repeated samples of size ``a`` and ``b`` (same curves) then performing visualisation the most likely ``t-value`` (``t-statistic``) are bunched at $0$ [7]"
   ]
  },
  {
   "cell_type": "markdown",
   "id": "9a624aaf",
   "metadata": {},
   "source": [
    "- might by random chance see extreme numbers of the ``t-statistic`` (``t-value``) albeit it never goes down to $0$ (just gets closer and closer to the x-axis) [7]"
   ]
  },
  {
   "cell_type": "code",
   "execution_count": 85,
   "id": "340b9187",
   "metadata": {},
   "outputs": [],
   "source": [
    "x_t=np.linspace(start=-4.0,stop=4.0,num=1000)"
   ]
  },
  {
   "cell_type": "code",
   "execution_count": 86,
   "id": "d8b6da08",
   "metadata": {},
   "outputs": [
    {
     "name": "stdout",
     "output_type": "stream",
     "text": [
      "A Student's t continuous random variable.\n"
     ]
    }
   ],
   "source": [
    "print(\"\\n\".join(ss.t.__doc__.split(\"\\n\")[:1]))"
   ]
  },
  {
   "cell_type": "code",
   "execution_count": 87,
   "id": "70ca0b0f",
   "metadata": {},
   "outputs": [
    {
     "name": "stdout",
     "output_type": "stream",
     "text": [
      "        Probability density function at x of the given RV.\n"
     ]
    }
   ],
   "source": [
    "print(\"\\n\".join(ss.t.pdf.__doc__.split(\"\\n\")[1:2]))"
   ]
  },
  {
   "cell_type": "code",
   "execution_count": 88,
   "id": "729afe49",
   "metadata": {},
   "outputs": [],
   "source": [
    "t=ss.t.pdf(x_t,dof)"
   ]
  },
  {
   "cell_type": "code",
   "execution_count": 89,
   "id": "eed31405",
   "metadata": {},
   "outputs": [],
   "source": [
    "tf=pd.DataFrame({\"x\":x_t,\"t\":t})"
   ]
  },
  {
   "cell_type": "code",
   "execution_count": 90,
   "id": "a8d0ddaf",
   "metadata": {},
   "outputs": [
    {
     "data": {
      "text/html": [
       "<div>\n",
       "<style scoped>\n",
       "    .dataframe tbody tr th:only-of-type {\n",
       "        vertical-align: middle;\n",
       "    }\n",
       "\n",
       "    .dataframe tbody tr th {\n",
       "        vertical-align: top;\n",
       "    }\n",
       "\n",
       "    .dataframe thead th {\n",
       "        text-align: right;\n",
       "    }\n",
       "</style>\n",
       "<table border=\"1\" class=\"dataframe\">\n",
       "  <thead>\n",
       "    <tr style=\"text-align: right;\">\n",
       "      <th></th>\n",
       "      <th>x</th>\n",
       "      <th>t</th>\n",
       "    </tr>\n",
       "  </thead>\n",
       "  <tbody>\n",
       "    <tr>\n",
       "      <th>0</th>\n",
       "      <td>-4.000000</td>\n",
       "      <td>0.000250</td>\n",
       "    </tr>\n",
       "    <tr>\n",
       "      <th>1</th>\n",
       "      <td>-3.991992</td>\n",
       "      <td>0.000257</td>\n",
       "    </tr>\n",
       "    <tr>\n",
       "      <th>2</th>\n",
       "      <td>-3.983984</td>\n",
       "      <td>0.000264</td>\n",
       "    </tr>\n",
       "    <tr>\n",
       "      <th>3</th>\n",
       "      <td>-3.975976</td>\n",
       "      <td>0.000271</td>\n",
       "    </tr>\n",
       "    <tr>\n",
       "      <th>4</th>\n",
       "      <td>-3.967968</td>\n",
       "      <td>0.000279</td>\n",
       "    </tr>\n",
       "    <tr>\n",
       "      <th>...</th>\n",
       "      <td>...</td>\n",
       "      <td>...</td>\n",
       "    </tr>\n",
       "    <tr>\n",
       "      <th>995</th>\n",
       "      <td>3.967968</td>\n",
       "      <td>0.000279</td>\n",
       "    </tr>\n",
       "    <tr>\n",
       "      <th>996</th>\n",
       "      <td>3.975976</td>\n",
       "      <td>0.000271</td>\n",
       "    </tr>\n",
       "    <tr>\n",
       "      <th>997</th>\n",
       "      <td>3.983984</td>\n",
       "      <td>0.000264</td>\n",
       "    </tr>\n",
       "    <tr>\n",
       "      <th>998</th>\n",
       "      <td>3.991992</td>\n",
       "      <td>0.000257</td>\n",
       "    </tr>\n",
       "    <tr>\n",
       "      <th>999</th>\n",
       "      <td>4.000000</td>\n",
       "      <td>0.000250</td>\n",
       "    </tr>\n",
       "  </tbody>\n",
       "</table>\n",
       "<p>1000 rows × 2 columns</p>\n",
       "</div>"
      ],
      "text/plain": [
       "            x         t\n",
       "0   -4.000000  0.000250\n",
       "1   -3.991992  0.000257\n",
       "2   -3.983984  0.000264\n",
       "3   -3.975976  0.000271\n",
       "4   -3.967968  0.000279\n",
       "..        ...       ...\n",
       "995  3.967968  0.000279\n",
       "996  3.975976  0.000271\n",
       "997  3.983984  0.000264\n",
       "998  3.991992  0.000257\n",
       "999  4.000000  0.000250\n",
       "\n",
       "[1000 rows x 2 columns]"
      ]
     },
     "execution_count": 90,
     "metadata": {},
     "output_type": "execute_result"
    }
   ],
   "source": [
    "tf"
   ]
  },
  {
   "cell_type": "code",
   "execution_count": 91,
   "id": "5879613c",
   "metadata": {},
   "outputs": [
    {
     "name": "stdout",
     "output_type": "stream",
     "text": [
      "        Percent point function (inverse of `cdf`) at q of the given RV.\n"
     ]
    }
   ],
   "source": [
    "print(\"\\n\".join(ss.t.ppf.__doc__.split(\"\\n\")[1:2]))"
   ]
  },
  {
   "cell_type": "code",
   "execution_count": 92,
   "id": "71b80b1f",
   "metadata": {
    "scrolled": false
   },
   "outputs": [],
   "source": [
    "tcrit=abs(ss.t.ppf(0.025,dof))"
   ]
  },
  {
   "cell_type": "code",
   "execution_count": 93,
   "id": "4d73a502",
   "metadata": {},
   "outputs": [
    {
     "data": {
      "text/plain": [
       "1.9908470685550523"
      ]
     },
     "execution_count": 93,
     "metadata": {},
     "output_type": "execute_result"
    }
   ],
   "source": [
    "tcrit"
   ]
  },
  {
   "cell_type": "code",
   "execution_count": 94,
   "id": "75546e70",
   "metadata": {},
   "outputs": [],
   "source": [
    "one=tf[tf[\"x\"]>=tcrit]"
   ]
  },
  {
   "cell_type": "code",
   "execution_count": 95,
   "id": "dda9b2fe",
   "metadata": {},
   "outputs": [
    {
     "data": {
      "text/html": [
       "<div>\n",
       "<style scoped>\n",
       "    .dataframe tbody tr th:only-of-type {\n",
       "        vertical-align: middle;\n",
       "    }\n",
       "\n",
       "    .dataframe tbody tr th {\n",
       "        vertical-align: top;\n",
       "    }\n",
       "\n",
       "    .dataframe thead th {\n",
       "        text-align: right;\n",
       "    }\n",
       "</style>\n",
       "<table border=\"1\" class=\"dataframe\">\n",
       "  <thead>\n",
       "    <tr style=\"text-align: right;\">\n",
       "      <th></th>\n",
       "      <th>x</th>\n",
       "      <th>t</th>\n",
       "    </tr>\n",
       "  </thead>\n",
       "  <tbody>\n",
       "    <tr>\n",
       "      <th>749</th>\n",
       "      <td>1.997998</td>\n",
       "      <td>0.055371</td>\n",
       "    </tr>\n",
       "    <tr>\n",
       "      <th>750</th>\n",
       "      <td>2.006006</td>\n",
       "      <td>0.054522</td>\n",
       "    </tr>\n",
       "    <tr>\n",
       "      <th>751</th>\n",
       "      <td>2.014014</td>\n",
       "      <td>0.053684</td>\n",
       "    </tr>\n",
       "    <tr>\n",
       "      <th>752</th>\n",
       "      <td>2.022022</td>\n",
       "      <td>0.052855</td>\n",
       "    </tr>\n",
       "    <tr>\n",
       "      <th>753</th>\n",
       "      <td>2.030030</td>\n",
       "      <td>0.052037</td>\n",
       "    </tr>\n",
       "    <tr>\n",
       "      <th>...</th>\n",
       "      <td>...</td>\n",
       "      <td>...</td>\n",
       "    </tr>\n",
       "    <tr>\n",
       "      <th>995</th>\n",
       "      <td>3.967968</td>\n",
       "      <td>0.000279</td>\n",
       "    </tr>\n",
       "    <tr>\n",
       "      <th>996</th>\n",
       "      <td>3.975976</td>\n",
       "      <td>0.000271</td>\n",
       "    </tr>\n",
       "    <tr>\n",
       "      <th>997</th>\n",
       "      <td>3.983984</td>\n",
       "      <td>0.000264</td>\n",
       "    </tr>\n",
       "    <tr>\n",
       "      <th>998</th>\n",
       "      <td>3.991992</td>\n",
       "      <td>0.000257</td>\n",
       "    </tr>\n",
       "    <tr>\n",
       "      <th>999</th>\n",
       "      <td>4.000000</td>\n",
       "      <td>0.000250</td>\n",
       "    </tr>\n",
       "  </tbody>\n",
       "</table>\n",
       "<p>251 rows × 2 columns</p>\n",
       "</div>"
      ],
      "text/plain": [
       "            x         t\n",
       "749  1.997998  0.055371\n",
       "750  2.006006  0.054522\n",
       "751  2.014014  0.053684\n",
       "752  2.022022  0.052855\n",
       "753  2.030030  0.052037\n",
       "..        ...       ...\n",
       "995  3.967968  0.000279\n",
       "996  3.975976  0.000271\n",
       "997  3.983984  0.000264\n",
       "998  3.991992  0.000257\n",
       "999  4.000000  0.000250\n",
       "\n",
       "[251 rows x 2 columns]"
      ]
     },
     "execution_count": 95,
     "metadata": {},
     "output_type": "execute_result"
    }
   ],
   "source": [
    "one"
   ]
  },
  {
   "cell_type": "code",
   "execution_count": 96,
   "id": "d793a520",
   "metadata": {},
   "outputs": [],
   "source": [
    "two=tf[tf[\"x\"]<=-tcrit]"
   ]
  },
  {
   "cell_type": "code",
   "execution_count": 97,
   "id": "f7598fc8",
   "metadata": {},
   "outputs": [
    {
     "data": {
      "text/html": [
       "<div>\n",
       "<style scoped>\n",
       "    .dataframe tbody tr th:only-of-type {\n",
       "        vertical-align: middle;\n",
       "    }\n",
       "\n",
       "    .dataframe tbody tr th {\n",
       "        vertical-align: top;\n",
       "    }\n",
       "\n",
       "    .dataframe thead th {\n",
       "        text-align: right;\n",
       "    }\n",
       "</style>\n",
       "<table border=\"1\" class=\"dataframe\">\n",
       "  <thead>\n",
       "    <tr style=\"text-align: right;\">\n",
       "      <th></th>\n",
       "      <th>x</th>\n",
       "      <th>t</th>\n",
       "    </tr>\n",
       "  </thead>\n",
       "  <tbody>\n",
       "    <tr>\n",
       "      <th>0</th>\n",
       "      <td>-4.000000</td>\n",
       "      <td>0.000250</td>\n",
       "    </tr>\n",
       "    <tr>\n",
       "      <th>1</th>\n",
       "      <td>-3.991992</td>\n",
       "      <td>0.000257</td>\n",
       "    </tr>\n",
       "    <tr>\n",
       "      <th>2</th>\n",
       "      <td>-3.983984</td>\n",
       "      <td>0.000264</td>\n",
       "    </tr>\n",
       "    <tr>\n",
       "      <th>3</th>\n",
       "      <td>-3.975976</td>\n",
       "      <td>0.000271</td>\n",
       "    </tr>\n",
       "    <tr>\n",
       "      <th>4</th>\n",
       "      <td>-3.967968</td>\n",
       "      <td>0.000279</td>\n",
       "    </tr>\n",
       "    <tr>\n",
       "      <th>...</th>\n",
       "      <td>...</td>\n",
       "      <td>...</td>\n",
       "    </tr>\n",
       "    <tr>\n",
       "      <th>246</th>\n",
       "      <td>-2.030030</td>\n",
       "      <td>0.052037</td>\n",
       "    </tr>\n",
       "    <tr>\n",
       "      <th>247</th>\n",
       "      <td>-2.022022</td>\n",
       "      <td>0.052855</td>\n",
       "    </tr>\n",
       "    <tr>\n",
       "      <th>248</th>\n",
       "      <td>-2.014014</td>\n",
       "      <td>0.053684</td>\n",
       "    </tr>\n",
       "    <tr>\n",
       "      <th>249</th>\n",
       "      <td>-2.006006</td>\n",
       "      <td>0.054522</td>\n",
       "    </tr>\n",
       "    <tr>\n",
       "      <th>250</th>\n",
       "      <td>-1.997998</td>\n",
       "      <td>0.055371</td>\n",
       "    </tr>\n",
       "  </tbody>\n",
       "</table>\n",
       "<p>251 rows × 2 columns</p>\n",
       "</div>"
      ],
      "text/plain": [
       "            x         t\n",
       "0   -4.000000  0.000250\n",
       "1   -3.991992  0.000257\n",
       "2   -3.983984  0.000264\n",
       "3   -3.975976  0.000271\n",
       "4   -3.967968  0.000279\n",
       "..        ...       ...\n",
       "246 -2.030030  0.052037\n",
       "247 -2.022022  0.052855\n",
       "248 -2.014014  0.053684\n",
       "249 -2.006006  0.054522\n",
       "250 -1.997998  0.055371\n",
       "\n",
       "[251 rows x 2 columns]"
      ]
     },
     "execution_count": 97,
     "metadata": {},
     "output_type": "execute_result"
    }
   ],
   "source": [
    "two"
   ]
  },
  {
   "cell_type": "markdown",
   "id": "32d0a3b6",
   "metadata": {},
   "source": [
    "- when calculating the ``t-statistic`` (``t-value``) in this particular situation there is a $2.5\\%$ chance on each side ($5\\%$ of the time - $5\\%$ chance) when the curves do coincide that the wrong decision will be made (deem both $C$ do not have the same $\\mu$) [5]"
   ]
  },
  {
   "cell_type": "markdown",
   "id": "daafdcc4",
   "metadata": {},
   "source": [
    "- if the ``t-value`` (``t-statistic``) was roughly between $2$ and $-2$ then there is no evidence to suggest that the two curves do not coincide [5] - there is a limited number of ``t-value`` (``t-statistic``) within this range [7]"
   ]
  },
  {
   "cell_type": "markdown",
   "id": "1d573512",
   "metadata": {},
   "source": [
    "- there exists an infinity of ``t-value`` (``t-statistic``) on the LHS and an infinity of ``t-value`` (``t-statistic``) on the RHS - any number less than $-2$ and any value greater than $2$ then its too extreme [5] therfore rejecting the idea the $C$ have the same curve [7]"
   ]
  },
  {
   "cell_type": "code",
   "execution_count": 98,
   "id": "c2c33bcf",
   "metadata": {},
   "outputs": [
    {
     "data": {
      "image/png": "[encoded data removed]",
      "text/plain": [
       "<Figure size 921.6x518.4 with 1 Axes>"
      ]
     },
     "metadata": {},
     "output_type": "display_data"
    }
   ],
   "source": [
    "fig,ax=plt.subplots()\n",
    "ax.plot(x_t,t)\n",
    "ax.fill_between(one[\"x\"],one[\"t\"],0,facecolor=\"red\")\n",
    "ax.fill_between(two[\"x\"],two[\"t\"],0,facecolor=\"red\")\n",
    "ax.set_xlabel(\"t-value (t-statistic)\")\n",
    "ax.set_ylabel(\"Sample Size (\"+r\"$C$\"+\" a & \"+r\"$C$ \"+\"b)\");"
   ]
  },
  {
   "cell_type": "markdown",
   "id": "52083162",
   "metadata": {},
   "source": [
    "<a id=\"solutionProbabilityDensityFunctionError\"></a>\n",
    "< [Table of Contents](#top) > < [instructions](#instructions)&nbsp;&nbsp;|&nbsp;&nbsp;[Structure](#structure) > < [Abstract](#abstract) > < [Introduction](#introduction)&nbsp;&nbsp;:&nbsp;&nbsp;[Sampling](#introductionScenario)&nbsp;&nbsp;|&nbsp;&nbsp;[``scipy.stats``](#solutionttest)&nbsp;&nbsp;|&nbsp;&nbsp;[Multiple Samples](#solutionMultipleSamples) > < [Solution](#solution)&nbsp;&nbsp;:&nbsp;&nbsp;[``ANOVA``](#solutionANOVA)&nbsp;&nbsp;|&nbsp;&nbsp;[Flavors of Cacao](#solutionANOVAOnewayflavorsofcacao) > < [Conclusion](#conclusion) > < [References](#references) > < [Appendix](#appendix)&nbsp;&nbsp;|&nbsp;&nbsp;[Project Management](#ppmTOC) >\n",
    "***\n",
    "###### Error\n",
    "***"
   ]
  },
  {
   "cell_type": "markdown",
   "id": "d7b8474c",
   "metadata": {},
   "source": [
    "- are the numbers in the sample $C$ ``a`` different than the numbers in the sample $C$ ``b`` (doing measurments on vaccine ``a`` is there enough evidence to suggest its different to vaccine ``b``) [6]"
   ]
  },
  {
   "cell_type": "markdown",
   "id": "10d7a814",
   "metadata": {},
   "source": [
    "- cannot get away from the fact that a wrong decision may be made (built into statistical tests) - it is the errors that enable the evidence to be produced and is the whole point of doing statistical tests [6]"
   ]
  },
  {
   "cell_type": "markdown",
   "id": "af42f361",
   "metadata": {},
   "source": [
    "- statistical tests such as the ``t-test`` trys to manage the error (quantify it in some way) and that is the best to hope for [6]"
   ]
  },
  {
   "cell_type": "markdown",
   "id": "f73b5a11",
   "metadata": {},
   "source": [
    "<a id=\"solutionProbabilityDensityFunctionErrorTypeIErrorFalsePositives\"></a>\n",
    "< [Table of Contents](#top) > < [instructions](#instructions)&nbsp;&nbsp;|&nbsp;&nbsp;[Structure](#structure) > < [Abstract](#abstract) > < [Introduction](#introduction)&nbsp;&nbsp;:&nbsp;&nbsp;[Sampling](#introductionScenario)&nbsp;&nbsp;|&nbsp;&nbsp;[``scipy.stats``](#solutionttest)&nbsp;&nbsp;|&nbsp;&nbsp;[Multiple Samples](#solutionMultipleSamples) > < [Solution](#solution)&nbsp;&nbsp;:&nbsp;&nbsp;[``ANOVA``](#solutionANOVA)&nbsp;&nbsp;|&nbsp;&nbsp;[Flavors of Cacao](#solutionANOVAOnewayflavorsofcacao) > < [Conclusion](#conclusion) > < [References](#references) > < [Appendix](#appendix)&nbsp;&nbsp;|&nbsp;&nbsp;[Project Management](#ppmTOC) >\n",
    "***\n",
    "###### Type I Errors (``False Positives``)\n",
    "***"
   ]
  },
  {
   "cell_type": "markdown",
   "id": "1fdc7574",
   "metadata": {},
   "source": [
    "- rejecting the $H_0$ when in fact should not have [7]"
   ]
  },
  {
   "cell_type": "code",
   "execution_count": 99,
   "id": "a9988abe",
   "metadata": {},
   "outputs": [
    {
     "data": {
      "text/plain": [
       "True"
      ]
     },
     "execution_count": 99,
     "metadata": {},
     "output_type": "execute_result"
    }
   ],
   "source": [
    "m_a==m_b_same_m_a # actual null hypothesis"
   ]
  },
  {
   "cell_type": "markdown",
   "id": "eb43ad88",
   "metadata": {},
   "source": [
    "- running a ``t-test`` rejecting the idea that the $C$ ``a`` and the $C$ ``b`` have the same $\\mu$ [6]"
   ]
  },
  {
   "cell_type": "code",
   "execution_count": 100,
   "id": "05a50f32",
   "metadata": {},
   "outputs": [
    {
     "data": {
      "text/plain": [
       "False"
      ]
     },
     "execution_count": 100,
     "metadata": {},
     "output_type": "execute_result"
    }
   ],
   "source": [
    "not(m_a==m_b_same_m_a) # assumption alternative hypothesis"
   ]
  },
  {
   "cell_type": "code",
   "execution_count": 101,
   "id": "4d8d5845",
   "metadata": {},
   "outputs": [],
   "source": [
    "s=0.2 # closer standard deviation"
   ]
  },
  {
   "cell_type": "markdown",
   "id": "ec81c28d",
   "metadata": {},
   "source": [
    "- running twenty-thousand ``t-test`` generating ``a`` numbers and ``b`` numbers each time but keeping the underlying curves the same (coincide) then the ``t-test`` should not reject the $H_0$ [6]"
   ]
  },
  {
   "cell_type": "code",
   "execution_count": 102,
   "id": "a2281737",
   "metadata": {},
   "outputs": [],
   "source": [
    "nTrails=20000"
   ]
  },
  {
   "cell_type": "markdown",
   "id": "82777ff6",
   "metadata": {},
   "source": [
    "- giving the ``t-test`` a $5\\%$ chance of determining both $C$ are different when they are not [6] - $5\\%$ chance of making the wrong decision (built-in) although both $C$ are generated from the same $\\mu$ albeit having extreme values [7]"
   ]
  },
  {
   "cell_type": "code",
   "execution_count": 103,
   "id": "26aa3eed",
   "metadata": {},
   "outputs": [],
   "source": [
    "nChance=0.05 # power of test "
   ]
  },
  {
   "cell_type": "markdown",
   "id": "92619a79",
   "metadata": {},
   "source": [
    "- the data suggests rejecting the $H_0$ - this result is a ``False Positive`` [6]"
   ]
  },
  {
   "cell_type": "code",
   "execution_count": 104,
   "id": "af29ebf4",
   "metadata": {},
   "outputs": [],
   "source": [
    "nRejects=0\n",
    "for nEachRun in range(nTrails):\n",
    "    a=np.random.normal(loc=m_a,scale=s,size=N)\n",
    "    b=np.random.normal(loc=m_b_same_m_a,scale=s,size=N)\n",
    "    if ss.ttest_ind(a=a,b=b)[1]<=nChance:\n",
    "        nRejects=nRejects+1"
   ]
  },
  {
   "cell_type": "code",
   "execution_count": 105,
   "id": "f0891630",
   "metadata": {},
   "outputs": [
    {
     "data": {
      "text/plain": [
       "'5.0%'"
      ]
     },
     "execution_count": 105,
     "metadata": {},
     "output_type": "execute_result"
    }
   ],
   "source": [
    "f\"{nChance*100}%\""
   ]
  },
  {
   "cell_type": "code",
   "execution_count": 106,
   "id": "f41f6849",
   "metadata": {},
   "outputs": [
    {
     "name": "stdout",
     "output_type": "stream",
     "text": [
      "Type I Error (False Positives): 5.04%\n"
     ]
    }
   ],
   "source": [
    "print(f\"Type I Error (False Positives): {100.0*nRejects/nTrails:0.2f}%\")"
   ]
  },
  {
   "cell_type": "markdown",
   "id": "dc62afde",
   "metadata": {},
   "source": [
    "- if it is determined there is a difference between vaccine ``a`` and vaccine ``b`` when in fact there is actually no difference is called a ``False Positive`` (typically when doing a vaccine the chance of this happening is more like $0.000001\\%$) [6]"
   ]
  },
  {
   "cell_type": "markdown",
   "id": "d934033f",
   "metadata": {},
   "source": [
    "<a id=\"solutionProbabilityDensityFunctionErrorTypeIErrorFalseNegatives\"></a>\n",
    "< [Table of Contents](#top) > < [instructions](#instructions)&nbsp;&nbsp;|&nbsp;&nbsp;[Structure](#structure) > < [Abstract](#abstract) > < [Introduction](#introduction)&nbsp;&nbsp;:&nbsp;&nbsp;[Sampling](#introductionScenario)&nbsp;&nbsp;|&nbsp;&nbsp;[``scipy.stats``](#solutionttest)&nbsp;&nbsp;|&nbsp;&nbsp;[Multiple Samples](#solutionMultipleSamples) > < [Solution](#solution)&nbsp;&nbsp;:&nbsp;&nbsp;[``ANOVA``](#solutionANOVA)&nbsp;&nbsp;|&nbsp;&nbsp;[Flavors of Cacao](#solutionANOVAOnewayflavorsofcacao) > < [Conclusion](#conclusion) > < [References](#references) > < [Appendix](#appendix)&nbsp;&nbsp;|&nbsp;&nbsp;[Project Management](#ppmTOC) >\n",
    "***\n",
    "###### Type II Errors (``False Negatives``)\n",
    "***"
   ]
  },
  {
   "cell_type": "markdown",
   "id": "fe681723",
   "metadata": {},
   "source": [
    "- rejecting the $H_1$ when in fact should not have [7] - running a ``t-test`` rejecting the idea that the $C$ ``a`` and the $C$ ``b`` do not have the same $\\mu$ ``(Eq. (5))`` [6]"
   ]
  },
  {
   "cell_type": "code",
   "execution_count": 107,
   "id": "46106452",
   "metadata": {},
   "outputs": [
    {
     "data": {
      "text/plain": [
       "False"
      ]
     },
     "execution_count": 107,
     "metadata": {},
     "output_type": "execute_result"
    }
   ],
   "source": [
    "m_a==m_b # actual alternative hypothesis"
   ]
  },
  {
   "cell_type": "code",
   "execution_count": 108,
   "id": "975da90c",
   "metadata": {},
   "outputs": [
    {
     "data": {
      "text/plain": [
       "True"
      ]
     },
     "execution_count": 108,
     "metadata": {},
     "output_type": "execute_result"
    }
   ],
   "source": [
    "not(m_a==m_b) # assumption null hypothesis"
   ]
  },
  {
   "cell_type": "markdown",
   "id": "56e9d3c8",
   "metadata": {},
   "source": [
    "- running twenty-thousand ``t-test`` generating ``a`` numbers and ``b`` numbers each time but keeping the underlying curves separated (not coincide) then the ``t-test`` should not reject the $H_1$ [6]"
   ]
  },
  {
   "cell_type": "code",
   "execution_count": 109,
   "id": "c9181f78",
   "metadata": {},
   "outputs": [
    {
     "data": {
      "text/plain": [
       "20000"
      ]
     },
     "execution_count": 109,
     "metadata": {},
     "output_type": "execute_result"
    }
   ],
   "source": [
    "nTrails"
   ]
  },
  {
   "cell_type": "code",
   "execution_count": 110,
   "id": "f6b81046",
   "metadata": {},
   "outputs": [
    {
     "data": {
      "text/plain": [
       "0.05"
      ]
     },
     "execution_count": 110,
     "metadata": {},
     "output_type": "execute_result"
    }
   ],
   "source": [
    "nChance # same p-value cutoff"
   ]
  },
  {
   "cell_type": "markdown",
   "id": "b15419cb",
   "metadata": {},
   "source": [
    "- the data suggests rejecting the $H_1$ - this result is a ``False Negative`` [6]"
   ]
  },
  {
   "cell_type": "code",
   "execution_count": 111,
   "id": "9b987950",
   "metadata": {},
   "outputs": [],
   "source": [
    "nDoNot=0\n",
    "for nEachRun in range(nTrails):\n",
    "    a=np.random.normal(loc=m_a,scale=s,size=N)\n",
    "    b=np.random.normal(loc=m_b,scale=s,size=N)\n",
    "    if ss.ttest_ind(a=a,b=b)[1]>nChance:\n",
    "        nDoNot=nDoNot+1"
   ]
  },
  {
   "cell_type": "code",
   "execution_count": 112,
   "id": "d7fa851c",
   "metadata": {},
   "outputs": [
    {
     "name": "stdout",
     "output_type": "stream",
     "text": [
      "Type II Error (False Negatives): 0.00%\n"
     ]
    }
   ],
   "source": [
    "print(f\"Type II Error (False Negatives): {100.0*nDoNot/nTrails:0.2f}%\")"
   ]
  },
  {
   "cell_type": "markdown",
   "id": "8dc4e0c9",
   "metadata": {},
   "source": [
    "- when the $\\mu$ (``m_a`` and ``m_b``) of each $C$ are closer together relative to the $\\sigma$ (``s``) then its easier to get ``False Negatives`` [6][7]"
   ]
  },
  {
   "cell_type": "code",
   "execution_count": 113,
   "id": "c711b6b8",
   "metadata": {},
   "outputs": [
    {
     "data": {
      "text/plain": [
       "1.5"
      ]
     },
     "execution_count": 113,
     "metadata": {},
     "output_type": "execute_result"
    }
   ],
   "source": [
    "m_a"
   ]
  },
  {
   "cell_type": "code",
   "execution_count": 114,
   "id": "d879b74d",
   "metadata": {},
   "outputs": [],
   "source": [
    "m_b_closer_m_a=1.6"
   ]
  },
  {
   "cell_type": "code",
   "execution_count": 115,
   "id": "f1ba1dfc",
   "metadata": {},
   "outputs": [
    {
     "data": {
      "text/plain": [
       "0.2"
      ]
     },
     "execution_count": 115,
     "metadata": {},
     "output_type": "execute_result"
    }
   ],
   "source": [
    "s"
   ]
  },
  {
   "cell_type": "code",
   "execution_count": 116,
   "id": "d222d5e9",
   "metadata": {},
   "outputs": [],
   "source": [
    "nDoNot=0\n",
    "for nEachRun in range(nTrails):\n",
    "    a=np.random.normal(loc=m_a,scale=s,size=N)\n",
    "    b=np.random.normal(loc=m_b_closer_m_a,scale=s,size=N)\n",
    "    if ss.ttest_ind(a=a,b=b)[1]>nChance:\n",
    "        nDoNot=nDoNot+1"
   ]
  },
  {
   "cell_type": "code",
   "execution_count": 117,
   "id": "1b35273b",
   "metadata": {},
   "outputs": [
    {
     "name": "stdout",
     "output_type": "stream",
     "text": [
      "Type II Error (False Negatives): 40.24%\n"
     ]
    }
   ],
   "source": [
    "print(f\"Type II Error (False Negatives): {100.0*nDoNot/nTrails:0.2f}%\")"
   ]
  },
  {
   "cell_type": "markdown",
   "id": "c1ea6b45",
   "metadata": {},
   "source": [
    "<a id=\"solutionMultipleSamples\"></a>\n",
    "< [Table of Contents](#top) > < [instructions](#instructions)&nbsp;&nbsp;|&nbsp;&nbsp;[Structure](#structure) > < [Abstract](#abstract) > < [Introduction](#introduction)&nbsp;&nbsp;:&nbsp;&nbsp;[Sampling](#introductionScenario)&nbsp;&nbsp;|&nbsp;&nbsp;[``scipy.stats``](#solutionttest)&nbsp;&nbsp;|&nbsp;&nbsp;[Multiple Samples](#solutionMultipleSamples) > < [Solution](#solution)&nbsp;&nbsp;:&nbsp;&nbsp;[``ANOVA``](#solutionANOVA)&nbsp;&nbsp;|&nbsp;&nbsp;[Flavors of Cacao](#solutionANOVAOnewayflavorsofcacao) > < [Conclusion](#conclusion) > < [References](#references) > < [Appendix](#appendix)&nbsp;&nbsp;|&nbsp;&nbsp;[Project Management](#ppmTOC) >\n",
    "***\n",
    "###### Multiple Samples\n",
    "***"
   ]
  },
  {
   "cell_type": "markdown",
   "id": "5e8b8ba8",
   "metadata": {},
   "source": [
    "- adding an addition sample ($C$ ``c``) generated from $\\mu$ ``m_c`` with same $\\sigma$ and size ``N`` of $C$ ``a`` and ``b`` [7]"
   ]
  },
  {
   "cell_type": "code",
   "execution_count": 118,
   "id": "911c041e",
   "metadata": {},
   "outputs": [
    {
     "data": {
      "text/plain": [
       "True"
      ]
     },
     "execution_count": 118,
     "metadata": {},
     "output_type": "execute_result"
    }
   ],
   "source": [
    "s_a==s_b # standard deviation 0.5"
   ]
  },
  {
   "cell_type": "code",
   "execution_count": 119,
   "id": "8dd2d315",
   "metadata": {},
   "outputs": [
    {
     "data": {
      "text/plain": [
       "40"
      ]
     },
     "execution_count": 119,
     "metadata": {},
     "output_type": "execute_result"
    }
   ],
   "source": [
    "N"
   ]
  },
  {
   "cell_type": "code",
   "execution_count": 120,
   "id": "ca8e6b2b",
   "metadata": {},
   "outputs": [],
   "source": [
    "m_c=3.0 # new sample mean"
   ]
  },
  {
   "cell_type": "code",
   "execution_count": 121,
   "id": "eef11b60",
   "metadata": {},
   "outputs": [],
   "source": [
    "c=np.random.normal(loc=m_c,scale=s_b,size=N)"
   ]
  },
  {
   "cell_type": "code",
   "execution_count": 122,
   "id": "d05c02b0",
   "metadata": {},
   "outputs": [
    {
     "data": {
      "text/plain": [
       "array([2.53743785, 2.35316145, 2.91065164, 2.51764322, 3.33533872,\n",
       "       2.91252018, 2.64553557, 3.0111444 , 3.42609226, 2.56546601,\n",
       "       3.05770792, 2.90958418, 1.78679208, 2.8862379 , 3.11441722,\n",
       "       3.23214416, 3.44923908, 2.68318227, 2.47749067, 2.79172878,\n",
       "       3.06286984, 3.08662511, 2.61165169, 2.31165362, 3.66100568,\n",
       "       2.65383576, 4.00467532, 3.66286306, 2.84678448, 2.61727811,\n",
       "       3.30648103, 2.4093777 , 3.56972714, 3.81131174, 2.84281251,\n",
       "       3.42658069, 2.39600417, 2.35405921, 3.9995419 , 1.89930464])"
      ]
     },
     "execution_count": 122,
     "metadata": {},
     "output_type": "execute_result"
    }
   ],
   "source": [
    "c # collection mean m_c"
   ]
  },
  {
   "cell_type": "markdown",
   "id": "19d8e68d",
   "metadata": {},
   "source": [
    "- existing $C$ (i. ``a`` and ii. ``b_m_a``):"
   ]
  },
  {
   "cell_type": "markdown",
   "id": "0461d06c",
   "metadata": {},
   "source": [
    "i. $C$ ``a`` (generated from  $\\mu$ ``m_a`` ``(Eq. (1))``) [7]"
   ]
  },
  {
   "cell_type": "code",
   "execution_count": 123,
   "id": "2b24ea7c",
   "metadata": {},
   "outputs": [
    {
     "data": {
      "text/plain": [
       "1.5"
      ]
     },
     "execution_count": 123,
     "metadata": {},
     "output_type": "execute_result"
    }
   ],
   "source": [
    "m_a # generate collection a"
   ]
  },
  {
   "cell_type": "code",
   "execution_count": 124,
   "id": "39e46eb8",
   "metadata": {},
   "outputs": [
    {
     "data": {
      "text/plain": [
       "array([1.67799243, 1.33487905, 1.5392213 , 1.38784759, 1.62120142,\n",
       "       1.42346895, 1.56866591, 1.21396933, 1.48117069, 1.34601766,\n",
       "       1.58154913, 1.50068168, 1.29908586, 1.39546259, 1.45100624,\n",
       "       1.23365237, 1.47187262, 1.45404276, 1.76075715, 1.32726257,\n",
       "       1.70522387, 1.88211996, 1.4430349 , 1.29801037, 1.44741092,\n",
       "       1.72992466, 1.39456875, 1.22441429, 1.75760925, 1.53570871,\n",
       "       1.62926225, 1.69924298, 1.47895672, 1.60240474, 1.7842548 ,\n",
       "       1.66455261, 1.54933571, 1.57553146, 1.54640778, 1.49462886])"
      ]
     },
     "execution_count": 124,
     "metadata": {},
     "output_type": "execute_result"
    }
   ],
   "source": [
    "a # collection mean m_a"
   ]
  },
  {
   "cell_type": "markdown",
   "id": "17c6e179",
   "metadata": {},
   "source": [
    "ii. $C$ ``b_m_a`` (generated from $\\mu$ ``m_b_same_m_a``) [7]"
   ]
  },
  {
   "cell_type": "code",
   "execution_count": 125,
   "id": "b2124035",
   "metadata": {},
   "outputs": [
    {
     "data": {
      "text/plain": [
       "1.5"
      ]
     },
     "execution_count": 125,
     "metadata": {},
     "output_type": "execute_result"
    }
   ],
   "source": [
    "m_b_same_m_a # generate collection b_m_a"
   ]
  },
  {
   "cell_type": "code",
   "execution_count": 126,
   "id": "a23bff70",
   "metadata": {},
   "outputs": [
    {
     "data": {
      "text/plain": [
       "array([2.10721258, 1.00140679, 1.64949854, 1.79462776, 1.95008067,\n",
       "       1.10305651, 1.23398601, 1.48466267, 1.94408165, 0.90575062,\n",
       "       1.0188254 , 1.21849001, 1.53646461, 1.50923631, 1.73592977,\n",
       "       1.49427224, 0.896076  , 1.68767082, 2.23319324, 1.06035027,\n",
       "       1.4861658 , 1.22469783, 1.4385271 , 1.41355363, 1.4281589 ,\n",
       "       0.96366097, 1.66340163, 2.28855841, 1.11274021, 2.30661555,\n",
       "       0.52464339, 1.59375723, 1.87004358, 2.11835342, 2.07916117,\n",
       "       1.12656683, 0.92607148, 1.07471797, 1.25633773, 1.42803226])"
      ]
     },
     "execution_count": 126,
     "metadata": {},
     "output_type": "execute_result"
    }
   ],
   "source": [
    "b_m_a # collection mean m_b_same_m_a"
   ]
  },
  {
   "cell_type": "code",
   "execution_count": 127,
   "id": "b769c20e",
   "metadata": {},
   "outputs": [],
   "source": [
    "samples_a_b_c=[\"A\"]*N+[\"B\"]*N+[\"C\"]*N # change collection reference\n",
    "v=np.hstack([a,b_m_a,c])\n",
    "df_A_B_C=pd.DataFrame({\"Samples\":samples_a_b_c,\"Values\":v}) # collections now samples"
   ]
  },
  {
   "cell_type": "code",
   "execution_count": 128,
   "id": "c17229f2",
   "metadata": {},
   "outputs": [
    {
     "data": {
      "text/html": [
       "<div>\n",
       "<style scoped>\n",
       "    .dataframe tbody tr th:only-of-type {\n",
       "        vertical-align: middle;\n",
       "    }\n",
       "\n",
       "    .dataframe tbody tr th {\n",
       "        vertical-align: top;\n",
       "    }\n",
       "\n",
       "    .dataframe thead th {\n",
       "        text-align: right;\n",
       "    }\n",
       "</style>\n",
       "<table border=\"1\" class=\"dataframe\">\n",
       "  <thead>\n",
       "    <tr style=\"text-align: right;\">\n",
       "      <th></th>\n",
       "      <th>Samples</th>\n",
       "      <th>Values</th>\n",
       "    </tr>\n",
       "  </thead>\n",
       "  <tbody>\n",
       "    <tr>\n",
       "      <th>0</th>\n",
       "      <td>A</td>\n",
       "      <td>1.677992</td>\n",
       "    </tr>\n",
       "    <tr>\n",
       "      <th>1</th>\n",
       "      <td>A</td>\n",
       "      <td>1.334879</td>\n",
       "    </tr>\n",
       "    <tr>\n",
       "      <th>2</th>\n",
       "      <td>A</td>\n",
       "      <td>1.539221</td>\n",
       "    </tr>\n",
       "    <tr>\n",
       "      <th>3</th>\n",
       "      <td>A</td>\n",
       "      <td>1.387848</td>\n",
       "    </tr>\n",
       "    <tr>\n",
       "      <th>4</th>\n",
       "      <td>A</td>\n",
       "      <td>1.621201</td>\n",
       "    </tr>\n",
       "    <tr>\n",
       "      <th>...</th>\n",
       "      <td>...</td>\n",
       "      <td>...</td>\n",
       "    </tr>\n",
       "    <tr>\n",
       "      <th>115</th>\n",
       "      <td>C</td>\n",
       "      <td>3.426581</td>\n",
       "    </tr>\n",
       "    <tr>\n",
       "      <th>116</th>\n",
       "      <td>C</td>\n",
       "      <td>2.396004</td>\n",
       "    </tr>\n",
       "    <tr>\n",
       "      <th>117</th>\n",
       "      <td>C</td>\n",
       "      <td>2.354059</td>\n",
       "    </tr>\n",
       "    <tr>\n",
       "      <th>118</th>\n",
       "      <td>C</td>\n",
       "      <td>3.999542</td>\n",
       "    </tr>\n",
       "    <tr>\n",
       "      <th>119</th>\n",
       "      <td>C</td>\n",
       "      <td>1.899305</td>\n",
       "    </tr>\n",
       "  </tbody>\n",
       "</table>\n",
       "<p>120 rows × 2 columns</p>\n",
       "</div>"
      ],
      "text/plain": [
       "    Samples    Values\n",
       "0         A  1.677992\n",
       "1         A  1.334879\n",
       "2         A  1.539221\n",
       "3         A  1.387848\n",
       "4         A  1.621201\n",
       "..      ...       ...\n",
       "115       C  3.426581\n",
       "116       C  2.396004\n",
       "117       C  2.354059\n",
       "118       C  3.999542\n",
       "119       C  1.899305\n",
       "\n",
       "[120 rows x 2 columns]"
      ]
     },
     "execution_count": 128,
     "metadata": {},
     "output_type": "execute_result"
    }
   ],
   "source": [
    "df_A_B_C # a=A b=B c=C"
   ]
  },
  {
   "cell_type": "markdown",
   "id": "5c4c27f5",
   "metadata": {},
   "source": [
    " - of the three samples ``C`` looks different to the ``A`` and ``B`` (samples ``A`` and ``B`` may appear different but this is random chance given both have the same $\\mu$) [7]"
   ]
  },
  {
   "cell_type": "code",
   "execution_count": 129,
   "id": "ea56316b",
   "metadata": {},
   "outputs": [
    {
     "data": {
      "image/png": "[encoded data removed]",
      "text/plain": [
       "<Figure size 360x360 with 1 Axes>"
      ]
     },
     "metadata": {},
     "output_type": "display_data"
    }
   ],
   "source": [
    "sns.catplot(x=\"Samples\",y=\"Values\",jitter=False,data=df_A_B_C);"
   ]
  },
  {
   "cell_type": "markdown",
   "id": "d48c769b",
   "metadata": {},
   "source": [
    "<a id=\"solutionMultipleSamplesnull\"></a>\n",
    "< [Table of Contents](#top) > < [instructions](#instructions)&nbsp;&nbsp;|&nbsp;&nbsp;[Structure](#structure) > < [Abstract](#abstract) > < [Introduction](#introduction)&nbsp;&nbsp;:&nbsp;&nbsp;[Sampling](#introductionScenario)&nbsp;&nbsp;|&nbsp;&nbsp;[``scipy.stats``](#solutionttest)&nbsp;&nbsp;|&nbsp;&nbsp;[Multiple Samples](#solutionMultipleSamples) > < [Solution](#solution)&nbsp;&nbsp;:&nbsp;&nbsp;[``ANOVA``](#solutionANOVA)&nbsp;&nbsp;|&nbsp;&nbsp;[Flavors of Cacao](#solutionANOVAOnewayflavorsofcacao) > < [Conclusion](#conclusion) > < [References](#references) > < [Appendix](#appendix)&nbsp;&nbsp;|&nbsp;&nbsp;[Project Management](#ppmTOC) >\n",
    "***\n",
    "###### $H_0$\n",
    "***"
   ]
  },
  {
   "cell_type": "markdown",
   "id": "7ef30fcf",
   "metadata": {},
   "source": [
    "- $H_0$ is true until rejected therefore trying to reject the status quo ($H_0$) [9]"
   ]
  },
  {
   "cell_type": "markdown",
   "id": "29822745",
   "metadata": {},
   "source": [
    "$$H_0:\\mu_a=\\mu_b=\\mu_c\\tag{6}$$"
   ]
  },
  {
   "cell_type": "markdown",
   "id": "24b3e625",
   "metadata": {},
   "source": [
    "<a id=\"solutionMultipleSamplealternative\"></a>\n",
    "< [Table of Contents](#top) > < [instructions](#instructions)&nbsp;&nbsp;|&nbsp;&nbsp;[Structure](#structure) > < [Abstract](#abstract) > < [Introduction](#introduction)&nbsp;&nbsp;:&nbsp;&nbsp;[Sampling](#introductionScenario)&nbsp;&nbsp;|&nbsp;&nbsp;[``scipy.stats``](#solutionttest)&nbsp;&nbsp;|&nbsp;&nbsp;[Multiple Samples](#solutionMultipleSamples) > < [Solution](#solution)&nbsp;&nbsp;:&nbsp;&nbsp;[``ANOVA``](#solutionANOVA)&nbsp;&nbsp;|&nbsp;&nbsp;[Flavors of Cacao](#solutionANOVAOnewayflavorsofcacao) > < [Conclusion](#conclusion) > < [References](#references) > < [Appendix](#appendix)&nbsp;&nbsp;|&nbsp;&nbsp;[Project Management](#ppmTOC) >\n",
    "***\n",
    "###### $H_1$\n",
    "***"
   ]
  },
  {
   "cell_type": "markdown",
   "id": "ccfe4fcf",
   "metadata": {},
   "source": [
    "- the alternative ($H_1$) challenges the status quo ``(Eq. (6))`` (note system is gamed so that the new $C$ ``c`` is generated from a different $\\mu$) [9]"
   ]
  },
  {
   "cell_type": "markdown",
   "id": "aee15b1f",
   "metadata": {},
   "source": [
    "$$At\\space least\\space one\\space pair\\space of\\space \\mu\\space is\\space not\\space equal.$$"
   ]
  },
  {
   "cell_type": "code",
   "execution_count": 130,
   "id": "15b273f7",
   "metadata": {},
   "outputs": [
    {
     "data": {
      "text/plain": [
       "False"
      ]
     },
     "execution_count": 130,
     "metadata": {},
     "output_type": "execute_result"
    }
   ],
   "source": [
    "m_a==m_b==m_c"
   ]
  },
  {
   "cell_type": "markdown",
   "id": "ed7ec9ae",
   "metadata": {},
   "source": [
    "<a id=\"solutionMultipleSamplesTTest\"></a>\n",
    "< [Table of Contents](#top) > < [instructions](#instructions)&nbsp;&nbsp;|&nbsp;&nbsp;[Structure](#structure) > < [Abstract](#abstract) > < [Introduction](#introduction)&nbsp;&nbsp;:&nbsp;&nbsp;[Sampling](#introductionScenario)&nbsp;&nbsp;|&nbsp;&nbsp;[``scipy.stats``](#solutionttest)&nbsp;&nbsp;|&nbsp;&nbsp;[Multiple Samples](#solutionMultipleSamples) > < [Solution](#solution)&nbsp;&nbsp;:&nbsp;&nbsp;[``ANOVA``](#solutionANOVA)&nbsp;&nbsp;|&nbsp;&nbsp;[Flavors of Cacao](#solutionANOVAOnewayflavorsofcacao) > < [Conclusion](#conclusion) > < [References](#references) > < [Appendix](#appendix)&nbsp;&nbsp;|&nbsp;&nbsp;[Project Management](#ppmTOC) >\n",
    "***\n",
    "###### T-Test\n",
    "***"
   ]
  },
  {
   "cell_type": "markdown",
   "id": "56bd7e10",
   "metadata": {},
   "source": [
    "- at first may deem it appropriate to using a ``t-test`` to simply compare each possible pair of $C$ (``a`` with ``b``; ``a`` with ``c``; ``b`` with ``c``; three significance tests in all) [11]"
   ]
  },
  {
   "cell_type": "code",
   "execution_count": 131,
   "id": "18c8cbc6",
   "metadata": {},
   "outputs": [],
   "source": [
    "t_ssAvB,p_ssAvB=ss.ttest_ind(a=a,b=b_m_a) # A versus B"
   ]
  },
  {
   "cell_type": "markdown",
   "id": "f72986f8",
   "metadata": {},
   "source": [
    "- the ``t-test`` that compares ``A`` and ``B`` returns a ``p-value`` providing no evidence to suggest both come from different populations [7]"
   ]
  },
  {
   "cell_type": "code",
   "execution_count": 132,
   "id": "0e00edcd",
   "metadata": {},
   "outputs": [
    {
     "name": "stdout",
     "output_type": "stream",
     "text": [
      "0.59% probability (6% chance)\n"
     ]
    }
   ],
   "source": [
    "print(f\"{p_ssAvB:0.2f}% probability ({p_ssAvB*10:.0f}% chance)\")"
   ]
  },
  {
   "cell_type": "markdown",
   "id": "911401d5",
   "metadata": {},
   "source": [
    "- comparing ``A`` and ``C`` return a ``p-value`` providing evidence to suggest both came from different populations (true also for ``B`` and ``C``) [7]"
   ]
  },
  {
   "cell_type": "code",
   "execution_count": 133,
   "id": "ceae0eda",
   "metadata": {},
   "outputs": [],
   "source": [
    "t_ssAvC,p_ssAvC=ss.ttest_ind(a=a,b=c) # A versus C"
   ]
  },
  {
   "cell_type": "code",
   "execution_count": 134,
   "id": "72de39d2",
   "metadata": {},
   "outputs": [
    {
     "name": "stdout",
     "output_type": "stream",
     "text": [
      "0.00% probability (0% chance)\n"
     ]
    }
   ],
   "source": [
    "print(f\"{p_ssAvC:0.2f}% probability ({p_ssAvC*10:.0f}% chance)\")"
   ]
  },
  {
   "cell_type": "code",
   "execution_count": 135,
   "id": "64fc16c1",
   "metadata": {},
   "outputs": [],
   "source": [
    "t_ssBvC,p_ssBvC=ss.ttest_ind(a=b_m_a,b=c) # B versus C"
   ]
  },
  {
   "cell_type": "code",
   "execution_count": 136,
   "id": "1145fe5c",
   "metadata": {},
   "outputs": [
    {
     "name": "stdout",
     "output_type": "stream",
     "text": [
      "0.00% probability (0% chance)\n"
     ]
    }
   ],
   "source": [
    "print(f\"{p_ssBvC:0.2f}% probability ({p_ssBvC*10:.0f}% chance)\") "
   ]
  },
  {
   "cell_type": "markdown",
   "id": "32678515",
   "metadata": {},
   "source": [
    "- each of the samples (``A`` and ``B`` and ``C``) are used twice in the three tests therefore this increases the chance of making an error by performing a number of ``t-test`` in parallel (one after the other) [7]"
   ]
  },
  {
   "cell_type": "markdown",
   "id": "9751c18c",
   "metadata": {},
   "source": [
    "- if all the samples are generated from the same population (generated from the same $\\mu$) then every time a ``t-test`` is run using the critical value (cut-off) of $5\\%$ (both $C$ are different when both are not) there will be a high ``False Positive`` rate because of repetition [7]"
   ]
  },
  {
   "cell_type": "code",
   "execution_count": 137,
   "id": "dacf229c",
   "metadata": {},
   "outputs": [],
   "source": [
    "f_p=0 # count false positives"
   ]
  },
  {
   "cell_type": "code",
   "execution_count": 138,
   "id": "e0130215",
   "metadata": {},
   "outputs": [],
   "source": [
    "for i in range(1000): # running twenty-thousand tests\n",
    "    # samples same mean\n",
    "    sA=np.random.normal(loc=1.5,scale=0.3,size=N) # generate A sample\n",
    "    sB=np.random.normal(loc=1.5,scale=0.3,size=N) # generate B sample\n",
    "    sC=np.random.normal(loc=1.5,scale=0.3,size=N) # generate C sample\n",
    "    # perform the t-tests\n",
    "    t_ssAvB,p_ssAvB=ss.ttest_ind(a=sA,b=sB) # A versus B\n",
    "    t_ssAvC,p_ssAvC=ss.ttest_ind(a=sA,b=sC) # A versus C\n",
    "    t_ssBvC,p_ssBvC=ss.ttest_ind(a=sB,b=sC) # B versus C\n",
    "    if p_ssAvB<=nChance or p_ssAvC<=nChance or p_ssBvC<=nChance: # check for cut-off\n",
    "        f_p+=1"
   ]
  },
  {
   "cell_type": "code",
   "execution_count": 139,
   "id": "1d72e25a",
   "metadata": {},
   "outputs": [
    {
     "name": "stdout",
     "output_type": "stream",
     "text": [
      "Type I Error (False Positives): 11.2%\n"
     ]
    }
   ],
   "source": [
    "print(f\"Type I Error (False Positives): {f_p / 10}%\")"
   ]
  },
  {
   "cell_type": "markdown",
   "id": "14029b64",
   "metadata": {},
   "source": [
    "<a id=\"solutionMultipleSamplesANOVA\"></a>\n",
    "< [Table of Contents](#top) > < [instructions](#instructions)&nbsp;&nbsp;|&nbsp;&nbsp;[Structure](#structure) > < [Abstract](#abstract) > < [Introduction](#introduction)&nbsp;&nbsp;:&nbsp;&nbsp;[Sampling](#introductionScenario)&nbsp;&nbsp;|&nbsp;&nbsp;[``scipy.stats``](#solutionttest)&nbsp;&nbsp;|&nbsp;&nbsp;[Multiple Samples](#solutionMultipleSamples) > < [Solution](#solution)&nbsp;&nbsp;:&nbsp;&nbsp;[``ANOVA``](#solutionANOVA)&nbsp;&nbsp;|&nbsp;&nbsp;[Flavors of Cacao](#solutionANOVAOnewayflavorsofcacao) > < [Conclusion](#conclusion) > < [References](#references) > < [Appendix](#appendix)&nbsp;&nbsp;|&nbsp;&nbsp;[Project Management](#ppmTOC) >\n",
    "***\n",
    "###### Analysis of Variance\n",
    "***"
   ]
  },
  {
   "cell_type": "markdown",
   "id": "d3e2c61b",
   "metadata": {},
   "source": [
    "- to avoid ``False Positives`` employing analysis of variance (hereafter abbreviated ``ANOVA``) [7]"
   ]
  },
  {
   "cell_type": "markdown",
   "id": "30c3fc76",
   "metadata": {},
   "source": [
    "- similar to a ``t-test`` but designed for the scenario of comparing a number of different samples in parallel (same time) and still have a ``p-value`` cutoff of $0.05$ ($5\\%$ chance of making a wrong decision) [7]"
   ]
  },
  {
   "cell_type": "markdown",
   "id": "59c74454",
   "metadata": {},
   "source": [
    "- running the ``ANOVA`` on the three samples (``a`` and ``a`` and ``c``) returns a ``p-value`` that suggests there is a difference between the three sample therefore rejecting the $H_0$ ``(Eq. (6))`` [7]"
   ]
  },
  {
   "cell_type": "code",
   "execution_count": 140,
   "id": "4f7f2c1e",
   "metadata": {},
   "outputs": [],
   "source": [
    "f_ss_anova,p_ss_anova=ss.f_oneway(a,b,c) # accept alternative hypothesis"
   ]
  },
  {
   "cell_type": "code",
   "execution_count": 141,
   "id": "f667464c",
   "metadata": {},
   "outputs": [
    {
     "name": "stdout",
     "output_type": "stream",
     "text": [
      "0.00% probability (0% chance)\n"
     ]
    }
   ],
   "source": [
    "print(f\"{p_ss_anova:0.2f}% probability ({p_ss_anova*10:.0f}% chance)\") # typical cutoff 0.05"
   ]
  },
  {
   "cell_type": "markdown",
   "id": "c8781b87",
   "metadata": {},
   "source": [
    "***\n",
    "## END"
   ]
  },
  {
   "cell_type": "markdown",
   "id": "f1291269",
   "metadata": {},
   "source": [
    "<a id=\"solution\"></a>\n",
    "< [Table of Contents](#top) > < [instructions](#instructions)&nbsp;&nbsp;|&nbsp;&nbsp;[Structure](#structure) > < [Abstract](#abstract) > < [Introduction](#introduction)&nbsp;&nbsp;:&nbsp;&nbsp;[Sampling](#introductionScenario)&nbsp;&nbsp;|&nbsp;&nbsp;[``scipy.stats``](#solutionttest)&nbsp;&nbsp;|&nbsp;&nbsp;[Multiple Samples](#solutionMultipleSamples) > < [Solution](#solution)&nbsp;&nbsp;:&nbsp;&nbsp;[``ANOVA``](#solutionANOVA)&nbsp;&nbsp;|&nbsp;&nbsp;[Flavors of Cacao](#solutionANOVAOnewayflavorsofcacao) > < [Conclusion](#conclusion) > < [References](#references) > < [Appendix](#appendix)&nbsp;&nbsp;|&nbsp;&nbsp;[Project Management](#ppmTOC) >\n",
    "***\n",
    "## Solution\n",
    "***"
   ]
  },
  {
   "cell_type": "markdown",
   "id": "213a5bb0",
   "metadata": {},
   "source": [
    "- the phrase ``\"correlation does not imply causation\"`` is proclaimed when confronted by claims based on some simple observation [12]"
   ]
  },
  {
   "cell_type": "markdown",
   "id": "823a1bc4",
   "metadata": {},
   "source": [
    "- one such poor association is the whimsical correlation of $95.45\\%$ ($r=0.954509$) between US crude oil import from Norway between 1999 and 2009 and the number of drivers killed in collisions with railway trains in each of those years [12][13]"
   ]
  },
  {
   "cell_type": "markdown",
   "id": "8bb52005",
   "metadata": {},
   "source": [
    "![norway-oil-drivers-killed](https://github.com/SeanOhAileasa/SeanOhAileasa/blob/master/rc/mls/scipy/spurious-correlation.png?raw=true)\n",
    "\n",
    "***T. Vigen, \"Spurious correlations,\" [tylervigen.com](https://tylervigen.com/spurious-correlations), July 2014.***"
   ]
  },
  {
   "cell_type": "markdown",
   "id": "a9b01cca",
   "metadata": {},
   "source": [
    "- allowing for variability (the idea of causation) is not deterministic [12]"
   ]
  },
  {
   "cell_type": "markdown",
   "id": "ec284902",
   "metadata": {},
   "source": [
    "- if $x$ causes $y$ it is not correct to infer that everytime $x$ occurs then $y$ too occurs or that $y$ will occur if $x$ occurs - instead to intervene and force $x$ to occur then $y$ tends to happen more often ($x$ increases the proportion of times that $y$ happens) [12]"
   ]
  },
  {
   "cell_type": "markdown",
   "id": "07bc515d",
   "metadata": {},
   "source": [
    "- it took decades for the medical community to conclude that smoking cigarettes caused lung cancer - the reason is that most people who do not smoke do get lung cancer - instead it is more likely to get lung cancer if a person smokes [12]"
   ]
  },
  {
   "cell_type": "markdown",
   "id": "500094da",
   "metadata": {},
   "source": [
    "- the danger of multiple comparisons is the likeihood of observing relationships that do not actually exist and is to be avoided [14]"
   ]
  },
  {
   "cell_type": "markdown",
   "id": "35402a13",
   "metadata": {},
   "source": [
    "- performing a ``t-test`` on more than two $C$ (using a cut-off of $5\\%$) results in a high ``False Positive`` rate because of repetition (rejecting the $H_0$ when in fact should not have) [7][14]"
   ]
  },
  {
   "cell_type": "markdown",
   "id": "23fe6e8c",
   "metadata": {},
   "source": [
    "- fortunately there is a single test whereby several samples can be compared at once - called the ``f-test`` after statistician R. A. Fisher who developed the process called ``ANOVA`` on which it rests [11]"
   ]
  },
  {
   "cell_type": "markdown",
   "id": "40400d4b",
   "metadata": {},
   "source": [
    "<a id=\"solutionANOVA\"></a>\n",
    "< [Table of Contents](#top) > < [instructions](#instructions)&nbsp;&nbsp;|&nbsp;&nbsp;[Structure](#structure) > < [Abstract](#abstract) > < [Introduction](#introduction)&nbsp;&nbsp;:&nbsp;&nbsp;[Sampling](#introductionScenario)&nbsp;&nbsp;|&nbsp;&nbsp;[``scipy.stats``](#solutionttest)&nbsp;&nbsp;|&nbsp;&nbsp;[Multiple Samples](#solutionMultipleSamples) > < [Solution](#solution)&nbsp;&nbsp;:&nbsp;&nbsp;[``ANOVA``](#solutionANOVA)&nbsp;&nbsp;|&nbsp;&nbsp;[Flavors of Cacao](#solutionANOVAOnewayflavorsofcacao) > < [Conclusion](#conclusion) > < [References](#references) > < [Appendix](#appendix)&nbsp;&nbsp;|&nbsp;&nbsp;[Project Management](#ppmTOC) >\n",
    "***\n",
    "###### ``ANOVA``\n",
    "***"
   ]
  },
  {
   "cell_type": "markdown",
   "id": "2e7be9a6",
   "metadata": {},
   "source": [
    "- ``ANOVA`` can be applied to comparing two groups returning the same result as a ``t-test`` albeit more commonly used for comparing three or more samples [11]"
   ]
  },
  {
   "cell_type": "code",
   "execution_count": 142,
   "id": "147a19ff",
   "metadata": {},
   "outputs": [
    {
     "name": "stdout",
     "output_type": "stream",
     "text": [
      "    The one-way ANOVA tests the null hypothesis that two or more groups have\n",
      "    the same population mean.  The test is applied to samples from two or\n",
      "    more groups, possibly with differing sizes.\n"
     ]
    }
   ],
   "source": [
    "print(\"\\n\".join(ss.f_oneway.__doc__.split(\"\\n\")[3:6])) # function f_oneway overview"
   ]
  },
  {
   "cell_type": "code",
   "execution_count": 143,
   "id": "141d5299",
   "metadata": {},
   "outputs": [
    {
     "name": "stdout",
     "output_type": "stream",
     "text": [
      "    The ANOVA test has important assumptions that must be satisfied in order\n",
      "    for the associated p-value to be valid.\n",
      "\n",
      "    1. The samples are independent.\n",
      "    2. Each sample is from a normally distributed population.\n",
      "    3. The population standard deviations of the groups are all equal.  This\n",
      "       property is known as homoscedasticity.\n",
      "\n",
      "    If these assumptions are not true for a given set of data, it may still\n",
      "    be possible to use the Kruskal-Wallis H-test (`scipy.stats.kruskal`)\n",
      "    although with some loss of power.\n",
      "\n",
      "    The length of each group must be at least one, and there must be at\n",
      "    least one group with length greater than one.  If these conditions\n",
      "    are not satisfied, a warning is generated and (``np.nan``, ``np.nan``)\n",
      "    is returned.\n",
      "\n",
      "    If each group contains constant values, and there exist at least two\n",
      "    groups with different values, the function generates a warning and\n",
      "    returns (``np.inf``, 0).\n",
      "\n",
      "    If all values in all groups are the same, function generates a warning\n",
      "    and returns (``np.nan``, ``np.nan``).\n",
      "\n",
      "    The algorithm is from Heiman [2]_, pp.394-7.\n",
      "\n",
      "    References\n",
      "    ----------\n",
      "    .. [1] R. Lowry, \"Concepts and Applications of Inferential Statistics\",\n",
      "           Chapter 14, 2014, http://vassarstats.net/textbook/\n",
      "\n",
      "    .. [2] G.W. Heiman, \"Understanding research methods and statistics: An\n",
      "           integrated introduction for psychology\", Houghton, Mifflin and\n",
      "           Company, 2001.\n",
      "\n",
      "    .. [3] G.H. McDonald, \"Handbook of Biological Statistics\", One-way ANOVA.\n",
      "           http://www.biostathandbook.com/onewayanova.html\n"
     ]
    }
   ],
   "source": [
    "print(\"\\n\".join(ss.f_oneway.__doc__.split(\"\\n\")[38:75])) # function f_oneway assumptions"
   ]
  },
  {
   "cell_type": "markdown",
   "id": "1c89ff37",
   "metadata": {},
   "source": [
    "![significant](https://github.com/SeanOhAileasa/SeanOhAileasa/blob/master/rc/mls/scipy/significant.png?raw=true)\n",
    "\n",
    "***xkcd, \"Significant,\" [xkcd.com](https://imgs.xkcd.com/comics/significant.png), n.d..***"
   ]
  },
  {
   "cell_type": "markdown",
   "id": "4fff0d94",
   "metadata": {},
   "source": [
    "- asks the question ``Are there one or more significant differences anywhere among the samples?`` - if the answer is no then there is no point in examining the data any further [11]"
   ]
  },
  {
   "cell_type": "markdown",
   "id": "51b8dfb1",
   "metadata": {},
   "source": [
    "<a id=\"solutiontfoneway\"></a>\n",
    "< [Table of Contents](#top) > < [instructions](#instructions)&nbsp;&nbsp;|&nbsp;&nbsp;[Structure](#structure) > < [Abstract](#abstract) > < [Introduction](#introduction)&nbsp;&nbsp;:&nbsp;&nbsp;[Sampling](#introductionScenario)&nbsp;&nbsp;|&nbsp;&nbsp;[``scipy.stats``](#solutionttest)&nbsp;&nbsp;|&nbsp;&nbsp;[Multiple Samples](#solutionMultipleSamples) > < [Solution](#solution)&nbsp;&nbsp;:&nbsp;&nbsp;[``ANOVA``](#solutionANOVA)&nbsp;&nbsp;|&nbsp;&nbsp;[Flavors of Cacao](#solutionANOVAOnewayflavorsofcacao) > < [Conclusion](#conclusion) > < [References](#references) > < [Appendix](#appendix)&nbsp;&nbsp;|&nbsp;&nbsp;[Project Management](#ppmTOC) >\n",
    "***\n",
    "###### ``scipy.stats.f_oneway``\n",
    "***"
   ]
  },
  {
   "cell_type": "markdown",
   "id": "82615a59",
   "metadata": {},
   "source": [
    "- analysing example code from ``scipy.stats.f_oneway`` documentation [16]"
   ]
  },
  {
   "cell_type": "code",
   "execution_count": 144,
   "id": "7fede964",
   "metadata": {},
   "outputs": [
    {
     "name": "stdout",
     "output_type": "stream",
     "text": [
      "    >>> from scipy.stats import f_oneway\n",
      "\n",
      "    Here are some data [3]_ on a shell measurement (the length of the anterior\n",
      "    adductor muscle scar, standardized by dividing by length) in the mussel\n",
      "    Mytilus trossulus from five locations: Tillamook, Oregon; Newport, Oregon;\n",
      "    Petersburg, Alaska; Magadan, Russia; and Tvarminne, Finland, taken from a\n",
      "    much larger data set used in McDonald et al. (1991).\n",
      "\n",
      "    >>> tillamook = [0.0571, 0.0813, 0.0831, 0.0976, 0.0817, 0.0859, 0.0735,\n",
      "    ...              0.0659, 0.0923, 0.0836]\n",
      "    >>> newport = [0.0873, 0.0662, 0.0672, 0.0819, 0.0749, 0.0649, 0.0835,\n",
      "    ...            0.0725]\n",
      "    >>> petersburg = [0.0974, 0.1352, 0.0817, 0.1016, 0.0968, 0.1064, 0.105]\n",
      "    >>> magadan = [0.1033, 0.0915, 0.0781, 0.0685, 0.0677, 0.0697, 0.0764,\n",
      "    ...            0.0689]\n",
      "    >>> tvarminne = [0.0703, 0.1026, 0.0956, 0.0973, 0.1039, 0.1045]\n",
      "    >>> f_oneway(tillamook, newport, petersburg, magadan, tvarminne)\n",
      "    F_onewayResult(statistic=7.121019471642447, pvalue=0.0002812242314534544)\n"
     ]
    }
   ],
   "source": [
    "print(\"\\n\".join(ss.f_oneway.__doc__.split(\"\\n\")[78:96])) # function f_oneway example"
   ]
  },
  {
   "cell_type": "markdown",
   "id": "a6bd9205",
   "metadata": {},
   "source": [
    "<a id=\"solutionANOVAOneway\"></a>\n",
    "< [Table of Contents](#top) > < [instructions](#instructions)&nbsp;&nbsp;|&nbsp;&nbsp;[Structure](#structure) > < [Abstract](#abstract) > < [Introduction](#introduction)&nbsp;&nbsp;:&nbsp;&nbsp;[Sampling](#introductionScenario)&nbsp;&nbsp;|&nbsp;&nbsp;[``scipy.stats``](#solutionttest)&nbsp;&nbsp;|&nbsp;&nbsp;[Multiple Samples](#solutionMultipleSamples) > < [Solution](#solution)&nbsp;&nbsp;:&nbsp;&nbsp;[``ANOVA``](#solutionANOVA)&nbsp;&nbsp;|&nbsp;&nbsp;[Flavors of Cacao](#solutionANOVAOnewayflavorsofcacao) > < [Conclusion](#conclusion) > < [References](#references) > < [Appendix](#appendix)&nbsp;&nbsp;|&nbsp;&nbsp;[Project Management](#ppmTOC) >\n",
    "***\n",
    "###### One-way\n",
    "***"
   ]
  },
  {
   "cell_type": "markdown",
   "id": "b585c4c5",
   "metadata": {},
   "source": [
    "- one-way ``ANOVA`` is also known as one-factor or single-factor or single-classification ``ANOVA`` [15]"
   ]
  },
  {
   "cell_type": "markdown",
   "id": "0e48751e",
   "metadata": {},
   "source": [
    "- the technique consists of the following variables [15]:\n",
    "\n",
    "\n",
    "i. one categorical (nominal)\n",
    "\n",
    "\n",
    "- think of animal taxonomy that biologists use (such as - mammals - reptiles etc) representing categorical levels - when representing such categories using numbers then these become nominal [15][17]\n",
    "\n",
    "\n",
    "ii. one quantity (continuous or measurement)"
   ]
  },
  {
   "cell_type": "markdown",
   "id": "703de135",
   "metadata": {},
   "source": [
    "- the following five locations represent samples of the mussel Mytilus trossulus [15]"
   ]
  },
  {
   "cell_type": "markdown",
   "id": "61616d4b",
   "metadata": {},
   "source": [
    "![mytilus-trossulus](https://github.com/SeanOhAileasa/SeanOhAileasa/blob/master/rc/mls/scipy/mytilus-trossulus.png?raw=true)\n",
    "\n",
    "***G.H. McDonald, \"Handbook of Biological Statistics (One-way ANOVA)\", [biostathandbook.com](http://www.biostathandbook.com/onewayanova.html), n.d..***"
   ]
  },
  {
   "cell_type": "markdown",
   "id": "f7913d19",
   "metadata": {},
   "source": [
    "- the technique involves taking multiple observations of the quanity (shell measurement - length of the anterior adductor muscle scar standardized by dividing by length) for each value of the nominal (category - five locations) [15]"
   ]
  },
  {
   "cell_type": "markdown",
   "id": "94c7af37",
   "metadata": {},
   "source": [
    "![stattrossulus](https://github.com/SeanOhAileasa/SeanOhAileasa/blob/master/rc/mls/scipy/stattrossulus.png?raw=true)\n",
    "\n",
    "***G.H. McDonald, \"Handbook of Biological Statistics (One-way ANOVA)\", [biostathandbook.com](http://www.biostathandbook.com/onewayanova.html), n.d..***"
   ]
  },
  {
   "cell_type": "markdown",
   "id": "7c536643",
   "metadata": {},
   "source": [
    "<a id=\"solutiontfonewaySampling\"></a>\n",
    "< [Table of Contents](#top) > < [instructions](#instructions)&nbsp;&nbsp;|&nbsp;&nbsp;[Structure](#structure) > < [Abstract](#abstract) > < [Introduction](#introduction)&nbsp;&nbsp;:&nbsp;&nbsp;[Sampling](#introductionScenario)&nbsp;&nbsp;|&nbsp;&nbsp;[``scipy.stats``](#solutionttest)&nbsp;&nbsp;|&nbsp;&nbsp;[Multiple Samples](#solutionMultipleSamples) > < [Solution](#solution)&nbsp;&nbsp;:&nbsp;&nbsp;[``ANOVA``](#solutionANOVA)&nbsp;&nbsp;|&nbsp;&nbsp;[Flavors of Cacao](#solutionANOVAOnewayflavorsofcacao) > < [Conclusion](#conclusion) > < [References](#references) > < [Appendix](#appendix)&nbsp;&nbsp;|&nbsp;&nbsp;[Project Management](#ppmTOC) >\n",
    "***\n",
    "###### Sampling\n",
    "***"
   ]
  },
  {
   "cell_type": "markdown",
   "id": "c79afe57",
   "metadata": {},
   "source": [
    "- creating five $C$ each representing the five locations taken from a much larger dataset used in McDonald et al. (1991) of the shell measurements in the mussel Mytilus trossulus [15]"
   ]
  },
  {
   "cell_type": "markdown",
   "id": "caf94fb3",
   "metadata": {},
   "source": [
    "- each $C$ has six to ten observations of the measurement variable called ``AAM length`` [15]"
   ]
  },
  {
   "cell_type": "code",
   "execution_count": 145,
   "id": "cd2c0457",
   "metadata": {},
   "outputs": [],
   "source": [
    "tillamook_sample=[0.0571,0.0813,0.0831,0.0976,0.0817,0.0859,0.0735,0.0659,0.0923,0.0836]"
   ]
  },
  {
   "cell_type": "code",
   "execution_count": 146,
   "id": "c7054e23",
   "metadata": {},
   "outputs": [],
   "source": [
    "newport_sample=[0.0873,0.0662,0.0672,0.0819,0.0749,0.0649,0.0835,0.0725]"
   ]
  },
  {
   "cell_type": "code",
   "execution_count": 147,
   "id": "35dbe2b0",
   "metadata": {},
   "outputs": [],
   "source": [
    "petersburg_sample=[0.0974,0.1352,0.0817,0.1016,0.0968,0.1064,0.105]"
   ]
  },
  {
   "cell_type": "code",
   "execution_count": 148,
   "id": "cf23830c",
   "metadata": {},
   "outputs": [],
   "source": [
    "magadan_sample=[0.1033,0.0915,0.0781,0.0685,0.0677,0.0697,0.0764,0.0689]"
   ]
  },
  {
   "cell_type": "code",
   "execution_count": 149,
   "id": "b4d2ce9c",
   "metadata": {},
   "outputs": [],
   "source": [
    "tvarminne_sample=[0.0703,0.1026,0.0956,0.0973,0.1039,0.1045]"
   ]
  },
  {
   "cell_type": "markdown",
   "id": "e6041734",
   "metadata": {},
   "source": [
    "- creating a DataFrame (data structure) built from each $C$ [2][16]"
   ]
  },
  {
   "cell_type": "code",
   "execution_count": 150,
   "id": "61792202",
   "metadata": {},
   "outputs": [],
   "source": [
    "dfFoolishMussel=pd.DataFrame(data={\n",
    "    \"Location\":[\"Tillamook\"]*len(tillamook_sample)+[\"Newport\"]*len(newport_sample)+[\"Petersburg\"]*len(petersburg_sample)+[\"Magadan\"]*len(magadan_sample)+[\"Tvarminne\"]*len(tvarminne_sample),\n",
    "    \"AAM length\":np.hstack([tillamook_sample,newport_sample,petersburg_sample,magadan_sample,tvarminne_sample])})"
   ]
  },
  {
   "cell_type": "code",
   "execution_count": 151,
   "id": "2345e349",
   "metadata": {},
   "outputs": [
    {
     "data": {
      "text/html": [
       "<div>\n",
       "<style scoped>\n",
       "    .dataframe tbody tr th:only-of-type {\n",
       "        vertical-align: middle;\n",
       "    }\n",
       "\n",
       "    .dataframe tbody tr th {\n",
       "        vertical-align: top;\n",
       "    }\n",
       "\n",
       "    .dataframe thead th {\n",
       "        text-align: right;\n",
       "    }\n",
       "</style>\n",
       "<table border=\"1\" class=\"dataframe\">\n",
       "  <thead>\n",
       "    <tr style=\"text-align: right;\">\n",
       "      <th></th>\n",
       "      <th>Location</th>\n",
       "      <th>AAM length</th>\n",
       "    </tr>\n",
       "  </thead>\n",
       "  <tbody>\n",
       "    <tr>\n",
       "      <th>0</th>\n",
       "      <td>Tillamook</td>\n",
       "      <td>0.0571</td>\n",
       "    </tr>\n",
       "    <tr>\n",
       "      <th>1</th>\n",
       "      <td>Tillamook</td>\n",
       "      <td>0.0813</td>\n",
       "    </tr>\n",
       "    <tr>\n",
       "      <th>2</th>\n",
       "      <td>Tillamook</td>\n",
       "      <td>0.0831</td>\n",
       "    </tr>\n",
       "    <tr>\n",
       "      <th>3</th>\n",
       "      <td>Tillamook</td>\n",
       "      <td>0.0976</td>\n",
       "    </tr>\n",
       "    <tr>\n",
       "      <th>4</th>\n",
       "      <td>Tillamook</td>\n",
       "      <td>0.0817</td>\n",
       "    </tr>\n",
       "    <tr>\n",
       "      <th>5</th>\n",
       "      <td>Tillamook</td>\n",
       "      <td>0.0859</td>\n",
       "    </tr>\n",
       "    <tr>\n",
       "      <th>6</th>\n",
       "      <td>Tillamook</td>\n",
       "      <td>0.0735</td>\n",
       "    </tr>\n",
       "    <tr>\n",
       "      <th>7</th>\n",
       "      <td>Tillamook</td>\n",
       "      <td>0.0659</td>\n",
       "    </tr>\n",
       "    <tr>\n",
       "      <th>8</th>\n",
       "      <td>Tillamook</td>\n",
       "      <td>0.0923</td>\n",
       "    </tr>\n",
       "    <tr>\n",
       "      <th>9</th>\n",
       "      <td>Tillamook</td>\n",
       "      <td>0.0836</td>\n",
       "    </tr>\n",
       "    <tr>\n",
       "      <th>10</th>\n",
       "      <td>Newport</td>\n",
       "      <td>0.0873</td>\n",
       "    </tr>\n",
       "    <tr>\n",
       "      <th>11</th>\n",
       "      <td>Newport</td>\n",
       "      <td>0.0662</td>\n",
       "    </tr>\n",
       "    <tr>\n",
       "      <th>12</th>\n",
       "      <td>Newport</td>\n",
       "      <td>0.0672</td>\n",
       "    </tr>\n",
       "    <tr>\n",
       "      <th>13</th>\n",
       "      <td>Newport</td>\n",
       "      <td>0.0819</td>\n",
       "    </tr>\n",
       "    <tr>\n",
       "      <th>14</th>\n",
       "      <td>Newport</td>\n",
       "      <td>0.0749</td>\n",
       "    </tr>\n",
       "    <tr>\n",
       "      <th>15</th>\n",
       "      <td>Newport</td>\n",
       "      <td>0.0649</td>\n",
       "    </tr>\n",
       "    <tr>\n",
       "      <th>16</th>\n",
       "      <td>Newport</td>\n",
       "      <td>0.0835</td>\n",
       "    </tr>\n",
       "    <tr>\n",
       "      <th>17</th>\n",
       "      <td>Newport</td>\n",
       "      <td>0.0725</td>\n",
       "    </tr>\n",
       "    <tr>\n",
       "      <th>18</th>\n",
       "      <td>Petersburg</td>\n",
       "      <td>0.0974</td>\n",
       "    </tr>\n",
       "    <tr>\n",
       "      <th>19</th>\n",
       "      <td>Petersburg</td>\n",
       "      <td>0.1352</td>\n",
       "    </tr>\n",
       "    <tr>\n",
       "      <th>20</th>\n",
       "      <td>Petersburg</td>\n",
       "      <td>0.0817</td>\n",
       "    </tr>\n",
       "    <tr>\n",
       "      <th>21</th>\n",
       "      <td>Petersburg</td>\n",
       "      <td>0.1016</td>\n",
       "    </tr>\n",
       "    <tr>\n",
       "      <th>22</th>\n",
       "      <td>Petersburg</td>\n",
       "      <td>0.0968</td>\n",
       "    </tr>\n",
       "    <tr>\n",
       "      <th>23</th>\n",
       "      <td>Petersburg</td>\n",
       "      <td>0.1064</td>\n",
       "    </tr>\n",
       "    <tr>\n",
       "      <th>24</th>\n",
       "      <td>Petersburg</td>\n",
       "      <td>0.1050</td>\n",
       "    </tr>\n",
       "    <tr>\n",
       "      <th>25</th>\n",
       "      <td>Magadan</td>\n",
       "      <td>0.1033</td>\n",
       "    </tr>\n",
       "    <tr>\n",
       "      <th>26</th>\n",
       "      <td>Magadan</td>\n",
       "      <td>0.0915</td>\n",
       "    </tr>\n",
       "    <tr>\n",
       "      <th>27</th>\n",
       "      <td>Magadan</td>\n",
       "      <td>0.0781</td>\n",
       "    </tr>\n",
       "    <tr>\n",
       "      <th>28</th>\n",
       "      <td>Magadan</td>\n",
       "      <td>0.0685</td>\n",
       "    </tr>\n",
       "    <tr>\n",
       "      <th>29</th>\n",
       "      <td>Magadan</td>\n",
       "      <td>0.0677</td>\n",
       "    </tr>\n",
       "    <tr>\n",
       "      <th>30</th>\n",
       "      <td>Magadan</td>\n",
       "      <td>0.0697</td>\n",
       "    </tr>\n",
       "    <tr>\n",
       "      <th>31</th>\n",
       "      <td>Magadan</td>\n",
       "      <td>0.0764</td>\n",
       "    </tr>\n",
       "    <tr>\n",
       "      <th>32</th>\n",
       "      <td>Magadan</td>\n",
       "      <td>0.0689</td>\n",
       "    </tr>\n",
       "    <tr>\n",
       "      <th>33</th>\n",
       "      <td>Tvarminne</td>\n",
       "      <td>0.0703</td>\n",
       "    </tr>\n",
       "    <tr>\n",
       "      <th>34</th>\n",
       "      <td>Tvarminne</td>\n",
       "      <td>0.1026</td>\n",
       "    </tr>\n",
       "    <tr>\n",
       "      <th>35</th>\n",
       "      <td>Tvarminne</td>\n",
       "      <td>0.0956</td>\n",
       "    </tr>\n",
       "    <tr>\n",
       "      <th>36</th>\n",
       "      <td>Tvarminne</td>\n",
       "      <td>0.0973</td>\n",
       "    </tr>\n",
       "    <tr>\n",
       "      <th>37</th>\n",
       "      <td>Tvarminne</td>\n",
       "      <td>0.1039</td>\n",
       "    </tr>\n",
       "    <tr>\n",
       "      <th>38</th>\n",
       "      <td>Tvarminne</td>\n",
       "      <td>0.1045</td>\n",
       "    </tr>\n",
       "  </tbody>\n",
       "</table>\n",
       "</div>"
      ],
      "text/plain": [
       "      Location  AAM length\n",
       "0    Tillamook      0.0571\n",
       "1    Tillamook      0.0813\n",
       "2    Tillamook      0.0831\n",
       "3    Tillamook      0.0976\n",
       "4    Tillamook      0.0817\n",
       "5    Tillamook      0.0859\n",
       "6    Tillamook      0.0735\n",
       "7    Tillamook      0.0659\n",
       "8    Tillamook      0.0923\n",
       "9    Tillamook      0.0836\n",
       "10     Newport      0.0873\n",
       "11     Newport      0.0662\n",
       "12     Newport      0.0672\n",
       "13     Newport      0.0819\n",
       "14     Newport      0.0749\n",
       "15     Newport      0.0649\n",
       "16     Newport      0.0835\n",
       "17     Newport      0.0725\n",
       "18  Petersburg      0.0974\n",
       "19  Petersburg      0.1352\n",
       "20  Petersburg      0.0817\n",
       "21  Petersburg      0.1016\n",
       "22  Petersburg      0.0968\n",
       "23  Petersburg      0.1064\n",
       "24  Petersburg      0.1050\n",
       "25     Magadan      0.1033\n",
       "26     Magadan      0.0915\n",
       "27     Magadan      0.0781\n",
       "28     Magadan      0.0685\n",
       "29     Magadan      0.0677\n",
       "30     Magadan      0.0697\n",
       "31     Magadan      0.0764\n",
       "32     Magadan      0.0689\n",
       "33   Tvarminne      0.0703\n",
       "34   Tvarminne      0.1026\n",
       "35   Tvarminne      0.0956\n",
       "36   Tvarminne      0.0973\n",
       "37   Tvarminne      0.1039\n",
       "38   Tvarminne      0.1045"
      ]
     },
     "execution_count": 151,
     "metadata": {},
     "output_type": "execute_result"
    }
   ],
   "source": [
    "dfFoolishMussel"
   ]
  },
  {
   "cell_type": "markdown",
   "id": "f8842d53",
   "metadata": {},
   "source": [
    "<a id=\"solutiontfonewaySamplingVisualisation\"></a>\n",
    "< [Table of Contents](#top) > < [instructions](#instructions)&nbsp;&nbsp;|&nbsp;&nbsp;[Structure](#structure) > < [Abstract](#abstract) > < [Introduction](#introduction)&nbsp;&nbsp;:&nbsp;&nbsp;[Sampling](#introductionScenario)&nbsp;&nbsp;|&nbsp;&nbsp;[``scipy.stats``](#solutionttest)&nbsp;&nbsp;|&nbsp;&nbsp;[Multiple Samples](#solutionMultipleSamples) > < [Solution](#solution)&nbsp;&nbsp;:&nbsp;&nbsp;[``ANOVA``](#solutionANOVA)&nbsp;&nbsp;|&nbsp;&nbsp;[Flavors of Cacao](#solutionANOVAOnewayflavorsofcacao) > < [Conclusion](#conclusion) > < [References](#references) > < [Appendix](#appendix)&nbsp;&nbsp;|&nbsp;&nbsp;[Project Management](#ppmTOC) >\n",
    "***\n",
    "###### Visualisation\n",
    "***"
   ]
  },
  {
   "cell_type": "code",
   "execution_count": 152,
   "id": "e82e2fb2",
   "metadata": {},
   "outputs": [
    {
     "name": "stdout",
     "output_type": "stream",
     "text": [
      "Draw a box plot to show distributions with respect to categories.\n",
      "\n",
      "A box plot (or box-and-whisker plot) shows the distribution of quantitative\n",
      "data in a way that facilitates comparisons between variables or across\n",
      "levels of a categorical variable. The box shows the quartiles of the\n",
      "dataset while the whiskers extend to show the rest of the distribution,\n",
      "except for points that are determined to be \"outliers\" using a method\n",
      "that is a function of the inter-quartile range.\n"
     ]
    }
   ],
   "source": [
    "print(\"\\n\".join(sns.boxplot.__doc__.split(\"\\n\")[:8])) # function boxplot overview"
   ]
  },
  {
   "cell_type": "code",
   "execution_count": 153,
   "id": "083c95a5",
   "metadata": {},
   "outputs": [
    {
     "name": "stdout",
     "output_type": "stream",
     "text": [
      "A swarm plot can be drawn on its own, but it is also a good complement\n",
      "to a box or violin plot in cases where you want to show all observations\n",
      "along with some representation of the underlying distribution.\n"
     ]
    }
   ],
   "source": [
    "print(\"\\n\".join(sns.swarmplot.__doc__.split(\"\\n\")[8:11])) # function swarmplot overview"
   ]
  },
  {
   "cell_type": "markdown",
   "id": "fdfe41af",
   "metadata": {},
   "source": [
    "- the box plot includes the actual data points [16]"
   ]
  },
  {
   "cell_type": "markdown",
   "id": "a96c9463",
   "metadata": {},
   "source": [
    "- Peterburg is cluster closely albeit has two outliners [16] "
   ]
  },
  {
   "cell_type": "code",
   "execution_count": 154,
   "id": "fc9a4304",
   "metadata": {},
   "outputs": [
    {
     "data": {
      "image/png": "[encoded data removed]",
      "text/plain": [
       "<Figure size 921.6x518.4 with 1 Axes>"
      ]
     },
     "metadata": {},
     "output_type": "display_data"
    }
   ],
   "source": [
    "fig,ax=plt.subplots()\n",
    "sns.boxplot(x=\"Location\",y=\"AAM length\",data=dfFoolishMussel,ax=ax,color=\"aqua\",linewidth=4) # location of mussel\n",
    "sns.swarmplot(x=\"Location\",y=\"AAM length\",data=dfFoolishMussel,ax=ax,color=\"red\",alpha=0.9,size=12); # actual data points"
   ]
  },
  {
   "cell_type": "code",
   "execution_count": 155,
   "id": "b7f8ac11",
   "metadata": {
    "scrolled": false
   },
   "outputs": [
    {
     "name": "stdout",
     "output_type": "stream",
     "text": [
      "Draw a combination of boxplot and kernel density estimate.\n",
      "\n",
      "A violin plot plays a similar role as a box and whisker plot. It shows the\n",
      "distribution of quantitative data across several levels of one (or more)\n",
      "categorical variables such that those distributions can be compared. Unlike\n",
      "a box plot, in which all of the plot components correspond to actual\n",
      "datapoints, the violin plot features a kernel density estimation of the\n",
      "underlying distribution.\n",
      "\n",
      "This can be an effective and attractive way to show multiple distributions\n",
      "of data at once, but keep in mind that the estimation procedure is\n",
      "influenced by the sample size, and violins for relatively small samples\n",
      "might look misleadingly smooth.\n"
     ]
    }
   ],
   "source": [
    "print(\"\\n\".join(sns.violinplot.__doc__.split(\"\\n\")[:13])) # function violinplot overview"
   ]
  },
  {
   "cell_type": "markdown",
   "id": "e17d14c9",
   "metadata": {},
   "source": [
    "- the violin plot show how the data points are formed (emphasising location) [16]"
   ]
  },
  {
   "cell_type": "code",
   "execution_count": 156,
   "id": "aaed4fd5",
   "metadata": {},
   "outputs": [
    {
     "data": {
      "image/png": "[encoded data removed]",
      "text/plain": [
       "<Figure size 921.6x518.4 with 1 Axes>"
      ]
     },
     "metadata": {},
     "output_type": "display_data"
    }
   ],
   "source": [
    "fig,ax=plt.subplots()\n",
    "sns.violinplot(x=\"Location\",y=\"AAM length\",data=dfFoolishMussel,ax=ax,color=\"aqua\",\n",
    "               inner=\"quartile\", # mean and quariles\n",
    "               bw=.3) # smoothing to use\n",
    "sns.swarmplot(x=\"Location\",y=\"AAM length\",data=dfFoolishMussel,ax=ax,color=\"red\",alpha=0.9,size=12); # note location Petersburg"
   ]
  },
  {
   "cell_type": "markdown",
   "id": "0d33150e",
   "metadata": {},
   "source": [
    "<a id=\"solutiontfonewayHypothesis\"></a>\n",
    "< [Table of Contents](#top) > < [instructions](#instructions)&nbsp;&nbsp;|&nbsp;&nbsp;[Structure](#structure) > < [Abstract](#abstract) > < [Introduction](#introduction)&nbsp;&nbsp;:&nbsp;&nbsp;[Sampling](#introductionScenario)&nbsp;&nbsp;|&nbsp;&nbsp;[``scipy.stats``](#solutionttest)&nbsp;&nbsp;|&nbsp;&nbsp;[Multiple Samples](#solutionMultipleSamples) > < [Solution](#solution)&nbsp;&nbsp;:&nbsp;&nbsp;[``ANOVA``](#solutionANOVA)&nbsp;&nbsp;|&nbsp;&nbsp;[Flavors of Cacao](#solutionANOVAOnewayflavorsofcacao) > < [Conclusion](#conclusion) > < [References](#references) > < [Appendix](#appendix)&nbsp;&nbsp;|&nbsp;&nbsp;[Project Management](#ppmTOC) >\n",
    "***\n",
    "###### Hypothesis\n",
    "***"
   ]
  },
  {
   "cell_type": "markdown",
   "id": "25bbf8b6",
   "metadata": {},
   "source": [
    "- the $H_0$ is that the means of the measurement variable ``AAM lengths`` are the same for each location (category) [15]"
   ]
  },
  {
   "cell_type": "markdown",
   "id": "201b168c",
   "metadata": {},
   "source": [
    "- the $H_1$ is that means of the measurement variable ``AAM lengths`` are not all the same for each location [15]"
   ]
  },
  {
   "cell_type": "markdown",
   "id": "7c5cf42e",
   "metadata": {},
   "source": [
    "<a id=\"solutionfonewaynull\"></a>\n",
    "< [Table of Contents](#top) > < [instructions](#instructions)&nbsp;&nbsp;|&nbsp;&nbsp;[Structure](#structure) > < [Abstract](#abstract) > < [Introduction](#introduction)&nbsp;&nbsp;:&nbsp;&nbsp;[Sampling](#introductionScenario)&nbsp;&nbsp;|&nbsp;&nbsp;[``scipy.stats``](#solutionttest)&nbsp;&nbsp;|&nbsp;&nbsp;[Multiple Samples](#solutionMultipleSamples) > < [Solution](#solution)&nbsp;&nbsp;:&nbsp;&nbsp;[``ANOVA``](#solutionANOVA)&nbsp;&nbsp;|&nbsp;&nbsp;[Flavors of Cacao](#solutionANOVAOnewayflavorsofcacao) > < [Conclusion](#conclusion) > < [References](#references) > < [Appendix](#appendix)&nbsp;&nbsp;|&nbsp;&nbsp;[Project Management](#ppmTOC) >\n",
    "***\n",
    "###### $H_0$\n",
    "***"
   ]
  },
  {
   "cell_type": "markdown",
   "id": "5cafe148",
   "metadata": {},
   "source": [
    "$$H_0:\\mu_{(Tillamook)}=\\mu_{(Newport)}=\\mu_{(Petersburg)}=\\mu_{(Magadan)}=\\mu_{(Tvarminne)}\\tag{7}$$"
   ]
  },
  {
   "cell_type": "markdown",
   "id": "4f7de786",
   "metadata": {},
   "source": [
    "<a id=\"solutionfonewaynullalternative\"></a>\n",
    "< [Table of Contents](#top) > < [instructions](#instructions)&nbsp;&nbsp;|&nbsp;&nbsp;[Structure](#structure) > < [Abstract](#abstract) > < [Introduction](#introduction)&nbsp;&nbsp;:&nbsp;&nbsp;[Sampling](#introductionScenario)&nbsp;&nbsp;|&nbsp;&nbsp;[``scipy.stats``](#solutionttest)&nbsp;&nbsp;|&nbsp;&nbsp;[Multiple Samples](#solutionMultipleSamples) > < [Solution](#solution)&nbsp;&nbsp;:&nbsp;&nbsp;[``ANOVA``](#solutionANOVA)&nbsp;&nbsp;|&nbsp;&nbsp;[Flavors of Cacao](#solutionANOVAOnewayflavorsofcacao) > < [Conclusion](#conclusion) > < [References](#references) > < [Appendix](#appendix)&nbsp;&nbsp;|&nbsp;&nbsp;[Project Management](#ppmTOC) >\n",
    "***\n",
    "###### $H_1$\n",
    "***"
   ]
  },
  {
   "cell_type": "markdown",
   "id": "0d6a0fa3",
   "metadata": {},
   "source": [
    "$$At\\space least\\space one\\space pair\\space of\\space \\mu\\space AAM\\space length\\space is\\space not\\space equal.$$"
   ]
  },
  {
   "cell_type": "markdown",
   "id": "92c1592e",
   "metadata": {},
   "source": [
    "<hr width=50%;>"
   ]
  },
  {
   "cell_type": "markdown",
   "id": "2703685b",
   "metadata": {},
   "source": [
    "<a id=\"solutiontfonewaySamplingVisualisationANOVA\"></a>\n",
    "< [Table of Contents](#top) > < [instructions](#instructions)&nbsp;&nbsp;|&nbsp;&nbsp;[Structure](#structure) > < [Abstract](#abstract) > < [Introduction](#introduction)&nbsp;&nbsp;:&nbsp;&nbsp;[Sampling](#introductionScenario)&nbsp;&nbsp;|&nbsp;&nbsp;[``scipy.stats``](#solutionttest)&nbsp;&nbsp;|&nbsp;&nbsp;[Multiple Samples](#solutionMultipleSamples) > < [Solution](#solution)&nbsp;&nbsp;:&nbsp;&nbsp;[``ANOVA``](#solutionANOVA)&nbsp;&nbsp;|&nbsp;&nbsp;[Flavors of Cacao](#solutionANOVAOnewayflavorsofcacao) > < [Conclusion](#conclusion) > < [References](#references) > < [Appendix](#appendix)&nbsp;&nbsp;|&nbsp;&nbsp;[Project Management](#ppmTOC) >\n",
    "***\n",
    "###### ``ANOVA``\n",
    "***"
   ]
  },
  {
   "cell_type": "code",
   "execution_count": 157,
   "id": "3c9588ec",
   "metadata": {},
   "outputs": [
    {
     "data": {
      "text/plain": [
       "<function scipy.stats.stats.f_oneway(*args, axis=0)>"
      ]
     },
     "execution_count": 157,
     "metadata": {},
     "output_type": "execute_result"
    }
   ],
   "source": [
    "ss.f_oneway # function f_oneway signature"
   ]
  },
  {
   "cell_type": "markdown",
   "id": "54c3532a",
   "metadata": {},
   "source": [
    "- passing $C$ in the function ``f_oneway`` [16] "
   ]
  },
  {
   "cell_type": "code",
   "execution_count": 158,
   "id": "a4311a7c",
   "metadata": {},
   "outputs": [],
   "source": [
    "f_av_ss,p_av_ss=ss.f_oneway(tillamook_sample,newport_sample,petersburg_sample,magadan_sample,tvarminne_sample) # return statistic pvalue"
   ]
  },
  {
   "cell_type": "markdown",
   "id": "f870e479",
   "metadata": {},
   "source": [
    "- the calculation returns:"
   ]
  },
  {
   "cell_type": "markdown",
   "id": "4215d609",
   "metadata": {},
   "source": [
    "i.) the ``f-statistic`` (does not have much meaning independently) [7][16]"
   ]
  },
  {
   "cell_type": "code",
   "execution_count": 159,
   "id": "1c406d75",
   "metadata": {
    "scrolled": false
   },
   "outputs": [
    {
     "name": "stdout",
     "output_type": "stream",
     "text": [
      "    statistic : float\n",
      "        The computed F statistic of the test.\n"
     ]
    }
   ],
   "source": [
    "print(\"\\n\".join(ss.f_oneway.__doc__.split(\"\\n\")[19:21])) # return statistic overview"
   ]
  },
  {
   "cell_type": "code",
   "execution_count": 160,
   "id": "00677799",
   "metadata": {},
   "outputs": [
    {
     "data": {
      "text/plain": [
       "7.121019471642447"
      ]
     },
     "execution_count": 160,
     "metadata": {},
     "output_type": "execute_result"
    }
   ],
   "source": [
    "f_av_ss"
   ]
  },
  {
   "cell_type": "markdown",
   "id": "63d61df5",
   "metadata": {},
   "source": [
    "ii. the ``p-value`` associated with the ``f-statistic`` [7][16]"
   ]
  },
  {
   "cell_type": "code",
   "execution_count": 161,
   "id": "58683a95",
   "metadata": {},
   "outputs": [
    {
     "name": "stdout",
     "output_type": "stream",
     "text": [
      "    pvalue : float\n",
      "        The associated p-value from the F distribution.\n"
     ]
    }
   ],
   "source": [
    "print(\"\\n\".join(ss.f_oneway.__doc__.split(\"\\n\")[21:23])) # return p-value overview"
   ]
  },
  {
   "cell_type": "code",
   "execution_count": 162,
   "id": "61a5f1e2",
   "metadata": {},
   "outputs": [
    {
     "data": {
      "text/plain": [
       "0.0002812242314534544"
      ]
     },
     "execution_count": 162,
     "metadata": {},
     "output_type": "execute_result"
    }
   ],
   "source": [
    "p_av_ss"
   ]
  },
  {
   "cell_type": "markdown",
   "id": "c0bc2ffc",
   "metadata": {},
   "source": [
    "- using the same ``p-value`` cutoff of $0.05$ meaning there is a $5\\$ chance of making the wrong decision therefore determine there is a significant difference [4]"
   ]
  },
  {
   "cell_type": "markdown",
   "id": "8e146a80",
   "metadata": {},
   "source": [
    "- the ``ANOVA`` is suggesting there is almost a $0\\%$ chance (zero probability) of observing $C$ sample values with populations of the same $\\mu$ therefore rejecting the $H_0$ ``(Eq. (7))`` [4][7][10][16] "
   ]
  },
  {
   "cell_type": "code",
   "execution_count": 163,
   "id": "5a0446a8",
   "metadata": {},
   "outputs": [
    {
     "name": "stdout",
     "output_type": "stream",
     "text": [
      "0.00\n"
     ]
    }
   ],
   "source": [
    "print(f\"{p_av_ss:.02f}\") # round second decimal"
   ]
  },
  {
   "cell_type": "markdown",
   "id": "127cf101",
   "metadata": {},
   "source": [
    "<a id=\"solutiontfonewaySamplingVisualisationANOVAOrigination\"></a>\n",
    "< [Table of Contents](#top) > < [instructions](#instructions)&nbsp;&nbsp;|&nbsp;&nbsp;[Structure](#structure) > < [Abstract](#abstract) > < [Introduction](#introduction)&nbsp;&nbsp;:&nbsp;&nbsp;[Sampling](#introductionScenario)&nbsp;&nbsp;|&nbsp;&nbsp;[``scipy.stats``](#solutionttest)&nbsp;&nbsp;|&nbsp;&nbsp;[Multiple Samples](#solutionMultipleSamples) > < [Solution](#solution)&nbsp;&nbsp;:&nbsp;&nbsp;[``ANOVA``](#solutionANOVA)&nbsp;&nbsp;|&nbsp;&nbsp;[Flavors of Cacao](#solutionANOVAOnewayflavorsofcacao) > < [Conclusion](#conclusion) > < [References](#references) > < [Appendix](#appendix)&nbsp;&nbsp;|&nbsp;&nbsp;[Project Management](#ppmTOC) >\n",
    "***\n",
    "###### Statistic\n",
    "***"
   ]
  },
  {
   "cell_type": "code",
   "execution_count": 164,
   "id": "b7b687d2",
   "metadata": {},
   "outputs": [
    {
     "data": {
      "text/plain": [
       "[[0.0571,\n",
       "  0.0813,\n",
       "  0.0831,\n",
       "  0.0976,\n",
       "  0.0817,\n",
       "  0.0859,\n",
       "  0.0735,\n",
       "  0.0659,\n",
       "  0.0923,\n",
       "  0.0836],\n",
       " [0.0873, 0.0662, 0.0672, 0.0819, 0.0749, 0.0649, 0.0835, 0.0725],\n",
       " [0.0974, 0.1352, 0.0817, 0.1016, 0.0968, 0.1064, 0.105],\n",
       " [0.1033, 0.0915, 0.0781, 0.0685, 0.0677, 0.0697, 0.0764, 0.0689],\n",
       " [0.0703, 0.1026, 0.0956, 0.0973, 0.1039, 0.1045]]"
      ]
     },
     "execution_count": 164,
     "metadata": {},
     "output_type": "execute_result"
    }
   ],
   "source": [
    "e=[tillamook_sample,newport_sample,petersburg_sample,magadan_sample,tvarminne_sample] # experiment with samples\n",
    "e"
   ]
  },
  {
   "cell_type": "code",
   "execution_count": 165,
   "id": "8b63bc8a",
   "metadata": {},
   "outputs": [
    {
     "data": {
      "text/plain": [
       "[0.0571,\n",
       " 0.0813,\n",
       " 0.0831,\n",
       " 0.0976,\n",
       " 0.0817,\n",
       " 0.0859,\n",
       " 0.0735,\n",
       " 0.0659,\n",
       " 0.0923,\n",
       " 0.0836]"
      ]
     },
     "execution_count": 165,
     "metadata": {},
     "output_type": "execute_result"
    }
   ],
   "source": [
    "y_1=e[0] # first experiment collection\n",
    "y_1"
   ]
  },
  {
   "cell_type": "code",
   "execution_count": 166,
   "id": "c9d6ba39",
   "metadata": {},
   "outputs": [
    {
     "data": {
      "text/plain": [
       "[0.0873, 0.0662, 0.0672, 0.0819, 0.0749, 0.0649, 0.0835, 0.0725]"
      ]
     },
     "execution_count": 166,
     "metadata": {},
     "output_type": "execute_result"
    }
   ],
   "source": [
    "y_2=e[1] # second experiment collection\n",
    "y_2"
   ]
  },
  {
   "cell_type": "code",
   "execution_count": 167,
   "id": "e406d694",
   "metadata": {},
   "outputs": [
    {
     "data": {
      "text/plain": [
       "[0.0974, 0.1352, 0.0817, 0.1016, 0.0968, 0.1064, 0.105]"
      ]
     },
     "execution_count": 167,
     "metadata": {},
     "output_type": "execute_result"
    }
   ],
   "source": [
    "y_3=e[2] # third experiment collection\n",
    "y_3"
   ]
  },
  {
   "cell_type": "code",
   "execution_count": 168,
   "id": "eb5ecd20",
   "metadata": {},
   "outputs": [
    {
     "data": {
      "text/plain": [
       "[0.1033, 0.0915, 0.0781, 0.0685, 0.0677, 0.0697, 0.0764, 0.0689]"
      ]
     },
     "execution_count": 168,
     "metadata": {},
     "output_type": "execute_result"
    }
   ],
   "source": [
    "y_4=e[3] # fourth experiment collection\n",
    "y_4"
   ]
  },
  {
   "cell_type": "code",
   "execution_count": 169,
   "id": "6a593c24",
   "metadata": {},
   "outputs": [
    {
     "data": {
      "text/plain": [
       "[0.0703, 0.1026, 0.0956, 0.0973, 0.1039, 0.1045]"
      ]
     },
     "execution_count": 169,
     "metadata": {},
     "output_type": "execute_result"
    }
   ],
   "source": [
    "y_5=e[4] # fourth experiment collection\n",
    "y_5"
   ]
  },
  {
   "cell_type": "code",
   "execution_count": 170,
   "id": "e89abd47",
   "metadata": {},
   "outputs": [
    {
     "data": {
      "text/plain": [
       "5"
      ]
     },
     "execution_count": 170,
     "metadata": {},
     "output_type": "execute_result"
    }
   ],
   "source": [
    "a=len(e) # number of collections\n",
    "a"
   ]
  },
  {
   "cell_type": "code",
   "execution_count": 171,
   "id": "78cc2453",
   "metadata": {},
   "outputs": [
    {
     "data": {
      "text/plain": [
       "10"
      ]
     },
     "execution_count": 171,
     "metadata": {},
     "output_type": "execute_result"
    }
   ],
   "source": [
    "n_y_1=len(y_1) # total values y_1\n",
    "n_y_1"
   ]
  },
  {
   "cell_type": "code",
   "execution_count": 172,
   "id": "2d592171",
   "metadata": {},
   "outputs": [
    {
     "data": {
      "text/plain": [
       "8"
      ]
     },
     "execution_count": 172,
     "metadata": {},
     "output_type": "execute_result"
    }
   ],
   "source": [
    "n_y_2=len(y_2) # total values y_2\n",
    "n_y_2"
   ]
  },
  {
   "cell_type": "code",
   "execution_count": 173,
   "id": "696ee056",
   "metadata": {},
   "outputs": [
    {
     "data": {
      "text/plain": [
       "7"
      ]
     },
     "execution_count": 173,
     "metadata": {},
     "output_type": "execute_result"
    }
   ],
   "source": [
    "n_y_3=len(y_3) # total values y_3\n",
    "n_y_3"
   ]
  },
  {
   "cell_type": "code",
   "execution_count": 174,
   "id": "66f3d48b",
   "metadata": {},
   "outputs": [
    {
     "data": {
      "text/plain": [
       "8"
      ]
     },
     "execution_count": 174,
     "metadata": {},
     "output_type": "execute_result"
    }
   ],
   "source": [
    "n_y_4=len(y_4) # total values y_4\n",
    "n_y_4"
   ]
  },
  {
   "cell_type": "code",
   "execution_count": 175,
   "id": "5e73af29",
   "metadata": {},
   "outputs": [
    {
     "data": {
      "text/plain": [
       "6"
      ]
     },
     "execution_count": 175,
     "metadata": {},
     "output_type": "execute_result"
    }
   ],
   "source": [
    "n_y_5=len(y_5) # total values y_5\n",
    "n_y_5"
   ]
  },
  {
   "cell_type": "markdown",
   "id": "8e7da52a",
   "metadata": {},
   "source": [
    "- calculating the $\\mu$ within each group [15] "
   ]
  },
  {
   "cell_type": "code",
   "execution_count": 176,
   "id": "fec6a3ca",
   "metadata": {},
   "outputs": [
    {
     "data": {
      "text/plain": [
       "0.0802"
      ]
     },
     "execution_count": 176,
     "metadata": {},
     "output_type": "execute_result"
    }
   ],
   "source": [
    "y_1_m=sum(y_1)/n_y_1 # mean collection y_1\n",
    "y_1_m"
   ]
  },
  {
   "cell_type": "code",
   "execution_count": 177,
   "id": "8fce5d22",
   "metadata": {},
   "outputs": [
    {
     "data": {
      "text/plain": [
       "0.07479999999999999"
      ]
     },
     "execution_count": 177,
     "metadata": {},
     "output_type": "execute_result"
    }
   ],
   "source": [
    "y_2_m=sum(y_2)/n_y_2 # mean collection y_2\n",
    "y_2_m"
   ]
  },
  {
   "cell_type": "code",
   "execution_count": 178,
   "id": "644a8257",
   "metadata": {},
   "outputs": [
    {
     "data": {
      "text/plain": [
       "0.10344285714285714"
      ]
     },
     "execution_count": 178,
     "metadata": {},
     "output_type": "execute_result"
    }
   ],
   "source": [
    "y_3_m=sum(y_3)/n_y_3 # mean collection y_3\n",
    "y_3_m"
   ]
  },
  {
   "cell_type": "code",
   "execution_count": 179,
   "id": "2131725a",
   "metadata": {},
   "outputs": [
    {
     "data": {
      "text/plain": [
       "0.0780125"
      ]
     },
     "execution_count": 179,
     "metadata": {},
     "output_type": "execute_result"
    }
   ],
   "source": [
    "y_4_m=sum(y_4)/n_y_4 # mean collection y_4\n",
    "y_4_m"
   ]
  },
  {
   "cell_type": "code",
   "execution_count": 180,
   "id": "90831ea6",
   "metadata": {},
   "outputs": [
    {
     "data": {
      "text/plain": [
       "0.09570000000000001"
      ]
     },
     "execution_count": 180,
     "metadata": {},
     "output_type": "execute_result"
    }
   ],
   "source": [
    "y_5_m=sum(y_5)/n_y_5 # mean collection y_5\n",
    "y_5_m"
   ]
  },
  {
   "cell_type": "markdown",
   "id": "aad3b40a",
   "metadata": {},
   "source": [
    "- calculating the overall mean [15] "
   ]
  },
  {
   "cell_type": "code",
   "execution_count": 181,
   "id": "a446aa02",
   "metadata": {},
   "outputs": [
    {
     "data": {
      "text/plain": [
       "0.08643107142857141"
      ]
     },
     "execution_count": 181,
     "metadata": {},
     "output_type": "execute_result"
    }
   ],
   "source": [
    "y=(y_1_m+y_2_m+y_3_m+y_4_m+y_5_m)/a # mean all collection\n",
    "y"
   ]
  },
  {
   "cell_type": "markdown",
   "id": "0ea09d18",
   "metadata": {},
   "source": [
    "- Calculating the sum of squared differences among the groups [15]"
   ]
  },
  {
   "cell_type": "code",
   "execution_count": 182,
   "id": "a74ecb22",
   "metadata": {},
   "outputs": [
    {
     "data": {
      "text/plain": [
       "0.00457878004477041"
      ]
     },
     "execution_count": 182,
     "metadata": {},
     "output_type": "execute_result"
    }
   ],
   "source": [
    "s_b=(n_y_1*(y_1_m-y)**2)+(n_y_2*(y_2_m-y)**2)+(n_y_3*(y_3_m-y)**2)+(n_y_4*(y_4_m-y)**2)+(n_y_5*(y_5_m-y)**2) # sum squared between\n",
    "s_b"
   ]
  },
  {
   "cell_type": "code",
   "execution_count": 183,
   "id": "4ad65c8d",
   "metadata": {},
   "outputs": [
    {
     "data": {
      "text/plain": [
       "4"
      ]
     },
     "execution_count": 183,
     "metadata": {},
     "output_type": "execute_result"
    }
   ],
   "source": [
    "f_b=a-1 # degrees freedom between\n",
    "f_b"
   ]
  },
  {
   "cell_type": "code",
   "execution_count": 184,
   "id": "dd81aab4",
   "metadata": {},
   "outputs": [
    {
     "data": {
      "text/plain": [
       "0.0011446950111926024"
      ]
     },
     "execution_count": 184,
     "metadata": {},
     "output_type": "execute_result"
    }
   ],
   "source": [
    "m_s_b=s_b/f_b # mean square between\n",
    "m_s_b"
   ]
  },
  {
   "cell_type": "markdown",
   "id": "7a87b442",
   "metadata": {},
   "source": [
    "- calculating the sum of squares within groups [15]"
   ]
  },
  {
   "cell_type": "code",
   "execution_count": 185,
   "id": "e629f88c",
   "metadata": {},
   "outputs": [
    {
     "data": {
      "text/plain": [
       "0.0053949058928571434"
      ]
     },
     "execution_count": 185,
     "metadata": {},
     "output_type": "execute_result"
    }
   ],
   "source": [
    "s_w=sum([(y_1[i]-y_1_m)**2 for i in range(n_y_1)])+ \\\n",
    "    sum([(y_2[i]-y_2_m)**2 for i in range(n_y_2)])+ \\\n",
    "    sum([(y_3[i]-y_3_m)**2 for i in range(n_y_3)])+ \\\n",
    "    sum([(y_4[i]-y_4_m)**2 for i in range(n_y_4)])+ \\\n",
    "    sum([(y_5[i]-y_5_m)**2 for i in range(n_y_5)]) # sum squares within\n",
    "s_w"
   ]
  },
  {
   "cell_type": "code",
   "execution_count": 186,
   "id": "d20c1633",
   "metadata": {},
   "outputs": [
    {
     "data": {
      "text/plain": [
       "34.0"
      ]
     },
     "execution_count": 186,
     "metadata": {},
     "output_type": "execute_result"
    }
   ],
   "source": [
    "f_w=a*(((n_y_1+n_y_2+n_y_3+n_y_4+n_y_5)/a)-1) # degrees freedom within\n",
    "f_w"
   ]
  },
  {
   "cell_type": "code",
   "execution_count": 187,
   "id": "717ca498",
   "metadata": {},
   "outputs": [
    {
     "data": {
      "text/plain": [
       "0.00015867370273109246"
      ]
     },
     "execution_count": 187,
     "metadata": {},
     "output_type": "execute_result"
    }
   ],
   "source": [
    "m_s_w=s_w/f_w # mean square within\n",
    "m_s_w"
   ]
  },
  {
   "cell_type": "code",
   "execution_count": 188,
   "id": "0f940a12",
   "metadata": {},
   "outputs": [
    {
     "data": {
      "text/plain": [
       "7.214144445425467"
      ]
     },
     "execution_count": 188,
     "metadata": {},
     "output_type": "execute_result"
    }
   ],
   "source": [
    "f=m_s_b/m_s_w\n",
    "f"
   ]
  },
  {
   "cell_type": "markdown",
   "id": "485ab374",
   "metadata": {},
   "source": [
    "<a id=\"solutionANOVAOnewayflavorsofcacao\"></a>\n",
    "< [Table of Contents](#top) > < [instructions](#instructions)&nbsp;&nbsp;|&nbsp;&nbsp;[Structure](#structure) > < [Abstract](#abstract) > < [Introduction](#introduction)&nbsp;&nbsp;:&nbsp;&nbsp;[Sampling](#introductionScenario)&nbsp;&nbsp;|&nbsp;&nbsp;[``scipy.stats``](#solutionttest)&nbsp;&nbsp;|&nbsp;&nbsp;[Multiple Samples](#solutionMultipleSamples) > < [Solution](#solution)&nbsp;&nbsp;:&nbsp;&nbsp;[``ANOVA``](#solutionANOVA)&nbsp;&nbsp;|&nbsp;&nbsp;[Flavors of Cacao](#solutionANOVAOnewayflavorsofcacao) > < [Conclusion](#conclusion) > < [References](#references) > < [Appendix](#appendix)&nbsp;&nbsp;|&nbsp;&nbsp;[Project Management](#ppmTOC) >\n",
    "***\n",
    "###### Flavors of Cacao\n",
    "***"
   ]
  },
  {
   "cell_type": "markdown",
   "id": "dc2b4c3a",
   "metadata": {},
   "source": [
    "- the ``Manhattan Chocolate Society`` maintains an online database called [``Flavors of Cacao``](http://flavorsofcacao.com/chocolate_database.html) rating 2452 plain dark chocolate bars (as of July 19, 2021) [18]"
   ]
  },
  {
   "cell_type": "markdown",
   "id": "ea18eb95",
   "metadata": {},
   "source": [
    "![index_bean_colors.png](https://github.com/SeanOhAileasa/SeanOhAileasa/blob/master/rc/mls/scipy/index_bean_colors.png?raw=true)\n",
    "\n",
    "***A. Brelinski, \"Flavors of Cacao\", [flavorsofcacao.com](http://flavorsofcacao.com/), n.d..***"
   ]
  },
  {
   "cell_type": "code",
   "execution_count": 189,
   "id": "b5a2a2e7",
   "metadata": {},
   "outputs": [
    {
     "name": "stdout",
     "output_type": "stream",
     "text": [
      "Read a comma-separated values (csv) file into DataFrame.\n"
     ]
    }
   ],
   "source": [
    "print(\"\\n\".join(pd.read_csv.__doc__.split(\"\\n\")[1:2])) # function read_csv overview"
   ]
  },
  {
   "cell_type": "code",
   "execution_count": 190,
   "id": "9d994447",
   "metadata": {},
   "outputs": [],
   "source": [
    "dfFlavorsofCacao=pd.read_csv(\"./rc/flavorsofcacao.csv\") # returns a DataFrame"
   ]
  },
  {
   "cell_type": "code",
   "execution_count": 191,
   "id": "e83ad0bf",
   "metadata": {},
   "outputs": [
    {
     "data": {
      "text/html": [
       "<div>\n",
       "<style scoped>\n",
       "    .dataframe tbody tr th:only-of-type {\n",
       "        vertical-align: middle;\n",
       "    }\n",
       "\n",
       "    .dataframe tbody tr th {\n",
       "        vertical-align: top;\n",
       "    }\n",
       "\n",
       "    .dataframe thead th {\n",
       "        text-align: right;\n",
       "    }\n",
       "</style>\n",
       "<table border=\"1\" class=\"dataframe\">\n",
       "  <thead>\n",
       "    <tr style=\"text-align: right;\">\n",
       "      <th></th>\n",
       "      <th>REF</th>\n",
       "      <th>Company (Manufacturer)</th>\n",
       "      <th>Company Location</th>\n",
       "      <th>Review Date</th>\n",
       "      <th>Country of Bean Origin</th>\n",
       "      <th>Specific Bean Origin or Bar Name</th>\n",
       "      <th>Cocoa Percent</th>\n",
       "      <th>Ingredients</th>\n",
       "      <th>Most Memorable Characteristics</th>\n",
       "      <th>Rating</th>\n",
       "    </tr>\n",
       "  </thead>\n",
       "  <tbody>\n",
       "    <tr>\n",
       "      <th>0</th>\n",
       "      <td>999</td>\n",
       "      <td>Bahen &amp; Co.</td>\n",
       "      <td>Australia</td>\n",
       "      <td>2012</td>\n",
       "      <td>Blend</td>\n",
       "      <td>Houseblend</td>\n",
       "      <td>70%</td>\n",
       "      <td>2- B,S</td>\n",
       "      <td>chalky, fragrant, then off</td>\n",
       "      <td>2.50</td>\n",
       "    </tr>\n",
       "    <tr>\n",
       "      <th>1</th>\n",
       "      <td>999</td>\n",
       "      <td>Bahen &amp; Co.</td>\n",
       "      <td>Australia</td>\n",
       "      <td>2012</td>\n",
       "      <td>Brazil</td>\n",
       "      <td>Bahia</td>\n",
       "      <td>70%</td>\n",
       "      <td>2- B,S</td>\n",
       "      <td>chalky, intense, chemical</td>\n",
       "      <td>2.50</td>\n",
       "    </tr>\n",
       "    <tr>\n",
       "      <th>2</th>\n",
       "      <td>999</td>\n",
       "      <td>Mast Brothers</td>\n",
       "      <td>U.S.A.</td>\n",
       "      <td>2012</td>\n",
       "      <td>Venezuela</td>\n",
       "      <td>Chuao</td>\n",
       "      <td>73%</td>\n",
       "      <td>2- B,S</td>\n",
       "      <td>gritty, sour, sweet</td>\n",
       "      <td>2.75</td>\n",
       "    </tr>\n",
       "    <tr>\n",
       "      <th>3</th>\n",
       "      <td>999</td>\n",
       "      <td>Mast Brothers</td>\n",
       "      <td>U.S.A.</td>\n",
       "      <td>2012</td>\n",
       "      <td>Blend</td>\n",
       "      <td>Madagascar</td>\n",
       "      <td>72%</td>\n",
       "      <td>2- B,S</td>\n",
       "      <td>gritty, overly tart, sour</td>\n",
       "      <td>2.50</td>\n",
       "    </tr>\n",
       "    <tr>\n",
       "      <th>4</th>\n",
       "      <td>995</td>\n",
       "      <td>Bahen &amp; Co.</td>\n",
       "      <td>Australia</td>\n",
       "      <td>2012</td>\n",
       "      <td>Madagascar</td>\n",
       "      <td>Sambirano</td>\n",
       "      <td>70%</td>\n",
       "      <td>2- B,S</td>\n",
       "      <td>unrefined, flat, grassy</td>\n",
       "      <td>3.00</td>\n",
       "    </tr>\n",
       "    <tr>\n",
       "      <th>...</th>\n",
       "      <td>...</td>\n",
       "      <td>...</td>\n",
       "      <td>...</td>\n",
       "      <td>...</td>\n",
       "      <td>...</td>\n",
       "      <td>...</td>\n",
       "      <td>...</td>\n",
       "      <td>...</td>\n",
       "      <td>...</td>\n",
       "      <td>...</td>\n",
       "    </tr>\n",
       "    <tr>\n",
       "      <th>2447</th>\n",
       "      <td>1007</td>\n",
       "      <td>Nanea</td>\n",
       "      <td>U.S.A.</td>\n",
       "      <td>2013</td>\n",
       "      <td>U.S.A.</td>\n",
       "      <td>Criollo Blend</td>\n",
       "      <td>85%</td>\n",
       "      <td>NaN</td>\n",
       "      <td>sandy, spicy, earthy</td>\n",
       "      <td>3.50</td>\n",
       "    </tr>\n",
       "    <tr>\n",
       "      <th>2448</th>\n",
       "      <td>1007</td>\n",
       "      <td>Manoa</td>\n",
       "      <td>U.S.A.</td>\n",
       "      <td>2012</td>\n",
       "      <td>U.S.A.</td>\n",
       "      <td>O'ahu Island, Winward,Maunawili district, b. 151</td>\n",
       "      <td>72%</td>\n",
       "      <td>3- B,S,C</td>\n",
       "      <td>molasses, sweet, cocoa</td>\n",
       "      <td>3.25</td>\n",
       "    </tr>\n",
       "    <tr>\n",
       "      <th>2449</th>\n",
       "      <td>1007</td>\n",
       "      <td>Manoa</td>\n",
       "      <td>U.S.A.</td>\n",
       "      <td>2012</td>\n",
       "      <td>Peru</td>\n",
       "      <td>Piura, batch 173</td>\n",
       "      <td>72%</td>\n",
       "      <td>3- B,S,C</td>\n",
       "      <td>banana, menthol, medicinal</td>\n",
       "      <td>3.00</td>\n",
       "    </tr>\n",
       "    <tr>\n",
       "      <th>2450</th>\n",
       "      <td>1007</td>\n",
       "      <td>Manoa</td>\n",
       "      <td>U.S.A.</td>\n",
       "      <td>2012</td>\n",
       "      <td>U.S.A.</td>\n",
       "      <td>Hawai'i Island, Hamakua, Hawaiian Crown, b. 176</td>\n",
       "      <td>72%</td>\n",
       "      <td>3- B,S,C</td>\n",
       "      <td>oily, tangy, fruit, earthy</td>\n",
       "      <td>2.75</td>\n",
       "    </tr>\n",
       "    <tr>\n",
       "      <th>2451</th>\n",
       "      <td>1003</td>\n",
       "      <td>Manoa</td>\n",
       "      <td>U.S.A.</td>\n",
       "      <td>2012</td>\n",
       "      <td>Liberia</td>\n",
       "      <td>Liberia, batch 174</td>\n",
       "      <td>72%</td>\n",
       "      <td>3- B,S,C</td>\n",
       "      <td>molassses, intense, off, herb</td>\n",
       "      <td>3.25</td>\n",
       "    </tr>\n",
       "  </tbody>\n",
       "</table>\n",
       "<p>2452 rows × 10 columns</p>\n",
       "</div>"
      ],
      "text/plain": [
       "       REF Company (Manufacturer) Company Location  Review Date  \\\n",
       "0      999            Bahen & Co.        Australia         2012   \n",
       "1      999            Bahen & Co.        Australia         2012   \n",
       "2      999          Mast Brothers           U.S.A.         2012   \n",
       "3      999          Mast Brothers           U.S.A.         2012   \n",
       "4      995            Bahen & Co.        Australia         2012   \n",
       "...    ...                    ...              ...          ...   \n",
       "2447  1007                  Nanea           U.S.A.         2013   \n",
       "2448  1007                  Manoa           U.S.A.         2012   \n",
       "2449  1007                  Manoa           U.S.A.         2012   \n",
       "2450  1007                  Manoa           U.S.A.         2012   \n",
       "2451  1003                  Manoa           U.S.A.         2012   \n",
       "\n",
       "     Country of Bean Origin                  Specific Bean Origin or Bar Name  \\\n",
       "0                     Blend                                        Houseblend   \n",
       "1                    Brazil                                             Bahia   \n",
       "2                 Venezuela                                             Chuao   \n",
       "3                     Blend                                        Madagascar   \n",
       "4                Madagascar                                         Sambirano   \n",
       "...                     ...                                               ...   \n",
       "2447                 U.S.A.                                     Criollo Blend   \n",
       "2448                 U.S.A.  O'ahu Island, Winward,Maunawili district, b. 151   \n",
       "2449                   Peru                                  Piura, batch 173   \n",
       "2450                 U.S.A.   Hawai'i Island, Hamakua, Hawaiian Crown, b. 176   \n",
       "2451                Liberia                                Liberia, batch 174   \n",
       "\n",
       "     Cocoa Percent Ingredients Most Memorable Characteristics  Rating  \n",
       "0              70%      2- B,S     chalky, fragrant, then off    2.50  \n",
       "1              70%      2- B,S      chalky, intense, chemical    2.50  \n",
       "2              73%      2- B,S            gritty, sour, sweet    2.75  \n",
       "3              72%      2- B,S      gritty, overly tart, sour    2.50  \n",
       "4              70%      2- B,S        unrefined, flat, grassy    3.00  \n",
       "...            ...         ...                            ...     ...  \n",
       "2447           85%         NaN           sandy, spicy, earthy    3.50  \n",
       "2448           72%    3- B,S,C         molasses, sweet, cocoa    3.25  \n",
       "2449           72%    3- B,S,C     banana, menthol, medicinal    3.00  \n",
       "2450           72%    3- B,S,C     oily, tangy, fruit, earthy    2.75  \n",
       "2451           72%    3- B,S,C  molassses, intense, off, herb    3.25  \n",
       "\n",
       "[2452 rows x 10 columns]"
      ]
     },
     "execution_count": 191,
     "metadata": {},
     "output_type": "execute_result"
    }
   ],
   "source": [
    "dfFlavorsofCacao # viewing the DataFrame"
   ]
  },
  {
   "cell_type": "code",
   "execution_count": 192,
   "id": "c39f961f",
   "metadata": {},
   "outputs": [
    {
     "name": "stdout",
     "output_type": "stream",
     "text": [
      "    Immutable sequence used for indexing and alignment. The basic object\n",
      "    storing axis labels for all pandas objects.\n"
     ]
    }
   ],
   "source": [
    "print(\"\\n\".join(dfFlavorsofCacao.columns.__doc__.split(\"\\n\")[1:3])) # method columns overview"
   ]
  },
  {
   "cell_type": "code",
   "execution_count": 193,
   "id": "98c4c90c",
   "metadata": {},
   "outputs": [
    {
     "data": {
      "text/plain": [
       "Index(['REF', 'Company (Manufacturer)', 'Company Location', 'Review Date',\n",
       "       'Country of Bean Origin', 'Specific Bean Origin or Bar Name',\n",
       "       'Cocoa Percent', 'Ingredients', 'Most Memorable Characteristics',\n",
       "       'Rating'],\n",
       "      dtype='object')"
      ]
     },
     "execution_count": 193,
     "metadata": {},
     "output_type": "execute_result"
    }
   ],
   "source": [
    "dfFlavorsofCacao.columns # investigating column structure"
   ]
  },
  {
   "cell_type": "markdown",
   "id": "aed7aa88",
   "metadata": {},
   "source": [
    "- investigating three features (columns: i. ``Company Location`` and ii. ``Cocoa Percent`` and iii. ``Rating``) [19] "
   ]
  },
  {
   "cell_type": "code",
   "execution_count": 194,
   "id": "0910dd2b",
   "metadata": {},
   "outputs": [
    {
     "data": {
      "text/plain": [
       "'Company Location'"
      ]
     },
     "execution_count": 194,
     "metadata": {},
     "output_type": "execute_result"
    }
   ],
   "source": [
    "dfFlavorsofCacao.columns[2]"
   ]
  },
  {
   "cell_type": "code",
   "execution_count": 195,
   "id": "649e801b",
   "metadata": {},
   "outputs": [
    {
     "data": {
      "text/plain": [
       "'Cocoa Percent'"
      ]
     },
     "execution_count": 195,
     "metadata": {},
     "output_type": "execute_result"
    }
   ],
   "source": [
    "dfFlavorsofCacao.columns[-4] # right to left"
   ]
  },
  {
   "cell_type": "markdown",
   "id": "fc1ac6c6",
   "metadata": {},
   "source": [
    "- determine if the ``Rating`` (target variable) is affected by ``Cocoa Percent`` and ``Company Location`` [19]"
   ]
  },
  {
   "cell_type": "code",
   "execution_count": 196,
   "id": "297356e8",
   "metadata": {},
   "outputs": [
    {
     "data": {
      "text/plain": [
       "'Rating'"
      ]
     },
     "execution_count": 196,
     "metadata": {},
     "output_type": "execute_result"
    }
   ],
   "source": [
    "dfFlavorsofCacao.columns[-1] # access last column"
   ]
  },
  {
   "cell_type": "markdown",
   "id": "168b6c70",
   "metadata": {},
   "source": [
    "- extracting from ``dfFlavorsofCacao`` columns: i. ``Rating``; ii. ``Cocoa Percent``; iii. ``Company Location`` - the new ``DataFrame`` is called ``df_Rating_Percent_Location`` [19]"
   ]
  },
  {
   "cell_type": "code",
   "execution_count": 197,
   "id": "52da12a5",
   "metadata": {},
   "outputs": [],
   "source": [
    "df_Rating_Percent_Location=dfFlavorsofCacao[[\"Rating\",\"Cocoa Percent\",\"Company Location\"]] # columns of interest"
   ]
  },
  {
   "cell_type": "code",
   "execution_count": 198,
   "id": "d25517aa",
   "metadata": {},
   "outputs": [
    {
     "name": "stdout",
     "output_type": "stream",
     "text": [
      "        Return the first `n` rows.\n",
      "\n",
      "        This function returns the first `n` rows for the object based\n",
      "        on position. It is useful for quickly testing if your object\n",
      "        has the right type of data in it.\n"
     ]
    }
   ],
   "source": [
    "print(\"\\n\".join(dfFlavorsofCacao.head.__doc__.split(\"\\n\")[1:6])) # method head overview"
   ]
  },
  {
   "cell_type": "code",
   "execution_count": 199,
   "id": "020aedb4",
   "metadata": {},
   "outputs": [
    {
     "data": {
      "text/html": [
       "<div>\n",
       "<style scoped>\n",
       "    .dataframe tbody tr th:only-of-type {\n",
       "        vertical-align: middle;\n",
       "    }\n",
       "\n",
       "    .dataframe tbody tr th {\n",
       "        vertical-align: top;\n",
       "    }\n",
       "\n",
       "    .dataframe thead th {\n",
       "        text-align: right;\n",
       "    }\n",
       "</style>\n",
       "<table border=\"1\" class=\"dataframe\">\n",
       "  <thead>\n",
       "    <tr style=\"text-align: right;\">\n",
       "      <th></th>\n",
       "      <th>Rating</th>\n",
       "      <th>Cocoa Percent</th>\n",
       "      <th>Company Location</th>\n",
       "    </tr>\n",
       "  </thead>\n",
       "  <tbody>\n",
       "    <tr>\n",
       "      <th>0</th>\n",
       "      <td>2.50</td>\n",
       "      <td>70%</td>\n",
       "      <td>Australia</td>\n",
       "    </tr>\n",
       "    <tr>\n",
       "      <th>1</th>\n",
       "      <td>2.50</td>\n",
       "      <td>70%</td>\n",
       "      <td>Australia</td>\n",
       "    </tr>\n",
       "    <tr>\n",
       "      <th>2</th>\n",
       "      <td>2.75</td>\n",
       "      <td>73%</td>\n",
       "      <td>U.S.A.</td>\n",
       "    </tr>\n",
       "    <tr>\n",
       "      <th>3</th>\n",
       "      <td>2.50</td>\n",
       "      <td>72%</td>\n",
       "      <td>U.S.A.</td>\n",
       "    </tr>\n",
       "    <tr>\n",
       "      <th>4</th>\n",
       "      <td>3.00</td>\n",
       "      <td>70%</td>\n",
       "      <td>Australia</td>\n",
       "    </tr>\n",
       "  </tbody>\n",
       "</table>\n",
       "</div>"
      ],
      "text/plain": [
       "   Rating Cocoa Percent Company Location\n",
       "0    2.50           70%        Australia\n",
       "1    2.50           70%        Australia\n",
       "2    2.75           73%           U.S.A.\n",
       "3    2.50           72%           U.S.A.\n",
       "4    3.00           70%        Australia"
      ]
     },
     "execution_count": 199,
     "metadata": {},
     "output_type": "execute_result"
    }
   ],
   "source": [
    "df_Rating_Percent_Location.head() # check in order"
   ]
  },
  {
   "cell_type": "code",
   "execution_count": 200,
   "id": "2ee7ab77",
   "metadata": {},
   "outputs": [
    {
     "name": "stdout",
     "output_type": "stream",
     "text": [
      "        Alter axes labels.\n"
     ]
    }
   ],
   "source": [
    "print(\"\\n\".join(dfFlavorsofCacao.rename.__doc__.split(\"\\n\")[1:2])) # function rename overview"
   ]
  },
  {
   "cell_type": "code",
   "execution_count": 201,
   "id": "5bc58d44",
   "metadata": {},
   "outputs": [],
   "source": [
    "df_Rating_Percent_Location=df_Rating_Percent_Location.rename(columns={\"Cocoa Percent\":\"Percent\",\"Company Location\":\"Location\"}) # change column headings"
   ]
  },
  {
   "cell_type": "code",
   "execution_count": 202,
   "id": "618bea4c",
   "metadata": {},
   "outputs": [
    {
     "data": {
      "text/html": [
       "<div>\n",
       "<style scoped>\n",
       "    .dataframe tbody tr th:only-of-type {\n",
       "        vertical-align: middle;\n",
       "    }\n",
       "\n",
       "    .dataframe tbody tr th {\n",
       "        vertical-align: top;\n",
       "    }\n",
       "\n",
       "    .dataframe thead th {\n",
       "        text-align: right;\n",
       "    }\n",
       "</style>\n",
       "<table border=\"1\" class=\"dataframe\">\n",
       "  <thead>\n",
       "    <tr style=\"text-align: right;\">\n",
       "      <th></th>\n",
       "      <th>Rating</th>\n",
       "      <th>Percent</th>\n",
       "      <th>Location</th>\n",
       "    </tr>\n",
       "  </thead>\n",
       "  <tbody>\n",
       "    <tr>\n",
       "      <th>0</th>\n",
       "      <td>2.50</td>\n",
       "      <td>70%</td>\n",
       "      <td>Australia</td>\n",
       "    </tr>\n",
       "    <tr>\n",
       "      <th>1</th>\n",
       "      <td>2.50</td>\n",
       "      <td>70%</td>\n",
       "      <td>Australia</td>\n",
       "    </tr>\n",
       "    <tr>\n",
       "      <th>2</th>\n",
       "      <td>2.75</td>\n",
       "      <td>73%</td>\n",
       "      <td>U.S.A.</td>\n",
       "    </tr>\n",
       "    <tr>\n",
       "      <th>3</th>\n",
       "      <td>2.50</td>\n",
       "      <td>72%</td>\n",
       "      <td>U.S.A.</td>\n",
       "    </tr>\n",
       "    <tr>\n",
       "      <th>4</th>\n",
       "      <td>3.00</td>\n",
       "      <td>70%</td>\n",
       "      <td>Australia</td>\n",
       "    </tr>\n",
       "  </tbody>\n",
       "</table>\n",
       "</div>"
      ],
      "text/plain": [
       "   Rating Percent   Location\n",
       "0    2.50     70%  Australia\n",
       "1    2.50     70%  Australia\n",
       "2    2.75     73%     U.S.A.\n",
       "3    2.50     72%     U.S.A.\n",
       "4    3.00     70%  Australia"
      ]
     },
     "execution_count": 202,
     "metadata": {},
     "output_type": "execute_result"
    }
   ],
   "source": [
    "df_Rating_Percent_Location.head() # check in order"
   ]
  },
  {
   "cell_type": "code",
   "execution_count": 203,
   "id": "00ed3578",
   "metadata": {},
   "outputs": [
    {
     "name": "stdout",
     "output_type": "stream",
     "text": [
      "Return a copy of the string with trailing whitespace removed.\n",
      "\n",
      "If chars is given and not None, remove characters in chars instead.\n"
     ]
    }
   ],
   "source": [
    "print(str.rstrip.__doc__)"
   ]
  },
  {
   "cell_type": "markdown",
   "id": "2983cedb",
   "metadata": {},
   "source": [
    "- removing the $\\%$ character from column ``Cocoa Percent`` using built-in function ``str.rstrip`` [19]"
   ]
  },
  {
   "cell_type": "code",
   "execution_count": 204,
   "id": "2b272db8",
   "metadata": {},
   "outputs": [
    {
     "name": "stdout",
     "output_type": "stream",
     "text": [
      "        Cast a pandas object to a specified dtype ``dtype``.\n"
     ]
    }
   ],
   "source": [
    "print(\"\\n\".join(dfFlavorsofCacao.astype.__doc__.split(\"\\n\")[1:2])) # function astype overview"
   ]
  },
  {
   "cell_type": "markdown",
   "id": "d7b6276b",
   "metadata": {},
   "source": [
    "- converting the column (``series``) data to a ``float`` value via function ``astype`` and representing percentage [19][23]"
   ]
  },
  {
   "cell_type": "code",
   "execution_count": 205,
   "id": "b5671428",
   "metadata": {},
   "outputs": [],
   "source": [
    "df_Rating_Percent_Location.Percent=df_Rating_Percent_Location.Percent.str.rstrip(\"%\").astype(float)/100"
   ]
  },
  {
   "cell_type": "code",
   "execution_count": 206,
   "id": "13037362",
   "metadata": {},
   "outputs": [
    {
     "data": {
      "text/html": [
       "<div>\n",
       "<style scoped>\n",
       "    .dataframe tbody tr th:only-of-type {\n",
       "        vertical-align: middle;\n",
       "    }\n",
       "\n",
       "    .dataframe tbody tr th {\n",
       "        vertical-align: top;\n",
       "    }\n",
       "\n",
       "    .dataframe thead th {\n",
       "        text-align: right;\n",
       "    }\n",
       "</style>\n",
       "<table border=\"1\" class=\"dataframe\">\n",
       "  <thead>\n",
       "    <tr style=\"text-align: right;\">\n",
       "      <th></th>\n",
       "      <th>Rating</th>\n",
       "      <th>Percent</th>\n",
       "      <th>Location</th>\n",
       "    </tr>\n",
       "  </thead>\n",
       "  <tbody>\n",
       "    <tr>\n",
       "      <th>0</th>\n",
       "      <td>2.50</td>\n",
       "      <td>0.70</td>\n",
       "      <td>Australia</td>\n",
       "    </tr>\n",
       "    <tr>\n",
       "      <th>1</th>\n",
       "      <td>2.50</td>\n",
       "      <td>0.70</td>\n",
       "      <td>Australia</td>\n",
       "    </tr>\n",
       "    <tr>\n",
       "      <th>2</th>\n",
       "      <td>2.75</td>\n",
       "      <td>0.73</td>\n",
       "      <td>U.S.A.</td>\n",
       "    </tr>\n",
       "    <tr>\n",
       "      <th>3</th>\n",
       "      <td>2.50</td>\n",
       "      <td>0.72</td>\n",
       "      <td>U.S.A.</td>\n",
       "    </tr>\n",
       "    <tr>\n",
       "      <th>4</th>\n",
       "      <td>3.00</td>\n",
       "      <td>0.70</td>\n",
       "      <td>Australia</td>\n",
       "    </tr>\n",
       "  </tbody>\n",
       "</table>\n",
       "</div>"
      ],
      "text/plain": [
       "   Rating  Percent   Location\n",
       "0    2.50     0.70  Australia\n",
       "1    2.50     0.70  Australia\n",
       "2    2.75     0.73     U.S.A.\n",
       "3    2.50     0.72     U.S.A.\n",
       "4    3.00     0.70  Australia"
      ]
     },
     "execution_count": 206,
     "metadata": {},
     "output_type": "execute_result"
    }
   ],
   "source": [
    "df_Rating_Percent_Location.head() # check in order"
   ]
  },
  {
   "cell_type": "markdown",
   "id": "ee2a7ed7",
   "metadata": {},
   "source": [
    "- converting the columns to ``numpy`` arrays [19][24]"
   ]
  },
  {
   "cell_type": "code",
   "execution_count": 207,
   "id": "ff9b2bd2",
   "metadata": {},
   "outputs": [
    {
     "name": "stdout",
     "output_type": "stream",
     "text": [
      "        A NumPy ndarray representing the values in this Series or Index.\n"
     ]
    }
   ],
   "source": [
    "print(\"\\n\".join(df_Rating_Percent_Location.Rating.to_numpy.__doc__.split(\"\\n\")[1:2])) # package numpy overview"
   ]
  },
  {
   "cell_type": "code",
   "execution_count": 208,
   "id": "bc9bd0e8",
   "metadata": {},
   "outputs": [],
   "source": [
    "r=df_Rating_Percent_Location.Rating.to_numpy() # convert Rating column"
   ]
  },
  {
   "cell_type": "code",
   "execution_count": 209,
   "id": "23a0ac24",
   "metadata": {},
   "outputs": [],
   "source": [
    "p=df_Rating_Percent_Location.Percent.to_numpy() # convert Percent column"
   ]
  },
  {
   "cell_type": "code",
   "execution_count": 210,
   "id": "11328405",
   "metadata": {},
   "outputs": [],
   "source": [
    "l=df_Rating_Percent_Location.Location.to_numpy() # convert Location column"
   ]
  },
  {
   "cell_type": "markdown",
   "id": "681a4f11",
   "metadata": {},
   "source": [
    "<!-- - refer [Appendix](#appendix-df) to view the full dataset <a id=\"go-back-df\"></a> -->\n",
    "<!-- print(fGetModuleType(___x___),fDocumentation(___x___)) -->\n",
    "***\n",
    "## END"
   ]
  },
  {
   "cell_type": "markdown",
   "id": "28e9ffc8",
   "metadata": {},
   "source": [
    "<a id=\"conclusion\"></a>\n",
    "< [Table of Contents](#top) > < [instructions](#instructions)&nbsp;&nbsp;|&nbsp;&nbsp;[Structure](#structure) > < [Abstract](#abstract) > < [Introduction](#introduction)&nbsp;&nbsp;:&nbsp;&nbsp;[Sampling](#introductionScenario)&nbsp;&nbsp;|&nbsp;&nbsp;[``scipy.stats``](#solutionttest)&nbsp;&nbsp;|&nbsp;&nbsp;[Multiple Samples](#solutionMultipleSamples) > < [Solution](#solution)&nbsp;&nbsp;:&nbsp;&nbsp;[``ANOVA``](#solutionANOVA)&nbsp;&nbsp;|&nbsp;&nbsp;[Flavors of Cacao](#solutionANOVAOnewayflavorsofcacao) > < [Conclusion](#conclusion) > < [References](#references) > < [Appendix](#appendix)&nbsp;&nbsp;|&nbsp;&nbsp;[Project Management](#ppmTOC) >\n",
    "***\n",
    "## Conclusion\n",
    "***"
   ]
  },
  {
   "cell_type": "markdown",
   "id": "56d5e2c1",
   "metadata": {},
   "source": [
    "&#x1F6A7;"
   ]
  },
  {
   "cell_type": "markdown",
   "id": "840b765a",
   "metadata": {},
   "source": [
    "***\n",
    "## END"
   ]
  },
  {
   "cell_type": "markdown",
   "id": "ea7ec2e7",
   "metadata": {},
   "source": [
    "<a id=\"references\"></a>\n",
    "< [Table of Contents](#top) > < [instructions](#instructions)&nbsp;&nbsp;|&nbsp;&nbsp;[Structure](#structure) > < [Abstract](#abstract) > < [Introduction](#introduction)&nbsp;&nbsp;:&nbsp;&nbsp;[Sampling](#introductionScenario)&nbsp;&nbsp;|&nbsp;&nbsp;[``scipy.stats``](#solutionttest)&nbsp;&nbsp;|&nbsp;&nbsp;[Multiple Samples](#solutionMultipleSamples) > < [Solution](#solution)&nbsp;&nbsp;:&nbsp;&nbsp;[``ANOVA``](#solutionANOVA)&nbsp;&nbsp;|&nbsp;&nbsp;[Flavors of Cacao](#solutionANOVAOnewayflavorsofcacao) > < [Conclusion](#conclusion) > < [References](#references) > < [Appendix](#appendix)&nbsp;&nbsp;|&nbsp;&nbsp;[Project Management](#ppmTOC) >\n",
    "***\n",
    "## References\n",
    "***\n",
    "&nbsp;&nbsp;&nbsp;&nbsp;&nbsp;&nbsp;&nbsp;&nbsp;&nbsp;[0] I. McLoughlin, \"Assessment,\" GMIT, October 2021.\n",
    "\n",
    "&nbsp;&nbsp;&nbsp;&nbsp;&nbsp;&nbsp;&nbsp;&nbsp;&nbsp;[1] B. Foltz, \"Statistics 101 - ANOVA, A Visual Introduction,\" [youtube.com](https://web.archive.org/web/20210930195145/https://www.youtube.com/watch?v=0Vj2V2qRU10), April 2013.\n",
    "\n",
    "&nbsp;&nbsp;&nbsp;&nbsp;&nbsp;&nbsp;&nbsp;&nbsp;&nbsp;[2] I. McLoughlin, \"t-tests in Python setup,\" GMIT, October 2020.\n",
    "\n",
    "&nbsp;&nbsp;&nbsp;&nbsp;&nbsp;&nbsp;&nbsp;&nbsp;&nbsp;[3] I. McLoughlin, \"Simulating data for a t-test,\" GMIT, October 2020.\n",
    "\n",
    "&nbsp;&nbsp;&nbsp;&nbsp;&nbsp;&nbsp;&nbsp;&nbsp;&nbsp;[4] I. McLoughlin, \"Running a t-test in Python,\" GMIT, October 2020.\n",
    "\n",
    "&nbsp;&nbsp;&nbsp;&nbsp;&nbsp;&nbsp;&nbsp;&nbsp;&nbsp;[5] I. McLoughlin, \"Interpreting a t-test,\" GMIT, October 2020.\n",
    "\n",
    "&nbsp;&nbsp;&nbsp;&nbsp;&nbsp;&nbsp;&nbsp;&nbsp;&nbsp;[6] I. McLoughlin, \"Errors and playing with t-tests,\" GMIT, October 2020.\n",
    "\n",
    "&nbsp;&nbsp;&nbsp;&nbsp;&nbsp;&nbsp;&nbsp;&nbsp;&nbsp;[7] I. McLoughlin, \"From t-tests to ANOVA,\" GMIT, October 2020.\n",
    "\n",
    "&nbsp;&nbsp;&nbsp;&nbsp;&nbsp;&nbsp;&nbsp;&nbsp;&nbsp;[8] D. Rowntree, \"Statistics without Tears,\" Penguin (updated edition), Chapter 4. The shape of a distribution, October 2018.\n",
    "\n",
    "&nbsp;&nbsp;&nbsp;&nbsp;&nbsp;&nbsp;&nbsp;&nbsp;&nbsp;[9] 365 Data Science, \"Hypothesis testing. Null vs alternative,\" [youtube.com](https://www.youtube.com/watch?v=ZzeXCKd5a18), August 2017.\n",
    "\n",
    "&nbsp;&nbsp;&nbsp;&nbsp;&nbsp;&nbsp;&nbsp;[10] I. McLoughlin, \"Practical t-tests in Python,\" GMIT, October 2019.\n",
    "\n",
    "&nbsp;&nbsp;&nbsp;&nbsp;&nbsp;&nbsp;&nbsp;[11] D. Rowntree, \"Statistics without Tears,\" Penguin (updated edition), Chapter 7. Further matters of significance, October 2018.\n",
    "\n",
    "&nbsp;&nbsp;&nbsp;&nbsp;&nbsp;&nbsp;&nbsp;[12] D. Spiegelhalter, \"The Art of Statistics,\" Pelican, p. 97-98, 2019.\n",
    "\n",
    "&nbsp;&nbsp;&nbsp;&nbsp;&nbsp;&nbsp;&nbsp;[13] T. Vigen, \"Spurious correlations,\" [tylervigen.com](https://tylervigen.com/spurious-correlations), July 2014.\n",
    "\n",
    "&nbsp;&nbsp;&nbsp;&nbsp;&nbsp;&nbsp;&nbsp;[14] V. Geislinger, \"Multiple Comparisons Warning,\" [youtube.com](https://www.youtube.com/watch?v=voHPvSkX3f4), April 2020.\n",
    "\n",
    "&nbsp;&nbsp;&nbsp;&nbsp;&nbsp;&nbsp;&nbsp;[15] G.H. McDonald, \"Handbook of Biological Statistics (One-way ANOVA)\", [biostathandbook.com](http://www.biostathandbook.com/onewayanova.html), n.d..\n",
    "\n",
    "&nbsp;&nbsp;&nbsp;&nbsp;&nbsp;&nbsp;&nbsp;[16] V. Geislinger, \"Coding ANOVA: SciPy Method,\" [youtube.com](https://www.youtube.com/watch?v=QnE8sBrKoNU), April 2020.\n",
    "\n",
    "&nbsp;&nbsp;&nbsp;&nbsp;&nbsp;&nbsp;&nbsp;[17] C. Shah, \"A Hands-on Introduction to Data Science,\" Cambridge University Press, pages 68-71, November 2020.\n",
    "\n",
    "&nbsp;&nbsp;&nbsp;&nbsp;&nbsp;&nbsp;&nbsp;[18] B, Brelinski, \"Flavors of Cacao\", [flavorsofcacao.com](http://flavorsofcacao.com/chocolate_database.html), n.d..\n",
    "\n",
    "&nbsp;&nbsp;&nbsp;&nbsp;&nbsp;&nbsp;&nbsp;[19] SciPy, \"Introduction,\" [scipy.github.io](https://scipy.github.io/devdocs/tutorial/general.html), August 2016.\n",
    "\n",
    "&nbsp;&nbsp;&nbsp;&nbsp;&nbsp;&nbsp;&nbsp;[20] D. Rowntree, \"Statistics without Tears,\" Penguin (updated edition), Chapter 1. Statistical inquiry, October 2018.\n",
    "\n",
    "&nbsp;&nbsp;&nbsp;&nbsp;&nbsp;&nbsp;&nbsp;[21] I. McLoughlin, \"scikit-learn Tutorials,\" GMIT, October 2021.\n",
    "\n",
    "&nbsp;&nbsp;&nbsp;&nbsp;&nbsp;&nbsp;&nbsp;[22] V. Geislinger, \"Coding ANOVA: Statsmodels OLS Method,\" [youtube.com](https://www.youtube.com/watch?v=3cCM0lQFMM4), April 2020.\n",
    "\n",
    "&nbsp;&nbsp;&nbsp;&nbsp;&nbsp;&nbsp;&nbsp;[23] I. McLoughlin, \"A Quick Overview of numpy,\" GMIT, October 2021.\n",
    "\n",
    "&nbsp;&nbsp;&nbsp;&nbsp;&nbsp;&nbsp;&nbsp;[24] I. McLoughlin, \"Using Pandas with scikit-learn,\" GMIT, October 2021."
   ]
  },
  {
   "cell_type": "markdown",
   "id": "d42567e1",
   "metadata": {},
   "source": [
    "***\n",
    "###### Getting Referenced Website Publishing Date:\n",
    "***"
   ]
  },
  {
   "cell_type": "markdown",
   "id": "3de66ece",
   "metadata": {},
   "source": [
    "To get the publication date of a web page (``https://www.mathsisfun.com/equation_of_line.html``):\n",
    "\n",
    "\n",
    "i. google search ``https://www.mathsisfun.com/equation_of_line.html``;\n",
    "\n",
    "```\n",
    "https://www.google.com/search?q=https%3A%2F%2Fwww.mathsisfun.com%2Fequation_of_line.html&source=hp&ei=Q5LFYa6MNcLC8gLCl7LIBA&iflsig=ALs-wAMAAAAAYcWgU3AxsQA8P5-v81qGgtFn8-0UmefS&ved=0ahUKEwjuudCYj_z0AhVCoVwKHcKLDEkQ4dUDCAY&uact=5&oq=https%3A%2F%2Fwww.mathsisfun.com%2Fequation_of_line.html&gs_lcp=Cgdnd3Mtd2l6EAMyBggAEBYQHlAAWABgqgNoAHAAeACAAS-IAS-SAQExmAEAoAECoAEB&sclient=gws-wiz\n",
    "```\n",
    "\n",
    "ii. add ``&as_qdr=y15`` to the end of the output url:\n",
    "\n",
    "```\n",
    "https://www.google.com/search?q=https%3A%2F%2Fwww.mathsisfun.com%2Fequation_of_line.html&source=hp&ei=Q5LFYa6MNcLC8gLCl7LIBA&iflsig=ALs-wAMAAAAAYcWgU3AxsQA8P5-v81qGgtFn8-0UmefS&ved=0ahUKEwjuudCYj_z0AhVCoVwKHcKLDEkQ4dUDCAY&uact=5&oq=https%3A%2F%2Fwww.mathsisfun.com%2Fequation_of_line.html&gs_lcp=Cgdnd3Mtd2l6EAMyBggAEBYQHlAAWABgqgNoAHAAeACAAS-IAS-SAQExmAEAoAECoAEB&sclient=gws-wiz&as_qdr=y30\n",
    "```\n",
    "\n",
    "\n",
    "iii. hit enter and the result page shows publishing dates"
   ]
  },
  {
   "cell_type": "markdown",
   "id": "3239bcce",
   "metadata": {},
   "source": [
    "***\n",
    "## END"
   ]
  },
  {
   "cell_type": "markdown",
   "id": "e5961b4d",
   "metadata": {},
   "source": [
    "<a id=\"appendix\"></a>\n",
    "< [Table of Contents](#top) > < [instructions](#instructions)&nbsp;&nbsp;|&nbsp;&nbsp;[Structure](#structure) > < [Abstract](#abstract) > < [Introduction](#introduction)&nbsp;&nbsp;:&nbsp;&nbsp;[Sampling](#introductionScenario)&nbsp;&nbsp;|&nbsp;&nbsp;[``scipy.stats``](#solutionttest)&nbsp;&nbsp;|&nbsp;&nbsp;[Multiple Samples](#solutionMultipleSamples) > < [Solution](#solution)&nbsp;&nbsp;:&nbsp;&nbsp;[``ANOVA``](#solutionANOVA)&nbsp;&nbsp;|&nbsp;&nbsp;[Flavors of Cacao](#solutionANOVAOnewayflavorsofcacao) > < [Conclusion](#conclusion) > < [References](#references) > < [Appendix](#appendix)&nbsp;&nbsp;|&nbsp;&nbsp;[Project Management](#ppmTOC) >\n",
    "***\n",
    "## Appendix\n",
    "***"
   ]
  },
  {
   "cell_type": "markdown",
   "id": "d1f412a7",
   "metadata": {},
   "source": [
    "<a id=\"ppmTOC\"></a>\n",
    "< [Table of Contents](#top) > < [instructions](#instructions)&nbsp;&nbsp;|&nbsp;&nbsp;[Structure](#structure) > < [Abstract](#abstract) > < [Introduction](#introduction)&nbsp;&nbsp;:&nbsp;&nbsp;[Sampling](#introductionScenario)&nbsp;&nbsp;|&nbsp;&nbsp;[``scipy.stats``](#solutionttest)&nbsp;&nbsp;|&nbsp;&nbsp;[Multiple Samples](#solutionMultipleSamples) > < [Solution](#solution)&nbsp;&nbsp;:&nbsp;&nbsp;[``ANOVA``](#solutionANOVA)&nbsp;&nbsp;|&nbsp;&nbsp;[Flavors of Cacao](#solutionANOVAOnewayflavorsofcacao) > < [Conclusion](#conclusion) > < [References](#references) > < [Appendix](#appendix)&nbsp;&nbsp;|&nbsp;&nbsp;[Project Management](#ppmTOC) >\n",
    "***\n",
    "### Project Management\n",
    "***\n",
    "* [Propose](#ppmPropose) &#x1F4CC; <br/><br/>\n",
    "* [Revision](#ppmRevert) &#x1F4CC; <br/><br/>\n",
    "* [Commit](#ppmCommit) <br/><br/>\n",
    "    * [History](#ppmCommitHistory) <br/><br/>\n",
    "* [Planning](#ppmPlanning) <br/><br/>\n",
    "    * [Research](#ppmGettingStartedResearch) <br/><br/>\n",
    "    * [Development](#ppmGettingStartedDevelopment) <br/><br/>\n",
    "    * [Consistency](#ppmGettingStartedConsistency) <br/><br/>\n",
    "    * [Documentation](#ppmGettingStartedDocumentation) <br/><br/>\n",
    "* [Considerations](#considerations) <br/><br/>\n",
    "    * [Coding Conventions](#codingConventions) <br/><br/>  \n",
    "* [Outstanding](#outstanding) <br/><br/>\n",
    "    * [Day:55 - Day:45](#outstandingUnforeseenCircumstances) &#x1F4CC; <br/><br/>\n",
    "    * [DAY:30 - Day:21](#outstandingday30) <br/><br/>\n",
    "    * [DAY:20 - Day:10](#outstandingday20today10) &#x1F4CC; <br/><br/>    \n",
    "    * [DAY:20 - Day:01](#outstandingday20) <br/><br/>\n",
    "    * [DAY:15 - Day:01](#outstandingday15)\n",
    "    "
   ]
  },
  {
   "cell_type": "markdown",
   "id": "c6ff9f2d",
   "metadata": {},
   "source": [
    "<hr width=50%;>"
   ]
  },
  {
   "cell_type": "markdown",
   "id": "c8064e70",
   "metadata": {},
   "source": [
    "<a id=\"ppmPropose\"></a>\n",
    "< [Table of Contents](#top) > < [instructions](#instructions)&nbsp;&nbsp;|&nbsp;&nbsp;[Structure](#structure) > < [Abstract](#abstract) > < [Introduction](#introduction)&nbsp;&nbsp;:&nbsp;&nbsp;[Sampling](#introductionScenario)&nbsp;&nbsp;|&nbsp;&nbsp;[``scipy.stats``](#solutionttest)&nbsp;&nbsp;|&nbsp;&nbsp;[Multiple Samples](#solutionMultipleSamples) > < [Solution](#solution)&nbsp;&nbsp;:&nbsp;&nbsp;[``ANOVA``](#solutionANOVA)&nbsp;&nbsp;|&nbsp;&nbsp;[Flavors of Cacao](#solutionANOVAOnewayflavorsofcacao) > < [Conclusion](#conclusion) > < [References](#references) > < [Appendix](#appendix)&nbsp;&nbsp;|&nbsp;&nbsp;[Project Management](#ppmTOC) >\n",
    "***\n",
    "###### Propose\n",
    "***"
   ]
  },
  {
   "cell_type": "markdown",
   "id": "99eb0e32",
   "metadata": {},
   "source": [
    "- tidy existing work with additional content where appropriate to finalise that section (subsection/code etc.)"
   ]
  },
  {
   "cell_type": "markdown",
   "id": "043d6f3c",
   "metadata": {},
   "source": [
    "- units of work completed on this Jupyter Notebook thus far could have been split into several individual commits - each commit will now represent an appropriate unit of work and where possible complete particular section (subsection/code etc) it represents"
   ]
  },
  {
   "cell_type": "markdown",
   "id": "22c049cc",
   "metadata": {},
   "source": [
    "<a id=\"ppmRevert\"></a>\n",
    "< [Table of Contents](#top) > < [instructions](#instructions)&nbsp;&nbsp;|&nbsp;&nbsp;[Structure](#structure) > < [Abstract](#abstract) > < [Introduction](#introduction)&nbsp;&nbsp;:&nbsp;&nbsp;[Sampling](#introductionScenario)&nbsp;&nbsp;|&nbsp;&nbsp;[``scipy.stats``](#solutionttest)&nbsp;&nbsp;|&nbsp;&nbsp;[Multiple Samples](#solutionMultipleSamples) > < [Solution](#solution)&nbsp;&nbsp;:&nbsp;&nbsp;[``ANOVA``](#solutionANOVA)&nbsp;&nbsp;|&nbsp;&nbsp;[Flavors of Cacao](#solutionANOVAOnewayflavorsofcacao) > < [Conclusion](#conclusion) > < [References](#references) > < [Appendix](#appendix)&nbsp;&nbsp;|&nbsp;&nbsp;[Project Management](#ppmTOC) >\n",
    "***\n",
    "###### Revision\n",
    "***"
   ]
  },
  {
   "cell_type": "markdown",
   "id": "9e74a4ba",
   "metadata": {},
   "source": [
    "- requiring revision: []()\n",
    "\n",
    "```html\n",
    "<a id=\"revert___\"></a>\n",
    "```"
   ]
  },
  {
   "cell_type": "markdown",
   "id": "260ddf86",
   "metadata": {},
   "source": [
    "<a id=\"ppmCommit\"></a>\n",
    "< [Table of Contents](#top) > < [instructions](#instructions)&nbsp;&nbsp;|&nbsp;&nbsp;[Structure](#structure) > < [Abstract](#abstract) > < [Introduction](#introduction)&nbsp;&nbsp;:&nbsp;&nbsp;[Sampling](#introductionScenario)&nbsp;&nbsp;|&nbsp;&nbsp;[``scipy.stats``](#solutionttest)&nbsp;&nbsp;|&nbsp;&nbsp;[Multiple Samples](#solutionMultipleSamples) > < [Solution](#solution)&nbsp;&nbsp;:&nbsp;&nbsp;[``ANOVA``](#solutionANOVA)&nbsp;&nbsp;|&nbsp;&nbsp;[Flavors of Cacao](#solutionANOVAOnewayflavorsofcacao) > < [Conclusion](#conclusion) > < [References](#references) > < [Appendix](#appendix)&nbsp;&nbsp;|&nbsp;&nbsp;[Project Management](#ppmTOC) >\n",
    "***\n",
    "###### Commit\n",
    "***"
   ]
  },
  {
   "cell_type": "code",
   "execution_count": 1,
   "id": "94425c15",
   "metadata": {},
   "outputs": [
    {
     "name": "stdout",
     "output_type": "stream",
     "text": [
      "26 Dec 2021 19:57:24\n"
     ]
    }
   ],
   "source": [
    "%%script bash\n",
    "date"
   ]
  },
  {
   "cell_type": "markdown",
   "id": "541178da",
   "metadata": {},
   "source": [
    "```python\n",
    "\"DAY:6 - [Notebook: scipy-stats]: (Last Commit) Add to subsection - Abstract - blurb promoting the case for learning the theory of statistics and the application via python all as one. (Solution) Set up the Flavors of Cacao dataset to apply ANOVA. (Propose) Finish ANOVA analyse.\"\n",
    "```"
   ]
  },
  {
   "cell_type": "code",
   "execution_count": 2,
   "id": "2cc602b9",
   "metadata": {},
   "outputs": [],
   "source": [
    "exit()"
   ]
  },
  {
   "cell_type": "markdown",
   "id": "e0adbb7d",
   "metadata": {},
   "source": [
    "<a id=\"ppmCommitHistory\"></a>\n",
    "< [Table of Contents](#top) > < [instructions](#instructions)&nbsp;&nbsp;|&nbsp;&nbsp;[Structure](#structure) > < [Abstract](#abstract) > < [Introduction](#introduction)&nbsp;&nbsp;:&nbsp;&nbsp;[Sampling](#introductionScenario)&nbsp;&nbsp;|&nbsp;&nbsp;[``scipy.stats``](#solutionttest)&nbsp;&nbsp;|&nbsp;&nbsp;[Multiple Samples](#solutionMultipleSamples) > < [Solution](#solution)&nbsp;&nbsp;:&nbsp;&nbsp;[``ANOVA``](#solutionANOVA)&nbsp;&nbsp;|&nbsp;&nbsp;[Flavors of Cacao](#solutionANOVAOnewayflavorsofcacao) > < [Conclusion](#conclusion) > < [References](#references) > < [Appendix](#appendix)&nbsp;&nbsp;|&nbsp;&nbsp;[Project Management](#ppmTOC) >\n",
    "***\n",
    "###### History\n",
    "***"
   ]
  },
  {
   "cell_type": "code",
   "execution_count": 1,
   "id": "3d2762da",
   "metadata": {},
   "outputs": [],
   "source": [
    "%%script bash\n",
    "git log>./rc/log.txt"
   ]
  },
  {
   "cell_type": "code",
   "execution_count": 2,
   "id": "2cd9637e",
   "metadata": {},
   "outputs": [],
   "source": [
    "exit()"
   ]
  },
  {
   "cell_type": "code",
   "execution_count": 1,
   "id": "70c6b0f9",
   "metadata": {},
   "outputs": [],
   "source": [
    "scipy_stats_commits,scikit_learn_commits=0,0 # number of commits\n",
    "with open(r\"./rc/log.txt\",\"r\") as f: # open ready only\n",
    "    data=f.read() # read file contents\n",
    "    scipy_stats_commits=data.count(\"[Notebook: scipy-stats]\") # capture scipy-stats count\n",
    "    scikit_learn_commits=data.count(\"[Notebook: scikit-learn]\") # capture scikit-learn count"
   ]
  },
  {
   "cell_type": "code",
   "execution_count": 2,
   "id": "c06054b3",
   "metadata": {},
   "outputs": [
    {
     "data": {
      "image/png": "[encoded data removed]",
      "text/plain": [
       "<Figure size 432x288 with 1 Axes>"
      ]
     },
     "metadata": {},
     "output_type": "display_data"
    }
   ],
   "source": [
    "import datetime\n",
    "\n",
    "now=datetime.datetime.now() # capture current date\n",
    "due=datetime.datetime(2022,1,2) # assessment due date\n",
    "delta=due-now # count days outstanding\n",
    "\n",
    "import matplotlib.pyplot as plt\n",
    "\n",
    "plt.rcParams[\"text.color\"]=\"r\" # chart text colour\n",
    "# plt.rcParams[\"figure.figsize\"]=12.8,7.2 # rc chart size\n",
    "plt.rcParams[\"savefig.format\"]=\"png\" # chart image format\n",
    "\n",
    "l=f\"scikit-learn ({scikit_learn_commits})\",f\"scipy-stats ({scipy_stats_commits})\" # notebook plus count\n",
    "s=[scikit_learn_commits,scipy_stats_commits] # pie chart size\n",
    "c=[\"green\",\"orange\"] # pie chart colours\n",
    "e=(0.25,0) # explode first slice\n",
    "plt.title(f\"Assessment Due: {delta.days} Days\")\n",
    "plt.pie(x=s,explode=e,labels=l,colors=c,autopct='%.0f%%',shadow=True,startangle=240) # actual pie chart\n",
    "plt.axis('equal')\n",
    "plt.savefig(fname=\"./rc/history\"); #,format=\"png\");"
   ]
  },
  {
   "cell_type": "code",
   "execution_count": 3,
   "id": "68efe8fe",
   "metadata": {
    "scrolled": false
   },
   "outputs": [
    {
     "name": "stdout",
     "output_type": "stream",
     "text": [
      "commit 7f586a7fef1938f5b8ab539830d52742366e907d\n",
      "Author: unknown <seanohaileasa@protonmail.com>\n",
      "Date:   Fri Dec 24 19:42:56 2021 +0000\n",
      "\n",
      "    DAY:8 - [Notebook: scipy-stats]: (Project Management) Add subsection - Propose - for strategy before the submission date. Add subsection - Revision - links to specific content requiring review before submission. In addition, updating subsection - Outstanding. (Abstract) Considered complete and satisfies the assessment specification for a clear and concise overview of the scipy-stats Python library. (Propose) Finish section - ANOVA - then systematically review the remainder of the Jupyter Notebook (adding features to improve shortcomings.\n",
      "\n",
      "commit a6eadb01f78811e273d0c6102cfc94368c9ec462\n",
      "Author: unknown <seanohaileasa@protonmail.com>\n",
      "Date:   Fri Dec 24 11:28:17 2021 +0000\n",
      "\n",
      "    DAY:8 - [Notebook: scipy-learn]: (Last Commit) README requires revision: i. Description; ii. Conclusion (plus Troubleshooting/Credits/Contact and anything else deemed appropriate for submission) - revert [DAY:2,0). (Project Management) Add subsection - Propose - for strategy before the submission date. Add subsection - Revision - links to specific content requiring review before submission. In addition, updating subsection - Outstanding. (Abstract) Add a blurb about machine learning and the vector space model. Briefly introducing supervised (classification) and unsupervised (clustering) learning and its various utility tools: i. convert the data into the vector space model, then apply machine learning and iiiâ€”performance evaluation via metrics. The abstract is considered complete and satisfies the assessment specification for a clear and concise overview of the scikit-learn Python library. (Propose). Systematically reviewing the remainder of the Jupyter Notebook and adding features to improve shortcomings.\n",
      "\n",
      "commit 20c2c021fc9c55e9a2abd2f8470f922e162a1ea8\n",
      "Author: unknown <seanohaileasa@protonmail.com>\n",
      "Date:   Thu Dec 16 21:41:10 2021 +0000\n",
      "\n",
      "    DAY:16 - [README]: Assessment README file structure in place. Add a blurb about: i. the Machine Learning & Statistics module learning outcomes; ii. motivating the use of the Binder interactive environment; iii. tidied assessment instructions section; iv adding subheading include motivation, description, conclusion, installation, troubleshoot, credits and contact details. (Propose) will revert to the README periodically until the deadline. In the interim, the bulk of the assessment is to be complete from day 10 (22nd December 2021), which is the Multi-paradigm Programming module assessment deadline).\n",
      "\n",
      "commit 238c6a8ef59b5ad63627b98a3b6a88801d2aa290\n",
      "Author: unknown <seanohaileasa@protonmail.com>\n",
      "Date:   Sun Dec 12 23:49:31 2021 +0000\n",
      "\n",
      "    DAY:20 - [Notebook: scipy-learn]: Tidy notebook: i. moving section - Project Management - to section - Appendix; ii. update section - Instructions - adding blurb about the project requirements and objective plus marking scheme; iii. section - Structure - to later add blurb; iv. section - Table of Contents - referencing all headings; v. add a quick link to every heading and subheading for easy movement. (Propose) Reviewing and update ``README.md``.\n",
      "\n",
      "commit 43fb10df172e22c30cd8ad23cded649337cbd7b5\n",
      "Author: unknown <seanohaileasa@protonmail.com>\n",
      "Date:   Thu Dec 9 12:28:44 2021 +0000\n",
      "\n",
      "    DAY:23 - [Notebook: scipy-learn]: Tidy notebook: i. moving section - Project Management - to section - Appendix; ii. update section - Instructions - adding blurb about the project requirements and objective plus marking scheme; iii. update section - Structure - adding blurb about initial project proposal and structure from now on; iv. section - Table of Contents - referencing subheadings only (each subsection has its table of contents); v. add a quick link to every heading and subheading for easy movement. (Propose) Tidy notebook (scipy-stats) with a similar structure as ``scikit-learn`` and review ``README.md``.\n",
      "\n",
      "commit 20d71f3573d2678245408d1eb9f32fe42e832746\n",
      "Author: unknown <seanohaileasa@protonmail.com>\n",
      "Date:   Fri Dec 3 21:23:10 2021 +0000\n",
      "\n",
      "    DAY:29 - [Notebook: scipy-stats]: (Last Commit) Section - Solution - subsection - Process (now called Statistic) manually coded the test statistic - requires revision with plots if remaining in the Notebook. (Solution) Introducing the Flavors of Cacao dataset on which to perform and display the results of ANOVA using scipy.stats. (Propose) Review Section - Solution - subsection - Statistic - before moving on to performing ANOVA on the Flavors of Cacao dataset.\n",
      "\n",
      "commit 8ed69453dee3722352d355ffd56076d268a3187f\n",
      "Author: unknown <seanohaileasa@protonmail.com>\n",
      "Date:   Thu Dec 2 20:35:02 2021 +0000\n",
      "\n",
      "    DAY:30 - [Notebook: scipy-stats]: (Last Commit) Section - Solution - subsection - ANOVA - the blurb is sparse (may update later) but in the interim will build upon by reviewing the Handbook of Biological Statistics (One-way ANOVA) from John H. McDonald. Documentation also includes example code for multidimensional input - refer Section - Project Management - revert [DAY:15,0). (Solution) Add a blurb about one-way ANOVA detailing appropriate variables for use. Add subsection - Process - manually coding the test statistic. Presentation requires revision with plots and explanation (might later remove as it could introduce confusion). (Propose) If the subsection - Process - remain, then endeavour to find an appropriate dataset and perform ANOVA.\n",
      "\n",
      "commit 9e0a47c5035c91666c8169747f998a69cbd3919e\n",
      "Author: unknown <seanohaileasa@protonmail.com>\n",
      "Date:   Tue Nov 30 20:59:27 2021 +0000\n",
      "\n",
      "    DAY:32 - [Notebook: scipy-stats]: (Last Commit) Add scipy.stat.f_oneway documentation via docstring for additional information about ANOVA and its important assumptions. (Solution) Hacked example code from the scipy.stats.f_oneway documentation. Determined the null hypothesis to be disproved and alternative hypothesis and thereafter performed ANOVA. (Propose) To: i. review the Handbook of Biological Statistics from John H. McDonald, the goto reference in the scipy.stats.f_oneway documentation and ii. find an appropriate dataset to perform ANOVA (as per assessment specification).\n",
      "\n",
      "commit 7030e5569c9cd40eec56e707e5acb4e06f7bd743\n",
      "Author: unknown <seanohaileasa@protonmail.com>\n",
      "Date:   Mon Nov 29 17:00:22 2021 +0000\n",
      "\n",
      "    **ASSESSMENT DUE DATE EXTENDED TO JANUARY 2nd 2022** DAY:33 - [Notebook: scipy-stats]: (Last Commit) Amend subsection - Multiple Samples - for ease of readability and reference: i. tidy blurb about the generation of the collections (including new sample) and ii. add null hypothesis notation with the tag number and appropriate wording for the alternative hypothesis (should not have a notation). The last commit introduced ANOVA without detail (now moving towards section - Solution). (Propose) Hacking example code from the scipy.stats.f_oneway documentation before moving analysis a dataset.\n",
      "\n",
      "commit aa31cc24e8c8bbe4e12607cf565990e3ace3a709\n",
      "Author: unknown <seanohaileasa@protonmail.com>\n",
      "Date:   Thu Nov 25 21:51:55 2021 +0000\n",
      "\n",
      "    DAY:23 - [Notebook: scipy-stats]: (Last Commit) No commentary. (Introduction) Add a blurb about ANOVA. Applied ANOVA to three samples. Although similar to the t-test the ANOVA compares samples in parallel and still allows for a p-value cutoff of 0.05. (Propose) Expanding on the ANOVA function f_oneway using the code from the scipy documentation and obtain an appropriate dataset for section - Solution.\n",
      "\n",
      "commit 5783a8d6e4da6272a6fe4fe461c94e526eb31de9\n",
      "Author: unknown <seanohaileasa@protonmail.com>\n",
      "Date:   Sun Nov 21 20:49:05 2021 +0000\n",
      "\n",
      "    DAY:27 - [Notebook: scipy-stats]: (Last Commit) Changed plot style to ggplot. (Introduction) Add a blurb about hypothesis formulation and the null hypothesis being the assumption to be tested. Introduced the alternative hypothesis being the goal of rejecting the null hypothesis. Highlighting the p-value result of a t-test is about the populations and not just the sample collections used. Also made the error sections more concise, incorporating the null hypothesis and the alternative hypothesis notation (easier to read and follow). (Propose) Move onto section - Solution - introducing ANOVA but first must find an appropriate dataset to analyse.\n",
      "\n",
      "commit 15f56af05a1131c48dd2a33e77b3bf8bb70d1aa1\n",
      "Author: unknown <seanohaileasa@protonmail.com>\n",
      "Date:   Sat Nov 20 20:16:24 2021 +0000\n",
      "\n",
      "    DAY:28 - [Configuration]: Add requirements.txt to enable interactive notebooks via Binder. Add Binder and nbviewer (static view) badges to README.md. Add script (fullscreen.py) to utilise full Jupyter Notebook screen via nbviewer. Move log.txt (git log) to ./rc.\n",
      "\n",
      "commit 2f3dd960e42bf93c1d814c360e91279db9e0bdd5\n",
      "Author: unknown <seanohaileasa@protonmail.com>\n",
      "Date:   Fri Nov 19 22:40:18 2021 +0000\n",
      "\n",
      "    DAY:29 - [Notebook: scipy-stats]: (Last Commit) Add notes for better clarity plus additional plots to distinguish sample versus population. (Introduction) Adding a new collection highlights the limitations of the t-test. Several t-tests in parallel increase the chance of making an error. Samples from the same population using a cut-off result in a high False Positive rate because of repetition. (Propose) Move onto section - Solution - introducing ANOVA.\n",
      "\n",
      "commit 6d4a51254602be1e81efddec87275b758a8b82bc\n",
      "Author: unknown <seanohaileasa@protonmail.com>\n",
      "Date:   Wed Nov 17 21:38:21 2021 +0000\n",
      "\n",
      "    DAY:31 - [Notebook: scikit-learn]: (Last Commit) Using the obtained coefficients via sklearn to perform predictions. (Introduction) Finally, able to take a value on which to make a prediction based on the coefficients (trained dataset) found earlier. Summarised section - Regression - with a blurb about determinism and how the obtained coefficients are more than just data but actually form part of a machine learning function. (Propose) At this stage, the three algorithms of interest have been introduced, albeit revision is required. Propose tidying up the Notebook thus far, making the presentation concise and filling in any blanks. Then proceed with the section - Solution (cyber security). In the interim on Day:30 revisit section - Project Management.\n",
      "\n",
      "commit b6c715003432a3f054236df027adde3fe1b7f28a\n",
      "Author: unknown <seanohaileasa@protonmail.com>\n",
      "Date:   Sun Nov 14 19:01:41 2021 +0000\n",
      "\n",
      "    DAY:34 - [Notebook: scikit-learn]: (Last Commit) Thus far, the actual values from the penguins dataset are fit to the model. (Introduction) Determined the coefficient of determination of the prediction (a measure of how well the lines fits the dataset). Then asked the model for i. the y-intercept (value of y when x is zero) and; ii. the slope or gradient for the coefficients b and m. (Propose) Use the obtained coefficients (parameter p), sklearn found (trained) and pass in the function f to perform the prediction.\n",
      "\n",
      "commit 916cfaf336885ce5102f6f9502bce277b1078f8d\n",
      "Author: unknown <seanohaileasa@protonmail.com>\n",
      "Date:   Fri Nov 12 14:40:47 2021 +0000\n",
      "\n",
      "    DAY:36 - [Notebook: scipy-stats]: (Last Commit) Proposed finally moving onto ANOVA by way of highlighting the limitations of the t-test. Instead have rewritten the whole Notebook completed thus far (except Appendix) to be more concise for ease of readability. Significant amendments include i. denoting repeated terms when first introduced; iiâ€”using equations (with tags for reference); iiiâ€”less repeated commentary. In review/rewriting the Notebook, there were errors in its presentation, albeit all now in order. (Propose) Maintaining same Notebook structure and introducing ANOVA (by way of highlighting the limitations of the t-test (i.e. submitting three or more collections).\n",
      "\n",
      "commit bdaf712045b45f9375af77d4fd7e329968c1e4e4\n",
      "Author: unknown <seanohaileasa@protonmail.com>\n",
      "Date:   Thu Nov 11 20:06:47 2021 +0000\n",
      "\n",
      "    DAY:37 - [Notebook: scikit-learn]: (Last Commit) To start the automation process enlarging the regplot already created. (Introduction) Visually prediction based on minds eye by drawing a straight line vertically from the x-axis stopping at the best fit line and moving across the horizontal. The automation algorithm pairs the x-axis values to the y-axis values to find the relationship between the two collections of numbers. To determine the coefficients (parameters for the best fit line) first manipulated the two collection to ensure the correct ordering of inputs to sklearn (reshape also required due to package techniciallies). Finally fit the actualy values from the dataset to the model. (Propose) Determine the: i. score ii. intercept (b) iii. coeeficients (b & m) in line with the same pattern of the function f (linear model) introduced earlier - f(input, trained).\n",
      "\n",
      "commit 35dc247229a9194e56995221670982dd75212276\n",
      "Author: unknown <seanohaileasa@protonmail.com>\n",
      "Date:   Tue Nov 9 20:03:44 2021 +0000\n",
      "\n",
      "    DAY:39 - [Notebook: scikit-learn]: (Last Commit) Appropriately concise given introduction albeit the section - Introduction - does require revision before proceeding to section - Solution (cybersecurity-related). (Introduction) Extracted columns under investigation, creating a new DataFrame. Using the seaborn function regplot to i. plot the data extracted and ii. produce a linear regression model fit. (Propose) Automating the predictions by following the process outlined in the section - Preface - using package sklearn.\n",
      "\n",
      "commit 3c9502f057c356eda8ffb471fc375b14a8a90445\n",
      "Author: unknown <seanohaileasa@protonmail.com>\n",
      "Date:   Mon Nov 8 20:35:21 2021 +0000\n",
      "\n",
      "    DAY:40 - [Notebook: scipy-stats]: (Last Commit) No comment. (Appendix) Completed t-test on the real-world sleep dataset. The dataset consists of two groups with a before measurement and an after intervention measurement. It is tested with a 0.5 confidence level to determine a difference between the two groups (drugs). (Propose) Introducing ANOVA (by way of highlighting the limitations of the t-test (i.e. submitting three or more collections).\n",
      "\n",
      "commit f926577805b810ceb8bfc3ee24022954fecfab4a\n",
      "Author: unknown <seanohaileasa@protonmail.com>\n",
      "Date:   Mon Nov 8 20:07:34 2021 +0000\n",
      "\n",
      "    DAY:40 - [Notebook: scipy-stats]: (Last Commit) Similiar to the previous commit reviewed the remainder of the Notebook (subsection - Error). Day: 45 proposed reviewing Notebook due to delays and being behind schedule. Notebook is now up to date with further explanatory blurbs to better understand concepts (ready to proceed with new content). (Introduction) Add blurbs to subsection - Error. (Propose) i. Doing a t-test on a real-world dataset but for the moment adding to the Appendix (with the option to remove later if deemed appropriate). ii. Introducing ANOVA (by way of highlighting the limitations of the t-test (i.e. submitting three or more collections).\n",
      "\n",
      "commit 40dbbce75b89ec27de5c29427db1c183168c8670\n",
      "Author: unknown <seanohaileasa@protonmail.com>\n",
      "Date:   Mon Nov 8 19:26:08 2021 +0000\n",
      "\n",
      "    DAY:40 - [Notebook: scipy-stats]: (Last Commit) Proposed to continue reviewing the Notebook in the same fashion as the last commit before moving on to introducing ANOVA. (Introduction) Add blurbs to subsection - Scipy Stats - and capture the appropriate section of package/function documentation introduced into the Notebook for ease of readability and understanding without the need for explanation. Removed reference to statsmodels.stats as it thus far was used to verify the return values from scipy.stats.ttest_ind plus return the degrees of freedom (which is trivial to calculate). (Propose) Continue reviewing the Notebook in the same fashion (subsection - Error) before moving on to introducing ANOVA (by way of highlighting the limitations of the t-test.\n",
      "\n",
      "commit 20bbb54d7caf9b36689056f104e07ae4153bf04d\n",
      "Author: unknown <seanohaileasa@protonmail.com>\n",
      "Date:   Sun Nov 7 21:13:49 2021 +0000\n",
      "\n",
      "    DAY:41 - [Notebook: scipy-stats]: (Last Commit) Proposed reviewing the Notebook thus far before proceeding to ANOVA. (Introduction) Add blurbs to subsection - Simulation - and capture the appropriate section of package/function documentation introduced into the Notebook for ease of readability and understanding without the need for explanation. (Propose) Continue reviewing the Notebook in the same fashion before moving on to introducing ANOVA.\n",
      "\n",
      "commit 93630bc92cb0a1e292de9e4913893293f3def6c8\n",
      "Author: unknown <seanohaileasa@protonmail.com>\n",
      "Date:   Sat Nov 6 21:03:21 2021 +0000\n",
      "\n",
      "    DAY:42 - [Notebook: scikit-learn]: (Last Commit) Introduced the scenario of creating a function passing an argument trained on some pattern to make predictions. Proposed analysing the seaborn package builtin dataset penguins. (Introduction) Loading the penguins dataset creates a DataFrame to analyse the relationship between a penguins body mass and flipper length. Add a pairwise plot of the relationships in the dataset to highlight characteristics. Proposing to analyse the relationship between body mass and flipper length given the visual appearance of a line on the plot. (Propose) Extract variables of interest and plot the line.\n",
      "\n",
      "commit 9473e7ba68427459945912f995f8a85f896547d6\n",
      "Author: unknown <seanohaileasa@protonmail.com>\n",
      "Date:   Sat Nov 6 20:32:37 2021 +0000\n",
      "\n",
      "    DAY:42 - [Notebook: scikit-learn]: (Last Commit) The preface requires revision. (Introduction) Add a blurb about creating a function that takes the input to make a prediction based on an observed pattern from which the input will be trained. The trained collection of pattern values used on the input will provide predictions (asking given the input what the output is). The idea behind machine learning is often to predict something. (Propose) Using the seaborn package built-in dataset, penguins training a simple model by analysing the relationship between a penguins body mass and flipper length. In the interim to first analysis the dataset penguins.\n",
      "\n",
      "commit 6d168145eea93dd3a2c16b0f632ebab1873308d7\n",
      "Author: unknown <seanohaileasa@protonmail.com>\n",
      "Date:   Thu Nov 4 20:40:47 2021 +0000\n",
      "\n",
      "    DAY:44 - [Notebook: scikit-learn]: (Last Commit) Very rough work in completing the preface (requires revision). (Preface) Add a blurb about regression and how it differs from correlation. Regression indicates how one variable can be predicted from anotherâ€”building upon the earlier extrapolated data with a plot on what to expect from regression analysis. Given assessment is behind schedule moving away from the preface for the moment. (Propose) Move onto regression using scikit-learn without hacking example code from the sklearn documentation given introduction via preface (albeit not finished and requiring revision).\n",
      "\n",
      "commit 76c04b2fd6e45c1a8e0a8671a68267fe663daa26\n",
      "Author: unknown <seanohaileasa@protonmail.com>\n",
      "Date:   Wed Nov 3 17:01:00 2021 +0000\n",
      "\n",
      "    DAY:45 - [Notebook: scipy-stats]: (Last Commit) Fifteen days since the last commit. Proposed moving away from t-tests onto ANOVA but given behind schedule reviewing Notebook before proceeding. (Project Management) Added chart splitting commits completed on both assessment notebooks. Adding title and labels to plots presented thus far. (Propose) Before moving on to introducing ANOVA reviewing the Notebook and filling in any blank.\n",
      "\n",
      "commit d90a162b41cbe10b40e1b180d410a42a032b5f21\n",
      "Author: unknown <seanohaileasa@protonmail.com>\n",
      "Date:   Sun Oct 31 19:41:21 2021 +0000\n",
      "\n",
      "    DAY:48 - [Notebook: scikit-learn]: (Last Commit) Added labels (x and y) to plot representing height and weight (Preface). (Preface) Adding to data-driven problem introducing Pearson's r correlation and determining both height and weight are positively related and the strength of this relationship is strong. (Propose) Finish preface presentation on how regression differs from correlation and move onto regression via scikit-learn.\n",
      "\n",
      "commit abbee0c9f0840a2f34995798ad94e4c84581398c\n",
      "Author: unknown <seanohaileasa@protonmail.com>\n",
      "Date:   Thu Oct 28 21:04:00 2021 +0100\n",
      "\n",
      "    DAY:51 - [Notebook: scikit-learn]: (Last Commit) Redoing regression introduction presented thus far and presenting it under new section (Preface). (Preface) Presenting a simple (near real-world) data-driven problem demonstrate the practice of i. data collection; ii. descriptive statistics; iii. correlation; iv. data visualisation; v. model building; vi. extrapolation and regression analysis without the use of scikit-learn. (Propose) Building upon the near real-world dataset to introduce Pearson's r correlation and how regression differs from correlation by indicating how a variable can be predicted from another.\n",
      "\n",
      "commit 886cdcbe26318b7e8261d78f0eccb7f2793f29ca\n",
      "Author: unknown <seanohaileasa@protonmail.com>\n",
      "Date:   Wed Oct 27 16:21:37 2021 +0100\n",
      "\n",
      "    DAY:52 - [Notebook: scikit-learn]: (Last Commit) Nearly all of machine learning is a regression in some form. Given its importance, moving the last unit of work (last commit) to a new section. (Project Management) Due to illness, the project is behind schedule (x5 days); therefore, endeavour to submit at least two commits (units of work) per day for the next five days to catch up. (Structure) Included for ease of readability. (Preface) Moving last commit (unit of work) regarding regression to this section. (Propose) Elaborating on the topic of regression (without reference to sklearn) to a simple data-driven problem and introducing basic information where appropriate.\n",
      "\n",
      "commit 83a7aa2e54e21973c2fa019a2fa5209eaa266529\n",
      "Author: SeanOhAileasa <seanohaileasa@protonmail.com>\n",
      "Date:   Fri Oct 22 21:00:13 2021 +0100\n",
      "\n",
      "    DAY:57 - [Notebook: scikit-learn]: (Last Commit) Thus far introduced two algorithms of choice and now moving on to regression. (Introduction) Using a simple plot by way of introducing a regression. Two collections represent two points on the plot. Blurb about the equation of a line as thought in school (given the equation and draw the line) and that regression is the opposite idea whereby not given an equation but given points on the line and then trying to fill in the blanks. (Propose) This is a very light touch introduction to regression.\n",
      "\n",
      "commit b62e5b52a574001c8acb2401d7a1e60676e4d18b\n",
      "Author: SeanOhAileasa <seanohaileasa@protonmail.com>\n",
      "Date:   Wed Oct 20 21:28:39 2021 +0100\n",
      "\n",
      "    DAY:59 - [Notebook: scikit-learn]: (Last Commit) On trained data predictions were incorrect. (Introduction) The three algorithms under investigation are i. classification; ii. regression and iii. clustering - introducing model selection given its appropriate to determine the relationship between the input and output data. In addition, it is also closely related to regression (next algorithm to investigate). Training the KNN on a random selection (75%) and using the remaining data points (25%) to test the classifier. The KNN is predicted from input not seen before. It is important to note rerunning the notebook may produce different results given that the splitting of the overall iris dataset has a random element to it. (Propose) Moving onto regression for completion by day 50 then onto the solution section, introducing the algorithms with cybersecurity in mind (might be a bit ask at this early stage - revert with a decision to proceed).\n",
      "\n",
      "commit 41ecbe211326767bf6b443e63f31f92b4642021d\n",
      "Author: SeanOhAileasa <seanohaileasa@protonmail.com>\n",
      "Date:   Tue Oct 19 19:41:43 2021 +0100\n",
      "\n",
      "    DAY:60 - [Notebook: scipy-stats]: (Last Commit) Run 20000 t-tests instead of 100000. Analyst deems appropriate percentage chance collections are different even if they come from the same central point - adding a blurb about vaccines and changing the percentage chance to something more appropriate. (Introduction) Quantify how often false negatives occur (the power of the test). While false positives (Type I Errors) are built-in false negatives (Type II Errors) depend on the difference between two mean values and are difficult to quantify. (Propose) Moving away from t-tests for the moment to introduce the ANOVA.\n",
      "\n",
      "commit a4d0c622054a1d2a8bcf75c9d04811f82581f337\n",
      "Author: SeanOhAileasa <seanohaileasa@protonmail.com>\n",
      "Date:   Sun Oct 17 21:11:01 2021 +0100\n",
      "\n",
      "    DAY:62 - [Notebook: scipy-stats]: (Last Commit) Reviewed alternative approach in asking the t-test question. (Introduction) Built into statistical tests such as the t-test is the fact a wrong decision may be made. Adding to this such tests try to manage/quantify errors. Running 100000 t-tests and generating two new collections each time having the same central value and giving the t-test a 5% chance of determining both are different (albeit are the same). Rerunning the t-test with different means. These are false positives (Type I Error). It is the analyst who deems what percentage is appropriate to deem both collections are different even if both come from the same central point. (Propose) Moving onto a false negative (Type II Error) which is harder to quantify and depends on how close the means are.\n",
      "\n",
      "commit ad1127f7d408babec9df36bf918cfd1144520556\n",
      "Author: SeanOhAileasa <seanohaileasa@protonmail.com>\n",
      "Date:   Sat Oct 16 20:39:53 2021 +0100\n",
      "\n",
      "    DAY:63 - [Notebook: scipy-stats]: (Last Commit) PDF plot demonstrates what the t-test is checking (if the tips of both curves are at the same point). (Introduction) Brief blurb about assumptions thus far and other possible assumptions that could be made. Introducing a different way of asking the t-test question. Subtracting the centre point of each collection and if the result is zero then both are the same therefore end up with a t-distribution. Getting the t-value (t-statistic) and the critical value used to make a decision (calculation of the t-statistic from the samples). If the probability of seeing such a t-value given the hypothesis that there is no difference between the means then the data is suggesting to reject that hypothesis. (Propose) Built into statistical tests is the fact that a wrong decision may be made. Adding blurb about errors.\n",
      "\n",
      "commit 9e7d0aff1e628ac47c7b9a1f6c224113dcdc6c26\n",
      "Author: SeanOhAileasa <seanohaileasa@protonmail.com>\n",
      "Date:   Thu Oct 14 19:44:45 2021 +0100\n",
      "\n",
      "    DAY:65 - [Notebook: scikit-learn]: (Last Commit) Checked only a small number of predictions. (Introduction) A facet of the classification algorithm it that it does not make the right prediction even for values that it has been trained upon. When comparing the output data series to the KNN classifier predictions it is getting five of the inputs incorrect. It is possible to see why using 2-dimensional plots. The KNN classifier makes the prediction based on the five closest data points in the dataset. (Propose) Even on the trained data it does not make correct predictions. Rebuilding the KNN classifier for input not seen before.\n",
      "\n",
      "commit 5f9edad1059206a4e4f97c5a75ba9331f482c116\n",
      "Author: SeanOhAileasa <seanohaileasa@protonmail.com>\n",
      "Date:   Wed Oct 13 20:19:36 2021 +0100\n",
      "\n",
      "    DAY:66 - [Notebook: scipy-stats]: (Last Commit) Introduced an additional collection for demonstrating when two collections are centred around the same value so that the original collections when first run remain throughout the notebook. (Introduction) In order to interpret what a t-test does plotting the uncertainty (probability density function PDF) when generating numbers in the two normal generated collections. The plot demonstrates the t-test is checking (questions) if the tips of both curves (each collection) are at the same point or not. Additional plot demonstrates when both collections coincide. (Propose) Adding blurb about underlying assumptions and another way of asking the t-test question (if the centre point of each collection is the same or not).\n",
      "\n",
      "commit 7f62028c85d9d3ea948b3ff119b9179dc736f134\n",
      "Author: SeanOhAileasa <seanohaileasa@protonmail.com>\n",
      "Date:   Mon Oct 11 17:13:43 2021 +0100\n",
      "\n",
      "    DAY:68 - [Notebook: scikit-learn]: (Last Commit) The iris dataset is up and running and split between inputs (numeric columns) and output being the class of iris (categorical variable). (Introduction) Building KNN classifier selecting five nearest neighbours. Implementing the KNN vote via parameter n_neighbors determining the majority vote. Then training the classifier on the dataset by giving the classifier the inputs for which the outputs are known. The instance object returned from the classifier (instance of KNN) is fit with the actual data points. This information is used to build up a model of what a class of iris looks like and can make predictions about what a class of iris is based on measuring its sepal length and sepal width and petal length and petal width. Appears to be predicting the correct class for a data point that it already has (easily verifiable). (Propose) Rebuilding the KNN classifier for input not seen before.\n",
      "\n",
      "commit 6f53c678277bc0b27b7c1a217dfea2842c6f87fe\n",
      "Author: SeanOhAileasa <seanohaileasa@protonmail.com>\n",
      "Date:   Sun Oct 10 18:58:02 2021 +0100\n",
      "\n",
      "    DAY:69 - [Notebook: scikit-learn]: (Last Commit) The hacked example code from the sklearn.neighbors.KNeighborsClassifier documentation require revision with the use of plots and further explanation of topics. (Introduction) Instead of simulating a dataset (as done with sklearn.cluster.KMeans) using the famous iris dataset. Making the case for using the dataset based on observations and plots built out. Purpose is to take the values of the four variables (i. sepal length, ii. sepal_width, iii. petal_length and iv. petal_width) to predict the class of iris flower. Separating the data structure (DataFrame created from the dataset) into inputs and outputs in order to train up the KNN algorithm (having a set of inputs for which the outputs are known). (Propose) Building the KNN classifier for a given number of neighbors then training the classifier on the dataset. Fitting inputs (training) and output (targets) then make predictions based on the trained KNN classifier.\n",
      "\n",
      "commit 77f809fe6f8b28a56d863bf2298576e4dd20c166\n",
      "Author: SeanOhAileasa <seanohaileasa@protonmail.com>\n",
      "Date:   Fri Oct 8 20:07:59 2021 +0100\n",
      "\n",
      "    DAY:71 - [Notebook: scikit-learn]: (Last Commit) The sklearn.cluster.KMeans section requires revision but in the meantime moving onto the classification algorithm sklearn.neighbors.KNeighborsClassifier. (Introduction) Hacking the example code from the sklearn.neighbors.KNeighborsClassifier documentation. Short blurb on the data structure representing the KNN algorithm whereby parameter n_neighbors selects the specified number of nearest neighbours. Training the classifier with X for which the y is known. Method fit tells the KNN data structure the actual data point or setup for KNN. The KNN algorithm can make predictions based on the trained KNN classifier. (Propose) Creating a classification simulation with plotting or use the iris dataset to further develop understand of the sklearn.neighbors.KNeighborsClassifier algorithm.\n",
      "\n",
      "commit a50ef7b2591f648d867efcd0117eb211cddc636e\n",
      "Author: SeanOhAileasa <seanohaileasa@protonmail.com>\n",
      "Date:   Thu Oct 7 20:17:02 2021 +0100\n",
      "\n",
      "    DAY:72 - [Notebook: scikit-learn]: (Last Commit) Implemented simulation without analysis. Amendments include: i. tidy table of contents and ii. ensuring function parameter included when appropriate. (Introduction) Following the steps from the reengineered example code from the sklearn.cluster.KMeans documentation introduced sklearn.cluster (without commentary). Plotting the simulation dataset making both clusters identifiable then using new values to make a prediction. Plotting the prediction and the centre KMeans determines are the centre points based on where the points sit on the plot. An additional collection of evenly spaced values is introduced and plot. These dummy points (for classification) are used to highlight the decision boundary from where KMeans determines associated cluster via each cluster centre. (Propose) Thus far touched on the scikit-learn clustering algorithm and requires revision. For the moment going to proceed onto the scikit-learn classification algorithm following the same process as the clustering demonstration. First step is to reengineered example code from the sklearn.neighbors.KNeighborsClassifier documentation.\n",
      "\n",
      "commit b2894f773cff3baf3723936213f52cbbe7b2841d\n",
      "Author: SeanOhAileasa <seanohaileasa@protonmail.com>\n",
      "Date:   Wed Oct 6 21:17:11 2021 +0100\n",
      "\n",
      "    DAY:73 - [Notebook: scikit-learn]: (Last Commit) The reengineered example code from the sklearn.cluster.KMeans documentation requires no further examination. (Introduction) To support the reengineered example code from the sklearn.cluster.KMeans documentation now proceeding with simulating a (generated) dataset. Picked two central points from which two clusters of randomly generated values will be built upon. The process involved: i. stacking the collections on top of each other; ii. merging the two collections and iii. shuffling the values of the final collection so that the groups are not identifiable. Created a plot of the generated dataset without any analysis. (Propose) Thus far each commit in both notebooks is probably representing a number of individual units of work (commits). Propose breaking down units of work given commit history will get unwieldy. Next step will involve using the sklearn.cluster.KMeans on the simulated dataset (similar to the sklearn.cluster.KMeans reengineered documentation code completed prior).\n",
      "\n",
      "commit 6cbed5822725fd9ea2002eba39d1b5d9a5419334\n",
      "Author: SeanOhAileasa <seanohaileasa@protonmail.com>\n",
      "Date:   Tue Oct 5 19:56:46 2021 +0100\n",
      "\n",
      "    DAY:74 - [Notebook: scipy-stats]: (Last Commit) Introductory blurb about the t-test may requires less depth and explanation especially referencing machine learning. Chop to a more concise description - revert [DAY:20,0). (Introduction) Demonstrating the t-test by simulating two collections (random numbers) built upon a specified mean and spread (standard deviation). Creating a data structure (DataFrame) from the generated collections and separating both collections into category. Visualisation of the data structure via categorical plot (seaborn) clearly shows both collections differ. Using two methods (i. scipy.stats and; ii. statsmodels.stats.weightstats) performing the actual t-test (determine the probability that the distribution from which the two generated collections had the same mean). The simulated (generated) collections demonstrate a probability of approximately zero or no chance both collections had an underlying distribution in which both had the same mean value because the simulation was setup like this. Running the statistical tests provide evidence that its reproducibly true. Even when both collections have been setup with the same mean value and if the probability is higher than the p-value cut-off of 5% then the statistical test does not provide any evidence the two collections are not centred around same point.\n",
      "\n",
      "commit bd6a1159a5f1d84326bbe91efc5d5be3a22b9bb1\n",
      "Author: SeanOhAileasa <seanohaileasa@protonmail.com>\n",
      "Date:   Mon Oct 4 21:09:13 2021 +0100\n",
      "\n",
      "    DAY:75 - [Notebook: scipy-stats]: (Last Commit) Introductory blurb about the analysis of variance (ANOVA) requires more depth and explanation - revert [DAY:20,0). (Introduction) Taking a step backwards to introduce the t-test and build upon. Introductory blurb about the old-style statistical test called the t-test provides a grounding in the ideas around machine learning. (Propose) Generating two collections of random numbers and creating a data structure built from both then visualising to determine if both collections differ in general enough to justify saying one collection is different to the other collection.\n",
      "\n",
      "commit cd88af3e23ea5b6c246da885d323f2d4de6ac63d\n",
      "Author: SeanOhAileasa <seanohaileasa@protonmail.com>\n",
      "Date:   Sat Oct 2 21:08:12 2021 +0100\n",
      "\n",
      "    DAY:77 - [Notebook: scikit-learn]: (Last Commit) Reengineered example code from the sklearn.cluster.KMeans documentation to be supported with simulated data before moving onto a real-world implementation (re. Solution). (Introduction) Using matplotlib.pyplot plotting documentation example dataset (converting into an appropriate format beforehand). Once the x and y values are separated the plot appears to support the fact there exists two distinct groups of points. The KMeans algorithm determines if two distinct groups exist (allows for a human to be able to determine). Visually changed the colour of the second cluster to distinct both groups and added two new points to test KMeans. Using the KMeans prediction the new points are coloured according to associated (predicted) cluster. Plotting what the KMeans algorithm took as the centre of each clusters gives an indication how the algorithm came to its prediction. (Propose) Creating a clustering simulation with plotting to further develop understand of the sklearn.cluster.KMeans algorithm.\n",
      "\n",
      "commit d321c05f8ca8b5ac863badd05cd6d18c4b2cf577\n",
      "Author: SeanOhAileasa <seanohaileasa@protonmail.com>\n",
      "Date:   Fri Oct 1 20:35:07 2021 +0100\n",
      "\n",
      "    DAY:78 - [Notebook: scikit-learn]: (Last Commit) Introductory blurbs about scikit-learn and each of the scikit-learn algorithms of interest require more depth and explanation - revert [DAY:20,0). Commit proposes researching classification. This was a typo and should be clustering. (Introduction) Hacking the example code from the sklearn.cluster.KMeans documentation. Short blurb on the parameters of object KMeans (i. n_clusters and ii. random_state) and method fit which computes the k-means clustering. Two clusters specified and the attribute labels_ confirms this. Making a prediction using method predict passing two new points predicts associated cluster. Attribute cluster_centers returns what the KMeans algorithm took as the centre point of each cluster. (Propose) Plotting the dataset X separating the two clusters.\n",
      "\n",
      "commit 60956a92a82d7c3be0b4000db1fe1586cca94034\n",
      "Author: SeanOhAileasa <seanohaileasa@protonmail.com>\n",
      "Date:   Thu Sep 30 21:10:53 2021 +0100\n",
      "\n",
      "    DAY:79 - [Notebook: scipy-stats]: (Last Commit) i. Blank Jupiter notebook created and; ii. submitted GitHub repository URL to GMIT. (Abstract) Brief introductory blurb about the analysis of variance (ANOVA) and its application beyond comparing just two populations (t-test). (Propose) Researching t-tests and especially F-Ratios (central part of ANOVA) before proceeding.\n",
      "\n",
      "commit 023bf6b96aca8dfb2ea833cba6fc6101b8f334ad\n",
      "Author: SeanOhAileasa <seanohaileasa@protonmail.com>\n",
      "Date:   Wed Sep 29 19:44:12 2021 +0100\n",
      "\n",
      "    DAY:80 - [Notebook: scikit-learn]: (Last Commit) i. Blank Jupiter notebook created and; ii. submitted GitHub repository URL to GMIT. (Abstract) Introductory blurb about scikit-learn. (Introduction) Short blurb on each scikit-learn algorithms of interest: i. classification; ii. regression and iii. clustering. Classification thought of in terms of labelling data (e.g., images of hand drawn digits). Regression thought of in terms of fitting a line to a set of points (e.g., all of science). Clustering thought of in terms of grouping like items together (e.g., iris dataset). (Propose) Researching classification by simulating a collection of data and introducing sklearn.cluster.\n",
      "\n",
      "commit 39127b924e9bd70b79bacd7c3abb363390364bb6\n",
      "Author: SeanOhAileasa <seanohaileasa@protonmail.com>\n",
      "Date:   Mon Sep 27 15:42:14 2021 +0100\n",
      "\n",
      "    add repository ./mls-scikit-learn-scipy-stats\n"
     ]
    }
   ],
   "source": [
    "%%script bash\n",
    "git log"
   ]
  },
  {
   "cell_type": "code",
   "execution_count": 4,
   "id": "5890f1a6",
   "metadata": {},
   "outputs": [],
   "source": [
    "exit()"
   ]
  },
  {
   "cell_type": "markdown",
   "id": "eccd1f11",
   "metadata": {},
   "source": [
    "<a id=\"ppmPlanning\"></a>\n",
    "< [Table of Contents](#top) > < [instructions](#instructions)&nbsp;&nbsp;|&nbsp;&nbsp;[Structure](#structure) > < [Abstract](#abstract) > < [Introduction](#introduction)&nbsp;&nbsp;:&nbsp;&nbsp;[Sampling](#introductionScenario)&nbsp;&nbsp;|&nbsp;&nbsp;[``scipy.stats``](#solutionttest)&nbsp;&nbsp;|&nbsp;&nbsp;[Multiple Samples](#solutionMultipleSamples) > < [Solution](#solution)&nbsp;&nbsp;:&nbsp;&nbsp;[``ANOVA``](#solutionANOVA)&nbsp;&nbsp;|&nbsp;&nbsp;[Flavors of Cacao](#solutionANOVAOnewayflavorsofcacao) > < [Conclusion](#conclusion) > < [References](#references) > < [Appendix](#appendix)&nbsp;&nbsp;|&nbsp;&nbsp;[Project Management](#ppmTOC) >\n",
    "***\n",
    "###### Planning\n",
    "***"
   ]
  },
  {
   "cell_type": "markdown",
   "id": "2368f219",
   "metadata": {},
   "source": [
    "- Keeping in mind:\n",
    "\n",
    "i) GMIT assessment submission marking scheme; and \n",
    "\n",
    "ii) impression given to someone who is looking at this repository, endeavour to provide direct evidence of each of the items listed in each category where applicable (``Research`` - ``Development`` - ``Consistency`` - ``Documentation``)."
   ]
  },
  {
   "cell_type": "markdown",
   "id": "9c8f53a8",
   "metadata": {},
   "source": [
    "<a id=\"ppmGettingStartedResearch\"></a>\n",
    "< [Table of Contents](#top) > < [instructions](#instructions)&nbsp;&nbsp;|&nbsp;&nbsp;[Structure](#structure) > < [Abstract](#abstract) > < [Introduction](#introduction)&nbsp;&nbsp;:&nbsp;&nbsp;[Sampling](#introductionScenario)&nbsp;&nbsp;|&nbsp;&nbsp;[``scipy.stats``](#solutionttest)&nbsp;&nbsp;|&nbsp;&nbsp;[Multiple Samples](#solutionMultipleSamples) > < [Solution](#solution)&nbsp;&nbsp;:&nbsp;&nbsp;[``ANOVA``](#solutionANOVA)&nbsp;&nbsp;|&nbsp;&nbsp;[Flavors of Cacao](#solutionANOVAOnewayflavorsofcacao) > < [Conclusion](#conclusion) > < [References](#references) > < [Appendix](#appendix)&nbsp;&nbsp;|&nbsp;&nbsp;[Project Management](#ppmTOC) >\n",
    "***\n",
    "###### Research\n",
    "***"
   ]
  },
  {
   "cell_type": "markdown",
   "id": "72618b05",
   "metadata": {},
   "source": [
    "- GMIT: **\"Evidence of research performed on topic; submission based on referenced literature, particularly academic literature; evidence of understanding of the documentation for any software or libraries used.\"**"
   ]
  },
  {
   "cell_type": "markdown",
   "id": "db29e61d",
   "metadata": {},
   "source": [
    "- Investigation of packages used as demonstrated by references, background information, and approach: References will be in the format:\n",
    "\n",
    "```\n",
    "[referenceNumber] authorNames, referenceTitle, locationWebsiteBookVideo, dateMonthYear.\n",
    "```"
   ]
  },
  {
   "cell_type": "markdown",
   "id": "ba86233d",
   "metadata": {},
   "source": [
    "- Demonstrating work complete with appropriate references and not just for the problem but for the level of understanding of the problem."
   ]
  },
  {
   "cell_type": "markdown",
   "id": "ea7fc933",
   "metadata": {},
   "source": [
    "- Code commentary will include details of package, module, object (if applicable) to demonstrate understanding of software documentation and libraries used.\n",
    "\n",
    "```python\n",
    "# b_T_hird_P_arty-imports\n",
    "from matplotlib.pyplot import plot\n",
    "```\n",
    "```python\n",
    "# package matplotlib - module pyplot\n",
    "plot(x,y)\n",
    "```"
   ]
  },
  {
   "cell_type": "markdown",
   "id": "5a8f3651",
   "metadata": {},
   "source": [
    "<a id=\"ppmGettingStartedDevelopment\"></a>\n",
    "< [Table of Contents](#top) > < [instructions](#instructions)&nbsp;&nbsp;|&nbsp;&nbsp;[Structure](#structure) > < [Abstract](#abstract) > < [Introduction](#introduction)&nbsp;&nbsp;:&nbsp;&nbsp;[Sampling](#introductionScenario)&nbsp;&nbsp;|&nbsp;&nbsp;[``scipy.stats``](#solutionttest)&nbsp;&nbsp;|&nbsp;&nbsp;[Multiple Samples](#solutionMultipleSamples) > < [Solution](#solution)&nbsp;&nbsp;:&nbsp;&nbsp;[``ANOVA``](#solutionANOVA)&nbsp;&nbsp;|&nbsp;&nbsp;[Flavors of Cacao](#solutionANOVAOnewayflavorsofcacao) > < [Conclusion](#conclusion) > < [References](#references) > < [Appendix](#appendix)&nbsp;&nbsp;|&nbsp;&nbsp;[Project Management](#ppmTOC) >\n",
    "***\n",
    "###### Development\n",
    "***"
   ]
  },
  {
   "cell_type": "markdown",
   "id": "7cad6334",
   "metadata": {},
   "source": [
    "- GMIT: **\"Environment can be set up as described; code works without tweaking and as described; code is efficient, clean, and clear; evidence of consideration of standards and conventions appropriate to code of this kind.\"**"
   ]
  },
  {
   "cell_type": "markdown",
   "id": "9fa09d81",
   "metadata": {},
   "source": [
    "- Clear, well-written, and efficient code with appropriate comments - using Jupyter Notebook markdown cells to summarise concise workings. "
   ]
  },
  {
   "cell_type": "markdown",
   "id": "91ba1d97",
   "metadata": {},
   "source": [
    "- As much as possible use the ``Style Guide for Python Code`` [Guido van Rossum](https://web.archive.org/web/20201029095211/https://www.python.org/dev/peps/pep-0008/). Refer user-defined [Coding Conventions](#codingConventions)."
   ]
  },
  {
   "cell_type": "markdown",
   "id": "84133b0e",
   "metadata": {},
   "source": [
    "<a id=\"ppmGettingStartedConsistency\"></a>\n",
    "< [Table of Contents](#top) > < [instructions](#instructions)&nbsp;&nbsp;|&nbsp;&nbsp;[Structure](#structure) > < [Abstract](#abstract) > < [Introduction](#introduction)&nbsp;&nbsp;:&nbsp;&nbsp;[Sampling](#introductionScenario)&nbsp;&nbsp;|&nbsp;&nbsp;[``scipy.stats``](#solutionttest)&nbsp;&nbsp;|&nbsp;&nbsp;[Multiple Samples](#solutionMultipleSamples) > < [Solution](#solution)&nbsp;&nbsp;:&nbsp;&nbsp;[``ANOVA``](#solutionANOVA)&nbsp;&nbsp;|&nbsp;&nbsp;[Flavors of Cacao](#solutionANOVAOnewayflavorsofcacao) > < [Conclusion](#conclusion) > < [References](#references) > < [Appendix](#appendix)&nbsp;&nbsp;|&nbsp;&nbsp;[Project Management](#ppmTOC) >\n",
    "***\n",
    "###### Consistency\n",
    "***"
   ]
  },
  {
   "cell_type": "markdown",
   "id": "47c347b3",
   "metadata": {},
   "source": [
    "- GMIT: **\"Evidence of planning and project management; pragmatic attitude to work as evidenced by well-considered commit history; commits are of a reasonable size; consideration of how commit history will be perceived by others.\"**"
   ]
  },
  {
   "cell_type": "markdown",
   "id": "22cb7fc0",
   "metadata": {},
   "source": [
    "- Git commit blurb to include number of days outstanding before deadline (if applicable)."
   ]
  },
  {
   "cell_type": "markdown",
   "id": "ca250792",
   "metadata": {},
   "source": [
    "- Commits to highlight changes made since the last commit so that reviews of the git history can demonstrate compartmentation of work into the different sections."
   ]
  },
  {
   "cell_type": "markdown",
   "id": "444a28ba",
   "metadata": {},
   "source": [
    "<a id=\"ppmGettingStartedDocumentation\"></a>\n",
    "< [Table of Contents](#top) > < [instructions](#instructions)&nbsp;&nbsp;|&nbsp;&nbsp;[Structure](#structure) > < [Abstract](#abstract) > < [Introduction](#introduction)&nbsp;&nbsp;:&nbsp;&nbsp;[Sampling](#introductionScenario)&nbsp;&nbsp;|&nbsp;&nbsp;[``scipy.stats``](#solutionttest)&nbsp;&nbsp;|&nbsp;&nbsp;[Multiple Samples](#solutionMultipleSamples) > < [Solution](#solution)&nbsp;&nbsp;:&nbsp;&nbsp;[``ANOVA``](#solutionANOVA)&nbsp;&nbsp;|&nbsp;&nbsp;[Flavors of Cacao](#solutionANOVAOnewayflavorsofcacao) > < [Conclusion](#conclusion) > < [References](#references) > < [Appendix](#appendix)&nbsp;&nbsp;|&nbsp;&nbsp;[Project Management](#ppmTOC) >\n",
    "***\n",
    "###### Documentation\n",
    "***"
   ]
  },
  {
   "cell_type": "markdown",
   "id": "1547e7d7",
   "metadata": {},
   "source": [
    "- GMIT: **\"Clear documentation of how to create an environment in which any code will run, how to prepare the code for running, how to run the code including setting any options or flags, and what to expect upon running the code. Concise descriptions of code in comments and README.\"**"
   ]
  },
  {
   "cell_type": "markdown",
   "id": "5b16fe4d",
   "metadata": {},
   "source": [
    "- Include descriptions/plots of theoretical and practical aspects of the problem(s) - comments to be very concise for ease of readability."
   ]
  },
  {
   "cell_type": "markdown",
   "id": "e5d79e37",
   "metadata": {},
   "source": [
    "- Descriptions of code requiring further explanation will be presented in Jupyter Notebook markdown cells prior to code execution."
   ]
  },
  {
   "cell_type": "markdown",
   "id": "8885a3ce",
   "metadata": {},
   "source": [
    "<a id=\"considerations\"></a>\n",
    "< [Table of Contents](#top) > < [instructions](#instructions)&nbsp;&nbsp;|&nbsp;&nbsp;[Structure](#structure) > < [Abstract](#abstract) > < [Introduction](#introduction)&nbsp;&nbsp;:&nbsp;&nbsp;[Sampling](#introductionScenario)&nbsp;&nbsp;|&nbsp;&nbsp;[``scipy.stats``](#solutionttest)&nbsp;&nbsp;|&nbsp;&nbsp;[Multiple Samples](#solutionMultipleSamples) > < [Solution](#solution)&nbsp;&nbsp;:&nbsp;&nbsp;[``ANOVA``](#solutionANOVA)&nbsp;&nbsp;|&nbsp;&nbsp;[Flavors of Cacao](#solutionANOVAOnewayflavorsofcacao) > < [Conclusion](#conclusion) > < [References](#references) > < [Appendix](#appendix)&nbsp;&nbsp;|&nbsp;&nbsp;[Project Management](#ppmTOC) >\n",
    "***\n",
    "###### Considerations\n",
    "***"
   ]
  },
  {
   "cell_type": "markdown",
   "id": "2fc8c67e",
   "metadata": {},
   "source": [
    "- Using the four listed categories (``Research`` - ``Development`` - ``Consistency`` - ``Documentation``) in an attempt to not only focus on programming but also look at the information (data) and manipulating the data and coming up with techniques."
   ]
  },
  {
   "cell_type": "markdown",
   "id": "bd1e55c2",
   "metadata": {},
   "source": [
    "- Sometimes the most complex algorithms are counter-intuitive but do work and have been proven to work. Sometimes only a few lines of code is required to complete a topic/section - endeavour to explain the development of the algorithm and the reasoning behind why/how the code works."
   ]
  },
  {
   "cell_type": "markdown",
   "id": "8bede7d9",
   "metadata": {},
   "source": [
    "- Jupyter Notebook text formatting/presentation to be tidied up closer to the deadline (if applicable)."
   ]
  },
  {
   "cell_type": "markdown",
   "id": "dca3d988",
   "metadata": {},
   "source": [
    "<a id=\"codingConventions\"></a>\n",
    "< [Table of Contents](#top) > < [instructions](#instructions)&nbsp;&nbsp;|&nbsp;&nbsp;[Structure](#structure) > < [Abstract](#abstract) > < [Introduction](#introduction)&nbsp;&nbsp;:&nbsp;&nbsp;[Sampling](#introductionScenario)&nbsp;&nbsp;|&nbsp;&nbsp;[``scipy.stats``](#solutionttest)&nbsp;&nbsp;|&nbsp;&nbsp;[Multiple Samples](#solutionMultipleSamples) > < [Solution](#solution)&nbsp;&nbsp;:&nbsp;&nbsp;[``ANOVA``](#solutionANOVA)&nbsp;&nbsp;|&nbsp;&nbsp;[Flavors of Cacao](#solutionANOVAOnewayflavorsofcacao) > < [Conclusion](#conclusion) > < [References](#references) > < [Appendix](#appendix)&nbsp;&nbsp;|&nbsp;&nbsp;[Project Management](#ppmTOC) >\n",
    "***\n",
    "###### Coding Conventions\n",
    "***"
   ]
  },
  {
   "cell_type": "markdown",
   "id": "5376b4c7",
   "metadata": {},
   "source": [
    "- user-defined function / name (variable) - start with letters as follows\n",
    "\n",
    "| Example       | Signify \t\t          |\n",
    "| :------------ |:------------------------|\n",
    "|\tf        \t|\tuser-defined function |\n",
    "|\tn        \t|\tname - no variables   |"
   ]
  },
  {
   "cell_type": "markdown",
   "id": "a562717e",
   "metadata": {},
   "source": [
    "<a id=\"outstanding\"></a>\n",
    "< [Table of Contents](#top) > < [instructions](#instructions)&nbsp;&nbsp;|&nbsp;&nbsp;[Structure](#structure) > < [Abstract](#abstract) > < [Introduction](#introduction)&nbsp;&nbsp;:&nbsp;&nbsp;[Sampling](#introductionScenario)&nbsp;&nbsp;|&nbsp;&nbsp;[``scipy.stats``](#solutionttest)&nbsp;&nbsp;|&nbsp;&nbsp;[Multiple Samples](#solutionMultipleSamples) > < [Solution](#solution)&nbsp;&nbsp;:&nbsp;&nbsp;[``ANOVA``](#solutionANOVA)&nbsp;&nbsp;|&nbsp;&nbsp;[Flavors of Cacao](#solutionANOVAOnewayflavorsofcacao) > < [Conclusion](#conclusion) > < [References](#references) > < [Appendix](#appendix)&nbsp;&nbsp;|&nbsp;&nbsp;[Project Management](#ppmTOC) >\n",
    "***\n",
    "###### Outstanding\n",
    "***"
   ]
  },
  {
   "cell_type": "markdown",
   "id": "61371cf4",
   "metadata": {},
   "source": [
    "<a id=\"outstandingUnforeseenCircumstances\"></a>\n",
    "< [Table of Contents](#top) > < [instructions](#instructions)&nbsp;&nbsp;|&nbsp;&nbsp;[Structure](#structure) > < [Abstract](#abstract) > < [Introduction](#introduction)&nbsp;&nbsp;:&nbsp;&nbsp;[Sampling](#introductionScenario)&nbsp;&nbsp;|&nbsp;&nbsp;[``scipy.stats``](#solutionttest)&nbsp;&nbsp;|&nbsp;&nbsp;[Multiple Samples](#solutionMultipleSamples) > < [Solution](#solution)&nbsp;&nbsp;:&nbsp;&nbsp;[``ANOVA``](#solutionANOVA)&nbsp;&nbsp;|&nbsp;&nbsp;[Flavors of Cacao](#solutionANOVAOnewayflavorsofcacao) > < [Conclusion](#conclusion) > < [References](#references) > < [Appendix](#appendix)&nbsp;&nbsp;|&nbsp;&nbsp;[Project Management](#ppmTOC) >\n",
    "***\n",
    "###### Day:55 - Day:45\n",
    "***"
   ]
  },
  {
   "cell_type": "markdown",
   "id": "0a872167",
   "metadata": {},
   "source": [
    "- behind schedule due to illness - to address delays, endeavour to submit 1/2 commits (units of work) per day until 19th December 2021 (deadline)"
   ]
  },
  {
   "cell_type": "markdown",
   "id": "af254a18",
   "metadata": {},
   "source": [
    "<a id=\"outstandingday30\"></a>\n",
    "< [Table of Contents](#top) > < [instructions](#instructions)&nbsp;&nbsp;|&nbsp;&nbsp;[Structure](#structure) > < [Abstract](#abstract) > < [Introduction](#introduction)&nbsp;&nbsp;:&nbsp;&nbsp;[Sampling](#introductionScenario)&nbsp;&nbsp;|&nbsp;&nbsp;[``scipy.stats``](#solutionttest)&nbsp;&nbsp;|&nbsp;&nbsp;[Multiple Samples](#solutionMultipleSamples) > < [Solution](#solution)&nbsp;&nbsp;:&nbsp;&nbsp;[``ANOVA``](#solutionANOVA)&nbsp;&nbsp;|&nbsp;&nbsp;[Flavors of Cacao](#solutionANOVAOnewayflavorsofcacao) > < [Conclusion](#conclusion) > < [References](#references) > < [Appendix](#appendix)&nbsp;&nbsp;|&nbsp;&nbsp;[Project Management](#ppmTOC) >\n",
    "***\n",
    "###### DAY:30 - Day:21\n",
    "***"
   ]
  },
  {
   "cell_type": "markdown",
   "id": "cd6d99c8",
   "metadata": {},
   "source": [
    "- include more subsections detailing ``ANOVA`` (later may chop to a concise description albeit subsections to be as brief as possible)"
   ]
  },
  {
   "cell_type": "markdown",
   "id": "28748ed0",
   "metadata": {},
   "source": [
    "<a id=\"outstandingday20today10\"></a>\n",
    "< [Table of Contents](#top) > < [instructions](#instructions)&nbsp;&nbsp;|&nbsp;&nbsp;[Structure](#structure) > < [Abstract](#abstract) > < [Introduction](#introduction)&nbsp;&nbsp;:&nbsp;&nbsp;[Sampling](#introductionScenario)&nbsp;&nbsp;|&nbsp;&nbsp;[``scipy.stats``](#solutionttest)&nbsp;&nbsp;|&nbsp;&nbsp;[Multiple Samples](#solutionMultipleSamples) > < [Solution](#solution)&nbsp;&nbsp;:&nbsp;&nbsp;[``ANOVA``](#solutionANOVA)&nbsp;&nbsp;|&nbsp;&nbsp;[Flavors of Cacao](#solutionANOVAOnewayflavorsofcacao) > < [Conclusion](#conclusion) > < [References](#references) > < [Appendix](#appendix)&nbsp;&nbsp;|&nbsp;&nbsp;[Project Management](#ppmTOC) >\n",
    "***\n",
    "###### DAY:20 - Day:10\n",
    "***"
   ]
  },
  {
   "cell_type": "markdown",
   "id": "8d0b7b44",
   "metadata": {},
   "source": [
    "- preoccupied with the ``Multi-Paradigm Programming`` module assessment due for submission 22nd December 2021:\n",
    "\n",
    "[![nbviewer](https://raw.githubusercontent.com/jupyter/design/master/logos/Badges/nbviewer_badge.svg)](https://nbviewer.org/github/SeanOhAileasa/mpp-multi-paradigm-programming/blob/main/mpp-multi-paradigm-programming.ipynb#solution)"
   ]
  },
  {
   "cell_type": "markdown",
   "id": "f2c35df7",
   "metadata": {},
   "source": [
    "<a id=\"outstandingday20\"></a>\n",
    "< [Table of Contents](#top) > < [instructions](#instructions)&nbsp;&nbsp;|&nbsp;&nbsp;[Structure](#structure) > < [Abstract](#abstract) > < [Introduction](#introduction)&nbsp;&nbsp;:&nbsp;&nbsp;[Sampling](#introductionScenario)&nbsp;&nbsp;|&nbsp;&nbsp;[``scipy.stats``](#solutionttest)&nbsp;&nbsp;|&nbsp;&nbsp;[Multiple Samples](#solutionMultipleSamples) > < [Solution](#solution)&nbsp;&nbsp;:&nbsp;&nbsp;[``ANOVA``](#solutionANOVA)&nbsp;&nbsp;|&nbsp;&nbsp;[Flavors of Cacao](#solutionANOVAOnewayflavorsofcacao) > < [Conclusion](#conclusion) > < [References](#references) > < [Appendix](#appendix)&nbsp;&nbsp;|&nbsp;&nbsp;[Project Management](#ppmTOC) >\n",
    "***\n",
    "###### DAY:20 - Day:01\n",
    "***"
   ]
  },
  {
   "cell_type": "markdown",
   "id": "9e659a07",
   "metadata": {},
   "source": [
    "- introductory blurb about the analysis of variance (ANOVA) requires more depth and explanation [[commit](https://github.com/SeanOhAileasa/mls-scikit-learn-scipy-stats/tree/60956a92a82d7c3be0b4000db1fe1586cca94034)]"
   ]
  },
  {
   "cell_type": "markdown",
   "id": "e68c26fc",
   "metadata": {},
   "source": [
    "- introductory blurb about the t-test may requires less depth and explanation especially referencing machine learning - chop to a more concise description [[commit](https://github.com/SeanOhAileasa/mls-scikit-learn-scipy-stats/tree/bd6a1159a5f1d84326bbe91efc5d5be3a22b9bb1)]"
   ]
  },
  {
   "cell_type": "markdown",
   "id": "31fec95c",
   "metadata": {},
   "source": [
    "<a id=\"outstandingday15\"></a>\n",
    "< [Table of Contents](#top) > < [instructions](#instructions)&nbsp;&nbsp;|&nbsp;&nbsp;[Structure](#structure) > < [Abstract](#abstract) > < [Introduction](#introduction)&nbsp;&nbsp;:&nbsp;&nbsp;[Sampling](#introductionScenario)&nbsp;&nbsp;|&nbsp;&nbsp;[``scipy.stats``](#solutionttest)&nbsp;&nbsp;|&nbsp;&nbsp;[Multiple Samples](#solutionMultipleSamples) > < [Solution](#solution)&nbsp;&nbsp;:&nbsp;&nbsp;[``ANOVA``](#solutionANOVA)&nbsp;&nbsp;|&nbsp;&nbsp;[Flavors of Cacao](#solutionANOVAOnewayflavorsofcacao) > < [Conclusion](#conclusion) > < [References](#references) > < [Appendix](#appendix)&nbsp;&nbsp;|&nbsp;&nbsp;[Project Management](#ppmTOC) >\n",
    "***\n",
    "###### DAY:15 - Day:01\n",
    "***"
   ]
  },
  {
   "cell_type": "markdown",
   "id": "d99657ad",
   "metadata": {},
   "source": [
    "- ``scipy.stats.f_oneway`` documentation includes example code for multidimensional input - determine if appropriate to include?"
   ]
  },
  {
   "cell_type": "code",
   "execution_count": 1,
   "id": "66cb5144",
   "metadata": {},
   "outputs": [],
   "source": [
    "import scipy.stats as ss"
   ]
  },
  {
   "cell_type": "code",
   "execution_count": 2,
   "id": "cc47414e",
   "metadata": {},
   "outputs": [
    {
     "name": "stdout",
     "output_type": "stream",
     "text": [
      "    `f_oneway` accepts multidimensional input arrays.  When the inputs\n",
      "    are multidimensional and `axis` is not given, the test is performed\n",
      "    along the first axis of the input arrays.  For the following data, the\n",
      "    test is performed three times, once for each column.\n",
      "\n",
      "    >>> a = np.array([[9.87, 9.03, 6.81],\n",
      "    ...               [7.18, 8.35, 7.00],\n",
      "    ...               [8.39, 7.58, 7.68],\n",
      "    ...               [7.45, 6.33, 9.35],\n",
      "    ...               [6.41, 7.10, 9.33],\n",
      "    ...               [8.00, 8.24, 8.44]])\n",
      "    >>> b = np.array([[6.35, 7.30, 7.16],\n",
      "    ...               [6.65, 6.68, 7.63],\n",
      "    ...               [5.72, 7.73, 6.72],\n",
      "    ...               [7.01, 9.19, 7.41],\n",
      "    ...               [7.75, 7.87, 8.30],\n",
      "    ...               [6.90, 7.97, 6.97]])\n",
      "    >>> c = np.array([[3.31, 8.77, 1.01],\n",
      "    ...               [8.25, 3.24, 3.62],\n",
      "    ...               [6.32, 8.81, 5.19],\n",
      "    ...               [7.48, 8.83, 8.91],\n",
      "    ...               [8.59, 6.01, 6.07],\n",
      "    ...               [3.07, 9.72, 7.48]])\n",
      "    >>> F, p = f_oneway(a, b, c)\n",
      "    >>> F\n",
      "    array([1.75676344, 0.03701228, 3.76439349])\n",
      "    >>> p\n",
      "    array([0.20630784, 0.96375203, 0.04733157])\n",
      "\n",
      "    \n"
     ]
    }
   ],
   "source": [
    "print(\"\\n\".join(ss.f_oneway.__doc__.split(\"\\n\")[97:])) # multidimensional input arrays"
   ]
  },
  {
   "cell_type": "code",
   "execution_count": 3,
   "id": "89d09023",
   "metadata": {},
   "outputs": [],
   "source": [
    "exit()"
   ]
  },
  {
   "cell_type": "markdown",
   "id": "13d90471",
   "metadata": {},
   "source": [
    "<a id=\"outstandingday15\"></a>\n",
    "< [Table of Contents](#top) > < [instructions](#instructions)&nbsp;&nbsp;|&nbsp;&nbsp;[Structure](#structure) > < [Abstract](#abstract) > < [Introduction](#introduction)&nbsp;&nbsp;:&nbsp;&nbsp;[Sampling](#introductionScenario)&nbsp;&nbsp;|&nbsp;&nbsp;[``scipy.stats``](#solutionttest)&nbsp;&nbsp;|&nbsp;&nbsp;[Multiple Samples](#solutionMultipleSamples) > < [Solution](#solution)&nbsp;&nbsp;:&nbsp;&nbsp;[``ANOVA``](#solutionANOVA)&nbsp;&nbsp;|&nbsp;&nbsp;[Flavors of Cacao](#solutionANOVAOnewayflavorsofcacao) > < [Conclusion](#conclusion) > < [References](#references) > < [Appendix](#appendix)&nbsp;&nbsp;|&nbsp;&nbsp;[Project Management](#ppmTOC) >\n",
    "***\n",
    "###### DAY:02 - Day:00\n",
    "***"
   ]
  },
  {
   "cell_type": "markdown",
   "id": "f96f1f98",
   "metadata": {},
   "source": [
    "- ``README`` requires revision: i. Description; ii. Conclusion (plus Troubleshooting/Credits/Contact and anything else deemed appropriate for submission)"
   ]
  },
  {
   "cell_type": "markdown",
   "id": "f79549f7",
   "metadata": {},
   "source": [
    "***\n",
    "## END"
   ]
  },
  {
   "cell_type": "markdown",
   "id": "93620b12",
   "metadata": {},
   "source": [
    "<a id=\"appendixSleep\"></a>\n",
    "< [Table of Contents](#top) > < [instructions](#instructions)&nbsp;&nbsp;|&nbsp;&nbsp;[Structure](#structure) > < [Abstract](#abstract) > < [Introduction](#introduction)&nbsp;&nbsp;:&nbsp;&nbsp;[Sampling](#introductionScenario)&nbsp;&nbsp;|&nbsp;&nbsp;[``scipy.stats``](#solutionttest)&nbsp;&nbsp;|&nbsp;&nbsp;[Multiple Samples](#solutionMultipleSamples) > < [Solution](#solution)&nbsp;&nbsp;:&nbsp;&nbsp;[``ANOVA``](#solutionANOVA)&nbsp;&nbsp;|&nbsp;&nbsp;[Flavors of Cacao](#solutionANOVAOnewayflavorsofcacao) > < [Conclusion](#conclusion) > < [References](#references) > < [Appendix](#appendix)&nbsp;&nbsp;|&nbsp;&nbsp;[Project Management](#ppmTOC) >\n",
    "***\n",
    "### T-Test - Sleep Dataset \n",
    "***"
   ]
  },
  {
   "cell_type": "code",
   "execution_count": 1,
   "id": "f953761a",
   "metadata": {},
   "outputs": [],
   "source": [
    "import pandas as pd\n",
    "import scipy.stats as ss"
   ]
  },
  {
   "cell_type": "markdown",
   "id": "9d150aee",
   "metadata": {},
   "source": [
    "- doing a ``t-test`` on some real-world data (sleep dataset) [6]"
   ]
  },
  {
   "cell_type": "code",
   "execution_count": 2,
   "id": "c247b49d",
   "metadata": {},
   "outputs": [
    {
     "name": "stdout",
     "output_type": "stream",
     "text": [
      "Read a comma-separated values (csv) file into DataFrame.\n"
     ]
    }
   ],
   "source": [
    "print(\"\\n\".join(pd.read_csv.__doc__.split(\"\\n\")[1:2]))"
   ]
  },
  {
   "cell_type": "code",
   "execution_count": 3,
   "id": "bdfecc87",
   "metadata": {},
   "outputs": [],
   "source": [
    "dfsleep=pd.read_csv(\"https://vincentarelbundock.github.io/Rdatasets/csv/datasets/sleep.csv\")"
   ]
  },
  {
   "cell_type": "markdown",
   "id": "50546ca6",
   "metadata": {},
   "source": [
    "- two groups (``1`` and ``2``) plus associated person ``ID`` (each group) [6]"
   ]
  },
  {
   "cell_type": "code",
   "execution_count": 4,
   "id": "d0408ba2",
   "metadata": {},
   "outputs": [
    {
     "data": {
      "text/html": [
       "<div>\n",
       "<style scoped>\n",
       "    .dataframe tbody tr th:only-of-type {\n",
       "        vertical-align: middle;\n",
       "    }\n",
       "\n",
       "    .dataframe tbody tr th {\n",
       "        vertical-align: top;\n",
       "    }\n",
       "\n",
       "    .dataframe thead th {\n",
       "        text-align: right;\n",
       "    }\n",
       "</style>\n",
       "<table border=\"1\" class=\"dataframe\">\n",
       "  <thead>\n",
       "    <tr style=\"text-align: right;\">\n",
       "      <th></th>\n",
       "      <th>Unnamed: 0</th>\n",
       "      <th>extra</th>\n",
       "      <th>group</th>\n",
       "      <th>ID</th>\n",
       "    </tr>\n",
       "  </thead>\n",
       "  <tbody>\n",
       "    <tr>\n",
       "      <th>0</th>\n",
       "      <td>1</td>\n",
       "      <td>0.7</td>\n",
       "      <td>1</td>\n",
       "      <td>1</td>\n",
       "    </tr>\n",
       "    <tr>\n",
       "      <th>1</th>\n",
       "      <td>2</td>\n",
       "      <td>-1.6</td>\n",
       "      <td>1</td>\n",
       "      <td>2</td>\n",
       "    </tr>\n",
       "    <tr>\n",
       "      <th>2</th>\n",
       "      <td>3</td>\n",
       "      <td>-0.2</td>\n",
       "      <td>1</td>\n",
       "      <td>3</td>\n",
       "    </tr>\n",
       "    <tr>\n",
       "      <th>3</th>\n",
       "      <td>4</td>\n",
       "      <td>-1.2</td>\n",
       "      <td>1</td>\n",
       "      <td>4</td>\n",
       "    </tr>\n",
       "    <tr>\n",
       "      <th>4</th>\n",
       "      <td>5</td>\n",
       "      <td>-0.1</td>\n",
       "      <td>1</td>\n",
       "      <td>5</td>\n",
       "    </tr>\n",
       "    <tr>\n",
       "      <th>5</th>\n",
       "      <td>6</td>\n",
       "      <td>3.4</td>\n",
       "      <td>1</td>\n",
       "      <td>6</td>\n",
       "    </tr>\n",
       "    <tr>\n",
       "      <th>6</th>\n",
       "      <td>7</td>\n",
       "      <td>3.7</td>\n",
       "      <td>1</td>\n",
       "      <td>7</td>\n",
       "    </tr>\n",
       "    <tr>\n",
       "      <th>7</th>\n",
       "      <td>8</td>\n",
       "      <td>0.8</td>\n",
       "      <td>1</td>\n",
       "      <td>8</td>\n",
       "    </tr>\n",
       "    <tr>\n",
       "      <th>8</th>\n",
       "      <td>9</td>\n",
       "      <td>0.0</td>\n",
       "      <td>1</td>\n",
       "      <td>9</td>\n",
       "    </tr>\n",
       "    <tr>\n",
       "      <th>9</th>\n",
       "      <td>10</td>\n",
       "      <td>2.0</td>\n",
       "      <td>1</td>\n",
       "      <td>10</td>\n",
       "    </tr>\n",
       "    <tr>\n",
       "      <th>10</th>\n",
       "      <td>11</td>\n",
       "      <td>1.9</td>\n",
       "      <td>2</td>\n",
       "      <td>1</td>\n",
       "    </tr>\n",
       "    <tr>\n",
       "      <th>11</th>\n",
       "      <td>12</td>\n",
       "      <td>0.8</td>\n",
       "      <td>2</td>\n",
       "      <td>2</td>\n",
       "    </tr>\n",
       "    <tr>\n",
       "      <th>12</th>\n",
       "      <td>13</td>\n",
       "      <td>1.1</td>\n",
       "      <td>2</td>\n",
       "      <td>3</td>\n",
       "    </tr>\n",
       "    <tr>\n",
       "      <th>13</th>\n",
       "      <td>14</td>\n",
       "      <td>0.1</td>\n",
       "      <td>2</td>\n",
       "      <td>4</td>\n",
       "    </tr>\n",
       "    <tr>\n",
       "      <th>14</th>\n",
       "      <td>15</td>\n",
       "      <td>-0.1</td>\n",
       "      <td>2</td>\n",
       "      <td>5</td>\n",
       "    </tr>\n",
       "    <tr>\n",
       "      <th>15</th>\n",
       "      <td>16</td>\n",
       "      <td>4.4</td>\n",
       "      <td>2</td>\n",
       "      <td>6</td>\n",
       "    </tr>\n",
       "    <tr>\n",
       "      <th>16</th>\n",
       "      <td>17</td>\n",
       "      <td>5.5</td>\n",
       "      <td>2</td>\n",
       "      <td>7</td>\n",
       "    </tr>\n",
       "    <tr>\n",
       "      <th>17</th>\n",
       "      <td>18</td>\n",
       "      <td>1.6</td>\n",
       "      <td>2</td>\n",
       "      <td>8</td>\n",
       "    </tr>\n",
       "    <tr>\n",
       "      <th>18</th>\n",
       "      <td>19</td>\n",
       "      <td>4.6</td>\n",
       "      <td>2</td>\n",
       "      <td>9</td>\n",
       "    </tr>\n",
       "    <tr>\n",
       "      <th>19</th>\n",
       "      <td>20</td>\n",
       "      <td>3.4</td>\n",
       "      <td>2</td>\n",
       "      <td>10</td>\n",
       "    </tr>\n",
       "  </tbody>\n",
       "</table>\n",
       "</div>"
      ],
      "text/plain": [
       "    Unnamed: 0  extra  group  ID\n",
       "0            1    0.7      1   1\n",
       "1            2   -1.6      1   2\n",
       "2            3   -0.2      1   3\n",
       "3            4   -1.2      1   4\n",
       "4            5   -0.1      1   5\n",
       "5            6    3.4      1   6\n",
       "6            7    3.7      1   7\n",
       "7            8    0.8      1   8\n",
       "8            9    0.0      1   9\n",
       "9           10    2.0      1  10\n",
       "10          11    1.9      2   1\n",
       "11          12    0.8      2   2\n",
       "12          13    1.1      2   3\n",
       "13          14    0.1      2   4\n",
       "14          15   -0.1      2   5\n",
       "15          16    4.4      2   6\n",
       "16          17    5.5      2   7\n",
       "17          18    1.6      2   8\n",
       "18          19    4.6      2   9\n",
       "19          20    3.4      2  10"
      ]
     },
     "execution_count": 4,
     "metadata": {},
     "output_type": "execute_result"
    }
   ],
   "source": [
    "dfsleep"
   ]
  },
  {
   "cell_type": "markdown",
   "id": "ea015af2",
   "metadata": {},
   "source": [
    "- group ``1`` is a beforehand measure on a person via ``ID`` [6]"
   ]
  },
  {
   "cell_type": "code",
   "execution_count": 5,
   "id": "5c628be4",
   "metadata": {},
   "outputs": [],
   "source": [
    "drugA=dfsleep[dfsleep[\"group\"]==1] # extracting group ``1``"
   ]
  },
  {
   "cell_type": "code",
   "execution_count": 6,
   "id": "e53b807c",
   "metadata": {},
   "outputs": [
    {
     "data": {
      "text/html": [
       "<div>\n",
       "<style scoped>\n",
       "    .dataframe tbody tr th:only-of-type {\n",
       "        vertical-align: middle;\n",
       "    }\n",
       "\n",
       "    .dataframe tbody tr th {\n",
       "        vertical-align: top;\n",
       "    }\n",
       "\n",
       "    .dataframe thead th {\n",
       "        text-align: right;\n",
       "    }\n",
       "</style>\n",
       "<table border=\"1\" class=\"dataframe\">\n",
       "  <thead>\n",
       "    <tr style=\"text-align: right;\">\n",
       "      <th></th>\n",
       "      <th>Unnamed: 0</th>\n",
       "      <th>extra</th>\n",
       "      <th>group</th>\n",
       "      <th>ID</th>\n",
       "    </tr>\n",
       "  </thead>\n",
       "  <tbody>\n",
       "    <tr>\n",
       "      <th>0</th>\n",
       "      <td>1</td>\n",
       "      <td>0.7</td>\n",
       "      <td>1</td>\n",
       "      <td>1</td>\n",
       "    </tr>\n",
       "    <tr>\n",
       "      <th>1</th>\n",
       "      <td>2</td>\n",
       "      <td>-1.6</td>\n",
       "      <td>1</td>\n",
       "      <td>2</td>\n",
       "    </tr>\n",
       "    <tr>\n",
       "      <th>2</th>\n",
       "      <td>3</td>\n",
       "      <td>-0.2</td>\n",
       "      <td>1</td>\n",
       "      <td>3</td>\n",
       "    </tr>\n",
       "    <tr>\n",
       "      <th>3</th>\n",
       "      <td>4</td>\n",
       "      <td>-1.2</td>\n",
       "      <td>1</td>\n",
       "      <td>4</td>\n",
       "    </tr>\n",
       "    <tr>\n",
       "      <th>4</th>\n",
       "      <td>5</td>\n",
       "      <td>-0.1</td>\n",
       "      <td>1</td>\n",
       "      <td>5</td>\n",
       "    </tr>\n",
       "    <tr>\n",
       "      <th>5</th>\n",
       "      <td>6</td>\n",
       "      <td>3.4</td>\n",
       "      <td>1</td>\n",
       "      <td>6</td>\n",
       "    </tr>\n",
       "    <tr>\n",
       "      <th>6</th>\n",
       "      <td>7</td>\n",
       "      <td>3.7</td>\n",
       "      <td>1</td>\n",
       "      <td>7</td>\n",
       "    </tr>\n",
       "    <tr>\n",
       "      <th>7</th>\n",
       "      <td>8</td>\n",
       "      <td>0.8</td>\n",
       "      <td>1</td>\n",
       "      <td>8</td>\n",
       "    </tr>\n",
       "    <tr>\n",
       "      <th>8</th>\n",
       "      <td>9</td>\n",
       "      <td>0.0</td>\n",
       "      <td>1</td>\n",
       "      <td>9</td>\n",
       "    </tr>\n",
       "    <tr>\n",
       "      <th>9</th>\n",
       "      <td>10</td>\n",
       "      <td>2.0</td>\n",
       "      <td>1</td>\n",
       "      <td>10</td>\n",
       "    </tr>\n",
       "  </tbody>\n",
       "</table>\n",
       "</div>"
      ],
      "text/plain": [
       "   Unnamed: 0  extra  group  ID\n",
       "0           1    0.7      1   1\n",
       "1           2   -1.6      1   2\n",
       "2           3   -0.2      1   3\n",
       "3           4   -1.2      1   4\n",
       "4           5   -0.1      1   5\n",
       "5           6    3.4      1   6\n",
       "6           7    3.7      1   7\n",
       "7           8    0.8      1   8\n",
       "8           9    0.0      1   9\n",
       "9          10    2.0      1  10"
      ]
     },
     "execution_count": 6,
     "metadata": {},
     "output_type": "execute_result"
    }
   ],
   "source": [
    "drugA"
   ]
  },
  {
   "cell_type": "code",
   "execution_count": 7,
   "id": "de69fa4a",
   "metadata": {},
   "outputs": [
    {
     "name": "stdout",
     "output_type": "stream",
     "text": [
      "Sort by the values along either axis.\n"
     ]
    }
   ],
   "source": [
    "print(\"\\n\".join(drugA.sort_values.__doc__.split(\"\\n\")[1:2]))"
   ]
  },
  {
   "cell_type": "code",
   "execution_count": 8,
   "id": "9adef60b",
   "metadata": {},
   "outputs": [],
   "source": [
    "drugA=drugA.sort_values(by=\"ID\")"
   ]
  },
  {
   "cell_type": "code",
   "execution_count": 9,
   "id": "9fff3fbf",
   "metadata": {},
   "outputs": [
    {
     "name": "stdout",
     "output_type": "stream",
     "text": [
      "        Convert the DataFrame to a NumPy array.\n"
     ]
    }
   ],
   "source": [
    "print(\"\\n\".join(drugA.to_numpy.__doc__.split(\"\\n\")[1:2]))"
   ]
  },
  {
   "cell_type": "code",
   "execution_count": 10,
   "id": "2ad464fc",
   "metadata": {},
   "outputs": [],
   "source": [
    "drugA=drugA[\"extra\"].to_numpy()"
   ]
  },
  {
   "cell_type": "markdown",
   "id": "2fcd61ab",
   "metadata": {},
   "source": [
    "- group ``2`` is a second measure after some intervention on the same person via ``ID`` [6]"
   ]
  },
  {
   "cell_type": "code",
   "execution_count": 11,
   "id": "52db02dd",
   "metadata": {},
   "outputs": [],
   "source": [
    "drugB=dfsleep[dfsleep[\"group\"]==2] # extracting group ``2``"
   ]
  },
  {
   "cell_type": "code",
   "execution_count": 12,
   "id": "7414b3bf",
   "metadata": {},
   "outputs": [
    {
     "data": {
      "text/html": [
       "<div>\n",
       "<style scoped>\n",
       "    .dataframe tbody tr th:only-of-type {\n",
       "        vertical-align: middle;\n",
       "    }\n",
       "\n",
       "    .dataframe tbody tr th {\n",
       "        vertical-align: top;\n",
       "    }\n",
       "\n",
       "    .dataframe thead th {\n",
       "        text-align: right;\n",
       "    }\n",
       "</style>\n",
       "<table border=\"1\" class=\"dataframe\">\n",
       "  <thead>\n",
       "    <tr style=\"text-align: right;\">\n",
       "      <th></th>\n",
       "      <th>Unnamed: 0</th>\n",
       "      <th>extra</th>\n",
       "      <th>group</th>\n",
       "      <th>ID</th>\n",
       "    </tr>\n",
       "  </thead>\n",
       "  <tbody>\n",
       "    <tr>\n",
       "      <th>10</th>\n",
       "      <td>11</td>\n",
       "      <td>1.9</td>\n",
       "      <td>2</td>\n",
       "      <td>1</td>\n",
       "    </tr>\n",
       "    <tr>\n",
       "      <th>11</th>\n",
       "      <td>12</td>\n",
       "      <td>0.8</td>\n",
       "      <td>2</td>\n",
       "      <td>2</td>\n",
       "    </tr>\n",
       "    <tr>\n",
       "      <th>12</th>\n",
       "      <td>13</td>\n",
       "      <td>1.1</td>\n",
       "      <td>2</td>\n",
       "      <td>3</td>\n",
       "    </tr>\n",
       "    <tr>\n",
       "      <th>13</th>\n",
       "      <td>14</td>\n",
       "      <td>0.1</td>\n",
       "      <td>2</td>\n",
       "      <td>4</td>\n",
       "    </tr>\n",
       "    <tr>\n",
       "      <th>14</th>\n",
       "      <td>15</td>\n",
       "      <td>-0.1</td>\n",
       "      <td>2</td>\n",
       "      <td>5</td>\n",
       "    </tr>\n",
       "    <tr>\n",
       "      <th>15</th>\n",
       "      <td>16</td>\n",
       "      <td>4.4</td>\n",
       "      <td>2</td>\n",
       "      <td>6</td>\n",
       "    </tr>\n",
       "    <tr>\n",
       "      <th>16</th>\n",
       "      <td>17</td>\n",
       "      <td>5.5</td>\n",
       "      <td>2</td>\n",
       "      <td>7</td>\n",
       "    </tr>\n",
       "    <tr>\n",
       "      <th>17</th>\n",
       "      <td>18</td>\n",
       "      <td>1.6</td>\n",
       "      <td>2</td>\n",
       "      <td>8</td>\n",
       "    </tr>\n",
       "    <tr>\n",
       "      <th>18</th>\n",
       "      <td>19</td>\n",
       "      <td>4.6</td>\n",
       "      <td>2</td>\n",
       "      <td>9</td>\n",
       "    </tr>\n",
       "    <tr>\n",
       "      <th>19</th>\n",
       "      <td>20</td>\n",
       "      <td>3.4</td>\n",
       "      <td>2</td>\n",
       "      <td>10</td>\n",
       "    </tr>\n",
       "  </tbody>\n",
       "</table>\n",
       "</div>"
      ],
      "text/plain": [
       "    Unnamed: 0  extra  group  ID\n",
       "10          11    1.9      2   1\n",
       "11          12    0.8      2   2\n",
       "12          13    1.1      2   3\n",
       "13          14    0.1      2   4\n",
       "14          15   -0.1      2   5\n",
       "15          16    4.4      2   6\n",
       "16          17    5.5      2   7\n",
       "17          18    1.6      2   8\n",
       "18          19    4.6      2   9\n",
       "19          20    3.4      2  10"
      ]
     },
     "execution_count": 12,
     "metadata": {},
     "output_type": "execute_result"
    }
   ],
   "source": [
    "drugB"
   ]
  },
  {
   "cell_type": "code",
   "execution_count": 13,
   "id": "02ad1f6f",
   "metadata": {},
   "outputs": [],
   "source": [
    "drugB=drugB.sort_values(by=\"ID\") # sort by ID"
   ]
  },
  {
   "cell_type": "code",
   "execution_count": 14,
   "id": "86eea804",
   "metadata": {},
   "outputs": [],
   "source": [
    "drugB = drugB[\"extra\"].to_numpy() # to numpy array"
   ]
  },
  {
   "cell_type": "markdown",
   "id": "716eaa7a",
   "metadata": {},
   "source": [
    "- the first number of ``drugA`` is paired with the first number of ``drugB`` etc [6]"
   ]
  },
  {
   "cell_type": "code",
   "execution_count": 15,
   "id": "d9dff172",
   "metadata": {},
   "outputs": [
    {
     "data": {
      "text/plain": [
       "array([ 0.7, -1.6, -0.2, -1.2, -0.1,  3.4,  3.7,  0.8,  0. ,  2. ])"
      ]
     },
     "execution_count": 15,
     "metadata": {},
     "output_type": "execute_result"
    }
   ],
   "source": [
    "drugA"
   ]
  },
  {
   "cell_type": "code",
   "execution_count": 16,
   "id": "640b0e7e",
   "metadata": {},
   "outputs": [
    {
     "data": {
      "text/plain": [
       "array([ 1.9,  0.8,  1.1,  0.1, -0.1,  4.4,  5.5,  1.6,  4.6,  3.4])"
      ]
     },
     "execution_count": 16,
     "metadata": {},
     "output_type": "execute_result"
    }
   ],
   "source": [
    "drugB"
   ]
  },
  {
   "cell_type": "markdown",
   "id": "71da9a52",
   "metadata": {},
   "source": [
    "- testing if there is a difference between ``drugA`` and ``drugB`` [6]"
   ]
  },
  {
   "cell_type": "code",
   "execution_count": 17,
   "id": "1c91691c",
   "metadata": {},
   "outputs": [
    {
     "name": "stdout",
     "output_type": "stream",
     "text": [
      "    Calculate the t-test on TWO RELATED samples of scores, a and b.\n",
      "\n",
      "    This is a two-sided test for the null hypothesis that 2 related or\n",
      "    repeated samples have identical average (expected) values.\n"
     ]
    }
   ],
   "source": [
    "print(\"\\n\".join(ss.ttest_rel.__doc__.split(\"\\n\")[1:5]))"
   ]
  },
  {
   "cell_type": "code",
   "execution_count": 18,
   "id": "8c1c40a0",
   "metadata": {},
   "outputs": [
    {
     "data": {
      "text/plain": [
       "Ttest_relResult(statistic=-4.062127683382037, pvalue=0.00283289019738427)"
      ]
     },
     "execution_count": 18,
     "metadata": {},
     "output_type": "execute_result"
    }
   ],
   "source": [
    "ss.ttest_rel(a=drugA,b=drugB)"
   ]
  },
  {
   "cell_type": "markdown",
   "id": "6e516672",
   "metadata": {},
   "source": [
    "- using a $0.5$ confidence level can reject this as it looks like there is a difference between ``drugA`` and ``drugB`` [6]"
   ]
  },
  {
   "cell_type": "code",
   "execution_count": 19,
   "id": "122dcbf4",
   "metadata": {},
   "outputs": [
    {
     "data": {
      "text/plain": [
       "'pvalue: 0.00283289019738427'"
      ]
     },
     "execution_count": 19,
     "metadata": {},
     "output_type": "execute_result"
    }
   ],
   "source": [
    "f\"pvalue: {ss.ttest_rel(a=drugA,b=drugB)[1]}\""
   ]
  },
  {
   "cell_type": "markdown",
   "id": "419569fa",
   "metadata": {},
   "source": [
    "- another type of ``t-test`` called the one sample (or a single sample which is the paired sample ``t-test``) asks the question if subtracting the numbers in ``drugA`` from ``drugB`` is the average zero [6]"
   ]
  },
  {
   "cell_type": "code",
   "execution_count": 20,
   "id": "d88ca3a2",
   "metadata": {},
   "outputs": [
    {
     "name": "stdout",
     "output_type": "stream",
     "text": [
      "    Calculate the T-test for the mean of ONE group of scores.\n",
      "\n",
      "    This is a two-sided test for the null hypothesis that the expected value\n",
      "    (mean) of a sample of independent observations `a` is equal to the given\n",
      "    population mean, `popmean`.\n"
     ]
    }
   ],
   "source": [
    "print(\"\\n\".join(ss.ttest_1samp.__doc__.split(\"\\n\")[1:6]))"
   ]
  },
  {
   "cell_type": "code",
   "execution_count": 21,
   "id": "3238ba75",
   "metadata": {},
   "outputs": [
    {
     "data": {
      "text/plain": [
       "Ttest_1sampResult(statistic=4.062127683382037, pvalue=0.00283289019738427)"
      ]
     },
     "execution_count": 21,
     "metadata": {},
     "output_type": "execute_result"
    }
   ],
   "source": [
    "ss.ttest_1samp(a=drugB-drugA,popmean=0)"
   ]
  },
  {
   "cell_type": "code",
   "execution_count": 22,
   "id": "8c1b6563",
   "metadata": {},
   "outputs": [
    {
     "data": {
      "text/plain": [
       "'pvalue: 0.00283289019738427'"
      ]
     },
     "execution_count": 22,
     "metadata": {},
     "output_type": "execute_result"
    }
   ],
   "source": [
    "f\"pvalue: {ss.ttest_1samp(a=drugA-drugB,popmean=0)[1]}\""
   ]
  },
  {
   "cell_type": "code",
   "execution_count": 23,
   "id": "8ac2a867",
   "metadata": {},
   "outputs": [
    {
     "data": {
      "text/plain": [
       "True"
      ]
     },
     "execution_count": 23,
     "metadata": {},
     "output_type": "execute_result"
    }
   ],
   "source": [
    "ss.ttest_rel(a=drugA,b=drugB)[1]==ss.ttest_1samp(a=drugB-drugA,popmean=0)[1]"
   ]
  },
  {
   "cell_type": "markdown",
   "id": "123f6728",
   "metadata": {},
   "source": [
    "- overview of not just ``t-tests`` but an overview of the typical way to use statistics to do things like hypothesis testing (traditional old way of doing statistics) [6]"
   ]
  },
  {
   "cell_type": "markdown",
   "id": "86c50795",
   "metadata": {},
   "source": [
    "***\n",
    "## END"
   ]
  },
  {
   "cell_type": "markdown",
   "id": "4ac24de1",
   "metadata": {},
   "source": [
    "***\n",
    "## END (Appendix)"
   ]
  },
  {
   "cell_type": "markdown",
   "id": "899c1783",
   "metadata": {},
   "source": [
    "# END JUPYTER NOTEBOOK"
   ]
  }
 ],
 "metadata": {
  "kernelspec": {
   "display_name": "Python 3",
   "language": "python",
   "name": "python3"
  },
  "language_info": {
   "codemirror_mode": {
    "name": "ipython",
    "version": 3
   },
   "file_extension": ".py",
   "mimetype": "text/x-python",
   "name": "python",
   "nbconvert_exporter": "python",
   "pygments_lexer": "ipython3",
   "version": "3.8.8"
  }
 },
 "nbformat": 4,
 "nbformat_minor": 5
}
