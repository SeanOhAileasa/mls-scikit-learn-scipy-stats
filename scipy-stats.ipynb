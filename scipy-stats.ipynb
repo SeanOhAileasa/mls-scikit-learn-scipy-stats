{
 "cells": [
  {
   "cell_type": "code",
   "execution_count": null,
   "id": "76b6aaa9",
   "metadata": {},
   "outputs": [
    {
     "data": {
      "text/html": [
       "<script>Jupyter.notebook.kernel.restart()</script>"
      ]
     },
     "metadata": {},
     "output_type": "display_data"
    }
   ],
   "source": [
    "from IPython.core.display import display_html\n",
    "display_html(\"<script>Jupyter.notebook.kernel.restart()</script>\",raw=True)"
   ]
  },
  {
   "cell_type": "code",
   "execution_count": 1,
   "id": "19093beb",
   "metadata": {},
   "outputs": [
    {
     "data": {
      "text/html": [
       "<style>.container { width:100% !important; }</style>"
      ],
      "text/plain": [
       "<IPython.core.display.HTML object>"
      ]
     },
     "metadata": {},
     "output_type": "display_data"
    },
    {
     "data": {
      "text/html": [
       "<style>.container { width:100% !important; }</style>"
      ],
      "text/plain": [
       "<IPython.core.display.HTML object>"
      ]
     },
     "metadata": {},
     "output_type": "display_data"
    }
   ],
   "source": [
    "from sys import path; path.insert(1,\"../src\");\n",
    "import fubar; from importlib import reload; reload(fubar);"
   ]
  },
  {
   "cell_type": "markdown",
   "id": "616b0550",
   "metadata": {},
   "source": [
    "***\n",
    "< [GMIT Data Analytics](https://web.archive.org/web/20201029063153/https://www.gmit.ie/computer-science-and-applied-physics/higher-diploma-science-computing-data-analytics-ict) | [Home](https://github.com/SeanOhAileasa) | [README](https://github.com/SeanOhAileasa/mls-scikit-learn-scipy-stats/blob/main/README.md) >\n",
    "\n",
    "[![GMIT](https://github.com/SeanOhAileasa/SeanOhAileasa/blob/master/rc/gmit.png?raw=true)](https://web.archive.org/web/20201029063153/https://www.gmit.ie/computer-science-and-applied-physics/higher-diploma-science-computing-data-analytics-ict)\n",
    "\n",
    "## Machine Learning & Statistics, Winter 21/22\n",
    "### Due: last commit on or before December 19th, 2021\n",
    "### Topic: [``scipy-stats``](https://nbviewer.jupyter.org/github/SeanOhAileasa/mls-scikit-learn-scipy-stats/blob/main/scipy-stats.ipynb)\n",
    "***"
   ]
  },
  {
   "cell_type": "markdown",
   "id": "4bcc9989",
   "metadata": {},
   "source": [
    "Winter 21/22 assessment for the ``Machine Learning & Statistics`` module (5 Credits) of the ``Higher Diploma in Science in Computing (Data Analytics) (H.Dip)`` programme (75 Credits) at **Galway-Mayo Institute of Technology (GMIT)**.\n",
    "\n",
    "***\n",
    "## Instructions\n",
    "***\n",
    "\n",
    "- Overview of the ``scipy-stats`` Python library.\n",
    "\n",
    "\n",
    "- Perform a hypothesis test using ``ANOVA`` on an appropriate dataset and ensuring the appropriate underlying ``ANOVA`` are met, then perform and display the results using ``scipy-stats``.\n",
    "\n",
    "\n",
    "- Using plots and other visualisations to enhance the notebook for viewers."
   ]
  },
  {
   "cell_type": "markdown",
   "id": "e1449819",
   "metadata": {},
   "source": [
    "<a id=\"top\"></a>\n",
    "***\n",
    "## Table of Contents\n",
    "***\n",
    "\n",
    "## [Project Management](#ppm)\n",
    "\n",
    "* [Outstanding](#outstanding) <br/><br/>\n",
    "    * [DAY:20 - Due Date](#outstandingday20) <br/><br/>\n",
    "* [Commit](#ppmCommit) <br/><br/>\n",
    "    * [History](#ppmCommitHistory) <br/><br/>\n",
    "* [Planning](#ppmPlanning) <br/><br/>\n",
    "    * [Research](#ppmGettingStartedResearch) <br/><br/>\n",
    "    * [Development](#ppmGettingStartedDevelopment) <br/><br/>\n",
    "    * [Consistency](#ppmGettingStartedConsistency) <br/><br/>\n",
    "    * [Documentation](#ppmGettingStartedDocumentation) <br/><br/>\n",
    "* [Considerations](#considerations) <br/><br/>\n",
    "    * [Coding Conventions](#codingConventions)\n",
    "    \n",
    "## [Abstract](#abstract)\n",
    "\n",
    "## [Introduction](#introduction)\n",
    "\n",
    "* [Simulation](#simulation) <br/><br/>\n",
    "    * [Collections](#simulationnumpyrandomnormalFakeData) ``a`` ``b`` <br/><br/>\n",
    "        * [Data Structure](#dataStructure) <br/><br/>\n",
    "            * [Visualisation](#dataStructurevisualisation) <br/><br/>\n",
    "* [T-Test](#solutionttest) <br/><br/>\n",
    "    * [``scipy.stats``](#solutionscipystats) <br/><br/>\n",
    "    * [``statsmodels.stats.weightstats``](#solutionstatsmodelsstatsweightstats) <br/><br/>\n",
    "* [Interpretation](#solutionttestintuition) <br/><br/>\n",
    "    * [Probability Density Function](#solutionProbabilityDensityFunction)\n",
    "\n",
    "## [Solution](#solution)\n",
    "\n",
    "- &#x1F6A7;\n",
    "\n",
    "## [Conclusion](#conclusion)\n",
    "\n",
    "- &#x1F6A7;\n",
    "\n",
    "## [Appendix](#appendix)\n",
    "\n",
    "- &#x1F6A7;"
   ]
  },
  {
   "cell_type": "markdown",
   "id": "bc989e6f",
   "metadata": {},
   "source": [
    "***\n",
    "## END"
   ]
  },
  {
   "cell_type": "markdown",
   "id": "ae1fa62c",
   "metadata": {},
   "source": [
    "< [Table of Contents](#top) | [Abstract](#abstract) | [Introduction](#introduction) | [Solution](#solution) | [Conclusion](#conclusion) | [References](#references) >\n",
    "<a id=\"ppm\"></a>\n",
    "***\n",
    "## Project Management\n",
    "***"
   ]
  },
  {
   "cell_type": "markdown",
   "id": "c2080cf2",
   "metadata": {},
   "source": [
    "< [Table of Contents](#top) | [References](#references) >\n",
    "<a id=\"outstanding\"></a>\n",
    "***\n",
    "### Outstanding\n",
    "***"
   ]
  },
  {
   "cell_type": "markdown",
   "id": "be4749c2",
   "metadata": {},
   "source": [
    "< [Table of Contents](#top) | [References](#references) >\n",
    "<a id=\"outstandingday20\"></a>\n",
    "***\n",
    "###### DAY:20 - Due Date\n",
    "***"
   ]
  },
  {
   "cell_type": "markdown",
   "id": "e53b8118",
   "metadata": {},
   "source": [
    "- introductory blurb about the analysis of variance (ANOVA) requires more depth and explanation [[commit](https://github.com/SeanOhAileasa/mls-scikit-learn-scipy-stats/tree/60956a92a82d7c3be0b4000db1fe1586cca94034)]"
   ]
  },
  {
   "cell_type": "markdown",
   "id": "2f038f13",
   "metadata": {},
   "source": [
    "- introductory blurb about the t-test may requires less depth and explanation especially referencing machine learning - chop to a more concise description [[commit](https://github.com/SeanOhAileasa/mls-scikit-learn-scipy-stats/tree/bd6a1159a5f1d84326bbe91efc5d5be3a22b9bb1)]"
   ]
  },
  {
   "cell_type": "markdown",
   "id": "406f3255",
   "metadata": {},
   "source": [
    "\n",
    "< [Table of Contents](#top) | [References](#references) >\n",
    "<a id=\"ppmCommit\"></a>\n",
    "***\n",
    "### Commit\n",
    "***"
   ]
  },
  {
   "cell_type": "code",
   "execution_count": 1,
   "id": "2acb5420",
   "metadata": {},
   "outputs": [
    {
     "name": "stdout",
     "output_type": "stream",
     "text": [
      "13 Oct 2021 20:17:26\n"
     ]
    }
   ],
   "source": [
    "%%script bash\n",
    "date"
   ]
  },
  {
   "cell_type": "markdown",
   "id": "88cde4b1",
   "metadata": {},
   "source": [
    "```python\n",
    "\"DAY:66 - [Notebook: scipy-stats]: (Last Commit) Introduced an additional collection for demonstrating when two collections are centred around the same value so that the original collections when first run remain throughout the notebook. (Introduction) In order to interpret what a t-test does plotting the uncertainty (probability density function PDF) when generating numbers in the two normal generated collections. The plot demonstrates the t-test is checking (questions) if the tips of both curves (each collection) are at the same point or not. Additional plot demonstrates when both collections coincide. (Propose) Adding blurb about underlying assumptions and another way of asking the t-test question (if the centre point of each collection is the same or not).\"\n",
    "```"
   ]
  },
  {
   "cell_type": "code",
   "execution_count": 2,
   "id": "98d1b626",
   "metadata": {},
   "outputs": [],
   "source": [
    "exit()"
   ]
  },
  {
   "cell_type": "markdown",
   "id": "c280ee62",
   "metadata": {},
   "source": [
    "< [Table of Contents](#top) | [References](#references) >\n",
    "<a id=\"ppmCommitHistory\"></a>\n",
    "***\n",
    "###### History\n",
    "***"
   ]
  },
  {
   "cell_type": "code",
   "execution_count": 1,
   "id": "f810b6e4",
   "metadata": {
    "scrolled": false
   },
   "outputs": [
    {
     "name": "stdout",
     "output_type": "stream",
     "text": [
      "commit 7f62028c85d9d3ea948b3ff119b9179dc736f134\n",
      "Author: SeanOhAileasa <seanohaileasa@protonmail.com>\n",
      "Date:   Mon Oct 11 17:13:43 2021 +0100\n",
      "\n",
      "    DAY:68 - [Notebook: scikit-learn]: (Last Commit) The iris dataset is up and running and split between inputs (numeric columns) and output being the class of iris (categorical variable). (Introduction) Building KNN classifier selecting five nearest neighbours. Implementing the KNN vote via parameter n_neighbors determining the majority vote. Then training the classifier on the dataset by giving the classifier the inputs for which the outputs are known. The instance object returned from the classifier (instance of KNN) is fit with the actual data points. This information is used to build up a model of what a class of iris looks like and can make predictions about what a class of iris is based on measuring its sepal length and sepal width and petal length and petal width. Appears to be predicting the correct class for a data point that it already has (easily verifiable). (Propose) Rebuilding the KNN classifier for input not seen before.\n",
      "\n",
      "commit 6f53c678277bc0b27b7c1a217dfea2842c6f87fe\n",
      "Author: SeanOhAileasa <seanohaileasa@protonmail.com>\n",
      "Date:   Sun Oct 10 18:58:02 2021 +0100\n",
      "\n",
      "    DAY:69 - [Notebook: scikit-learn]: (Last Commit) The hacked example code from the sklearn.neighbors.KNeighborsClassifier documentation require revision with the use of plots and further explanation of topics. (Introduction) Instead of simulating a dataset (as done with sklearn.cluster.KMeans) using the famous iris dataset. Making the case for using the dataset based on observations and plots built out. Purpose is to take the values of the four variables (i. sepal length, ii. sepal_width, iii. petal_length and iv. petal_width) to predict the class of iris flower. Separating the data structure (DataFrame created from the dataset) into inputs and outputs in order to train up the KNN algorithm (having a set of inputs for which the outputs are known). (Propose) Building the KNN classifier for a given number of neighbors then training the classifier on the dataset. Fitting inputs (training) and output (targets) then make predictions based on the trained KNN classifier.\n",
      "\n",
      "commit 77f809fe6f8b28a56d863bf2298576e4dd20c166\n",
      "Author: SeanOhAileasa <seanohaileasa@protonmail.com>\n",
      "Date:   Fri Oct 8 20:07:59 2021 +0100\n",
      "\n",
      "    DAY:71 - [Notebook: scikit-learn]: (Last Commit) The sklearn.cluster.KMeans section requires revision but in the meantime moving onto the classification algorithm sklearn.neighbors.KNeighborsClassifier. (Introduction) Hacking the example code from the sklearn.neighbors.KNeighborsClassifier documentation. Short blurb on the data structure representing the KNN algorithm whereby parameter n_neighbors selects the specified number of nearest neighbours. Training the classifier with X for which the y is known. Method fit tells the KNN data structure the actual data point or setup for KNN. The KNN algorithm can make predictions based on the trained KNN classifier. (Propose) Creating a classification simulation with plotting or use the iris dataset to further develop understand of the sklearn.neighbors.KNeighborsClassifier algorithm.\n",
      "\n",
      "commit a50ef7b2591f648d867efcd0117eb211cddc636e\n",
      "Author: SeanOhAileasa <seanohaileasa@protonmail.com>\n",
      "Date:   Thu Oct 7 20:17:02 2021 +0100\n",
      "\n",
      "    DAY:72 - [Notebook: scikit-learn]: (Last Commit) Implemented simulation without analysis. Amendments include: i. tidy table of contents and ii. ensuring function parameter included when appropriate. (Introduction) Following the steps from the reengineered example code from the sklearn.cluster.KMeans documentation introduced sklearn.cluster (without commentary). Plotting the simulation dataset making both clusters identifiable then using new values to make a prediction. Plotting the prediction and the centre KMeans determines are the centre points based on where the points sit on the plot. An additional collection of evenly spaced values is introduced and plot. These dummy points (for classification) are used to highlight the decision boundary from where KMeans determines associated cluster via each cluster centre. (Propose) Thus far touched on the scikit-learn clustering algorithm and requires revision. For the moment going to proceed onto the scikit-learn classification algorithm following the same process as the clustering demonstration. First step is to reengineered example code from the sklearn.neighbors.KNeighborsClassifier documentation.\n",
      "\n",
      "commit b2894f773cff3baf3723936213f52cbbe7b2841d\n",
      "Author: SeanOhAileasa <seanohaileasa@protonmail.com>\n",
      "Date:   Wed Oct 6 21:17:11 2021 +0100\n",
      "\n",
      "    DAY:73 - [Notebook: scikit-learn]: (Last Commit) The reengineered example code from the sklearn.cluster.KMeans documentation requires no further examination. (Introduction) To support the reengineered example code from the sklearn.cluster.KMeans documentation now proceeding with simulating a (generated) dataset. Picked two central points from which two clusters of randomly generated values will be built upon. The process involved: i. stacking the collections on top of each other; ii. merging the two collections and iii. shuffling the values of the final collection so that the groups are not identifiable. Created a plot of the generated dataset without any analysis. (Propose) Thus far each commit in both notebooks is probably representing a number of individual units of work (commits). Propose breaking down units of work given commit history will get unwieldy. Next step will involve using the sklearn.cluster.KMeans on the simulated dataset (similar to the sklearn.cluster.KMeans reengineered documentation code completed prior).\n",
      "\n",
      "commit 6cbed5822725fd9ea2002eba39d1b5d9a5419334\n",
      "Author: SeanOhAileasa <seanohaileasa@protonmail.com>\n",
      "Date:   Tue Oct 5 19:56:46 2021 +0100\n",
      "\n",
      "    DAY:74 - [Notebook: scipy-stats]: (Last Commit) Introductory blurb about the t-test may requires less depth and explanation especially referencing machine learning. Chop to a more concise description - revert [DAY:20,0). (Introduction) Demonstrating the t-test by simulating two collections (random numbers) built upon a specified mean and spread (standard deviation). Creating a data structure (DataFrame) from the generated collections and separating both collections into category. Visualisation of the data structure via categorical plot (seaborn) clearly shows both collections differ. Using two methods (i. scipy.stats and; ii. statsmodels.stats.weightstats) performing the actual t-test (determine the probability that the distribution from which the two generated collections had the same mean). The simulated (generated) collections demonstrate a probability of approximately zero or no chance both collections had an underlying distribution in which both had the same mean value because the simulation was setup like this. Running the statistical tests provide evidence that its reproducibly true. Even when both collections have been setup with the same mean value and if the probability is higher than the p-value cut-off of 5% then the statistical test does not provide any evidence the two collections are not centred around same point.\n",
      "\n",
      "commit bd6a1159a5f1d84326bbe91efc5d5be3a22b9bb1\n",
      "Author: SeanOhAileasa <seanohaileasa@protonmail.com>\n",
      "Date:   Mon Oct 4 21:09:13 2021 +0100\n",
      "\n",
      "    DAY:75 - [Notebook: scipy-stats]: (Last Commit) Introductory blurb about the analysis of variance (ANOVA) requires more depth and explanation - revert [DAY:20,0). (Introduction) Taking a step backwards to introduce the t-test and build upon. Introductory blurb about the old-style statistical test called the t-test provides a grounding in the ideas around machine learning. (Propose) Generating two collections of random numbers and creating a data structure built from both then visualising to determine if both collections differ in general enough to justify saying one collection is different to the other collection.\n",
      "\n",
      "commit cd88af3e23ea5b6c246da885d323f2d4de6ac63d\n",
      "Author: SeanOhAileasa <seanohaileasa@protonmail.com>\n",
      "Date:   Sat Oct 2 21:08:12 2021 +0100\n",
      "\n",
      "    DAY:77 - [Notebook: scikit-learn]: (Last Commit) Reengineered example code from the sklearn.cluster.KMeans documentation to be supported with simulated data before moving onto a real-world implementation (re. Solution). (Introduction) Using matplotlib.pyplot plotting documentation example dataset (converting into an appropriate format beforehand). Once the x and y values are separated the plot appears to support the fact there exists two distinct groups of points. The KMeans algorithm determines if two distinct groups exist (allows for a human to be able to determine). Visually changed the colour of the second cluster to distinct both groups and added two new points to test KMeans. Using the KMeans prediction the new points are coloured according to associated (predicted) cluster. Plotting what the KMeans algorithm took as the centre of each clusters gives an indication how the algorithm came to its prediction. (Propose) Creating a clustering simulation with plotting to further develop understand of the sklearn.cluster.KMeans algorithm.\n",
      "\n",
      "commit d321c05f8ca8b5ac863badd05cd6d18c4b2cf577\n",
      "Author: SeanOhAileasa <seanohaileasa@protonmail.com>\n",
      "Date:   Fri Oct 1 20:35:07 2021 +0100\n",
      "\n",
      "    DAY:78 - [Notebook: scikit-learn]: (Last Commit) Introductory blurbs about scikit-learn and each of the scikit-learn algorithms of interest require more depth and explanation - revert [DAY:20,0). Commit proposes researching classification. This was a typo and should be clustering. (Introduction) Hacking the example code from the sklearn.cluster.KMeans documentation. Short blurb on the parameters of object KMeans (i. n_clusters and ii. random_state) and method fit which computes the k-means clustering. Two clusters specified and the attribute labels_ confirms this. Making a prediction using method predict passing two new points predicts associated cluster. Attribute cluster_centers returns what the KMeans algorithm took as the centre point of each cluster. (Propose) Plotting the dataset X separating the two clusters.\n",
      "\n",
      "commit 60956a92a82d7c3be0b4000db1fe1586cca94034\n",
      "Author: SeanOhAileasa <seanohaileasa@protonmail.com>\n",
      "Date:   Thu Sep 30 21:10:53 2021 +0100\n",
      "\n",
      "    DAY:79 - [Notebook: scipy-stats]: (Last Commit) i. Blank Jupiter notebook created and; ii. submitted GitHub repository URL to GMIT. (Abstract) Brief introductory blurb about the analysis of variance (ANOVA) and its application beyond comparing just two populations (t-test). (Propose) Researching t-tests and especially F-Ratios (central part of ANOVA) before proceeding.\n",
      "\n",
      "commit 023bf6b96aca8dfb2ea833cba6fc6101b8f334ad\n",
      "Author: SeanOhAileasa <seanohaileasa@protonmail.com>\n",
      "Date:   Wed Sep 29 19:44:12 2021 +0100\n",
      "\n",
      "    DAY:80 - [Notebook: scikit-learn]: (Last Commit) i. Blank Jupiter notebook created and; ii. submitted GitHub repository URL to GMIT. (Abstract) Introductory blurb about scikit-learn. (Introduction) Short blurb on each scikit-learn algorithms of interest: i. classification; ii. regression and iii. clustering. Classification thought of in terms of labelling data (e.g., images of hand drawn digits). Regression thought of in terms of fitting a line to a set of points (e.g., all of science). Clustering thought of in terms of grouping like items together (e.g., iris dataset). (Propose) Researching classification by simulating a collection of data and introducing sklearn.cluster.\n",
      "\n",
      "commit 39127b924e9bd70b79bacd7c3abb363390364bb6\n",
      "Author: SeanOhAileasa <seanohaileasa@protonmail.com>\n",
      "Date:   Mon Sep 27 15:42:14 2021 +0100\n",
      "\n",
      "    add repository ./mls-scikit-learn-scipy-stats\n"
     ]
    }
   ],
   "source": [
    "%%script bash\n",
    "git log"
   ]
  },
  {
   "cell_type": "code",
   "execution_count": 2,
   "id": "cb91ae66",
   "metadata": {},
   "outputs": [],
   "source": [
    "exit()"
   ]
  },
  {
   "cell_type": "markdown",
   "id": "7462b02d",
   "metadata": {},
   "source": [
    "< [Table of Contents](#top) | [References](#references) >\n",
    "<a id=\"ppmPlanning\"></a>\n",
    "***\n",
    "## Planning\n",
    "***"
   ]
  },
  {
   "cell_type": "markdown",
   "id": "409f7bf5",
   "metadata": {},
   "source": [
    "- Keeping in mind:\n",
    "\n",
    "i) GMIT assessment submission marking scheme; and \n",
    "\n",
    "ii) impression given to someone who is looking at this repository, endeavour to provide direct evidence of each of the items listed in each category where applicable (``Research`` - ``Development`` - ``Consistency`` - ``Documentation``)."
   ]
  },
  {
   "cell_type": "markdown",
   "id": "d27a8f39",
   "metadata": {},
   "source": [
    "< [Table of Contents](#top) | [References](#references) >\n",
    "<a id=\"ppmGettingStartedResearch\"></a>\n",
    "***\n",
    "###### Research\n",
    "***"
   ]
  },
  {
   "cell_type": "markdown",
   "id": "54ca4d6c",
   "metadata": {},
   "source": [
    "- GMIT: **\"Evidence of research performed on topic; submission based on referenced literature, particularly academic literature; evidence of understanding of the documentation for any software or libraries used.\"**"
   ]
  },
  {
   "cell_type": "markdown",
   "id": "b5d20382",
   "metadata": {},
   "source": [
    "- Investigation of packages used as demonstrated by references, background information, and approach: References will be in the format:\n",
    "\n",
    "```\n",
    "[referenceNumber] authorNames, referenceTitle, locationWebsiteBookVideo, dateMonthYear.\n",
    "```"
   ]
  },
  {
   "cell_type": "markdown",
   "id": "af4ffe9e",
   "metadata": {},
   "source": [
    "- Demonstrating work complete with appropriate references and not just for the problem but for the level of understanding of the problem."
   ]
  },
  {
   "cell_type": "markdown",
   "id": "1d4d8f2b",
   "metadata": {},
   "source": [
    "- Code commentary will include details of package, module, object (if applicable) to demonstrate understanding of software documentation and libraries used.\n",
    "\n",
    "```python\n",
    "# b_T_hird_P_arty-imports\n",
    "from matplotlib.pyplot import plot\n",
    "```\n",
    "```python\n",
    "# package matplotlib - module pyplot\n",
    "plot(x,y)\n",
    "```"
   ]
  },
  {
   "cell_type": "markdown",
   "id": "0f3b4bc4",
   "metadata": {},
   "source": [
    "< [Table of Contents](#top) | [References](#references) >\n",
    "<a id=\"ppmGettingStartedDevelopment\"></a>\n",
    "***\n",
    "###### Development\n",
    "***"
   ]
  },
  {
   "cell_type": "markdown",
   "id": "df845398",
   "metadata": {},
   "source": [
    "- GMIT: **\"Environment can be set up as described; code works without tweaking and as described; code is efficient, clean, and clear; evidence of consideration of standards and conventions appropriate to code of this kind.\"**"
   ]
  },
  {
   "cell_type": "markdown",
   "id": "74c59aa8",
   "metadata": {},
   "source": [
    "- Clear, well-written, and efficient code with appropriate comments - using Jupyter Notebook markdown cells to summarise concise workings. "
   ]
  },
  {
   "cell_type": "markdown",
   "id": "5fbaa3f2",
   "metadata": {},
   "source": [
    "- As much as possible use the ``Style Guide for Python Code`` [Guido van Rossum](https://web.archive.org/web/20201029095211/https://www.python.org/dev/peps/pep-0008/). Refer user-defined [Coding Conventions](#codingConventions)."
   ]
  },
  {
   "cell_type": "markdown",
   "id": "436d1355",
   "metadata": {},
   "source": [
    "< [Table of Contents](#top) | [References](#references) >\n",
    "<a id=\"ppmGettingStartedConsistency\"></a>\n",
    "***\n",
    "###### Consistency\n",
    "***"
   ]
  },
  {
   "cell_type": "markdown",
   "id": "0a8b1854",
   "metadata": {},
   "source": [
    "- GMIT: **\"Evidence of planning and project management; pragmatic attitude to work as evidenced by well-considered commit history; commits are of a reasonable size; consideration of how commit history will be perceived by others.\"**"
   ]
  },
  {
   "cell_type": "markdown",
   "id": "3cab841c",
   "metadata": {},
   "source": [
    "- Git commit blurb to include number of days outstanding before deadline (if applicable)."
   ]
  },
  {
   "cell_type": "markdown",
   "id": "bdcb459c",
   "metadata": {},
   "source": [
    "- Commits to highlight changes made since the last commit so that reviews of the git history can demonstrate compartmentation of work into the different sections."
   ]
  },
  {
   "cell_type": "markdown",
   "id": "0b7678e5",
   "metadata": {},
   "source": [
    "< [Table of Contents](#top) | [References](#references) >\n",
    "<a id=\"ppmGettingStartedDocumentation\"></a>\n",
    "***\n",
    "###### Documentation\n",
    "***"
   ]
  },
  {
   "cell_type": "markdown",
   "id": "53a0d5d9",
   "metadata": {},
   "source": [
    "- GMIT: **\"Clear documentation of how to create an environment in which any code will run, how to prepare the code for running, how to run the code including setting any options or flags, and what to expect upon running the code. Concise descriptions of code in comments and README.\"**"
   ]
  },
  {
   "cell_type": "markdown",
   "id": "aef6008a",
   "metadata": {},
   "source": [
    "- Include descriptions/plots of theoretical and practical aspects of the problem(s) - comments to be very concise for ease of readability."
   ]
  },
  {
   "cell_type": "markdown",
   "id": "54e2e162",
   "metadata": {},
   "source": [
    "- Descriptions of code requiring further explanation will be presented in Jupyter Notebook markdown cells prior to code execution."
   ]
  },
  {
   "cell_type": "markdown",
   "id": "8e7551b0",
   "metadata": {},
   "source": [
    "< [Table of Contents](#top) | [References](#references) >\n",
    "<a id=\"considerations\"></a>\n",
    "***\n",
    "### Considerations\n",
    "***"
   ]
  },
  {
   "cell_type": "markdown",
   "id": "dd3973c6",
   "metadata": {},
   "source": [
    "- Using the four listed categories (``Research`` - ``Development`` - ``Consistency`` - ``Documentation``) in an attempt to not only focus on programming but also look at the information (data) and manipulating the data and coming up with techniques."
   ]
  },
  {
   "cell_type": "markdown",
   "id": "c766c472",
   "metadata": {},
   "source": [
    "- Sometimes the most complex algorithms are counter-intuitive but do work and have been proven to work. Sometimes only a few lines of code is required to complete a topic/section - endeavour to explain the development of the algorithm and the reasoning behind why/how the code works."
   ]
  },
  {
   "cell_type": "markdown",
   "id": "21519f48",
   "metadata": {},
   "source": [
    "- Jupyter Notebook text formatting/presentation to be tidied up closer to the deadline (if applicable)."
   ]
  },
  {
   "cell_type": "markdown",
   "id": "b1cc071c",
   "metadata": {},
   "source": [
    "< [Table of Contents](#top) | [References](#references) >\n",
    "<a id=\"codingConventions\"></a>\n",
    "***\n",
    "###### Coding Conventions\n",
    "***"
   ]
  },
  {
   "cell_type": "markdown",
   "id": "67d78ffb",
   "metadata": {},
   "source": [
    "- user-defined function / name (variable) - start with letters as follows\n",
    "\n",
    "| Example       | Signify \t\t          |\n",
    "| :------------ |:------------------------|\n",
    "|\tf        \t|\tuser-defined function |\n",
    "|\tn        \t|\tname - no variables   |"
   ]
  },
  {
   "cell_type": "markdown",
   "id": "0024e4bd",
   "metadata": {},
   "source": [
    "***\n",
    "## END"
   ]
  },
  {
   "cell_type": "markdown",
   "id": "0c88ab4a",
   "metadata": {},
   "source": [
    "< [Table of Contents](#top) | [Introduction](#introduction) | [Solution](#solution) | [Conclusion](#conclusion) | [References](#references) >\n",
    "<a id=\"abstract\"></a>\n",
    "***\n",
    "## Abstract\n",
    "***"
   ]
  },
  {
   "cell_type": "markdown",
   "id": "14617072",
   "metadata": {},
   "source": [
    "- ``F-Ratios`` are simply a ratio of two variances and are a central part of ``ANOVA`` [1]"
   ]
  },
  {
   "cell_type": "markdown",
   "id": "380014da",
   "metadata": {},
   "source": [
    "- the independent sample ``t-tests`` compares two random samples - the matched sample ``t-test`` is when each measurement is maybe the same person or the same machine [1]"
   ]
  },
  {
   "cell_type": "markdown",
   "id": "120128a9",
   "metadata": {},
   "source": [
    "- the real-world is much more complex than just limiting to the comparison of two populations [1]"
   ]
  },
  {
   "cell_type": "markdown",
   "id": "eec3f0cf",
   "metadata": {},
   "source": [
    "- the analysis of variance (more commonly known ``ANOVA``) allows us to move beyond comparing just two populations [1]"
   ]
  },
  {
   "cell_type": "markdown",
   "id": "e16c0704",
   "metadata": {},
   "source": [
    "- with ``ANOVA`` we can compare multiple populations and even subgroups of those populations and can investigate how two groups interact with each other quantitatively - many experimental research designs use ``ANOVA`` for these very reasons [1]"
   ]
  },
  {
   "cell_type": "markdown",
   "id": "c2b02fff",
   "metadata": {},
   "source": [
    "- ``ANOVA`` greatly expands what we are able to do in statistics [1]"
   ]
  },
  {
   "cell_type": "markdown",
   "id": "3fa461fc",
   "metadata": {},
   "source": [
    "***\n",
    "## END"
   ]
  },
  {
   "cell_type": "markdown",
   "id": "d319e57d",
   "metadata": {},
   "source": [
    "< [Table of Contents](#top) | [Abstract](#abstract) | [Solution](#solution) | [Conclusion](#conclusion) | [References](#references) >\n",
    "<a id=\"introduction\"></a>\n",
    "***\n",
    "## Introduction\n",
    "***"
   ]
  },
  {
   "cell_type": "markdown",
   "id": "fca23472",
   "metadata": {},
   "source": [
    "- in comparison to machine learning the ``t-test`` is an old-style statistical test - there is an interesting relationship between the ``t-test`` and Ireland - William Sealy Gosset figured out a way to test if two sets of numbers are similar [2]"
   ]
  },
  {
   "cell_type": "markdown",
   "id": "16802a04",
   "metadata": {},
   "source": [
    "- the technique is a traditional way of looking at the world and trying to make predictions based on data - even though it is the older approach many think it is still the better approach (machine learning practitioners may not know much about these old older methods) [2]"
   ]
  },
  {
   "cell_type": "markdown",
   "id": "0537e666",
   "metadata": {},
   "source": [
    "- the ``t-test`` is heavily used in the life/medical/physical sciences and provides a grounding in the ideas around machine learning [2]"
   ]
  },
  {
   "cell_type": "markdown",
   "id": "79c7a725",
   "metadata": {},
   "source": [
    "- thinking about uncertainty in the world and datasets that have a pattern in them - that pattern may have a little bit of variability and a little bit of volatility (not a straightforward pattern) [2]"
   ]
  },
  {
   "cell_type": "markdown",
   "id": "6730a6c2",
   "metadata": {},
   "source": [
    "- there is a lot of theory behind ``t-tests`` (probability distributions and formulating hypothesis tests etc) - demonstrating the ``t-test`` from a computer science point of view [2]"
   ]
  },
  {
   "cell_type": "markdown",
   "id": "6fb66ad9",
   "metadata": {},
   "source": [
    "- ``scipy.stats.ttest_ind`` is literally performing a ``t-test`` (passing arguments ``a`` and ``b``) [2]\n",
    "\n",
    "```python\n",
    "scipy.stats.ttest_ind(a,b)\n",
    "```"
   ]
  },
  {
   "cell_type": "markdown",
   "id": "cade447a",
   "metadata": {},
   "source": [
    "- there is a little bit of preparation for the two inputs (``a`` and ``b``) but the preparation is really just unravelling those because all ``a`` is a collection of numbers and all ``b`` is a collection of numbers [2]"
   ]
  },
  {
   "cell_type": "markdown",
   "id": "860eaab4",
   "metadata": {},
   "source": [
    "- the point is it is very easy to run statistical tests when you know a little bit of programming - many organisations spend a lot of money on ``SPSS`` and the main thing its used for is to run something like ``stat.ttest_ind(a,b)`` (in python) and get the exact same output [2]"
   ]
  },
  {
   "cell_type": "markdown",
   "id": "6bf20a31",
   "metadata": {},
   "source": [
    "- running machine learning code is fairly straightforward whereby a single statement actually does the heavy lifting - digging into a package to do the calculation is straightforward - could easily code up a ``t-test`` function but the interpretation of the outputs is where it is at [2]"
   ]
  },
  {
   "cell_type": "markdown",
   "id": "6f4f2126",
   "metadata": {},
   "source": [
    "- what is assumed before doing the test and how the assumptions are justified (running the machine learning code statement) then comes the interpretation of the results coming out of that test [2]"
   ]
  },
  {
   "cell_type": "markdown",
   "id": "6e7e3f1e",
   "metadata": {},
   "source": [
    "- generally speaking will get essentially two numbers in the output: i. the calculation of the actual ``t-statistic`` and; ii. some probability related to that value saying how likely it was to see that value based on the prior assumptions [2]"
   ]
  },
  {
   "cell_type": "markdown",
   "id": "bbbd7664",
   "metadata": {},
   "source": [
    "< [Table of Contents](#top) | [References](#references) >\n",
    "<a id=\"simulation\"></a>\n",
    "***\n",
    "### Simulation\n",
    "***"
   ]
  },
  {
   "cell_type": "markdown",
   "id": "cb967a16",
   "metadata": {},
   "source": [
    "- a ``t-test`` is a statistical test that looks for differences in two collections of numbers - asks did the two collections come from what looks like the same probability distribution (checking if two collections came from populations that have the same mean) [2]"
   ]
  },
  {
   "cell_type": "markdown",
   "id": "9e633ffe",
   "metadata": {},
   "source": [
    "- generating two collections of random numbers - ``m_a`` and ``m_b`` represents the mean of each collection of random numbers generated [3]"
   ]
  },
  {
   "cell_type": "code",
   "execution_count": 1,
   "id": "55d76e25",
   "metadata": {},
   "outputs": [],
   "source": [
    "m_a,m_b=1.5,2.5"
   ]
  },
  {
   "cell_type": "markdown",
   "id": "9f07aa56",
   "metadata": {},
   "source": [
    "- ``s_a`` and ``s_b`` (technically not quite right) represents the standard deviation [3]"
   ]
  },
  {
   "cell_type": "code",
   "execution_count": 2,
   "id": "9c5f1007",
   "metadata": {},
   "outputs": [],
   "source": [
    "s_a,s_b=0.5,0.5"
   ]
  },
  {
   "cell_type": "markdown",
   "id": "0be27cb1",
   "metadata": {},
   "source": [
    "- ``N`` is just a convenience parameter thrown in representing the size of each collection [3]"
   ]
  },
  {
   "cell_type": "code",
   "execution_count": 3,
   "id": "144da80c",
   "metadata": {},
   "outputs": [],
   "source": [
    "N=40 # representing collection len"
   ]
  },
  {
   "cell_type": "markdown",
   "id": "a37c94e5",
   "metadata": {},
   "source": [
    "< [Table of Contents](#top) | [References](#references) >\n",
    "<a id=\"simulationnumpyrandomnormalFakeData\"></a>\n",
    "***\n",
    "###### Collections ``a`` ``b``\n",
    "***"
   ]
  },
  {
   "cell_type": "markdown",
   "id": "d06db07f",
   "metadata": {},
   "source": [
    "- creating collections ``a`` and ``b`` - both are just collections of numbers wrapped in ``numpy`` arrays - takes the collection of numbers and makes them another collection of numbers with all the ``numpy`` functionality [3]"
   ]
  },
  {
   "cell_type": "code",
   "execution_count": 4,
   "id": "6180cc79",
   "metadata": {},
   "outputs": [],
   "source": [
    "import numpy as np"
   ]
  },
  {
   "cell_type": "markdown",
   "id": "fdcb8e25",
   "metadata": {},
   "source": [
    "- the numbers are the same but the ``numpy`` arrays produced are more efficient than the bog-standard collection from python [3]"
   ]
  },
  {
   "cell_type": "markdown",
   "id": "a64da264",
   "metadata": {},
   "source": [
    "- ``numpy.random.normal`` is going to generate random numbers on a bell-shaped curve [3]"
   ]
  },
  {
   "cell_type": "markdown",
   "id": "aec6b859",
   "metadata": {},
   "source": [
    "- specifying the mean ``m_a`` (and ``m_b``) picks a number that comes out with an average around the mean location (``loc``) - generates a collection of numbers centred around $1.5$ [3]"
   ]
  },
  {
   "cell_type": "code",
   "execution_count": 5,
   "id": "3e07f1db",
   "metadata": {},
   "outputs": [
    {
     "data": {
      "text/plain": [
       "1.5"
      ]
     },
     "execution_count": 5,
     "metadata": {},
     "output_type": "execute_result"
    }
   ],
   "source": [
    "m_a"
   ]
  },
  {
   "cell_type": "code",
   "execution_count": 6,
   "id": "eb0cc3b7",
   "metadata": {},
   "outputs": [
    {
     "data": {
      "text/plain": [
       "2.5"
      ]
     },
     "execution_count": 6,
     "metadata": {},
     "output_type": "execute_result"
    }
   ],
   "source": [
    "m_b # collection centered around"
   ]
  },
  {
   "cell_type": "markdown",
   "id": "c5eed1fc",
   "metadata": {},
   "source": [
    "- the ``scale`` basically means the spread according to ``s_a`` (and ``s_b``) [3]"
   ]
  },
  {
   "cell_type": "code",
   "execution_count": 7,
   "id": "dc6d3a9d",
   "metadata": {},
   "outputs": [
    {
     "data": {
      "text/plain": [
       "40"
      ]
     },
     "execution_count": 7,
     "metadata": {},
     "output_type": "execute_result"
    }
   ],
   "source": [
    "N # len of collection"
   ]
  },
  {
   "cell_type": "code",
   "execution_count": 8,
   "id": "661e4553",
   "metadata": {},
   "outputs": [
    {
     "data": {
      "text/plain": [
       "0.5"
      ]
     },
     "execution_count": 8,
     "metadata": {},
     "output_type": "execute_result"
    }
   ],
   "source": [
    "s_a"
   ]
  },
  {
   "cell_type": "code",
   "execution_count": 9,
   "id": "4be1f699",
   "metadata": {},
   "outputs": [],
   "source": [
    "a=np.random.normal(loc=m_a,scale=s_a,size=N)"
   ]
  },
  {
   "cell_type": "code",
   "execution_count": 10,
   "id": "590abe1a",
   "metadata": {},
   "outputs": [
    {
     "data": {
      "text/plain": [
       "array([1.43567022, 0.95134126, 1.40911944, 1.75573574, 2.39980731,\n",
       "       2.07727955, 1.68232643, 1.84074983, 1.45766104, 1.80182503,\n",
       "       2.20272572, 2.15552154, 1.19501456, 0.64170888, 1.31677537,\n",
       "       1.27600776, 2.17926109, 1.70169935, 1.48865709, 0.87901606,\n",
       "       1.29280573, 1.51402624, 1.03090886, 1.00133043, 1.36959794,\n",
       "       1.2499609 , 1.26039393, 1.34788437, 0.39360534, 1.845966  ,\n",
       "       1.55000607, 1.59095714, 1.17272708, 1.19211732, 1.83593509,\n",
       "       1.79593219, 2.40192233, 1.64574373, 1.35018084, 1.55604429])"
      ]
     },
     "execution_count": 10,
     "metadata": {},
     "output_type": "execute_result"
    }
   ],
   "source": [
    "a"
   ]
  },
  {
   "cell_type": "code",
   "execution_count": 11,
   "id": "8574507a",
   "metadata": {},
   "outputs": [
    {
     "data": {
      "text/plain": [
       "0.5"
      ]
     },
     "execution_count": 11,
     "metadata": {},
     "output_type": "execute_result"
    }
   ],
   "source": [
    "s_b"
   ]
  },
  {
   "cell_type": "code",
   "execution_count": 12,
   "id": "55fca79a",
   "metadata": {},
   "outputs": [],
   "source": [
    "b=np.random.normal(loc=m_b,scale=s_b,size=N)"
   ]
  },
  {
   "cell_type": "code",
   "execution_count": 13,
   "id": "dc9289e7",
   "metadata": {},
   "outputs": [
    {
     "data": {
      "text/plain": [
       "array([2.86187212, 2.41080501, 1.65565722, 2.70680221, 1.9733948 ,\n",
       "       2.53288035, 2.31015751, 2.79217697, 1.92173233, 2.51005484,\n",
       "       2.22038549, 2.44646595, 1.70232883, 2.36674616, 2.67236276,\n",
       "       2.90170456, 2.62112957, 2.44872787, 2.24365598, 2.57683592,\n",
       "       1.78094948, 1.94865989, 2.78638584, 2.05329902, 3.96170183,\n",
       "       2.51087239, 2.01071585, 3.23103757, 2.81198102, 2.17847461,\n",
       "       2.67072433, 3.21236252, 2.36053684, 2.86617226, 2.42165702,\n",
       "       2.39840256, 3.08295096, 2.45698507, 3.56287528, 2.59441444])"
      ]
     },
     "execution_count": 13,
     "metadata": {},
     "output_type": "execute_result"
    }
   ],
   "source": [
    "b"
   ]
  },
  {
   "cell_type": "markdown",
   "id": "4dcc3c5b",
   "metadata": {},
   "source": [
    "< [Table of Contents](#top) | [References](#references) >\n",
    "<a id=\"dataStructure\"></a>\n",
    "***\n",
    "###### Data Structure\n",
    "***"
   ]
  },
  {
   "cell_type": "markdown",
   "id": "ad42675f",
   "metadata": {},
   "source": [
    "- creating a data structure built from the ``numpy`` collection - using ``pandas`` allows different types for the columns (an abstraction on top of ``numpy``) [1]"
   ]
  },
  {
   "cell_type": "code",
   "execution_count": 14,
   "id": "6bfc14c0",
   "metadata": {},
   "outputs": [],
   "source": [
    "import pandas as pd"
   ]
  },
  {
   "cell_type": "markdown",
   "id": "0fe96399",
   "metadata": {},
   "source": [
    "- creating a ``DataFrame`` of the ``a`` and ``b`` collections [3]"
   ]
  },
  {
   "cell_type": "markdown",
   "id": "183d10b5",
   "metadata": {},
   "source": [
    "- ``A`` is going to be in the column beside the ``a`` collection - ``B`` is going to be in the column beside the ``b`` collection [3]"
   ]
  },
  {
   "cell_type": "markdown",
   "id": "613fa52b",
   "metadata": {},
   "source": [
    "- the ``a`` collection is meant to be centred around $1.5$ (beside the column called Category ``A``) - the ``b`` collection is meant to be centred around $2.5$ (beside the column called Category ``B``) [3]"
   ]
  },
  {
   "cell_type": "code",
   "execution_count": 15,
   "id": "6173d533",
   "metadata": {},
   "outputs": [],
   "source": [
    "df=pd.DataFrame(data={\"Category\":[\"A\"]*len(a)+[\"B\"]*len(b),\"Value\":np.hstack([a,b])})"
   ]
  },
  {
   "cell_type": "code",
   "execution_count": 16,
   "id": "65b71501",
   "metadata": {},
   "outputs": [
    {
     "data": {
      "text/html": [
       "<div>\n",
       "<style scoped>\n",
       "    .dataframe tbody tr th:only-of-type {\n",
       "        vertical-align: middle;\n",
       "    }\n",
       "\n",
       "    .dataframe tbody tr th {\n",
       "        vertical-align: top;\n",
       "    }\n",
       "\n",
       "    .dataframe thead th {\n",
       "        text-align: right;\n",
       "    }\n",
       "</style>\n",
       "<table border=\"1\" class=\"dataframe\">\n",
       "  <thead>\n",
       "    <tr style=\"text-align: right;\">\n",
       "      <th></th>\n",
       "      <th>Category</th>\n",
       "      <th>Value</th>\n",
       "    </tr>\n",
       "  </thead>\n",
       "  <tbody>\n",
       "    <tr>\n",
       "      <th>0</th>\n",
       "      <td>A</td>\n",
       "      <td>1.435670</td>\n",
       "    </tr>\n",
       "    <tr>\n",
       "      <th>1</th>\n",
       "      <td>A</td>\n",
       "      <td>0.951341</td>\n",
       "    </tr>\n",
       "    <tr>\n",
       "      <th>2</th>\n",
       "      <td>A</td>\n",
       "      <td>1.409119</td>\n",
       "    </tr>\n",
       "    <tr>\n",
       "      <th>3</th>\n",
       "      <td>A</td>\n",
       "      <td>1.755736</td>\n",
       "    </tr>\n",
       "    <tr>\n",
       "      <th>4</th>\n",
       "      <td>A</td>\n",
       "      <td>2.399807</td>\n",
       "    </tr>\n",
       "    <tr>\n",
       "      <th>...</th>\n",
       "      <td>...</td>\n",
       "      <td>...</td>\n",
       "    </tr>\n",
       "    <tr>\n",
       "      <th>75</th>\n",
       "      <td>B</td>\n",
       "      <td>2.398403</td>\n",
       "    </tr>\n",
       "    <tr>\n",
       "      <th>76</th>\n",
       "      <td>B</td>\n",
       "      <td>3.082951</td>\n",
       "    </tr>\n",
       "    <tr>\n",
       "      <th>77</th>\n",
       "      <td>B</td>\n",
       "      <td>2.456985</td>\n",
       "    </tr>\n",
       "    <tr>\n",
       "      <th>78</th>\n",
       "      <td>B</td>\n",
       "      <td>3.562875</td>\n",
       "    </tr>\n",
       "    <tr>\n",
       "      <th>79</th>\n",
       "      <td>B</td>\n",
       "      <td>2.594414</td>\n",
       "    </tr>\n",
       "  </tbody>\n",
       "</table>\n",
       "<p>80 rows × 2 columns</p>\n",
       "</div>"
      ],
      "text/plain": [
       "   Category     Value\n",
       "0         A  1.435670\n",
       "1         A  0.951341\n",
       "2         A  1.409119\n",
       "3         A  1.755736\n",
       "4         A  2.399807\n",
       "..      ...       ...\n",
       "75        B  2.398403\n",
       "76        B  3.082951\n",
       "77        B  2.456985\n",
       "78        B  3.562875\n",
       "79        B  2.594414\n",
       "\n",
       "[80 rows x 2 columns]"
      ]
     },
     "execution_count": 16,
     "metadata": {},
     "output_type": "execute_result"
    }
   ],
   "source": [
    "df"
   ]
  },
  {
   "cell_type": "markdown",
   "id": "95bdd80d",
   "metadata": {},
   "source": [
    "< [Table of Contents](#top) | [References](#references) >\n",
    "<a id=\"dataStructurevisualisation\"></a>\n",
    "***\n",
    "###### Visualisation\n",
    "***"
   ]
  },
  {
   "cell_type": "markdown",
   "id": "53956fbb",
   "metadata": {},
   "source": [
    "- getting a picture of whats going on [3]"
   ]
  },
  {
   "cell_type": "code",
   "execution_count": 17,
   "id": "b94ceeb1",
   "metadata": {},
   "outputs": [],
   "source": [
    "import matplotlib.pyplot as plt"
   ]
  },
  {
   "cell_type": "code",
   "execution_count": 18,
   "id": "05c4de9b",
   "metadata": {},
   "outputs": [],
   "source": [
    "plt.style.use(style=\"fivethirtyeight\")"
   ]
  },
  {
   "cell_type": "code",
   "execution_count": 19,
   "id": "4f3d906a",
   "metadata": {},
   "outputs": [],
   "source": [
    "plt.rcParams[\"figure.figsize\"]=12.8,7.2"
   ]
  },
  {
   "cell_type": "code",
   "execution_count": 20,
   "id": "81413187",
   "metadata": {},
   "outputs": [],
   "source": [
    "import seaborn as sns"
   ]
  },
  {
   "cell_type": "code",
   "execution_count": 21,
   "id": "67998135",
   "metadata": {},
   "outputs": [
    {
     "data": {
      "image/png": "[encoded data removed]",
      "text/plain": [
       "<Figure size 360x360 with 1 Axes>"
      ]
     },
     "metadata": {},
     "output_type": "display_data"
    }
   ],
   "source": [
    "sns.catplot(x=\"Category\",y=\"Value\",jitter=False,data=df);"
   ]
  },
  {
   "cell_type": "markdown",
   "id": "b782b9b5",
   "metadata": {},
   "source": [
    "- the simulation games the system (knowing the collection ``a`` is grouped around the ``m_a`` and the collection ``b`` is grouped around ``m_b``) [4]"
   ]
  },
  {
   "cell_type": "markdown",
   "id": "95061f57",
   "metadata": {},
   "source": [
    "- in the real-world may have measurements for the collection ``a`` and more measurements for the collection ``b`` but not know if both are grouped around separate points [4]"
   ]
  },
  {
   "cell_type": "markdown",
   "id": "d0f5d2c8",
   "metadata": {},
   "source": [
    "- the question is does the collections (``a`` and ``b``) differ in general enough to justify saying the collection ``a`` is different to the collection ``b`` [4]"
   ]
  },
  {
   "cell_type": "markdown",
   "id": "0432cc06",
   "metadata": {},
   "source": [
    "< [Table of Contents](#top) | [References](#references) >\n",
    "<a id=\"solutionttest\"></a>\n",
    "***\n",
    "### T-Test\n",
    "***"
   ]
  },
  {
   "cell_type": "markdown",
   "id": "38450d45",
   "metadata": {},
   "source": [
    "- the ``t-test`` is actually testing what is the probability that the distribution from which the two generated collections had the same mean [4]"
   ]
  },
  {
   "cell_type": "markdown",
   "id": "68121cfc",
   "metadata": {},
   "source": [
    "- two different methods: i. ``scipy.stats`` and; ii. ``statsmodels.stats.weightstats`` [4]"
   ]
  },
  {
   "cell_type": "markdown",
   "id": "1300c8e7",
   "metadata": {},
   "source": [
    "< [Table of Contents](#top) | [References](#references) >\n",
    "<a id=\"solutionscipystats\"></a>\n",
    "***\n",
    "###### ``scipy.stats``\n",
    "***"
   ]
  },
  {
   "cell_type": "code",
   "execution_count": 22,
   "id": "d0128f41",
   "metadata": {},
   "outputs": [],
   "source": [
    "import scipy.stats as ss"
   ]
  },
  {
   "cell_type": "markdown",
   "id": "c33d8067",
   "metadata": {},
   "source": [
    "- returning the ``p-value`` from ``scipy.stats.ttest_ind`` [4]"
   ]
  },
  {
   "cell_type": "markdown",
   "id": "74c4ebc4",
   "metadata": {},
   "source": [
    "- function ``ttest_ind`` is asking what is the probability (based on a few assumptions) that the numbers in the collection ``a`` and the numbers in the collection ``b`` had an underlying distribution in which both had the same average value [4]"
   ]
  },
  {
   "cell_type": "markdown",
   "id": "96c3d251",
   "metadata": {},
   "source": [
    "- testing if there is sufficient evidence that the values in ``a`` and ``b`` are grouped around the same point (simulation is gamed so that this is not the case) [4]"
   ]
  },
  {
   "cell_type": "code",
   "execution_count": 23,
   "id": "780c83fb",
   "metadata": {},
   "outputs": [],
   "source": [
    "t_ss,p_ss=ss.ttest_ind(a=a,b=b)"
   ]
  },
  {
   "cell_type": "markdown",
   "id": "758b1609",
   "metadata": {},
   "source": [
    "- probability of approximately zero returned - typically use a ``p-value`` cutoff of $0.05$ (or $5\\%$ chance of making the wrong decision) [4]"
   ]
  },
  {
   "cell_type": "code",
   "execution_count": 24,
   "id": "6df270b3",
   "metadata": {},
   "outputs": [
    {
     "name": "stdout",
     "output_type": "stream",
     "text": [
      "0.00\n"
     ]
    }
   ],
   "source": [
    "print(f\"{p_ss:.02f}\")"
   ]
  },
  {
   "cell_type": "markdown",
   "id": "de383606",
   "metadata": {},
   "source": [
    "- the ``t-test`` is suggesting there is a $0\\%$ chance (or $0$ probability) that the numbers in the collection ``a`` and the collection ``b`` are grouped around the same point on the y-axis [4]"
   ]
  },
  {
   "cell_type": "markdown",
   "id": "53016788",
   "metadata": {},
   "source": [
    "- there is sufficient evidence to suggest the numbers in the collection ``a`` are different from the numbers in the collection ``b`` (specifically the mean of the distribution they came from) [4]"
   ]
  },
  {
   "cell_type": "markdown",
   "id": "f422c986",
   "metadata": {},
   "source": [
    "- can identify the numbers in both collections (``a`` and ``b``) are different by observing the plot - running the statistical test provide evidence that its reproducibly true [4] "
   ]
  },
  {
   "cell_type": "code",
   "execution_count": 25,
   "id": "18cf8720",
   "metadata": {},
   "outputs": [
    {
     "data": {
      "image/png": "[encoded data removed]",
      "text/plain": [
       "<Figure size 360x360 with 1 Axes>"
      ]
     },
     "metadata": {},
     "output_type": "display_data"
    }
   ],
   "source": [
    "sns.catplot(x=\"Category\",y=\"Value\",jitter=False,data=df);"
   ]
  },
  {
   "cell_type": "markdown",
   "id": "f650a7b3",
   "metadata": {},
   "source": [
    "- now centering the collections (``a`` and ``b``) around the same value [4]"
   ]
  },
  {
   "cell_type": "code",
   "execution_count": 26,
   "id": "b05078e5",
   "metadata": {},
   "outputs": [
    {
     "data": {
      "text/plain": [
       "1.5"
      ]
     },
     "execution_count": 26,
     "metadata": {},
     "output_type": "execute_result"
    }
   ],
   "source": [
    "m_a"
   ]
  },
  {
   "cell_type": "code",
   "execution_count": 27,
   "id": "17d121d4",
   "metadata": {},
   "outputs": [],
   "source": [
    "m_b=m_a"
   ]
  },
  {
   "cell_type": "code",
   "execution_count": 28,
   "id": "900f0b81",
   "metadata": {},
   "outputs": [
    {
     "data": {
      "text/plain": [
       "1.5"
      ]
     },
     "execution_count": 28,
     "metadata": {},
     "output_type": "execute_result"
    }
   ],
   "source": [
    "m_b"
   ]
  },
  {
   "cell_type": "code",
   "execution_count": 29,
   "id": "8baf7b07",
   "metadata": {},
   "outputs": [],
   "source": [
    "b_m_a=np.random.normal(loc=m_b,scale=s_b,size=N) # collection same mean"
   ]
  },
  {
   "cell_type": "code",
   "execution_count": 30,
   "id": "3079b2e2",
   "metadata": {},
   "outputs": [],
   "source": [
    "df_b_m_a=pd.DataFrame(data={\"Category\":[\"A\"]*len(a)+[\"B\"]*len(b_m_a),\"Value\":np.hstack([a,b_m_a])})"
   ]
  },
  {
   "cell_type": "markdown",
   "id": "160fa1a6",
   "metadata": {},
   "source": [
    "- gaming the system by making sure the numbers are both grouped around $1.5$ - on the plot (minds eye) looks like one collection is a little bit higher than the other but they are not - its just random chance [4]"
   ]
  },
  {
   "cell_type": "code",
   "execution_count": 31,
   "id": "5b37f85d",
   "metadata": {},
   "outputs": [
    {
     "data": {
      "image/png": "[encoded data removed]",
      "text/plain": [
       "<Figure size 360x360 with 1 Axes>"
      ]
     },
     "metadata": {},
     "output_type": "display_data"
    }
   ],
   "source": [
    "sns.catplot(x=\"Category\",y=\"Value\",jitter=False,data=df);"
   ]
  },
  {
   "cell_type": "markdown",
   "id": "7cc7cd99",
   "metadata": {},
   "source": [
    "- now under the assumption that ``a`` and ``b`` are centred around the same point (gamed the system) [4]"
   ]
  },
  {
   "cell_type": "code",
   "execution_count": 32,
   "id": "0c79c355",
   "metadata": {},
   "outputs": [
    {
     "name": "stdout",
     "output_type": "stream",
     "text": [
      "0.28% probability (3% chance)\n"
     ]
    }
   ],
   "source": [
    "t_ss,p_ss=ss.ttest_ind(a=a,b=b_m_a)\n",
    "print(f\"{p_ss:0.2f}% probability ({p_ss*10:.0f}% chance)\") # typical cutoff 0.05"
   ]
  },
  {
   "cell_type": "markdown",
   "id": "45d3ca9e",
   "metadata": {},
   "source": [
    "- if the typical cutoff is $0.05$ then the statistical test does not provide any evidence they are not centred around same point - no evidence here to suggest that they are not centred around the same point because the output is too high a probability [4] "
   ]
  },
  {
   "cell_type": "markdown",
   "id": "03d26ec2",
   "metadata": {},
   "source": [
    "< [Table of Contents](#top) | [References](#references) >\n",
    "<a id=\"solutionstatsmodelsstatsweightstats\"></a>\n",
    "***\n",
    "###### ``statsmodels.stats.weightstats``\n",
    "***"
   ]
  },
  {
   "cell_type": "code",
   "execution_count": 33,
   "id": "644f9b89",
   "metadata": {},
   "outputs": [],
   "source": [
    "import statsmodels.stats.weightstats as stat"
   ]
  },
  {
   "cell_type": "markdown",
   "id": "8d1ca00a",
   "metadata": {},
   "source": [
    "- alternative package returns the same ``p-value`` [4]"
   ]
  },
  {
   "cell_type": "code",
   "execution_count": 34,
   "id": "49767315",
   "metadata": {},
   "outputs": [],
   "source": [
    "t_sm,p_sm,d_sm=stat.ttest_ind(x1=a,x2=b_m_a)"
   ]
  },
  {
   "cell_type": "code",
   "execution_count": 35,
   "id": "956fdc4f",
   "metadata": {},
   "outputs": [
    {
     "name": "stdout",
     "output_type": "stream",
     "text": [
      "0.28% probability (3% chance)\n"
     ]
    }
   ],
   "source": [
    "print(f\"{p_sm:0.2f}% probability ({p_sm*10:.0f}% chance)\") # typical cutoff 0.05"
   ]
  },
  {
   "cell_type": "code",
   "execution_count": 36,
   "id": "4e79f7db",
   "metadata": {},
   "outputs": [
    {
     "data": {
      "text/plain": [
       "1.5"
      ]
     },
     "execution_count": 36,
     "metadata": {},
     "output_type": "execute_result"
    }
   ],
   "source": [
    "m_b"
   ]
  },
  {
   "cell_type": "markdown",
   "id": "bc5279e0",
   "metadata": {},
   "source": [
    "- revert ``m_b`` to original mean value [3]"
   ]
  },
  {
   "cell_type": "code",
   "execution_count": 37,
   "id": "12da5396",
   "metadata": {},
   "outputs": [],
   "source": [
    "m_b=2.0"
   ]
  },
  {
   "cell_type": "markdown",
   "id": "0ae6d8c0",
   "metadata": {},
   "source": [
    "< [Table of Contents](#top) | [References](#references) >\n",
    "<a id=\"solutionttestintuition\"></a>\n",
    "***\n",
    "###### Interpretation\n",
    "***"
   ]
  },
  {
   "cell_type": "markdown",
   "id": "92d4091b",
   "metadata": {},
   "source": [
    "- need to build up an intuition about what a ``t-test`` does [5]"
   ]
  },
  {
   "cell_type": "markdown",
   "id": "40caa310",
   "metadata": {},
   "source": [
    "- ``scipy.stats`` or ``statsmodels.stats.weightstats`` does the heavy lifting but its important to understand what assumptions are made going into the test and how the outputs are interpreted [5]"
   ]
  },
  {
   "cell_type": "markdown",
   "id": "e56676b6",
   "metadata": {},
   "source": [
    "- the values in the collection ``a`` come from a distribution centered around ``m_a`` [5]"
   ]
  },
  {
   "cell_type": "code",
   "execution_count": 38,
   "id": "5cff357a",
   "metadata": {},
   "outputs": [
    {
     "data": {
      "text/plain": [
       "1.5"
      ]
     },
     "execution_count": 38,
     "metadata": {},
     "output_type": "execute_result"
    }
   ],
   "source": [
    "m_a # mean collection a"
   ]
  },
  {
   "cell_type": "code",
   "execution_count": 39,
   "id": "b11fb1c1",
   "metadata": {},
   "outputs": [
    {
     "data": {
      "text/plain": [
       "array([1.43567022, 0.95134126, 1.40911944, 1.75573574, 2.39980731,\n",
       "       2.07727955, 1.68232643, 1.84074983, 1.45766104, 1.80182503,\n",
       "       2.20272572, 2.15552154, 1.19501456, 0.64170888, 1.31677537,\n",
       "       1.27600776, 2.17926109, 1.70169935, 1.48865709, 0.87901606,\n",
       "       1.29280573, 1.51402624, 1.03090886, 1.00133043, 1.36959794,\n",
       "       1.2499609 , 1.26039393, 1.34788437, 0.39360534, 1.845966  ,\n",
       "       1.55000607, 1.59095714, 1.17272708, 1.19211732, 1.83593509,\n",
       "       1.79593219, 2.40192233, 1.64574373, 1.35018084, 1.55604429])"
      ]
     },
     "execution_count": 39,
     "metadata": {},
     "output_type": "execute_result"
    }
   ],
   "source": [
    "a # centered around 1.0"
   ]
  },
  {
   "cell_type": "code",
   "execution_count": 40,
   "id": "bad49f85",
   "metadata": {},
   "outputs": [
    {
     "data": {
      "text/plain": [
       "2.0"
      ]
     },
     "execution_count": 40,
     "metadata": {},
     "output_type": "execute_result"
    }
   ],
   "source": [
    "m_b # mean collection b"
   ]
  },
  {
   "cell_type": "code",
   "execution_count": 41,
   "id": "6dfbe9a3",
   "metadata": {},
   "outputs": [
    {
     "data": {
      "text/plain": [
       "array([2.86187212, 2.41080501, 1.65565722, 2.70680221, 1.9733948 ,\n",
       "       2.53288035, 2.31015751, 2.79217697, 1.92173233, 2.51005484,\n",
       "       2.22038549, 2.44646595, 1.70232883, 2.36674616, 2.67236276,\n",
       "       2.90170456, 2.62112957, 2.44872787, 2.24365598, 2.57683592,\n",
       "       1.78094948, 1.94865989, 2.78638584, 2.05329902, 3.96170183,\n",
       "       2.51087239, 2.01071585, 3.23103757, 2.81198102, 2.17847461,\n",
       "       2.67072433, 3.21236252, 2.36053684, 2.86617226, 2.42165702,\n",
       "       2.39840256, 3.08295096, 2.45698507, 3.56287528, 2.59441444])"
      ]
     },
     "execution_count": 41,
     "metadata": {},
     "output_type": "execute_result"
    }
   ],
   "source": [
    "b"
   ]
  },
  {
   "cell_type": "markdown",
   "id": "e0cfa3ee",
   "metadata": {},
   "source": [
    "- if repeatedly asked to randomly pick a number between one and ten (generate one-thousand numbers) totally independent of each other then would expect if truly random (not great at as humans) out of the one-thousand numbers that $10\\%$ would be $1$ and $10\\%$ would be 2 and $10\\%$ would be $3$ and so on - every number would have the same chance of being picked [5]"
   ]
  },
  {
   "cell_type": "markdown",
   "id": "327e3423",
   "metadata": {},
   "source": [
    "- whether that actually happened or not does not really matter - what matters is that as the number of guesses increases does the numbers stay uniform at having a $10\\%$ chance of being picked out (called a uniform distribution and is usually how randomness is thought of) [5]"
   ]
  },
  {
   "cell_type": "code",
   "execution_count": 42,
   "id": "6261f0e6",
   "metadata": {},
   "outputs": [],
   "source": [
    "x=np.linspace(start=-2,stop=4,num=1000)"
   ]
  },
  {
   "cell_type": "markdown",
   "id": "b6d56797",
   "metadata": {},
   "source": [
    "< [Table of Contents](#top) | [References](#references) >\n",
    "<a id=\"solutionProbabilityDensityFunction\"></a>\n",
    "***\n",
    "###### Probability Density Function\n",
    "***"
   ]
  },
  {
   "cell_type": "markdown",
   "id": "7753d497",
   "metadata": {},
   "source": [
    "- the blue curve represents the way in which the numbers in the collection ``a`` are generated (centered around ``m_a`` - the curve is very high around $1$) [5]"
   ]
  },
  {
   "cell_type": "markdown",
   "id": "b85903f9",
   "metadata": {},
   "source": [
    "- the fact that the blue curve around the $1$ mark is very high means its very likely to see numbers that are around $1$ and its much less likely to see numbers out past $2$ - the curve is very close to the $0$ point on the x-axis for numbers less than appropriately $0$ or greater than appropriately $2$ - the curve stays above the line out to infinity in the positive direction and stays above the line out to infinity in the negative direction (hugging the x-axis compared to how high it is up around the value $1$) - the curve represents how unlikely it is to see certain values (within certain ranges) [5]"
   ]
  },
  {
   "cell_type": "markdown",
   "id": "0a43384d",
   "metadata": {},
   "source": [
    "- the blue curve represents the uncertainty (probability density function ``PDF``) when generating numbers in the collection ``a`` and the red curve represents the uncertainty (``PDF``) when generating numbers in the collection ``b`` [5]"
   ]
  },
  {
   "cell_type": "code",
   "execution_count": 43,
   "id": "0ab3a909",
   "metadata": {},
   "outputs": [],
   "source": [
    "y_a=ss.norm.pdf(x=x,loc=m_a,scale=s_a)"
   ]
  },
  {
   "cell_type": "code",
   "execution_count": 44,
   "id": "f1b98616",
   "metadata": {},
   "outputs": [],
   "source": [
    "y_b=ss.norm.pdf(x=x,loc=m_b,scale=s_b)"
   ]
  },
  {
   "cell_type": "markdown",
   "id": "54be48e7",
   "metadata": {},
   "source": [
    "- in the real world this kind of randomness (blue curve) occurs very frequently - if measuring the heights of men in Ireland would probably find there is an average value (probably $1.6$ or $1.8$ metres) that most men in Ireland is centered around - it is very likely that when measuring a random height it will be somewhere in around $1.7$ - its very unlikely to see somebody up around $2.5$ and very unlikely to see somebody down around $0.5$ - those two extremes do happen but its just very unlikely - the vast majority of people are going to be centered around the same point [5]"
   ]
  },
  {
   "cell_type": "markdown",
   "id": "3cc0febf",
   "metadata": {},
   "source": [
    "- normal (blue) curve represents a different type of randomness when compared with picking a number between one and ten which is a uniform distribution (every value is likely) - collection ``a`` is a normal distribution with the generated values centered around $1$ - moving away from $1$ the values become less and less likely (the red line is the same thing but for the collection ``b``) [5]"
   ]
  },
  {
   "cell_type": "markdown",
   "id": "38fe022e",
   "metadata": {},
   "source": [
    "- its important to note that in the real world the blue line and the red line are unknown (making the assumption they are nice bell shaped curves) - do not know where the tip of each of the two curves are [5]"
   ]
  },
  {
   "cell_type": "markdown",
   "id": "f9377baa",
   "metadata": {},
   "source": [
    "- the ``t-test`` is checking (questions) if the the tip of both curves (i. blue curve and; ii. red curve) are at the same point or not [5]"
   ]
  },
  {
   "cell_type": "markdown",
   "id": "1e3b19af",
   "metadata": {},
   "source": [
    "- gamed the system (created a fake dataset) knowing the collection ``a`` and the collection ``b`` are different [5]"
   ]
  },
  {
   "cell_type": "code",
   "execution_count": 45,
   "id": "a4debda7",
   "metadata": {},
   "outputs": [
    {
     "data": {
      "image/png": "[encoded data removed]",
      "text/plain": [
       "<Figure size 921.6x518.4 with 1 Axes>"
      ]
     },
     "metadata": {},
     "output_type": "display_data"
    }
   ],
   "source": [
    "fig_a_not_b,ax=plt.subplots()\n",
    "ax.plot(x,y_a)\n",
    "ax.plot(x,y_b,\"r:\");"
   ]
  },
  {
   "cell_type": "markdown",
   "id": "a790a7b8",
   "metadata": {},
   "source": [
    "- centering both collections (``a`` and ``b``) around the same value ($1$) then the blue and red curves coincide [5]"
   ]
  },
  {
   "cell_type": "code",
   "execution_count": 46,
   "id": "5d8b1bb6",
   "metadata": {},
   "outputs": [
    {
     "data": {
      "text/plain": [
       "1.5"
      ]
     },
     "execution_count": 46,
     "metadata": {},
     "output_type": "execute_result"
    }
   ],
   "source": [
    "m_a"
   ]
  },
  {
   "cell_type": "code",
   "execution_count": 47,
   "id": "84c79e33",
   "metadata": {},
   "outputs": [],
   "source": [
    "m_b=m_a"
   ]
  },
  {
   "cell_type": "markdown",
   "id": "1a9641cd",
   "metadata": {},
   "source": [
    "- the ``t-test`` is checking if this assumption is true (both collections hitting the same point) [5]"
   ]
  },
  {
   "cell_type": "markdown",
   "id": "614f29be",
   "metadata": {},
   "source": [
    "m_b"
   ]
  },
  {
   "cell_type": "markdown",
   "id": "c01f2a28",
   "metadata": {},
   "source": [
    "- the ``t-test`` is checking to see if they are the same or if there is any evidence that they are not the same (checking if the tips of the curves are the same or not) [5]"
   ]
  },
  {
   "cell_type": "code",
   "execution_count": 48,
   "id": "dfee59e0",
   "metadata": {},
   "outputs": [
    {
     "data": {
      "image/png": "[encoded data removed]",
      "text/plain": [
       "<Figure size 921.6x518.4 with 1 Axes>"
      ]
     },
     "metadata": {},
     "output_type": "display_data"
    }
   ],
   "source": [
    "y_a=ss.norm.pdf(x=x,loc=m_a,scale=s_a)\n",
    "y_b=ss.norm.pdf(x=x,loc=m_b,scale=s_b)\n",
    "fig_a_tip_b,ax=plt.subplots()\n",
    "ax.plot(x,y_a)\n",
    "ax.plot(x,y_b,\"r:\");"
   ]
  },
  {
   "cell_type": "markdown",
   "id": "8bc22bcd",
   "metadata": {},
   "source": [
    "- revert ``m_b`` to original mean value [5]"
   ]
  },
  {
   "cell_type": "code",
   "execution_count": 49,
   "id": "7d576c91",
   "metadata": {},
   "outputs": [],
   "source": [
    "m_b=2"
   ]
  },
  {
   "cell_type": "code",
   "execution_count": 50,
   "id": "0bae3eaa",
   "metadata": {},
   "outputs": [],
   "source": [
    "exit()"
   ]
  },
  {
   "cell_type": "markdown",
   "id": "c8781b87",
   "metadata": {},
   "source": [
    "***\n",
    "## END"
   ]
  },
  {
   "cell_type": "markdown",
   "id": "f1291269",
   "metadata": {},
   "source": [
    "< [Table of Contents](#top) | [Abstract](#abstract) | [Introduction](#introduction) | [Conclusion](#conclusion) | [References](#references) >\n",
    "<a id=\"solution\"></a>\n",
    "***\n",
    "## Solution\n",
    "***"
   ]
  },
  {
   "cell_type": "markdown",
   "id": "6ee51fa4",
   "metadata": {},
   "source": [
    "&#x1F6A7;"
   ]
  },
  {
   "cell_type": "markdown",
   "id": "681a4f11",
   "metadata": {},
   "source": [
    "<!-- - refer [Appendix](#appendix-df) to view the full dataset <a id=\"go-back-df\"></a> -->\n",
    "<!-- print(fGetModuleType(___x___),fDocumentation(___x___)) -->\n",
    "***\n",
    "## END"
   ]
  },
  {
   "cell_type": "markdown",
   "id": "28e9ffc8",
   "metadata": {},
   "source": [
    "< [Table of Contents](#top) | [Abstract](#abstract) | [Introduction](#introduction) | [Solution](#solution) | [References](#references) >\n",
    "<a id=\"conclusion\"></a>\n",
    "***\n",
    "## Conclusion\n",
    "***"
   ]
  },
  {
   "cell_type": "markdown",
   "id": "56d5e2c1",
   "metadata": {},
   "source": [
    "&#x1F6A7;"
   ]
  },
  {
   "cell_type": "markdown",
   "id": "840b765a",
   "metadata": {},
   "source": [
    "***\n",
    "## END"
   ]
  },
  {
   "cell_type": "markdown",
   "id": "e0e42d51",
   "metadata": {},
   "source": [
    "< [Table of Contents](#top) | [Abstract](#abstract) | [Introduction](#introduction) | [Solution](#solution) | [Conclusion](#conclusion) | [References](#references) >\n",
    "<a id=\"references\"></a>\n",
    "***\n",
    "## References\n",
    "***\n",
    "&nbsp;&nbsp;&nbsp;&nbsp;&nbsp;&nbsp;&nbsp;&nbsp;&nbsp;[1] B. Foltz, \"Statistics 101 - ANOVA, A Visual Introduction,\" [youtube.com](https://web.archive.org/web/20210930195145/https://www.youtube.com/watch?v=0Vj2V2qRU10), April 2013.\n",
    "\n",
    "&nbsp;&nbsp;&nbsp;&nbsp;&nbsp;&nbsp;&nbsp;&nbsp;&nbsp;[2] I. McLoughlin, \"t-tests in Python setup,\" GMIT, October 2020.\n",
    "\n",
    "&nbsp;&nbsp;&nbsp;&nbsp;&nbsp;&nbsp;&nbsp;&nbsp;&nbsp;[3] I. McLoughlin, \"Simulating data for a t-test,\" GMIT, October 2020.\n",
    "\n",
    "&nbsp;&nbsp;&nbsp;&nbsp;&nbsp;&nbsp;&nbsp;&nbsp;&nbsp;[4] I. McLoughlin, \"Running a t-test in Python,\" GMIT, October 2020.\n",
    "\n",
    "&nbsp;&nbsp;&nbsp;&nbsp;&nbsp;&nbsp;&nbsp;&nbsp;&nbsp;[5] I. McLoughlin, \"Interpreting a t-test,\" GMIT, October 2020."
   ]
  },
  {
   "cell_type": "markdown",
   "id": "b33c372a",
   "metadata": {},
   "source": [
    "***\n",
    "## END"
   ]
  },
  {
   "cell_type": "markdown",
   "id": "e5961b4d",
   "metadata": {},
   "source": [
    "< [Table of Contents](#top) | [Abstract](#abstract) | [Introduction](#introduction) | [Solution](#solution) | [Conclusion](#conclusion) | [References](#references) >\n",
    "<a id=\"appendix\"></a>\n",
    "***\n",
    "## Appendix\n",
    "***"
   ]
  },
  {
   "cell_type": "markdown",
   "id": "00d82a82",
   "metadata": {},
   "source": [
    "***\n",
    "## END"
   ]
  },
  {
   "cell_type": "markdown",
   "id": "899c1783",
   "metadata": {},
   "source": [
    "# END JUPYTER NOTEBOOK"
   ]
  }
 ],
 "metadata": {
  "kernelspec": {
   "display_name": "Python 3",
   "language": "python",
   "name": "python3"
  },
  "language_info": {
   "codemirror_mode": {
    "name": "ipython",
    "version": 3
   },
   "file_extension": ".py",
   "mimetype": "text/x-python",
   "name": "python",
   "nbconvert_exporter": "python",
   "pygments_lexer": "ipython3",
   "version": "3.8.8"
  }
 },
 "nbformat": 4,
 "nbformat_minor": 5
}
