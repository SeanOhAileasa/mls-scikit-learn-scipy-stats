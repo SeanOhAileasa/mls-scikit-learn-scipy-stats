{
 "cells": [
  {
   "cell_type": "code",
   "execution_count": null,
   "id": "76b6aaa9",
   "metadata": {},
   "outputs": [
    {
     "data": {
      "text/html": [
       "<script>Jupyter.notebook.kernel.restart()</script>"
      ]
     },
     "metadata": {},
     "output_type": "display_data"
    }
   ],
   "source": [
    "from IPython.core.display import display_html\n",
    "display_html(\"<script>Jupyter.notebook.kernel.restart()</script>\",raw=True)"
   ]
  },
  {
   "cell_type": "code",
   "execution_count": 1,
   "id": "19093beb",
   "metadata": {},
   "outputs": [
    {
     "data": {
      "text/html": [
       "<style>.container { width:100% !important; }</style>"
      ],
      "text/plain": [
       "<IPython.core.display.HTML object>"
      ]
     },
     "metadata": {},
     "output_type": "display_data"
    },
    {
     "data": {
      "text/html": [
       "<style>.container { width:100% !important; }</style>"
      ],
      "text/plain": [
       "<IPython.core.display.HTML object>"
      ]
     },
     "metadata": {},
     "output_type": "display_data"
    }
   ],
   "source": [
    "from sys import path; path.insert(1,\"./rc\");\n",
    "import fullscreen; from importlib import reload; reload(fullscreen);"
   ]
  },
  {
   "cell_type": "markdown",
   "id": "616b0550",
   "metadata": {},
   "source": [
    "***\n",
    "< [GMIT Data Analytics](https://web.archive.org/web/20201029063153/https://www.gmit.ie/computer-science-and-applied-physics/higher-diploma-science-computing-data-analytics-ict) | [Home](https://github.com/SeanOhAileasa) | [README](https://github.com/SeanOhAileasa/mls-scikit-learn-scipy-stats/blob/main/README.md) >\n",
    "\n",
    "[![GMIT](https://github.com/SeanOhAileasa/SeanOhAileasa/blob/master/rc/gmit.png?raw=true)](https://web.archive.org/web/20201029063153/https://www.gmit.ie/computer-science-and-applied-physics/higher-diploma-science-computing-data-analytics-ict)\n",
    "\n",
    "## Machine Learning & Statistics, Winter 21/22\n",
    "### Due: last commit on or before December 19th, 2021\n",
    "### Topic: [``scipy-stats``](https://nbviewer.jupyter.org/github/SeanOhAileasa/mls-scikit-learn-scipy-stats/blob/main/scipy-stats.ipynb)\n",
    "***"
   ]
  },
  {
   "cell_type": "markdown",
   "id": "4bcc9989",
   "metadata": {},
   "source": [
    "Winter 21/22 assessment for the ``Machine Learning & Statistics`` module (5 Credits) of the ``Higher Diploma in Science in Computing (Data Analytics) (H.Dip)`` programme (75 Credits) at **Galway-Mayo Institute of Technology (GMIT)**.\n",
    "\n",
    "***\n",
    "## Instructions\n",
    "***\n",
    "\n",
    "- Overview of the ``scipy-stats`` Python library.\n",
    "\n",
    "\n",
    "- Perform a hypothesis test using ``ANOVA`` on an appropriate dataset and ensuring the appropriate underlying ``ANOVA`` are met, then perform and display the results using ``scipy-stats``.\n",
    "\n",
    "\n",
    "- Using plots and other visualisations to enhance the notebook for viewers."
   ]
  },
  {
   "cell_type": "markdown",
   "id": "185d613d",
   "metadata": {},
   "source": [
    "***\n",
    "## END"
   ]
  },
  {
   "cell_type": "markdown",
   "id": "e9dfbb57",
   "metadata": {},
   "source": [
    "<a id=\"top\"></a>\n",
    "***\n",
    "## Table of Contents\n",
    "***"
   ]
  },
  {
   "cell_type": "markdown",
   "id": "f06ac75d",
   "metadata": {},
   "source": [
    "###### Quick Links\n",
    "***\n",
    "< [Project Management](#ppm)&nbsp;&nbsp;|&nbsp;&nbsp;[Structure](#structure)&nbsp;&nbsp;|&nbsp;&nbsp;[Abstract](#abstract)&nbsp;&nbsp;|&nbsp;&nbsp;[Introduction](#introduction)&nbsp;&nbsp;|&nbsp;&nbsp;[Solution](#solution)&nbsp;&nbsp;|&nbsp;&nbsp;[Conclusion](#conclusion)&nbsp;&nbsp;|&nbsp;&nbsp;[References](#references)&nbsp;&nbsp;|&nbsp;&nbsp;[Appendix](#appendix) >"
   ]
  },
  {
   "cell_type": "markdown",
   "id": "36680c8d",
   "metadata": {},
   "source": [
    "## [Project Management](#ppm)"
   ]
  },
  {
   "cell_type": "markdown",
   "id": "8568fb46",
   "metadata": {},
   "source": [
    "* [Commit](#ppmCommit) <br/><br/>\n",
    "    * [History](#ppmCommitHistory) <br/><br/>\n",
    "* [Planning](#ppmPlanning) <br/><br/>\n",
    "    * [Research](#ppmGettingStartedResearch) <br/><br/>\n",
    "    * [Development](#ppmGettingStartedDevelopment) <br/><br/>\n",
    "    * [Consistency](#ppmGettingStartedConsistency) <br/><br/>\n",
    "    * [Documentation](#ppmGettingStartedDocumentation) <br/><br/>\n",
    "* [Considerations](#considerations) <br/><br/>\n",
    "    * [Coding Conventions](#codingConventions) <br/><br/>  \n",
    "* [Outstanding](#outstanding) <br/><br/>\n",
    "    * [Day:55 - Day:45](#outstandingUnforeseenCircumstances) &#x1F4CC; <br/><br/>\n",
    "    * [DAY:20 - Due Date](#outstandingday20)  "
   ]
  },
  {
   "cell_type": "markdown",
   "id": "6a739464",
   "metadata": {},
   "source": [
    "<hr width=50%;>\n",
    "<hr width=50%;>\n",
    "<hr width=50%;>"
   ]
  },
  {
   "cell_type": "markdown",
   "id": "220739f8",
   "metadata": {},
   "source": [
    "< [Table of Contents](#top) | [References](#references) >\n",
    "<a id=\"structure\"></a>\n",
    "***\n",
    "## Structure\n",
    "***"
   ]
  },
  {
   "cell_type": "markdown",
   "id": "8e5c6447",
   "metadata": {},
   "source": [
    "- &#x1F6A7;"
   ]
  },
  {
   "cell_type": "markdown",
   "id": "e0c7feac",
   "metadata": {},
   "source": [
    "<hr width=50%;>\n",
    "<hr width=50%;>\n",
    "<hr width=50%;>"
   ]
  },
  {
   "cell_type": "markdown",
   "id": "5459b8fd",
   "metadata": {},
   "source": [
    "## [Abstract](#abstract)"
   ]
  },
  {
   "cell_type": "markdown",
   "id": "952e71a5",
   "metadata": {},
   "source": [
    "<hr width=50%;>\n",
    "<hr width=50%;>\n",
    "<hr width=50%;>"
   ]
  },
  {
   "cell_type": "markdown",
   "id": "0f81ec69",
   "metadata": {},
   "source": [
    "## [Introduction](#introduction)"
   ]
  },
  {
   "cell_type": "markdown",
   "id": "74d6f328",
   "metadata": {},
   "source": [
    "<hr width=50%;>\n",
    "<hr width=50%;>\n",
    "<hr width=50%;>"
   ]
  },
  {
   "cell_type": "markdown",
   "id": "8ee392cb",
   "metadata": {},
   "source": [
    "### [Sampling](#introductionScenario)\n",
    "<hr width=50%;>\n",
    "\n",
    "* [Simulation](#simulation) <br/><br/>\n",
    "    * [Visualisation](#dataStructurevisualisation)"
   ]
  },
  {
   "cell_type": "markdown",
   "id": "883ee48c",
   "metadata": {},
   "source": [
    "### [Scipy Stats](#solutionttest)\n",
    "<hr width=50%;>\n",
    "\n",
    "* [Hypothesis](#solutionttestHypothesis) <br/><br/>\n",
    "    * [T-Test](#solutionttestTTest) <br/><br/>\n",
    "        * [Visualisation](#solutionttestintuitionVisualisation) <br/><br/>\n",
    "            * [Statistic](#solutionDifferentQuestionttestCriticalValues) <br/><br/>\n",
    "        * [Error](#solutionProbabilityDensityFunctionError) <br/><br/>\n",
    "            * [Type I Errors](#solutionProbabilityDensityFunctionErrorTypeIErrorFalsePositives) (``False Positives``) <br/><br/>\n",
    "            * [Type II Errors](#solutionProbabilityDensityFunctionErrorTypeIErrorFalseNegatives) (``False Negatives``) <br/><br/>\n",
    "* [Multiple Samples](#solutionMultipleSamples)"
   ]
  },
  {
   "cell_type": "markdown",
   "id": "a8de6897",
   "metadata": {},
   "source": [
    "<hr width=50%;>\n",
    "<hr width=50%;>\n",
    "<hr width=50%;>"
   ]
  },
  {
   "cell_type": "markdown",
   "id": "c66373c1",
   "metadata": {},
   "source": [
    "## [Solution](#solution)"
   ]
  },
  {
   "cell_type": "markdown",
   "id": "a30b06b2",
   "metadata": {},
   "source": [
    "- &#x1F6A7;"
   ]
  },
  {
   "cell_type": "markdown",
   "id": "75846b21",
   "metadata": {},
   "source": [
    "<hr width=50%;>\n",
    "<hr width=50%;>\n",
    "<hr width=50%;>"
   ]
  },
  {
   "cell_type": "markdown",
   "id": "9aa17aef",
   "metadata": {},
   "source": [
    "## [Conclusion](#conclusion)"
   ]
  },
  {
   "cell_type": "markdown",
   "id": "b28a20d3",
   "metadata": {},
   "source": [
    "- &#x1F6A7;"
   ]
  },
  {
   "cell_type": "markdown",
   "id": "11b9e3f0",
   "metadata": {},
   "source": [
    "<hr width=50%;>\n",
    "<hr width=50%;>\n",
    "<hr width=50%;>"
   ]
  },
  {
   "cell_type": "markdown",
   "id": "44b289fd",
   "metadata": {},
   "source": [
    "## [Appendix](#appendix)"
   ]
  },
  {
   "cell_type": "markdown",
   "id": "e1449819",
   "metadata": {},
   "source": [
    "* [T-Test - Sleep Dataset](#appendixSleep)"
   ]
  },
  {
   "cell_type": "markdown",
   "id": "37449a6e",
   "metadata": {},
   "source": [
    "<hr width=50%;>\n",
    "<hr width=50%;>\n",
    "<hr width=50%;>"
   ]
  },
  {
   "cell_type": "markdown",
   "id": "ae1fa62c",
   "metadata": {},
   "source": [
    "< [Table of Contents](#top) | [Abstract](#abstract) | [Introduction](#introduction) | [Solution](#solution) | [Conclusion](#conclusion) | [References](#references) >\n",
    "<a id=\"ppm\"></a>\n",
    "***\n",
    "## Project Management\n",
    "***"
   ]
  },
  {
   "cell_type": "markdown",
   "id": "406f3255",
   "metadata": {},
   "source": [
    "\n",
    "< [Table of Contents](#top) | [References](#references) >\n",
    "<a id=\"ppmCommit\"></a>\n",
    "***\n",
    "### Commit\n",
    "***"
   ]
  },
  {
   "cell_type": "code",
   "execution_count": 1,
   "id": "2acb5420",
   "metadata": {},
   "outputs": [
    {
     "name": "stdout",
     "output_type": "stream",
     "text": [
      "21 Nov 2021 20:47:16\n"
     ]
    }
   ],
   "source": [
    "%%script bash\n",
    "date"
   ]
  },
  {
   "cell_type": "markdown",
   "id": "88cde4b1",
   "metadata": {},
   "source": [
    "```python\n",
    "\"DAY:27 - [Notebook: scipy-stats]: (Last Commit) Changed plot style to ggplot. (Introduction) Add a blurb about hypothesis formulation and the null hypothesis being the assumption to be tested. Introduced the alternative hypothesis being the goal of rejecting the null hypothesis. Highlighting the p-value result of a t-test is about the populations and not just the sample collections used. Also made the error sections more concise, incorporating the null hypothesis and the alternative hypothesis notation (easier to read and follow). (Propose) Move onto section - Solution - introducing ANOVA but first must find an appropriate dataset to analyse.\"\n",
    "```"
   ]
  },
  {
   "cell_type": "code",
   "execution_count": 2,
   "id": "98d1b626",
   "metadata": {},
   "outputs": [],
   "source": [
    "exit()"
   ]
  },
  {
   "cell_type": "markdown",
   "id": "c280ee62",
   "metadata": {},
   "source": [
    "< [Table of Contents](#top) | [References](#references) >\n",
    "<a id=\"ppmCommitHistory\"></a>\n",
    "***\n",
    "###### History\n",
    "***"
   ]
  },
  {
   "cell_type": "code",
   "execution_count": 1,
   "id": "b7e1201d",
   "metadata": {},
   "outputs": [],
   "source": [
    "%%script bash\n",
    "git log>./rc/log.txt"
   ]
  },
  {
   "cell_type": "code",
   "execution_count": 2,
   "id": "7853f1d5",
   "metadata": {},
   "outputs": [],
   "source": [
    "exit()"
   ]
  },
  {
   "cell_type": "code",
   "execution_count": 1,
   "id": "f93196b8",
   "metadata": {},
   "outputs": [],
   "source": [
    "scipy_stats_commits,scikit_learn_commits=0,0 # number of commits\n",
    "with open(r\"./rc/log.txt\",\"r\") as f: # open ready only\n",
    "    data=f.read() # read file contents\n",
    "    scipy_stats_commits=data.count(\"[Notebook: scipy-stats]\") # capture scipy-stats count\n",
    "    scikit_learn_commits=data.count(\"[Notebook: scikit-learn]\") # capture scikit-learn count"
   ]
  },
  {
   "cell_type": "code",
   "execution_count": 2,
   "id": "1c1c68d5",
   "metadata": {},
   "outputs": [
    {
     "data": {
      "image/png": "[encoded data removed]",
      "text/plain": [
       "<Figure size 432x288 with 1 Axes>"
      ]
     },
     "metadata": {},
     "output_type": "display_data"
    }
   ],
   "source": [
    "import datetime\n",
    "\n",
    "now=datetime.datetime.now() # capture current date\n",
    "due=datetime.datetime(2021,12,19) # assessment due date\n",
    "delta=due-now # count days outstanding\n",
    "\n",
    "import matplotlib.pyplot as plt\n",
    "\n",
    "plt.rcParams[\"text.color\"]=\"r\" # chart text colour\n",
    "# plt.rcParams[\"figure.figsize\"]=12.8,7.2 # rc chart size\n",
    "plt.rcParams[\"savefig.format\"]=\"png\" # chart image format\n",
    "\n",
    "l=f\"scikit-learn ({scikit_learn_commits})\",f\"scipy-stats ({scipy_stats_commits})\" # notebook plus count\n",
    "s=[scikit_learn_commits,scipy_stats_commits] # pie chart size\n",
    "c=[\"green\",\"orange\"] # pie chart colours\n",
    "e=(0.25,0) # explode first slice\n",
    "plt.title(f\"Assessment Due: {delta.days} Days\")\n",
    "plt.pie(x=s,explode=e,labels=l,colors=c,autopct='%.0f%%',shadow=True,startangle=240) # actual pie chart\n",
    "plt.axis('equal')\n",
    "plt.savefig(fname=\"./rc/history\"); #,format=\"png\");"
   ]
  },
  {
   "cell_type": "code",
   "execution_count": 3,
   "id": "f810b6e4",
   "metadata": {
    "scrolled": false
   },
   "outputs": [
    {
     "name": "stdout",
     "output_type": "stream",
     "text": [
      "commit 15f56af05a1131c48dd2a33e77b3bf8bb70d1aa1\n",
      "Author: unknown <seanohaileasa@protonmail.com>\n",
      "Date:   Sat Nov 20 20:16:24 2021 +0000\n",
      "\n",
      "    DAY:28 - [Configuration]: Add requirements.txt to enable interactive notebooks via Binder. Add Binder and nbviewer (static view) badges to README.md. Add script (fullscreen.py) to utilise full Jupyter Notebook screen via nbviewer. Move log.txt (git log) to ./rc.\n",
      "\n",
      "commit 2f3dd960e42bf93c1d814c360e91279db9e0bdd5\n",
      "Author: unknown <seanohaileasa@protonmail.com>\n",
      "Date:   Fri Nov 19 22:40:18 2021 +0000\n",
      "\n",
      "    DAY:29 - [Notebook: scipy-stats]: (Last Commit) Add notes for better clarity plus additional plots to distinguish sample versus population. (Introduction) Adding a new collection highlights the limitations of the t-test. Several t-tests in parallel increase the chance of making an error. Samples from the same population using a cut-off result in a high False Positive rate because of repetition. (Propose) Move onto section - Solution - introducing ANOVA.\n",
      "\n",
      "commit 6d4a51254602be1e81efddec87275b758a8b82bc\n",
      "Author: unknown <seanohaileasa@protonmail.com>\n",
      "Date:   Wed Nov 17 21:38:21 2021 +0000\n",
      "\n",
      "    DAY:31 - [Notebook: scikit-learn]: (Last Commit) Using the obtained coefficients via sklearn to perform predictions. (Introduction) Finally, able to take a value on which to make a prediction based on the coefficients (trained dataset) found earlier. Summarised section - Regression - with a blurb about determinism and how the obtained coefficients are more than just data but actually form part of a machine learning function. (Propose) At this stage, the three algorithms of interest have been introduced, albeit revision is required. Propose tidying up the Notebook thus far, making the presentation concise and filling in any blanks. Then proceed with the section - Solution (cyber security). In the interim on Day:30 revisit section - Project Management.\n",
      "\n",
      "commit b6c715003432a3f054236df027adde3fe1b7f28a\n",
      "Author: unknown <seanohaileasa@protonmail.com>\n",
      "Date:   Sun Nov 14 19:01:41 2021 +0000\n",
      "\n",
      "    DAY:34 - [Notebook: scikit-learn]: (Last Commit) Thus far, the actual values from the penguins dataset are fit to the model. (Introduction) Determined the coefficient of determination of the prediction (a measure of how well the lines fits the dataset). Then asked the model for i. the y-intercept (value of y when x is zero) and; ii. the slope or gradient for the coefficients b and m. (Propose) Use the obtained coefficients (parameter p), sklearn found (trained) and pass in the function f to perform the prediction.\n",
      "\n",
      "commit 916cfaf336885ce5102f6f9502bce277b1078f8d\n",
      "Author: unknown <seanohaileasa@protonmail.com>\n",
      "Date:   Fri Nov 12 14:40:47 2021 +0000\n",
      "\n",
      "    DAY:36 - [Notebook: scipy-stats]: (Last Commit) Proposed finally moving onto ANOVA by way of highlighting the limitations of the t-test. Instead have rewritten the whole Notebook completed thus far (except Appendix) to be more concise for ease of readability. Significant amendments include i. denoting repeated terms when first introduced; iiâ€”using equations (with tags for reference); iiiâ€”less repeated commentary. In review/rewriting the Notebook, there were errors in its presentation, albeit all now in order. (Propose) Maintaining same Notebook structure and introducing ANOVA (by way of highlighting the limitations of the t-test (i.e. submitting three or more collections).\n",
      "\n",
      "commit bdaf712045b45f9375af77d4fd7e329968c1e4e4\n",
      "Author: unknown <seanohaileasa@protonmail.com>\n",
      "Date:   Thu Nov 11 20:06:47 2021 +0000\n",
      "\n",
      "    DAY:37 - [Notebook: scikit-learn]: (Last Commit) To start the automation process enlarging the regplot already created. (Introduction) Visually prediction based on minds eye by drawing a straight line vertically from the x-axis stopping at the best fit line and moving across the horizontal. The automation algorithm pairs the x-axis values to the y-axis values to find the relationship between the two collections of numbers. To determine the coefficients (parameters for the best fit line) first manipulated the two collection to ensure the correct ordering of inputs to sklearn (reshape also required due to package techniciallies). Finally fit the actualy values from the dataset to the model. (Propose) Determine the: i. score ii. intercept (b) iii. coeeficients (b & m) in line with the same pattern of the function f (linear model) introduced earlier - f(input, trained).\n",
      "\n",
      "commit 35dc247229a9194e56995221670982dd75212276\n",
      "Author: unknown <seanohaileasa@protonmail.com>\n",
      "Date:   Tue Nov 9 20:03:44 2021 +0000\n",
      "\n",
      "    DAY:39 - [Notebook: scikit-learn]: (Last Commit) Appropriately concise given introduction albeit the section - Introduction - does require revision before proceeding to section - Solution (cybersecurity-related). (Introduction) Extracted columns under investigation, creating a new DataFrame. Using the seaborn function regplot to i. plot the data extracted and ii. produce a linear regression model fit. (Propose) Automating the predictions by following the process outlined in the section - Preface - using package sklearn.\n",
      "\n",
      "commit 3c9502f057c356eda8ffb471fc375b14a8a90445\n",
      "Author: unknown <seanohaileasa@protonmail.com>\n",
      "Date:   Mon Nov 8 20:35:21 2021 +0000\n",
      "\n",
      "    DAY:40 - [Notebook: scipy-stats]: (Last Commit) No comment. (Appendix) Completed t-test on the real-world sleep dataset. The dataset consists of two groups with a before measurement and an after intervention measurement. It is tested with a 0.5 confidence level to determine a difference between the two groups (drugs). (Propose) Introducing ANOVA (by way of highlighting the limitations of the t-test (i.e. submitting three or more collections).\n",
      "\n",
      "commit f926577805b810ceb8bfc3ee24022954fecfab4a\n",
      "Author: unknown <seanohaileasa@protonmail.com>\n",
      "Date:   Mon Nov 8 20:07:34 2021 +0000\n",
      "\n",
      "    DAY:40 - [Notebook: scipy-stats]: (Last Commit) Similiar to the previous commit reviewed the remainder of the Notebook (subsection - Error). Day: 45 proposed reviewing Notebook due to delays and being behind schedule. Notebook is now up to date with further explanatory blurbs to better understand concepts (ready to proceed with new content). (Introduction) Add blurbs to subsection - Error. (Propose) i. Doing a t-test on a real-world dataset but for the moment adding to the Appendix (with the option to remove later if deemed appropriate). ii. Introducing ANOVA (by way of highlighting the limitations of the t-test (i.e. submitting three or more collections).\n",
      "\n",
      "commit 40dbbce75b89ec27de5c29427db1c183168c8670\n",
      "Author: unknown <seanohaileasa@protonmail.com>\n",
      "Date:   Mon Nov 8 19:26:08 2021 +0000\n",
      "\n",
      "    DAY:40 - [Notebook: scipy-stats]: (Last Commit) Proposed to continue reviewing the Notebook in the same fashion as the last commit before moving on to introducing ANOVA. (Introduction) Add blurbs to subsection - Scipy Stats - and capture the appropriate section of package/function documentation introduced into the Notebook for ease of readability and understanding without the need for explanation. Removed reference to statsmodels.stats as it thus far was used to verify the return values from scipy.stats.ttest_ind plus return the degrees of freedom (which is trivial to calculate). (Propose) Continue reviewing the Notebook in the same fashion (subsection - Error) before moving on to introducing ANOVA (by way of highlighting the limitations of the t-test.\n",
      "\n",
      "commit 20bbb54d7caf9b36689056f104e07ae4153bf04d\n",
      "Author: unknown <seanohaileasa@protonmail.com>\n",
      "Date:   Sun Nov 7 21:13:49 2021 +0000\n",
      "\n",
      "    DAY:41 - [Notebook: scipy-stats]: (Last Commit) Proposed reviewing the Notebook thus far before proceeding to ANOVA. (Introduction) Add blurbs to subsection - Simulation - and capture the appropriate section of package/function documentation introduced into the Notebook for ease of readability and understanding without the need for explanation. (Propose) Continue reviewing the Notebook in the same fashion before moving on to introducing ANOVA.\n",
      "\n",
      "commit 93630bc92cb0a1e292de9e4913893293f3def6c8\n",
      "Author: unknown <seanohaileasa@protonmail.com>\n",
      "Date:   Sat Nov 6 21:03:21 2021 +0000\n",
      "\n",
      "    DAY:42 - [Notebook: scikit-learn]: (Last Commit) Introduced the scenario of creating a function passing an argument trained on some pattern to make predictions. Proposed analysing the seaborn package builtin dataset penguins. (Introduction) Loading the penguins dataset creates a DataFrame to analyse the relationship between a penguins body mass and flipper length. Add a pairwise plot of the relationships in the dataset to highlight characteristics. Proposing to analyse the relationship between body mass and flipper length given the visual appearance of a line on the plot. (Propose) Extract variables of interest and plot the line.\n",
      "\n",
      "commit 9473e7ba68427459945912f995f8a85f896547d6\n",
      "Author: unknown <seanohaileasa@protonmail.com>\n",
      "Date:   Sat Nov 6 20:32:37 2021 +0000\n",
      "\n",
      "    DAY:42 - [Notebook: scikit-learn]: (Last Commit) The preface requires revision. (Introduction) Add a blurb about creating a function that takes the input to make a prediction based on an observed pattern from which the input will be trained. The trained collection of pattern values used on the input will provide predictions (asking given the input what the output is). The idea behind machine learning is often to predict something. (Propose) Using the seaborn package built-in dataset, penguins training a simple model by analysing the relationship between a penguins body mass and flipper length. In the interim to first analysis the dataset penguins.\n",
      "\n",
      "commit 6d168145eea93dd3a2c16b0f632ebab1873308d7\n",
      "Author: unknown <seanohaileasa@protonmail.com>\n",
      "Date:   Thu Nov 4 20:40:47 2021 +0000\n",
      "\n",
      "    DAY:44 - [Notebook: scikit-learn]: (Last Commit) Very rough work in completing the preface (requires revision). (Preface) Add a blurb about regression and how it differs from correlation. Regression indicates how one variable can be predicted from anotherâ€”building upon the earlier extrapolated data with a plot on what to expect from regression analysis. Given assessment is behind schedule moving away from the preface for the moment. (Propose) Move onto regression using scikit-learn without hacking example code from the sklearn documentation given introduction via preface (albeit not finished and requiring revision).\n",
      "\n",
      "commit 76c04b2fd6e45c1a8e0a8671a68267fe663daa26\n",
      "Author: unknown <seanohaileasa@protonmail.com>\n",
      "Date:   Wed Nov 3 17:01:00 2021 +0000\n",
      "\n",
      "    DAY:45 - [Notebook: scipy-stats]: (Last Commit) Fifteen days since the last commit. Proposed moving away from t-tests onto ANOVA but given behind schedule reviewing Notebook before proceeding. (Project Management) Added chart splitting commits completed on both assessment notebooks. Adding title and labels to plots presented thus far. (Propose) Before moving on to introducing ANOVA reviewing the Notebook and filling in any blank.\n",
      "\n",
      "commit d90a162b41cbe10b40e1b180d410a42a032b5f21\n",
      "Author: unknown <seanohaileasa@protonmail.com>\n",
      "Date:   Sun Oct 31 19:41:21 2021 +0000\n",
      "\n",
      "    DAY:48 - [Notebook: scikit-learn]: (Last Commit) Added labels (x and y) to plot representing height and weight (Preface). (Preface) Adding to data-driven problem introducing Pearson's r correlation and determining both height and weight are positively related and the strength of this relationship is strong. (Propose) Finish preface presentation on how regression differs from correlation and move onto regression via scikit-learn.\n",
      "\n",
      "commit abbee0c9f0840a2f34995798ad94e4c84581398c\n",
      "Author: unknown <seanohaileasa@protonmail.com>\n",
      "Date:   Thu Oct 28 21:04:00 2021 +0100\n",
      "\n",
      "    DAY:51 - [Notebook: scikit-learn]: (Last Commit) Redoing regression introduction presented thus far and presenting it under new section (Preface). (Preface) Presenting a simple (near real-world) data-driven problem demonstrate the practice of i. data collection; ii. descriptive statistics; iii. correlation; iv. data visualisation; v. model building; vi. extrapolation and regression analysis without the use of scikit-learn. (Propose) Building upon the near real-world dataset to introduce Pearson's r correlation and how regression differs from correlation by indicating how a variable can be predicted from another.\n",
      "\n",
      "commit 886cdcbe26318b7e8261d78f0eccb7f2793f29ca\n",
      "Author: unknown <seanohaileasa@protonmail.com>\n",
      "Date:   Wed Oct 27 16:21:37 2021 +0100\n",
      "\n",
      "    DAY:52 - [Notebook: scikit-learn]: (Last Commit) Nearly all of machine learning is a regression in some form. Given its importance, moving the last unit of work (last commit) to a new section. (Project Management) Due to illness, the project is behind schedule (x5 days); therefore, endeavour to submit at least two commits (units of work) per day for the next five days to catch up. (Structure) Included for ease of readability. (Preface) Moving last commit (unit of work) regarding regression to this section. (Propose) Elaborating on the topic of regression (without reference to sklearn) to a simple data-driven problem and introducing basic information where appropriate.\n",
      "\n",
      "commit 83a7aa2e54e21973c2fa019a2fa5209eaa266529\n",
      "Author: SeanOhAileasa <seanohaileasa@protonmail.com>\n",
      "Date:   Fri Oct 22 21:00:13 2021 +0100\n",
      "\n",
      "    DAY:57 - [Notebook: scikit-learn]: (Last Commit) Thus far introduced two algorithms of choice and now moving on to regression. (Introduction) Using a simple plot by way of introducing a regression. Two collections represent two points on the plot. Blurb about the equation of a line as thought in school (given the equation and draw the line) and that regression is the opposite idea whereby not given an equation but given points on the line and then trying to fill in the blanks. (Propose) This is a very light touch introduction to regression.\n",
      "\n",
      "commit b62e5b52a574001c8acb2401d7a1e60676e4d18b\n",
      "Author: SeanOhAileasa <seanohaileasa@protonmail.com>\n",
      "Date:   Wed Oct 20 21:28:39 2021 +0100\n",
      "\n",
      "    DAY:59 - [Notebook: scikit-learn]: (Last Commit) On trained data predictions were incorrect. (Introduction) The three algorithms under investigation are i. classification; ii. regression and iii. clustering - introducing model selection given its appropriate to determine the relationship between the input and output data. In addition, it is also closely related to regression (next algorithm to investigate). Training the KNN on a random selection (75%) and using the remaining data points (25%) to test the classifier. The KNN is predicted from input not seen before. It is important to note rerunning the notebook may produce different results given that the splitting of the overall iris dataset has a random element to it. (Propose) Moving onto regression for completion by day 50 then onto the solution section, introducing the algorithms with cybersecurity in mind (might be a bit ask at this early stage - revert with a decision to proceed).\n",
      "\n",
      "commit 41ecbe211326767bf6b443e63f31f92b4642021d\n",
      "Author: SeanOhAileasa <seanohaileasa@protonmail.com>\n",
      "Date:   Tue Oct 19 19:41:43 2021 +0100\n",
      "\n",
      "    DAY:60 - [Notebook: scipy-stats]: (Last Commit) Run 20000 t-tests instead of 100000. Analyst deems appropriate percentage chance collections are different even if they come from the same central point - adding a blurb about vaccines and changing the percentage chance to something more appropriate. (Introduction) Quantify how often false negatives occur (the power of the test). While false positives (Type I Errors) are built-in false negatives (Type II Errors) depend on the difference between two mean values and are difficult to quantify. (Propose) Moving away from t-tests for the moment to introduce the ANOVA.\n",
      "\n",
      "commit a4d0c622054a1d2a8bcf75c9d04811f82581f337\n",
      "Author: SeanOhAileasa <seanohaileasa@protonmail.com>\n",
      "Date:   Sun Oct 17 21:11:01 2021 +0100\n",
      "\n",
      "    DAY:62 - [Notebook: scipy-stats]: (Last Commit) Reviewed alternative approach in asking the t-test question. (Introduction) Built into statistical tests such as the t-test is the fact a wrong decision may be made. Adding to this such tests try to manage/quantify errors. Running 100000 t-tests and generating two new collections each time having the same central value and giving the t-test a 5% chance of determining both are different (albeit are the same). Rerunning the t-test with different means. These are false positives (Type I Error). It is the analyst who deems what percentage is appropriate to deem both collections are different even if both come from the same central point. (Propose) Moving onto a false negative (Type II Error) which is harder to quantify and depends on how close the means are.\n",
      "\n",
      "commit ad1127f7d408babec9df36bf918cfd1144520556\n",
      "Author: SeanOhAileasa <seanohaileasa@protonmail.com>\n",
      "Date:   Sat Oct 16 20:39:53 2021 +0100\n",
      "\n",
      "    DAY:63 - [Notebook: scipy-stats]: (Last Commit) PDF plot demonstrates what the t-test is checking (if the tips of both curves are at the same point). (Introduction) Brief blurb about assumptions thus far and other possible assumptions that could be made. Introducing a different way of asking the t-test question. Subtracting the centre point of each collection and if the result is zero then both are the same therefore end up with a t-distribution. Getting the t-value (t-statistic) and the critical value used to make a decision (calculation of the t-statistic from the samples). If the probability of seeing such a t-value given the hypothesis that there is no difference between the means then the data is suggesting to reject that hypothesis. (Propose) Built into statistical tests is the fact that a wrong decision may be made. Adding blurb about errors.\n",
      "\n",
      "commit 9e7d0aff1e628ac47c7b9a1f6c224113dcdc6c26\n",
      "Author: SeanOhAileasa <seanohaileasa@protonmail.com>\n",
      "Date:   Thu Oct 14 19:44:45 2021 +0100\n",
      "\n",
      "    DAY:65 - [Notebook: scikit-learn]: (Last Commit) Checked only a small number of predictions. (Introduction) A facet of the classification algorithm it that it does not make the right prediction even for values that it has been trained upon. When comparing the output data series to the KNN classifier predictions it is getting five of the inputs incorrect. It is possible to see why using 2-dimensional plots. The KNN classifier makes the prediction based on the five closest data points in the dataset. (Propose) Even on the trained data it does not make correct predictions. Rebuilding the KNN classifier for input not seen before.\n",
      "\n",
      "commit 5f9edad1059206a4e4f97c5a75ba9331f482c116\n",
      "Author: SeanOhAileasa <seanohaileasa@protonmail.com>\n",
      "Date:   Wed Oct 13 20:19:36 2021 +0100\n",
      "\n",
      "    DAY:66 - [Notebook: scipy-stats]: (Last Commit) Introduced an additional collection for demonstrating when two collections are centred around the same value so that the original collections when first run remain throughout the notebook. (Introduction) In order to interpret what a t-test does plotting the uncertainty (probability density function PDF) when generating numbers in the two normal generated collections. The plot demonstrates the t-test is checking (questions) if the tips of both curves (each collection) are at the same point or not. Additional plot demonstrates when both collections coincide. (Propose) Adding blurb about underlying assumptions and another way of asking the t-test question (if the centre point of each collection is the same or not).\n",
      "\n",
      "commit 7f62028c85d9d3ea948b3ff119b9179dc736f134\n",
      "Author: SeanOhAileasa <seanohaileasa@protonmail.com>\n",
      "Date:   Mon Oct 11 17:13:43 2021 +0100\n",
      "\n",
      "    DAY:68 - [Notebook: scikit-learn]: (Last Commit) The iris dataset is up and running and split between inputs (numeric columns) and output being the class of iris (categorical variable). (Introduction) Building KNN classifier selecting five nearest neighbours. Implementing the KNN vote via parameter n_neighbors determining the majority vote. Then training the classifier on the dataset by giving the classifier the inputs for which the outputs are known. The instance object returned from the classifier (instance of KNN) is fit with the actual data points. This information is used to build up a model of what a class of iris looks like and can make predictions about what a class of iris is based on measuring its sepal length and sepal width and petal length and petal width. Appears to be predicting the correct class for a data point that it already has (easily verifiable). (Propose) Rebuilding the KNN classifier for input not seen before.\n",
      "\n",
      "commit 6f53c678277bc0b27b7c1a217dfea2842c6f87fe\n",
      "Author: SeanOhAileasa <seanohaileasa@protonmail.com>\n",
      "Date:   Sun Oct 10 18:58:02 2021 +0100\n",
      "\n",
      "    DAY:69 - [Notebook: scikit-learn]: (Last Commit) The hacked example code from the sklearn.neighbors.KNeighborsClassifier documentation require revision with the use of plots and further explanation of topics. (Introduction) Instead of simulating a dataset (as done with sklearn.cluster.KMeans) using the famous iris dataset. Making the case for using the dataset based on observations and plots built out. Purpose is to take the values of the four variables (i. sepal length, ii. sepal_width, iii. petal_length and iv. petal_width) to predict the class of iris flower. Separating the data structure (DataFrame created from the dataset) into inputs and outputs in order to train up the KNN algorithm (having a set of inputs for which the outputs are known). (Propose) Building the KNN classifier for a given number of neighbors then training the classifier on the dataset. Fitting inputs (training) and output (targets) then make predictions based on the trained KNN classifier.\n",
      "\n",
      "commit 77f809fe6f8b28a56d863bf2298576e4dd20c166\n",
      "Author: SeanOhAileasa <seanohaileasa@protonmail.com>\n",
      "Date:   Fri Oct 8 20:07:59 2021 +0100\n",
      "\n",
      "    DAY:71 - [Notebook: scikit-learn]: (Last Commit) The sklearn.cluster.KMeans section requires revision but in the meantime moving onto the classification algorithm sklearn.neighbors.KNeighborsClassifier. (Introduction) Hacking the example code from the sklearn.neighbors.KNeighborsClassifier documentation. Short blurb on the data structure representing the KNN algorithm whereby parameter n_neighbors selects the specified number of nearest neighbours. Training the classifier with X for which the y is known. Method fit tells the KNN data structure the actual data point or setup for KNN. The KNN algorithm can make predictions based on the trained KNN classifier. (Propose) Creating a classification simulation with plotting or use the iris dataset to further develop understand of the sklearn.neighbors.KNeighborsClassifier algorithm.\n",
      "\n",
      "commit a50ef7b2591f648d867efcd0117eb211cddc636e\n",
      "Author: SeanOhAileasa <seanohaileasa@protonmail.com>\n",
      "Date:   Thu Oct 7 20:17:02 2021 +0100\n",
      "\n",
      "    DAY:72 - [Notebook: scikit-learn]: (Last Commit) Implemented simulation without analysis. Amendments include: i. tidy table of contents and ii. ensuring function parameter included when appropriate. (Introduction) Following the steps from the reengineered example code from the sklearn.cluster.KMeans documentation introduced sklearn.cluster (without commentary). Plotting the simulation dataset making both clusters identifiable then using new values to make a prediction. Plotting the prediction and the centre KMeans determines are the centre points based on where the points sit on the plot. An additional collection of evenly spaced values is introduced and plot. These dummy points (for classification) are used to highlight the decision boundary from where KMeans determines associated cluster via each cluster centre. (Propose) Thus far touched on the scikit-learn clustering algorithm and requires revision. For the moment going to proceed onto the scikit-learn classification algorithm following the same process as the clustering demonstration. First step is to reengineered example code from the sklearn.neighbors.KNeighborsClassifier documentation.\n",
      "\n",
      "commit b2894f773cff3baf3723936213f52cbbe7b2841d\n",
      "Author: SeanOhAileasa <seanohaileasa@protonmail.com>\n",
      "Date:   Wed Oct 6 21:17:11 2021 +0100\n",
      "\n",
      "    DAY:73 - [Notebook: scikit-learn]: (Last Commit) The reengineered example code from the sklearn.cluster.KMeans documentation requires no further examination. (Introduction) To support the reengineered example code from the sklearn.cluster.KMeans documentation now proceeding with simulating a (generated) dataset. Picked two central points from which two clusters of randomly generated values will be built upon. The process involved: i. stacking the collections on top of each other; ii. merging the two collections and iii. shuffling the values of the final collection so that the groups are not identifiable. Created a plot of the generated dataset without any analysis. (Propose) Thus far each commit in both notebooks is probably representing a number of individual units of work (commits). Propose breaking down units of work given commit history will get unwieldy. Next step will involve using the sklearn.cluster.KMeans on the simulated dataset (similar to the sklearn.cluster.KMeans reengineered documentation code completed prior).\n",
      "\n",
      "commit 6cbed5822725fd9ea2002eba39d1b5d9a5419334\n",
      "Author: SeanOhAileasa <seanohaileasa@protonmail.com>\n",
      "Date:   Tue Oct 5 19:56:46 2021 +0100\n",
      "\n",
      "    DAY:74 - [Notebook: scipy-stats]: (Last Commit) Introductory blurb about the t-test may requires less depth and explanation especially referencing machine learning. Chop to a more concise description - revert [DAY:20,0). (Introduction) Demonstrating the t-test by simulating two collections (random numbers) built upon a specified mean and spread (standard deviation). Creating a data structure (DataFrame) from the generated collections and separating both collections into category. Visualisation of the data structure via categorical plot (seaborn) clearly shows both collections differ. Using two methods (i. scipy.stats and; ii. statsmodels.stats.weightstats) performing the actual t-test (determine the probability that the distribution from which the two generated collections had the same mean). The simulated (generated) collections demonstrate a probability of approximately zero or no chance both collections had an underlying distribution in which both had the same mean value because the simulation was setup like this. Running the statistical tests provide evidence that its reproducibly true. Even when both collections have been setup with the same mean value and if the probability is higher than the p-value cut-off of 5% then the statistical test does not provide any evidence the two collections are not centred around same point.\n",
      "\n",
      "commit bd6a1159a5f1d84326bbe91efc5d5be3a22b9bb1\n",
      "Author: SeanOhAileasa <seanohaileasa@protonmail.com>\n",
      "Date:   Mon Oct 4 21:09:13 2021 +0100\n",
      "\n",
      "    DAY:75 - [Notebook: scipy-stats]: (Last Commit) Introductory blurb about the analysis of variance (ANOVA) requires more depth and explanation - revert [DAY:20,0). (Introduction) Taking a step backwards to introduce the t-test and build upon. Introductory blurb about the old-style statistical test called the t-test provides a grounding in the ideas around machine learning. (Propose) Generating two collections of random numbers and creating a data structure built from both then visualising to determine if both collections differ in general enough to justify saying one collection is different to the other collection.\n",
      "\n",
      "commit cd88af3e23ea5b6c246da885d323f2d4de6ac63d\n",
      "Author: SeanOhAileasa <seanohaileasa@protonmail.com>\n",
      "Date:   Sat Oct 2 21:08:12 2021 +0100\n",
      "\n",
      "    DAY:77 - [Notebook: scikit-learn]: (Last Commit) Reengineered example code from the sklearn.cluster.KMeans documentation to be supported with simulated data before moving onto a real-world implementation (re. Solution). (Introduction) Using matplotlib.pyplot plotting documentation example dataset (converting into an appropriate format beforehand). Once the x and y values are separated the plot appears to support the fact there exists two distinct groups of points. The KMeans algorithm determines if two distinct groups exist (allows for a human to be able to determine). Visually changed the colour of the second cluster to distinct both groups and added two new points to test KMeans. Using the KMeans prediction the new points are coloured according to associated (predicted) cluster. Plotting what the KMeans algorithm took as the centre of each clusters gives an indication how the algorithm came to its prediction. (Propose) Creating a clustering simulation with plotting to further develop understand of the sklearn.cluster.KMeans algorithm.\n",
      "\n",
      "commit d321c05f8ca8b5ac863badd05cd6d18c4b2cf577\n",
      "Author: SeanOhAileasa <seanohaileasa@protonmail.com>\n",
      "Date:   Fri Oct 1 20:35:07 2021 +0100\n",
      "\n",
      "    DAY:78 - [Notebook: scikit-learn]: (Last Commit) Introductory blurbs about scikit-learn and each of the scikit-learn algorithms of interest require more depth and explanation - revert [DAY:20,0). Commit proposes researching classification. This was a typo and should be clustering. (Introduction) Hacking the example code from the sklearn.cluster.KMeans documentation. Short blurb on the parameters of object KMeans (i. n_clusters and ii. random_state) and method fit which computes the k-means clustering. Two clusters specified and the attribute labels_ confirms this. Making a prediction using method predict passing two new points predicts associated cluster. Attribute cluster_centers returns what the KMeans algorithm took as the centre point of each cluster. (Propose) Plotting the dataset X separating the two clusters.\n",
      "\n",
      "commit 60956a92a82d7c3be0b4000db1fe1586cca94034\n",
      "Author: SeanOhAileasa <seanohaileasa@protonmail.com>\n",
      "Date:   Thu Sep 30 21:10:53 2021 +0100\n",
      "\n",
      "    DAY:79 - [Notebook: scipy-stats]: (Last Commit) i. Blank Jupiter notebook created and; ii. submitted GitHub repository URL to GMIT. (Abstract) Brief introductory blurb about the analysis of variance (ANOVA) and its application beyond comparing just two populations (t-test). (Propose) Researching t-tests and especially F-Ratios (central part of ANOVA) before proceeding.\n",
      "\n",
      "commit 023bf6b96aca8dfb2ea833cba6fc6101b8f334ad\n",
      "Author: SeanOhAileasa <seanohaileasa@protonmail.com>\n",
      "Date:   Wed Sep 29 19:44:12 2021 +0100\n",
      "\n",
      "    DAY:80 - [Notebook: scikit-learn]: (Last Commit) i. Blank Jupiter notebook created and; ii. submitted GitHub repository URL to GMIT. (Abstract) Introductory blurb about scikit-learn. (Introduction) Short blurb on each scikit-learn algorithms of interest: i. classification; ii. regression and iii. clustering. Classification thought of in terms of labelling data (e.g., images of hand drawn digits). Regression thought of in terms of fitting a line to a set of points (e.g., all of science). Clustering thought of in terms of grouping like items together (e.g., iris dataset). (Propose) Researching classification by simulating a collection of data and introducing sklearn.cluster.\n",
      "\n",
      "commit 39127b924e9bd70b79bacd7c3abb363390364bb6\n",
      "Author: SeanOhAileasa <seanohaileasa@protonmail.com>\n",
      "Date:   Mon Sep 27 15:42:14 2021 +0100\n",
      "\n",
      "    add repository ./mls-scikit-learn-scipy-stats\n"
     ]
    }
   ],
   "source": [
    "%%script bash\n",
    "git log"
   ]
  },
  {
   "cell_type": "code",
   "execution_count": 4,
   "id": "cb91ae66",
   "metadata": {},
   "outputs": [],
   "source": [
    "exit()"
   ]
  },
  {
   "cell_type": "markdown",
   "id": "7462b02d",
   "metadata": {},
   "source": [
    "< [Table of Contents](#top) | [References](#references) >\n",
    "<a id=\"ppmPlanning\"></a>\n",
    "***\n",
    "## Planning\n",
    "***"
   ]
  },
  {
   "cell_type": "markdown",
   "id": "409f7bf5",
   "metadata": {},
   "source": [
    "- Keeping in mind:\n",
    "\n",
    "i) GMIT assessment submission marking scheme; and \n",
    "\n",
    "ii) impression given to someone who is looking at this repository, endeavour to provide direct evidence of each of the items listed in each category where applicable (``Research`` - ``Development`` - ``Consistency`` - ``Documentation``)."
   ]
  },
  {
   "cell_type": "markdown",
   "id": "d27a8f39",
   "metadata": {},
   "source": [
    "< [Table of Contents](#top) | [References](#references) >\n",
    "<a id=\"ppmGettingStartedResearch\"></a>\n",
    "***\n",
    "###### Research\n",
    "***"
   ]
  },
  {
   "cell_type": "markdown",
   "id": "54ca4d6c",
   "metadata": {},
   "source": [
    "- GMIT: **\"Evidence of research performed on topic; submission based on referenced literature, particularly academic literature; evidence of understanding of the documentation for any software or libraries used.\"**"
   ]
  },
  {
   "cell_type": "markdown",
   "id": "b5d20382",
   "metadata": {},
   "source": [
    "- Investigation of packages used as demonstrated by references, background information, and approach: References will be in the format:\n",
    "\n",
    "```\n",
    "[referenceNumber] authorNames, referenceTitle, locationWebsiteBookVideo, dateMonthYear.\n",
    "```"
   ]
  },
  {
   "cell_type": "markdown",
   "id": "af4ffe9e",
   "metadata": {},
   "source": [
    "- Demonstrating work complete with appropriate references and not just for the problem but for the level of understanding of the problem."
   ]
  },
  {
   "cell_type": "markdown",
   "id": "1d4d8f2b",
   "metadata": {},
   "source": [
    "- Code commentary will include details of package, module, object (if applicable) to demonstrate understanding of software documentation and libraries used.\n",
    "\n",
    "```python\n",
    "# b_T_hird_P_arty-imports\n",
    "from matplotlib.pyplot import plot\n",
    "```\n",
    "```python\n",
    "# package matplotlib - module pyplot\n",
    "plot(x,y)\n",
    "```"
   ]
  },
  {
   "cell_type": "markdown",
   "id": "0f3b4bc4",
   "metadata": {},
   "source": [
    "< [Table of Contents](#top) | [References](#references) >\n",
    "<a id=\"ppmGettingStartedDevelopment\"></a>\n",
    "***\n",
    "###### Development\n",
    "***"
   ]
  },
  {
   "cell_type": "markdown",
   "id": "df845398",
   "metadata": {},
   "source": [
    "- GMIT: **\"Environment can be set up as described; code works without tweaking and as described; code is efficient, clean, and clear; evidence of consideration of standards and conventions appropriate to code of this kind.\"**"
   ]
  },
  {
   "cell_type": "markdown",
   "id": "74c59aa8",
   "metadata": {},
   "source": [
    "- Clear, well-written, and efficient code with appropriate comments - using Jupyter Notebook markdown cells to summarise concise workings. "
   ]
  },
  {
   "cell_type": "markdown",
   "id": "5fbaa3f2",
   "metadata": {},
   "source": [
    "- As much as possible use the ``Style Guide for Python Code`` [Guido van Rossum](https://web.archive.org/web/20201029095211/https://www.python.org/dev/peps/pep-0008/). Refer user-defined [Coding Conventions](#codingConventions)."
   ]
  },
  {
   "cell_type": "markdown",
   "id": "436d1355",
   "metadata": {},
   "source": [
    "< [Table of Contents](#top) | [References](#references) >\n",
    "<a id=\"ppmGettingStartedConsistency\"></a>\n",
    "***\n",
    "###### Consistency\n",
    "***"
   ]
  },
  {
   "cell_type": "markdown",
   "id": "0a8b1854",
   "metadata": {},
   "source": [
    "- GMIT: **\"Evidence of planning and project management; pragmatic attitude to work as evidenced by well-considered commit history; commits are of a reasonable size; consideration of how commit history will be perceived by others.\"**"
   ]
  },
  {
   "cell_type": "markdown",
   "id": "3cab841c",
   "metadata": {},
   "source": [
    "- Git commit blurb to include number of days outstanding before deadline (if applicable)."
   ]
  },
  {
   "cell_type": "markdown",
   "id": "bdcb459c",
   "metadata": {},
   "source": [
    "- Commits to highlight changes made since the last commit so that reviews of the git history can demonstrate compartmentation of work into the different sections."
   ]
  },
  {
   "cell_type": "markdown",
   "id": "0b7678e5",
   "metadata": {},
   "source": [
    "< [Table of Contents](#top) | [References](#references) >\n",
    "<a id=\"ppmGettingStartedDocumentation\"></a>\n",
    "***\n",
    "###### Documentation\n",
    "***"
   ]
  },
  {
   "cell_type": "markdown",
   "id": "53a0d5d9",
   "metadata": {},
   "source": [
    "- GMIT: **\"Clear documentation of how to create an environment in which any code will run, how to prepare the code for running, how to run the code including setting any options or flags, and what to expect upon running the code. Concise descriptions of code in comments and README.\"**"
   ]
  },
  {
   "cell_type": "markdown",
   "id": "aef6008a",
   "metadata": {},
   "source": [
    "- Include descriptions/plots of theoretical and practical aspects of the problem(s) - comments to be very concise for ease of readability."
   ]
  },
  {
   "cell_type": "markdown",
   "id": "54e2e162",
   "metadata": {},
   "source": [
    "- Descriptions of code requiring further explanation will be presented in Jupyter Notebook markdown cells prior to code execution."
   ]
  },
  {
   "cell_type": "markdown",
   "id": "8e7551b0",
   "metadata": {},
   "source": [
    "< [Table of Contents](#top) | [References](#references) >\n",
    "<a id=\"considerations\"></a>\n",
    "***\n",
    "### Considerations\n",
    "***"
   ]
  },
  {
   "cell_type": "markdown",
   "id": "dd3973c6",
   "metadata": {},
   "source": [
    "- Using the four listed categories (``Research`` - ``Development`` - ``Consistency`` - ``Documentation``) in an attempt to not only focus on programming but also look at the information (data) and manipulating the data and coming up with techniques."
   ]
  },
  {
   "cell_type": "markdown",
   "id": "c766c472",
   "metadata": {},
   "source": [
    "- Sometimes the most complex algorithms are counter-intuitive but do work and have been proven to work. Sometimes only a few lines of code is required to complete a topic/section - endeavour to explain the development of the algorithm and the reasoning behind why/how the code works."
   ]
  },
  {
   "cell_type": "markdown",
   "id": "21519f48",
   "metadata": {},
   "source": [
    "- Jupyter Notebook text formatting/presentation to be tidied up closer to the deadline (if applicable)."
   ]
  },
  {
   "cell_type": "markdown",
   "id": "b1cc071c",
   "metadata": {},
   "source": [
    "< [Table of Contents](#top) | [References](#references) >\n",
    "<a id=\"codingConventions\"></a>\n",
    "***\n",
    "###### Coding Conventions\n",
    "***"
   ]
  },
  {
   "cell_type": "markdown",
   "id": "67d78ffb",
   "metadata": {},
   "source": [
    "- user-defined function / name (variable) - start with letters as follows\n",
    "\n",
    "| Example       | Signify \t\t          |\n",
    "| :------------ |:------------------------|\n",
    "|\tf        \t|\tuser-defined function |\n",
    "|\tn        \t|\tname - no variables   |"
   ]
  },
  {
   "cell_type": "markdown",
   "id": "a44b2a40",
   "metadata": {},
   "source": [
    "< [Table of Contents](#top) | [References](#references) >\n",
    "<a id=\"outstanding\"></a>\n",
    "***\n",
    "### Outstanding\n",
    "***"
   ]
  },
  {
   "cell_type": "markdown",
   "id": "228707f9",
   "metadata": {},
   "source": [
    "< [Table of Contents](#top) | [References](#references) >\n",
    "<a id=\"outstandingUnforeseenCircumstances\"></a>\n",
    "***\n",
    "###### Day:55 - Day:45\n",
    "***"
   ]
  },
  {
   "cell_type": "markdown",
   "id": "d3fa67aa",
   "metadata": {},
   "source": [
    "- behind schedule due to illness - to address delays, endeavour to submit 1/2 commits (units of work) per day until 19th December 2021 (deadline)"
   ]
  },
  {
   "cell_type": "markdown",
   "id": "dc89ec0d",
   "metadata": {},
   "source": [
    "< [Table of Contents](#top) | [References](#references) >\n",
    "<a id=\"outstandingday20\"></a>\n",
    "***\n",
    "###### DAY:20 - Day:01\n",
    "***"
   ]
  },
  {
   "cell_type": "markdown",
   "id": "c46d1dd9",
   "metadata": {},
   "source": [
    "- introductory blurb about the analysis of variance (ANOVA) requires more depth and explanation [[commit](https://github.com/SeanOhAileasa/mls-scikit-learn-scipy-stats/tree/60956a92a82d7c3be0b4000db1fe1586cca94034)]"
   ]
  },
  {
   "cell_type": "markdown",
   "id": "3f8e7d0a",
   "metadata": {},
   "source": [
    "- introductory blurb about the t-test may requires less depth and explanation especially referencing machine learning - chop to a more concise description [[commit](https://github.com/SeanOhAileasa/mls-scikit-learn-scipy-stats/tree/bd6a1159a5f1d84326bbe91efc5d5be3a22b9bb1)]"
   ]
  },
  {
   "cell_type": "markdown",
   "id": "0024e4bd",
   "metadata": {},
   "source": [
    "***\n",
    "## END"
   ]
  },
  {
   "cell_type": "markdown",
   "id": "0c88ab4a",
   "metadata": {},
   "source": [
    "< [Table of Contents](#top) | [Introduction](#introduction) | [Solution](#solution) | [Conclusion](#conclusion) | [References](#references) >\n",
    "<a id=\"abstract\"></a>\n",
    "***\n",
    "## Abstract\n",
    "***"
   ]
  },
  {
   "cell_type": "markdown",
   "id": "14617072",
   "metadata": {},
   "source": [
    "- ``F-Ratios`` are simply a ratio of two variances and are a central part of ``ANOVA`` [1]"
   ]
  },
  {
   "cell_type": "markdown",
   "id": "380014da",
   "metadata": {},
   "source": [
    "- the independent sample ``t-tests`` compares two random samples - the matched sample ``t-test`` is when each measurement is maybe the same person or the same machine [1]"
   ]
  },
  {
   "cell_type": "markdown",
   "id": "120128a9",
   "metadata": {},
   "source": [
    "- the real-world is much more complex than just limiting to the comparison of two populations [1]"
   ]
  },
  {
   "cell_type": "markdown",
   "id": "eec3f0cf",
   "metadata": {},
   "source": [
    "- the analysis of variance (more commonly known ``ANOVA``) allows us to move beyond comparing just two populations [1]"
   ]
  },
  {
   "cell_type": "markdown",
   "id": "e16c0704",
   "metadata": {},
   "source": [
    "- with ``ANOVA`` we can compare multiple populations and even subgroups of those populations and can investigate how two groups interact with each other quantitatively - many experimental research designs use ``ANOVA`` for these very reasons [1]"
   ]
  },
  {
   "cell_type": "markdown",
   "id": "c2b02fff",
   "metadata": {},
   "source": [
    "- ``ANOVA`` greatly expands what we are able to do in statistics [1]"
   ]
  },
  {
   "cell_type": "markdown",
   "id": "3fa461fc",
   "metadata": {},
   "source": [
    "***\n",
    "## END"
   ]
  },
  {
   "cell_type": "markdown",
   "id": "d319e57d",
   "metadata": {},
   "source": [
    "< [Table of Contents](#top) | [Abstract](#abstract) | [Solution](#solution) | [Conclusion](#conclusion) | [References](#references) >\n",
    "<a id=\"introduction\"></a>\n",
    "***\n",
    "## Introduction\n",
    "***"
   ]
  },
  {
   "cell_type": "markdown",
   "id": "39a33212",
   "metadata": {},
   "source": [
    "- in comparison to machine learning (hereafter referred to as ``ml``) the ``t-test`` is an old-style statistical test [2]"
   ]
  },
  {
   "cell_type": "markdown",
   "id": "fca23472",
   "metadata": {},
   "source": [
    "- there is an interesting relationship between the ``t-test`` and Ireland - William Sealy Gosset figured out a way to test if two sets of numbers are similar [2]"
   ]
  },
  {
   "cell_type": "markdown",
   "id": "16802a04",
   "metadata": {},
   "source": [
    "- the technique is a traditional way of looking at the world and trying to make predictions based on data - even though it is the older approach many think it is still the better approach (``ml`` practitioners may not know much about these older methods) [2]"
   ]
  },
  {
   "cell_type": "markdown",
   "id": "0537e666",
   "metadata": {},
   "source": [
    "- the ``t-test`` is heavily used in the life/medical/physical sciences and provides a grounding in the ideas around ``ml`` [2]"
   ]
  },
  {
   "cell_type": "markdown",
   "id": "79c7a725",
   "metadata": {},
   "source": [
    "- thinking about uncertainty in the world and datasets that have a pattern in them - that pattern may have a little bit of variability and a little bit of volatility (not a straightforward pattern) [2]"
   ]
  },
  {
   "cell_type": "markdown",
   "id": "6730a6c2",
   "metadata": {},
   "source": [
    "- there is a lot of theory behind ``t-tests`` (probability distributions and formulating hypothesis tests etc) - demonstrating the ``t-test`` from a computer science point of view (introducing probability distributions and hypothesis tests as appropriate) [2]"
   ]
  },
  {
   "cell_type": "markdown",
   "id": "6fb66ad9",
   "metadata": {},
   "source": [
    "- ``scipy.stats.ttest_ind`` is literally performing a ``t-test`` (passing arguments ``a`` and ``b``) [2]\n",
    "\n",
    "```python\n",
    "scipy.stats.ttest_ind(a,b)\n",
    "```"
   ]
  },
  {
   "cell_type": "markdown",
   "id": "352638bc",
   "metadata": {},
   "source": [
    "- ``a`` and ``b`` are sample collections (hereafter denoted $C$ to include arrays and lists) of numbers [2]"
   ]
  },
  {
   "cell_type": "markdown",
   "id": "860eaab4",
   "metadata": {},
   "source": [
    "- the point is it is very easy to run statistical tests when you know a little bit of programming - many organisations spend a lot of money on ``SPSS`` and the main thing its used for is to run something like ``stat.ttest_ind(a,b)`` (in python) and get the exact same output [2]"
   ]
  },
  {
   "cell_type": "markdown",
   "id": "c1f6dc0a",
   "metadata": {},
   "source": [
    "- running ``ml`` code is fairly straightforward whereby a single statement actually does the heavy lifting (digging into a package to do the calculation is straightforward) [2]"
   ]
  },
  {
   "cell_type": "markdown",
   "id": "6bf20a31",
   "metadata": {},
   "source": [
    "- could easily code up a ``t-test`` function but its the interpretation of the outputs that is important (assumptions before doing the test and how the assumptions are justified then comes the interpretation of the results) [2]"
   ]
  },
  {
   "cell_type": "markdown",
   "id": "f286a835",
   "metadata": {},
   "source": [
    "- generally speaking will return essentially two numbers in the output: \n",
    "\n",
    "i. the calculation of the actual ``t-statistic`` (``t-value``)\n",
    "\n",
    "ii. some probability (``p-value``) related to that ``t-value`` (``t-statistic``) \n",
    "\n",
    "- the ``p-value`` determines how likely it is to see that ``t-value`` (``t-statistic``) based on the prior assumptions [2]"
   ]
  },
  {
   "cell_type": "markdown",
   "id": "a873d942",
   "metadata": {},
   "source": [
    "< [Table of Contents](#top) | [References](#references) >\n",
    "<a id=\"introductionScenario\"></a>\n",
    "***\n",
    "### Sampling\n",
    "***"
   ]
  },
  {
   "cell_type": "markdown",
   "id": "b2ebe227",
   "metadata": {},
   "source": [
    "- a ``t-test`` is a statistical test that checks if two sample $C$ came from populations that have the same average or mean (hereafter denoted $\\mu$ to include centre point) [2]"
   ]
  },
  {
   "cell_type": "markdown",
   "id": "bbbd7664",
   "metadata": {},
   "source": [
    "< [Table of Contents](#top) | [References](#references) >\n",
    "<a id=\"simulation\"></a>\n",
    "***\n",
    "###### Simulation\n",
    "***"
   ]
  },
  {
   "cell_type": "markdown",
   "id": "08bc4295",
   "metadata": {},
   "source": [
    "- creating two $C$ (``a`` and ``b``) of random numbers [4] generated on a bell-shaped curve via package ``numpy`` subpackage ``random`` function ``normal`` [7]"
   ]
  },
  {
   "cell_type": "markdown",
   "id": "e31598b0",
   "metadata": {},
   "source": [
    "- ``m_a`` represents $\\mu$ of $C$ ``a`` and ``m_b`` represents the $\\mu$ of $C$ ``b`` [3][7] - observing a number (in each respective $C$) further away from ``Eq. (1)`` (and ``Eq. (2)``) in either direction is less likely [7]"
   ]
  },
  {
   "cell_type": "markdown",
   "id": "0996db3f",
   "metadata": {},
   "source": [
    "$$\\bar a=1.5\\tag{1}$$"
   ]
  },
  {
   "cell_type": "markdown",
   "id": "8179c465",
   "metadata": {},
   "source": [
    "$$\\bar b=2.5\\tag{2}$$"
   ]
  },
  {
   "cell_type": "code",
   "execution_count": 1,
   "id": "55d76e25",
   "metadata": {},
   "outputs": [],
   "source": [
    "m_a,m_b=1.5,2.5"
   ]
  },
  {
   "cell_type": "markdown",
   "id": "6d9f889a",
   "metadata": {},
   "source": [
    "- ``s_a`` and ``s_b`` represents the standard deviation (hereafter denoted $\\sigma$) and is related to generating numbers on a bell-shaped curve [7]"
   ]
  },
  {
   "cell_type": "markdown",
   "id": "7a998641",
   "metadata": {},
   "source": [
    "$$\\sigma(a)=\\sigma(b)=0.5\\tag{3}$$"
   ]
  },
  {
   "cell_type": "markdown",
   "id": "38b5d401",
   "metadata": {},
   "source": [
    "- about $99.7\\%$ of the numbers lie within three $\\sigma$ ``(Eq. (3))`` of the $\\mu$ ``(Eq. (1)`` and ``Eq. (2))`` [7]"
   ]
  },
  {
   "cell_type": "markdown",
   "id": "3a2ea9af",
   "metadata": {},
   "source": [
    "- the numbers generated are a distance of $1.5$ or less away from ``Eq. (1)`` (observing numbers around $0.5$ and $2.5$ are unlikely) - the same is true of ``Eq. (2)`` (observing numbers around $1.5$ and $3.5$ are unlikely) [7]"
   ]
  },
  {
   "cell_type": "markdown",
   "id": "414405d1",
   "metadata": {},
   "source": [
    "$$C\\space a\\space =[0.0,3.0]$$"
   ]
  },
  {
   "cell_type": "markdown",
   "id": "82a8ab21",
   "metadata": {},
   "source": [
    "$$C\\space b\\space =[1.0,4.0]$$"
   ]
  },
  {
   "cell_type": "code",
   "execution_count": 2,
   "id": "9c5f1007",
   "metadata": {},
   "outputs": [],
   "source": [
    "s_a,s_b=0.5,0.5"
   ]
  },
  {
   "cell_type": "code",
   "execution_count": 3,
   "id": "144da80c",
   "metadata": {},
   "outputs": [],
   "source": [
    "N=40 # representing sample size"
   ]
  },
  {
   "cell_type": "code",
   "execution_count": 4,
   "id": "6180cc79",
   "metadata": {},
   "outputs": [],
   "source": [
    "import numpy as np"
   ]
  },
  {
   "cell_type": "code",
   "execution_count": 5,
   "id": "0d024a2f",
   "metadata": {
    "scrolled": true
   },
   "outputs": [
    {
     "name": "stdout",
     "output_type": "stream",
     "text": [
      "Provides\n",
      "  1. An array object of arbitrary homogeneous items\n",
      "  2. Fast mathematical operations over arrays\n",
      "  3. Linear Algebra, Fourier Transforms, Random Number Generation\n"
     ]
    }
   ],
   "source": [
    "print(\"\\n\".join(np.__doc__.split(\"\\n\")[4:8])) # package numpy overview"
   ]
  },
  {
   "cell_type": "code",
   "execution_count": 6,
   "id": "8b003466",
   "metadata": {},
   "outputs": [
    {
     "name": "stdout",
     "output_type": "stream",
     "text": [
      "        The probability density function of the normal distribution, first\n",
      "        derived by De Moivre and 200 years later by both Gauss and Laplace\n",
      "        independently [2]_, is often called the bell curve because of\n",
      "        its characteristic shape (see the example below).\n",
      "\n",
      "        The normal distributions occurs often in nature.  For example, it\n",
      "        describes the commonly occurring distribution of samples influenced\n",
      "        by a large number of tiny, random disturbances, each with its own\n",
      "        unique distribution [2]_.\n"
     ]
    }
   ],
   "source": [
    "print(\"\\n\".join(np.random.normal.__doc__.split(\"\\n\")[5:14])) # function normal overview"
   ]
  },
  {
   "cell_type": "code",
   "execution_count": 7,
   "id": "3ddaa5f0",
   "metadata": {},
   "outputs": [
    {
     "name": "stdout",
     "output_type": "stream",
     "text": [
      "        Parameters\n",
      "        ----------\n",
      "        loc : float or array_like of floats\n",
      "            Mean (\"centre\") of the distribution.\n"
     ]
    }
   ],
   "source": [
    "print(\"\\n\".join(np.random.normal.__doc__.split(\"\\n\")[19:23])) # parameter loc overview"
   ]
  },
  {
   "cell_type": "code",
   "execution_count": 8,
   "id": "3e07f1db",
   "metadata": {},
   "outputs": [
    {
     "data": {
      "text/plain": [
       "1.5"
      ]
     },
     "execution_count": 8,
     "metadata": {},
     "output_type": "execute_result"
    }
   ],
   "source": [
    "m_a # collection a centered"
   ]
  },
  {
   "cell_type": "code",
   "execution_count": 9,
   "id": "eb0cc3b7",
   "metadata": {},
   "outputs": [
    {
     "data": {
      "text/plain": [
       "2.5"
      ]
     },
     "execution_count": 9,
     "metadata": {},
     "output_type": "execute_result"
    }
   ],
   "source": [
    "m_b # collection b centered"
   ]
  },
  {
   "cell_type": "code",
   "execution_count": 10,
   "id": "2b77a95c",
   "metadata": {},
   "outputs": [
    {
     "name": "stdout",
     "output_type": "stream",
     "text": [
      "        scale : float or array_like of floats\n",
      "            Standard deviation (spread or \"width\") of the distribution. Must be\n",
      "            non-negative.\n"
     ]
    }
   ],
   "source": [
    "print(\"\\n\".join(np.random.normal.__doc__.split(\"\\n\")[23:26])) # parameter scale overview"
   ]
  },
  {
   "cell_type": "code",
   "execution_count": 11,
   "id": "661e4553",
   "metadata": {},
   "outputs": [
    {
     "data": {
      "text/plain": [
       "0.5"
      ]
     },
     "execution_count": 11,
     "metadata": {},
     "output_type": "execute_result"
    }
   ],
   "source": [
    "s_a"
   ]
  },
  {
   "cell_type": "code",
   "execution_count": 12,
   "id": "0b4f0ffd",
   "metadata": {},
   "outputs": [
    {
     "data": {
      "text/plain": [
       "True"
      ]
     },
     "execution_count": 12,
     "metadata": {},
     "output_type": "execute_result"
    }
   ],
   "source": [
    "s_a==s_b # s_b same spread"
   ]
  },
  {
   "cell_type": "code",
   "execution_count": 13,
   "id": "0cda7f13",
   "metadata": {},
   "outputs": [
    {
     "name": "stdout",
     "output_type": "stream",
     "text": [
      "        size : int or tuple of ints, optional\n",
      "            Output shape.  If the given shape is, e.g., ``(m, n, k)``, then\n",
      "            ``m * n * k`` samples are drawn.  If size is ``None`` (default),\n",
      "            a single value is returned if ``loc`` and ``scale`` are both scalars.\n",
      "            Otherwise, ``np.broadcast(loc, scale).size`` samples are drawn.\n"
     ]
    }
   ],
   "source": [
    "print(\"\\n\".join(np.random.normal.__doc__.split(\"\\n\")[26:31])) # parameter size overview"
   ]
  },
  {
   "cell_type": "code",
   "execution_count": 14,
   "id": "ac58b6f6",
   "metadata": {},
   "outputs": [
    {
     "data": {
      "text/plain": [
       "40"
      ]
     },
     "execution_count": 14,
     "metadata": {},
     "output_type": "execute_result"
    }
   ],
   "source": [
    "N # length of collection"
   ]
  },
  {
   "cell_type": "code",
   "execution_count": 15,
   "id": "4be1f699",
   "metadata": {},
   "outputs": [],
   "source": [
    "a=np.random.normal(loc=m_a,scale=s_a,size=N)"
   ]
  },
  {
   "cell_type": "code",
   "execution_count": 16,
   "id": "590abe1a",
   "metadata": {},
   "outputs": [
    {
     "data": {
      "text/plain": [
       "array([1.46459619, 1.23510291, 1.30145735, 1.31849967, 1.53559678,\n",
       "       1.78953208, 1.18391962, 0.50209642, 1.71914935, 1.75046169,\n",
       "       0.92476263, 1.55911458, 0.6262344 , 1.84889307, 1.62382781,\n",
       "       1.18790799, 1.60339172, 2.44142365, 1.69045499, 1.44993229,\n",
       "       1.87818234, 1.77059982, 1.42440376, 1.70364736, 0.87019823,\n",
       "       2.21931349, 1.63650686, 1.8255695 , 1.67853152, 2.39252274,\n",
       "       1.41655754, 1.69634912, 1.37327682, 1.58092671, 0.84768473,\n",
       "       2.30027497, 1.77833734, 1.82123341, 1.51149275, 0.43036737])"
      ]
     },
     "execution_count": 16,
     "metadata": {},
     "output_type": "execute_result"
    }
   ],
   "source": [
    "a"
   ]
  },
  {
   "cell_type": "code",
   "execution_count": 17,
   "id": "2c5a5ff4",
   "metadata": {},
   "outputs": [
    {
     "data": {
      "text/plain": [
       "numpy.ndarray"
      ]
     },
     "execution_count": 17,
     "metadata": {},
     "output_type": "execute_result"
    }
   ],
   "source": [
    "type(a)"
   ]
  },
  {
   "cell_type": "code",
   "execution_count": 18,
   "id": "55fca79a",
   "metadata": {},
   "outputs": [],
   "source": [
    "b=np.random.normal(loc=m_b,scale=s_b,size=N)"
   ]
  },
  {
   "cell_type": "code",
   "execution_count": 19,
   "id": "dc9289e7",
   "metadata": {},
   "outputs": [
    {
     "data": {
      "text/plain": [
       "array([3.01032738, 2.72067221, 2.37975654, 2.61337564, 2.41503107,\n",
       "       2.09832168, 2.76608556, 2.98938413, 1.22099482, 1.12586106,\n",
       "       2.26435216, 2.40949725, 3.0957381 , 2.81799571, 2.41683253,\n",
       "       2.73023255, 2.40237258, 2.50263516, 2.49792076, 3.45730636,\n",
       "       2.95549109, 2.60550205, 2.26866943, 2.94030531, 2.76324631,\n",
       "       2.24787009, 2.27797455, 2.31920878, 2.26683778, 2.47825493,\n",
       "       3.43464918, 1.95295446, 3.18391376, 3.26986594, 1.80633434,\n",
       "       2.96187487, 1.82018174, 2.42481863, 2.26795597, 3.03294432])"
      ]
     },
     "execution_count": 19,
     "metadata": {},
     "output_type": "execute_result"
    }
   ],
   "source": [
    "b"
   ]
  },
  {
   "cell_type": "code",
   "execution_count": 20,
   "id": "16aebb05",
   "metadata": {},
   "outputs": [
    {
     "data": {
      "text/plain": [
       "numpy.ndarray"
      ]
     },
     "execution_count": 20,
     "metadata": {},
     "output_type": "execute_result"
    }
   ],
   "source": [
    "type(b)"
   ]
  },
  {
   "cell_type": "markdown",
   "id": "7156d181",
   "metadata": {},
   "source": [
    "- creating a ``DataFrame`` (data structure) built from the ``numpy`` $C$ (``a`` and ``b``) - using ``pandas`` allows different types for the columns (an abstraction on top of ``numpy``) [2]"
   ]
  },
  {
   "cell_type": "code",
   "execution_count": 21,
   "id": "6bfc14c0",
   "metadata": {},
   "outputs": [],
   "source": [
    "import pandas as pd"
   ]
  },
  {
   "cell_type": "code",
   "execution_count": 22,
   "id": "be304152",
   "metadata": {},
   "outputs": [
    {
     "name": "stdout",
     "output_type": "stream",
     "text": [
      "pandas - a powerful data analysis and manipulation library for Python\n"
     ]
    }
   ],
   "source": [
    "print(\"\\n\".join(pd.__doc__.split(\"\\n\")[1:2])) # package pandas overview"
   ]
  },
  {
   "cell_type": "markdown",
   "id": "183d10b5",
   "metadata": {},
   "source": [
    "- ``A`` is going to be in the column beside the $C$ ``a`` and ``B`` is going to be in the column beside the $C$ ``b`` [3]"
   ]
  },
  {
   "cell_type": "code",
   "execution_count": 23,
   "id": "5d2b654e",
   "metadata": {},
   "outputs": [
    {
     "name": "stdout",
     "output_type": "stream",
     "text": [
      "    Two-dimensional, size-mutable, potentially heterogeneous tabular data.\n",
      "\n",
      "    Data structure also contains labeled axes (rows and columns).\n",
      "    Arithmetic operations align on both row and column labels. Can be\n",
      "    thought of as a dict-like container for Series objects. The primary\n",
      "    pandas data structure.\n"
     ]
    }
   ],
   "source": [
    "print(\"\\n\".join(pd.DataFrame.__doc__.split(\"\\n\")[1:7])) # object DataFrame overview"
   ]
  },
  {
   "cell_type": "code",
   "execution_count": 24,
   "id": "6173d533",
   "metadata": {},
   "outputs": [],
   "source": [
    "df=pd.DataFrame(data={\"Category\":[\"A\"]*len(a)+[\"B\"]*len(b),\"Value\":np.hstack([a,b])})"
   ]
  },
  {
   "cell_type": "code",
   "execution_count": 25,
   "id": "7bee085c",
   "metadata": {},
   "outputs": [
    {
     "data": {
      "text/plain": [
       "pandas.core.frame.DataFrame"
      ]
     },
     "execution_count": 25,
     "metadata": {},
     "output_type": "execute_result"
    }
   ],
   "source": [
    "type(df)"
   ]
  },
  {
   "cell_type": "markdown",
   "id": "73ba0b01",
   "metadata": {},
   "source": [
    "- providing a systematic way of simulating (faking up) two sample $C$ - these numbers could come from some natural process or from some measurements in the real-world (relating to humans or some other phenomenon) [7]"
   ]
  },
  {
   "cell_type": "code",
   "execution_count": 26,
   "id": "f8f6c0d3",
   "metadata": {
    "scrolled": true
   },
   "outputs": [
    {
     "data": {
      "text/plain": [
       "array([1.46459619, 1.23510291, 1.30145735, 1.31849967, 1.53559678,\n",
       "       1.78953208, 1.18391962, 0.50209642, 1.71914935, 1.75046169,\n",
       "       0.92476263, 1.55911458, 0.6262344 , 1.84889307, 1.62382781,\n",
       "       1.18790799, 1.60339172, 2.44142365, 1.69045499, 1.44993229,\n",
       "       1.87818234, 1.77059982, 1.42440376, 1.70364736, 0.87019823,\n",
       "       2.21931349, 1.63650686, 1.8255695 , 1.67853152, 2.39252274,\n",
       "       1.41655754, 1.69634912, 1.37327682, 1.58092671, 0.84768473,\n",
       "       2.30027497, 1.77833734, 1.82123341, 1.51149275, 0.43036737])"
      ]
     },
     "execution_count": 26,
     "metadata": {},
     "output_type": "execute_result"
    }
   ],
   "source": [
    "a # sample some population"
   ]
  },
  {
   "cell_type": "code",
   "execution_count": 27,
   "id": "589852e9",
   "metadata": {},
   "outputs": [
    {
     "data": {
      "text/plain": [
       "array([3.01032738, 2.72067221, 2.37975654, 2.61337564, 2.41503107,\n",
       "       2.09832168, 2.76608556, 2.98938413, 1.22099482, 1.12586106,\n",
       "       2.26435216, 2.40949725, 3.0957381 , 2.81799571, 2.41683253,\n",
       "       2.73023255, 2.40237258, 2.50263516, 2.49792076, 3.45730636,\n",
       "       2.95549109, 2.60550205, 2.26866943, 2.94030531, 2.76324631,\n",
       "       2.24787009, 2.27797455, 2.31920878, 2.26683778, 2.47825493,\n",
       "       3.43464918, 1.95295446, 3.18391376, 3.26986594, 1.80633434,\n",
       "       2.96187487, 1.82018174, 2.42481863, 2.26795597, 3.03294432])"
      ]
     },
     "execution_count": 27,
     "metadata": {},
     "output_type": "execute_result"
    }
   ],
   "source": [
    "b # sample some population"
   ]
  },
  {
   "cell_type": "markdown",
   "id": "555701a6",
   "metadata": {},
   "source": [
    "- if its not possible to see how nature generated them then the question would be is the $\\mu$ (whatever these are in the natural process) the same for both $C$ [7]"
   ]
  },
  {
   "cell_type": "markdown",
   "id": "47b77c7c",
   "metadata": {},
   "source": [
    "- thus far specifying the $\\mu$ points are different for the two $C$ (``Eq. (1)`` and ``Eq. (2)``) [7]"
   ]
  },
  {
   "cell_type": "code",
   "execution_count": 28,
   "id": "ce733a42",
   "metadata": {},
   "outputs": [
    {
     "data": {
      "text/plain": [
       "False"
      ]
     },
     "execution_count": 28,
     "metadata": {},
     "output_type": "execute_result"
    }
   ],
   "source": [
    "m_a==m_b"
   ]
  },
  {
   "cell_type": "markdown",
   "id": "17b3304e",
   "metadata": {},
   "source": [
    "- in the real-world the $C$ ``a`` could be a sample of the heights of women (Category ``A``) and the $C$ ``b`` could be a sample of the heights of males (Category ``B``) [7]"
   ]
  },
  {
   "cell_type": "markdown",
   "id": "d169c7da",
   "metadata": {},
   "source": [
    "- do these two $C$ now provide any evidence that maybe the $\\mu$ male height is different than the $\\mu$ female height [7]"
   ]
  },
  {
   "cell_type": "code",
   "execution_count": 29,
   "id": "65b71501",
   "metadata": {},
   "outputs": [
    {
     "data": {
      "text/html": [
       "<div>\n",
       "<style scoped>\n",
       "    .dataframe tbody tr th:only-of-type {\n",
       "        vertical-align: middle;\n",
       "    }\n",
       "\n",
       "    .dataframe tbody tr th {\n",
       "        vertical-align: top;\n",
       "    }\n",
       "\n",
       "    .dataframe thead th {\n",
       "        text-align: right;\n",
       "    }\n",
       "</style>\n",
       "<table border=\"1\" class=\"dataframe\">\n",
       "  <thead>\n",
       "    <tr style=\"text-align: right;\">\n",
       "      <th></th>\n",
       "      <th>Category</th>\n",
       "      <th>Value</th>\n",
       "    </tr>\n",
       "  </thead>\n",
       "  <tbody>\n",
       "    <tr>\n",
       "      <th>0</th>\n",
       "      <td>A</td>\n",
       "      <td>1.464596</td>\n",
       "    </tr>\n",
       "    <tr>\n",
       "      <th>1</th>\n",
       "      <td>A</td>\n",
       "      <td>1.235103</td>\n",
       "    </tr>\n",
       "    <tr>\n",
       "      <th>2</th>\n",
       "      <td>A</td>\n",
       "      <td>1.301457</td>\n",
       "    </tr>\n",
       "    <tr>\n",
       "      <th>3</th>\n",
       "      <td>A</td>\n",
       "      <td>1.318500</td>\n",
       "    </tr>\n",
       "    <tr>\n",
       "      <th>4</th>\n",
       "      <td>A</td>\n",
       "      <td>1.535597</td>\n",
       "    </tr>\n",
       "    <tr>\n",
       "      <th>...</th>\n",
       "      <td>...</td>\n",
       "      <td>...</td>\n",
       "    </tr>\n",
       "    <tr>\n",
       "      <th>75</th>\n",
       "      <td>B</td>\n",
       "      <td>2.961875</td>\n",
       "    </tr>\n",
       "    <tr>\n",
       "      <th>76</th>\n",
       "      <td>B</td>\n",
       "      <td>1.820182</td>\n",
       "    </tr>\n",
       "    <tr>\n",
       "      <th>77</th>\n",
       "      <td>B</td>\n",
       "      <td>2.424819</td>\n",
       "    </tr>\n",
       "    <tr>\n",
       "      <th>78</th>\n",
       "      <td>B</td>\n",
       "      <td>2.267956</td>\n",
       "    </tr>\n",
       "    <tr>\n",
       "      <th>79</th>\n",
       "      <td>B</td>\n",
       "      <td>3.032944</td>\n",
       "    </tr>\n",
       "  </tbody>\n",
       "</table>\n",
       "<p>80 rows × 2 columns</p>\n",
       "</div>"
      ],
      "text/plain": [
       "   Category     Value\n",
       "0         A  1.464596\n",
       "1         A  1.235103\n",
       "2         A  1.301457\n",
       "3         A  1.318500\n",
       "4         A  1.535597\n",
       "..      ...       ...\n",
       "75        B  2.961875\n",
       "76        B  1.820182\n",
       "77        B  2.424819\n",
       "78        B  2.267956\n",
       "79        B  3.032944\n",
       "\n",
       "[80 rows x 2 columns]"
      ]
     },
     "execution_count": 29,
     "metadata": {},
     "output_type": "execute_result"
    }
   ],
   "source": [
    "df"
   ]
  },
  {
   "cell_type": "markdown",
   "id": "95bdd80d",
   "metadata": {},
   "source": [
    "< [Table of Contents](#top) | [References](#references) >\n",
    "<a id=\"dataStructurevisualisation\"></a>\n",
    "***\n",
    "###### Visualisation\n",
    "***"
   ]
  },
  {
   "cell_type": "code",
   "execution_count": 30,
   "id": "b94ceeb1",
   "metadata": {},
   "outputs": [],
   "source": [
    "import matplotlib.pyplot as plt"
   ]
  },
  {
   "cell_type": "code",
   "execution_count": 31,
   "id": "e816832b",
   "metadata": {},
   "outputs": [
    {
     "name": "stdout",
     "output_type": "stream",
     "text": [
      "`matplotlib.pyplot` is a state-based interface to matplotlib. It provides\n",
      "a MATLAB-like way of plotting.\n",
      "\n",
      "pyplot is mainly intended for interactive plots and simple cases of\n",
      "programmatic plot generation::\n"
     ]
    }
   ],
   "source": [
    "print(\"\\n\".join(plt.__doc__.split(\"\\n\")[1:6])) # subpackage pyplot overview"
   ]
  },
  {
   "cell_type": "code",
   "execution_count": 32,
   "id": "05c4de9b",
   "metadata": {},
   "outputs": [],
   "source": [
    "plt.style.use(style=\"ggplot\")"
   ]
  },
  {
   "cell_type": "code",
   "execution_count": 33,
   "id": "4f3d906a",
   "metadata": {},
   "outputs": [],
   "source": [
    "plt.rcParams[\"figure.figsize\"]=12.8,7.2"
   ]
  },
  {
   "cell_type": "code",
   "execution_count": 34,
   "id": "81413187",
   "metadata": {},
   "outputs": [],
   "source": [
    "import seaborn as sns"
   ]
  },
  {
   "cell_type": "code",
   "execution_count": 35,
   "id": "a237f65f",
   "metadata": {},
   "outputs": [
    {
     "name": "stdout",
     "output_type": "stream",
     "text": [
      "This function provides access to several axes-level functions that\n",
      "show the relationship between a numerical and one or more categorical\n",
      "variables using one of several visual representations. The ``kind``\n"
     ]
    }
   ],
   "source": [
    "print(\"\\n\".join(sns.catplot.__doc__.split(\"\\n\")[2:5])) # seaborn catplot overview"
   ]
  },
  {
   "cell_type": "markdown",
   "id": "6e97c50d",
   "metadata": {},
   "source": [
    "- the ``catplot`` shows that the $C$ ``a`` (Category ``A``) looks lower than the $C$ ``b`` (Category ``B``) albeit there is overlap between the blue and red dots [7]"
   ]
  },
  {
   "cell_type": "markdown",
   "id": "dd4e1b4c",
   "metadata": {},
   "source": [
    "- if making the assumption that the two $\\mu$ points of each $C$ are the same (or the processes that they were generated from) then how likely is it to see all the red dots at the top right versus all the blue dots at the bottom left [7]"
   ]
  },
  {
   "cell_type": "markdown",
   "id": "23fa7375",
   "metadata": {},
   "source": [
    "- there is always a random chance of this occurring even when the two $C$ have the same (or generated from) $\\mu$ [7]"
   ]
  },
  {
   "cell_type": "markdown",
   "id": "51743749",
   "metadata": {},
   "source": [
    "- the question is how likely is it and thats what the ``t-test`` aims to determine - does both $C$ differ in general enough to justify saying the $C$ ``a`` is different to the $C$ ``b`` [7]"
   ]
  },
  {
   "cell_type": "code",
   "execution_count": 36,
   "id": "67998135",
   "metadata": {},
   "outputs": [
    {
     "data": {
      "image/png": "[encoded data removed]",
      "text/plain": [
       "<Figure size 360x360 with 1 Axes>"
      ]
     },
     "metadata": {},
     "output_type": "display_data"
    }
   ],
   "source": [
    "sns.catplot(x=\"Category\",y=\"Value\",jitter=False,data=df);"
   ]
  },
  {
   "cell_type": "markdown",
   "id": "0432cc06",
   "metadata": {},
   "source": [
    "< [Table of Contents](#top) | [References](#references) >\n",
    "<a id=\"solutionttest\"></a>\n",
    "***\n",
    "### Scipy Stats\n",
    "***"
   ]
  },
  {
   "cell_type": "code",
   "execution_count": 37,
   "id": "d0128f41",
   "metadata": {},
   "outputs": [],
   "source": [
    "import scipy.stats as ss"
   ]
  },
  {
   "cell_type": "code",
   "execution_count": 38,
   "id": "b5e0ee0a",
   "metadata": {},
   "outputs": [
    {
     "name": "stdout",
     "output_type": "stream",
     "text": [
      "This module contains a large number of probability distributions as\n",
      "well as a growing library of statistical functions.\n"
     ]
    }
   ],
   "source": [
    "print(\"\\n\".join(ss.__doc__.split(\"\\n\")[9:11])) # subpackage scipy.stats overview "
   ]
  },
  {
   "cell_type": "markdown",
   "id": "ebd1d014",
   "metadata": {},
   "source": [
    "< [Table of Contents](#top) | [References](#references) >\n",
    "<a id=\"solutionttestHypothesis\"></a>\n",
    "***\n",
    "###### Hypothesis\n",
    "***"
   ]
  },
  {
   "cell_type": "markdown",
   "id": "edf94fd5",
   "metadata": {},
   "source": [
    "- a hypothesis is an idea that can be tested [9]"
   ]
  },
  {
   "cell_type": "markdown",
   "id": "e96ab973",
   "metadata": {},
   "source": [
    "- the null hypothesis (hereafter denoted $H_0$) is the assumption to be tested and the alternative hypothesis (hereafter denoted $H_1$) being everything else [9]"
   ]
  },
  {
   "cell_type": "markdown",
   "id": "b4432e43",
   "metadata": {},
   "source": [
    "< [Table of Contents](#top) | [References](#references) >\n",
    "<a id=\"solutionttestTTest\"></a>\n",
    "***\n",
    "###### ``T-Test``\n",
    "***"
   ]
  },
  {
   "cell_type": "markdown",
   "id": "f5498d90",
   "metadata": {},
   "source": [
    "- the ``t-test`` is testing what is the probability (based on a few assumptions) that the distribution from which the two generated $C$ (``a`` and ``b``) had the same $\\mu$ (capturing the ``p-value`` returned from package ``scipy`` subpackage ``stats``  function ``ttest_ind``) [4]"
   ]
  },
  {
   "cell_type": "code",
   "execution_count": 39,
   "id": "ad8062e7",
   "metadata": {},
   "outputs": [
    {
     "name": "stdout",
     "output_type": "stream",
     "text": [
      "    This is a two-sided test for the null hypothesis that 2 independent samples\n",
      "    have identical average (expected) values. This test assumes that the\n",
      "    populations have identical variances by default.\n"
     ]
    }
   ],
   "source": [
    "print(\"\\n\".join(ss.ttest_ind.__doc__.split(\"\\n\")[3:6])) # function ttest_ind overview"
   ]
  },
  {
   "cell_type": "code",
   "execution_count": 40,
   "id": "29efe8f9",
   "metadata": {},
   "outputs": [
    {
     "name": "stdout",
     "output_type": "stream",
     "text": [
      "    Notes\n",
      "    -----\n",
      "    We can use this test, if we observe two independent samples from\n",
      "    the same or different population, e.g. exam scores of boys and\n",
      "    girls or of two ethnic groups. The test measures whether the\n",
      "    average (expected) value differs significantly across samples. If\n",
      "    we observe a large p-value, for example larger than 0.05 or 0.1,\n",
      "    then we cannot reject the null hypothesis of identical average scores.\n",
      "    If the p-value is smaller than the threshold, e.g. 1%, 5% or 10%,\n",
      "    then we reject the null hypothesis of equal averages.\n",
      "\n",
      "    References\n",
      "    ----------\n",
      "    .. [1] https://en.wikipedia.org/wiki/T-test#Independent_two-sample_t-test\n",
      "\n",
      "    .. [2] https://en.wikipedia.org/wiki/Welch%27s_t-test\n"
     ]
    }
   ],
   "source": [
    "print(\"\\n\".join(ss.ttest_ind.__doc__.split(\"\\n\")[46:62])) # function ttest_ind notes"
   ]
  },
  {
   "cell_type": "markdown",
   "id": "fbaa0c20",
   "metadata": {},
   "source": [
    "- the ($H_0$) by default is the assumption (hypothesis) that the $\\mu$ value of the $C$ ``a`` population is equal to the $\\mu$ value of the $C$ ``b`` population (not whether the $\\mu$ of the $C$ ``a`` values of size ``N`` is equal to the $\\mu$ of the $C$ ``b`` values of size ``N``) [10]"
   ]
  },
  {
   "cell_type": "markdown",
   "id": "a4e41dc9",
   "metadata": {},
   "source": [
    "- ``Eq. (4)`` represents the $H_0$ that the $\\mu$ population of the $C$ ``a`` values (generated from a random sample of size ``N``) is equal to the $\\mu$ population of the $C$ ``b`` values (generated from a random sample of size ``N``) [10]"
   ]
  },
  {
   "cell_type": "markdown",
   "id": "57900a6b",
   "metadata": {},
   "source": [
    "$$H_0:\\mu_a=\\mu_b\\tag{4}$$"
   ]
  },
  {
   "cell_type": "markdown",
   "id": "154c798e",
   "metadata": {},
   "source": [
    "- the concept of the $H_0$ is similiar to being innocent until proven guilty ($H_0$ is true until rejected) - a researcher is trying to reject the status quo ($H_0$) and the alternative is to challenge the status quo ``(Eq. (5))`` [9]"
   ]
  },
  {
   "cell_type": "markdown",
   "id": "5765d0b7",
   "metadata": {},
   "source": [
    "$$H_1:\\mu_a\\neq\\mu_b\\tag{5}$$"
   ]
  },
  {
   "cell_type": "code",
   "execution_count": 41,
   "id": "7511ac85",
   "metadata": {},
   "outputs": [
    {
     "data": {
      "text/plain": [
       "<function scipy.stats.stats.ttest_ind(a, b, axis=0, equal_var=True, nan_policy='propagate', alternative='two-sided')>"
      ]
     },
     "execution_count": 41,
     "metadata": {},
     "output_type": "execute_result"
    }
   ],
   "source": [
    "ss.ttest_ind # function ttest_ind signature"
   ]
  },
  {
   "cell_type": "code",
   "execution_count": 42,
   "id": "780c83fb",
   "metadata": {},
   "outputs": [],
   "source": [
    "t_ss,p_ss=ss.ttest_ind(a=a,b=b) # returns statistic pvalue"
   ]
  },
  {
   "cell_type": "markdown",
   "id": "bdd527f9",
   "metadata": {},
   "source": [
    "- the calculation returns:\n",
    "\n",
    "i. the ``t-statistic`` or the ``t-value`` (does not have much meaning independently) [7] is a calculation based on the $C$ ``a`` values and the $C$ ``b`` values (includes other calculations) [10]"
   ]
  },
  {
   "cell_type": "code",
   "execution_count": 43,
   "id": "1e6aa7a8",
   "metadata": {},
   "outputs": [
    {
     "name": "stdout",
     "output_type": "stream",
     "text": [
      "    statistic : float or array\n",
      "        The calculated t-statistic.\n"
     ]
    }
   ],
   "source": [
    "print(\"\\n\".join(ss.ttest_ind.__doc__.split(\"\\n\")[41:43])) # return statistic overview"
   ]
  },
  {
   "cell_type": "code",
   "execution_count": 44,
   "id": "c1b6bc35",
   "metadata": {},
   "outputs": [
    {
     "data": {
      "text/plain": [
       "-9.239610344952533"
      ]
     },
     "execution_count": 44,
     "metadata": {},
     "output_type": "execute_result"
    }
   ],
   "source": [
    "t_ss"
   ]
  },
  {
   "cell_type": "markdown",
   "id": "309fe25a",
   "metadata": {},
   "source": [
    "ii. the ``p-value`` associated with the ``t-value`` (``t-statistic``) is the probability of observing the values from the two sample $C$ (``a`` and ``b``) under the assumption both $C$ came from populations with the same $\\mu$ value [10]"
   ]
  },
  {
   "cell_type": "code",
   "execution_count": 45,
   "id": "fcec3e7d",
   "metadata": {},
   "outputs": [
    {
     "name": "stdout",
     "output_type": "stream",
     "text": [
      "    pvalue : float or array\n",
      "        The two-tailed p-value.\n"
     ]
    }
   ],
   "source": [
    "print(\"\\n\".join(ss.ttest_ind.__doc__.split(\"\\n\")[43:45])) # return p-value overview"
   ]
  },
  {
   "cell_type": "code",
   "execution_count": 46,
   "id": "38e6a598",
   "metadata": {
    "scrolled": true
   },
   "outputs": [
    {
     "data": {
      "text/plain": [
       "3.702819585706485e-14"
      ]
     },
     "execution_count": 46,
     "metadata": {},
     "output_type": "execute_result"
    }
   ],
   "source": [
    "p_ss"
   ]
  },
  {
   "cell_type": "code",
   "execution_count": 47,
   "id": "f92eccd1",
   "metadata": {},
   "outputs": [
    {
     "data": {
      "text/plain": [
       "numpy.float64"
      ]
     },
     "execution_count": 47,
     "metadata": {},
     "output_type": "execute_result"
    }
   ],
   "source": [
    "type(p_ss) # result exponential notation"
   ]
  },
  {
   "cell_type": "code",
   "execution_count": 48,
   "id": "7fea8c3d",
   "metadata": {},
   "outputs": [
    {
     "data": {
      "text/plain": [
       "0"
      ]
     },
     "execution_count": 48,
     "metadata": {},
     "output_type": "execute_result"
    }
   ],
   "source": [
    "int(p_ss)"
   ]
  },
  {
   "cell_type": "markdown",
   "id": "3b505c32",
   "metadata": {},
   "source": [
    "- its typical to use a ``p-value`` cutoff of $0.05$ meaning there is a $5\\%$ chance of making the wrong decision [4]"
   ]
  },
  {
   "cell_type": "markdown",
   "id": "5e45c5c6",
   "metadata": {},
   "source": [
    "- the ``t-test`` is suggesting there is almost a $0\\%$ chance (zero probability) of observing $C$ (``a`` and ``b``) sample values with populations of the same $\\mu$ therefore rejecting the $H_0$ ``(Eq. (4))`` [4][7][10]"
   ]
  },
  {
   "cell_type": "code",
   "execution_count": 49,
   "id": "6df270b3",
   "metadata": {
    "scrolled": true
   },
   "outputs": [
    {
     "name": "stdout",
     "output_type": "stream",
     "text": [
      "0.00\n"
     ]
    }
   ],
   "source": [
    "print(f\"{p_ss:.02f}\") # round second decimal"
   ]
  },
  {
   "cell_type": "markdown",
   "id": "53016788",
   "metadata": {},
   "source": [
    "- there is sufficient evidence to suggest the numbers in the $C$ ``a`` are different from the numbers in the $C$ ``b`` (specifically the $\\mu$ of the distribution they came from) [4]"
   ]
  },
  {
   "cell_type": "markdown",
   "id": "f422c986",
   "metadata": {},
   "source": [
    "- can identify the numbers in both $C$ are different by visually observing the categorical plot as done prior but now running the statistical test provides evidence that its reproducibly true [4] "
   ]
  },
  {
   "cell_type": "markdown",
   "id": "607ad8a8",
   "metadata": {},
   "source": [
    "- if the chance of seeing sample data like this is less than the typical ``p-value`` cutoff ($0.05$) based on the $H_0$ ``(Eq. (4))`` then can make the decision to reject the idea as its too unlikely [7]"
   ]
  },
  {
   "cell_type": "code",
   "execution_count": 50,
   "id": "18cf8720",
   "metadata": {
    "scrolled": false
   },
   "outputs": [
    {
     "data": {
      "image/png": "[encoded data removed]",
      "text/plain": [
       "<Figure size 360x360 with 1 Axes>"
      ]
     },
     "metadata": {},
     "output_type": "display_data"
    }
   ],
   "source": [
    "sns.catplot(x=\"Category\",y=\"Value\",jitter=False,data=df);"
   ]
  },
  {
   "cell_type": "markdown",
   "id": "f650a7b3",
   "metadata": {},
   "source": [
    "- now centering both $C$ around the same $\\mu$ - gaming the system by making the ``Eq. (4)`` assumption true [4]"
   ]
  },
  {
   "cell_type": "code",
   "execution_count": 51,
   "id": "b05078e5",
   "metadata": {},
   "outputs": [
    {
     "data": {
      "text/plain": [
       "1.5"
      ]
     },
     "execution_count": 51,
     "metadata": {},
     "output_type": "execute_result"
    }
   ],
   "source": [
    "m_a"
   ]
  },
  {
   "cell_type": "code",
   "execution_count": 52,
   "id": "17d121d4",
   "metadata": {},
   "outputs": [],
   "source": [
    "m_b_same_m_a=m_a"
   ]
  },
  {
   "cell_type": "code",
   "execution_count": 53,
   "id": "900f0b81",
   "metadata": {},
   "outputs": [
    {
     "data": {
      "text/plain": [
       "1.5"
      ]
     },
     "execution_count": 53,
     "metadata": {},
     "output_type": "execute_result"
    }
   ],
   "source": [
    "m_b_same_m_a"
   ]
  },
  {
   "cell_type": "code",
   "execution_count": 54,
   "id": "8baf7b07",
   "metadata": {},
   "outputs": [],
   "source": [
    "b_m_a=np.random.normal(loc=m_b_same_m_a,scale=s_b,size=N) # collection same mean"
   ]
  },
  {
   "cell_type": "code",
   "execution_count": 55,
   "id": "3079b2e2",
   "metadata": {},
   "outputs": [],
   "source": [
    "df_b_m_a=pd.DataFrame(data={\"Category\":[\"A\"]*len(a)+[\"B\"]*len(b_m_a),\"Value\":np.hstack([a,b_m_a])}) # new DataFrame object"
   ]
  },
  {
   "cell_type": "code",
   "execution_count": 56,
   "id": "87c0c9a1",
   "metadata": {},
   "outputs": [
    {
     "data": {
      "text/html": [
       "<div>\n",
       "<style scoped>\n",
       "    .dataframe tbody tr th:only-of-type {\n",
       "        vertical-align: middle;\n",
       "    }\n",
       "\n",
       "    .dataframe tbody tr th {\n",
       "        vertical-align: top;\n",
       "    }\n",
       "\n",
       "    .dataframe thead th {\n",
       "        text-align: right;\n",
       "    }\n",
       "</style>\n",
       "<table border=\"1\" class=\"dataframe\">\n",
       "  <thead>\n",
       "    <tr style=\"text-align: right;\">\n",
       "      <th></th>\n",
       "      <th>Category</th>\n",
       "      <th>Value</th>\n",
       "    </tr>\n",
       "  </thead>\n",
       "  <tbody>\n",
       "    <tr>\n",
       "      <th>0</th>\n",
       "      <td>A</td>\n",
       "      <td>1.464596</td>\n",
       "    </tr>\n",
       "    <tr>\n",
       "      <th>1</th>\n",
       "      <td>A</td>\n",
       "      <td>1.235103</td>\n",
       "    </tr>\n",
       "    <tr>\n",
       "      <th>2</th>\n",
       "      <td>A</td>\n",
       "      <td>1.301457</td>\n",
       "    </tr>\n",
       "    <tr>\n",
       "      <th>3</th>\n",
       "      <td>A</td>\n",
       "      <td>1.318500</td>\n",
       "    </tr>\n",
       "    <tr>\n",
       "      <th>4</th>\n",
       "      <td>A</td>\n",
       "      <td>1.535597</td>\n",
       "    </tr>\n",
       "    <tr>\n",
       "      <th>...</th>\n",
       "      <td>...</td>\n",
       "      <td>...</td>\n",
       "    </tr>\n",
       "    <tr>\n",
       "      <th>75</th>\n",
       "      <td>B</td>\n",
       "      <td>2.118175</td>\n",
       "    </tr>\n",
       "    <tr>\n",
       "      <th>76</th>\n",
       "      <td>B</td>\n",
       "      <td>1.106489</td>\n",
       "    </tr>\n",
       "    <tr>\n",
       "      <th>77</th>\n",
       "      <td>B</td>\n",
       "      <td>2.007715</td>\n",
       "    </tr>\n",
       "    <tr>\n",
       "      <th>78</th>\n",
       "      <td>B</td>\n",
       "      <td>1.422412</td>\n",
       "    </tr>\n",
       "    <tr>\n",
       "      <th>79</th>\n",
       "      <td>B</td>\n",
       "      <td>2.141511</td>\n",
       "    </tr>\n",
       "  </tbody>\n",
       "</table>\n",
       "<p>80 rows × 2 columns</p>\n",
       "</div>"
      ],
      "text/plain": [
       "   Category     Value\n",
       "0         A  1.464596\n",
       "1         A  1.235103\n",
       "2         A  1.301457\n",
       "3         A  1.318500\n",
       "4         A  1.535597\n",
       "..      ...       ...\n",
       "75        B  2.118175\n",
       "76        B  1.106489\n",
       "77        B  2.007715\n",
       "78        B  1.422412\n",
       "79        B  2.141511\n",
       "\n",
       "[80 rows x 2 columns]"
      ]
     },
     "execution_count": 56,
     "metadata": {},
     "output_type": "execute_result"
    }
   ],
   "source": [
    "df_b_m_a"
   ]
  },
  {
   "cell_type": "markdown",
   "id": "6bb061cc",
   "metadata": {},
   "source": [
    "- the ``t-test`` now suggests there is a probability greater than the ``p-value`` of observing $C$ (``a`` and ``b``) sample values with populations of the same $\\mu$ therefore accepting the $H_0$ ``(Eq. (4))`` [4][7][10]"
   ]
  },
  {
   "cell_type": "code",
   "execution_count": 57,
   "id": "32e7dd71",
   "metadata": {},
   "outputs": [
    {
     "name": "stdout",
     "output_type": "stream",
     "text": [
      "0.67% probability (7% chance)\n"
     ]
    }
   ],
   "source": [
    "t_ss,p_ss=ss.ttest_ind(a=a,b=b_m_a)\n",
    "print(f\"{p_ss:0.2f}% probability ({p_ss*10:.0f}% chance)\") # typical cutoff 0.05"
   ]
  },
  {
   "cell_type": "markdown",
   "id": "e0862208",
   "metadata": {},
   "source": [
    "- on the new categorical plot (minds eye) looks like one $C$ is a little bit higher than the other but they are not and its important to note this is just random chance [4]"
   ]
  },
  {
   "cell_type": "markdown",
   "id": "405b87d3",
   "metadata": {},
   "source": [
    "- if the chance of seeing sample data like this is greater than the typical ``p-value`` cutoff ($0.05$) based on the $H_0$ ``(Eq. (4))`` then can make the decision to accept the idea both populations are of the same $\\mu$ [7]"
   ]
  },
  {
   "cell_type": "code",
   "execution_count": 58,
   "id": "5b37f85d",
   "metadata": {},
   "outputs": [
    {
     "data": {
      "image/png": "[encoded data removed]",
      "text/plain": [
       "<Figure size 360x360 with 1 Axes>"
      ]
     },
     "metadata": {},
     "output_type": "display_data"
    }
   ],
   "source": [
    "sns.catplot(x=\"Category\",y=\"Value\",jitter=False,data=df_b_m_a);"
   ]
  },
  {
   "cell_type": "markdown",
   "id": "b6d56797",
   "metadata": {},
   "source": [
    "< [Table of Contents](#top) | [References](#references) >\n",
    "<a id=\"solutionttestintuitionVisualisation\"></a>\n",
    "***\n",
    "###### Visualisation\n",
    "***"
   ]
  },
  {
   "cell_type": "markdown",
   "id": "c7ad5833",
   "metadata": {},
   "source": [
    "- visualising the populations with the assumption the two sample $C$ (``a`` and ``b``) are bell-shaped curves (from the outset these curves are not available but are imagined to exist) [7]"
   ]
  },
  {
   "cell_type": "markdown",
   "id": "ad41c2e9",
   "metadata": {},
   "source": [
    "- available only are the numbers from both $C$ therefore the ``t-test`` is asking does the ``a`` curve coincide with the ``b`` curve (are the two $\\mu$ points the same or separated) [7]"
   ]
  },
  {
   "cell_type": "code",
   "execution_count": 59,
   "id": "d02147a1",
   "metadata": {},
   "outputs": [
    {
     "name": "stdout",
     "output_type": "stream",
     "text": [
      "    Return evenly spaced numbers over a specified interval.\n"
     ]
    }
   ],
   "source": [
    "print(\"\\n\".join(np.linspace.__doc__.split(\"\\n\")[1:2])) # function linspace overview"
   ]
  },
  {
   "cell_type": "code",
   "execution_count": 60,
   "id": "21a29c4f",
   "metadata": {},
   "outputs": [],
   "source": [
    "x=np.linspace(start=-2,stop=4,num=1000) # RV uniformly distributed"
   ]
  },
  {
   "cell_type": "code",
   "execution_count": 61,
   "id": "977c21f0",
   "metadata": {},
   "outputs": [
    {
     "name": "stdout",
     "output_type": "stream",
     "text": [
      "        Probability density function at x of the given RV.\n"
     ]
    }
   ],
   "source": [
    "print(\"\\n\".join(ss.norm.pdf.__doc__.split(\"\\n\")[1:2])) # function pdf overview"
   ]
  },
  {
   "cell_type": "markdown",
   "id": "7753d497",
   "metadata": {},
   "source": [
    "- the blue curve represents the way in which the numbers in the $C$ ``a`` are generated (as expected are very high around the $\\mu$) [5]"
   ]
  },
  {
   "cell_type": "markdown",
   "id": "baa1e4d7",
   "metadata": {},
   "source": [
    "- it is very close to the $0$ point on the x-axis for numbers less than appropriately $0$ or greater than appropriately $3.0$ and stays above the line out to infinity in the positive direction and negative direction (hugging the x-axis when compared to its $\\mu$ height) [5]"
   ]
  },
  {
   "cell_type": "markdown",
   "id": "b85903f9",
   "metadata": {},
   "source": [
    "- the curve (population ``a`` ) represents how unlikely it is to see certain values (within certain ranges) - represents the uncertainty (probability density function - ``PDF``) when generating the $C$ [5]"
   ]
  },
  {
   "cell_type": "code",
   "execution_count": 62,
   "id": "0ab3a909",
   "metadata": {},
   "outputs": [],
   "source": [
    "y_a=ss.norm.pdf(x=x,loc=m_a,scale=s_a)"
   ]
  },
  {
   "cell_type": "code",
   "execution_count": 63,
   "id": "5b862558",
   "metadata": {},
   "outputs": [
    {
     "data": {
      "image/png": "[encoded data removed]",
      "text/plain": [
       "<Figure size 921.6x518.4 with 1 Axes>"
      ]
     },
     "metadata": {},
     "output_type": "display_data"
    }
   ],
   "source": [
    "fig_a_not_b,ax=plt.subplots()\n",
    "ax.set_title(\"Probability Density Function (\"+r\"$a$\"+\") - Uncertainty\")\n",
    "ax.plot(x,y_a,color=\"b\",label=r\"$\\bar{a}$\"+f\" = {m_a}\")\n",
    "ax.fill_between(x=x,y1=y_a,color=\"b\",alpha=0.2,label=r\"$Population: a$\")\n",
    "ax.set_xlabel(\"Spread (\"+r\"$\\mu$\"+\")\")\n",
    "ax.set_ylabel(\"Generated Random Numbers\")\n",
    "ax.legend();"
   ]
  },
  {
   "cell_type": "markdown",
   "id": "60d8dfe2",
   "metadata": {},
   "source": [
    "- the histogram represents the sample from the population ``a`` and closely minics the population - inferring something about the population (underlying process generating the numbers) based on the histogram only because the population is unknown (cannot observe) [7]"
   ]
  },
  {
   "cell_type": "code",
   "execution_count": 64,
   "id": "bb3f5541",
   "metadata": {},
   "outputs": [],
   "source": [
    "ax.hist(x=a,density=True,color=\"b\",alpha=0.5,label=\"Sample: \"+r\"$a$\") # x-axis chop bins\n",
    "ax.legend();"
   ]
  },
  {
   "cell_type": "code",
   "execution_count": 65,
   "id": "83a319df",
   "metadata": {
    "scrolled": false
   },
   "outputs": [
    {
     "data": {
      "image/png": "[encoded data removed]",
      "text/plain": [
       "<Figure size 921.6x518.4 with 1 Axes>"
      ]
     },
     "execution_count": 65,
     "metadata": {},
     "output_type": "execute_result"
    }
   ],
   "source": [
    "fig_a_not_b"
   ]
  },
  {
   "cell_type": "markdown",
   "id": "59be3acf",
   "metadata": {},
   "source": [
    "- the red dotted curve represents the uncertainty (``PDF``) when generating numbers in the $C$ ``b`` [5] and the histogram represents the sample from the population ``b`` [7]"
   ]
  },
  {
   "cell_type": "code",
   "execution_count": 66,
   "id": "f1b98616",
   "metadata": {},
   "outputs": [],
   "source": [
    "y_b=ss.norm.pdf(x=x,loc=m_b,scale=s_b)"
   ]
  },
  {
   "cell_type": "code",
   "execution_count": 67,
   "id": "c1872b2f",
   "metadata": {},
   "outputs": [],
   "source": [
    "ax.set_title(\"Probability Density Function (\"+r\"$a$\"+\" & \"+r\"$b$\"+\") - Uncertainty\")\n",
    "ax.plot(x,y_b,\"r:\",label=r\"$\\bar{b}$\"+f\" = {m_b}\")\n",
    "ax.fill_between(x=x,y1=y_b,color=\"r\",alpha=0.2,label=\"Population: \"+r\"$b$\")\n",
    "ax.hist(x=b,density=True,color=\"r\",alpha=0.5,label=\"Sample: \"+r\"$b$\")\n",
    "ax.legend();"
   ]
  },
  {
   "cell_type": "code",
   "execution_count": 68,
   "id": "dc460ae8",
   "metadata": {},
   "outputs": [
    {
     "data": {
      "image/png": "[encoded data removed]",
      "text/plain": [
       "<Figure size 921.6x518.4 with 1 Axes>"
      ]
     },
     "execution_count": 68,
     "metadata": {},
     "output_type": "execute_result"
    }
   ],
   "source": [
    "fig_a_not_b"
   ]
  },
  {
   "cell_type": "markdown",
   "id": "2e0fae7c",
   "metadata": {},
   "source": [
    "- in the real world this kind of randomness occurs very frequently - if measuring the heights of men in Ireland would probably find there is an average number (probably $1.6$ or $1.8$ metres) that most are centered around [5]"
   ]
  },
  {
   "cell_type": "markdown",
   "id": "337985dc",
   "metadata": {},
   "source": [
    "- its very likely to observe a height of around $1.7$ and very unlikely to observe a height of around $2.5$ (equally unlikely to observe a height of around $0.5$) but these two extremes do exist [5]"
   ]
  },
  {
   "cell_type": "markdown",
   "id": "cd3a066d",
   "metadata": {},
   "source": [
    "- the blue and (dotted) red curves represents a different type of randomness when compared with picking a number between $[1,10]$ which is a uniform distribution (every value is likely) [5]"
   ]
  },
  {
   "cell_type": "markdown",
   "id": "38fe022e",
   "metadata": {},
   "source": [
    "- its important to note that in the real world the blue and (dotted) red lines are unknown (making the assumption these are nice bell-shaped curves) in addition not knowing where the tip of each of the two curves are [5]"
   ]
  },
  {
   "cell_type": "markdown",
   "id": "f9377baa",
   "metadata": {},
   "source": [
    "- the ``t-test`` is checking (questions) if the the tip of both curves are at the same point or not and thus far gamed the system (created a fake dataset) knowing both sample $C$ are different [5]"
   ]
  },
  {
   "cell_type": "code",
   "execution_count": 69,
   "id": "485e75bb",
   "metadata": {},
   "outputs": [
    {
     "data": {
      "image/png": "[encoded data removed]",
      "text/plain": [
       "<Figure size 921.6x518.4 with 1 Axes>"
      ]
     },
     "execution_count": 69,
     "metadata": {},
     "output_type": "execute_result"
    }
   ],
   "source": [
    "fig_a_not_b # both clearly different"
   ]
  },
  {
   "cell_type": "markdown",
   "id": "382c100b",
   "metadata": {},
   "source": [
    "- now centering both $C$ around the same $\\mu$ - gaming the system by making the ``Eq. (4)`` assumption true [4]"
   ]
  },
  {
   "cell_type": "code",
   "execution_count": 70,
   "id": "5d8b1bb6",
   "metadata": {},
   "outputs": [
    {
     "data": {
      "text/plain": [
       "1.5"
      ]
     },
     "execution_count": 70,
     "metadata": {},
     "output_type": "execute_result"
    }
   ],
   "source": [
    "m_a"
   ]
  },
  {
   "cell_type": "code",
   "execution_count": 71,
   "id": "84c79e33",
   "metadata": {},
   "outputs": [
    {
     "data": {
      "text/plain": [
       "1.5"
      ]
     },
     "execution_count": 71,
     "metadata": {},
     "output_type": "execute_result"
    }
   ],
   "source": [
    "m_b_same_m_a"
   ]
  },
  {
   "cell_type": "markdown",
   "id": "c01f2a28",
   "metadata": {},
   "source": [
    "- checking to see if they are the same or if there is any evidence that they are not the same (checking if the tips of the curves are the same or not) [5]"
   ]
  },
  {
   "cell_type": "code",
   "execution_count": 72,
   "id": "c9d779b0",
   "metadata": {},
   "outputs": [],
   "source": [
    "y_b=ss.norm.pdf(x=x,loc=m_b_same_m_a,scale=s_b)"
   ]
  },
  {
   "cell_type": "code",
   "execution_count": 73,
   "id": "ee63c119",
   "metadata": {},
   "outputs": [
    {
     "data": {
      "image/png": "[encoded data removed]",
      "text/plain": [
       "<Figure size 921.6x518.4 with 1 Axes>"
      ]
     },
     "metadata": {},
     "output_type": "display_data"
    }
   ],
   "source": [
    "fig_a_tip_b,ax=plt.subplots()\n",
    "ax.set_title(\"Probability Density Function (\"+r\"$a$\"+\" & \"+r\"$b$\"+\") - Uncertainty\")\n",
    "ax.plot(x,y_a,color=\"b\",label=r\"$\\bar{a}$\"+f\" = {m_a}\")\n",
    "ax.plot(x,y_b,\"r:\",label=r\"$\\bar{b}$\"+f\" = {m_b_same_m_a}\")\n",
    "ax.set_xlabel(\"Spread (\"+r\"$\\mu$\"+\")\")\n",
    "ax.set_ylabel(\"Generated Random Numbers\")\n",
    "ax.legend();"
   ]
  },
  {
   "cell_type": "markdown",
   "id": "2c70e88a",
   "metadata": {},
   "source": [
    "- a different way of asking the ``t-test`` question is if the $\\mu$ of the $C$ ``a`` (blue) is substacted away from the the $\\mu$ of the collection ``b`` (dotted red) then is the result $0$ or not [5]"
   ]
  },
  {
   "cell_type": "code",
   "execution_count": 74,
   "id": "784b07f7",
   "metadata": {},
   "outputs": [
    {
     "data": {
      "text/plain": [
       "False"
      ]
     },
     "execution_count": 74,
     "metadata": {},
     "output_type": "execute_result"
    }
   ],
   "source": [
    "m_a-m_b==0 # different mean point"
   ]
  },
  {
   "cell_type": "code",
   "execution_count": 75,
   "id": "0b0ef6c6",
   "metadata": {},
   "outputs": [
    {
     "data": {
      "image/png": "[encoded data removed]",
      "text/plain": [
       "<Figure size 921.6x518.4 with 1 Axes>"
      ]
     },
     "execution_count": 75,
     "metadata": {},
     "output_type": "execute_result"
    }
   ],
   "source": [
    "fig_a_not_b # result not zero"
   ]
  },
  {
   "cell_type": "code",
   "execution_count": 76,
   "id": "a1e793d6",
   "metadata": {},
   "outputs": [
    {
     "data": {
      "text/plain": [
       "True"
      ]
     },
     "execution_count": 76,
     "metadata": {},
     "output_type": "execute_result"
    }
   ],
   "source": [
    "m_a==m_b_same_m_a # same mean point"
   ]
  },
  {
   "cell_type": "code",
   "execution_count": 77,
   "id": "46d1825d",
   "metadata": {},
   "outputs": [
    {
     "data": {
      "image/png": "[encoded data removed]",
      "text/plain": [
       "<Figure size 921.6x518.4 with 1 Axes>"
      ]
     },
     "execution_count": 77,
     "metadata": {},
     "output_type": "execute_result"
    }
   ],
   "source": [
    "fig_a_tip_b # tip result zero"
   ]
  },
  {
   "cell_type": "markdown",
   "id": "6080ec67",
   "metadata": {},
   "source": [
    "- essentially this is what the ``t-test`` is doing (end up with a ``t-distribution``) and looks like the normal distribution but is actually a ``t-curve`` based on ``degrees of freedom`` (``dof``) [7]"
   ]
  },
  {
   "cell_type": "code",
   "execution_count": 78,
   "id": "c6490c48",
   "metadata": {},
   "outputs": [],
   "source": [
    "dof=len(a)+len(b)-2"
   ]
  },
  {
   "cell_type": "code",
   "execution_count": 79,
   "id": "b5e0d548",
   "metadata": {},
   "outputs": [
    {
     "data": {
      "text/plain": [
       "78"
      ]
     },
     "execution_count": 79,
     "metadata": {},
     "output_type": "execute_result"
    }
   ],
   "source": [
    "dof # degrees of freedom"
   ]
  },
  {
   "cell_type": "markdown",
   "id": "7622697f",
   "metadata": {},
   "source": [
    "- randomly selecting samples ($C$ ``a`` and $C$ ``b``) then doing a ``t-test`` on both results in a ``t-value`` (``t-statistic``) [5]"
   ]
  },
  {
   "cell_type": "markdown",
   "id": "9d0cd92d",
   "metadata": {},
   "source": [
    "- assuming ``Eq. (4)``is true (blue curve and red curve coincide) then what is the chance of seeing such data [5]"
   ]
  },
  {
   "cell_type": "code",
   "execution_count": 80,
   "id": "dc320c38",
   "metadata": {},
   "outputs": [
    {
     "data": {
      "image/png": "[encoded data removed]",
      "text/plain": [
       "<Figure size 360x360 with 1 Axes>"
      ]
     },
     "metadata": {},
     "output_type": "display_data"
    }
   ],
   "source": [
    "sns.catplot(x=\"Category\",y=\"Value\",jitter=False,data=df_b_m_a);"
   ]
  },
  {
   "cell_type": "markdown",
   "id": "b90b2267",
   "metadata": {},
   "source": [
    "- the data looks very different when plot (coincide) [5]"
   ]
  },
  {
   "cell_type": "code",
   "execution_count": 81,
   "id": "843c764a",
   "metadata": {},
   "outputs": [
    {
     "data": {
      "image/png": "[encoded data removed]",
      "text/plain": [
       "<Figure size 921.6x518.4 with 1 Axes>"
      ]
     },
     "execution_count": 81,
     "metadata": {},
     "output_type": "execute_result"
    }
   ],
   "source": [
    "fig_a_tip_b"
   ]
  },
  {
   "cell_type": "markdown",
   "id": "98ed9b05",
   "metadata": {},
   "source": [
    "< [Table of Contents](#top) | [References](#references) >\n",
    "<a id=\"solutionDifferentQuestionttestCriticalValues\"></a>\n",
    "***\n",
    "###### Statistic\n",
    "***"
   ]
  },
  {
   "cell_type": "markdown",
   "id": "67504bdc",
   "metadata": {},
   "source": [
    "- when $C$ (``a`` and ``b``) are overlapping (same $\\mu$) and calculating the ``t-statistic`` (``t-value``) with repeated samples of size ``a`` and ``b`` (same curves) then performing visualisation the most likely ``t-value`` (``t-statistic``) are bunched at $0$ [7]"
   ]
  },
  {
   "cell_type": "markdown",
   "id": "9a624aaf",
   "metadata": {},
   "source": [
    "- might by random chance see extreme numbers of the ``t-statistic`` (``t-value``) albeit it never goes down to $0$ (just gets closer and closer to the x-axis) [7]"
   ]
  },
  {
   "cell_type": "code",
   "execution_count": 82,
   "id": "340b9187",
   "metadata": {},
   "outputs": [],
   "source": [
    "x_t=np.linspace(start=-4.0,stop=4.0,num=1000)"
   ]
  },
  {
   "cell_type": "code",
   "execution_count": 83,
   "id": "d8b6da08",
   "metadata": {},
   "outputs": [
    {
     "name": "stdout",
     "output_type": "stream",
     "text": [
      "A Student's t continuous random variable.\n"
     ]
    }
   ],
   "source": [
    "print(\"\\n\".join(ss.t.__doc__.split(\"\\n\")[:1]))"
   ]
  },
  {
   "cell_type": "code",
   "execution_count": 84,
   "id": "70ca0b0f",
   "metadata": {},
   "outputs": [
    {
     "name": "stdout",
     "output_type": "stream",
     "text": [
      "        Probability density function at x of the given RV.\n"
     ]
    }
   ],
   "source": [
    "print(\"\\n\".join(ss.t.pdf.__doc__.split(\"\\n\")[1:2]))"
   ]
  },
  {
   "cell_type": "code",
   "execution_count": 85,
   "id": "729afe49",
   "metadata": {},
   "outputs": [],
   "source": [
    "t=ss.t.pdf(x_t,dof)"
   ]
  },
  {
   "cell_type": "code",
   "execution_count": 86,
   "id": "eed31405",
   "metadata": {},
   "outputs": [],
   "source": [
    "tf=pd.DataFrame({\"x\":x_t,\"t\":t})"
   ]
  },
  {
   "cell_type": "code",
   "execution_count": 87,
   "id": "a8d0ddaf",
   "metadata": {},
   "outputs": [
    {
     "data": {
      "text/html": [
       "<div>\n",
       "<style scoped>\n",
       "    .dataframe tbody tr th:only-of-type {\n",
       "        vertical-align: middle;\n",
       "    }\n",
       "\n",
       "    .dataframe tbody tr th {\n",
       "        vertical-align: top;\n",
       "    }\n",
       "\n",
       "    .dataframe thead th {\n",
       "        text-align: right;\n",
       "    }\n",
       "</style>\n",
       "<table border=\"1\" class=\"dataframe\">\n",
       "  <thead>\n",
       "    <tr style=\"text-align: right;\">\n",
       "      <th></th>\n",
       "      <th>x</th>\n",
       "      <th>t</th>\n",
       "    </tr>\n",
       "  </thead>\n",
       "  <tbody>\n",
       "    <tr>\n",
       "      <th>0</th>\n",
       "      <td>-4.000000</td>\n",
       "      <td>0.000250</td>\n",
       "    </tr>\n",
       "    <tr>\n",
       "      <th>1</th>\n",
       "      <td>-3.991992</td>\n",
       "      <td>0.000257</td>\n",
       "    </tr>\n",
       "    <tr>\n",
       "      <th>2</th>\n",
       "      <td>-3.983984</td>\n",
       "      <td>0.000264</td>\n",
       "    </tr>\n",
       "    <tr>\n",
       "      <th>3</th>\n",
       "      <td>-3.975976</td>\n",
       "      <td>0.000271</td>\n",
       "    </tr>\n",
       "    <tr>\n",
       "      <th>4</th>\n",
       "      <td>-3.967968</td>\n",
       "      <td>0.000279</td>\n",
       "    </tr>\n",
       "    <tr>\n",
       "      <th>...</th>\n",
       "      <td>...</td>\n",
       "      <td>...</td>\n",
       "    </tr>\n",
       "    <tr>\n",
       "      <th>995</th>\n",
       "      <td>3.967968</td>\n",
       "      <td>0.000279</td>\n",
       "    </tr>\n",
       "    <tr>\n",
       "      <th>996</th>\n",
       "      <td>3.975976</td>\n",
       "      <td>0.000271</td>\n",
       "    </tr>\n",
       "    <tr>\n",
       "      <th>997</th>\n",
       "      <td>3.983984</td>\n",
       "      <td>0.000264</td>\n",
       "    </tr>\n",
       "    <tr>\n",
       "      <th>998</th>\n",
       "      <td>3.991992</td>\n",
       "      <td>0.000257</td>\n",
       "    </tr>\n",
       "    <tr>\n",
       "      <th>999</th>\n",
       "      <td>4.000000</td>\n",
       "      <td>0.000250</td>\n",
       "    </tr>\n",
       "  </tbody>\n",
       "</table>\n",
       "<p>1000 rows × 2 columns</p>\n",
       "</div>"
      ],
      "text/plain": [
       "            x         t\n",
       "0   -4.000000  0.000250\n",
       "1   -3.991992  0.000257\n",
       "2   -3.983984  0.000264\n",
       "3   -3.975976  0.000271\n",
       "4   -3.967968  0.000279\n",
       "..        ...       ...\n",
       "995  3.967968  0.000279\n",
       "996  3.975976  0.000271\n",
       "997  3.983984  0.000264\n",
       "998  3.991992  0.000257\n",
       "999  4.000000  0.000250\n",
       "\n",
       "[1000 rows x 2 columns]"
      ]
     },
     "execution_count": 87,
     "metadata": {},
     "output_type": "execute_result"
    }
   ],
   "source": [
    "tf"
   ]
  },
  {
   "cell_type": "code",
   "execution_count": 88,
   "id": "5879613c",
   "metadata": {},
   "outputs": [
    {
     "name": "stdout",
     "output_type": "stream",
     "text": [
      "        Percent point function (inverse of `cdf`) at q of the given RV.\n"
     ]
    }
   ],
   "source": [
    "print(\"\\n\".join(ss.t.ppf.__doc__.split(\"\\n\")[1:2]))"
   ]
  },
  {
   "cell_type": "code",
   "execution_count": 89,
   "id": "71b80b1f",
   "metadata": {
    "scrolled": false
   },
   "outputs": [],
   "source": [
    "tcrit=abs(ss.t.ppf(0.025,dof))"
   ]
  },
  {
   "cell_type": "code",
   "execution_count": 90,
   "id": "4d73a502",
   "metadata": {},
   "outputs": [
    {
     "data": {
      "text/plain": [
       "1.9908470685550523"
      ]
     },
     "execution_count": 90,
     "metadata": {},
     "output_type": "execute_result"
    }
   ],
   "source": [
    "tcrit"
   ]
  },
  {
   "cell_type": "code",
   "execution_count": 91,
   "id": "75546e70",
   "metadata": {},
   "outputs": [],
   "source": [
    "one=tf[tf[\"x\"]>=tcrit]"
   ]
  },
  {
   "cell_type": "code",
   "execution_count": 92,
   "id": "dda9b2fe",
   "metadata": {},
   "outputs": [
    {
     "data": {
      "text/html": [
       "<div>\n",
       "<style scoped>\n",
       "    .dataframe tbody tr th:only-of-type {\n",
       "        vertical-align: middle;\n",
       "    }\n",
       "\n",
       "    .dataframe tbody tr th {\n",
       "        vertical-align: top;\n",
       "    }\n",
       "\n",
       "    .dataframe thead th {\n",
       "        text-align: right;\n",
       "    }\n",
       "</style>\n",
       "<table border=\"1\" class=\"dataframe\">\n",
       "  <thead>\n",
       "    <tr style=\"text-align: right;\">\n",
       "      <th></th>\n",
       "      <th>x</th>\n",
       "      <th>t</th>\n",
       "    </tr>\n",
       "  </thead>\n",
       "  <tbody>\n",
       "    <tr>\n",
       "      <th>749</th>\n",
       "      <td>1.997998</td>\n",
       "      <td>0.055371</td>\n",
       "    </tr>\n",
       "    <tr>\n",
       "      <th>750</th>\n",
       "      <td>2.006006</td>\n",
       "      <td>0.054522</td>\n",
       "    </tr>\n",
       "    <tr>\n",
       "      <th>751</th>\n",
       "      <td>2.014014</td>\n",
       "      <td>0.053684</td>\n",
       "    </tr>\n",
       "    <tr>\n",
       "      <th>752</th>\n",
       "      <td>2.022022</td>\n",
       "      <td>0.052855</td>\n",
       "    </tr>\n",
       "    <tr>\n",
       "      <th>753</th>\n",
       "      <td>2.030030</td>\n",
       "      <td>0.052037</td>\n",
       "    </tr>\n",
       "    <tr>\n",
       "      <th>...</th>\n",
       "      <td>...</td>\n",
       "      <td>...</td>\n",
       "    </tr>\n",
       "    <tr>\n",
       "      <th>995</th>\n",
       "      <td>3.967968</td>\n",
       "      <td>0.000279</td>\n",
       "    </tr>\n",
       "    <tr>\n",
       "      <th>996</th>\n",
       "      <td>3.975976</td>\n",
       "      <td>0.000271</td>\n",
       "    </tr>\n",
       "    <tr>\n",
       "      <th>997</th>\n",
       "      <td>3.983984</td>\n",
       "      <td>0.000264</td>\n",
       "    </tr>\n",
       "    <tr>\n",
       "      <th>998</th>\n",
       "      <td>3.991992</td>\n",
       "      <td>0.000257</td>\n",
       "    </tr>\n",
       "    <tr>\n",
       "      <th>999</th>\n",
       "      <td>4.000000</td>\n",
       "      <td>0.000250</td>\n",
       "    </tr>\n",
       "  </tbody>\n",
       "</table>\n",
       "<p>251 rows × 2 columns</p>\n",
       "</div>"
      ],
      "text/plain": [
       "            x         t\n",
       "749  1.997998  0.055371\n",
       "750  2.006006  0.054522\n",
       "751  2.014014  0.053684\n",
       "752  2.022022  0.052855\n",
       "753  2.030030  0.052037\n",
       "..        ...       ...\n",
       "995  3.967968  0.000279\n",
       "996  3.975976  0.000271\n",
       "997  3.983984  0.000264\n",
       "998  3.991992  0.000257\n",
       "999  4.000000  0.000250\n",
       "\n",
       "[251 rows x 2 columns]"
      ]
     },
     "execution_count": 92,
     "metadata": {},
     "output_type": "execute_result"
    }
   ],
   "source": [
    "one"
   ]
  },
  {
   "cell_type": "code",
   "execution_count": 93,
   "id": "d793a520",
   "metadata": {},
   "outputs": [],
   "source": [
    "two=tf[tf[\"x\"]<=-tcrit]"
   ]
  },
  {
   "cell_type": "code",
   "execution_count": 94,
   "id": "f7598fc8",
   "metadata": {},
   "outputs": [
    {
     "data": {
      "text/html": [
       "<div>\n",
       "<style scoped>\n",
       "    .dataframe tbody tr th:only-of-type {\n",
       "        vertical-align: middle;\n",
       "    }\n",
       "\n",
       "    .dataframe tbody tr th {\n",
       "        vertical-align: top;\n",
       "    }\n",
       "\n",
       "    .dataframe thead th {\n",
       "        text-align: right;\n",
       "    }\n",
       "</style>\n",
       "<table border=\"1\" class=\"dataframe\">\n",
       "  <thead>\n",
       "    <tr style=\"text-align: right;\">\n",
       "      <th></th>\n",
       "      <th>x</th>\n",
       "      <th>t</th>\n",
       "    </tr>\n",
       "  </thead>\n",
       "  <tbody>\n",
       "    <tr>\n",
       "      <th>0</th>\n",
       "      <td>-4.000000</td>\n",
       "      <td>0.000250</td>\n",
       "    </tr>\n",
       "    <tr>\n",
       "      <th>1</th>\n",
       "      <td>-3.991992</td>\n",
       "      <td>0.000257</td>\n",
       "    </tr>\n",
       "    <tr>\n",
       "      <th>2</th>\n",
       "      <td>-3.983984</td>\n",
       "      <td>0.000264</td>\n",
       "    </tr>\n",
       "    <tr>\n",
       "      <th>3</th>\n",
       "      <td>-3.975976</td>\n",
       "      <td>0.000271</td>\n",
       "    </tr>\n",
       "    <tr>\n",
       "      <th>4</th>\n",
       "      <td>-3.967968</td>\n",
       "      <td>0.000279</td>\n",
       "    </tr>\n",
       "    <tr>\n",
       "      <th>...</th>\n",
       "      <td>...</td>\n",
       "      <td>...</td>\n",
       "    </tr>\n",
       "    <tr>\n",
       "      <th>246</th>\n",
       "      <td>-2.030030</td>\n",
       "      <td>0.052037</td>\n",
       "    </tr>\n",
       "    <tr>\n",
       "      <th>247</th>\n",
       "      <td>-2.022022</td>\n",
       "      <td>0.052855</td>\n",
       "    </tr>\n",
       "    <tr>\n",
       "      <th>248</th>\n",
       "      <td>-2.014014</td>\n",
       "      <td>0.053684</td>\n",
       "    </tr>\n",
       "    <tr>\n",
       "      <th>249</th>\n",
       "      <td>-2.006006</td>\n",
       "      <td>0.054522</td>\n",
       "    </tr>\n",
       "    <tr>\n",
       "      <th>250</th>\n",
       "      <td>-1.997998</td>\n",
       "      <td>0.055371</td>\n",
       "    </tr>\n",
       "  </tbody>\n",
       "</table>\n",
       "<p>251 rows × 2 columns</p>\n",
       "</div>"
      ],
      "text/plain": [
       "            x         t\n",
       "0   -4.000000  0.000250\n",
       "1   -3.991992  0.000257\n",
       "2   -3.983984  0.000264\n",
       "3   -3.975976  0.000271\n",
       "4   -3.967968  0.000279\n",
       "..        ...       ...\n",
       "246 -2.030030  0.052037\n",
       "247 -2.022022  0.052855\n",
       "248 -2.014014  0.053684\n",
       "249 -2.006006  0.054522\n",
       "250 -1.997998  0.055371\n",
       "\n",
       "[251 rows x 2 columns]"
      ]
     },
     "execution_count": 94,
     "metadata": {},
     "output_type": "execute_result"
    }
   ],
   "source": [
    "two"
   ]
  },
  {
   "cell_type": "markdown",
   "id": "32d0a3b6",
   "metadata": {},
   "source": [
    "- when calculating the ``t-statistic`` (``t-value``) in this particular situation there is a $2.5\\%$ chance on each side ($5\\%$ of the time - $5\\%$ chance) when the curves do coincide that the wrong decision will be made (deem both $C$ do not have the same $\\mu$) [5]"
   ]
  },
  {
   "cell_type": "markdown",
   "id": "daafdcc4",
   "metadata": {},
   "source": [
    "- if the ``t-value`` (``t-statistic``) was roughly between $2$ and $-2$ then there is no evidence to suggest that the two curves do not coincide [5] - there is a limited number of ``t-value`` (``t-statistic``) within this range [7]"
   ]
  },
  {
   "cell_type": "markdown",
   "id": "1d573512",
   "metadata": {},
   "source": [
    "- there exists an infinity of ``t-value`` (``t-statistic``) on the LHS and an infinity of ``t-value`` (``t-statistic``) on the RHS - any number less than $-2$ and any value greater than $2$ then its too extreme [5] therfore rejecting the idea the $C$ have the same curve [7]"
   ]
  },
  {
   "cell_type": "code",
   "execution_count": 95,
   "id": "c2c33bcf",
   "metadata": {},
   "outputs": [
    {
     "data": {
      "image/png": "[encoded data removed]",
      "text/plain": [
       "<Figure size 921.6x518.4 with 1 Axes>"
      ]
     },
     "metadata": {},
     "output_type": "display_data"
    }
   ],
   "source": [
    "fig,ax=plt.subplots()\n",
    "ax.plot(x_t,t)\n",
    "ax.fill_between(one[\"x\"],one[\"t\"],0,facecolor=\"red\")\n",
    "ax.fill_between(two[\"x\"],two[\"t\"],0,facecolor=\"red\")\n",
    "ax.set_xlabel(\"t-value (t-statistic)\")\n",
    "ax.set_ylabel(\"Sample Size (\"+r\"$C$\"+\" a & \"+r\"$C$ \"+\"b)\");"
   ]
  },
  {
   "cell_type": "markdown",
   "id": "52083162",
   "metadata": {},
   "source": [
    "< [Table of Contents](#top) | [References](#references) >\n",
    "<a id=\"solutionProbabilityDensityFunctionError\"></a>\n",
    "***\n",
    "###### Error\n",
    "***"
   ]
  },
  {
   "cell_type": "markdown",
   "id": "d7b8474c",
   "metadata": {},
   "source": [
    "- are the numbers in the sample $C$ ``a`` different than the numbers in the sample $C$ ``b`` (doing measurments on vaccine ``a`` is there enough evidence to suggest its different to vaccine ``b``) [6]"
   ]
  },
  {
   "cell_type": "markdown",
   "id": "10d7a814",
   "metadata": {},
   "source": [
    "- cannot get away from the fact that a wrong decision may be made (built into statistical tests) - it is the errors that enable the evidence to be produced and is the whole point of doing statistical tests [6]"
   ]
  },
  {
   "cell_type": "markdown",
   "id": "af42f361",
   "metadata": {},
   "source": [
    "- statistical tests such as the ``t-test`` trys to manage the error (quantify it in some way) and that is the best to hope for [6]"
   ]
  },
  {
   "cell_type": "markdown",
   "id": "f73b5a11",
   "metadata": {},
   "source": [
    "< [Table of Contents](#top) | [References](#references) >\n",
    "<a id=\"solutionProbabilityDensityFunctionErrorTypeIErrorFalsePositives\"></a>\n",
    "***\n",
    "###### Type I Errors (``False Positives``)\n",
    "***"
   ]
  },
  {
   "cell_type": "markdown",
   "id": "1fdc7574",
   "metadata": {},
   "source": [
    "- rejecting the $H_0$ when in fact should not have [7]"
   ]
  },
  {
   "cell_type": "code",
   "execution_count": 96,
   "id": "a9988abe",
   "metadata": {},
   "outputs": [
    {
     "data": {
      "text/plain": [
       "True"
      ]
     },
     "execution_count": 96,
     "metadata": {},
     "output_type": "execute_result"
    }
   ],
   "source": [
    "m_a==m_b_same_m_a # actual null hypothesis"
   ]
  },
  {
   "cell_type": "markdown",
   "id": "eb43ad88",
   "metadata": {},
   "source": [
    "- running a ``t-test`` rejecting the idea that the $C$ ``a`` and the $C$ ``b`` have the same $\\mu$ [6]"
   ]
  },
  {
   "cell_type": "code",
   "execution_count": 97,
   "id": "05a50f32",
   "metadata": {},
   "outputs": [
    {
     "data": {
      "text/plain": [
       "False"
      ]
     },
     "execution_count": 97,
     "metadata": {},
     "output_type": "execute_result"
    }
   ],
   "source": [
    "not(m_a==m_b_same_m_a) # assumption alternative hypothesis"
   ]
  },
  {
   "cell_type": "code",
   "execution_count": 98,
   "id": "4d8d5845",
   "metadata": {},
   "outputs": [],
   "source": [
    "s=0.2 # closer standard deviation"
   ]
  },
  {
   "cell_type": "markdown",
   "id": "ec81c28d",
   "metadata": {},
   "source": [
    "- running twenty-thousand ``t-test`` generating ``a`` numbers and ``b`` numbers each time but keeping the underlying curves the same (coincide) then the ``t-test`` should not reject the $H_0$ [6]"
   ]
  },
  {
   "cell_type": "code",
   "execution_count": 99,
   "id": "a2281737",
   "metadata": {},
   "outputs": [],
   "source": [
    "nTrails=20000"
   ]
  },
  {
   "cell_type": "markdown",
   "id": "82777ff6",
   "metadata": {},
   "source": [
    "- giving the ``t-test`` a $5\\%$ chance of determining both $C$ are different when they are not [6] - $5\\%$ chance of making the wrong decision (built-in) although both $C$ are generated from the same $\\mu$ albeit having extreme values [7]"
   ]
  },
  {
   "cell_type": "code",
   "execution_count": 100,
   "id": "26aa3eed",
   "metadata": {},
   "outputs": [],
   "source": [
    "nChance=0.05 # power of test "
   ]
  },
  {
   "cell_type": "markdown",
   "id": "92619a79",
   "metadata": {},
   "source": [
    "- the data suggests rejecting the $H_0$ - this result is a ``False Positive`` [6]"
   ]
  },
  {
   "cell_type": "code",
   "execution_count": 101,
   "id": "af29ebf4",
   "metadata": {},
   "outputs": [],
   "source": [
    "nRejects=0\n",
    "for nEachRun in range(nTrails):\n",
    "    a=np.random.normal(loc=m_a,scale=s,size=N)\n",
    "    b=np.random.normal(loc=m_b_same_m_a,scale=s,size=N)\n",
    "    if ss.ttest_ind(a=a,b=b)[1]<=nChance:\n",
    "        nRejects=nRejects+1"
   ]
  },
  {
   "cell_type": "code",
   "execution_count": 102,
   "id": "f0891630",
   "metadata": {},
   "outputs": [
    {
     "data": {
      "text/plain": [
       "'5.0%'"
      ]
     },
     "execution_count": 102,
     "metadata": {},
     "output_type": "execute_result"
    }
   ],
   "source": [
    "f\"{nChance*100}%\""
   ]
  },
  {
   "cell_type": "code",
   "execution_count": 103,
   "id": "f41f6849",
   "metadata": {},
   "outputs": [
    {
     "name": "stdout",
     "output_type": "stream",
     "text": [
      "Type I Error (False Positives): 4.92%\n"
     ]
    }
   ],
   "source": [
    "print(f\"Type I Error (False Positives): {100.0*nRejects/nTrails:0.2f}%\")"
   ]
  },
  {
   "cell_type": "markdown",
   "id": "dc62afde",
   "metadata": {},
   "source": [
    "- if it is determined there is a difference between vaccine ``a`` and vaccine ``b`` when in fact there is actually no difference is called a ``False Positive`` (typically when doing a vaccine the chance of this happening is more like $0.000001\\%$) [6]"
   ]
  },
  {
   "cell_type": "markdown",
   "id": "d934033f",
   "metadata": {},
   "source": [
    "< [Table of Contents](#top) | [References](#references) >\n",
    "<a id=\"solutionProbabilityDensityFunctionErrorTypeIErrorFalseNegatives\"></a>\n",
    "***\n",
    "###### Type II Errors (``False Negatives``)\n",
    "***"
   ]
  },
  {
   "cell_type": "markdown",
   "id": "fe681723",
   "metadata": {},
   "source": [
    "- rejecting the $H_1$ when in fact should not have [7] - running a ``t-test`` rejecting the idea that the $C$ ``a`` and the $C$ ``b`` do not have the same $\\mu$ ``(Eq. (5))`` [6]"
   ]
  },
  {
   "cell_type": "code",
   "execution_count": 104,
   "id": "46106452",
   "metadata": {},
   "outputs": [
    {
     "data": {
      "text/plain": [
       "False"
      ]
     },
     "execution_count": 104,
     "metadata": {},
     "output_type": "execute_result"
    }
   ],
   "source": [
    "m_a==m_b # actual alternative hypothesis"
   ]
  },
  {
   "cell_type": "code",
   "execution_count": 105,
   "id": "975da90c",
   "metadata": {},
   "outputs": [
    {
     "data": {
      "text/plain": [
       "True"
      ]
     },
     "execution_count": 105,
     "metadata": {},
     "output_type": "execute_result"
    }
   ],
   "source": [
    "not(m_a==m_b) # assumption null hypothesis"
   ]
  },
  {
   "cell_type": "markdown",
   "id": "56e9d3c8",
   "metadata": {},
   "source": [
    "- running twenty-thousand ``t-test`` generating ``a`` numbers and ``b`` numbers each time but keeping the underlying curves separated (not coincide) then the ``t-test`` should not reject the $H_1$ [6]"
   ]
  },
  {
   "cell_type": "code",
   "execution_count": 106,
   "id": "c9181f78",
   "metadata": {},
   "outputs": [
    {
     "data": {
      "text/plain": [
       "20000"
      ]
     },
     "execution_count": 106,
     "metadata": {},
     "output_type": "execute_result"
    }
   ],
   "source": [
    "nTrails"
   ]
  },
  {
   "cell_type": "code",
   "execution_count": 107,
   "id": "f6b81046",
   "metadata": {},
   "outputs": [
    {
     "data": {
      "text/plain": [
       "0.05"
      ]
     },
     "execution_count": 107,
     "metadata": {},
     "output_type": "execute_result"
    }
   ],
   "source": [
    "nChance # same p-value cutoff"
   ]
  },
  {
   "cell_type": "markdown",
   "id": "b15419cb",
   "metadata": {},
   "source": [
    "- the data suggests rejecting the $H_1$ - this result is a ``False Negative`` [6]"
   ]
  },
  {
   "cell_type": "code",
   "execution_count": 108,
   "id": "9b987950",
   "metadata": {},
   "outputs": [],
   "source": [
    "nDoNot=0\n",
    "for nEachRun in range(nTrails):\n",
    "    a=np.random.normal(loc=m_a,scale=s,size=N)\n",
    "    b=np.random.normal(loc=m_b,scale=s,size=N)\n",
    "    if ss.ttest_ind(a=a,b=b)[1]>nChance:\n",
    "        nDoNot=nDoNot+1"
   ]
  },
  {
   "cell_type": "code",
   "execution_count": 109,
   "id": "d7fa851c",
   "metadata": {},
   "outputs": [
    {
     "name": "stdout",
     "output_type": "stream",
     "text": [
      "Type II Error (False Negatives): 0.00%\n"
     ]
    }
   ],
   "source": [
    "print(f\"Type II Error (False Negatives): {100.0*nDoNot/nTrails:0.2f}%\")"
   ]
  },
  {
   "cell_type": "markdown",
   "id": "8dc4e0c9",
   "metadata": {},
   "source": [
    "- when the $\\mu$ (``m_a`` and ``m_b``) of each $C$ are closer together relative to the $\\sigma$ (``s``) then its easier to get ``False Negatives`` [6][7]"
   ]
  },
  {
   "cell_type": "code",
   "execution_count": 110,
   "id": "c711b6b8",
   "metadata": {},
   "outputs": [
    {
     "data": {
      "text/plain": [
       "1.5"
      ]
     },
     "execution_count": 110,
     "metadata": {},
     "output_type": "execute_result"
    }
   ],
   "source": [
    "m_a"
   ]
  },
  {
   "cell_type": "code",
   "execution_count": 111,
   "id": "d879b74d",
   "metadata": {},
   "outputs": [],
   "source": [
    "m_b_closer_m_a=1.6"
   ]
  },
  {
   "cell_type": "code",
   "execution_count": 112,
   "id": "f1ba1dfc",
   "metadata": {},
   "outputs": [
    {
     "data": {
      "text/plain": [
       "0.2"
      ]
     },
     "execution_count": 112,
     "metadata": {},
     "output_type": "execute_result"
    }
   ],
   "source": [
    "s"
   ]
  },
  {
   "cell_type": "code",
   "execution_count": 113,
   "id": "d222d5e9",
   "metadata": {},
   "outputs": [],
   "source": [
    "nDoNot=0\n",
    "for nEachRun in range(nTrails):\n",
    "    a=np.random.normal(loc=m_a,scale=s,size=N)\n",
    "    b=np.random.normal(loc=m_b_closer_m_a,scale=s,size=N)\n",
    "    if ss.ttest_ind(a=a,b=b)[1]>nChance:\n",
    "        nDoNot=nDoNot+1"
   ]
  },
  {
   "cell_type": "code",
   "execution_count": 114,
   "id": "1b35273b",
   "metadata": {},
   "outputs": [
    {
     "name": "stdout",
     "output_type": "stream",
     "text": [
      "Type II Error (False Negatives): 40.58%\n"
     ]
    }
   ],
   "source": [
    "print(f\"Type II Error (False Negatives): {100.0*nDoNot/nTrails:0.2f}%\")"
   ]
  },
  {
   "cell_type": "markdown",
   "id": "c1ea6b45",
   "metadata": {},
   "source": [
    "< [Table of Contents](#top) | [References](#references) >\n",
    "<a id=\"solutionMultipleSamples\"></a>\n",
    "***\n",
    "###### Multiple Samples\n",
    "***"
   ]
  },
  {
   "cell_type": "markdown",
   "id": "17c6e179",
   "metadata": {},
   "source": [
    "- adding an addition sample ($C$ ``c``) to the existing samples: i. $C$ ``a`` generated from  $\\mu$ ``m_a`` ``(Eq. (1))`` and ii. $C$ ``b_m_a`` generated from $\\mu$ ``m_b_same_m_a`` [7]"
   ]
  },
  {
   "cell_type": "code",
   "execution_count": 115,
   "id": "b73802c7",
   "metadata": {
    "scrolled": true
   },
   "outputs": [
    {
     "data": {
      "text/plain": [
       "1.5"
      ]
     },
     "execution_count": 115,
     "metadata": {},
     "output_type": "execute_result"
    }
   ],
   "source": [
    "m_a # generate collection a"
   ]
  },
  {
   "cell_type": "code",
   "execution_count": 116,
   "id": "1c2c4344",
   "metadata": {},
   "outputs": [
    {
     "data": {
      "text/plain": [
       "array([1.4131753 , 1.45272062, 1.69468081, 1.69370681, 1.33945574,\n",
       "       1.02040582, 1.58803602, 1.44548788, 1.66711342, 1.25171723,\n",
       "       1.7781829 , 1.55664395, 1.61019307, 1.95576947, 1.74291259,\n",
       "       1.46505143, 1.22606233, 1.37053906, 1.81496826, 1.36642206,\n",
       "       1.25727247, 1.45288657, 1.68197686, 1.9082386 , 1.67998512,\n",
       "       1.83343963, 1.33940353, 1.37874797, 1.59328973, 1.39163503,\n",
       "       1.39812479, 1.4627912 , 1.43744764, 1.39080769, 1.23747132,\n",
       "       1.59915798, 1.652739  , 1.49108572, 1.29244272, 1.4032197 ])"
      ]
     },
     "execution_count": 116,
     "metadata": {},
     "output_type": "execute_result"
    }
   ],
   "source": [
    "a # collection mean m_a"
   ]
  },
  {
   "cell_type": "code",
   "execution_count": 117,
   "id": "aeb65fe3",
   "metadata": {},
   "outputs": [
    {
     "data": {
      "text/plain": [
       "1.5"
      ]
     },
     "execution_count": 117,
     "metadata": {},
     "output_type": "execute_result"
    }
   ],
   "source": [
    "m_b_same_m_a # generate collection b_m_a"
   ]
  },
  {
   "cell_type": "code",
   "execution_count": 118,
   "id": "19733f81",
   "metadata": {},
   "outputs": [
    {
     "data": {
      "text/plain": [
       "array([2.55630546, 0.66411878, 1.37836582, 1.45702879, 2.65805044,\n",
       "       1.81058941, 2.16907149, 0.98705821, 1.81442526, 0.96381216,\n",
       "       1.05942672, 1.60389212, 2.1090295 , 0.95087656, 1.51818868,\n",
       "       0.66538916, 1.44654356, 1.54309004, 2.18691585, 1.19905894,\n",
       "       2.13976115, 2.07280039, 0.76446851, 1.12251987, 1.58889585,\n",
       "       1.52994502, 1.63704502, 1.99843186, 1.36404517, 1.81958609,\n",
       "       2.08645713, 1.74535784, 1.16262629, 1.23155343, 0.99275296,\n",
       "       2.11817495, 1.10648898, 2.00771451, 1.42241229, 2.14151102])"
      ]
     },
     "execution_count": 118,
     "metadata": {},
     "output_type": "execute_result"
    }
   ],
   "source": [
    "b_m_a # collection mean m_b_same_m_a"
   ]
  },
  {
   "cell_type": "code",
   "execution_count": 119,
   "id": "cbab7467",
   "metadata": {},
   "outputs": [
    {
     "data": {
      "text/html": [
       "<div>\n",
       "<style scoped>\n",
       "    .dataframe tbody tr th:only-of-type {\n",
       "        vertical-align: middle;\n",
       "    }\n",
       "\n",
       "    .dataframe tbody tr th {\n",
       "        vertical-align: top;\n",
       "    }\n",
       "\n",
       "    .dataframe thead th {\n",
       "        text-align: right;\n",
       "    }\n",
       "</style>\n",
       "<table border=\"1\" class=\"dataframe\">\n",
       "  <thead>\n",
       "    <tr style=\"text-align: right;\">\n",
       "      <th></th>\n",
       "      <th>Category</th>\n",
       "      <th>Value</th>\n",
       "    </tr>\n",
       "  </thead>\n",
       "  <tbody>\n",
       "    <tr>\n",
       "      <th>0</th>\n",
       "      <td>A</td>\n",
       "      <td>1.464596</td>\n",
       "    </tr>\n",
       "    <tr>\n",
       "      <th>1</th>\n",
       "      <td>A</td>\n",
       "      <td>1.235103</td>\n",
       "    </tr>\n",
       "    <tr>\n",
       "      <th>2</th>\n",
       "      <td>A</td>\n",
       "      <td>1.301457</td>\n",
       "    </tr>\n",
       "    <tr>\n",
       "      <th>3</th>\n",
       "      <td>A</td>\n",
       "      <td>1.318500</td>\n",
       "    </tr>\n",
       "    <tr>\n",
       "      <th>4</th>\n",
       "      <td>A</td>\n",
       "      <td>1.535597</td>\n",
       "    </tr>\n",
       "    <tr>\n",
       "      <th>...</th>\n",
       "      <td>...</td>\n",
       "      <td>...</td>\n",
       "    </tr>\n",
       "    <tr>\n",
       "      <th>75</th>\n",
       "      <td>B</td>\n",
       "      <td>2.118175</td>\n",
       "    </tr>\n",
       "    <tr>\n",
       "      <th>76</th>\n",
       "      <td>B</td>\n",
       "      <td>1.106489</td>\n",
       "    </tr>\n",
       "    <tr>\n",
       "      <th>77</th>\n",
       "      <td>B</td>\n",
       "      <td>2.007715</td>\n",
       "    </tr>\n",
       "    <tr>\n",
       "      <th>78</th>\n",
       "      <td>B</td>\n",
       "      <td>1.422412</td>\n",
       "    </tr>\n",
       "    <tr>\n",
       "      <th>79</th>\n",
       "      <td>B</td>\n",
       "      <td>2.141511</td>\n",
       "    </tr>\n",
       "  </tbody>\n",
       "</table>\n",
       "<p>80 rows × 2 columns</p>\n",
       "</div>"
      ],
      "text/plain": [
       "   Category     Value\n",
       "0         A  1.464596\n",
       "1         A  1.235103\n",
       "2         A  1.301457\n",
       "3         A  1.318500\n",
       "4         A  1.535597\n",
       "..      ...       ...\n",
       "75        B  2.118175\n",
       "76        B  1.106489\n",
       "77        B  2.007715\n",
       "78        B  1.422412\n",
       "79        B  2.141511\n",
       "\n",
       "[80 rows x 2 columns]"
      ]
     },
     "execution_count": 119,
     "metadata": {},
     "output_type": "execute_result"
    }
   ],
   "source": [
    "df_b_m_a # collections a b_m_a"
   ]
  },
  {
   "cell_type": "code",
   "execution_count": 120,
   "id": "ec607295",
   "metadata": {},
   "outputs": [],
   "source": [
    "m_c=3.0 # new sample mean"
   ]
  },
  {
   "cell_type": "code",
   "execution_count": 121,
   "id": "43d3ca39",
   "metadata": {},
   "outputs": [
    {
     "data": {
      "text/plain": [
       "True"
      ]
     },
     "execution_count": 121,
     "metadata": {},
     "output_type": "execute_result"
    }
   ],
   "source": [
    "s_a==s_b # standard deviation 0.5"
   ]
  },
  {
   "cell_type": "code",
   "execution_count": 122,
   "id": "68a3a249",
   "metadata": {},
   "outputs": [],
   "source": [
    "c=np.random.normal(loc=m_c,scale=s_b,size=N)"
   ]
  },
  {
   "cell_type": "code",
   "execution_count": 123,
   "id": "9cfdc0c0",
   "metadata": {},
   "outputs": [
    {
     "data": {
      "text/plain": [
       "array([2.55933475, 1.8734485 , 2.55574387, 2.9134729 , 3.185521  ,\n",
       "       3.80003591, 3.37192728, 2.93236798, 3.12194826, 2.45461741,\n",
       "       3.25466595, 2.36913428, 2.39659501, 2.6565041 , 2.63063657,\n",
       "       2.67883052, 2.98606817, 3.24176996, 3.24540661, 2.91223248,\n",
       "       3.25593637, 2.57876728, 3.41674859, 3.70260167, 3.42721615,\n",
       "       2.36120563, 3.31198882, 3.11128363, 3.85289403, 3.92975362,\n",
       "       3.41802443, 3.81628494, 2.35503795, 2.68076582, 4.03723721,\n",
       "       2.45425802, 2.56976207, 2.81178497, 2.79768877, 3.27958894])"
      ]
     },
     "execution_count": 123,
     "metadata": {},
     "output_type": "execute_result"
    }
   ],
   "source": [
    "c # collection mean m_c"
   ]
  },
  {
   "cell_type": "code",
   "execution_count": 124,
   "id": "5b21f385",
   "metadata": {},
   "outputs": [],
   "source": [
    "samples_a_b_c=[\"A\"]*N+[\"B\"]*N+[\"C\"]*N\n",
    "v=np.hstack([a,b_m_a,c])\n",
    "df_A_B_C=pd.DataFrame({\"Samples\":samples_a_b_c,\"Values\":v})"
   ]
  },
  {
   "cell_type": "code",
   "execution_count": 125,
   "id": "ec3f35f3",
   "metadata": {},
   "outputs": [
    {
     "data": {
      "text/html": [
       "<div>\n",
       "<style scoped>\n",
       "    .dataframe tbody tr th:only-of-type {\n",
       "        vertical-align: middle;\n",
       "    }\n",
       "\n",
       "    .dataframe tbody tr th {\n",
       "        vertical-align: top;\n",
       "    }\n",
       "\n",
       "    .dataframe thead th {\n",
       "        text-align: right;\n",
       "    }\n",
       "</style>\n",
       "<table border=\"1\" class=\"dataframe\">\n",
       "  <thead>\n",
       "    <tr style=\"text-align: right;\">\n",
       "      <th></th>\n",
       "      <th>Samples</th>\n",
       "      <th>Values</th>\n",
       "    </tr>\n",
       "  </thead>\n",
       "  <tbody>\n",
       "    <tr>\n",
       "      <th>0</th>\n",
       "      <td>A</td>\n",
       "      <td>1.413175</td>\n",
       "    </tr>\n",
       "    <tr>\n",
       "      <th>1</th>\n",
       "      <td>A</td>\n",
       "      <td>1.452721</td>\n",
       "    </tr>\n",
       "    <tr>\n",
       "      <th>2</th>\n",
       "      <td>A</td>\n",
       "      <td>1.694681</td>\n",
       "    </tr>\n",
       "    <tr>\n",
       "      <th>3</th>\n",
       "      <td>A</td>\n",
       "      <td>1.693707</td>\n",
       "    </tr>\n",
       "    <tr>\n",
       "      <th>4</th>\n",
       "      <td>A</td>\n",
       "      <td>1.339456</td>\n",
       "    </tr>\n",
       "    <tr>\n",
       "      <th>...</th>\n",
       "      <td>...</td>\n",
       "      <td>...</td>\n",
       "    </tr>\n",
       "    <tr>\n",
       "      <th>115</th>\n",
       "      <td>C</td>\n",
       "      <td>2.454258</td>\n",
       "    </tr>\n",
       "    <tr>\n",
       "      <th>116</th>\n",
       "      <td>C</td>\n",
       "      <td>2.569762</td>\n",
       "    </tr>\n",
       "    <tr>\n",
       "      <th>117</th>\n",
       "      <td>C</td>\n",
       "      <td>2.811785</td>\n",
       "    </tr>\n",
       "    <tr>\n",
       "      <th>118</th>\n",
       "      <td>C</td>\n",
       "      <td>2.797689</td>\n",
       "    </tr>\n",
       "    <tr>\n",
       "      <th>119</th>\n",
       "      <td>C</td>\n",
       "      <td>3.279589</td>\n",
       "    </tr>\n",
       "  </tbody>\n",
       "</table>\n",
       "<p>120 rows × 2 columns</p>\n",
       "</div>"
      ],
      "text/plain": [
       "    Samples    Values\n",
       "0         A  1.413175\n",
       "1         A  1.452721\n",
       "2         A  1.694681\n",
       "3         A  1.693707\n",
       "4         A  1.339456\n",
       "..      ...       ...\n",
       "115       C  2.454258\n",
       "116       C  2.569762\n",
       "117       C  2.811785\n",
       "118       C  2.797689\n",
       "119       C  3.279589\n",
       "\n",
       "[120 rows x 2 columns]"
      ]
     },
     "execution_count": 125,
     "metadata": {},
     "output_type": "execute_result"
    }
   ],
   "source": [
    "df_A_B_C"
   ]
  },
  {
   "cell_type": "markdown",
   "id": "4e0a58e8",
   "metadata": {},
   "source": [
    " - of the three samples ``C`` looks different to the ``A`` and ``B`` (samples ``A`` and ``B`` may appear different but this is random chance given both have the same $\\mu$) [7]"
   ]
  },
  {
   "cell_type": "code",
   "execution_count": 126,
   "id": "c59115b4",
   "metadata": {},
   "outputs": [
    {
     "data": {
      "image/png": "[encoded data removed]",
      "text/plain": [
       "<Figure size 360x360 with 1 Axes>"
      ]
     },
     "metadata": {},
     "output_type": "display_data"
    }
   ],
   "source": [
    "sns.catplot(x=\"Samples\",y=\"Values\",jitter=False,data=df_A_B_C);"
   ]
  },
  {
   "cell_type": "code",
   "execution_count": 127,
   "id": "18c8cbc6",
   "metadata": {},
   "outputs": [],
   "source": [
    "t_ssAvB,p_ssAvB=ss.ttest_ind(a,b_m_a) # A versus B"
   ]
  },
  {
   "cell_type": "markdown",
   "id": "f72986f8",
   "metadata": {},
   "source": [
    "- the ``t-test`` that compares ``A`` and ``B`` returns a ``p-value`` providing no evidence to suggest both come from different populations [7]"
   ]
  },
  {
   "cell_type": "code",
   "execution_count": 128,
   "id": "0e00edcd",
   "metadata": {},
   "outputs": [
    {
     "name": "stdout",
     "output_type": "stream",
     "text": [
      "0.48% probability (5% chance)\n"
     ]
    }
   ],
   "source": [
    "print(f\"{p_ssAvB:0.2f}% probability ({p_ssAvB*10:.0f}% chance)\")"
   ]
  },
  {
   "cell_type": "markdown",
   "id": "911401d5",
   "metadata": {},
   "source": [
    "- comparing ``A`` and ``C`` return a ``p-value`` providing evidence to suggest both came from different populations (true also for ``B`` and ``C``) [7]"
   ]
  },
  {
   "cell_type": "code",
   "execution_count": 129,
   "id": "ceae0eda",
   "metadata": {},
   "outputs": [],
   "source": [
    "t_ssAvC,p_ssAvC=ss.ttest_ind(a,c) # A versus C"
   ]
  },
  {
   "cell_type": "code",
   "execution_count": 130,
   "id": "72de39d2",
   "metadata": {},
   "outputs": [
    {
     "name": "stdout",
     "output_type": "stream",
     "text": [
      "0.00% probability (0% chance)\n"
     ]
    }
   ],
   "source": [
    "print(f\"{p_ssAvC:0.2f}% probability ({p_ssAvC*10:.0f}% chance)\")"
   ]
  },
  {
   "cell_type": "code",
   "execution_count": 131,
   "id": "64fc16c1",
   "metadata": {},
   "outputs": [],
   "source": [
    "t_ssBvC,p_ssBvC=ss.ttest_ind(b_m_a,c) # B versus C"
   ]
  },
  {
   "cell_type": "code",
   "execution_count": 132,
   "id": "1145fe5c",
   "metadata": {},
   "outputs": [
    {
     "name": "stdout",
     "output_type": "stream",
     "text": [
      "0.00% probability (0% chance)\n"
     ]
    }
   ],
   "source": [
    "print(f\"{p_ssBvC:0.2f}% probability ({p_ssBvC*10:.0f}% chance)\") "
   ]
  },
  {
   "cell_type": "markdown",
   "id": "32678515",
   "metadata": {},
   "source": [
    "- each of the samples (``A`` and ``B`` and ``C``) are used twice in the three tests therefore this increases the chance of making an error by performing a number of ``t-test`` in parallel (one after the other) [7]"
   ]
  },
  {
   "cell_type": "markdown",
   "id": "9751c18c",
   "metadata": {},
   "source": [
    "- if all the samples are generated from the same population (generated from the same $\\mu$) then every time a ``t-test`` is run using the critical value (cut-off) of $5\\%$ (both $C$ are different when both are not) there will be a high ``False Positive`` rate because of repetition [7]"
   ]
  },
  {
   "cell_type": "code",
   "execution_count": 133,
   "id": "dacf229c",
   "metadata": {},
   "outputs": [],
   "source": [
    "f_p=0 # count false positives"
   ]
  },
  {
   "cell_type": "code",
   "execution_count": 134,
   "id": "e0130215",
   "metadata": {},
   "outputs": [],
   "source": [
    "for i in range(1000): # running twenty-thousand tests\n",
    "    # samples same mean\n",
    "    sA=np.random.normal(loc=1.5,scale=0.3,size=N) # generate A sample\n",
    "    sB=np.random.normal(loc=1.5,scale=0.3,size=N) # generate B sample\n",
    "    sC=np.random.normal(loc=1.5,scale=0.3,size=N) # generate C sample\n",
    "    # perform the t-tests\n",
    "    t_ssAvB,p_ssAvB=ss.ttest_ind(a=sA,b=sB) # A versus B\n",
    "    t_ssAvC,p_ssAvC=ss.ttest_ind(a=sA,b=sC) # A versus C\n",
    "    t_ssBvC,p_ssBvC=ss.ttest_ind(a=sB,b=sC) # B versus C\n",
    "    if p_ssAvB<=nChance or p_ssAvC<=nChance or p_ssBvC<=nChance: # check for cut-off\n",
    "        f_p+=1"
   ]
  },
  {
   "cell_type": "code",
   "execution_count": 135,
   "id": "1d72e25a",
   "metadata": {},
   "outputs": [
    {
     "name": "stdout",
     "output_type": "stream",
     "text": [
      "Type I Error (False Positives): 13.2%\n"
     ]
    }
   ],
   "source": [
    "print(f\"Type I Error (False Positives): {f_p / 10}%\")"
   ]
  },
  {
   "cell_type": "markdown",
   "id": "c8781b87",
   "metadata": {},
   "source": [
    "***\n",
    "## END"
   ]
  },
  {
   "cell_type": "markdown",
   "id": "f1291269",
   "metadata": {},
   "source": [
    "< [Table of Contents](#top) | [Abstract](#abstract) | [Introduction](#introduction) | [Conclusion](#conclusion) | [References](#references) >\n",
    "<a id=\"solution\"></a>\n",
    "***\n",
    "## Solution\n",
    "***"
   ]
  },
  {
   "cell_type": "markdown",
   "id": "6ee51fa4",
   "metadata": {},
   "source": [
    "&#x1F6A7;"
   ]
  },
  {
   "cell_type": "markdown",
   "id": "681a4f11",
   "metadata": {},
   "source": [
    "<!-- - refer [Appendix](#appendix-df) to view the full dataset <a id=\"go-back-df\"></a> -->\n",
    "<!-- print(fGetModuleType(___x___),fDocumentation(___x___)) -->\n",
    "***\n",
    "## END"
   ]
  },
  {
   "cell_type": "markdown",
   "id": "28e9ffc8",
   "metadata": {},
   "source": [
    "< [Table of Contents](#top) | [Abstract](#abstract) | [Introduction](#introduction) | [Solution](#solution) | [References](#references) >\n",
    "<a id=\"conclusion\"></a>\n",
    "***\n",
    "## Conclusion\n",
    "***"
   ]
  },
  {
   "cell_type": "markdown",
   "id": "56d5e2c1",
   "metadata": {},
   "source": [
    "&#x1F6A7;"
   ]
  },
  {
   "cell_type": "markdown",
   "id": "840b765a",
   "metadata": {},
   "source": [
    "***\n",
    "## END"
   ]
  },
  {
   "cell_type": "markdown",
   "id": "e5961b4d",
   "metadata": {},
   "source": [
    "< [Table of Contents](#top) | [Abstract](#abstract) | [Introduction](#introduction) | [Solution](#solution) | [Conclusion](#conclusion) | [References](#references) >\n",
    "<a id=\"appendix\"></a>\n",
    "***\n",
    "## Appendix\n",
    "***"
   ]
  },
  {
   "cell_type": "markdown",
   "id": "93620b12",
   "metadata": {},
   "source": [
    "< [Table of Contents](#top) | [References](#references) >\n",
    "<a id=\"appendixSleep\"></a>\n",
    "***\n",
    "###### T-Test - Sleep Dataset \n",
    "***"
   ]
  },
  {
   "cell_type": "markdown",
   "id": "9d150aee",
   "metadata": {},
   "source": [
    "- doing a ``t-test`` on some real-world data (sleep dataset) [6]"
   ]
  },
  {
   "cell_type": "code",
   "execution_count": 133,
   "id": "c247b49d",
   "metadata": {},
   "outputs": [
    {
     "name": "stdout",
     "output_type": "stream",
     "text": [
      "Read a comma-separated values (csv) file into DataFrame.\n"
     ]
    }
   ],
   "source": [
    "print(\"\\n\".join(pd.read_csv.__doc__.split(\"\\n\")[1:2]))"
   ]
  },
  {
   "cell_type": "code",
   "execution_count": 134,
   "id": "bdfecc87",
   "metadata": {},
   "outputs": [],
   "source": [
    "dfsleep=pd.read_csv(\"https://vincentarelbundock.github.io/Rdatasets/csv/datasets/sleep.csv\")"
   ]
  },
  {
   "cell_type": "markdown",
   "id": "50546ca6",
   "metadata": {},
   "source": [
    "- two groups (``1`` and ``2``) plus associated person ``ID`` (each group) [6]"
   ]
  },
  {
   "cell_type": "code",
   "execution_count": 135,
   "id": "d0408ba2",
   "metadata": {},
   "outputs": [
    {
     "data": {
      "text/html": [
       "<div>\n",
       "<style scoped>\n",
       "    .dataframe tbody tr th:only-of-type {\n",
       "        vertical-align: middle;\n",
       "    }\n",
       "\n",
       "    .dataframe tbody tr th {\n",
       "        vertical-align: top;\n",
       "    }\n",
       "\n",
       "    .dataframe thead th {\n",
       "        text-align: right;\n",
       "    }\n",
       "</style>\n",
       "<table border=\"1\" class=\"dataframe\">\n",
       "  <thead>\n",
       "    <tr style=\"text-align: right;\">\n",
       "      <th></th>\n",
       "      <th>Unnamed: 0</th>\n",
       "      <th>extra</th>\n",
       "      <th>group</th>\n",
       "      <th>ID</th>\n",
       "    </tr>\n",
       "  </thead>\n",
       "  <tbody>\n",
       "    <tr>\n",
       "      <th>0</th>\n",
       "      <td>1</td>\n",
       "      <td>0.7</td>\n",
       "      <td>1</td>\n",
       "      <td>1</td>\n",
       "    </tr>\n",
       "    <tr>\n",
       "      <th>1</th>\n",
       "      <td>2</td>\n",
       "      <td>-1.6</td>\n",
       "      <td>1</td>\n",
       "      <td>2</td>\n",
       "    </tr>\n",
       "    <tr>\n",
       "      <th>2</th>\n",
       "      <td>3</td>\n",
       "      <td>-0.2</td>\n",
       "      <td>1</td>\n",
       "      <td>3</td>\n",
       "    </tr>\n",
       "    <tr>\n",
       "      <th>3</th>\n",
       "      <td>4</td>\n",
       "      <td>-1.2</td>\n",
       "      <td>1</td>\n",
       "      <td>4</td>\n",
       "    </tr>\n",
       "    <tr>\n",
       "      <th>4</th>\n",
       "      <td>5</td>\n",
       "      <td>-0.1</td>\n",
       "      <td>1</td>\n",
       "      <td>5</td>\n",
       "    </tr>\n",
       "    <tr>\n",
       "      <th>5</th>\n",
       "      <td>6</td>\n",
       "      <td>3.4</td>\n",
       "      <td>1</td>\n",
       "      <td>6</td>\n",
       "    </tr>\n",
       "    <tr>\n",
       "      <th>6</th>\n",
       "      <td>7</td>\n",
       "      <td>3.7</td>\n",
       "      <td>1</td>\n",
       "      <td>7</td>\n",
       "    </tr>\n",
       "    <tr>\n",
       "      <th>7</th>\n",
       "      <td>8</td>\n",
       "      <td>0.8</td>\n",
       "      <td>1</td>\n",
       "      <td>8</td>\n",
       "    </tr>\n",
       "    <tr>\n",
       "      <th>8</th>\n",
       "      <td>9</td>\n",
       "      <td>0.0</td>\n",
       "      <td>1</td>\n",
       "      <td>9</td>\n",
       "    </tr>\n",
       "    <tr>\n",
       "      <th>9</th>\n",
       "      <td>10</td>\n",
       "      <td>2.0</td>\n",
       "      <td>1</td>\n",
       "      <td>10</td>\n",
       "    </tr>\n",
       "    <tr>\n",
       "      <th>10</th>\n",
       "      <td>11</td>\n",
       "      <td>1.9</td>\n",
       "      <td>2</td>\n",
       "      <td>1</td>\n",
       "    </tr>\n",
       "    <tr>\n",
       "      <th>11</th>\n",
       "      <td>12</td>\n",
       "      <td>0.8</td>\n",
       "      <td>2</td>\n",
       "      <td>2</td>\n",
       "    </tr>\n",
       "    <tr>\n",
       "      <th>12</th>\n",
       "      <td>13</td>\n",
       "      <td>1.1</td>\n",
       "      <td>2</td>\n",
       "      <td>3</td>\n",
       "    </tr>\n",
       "    <tr>\n",
       "      <th>13</th>\n",
       "      <td>14</td>\n",
       "      <td>0.1</td>\n",
       "      <td>2</td>\n",
       "      <td>4</td>\n",
       "    </tr>\n",
       "    <tr>\n",
       "      <th>14</th>\n",
       "      <td>15</td>\n",
       "      <td>-0.1</td>\n",
       "      <td>2</td>\n",
       "      <td>5</td>\n",
       "    </tr>\n",
       "    <tr>\n",
       "      <th>15</th>\n",
       "      <td>16</td>\n",
       "      <td>4.4</td>\n",
       "      <td>2</td>\n",
       "      <td>6</td>\n",
       "    </tr>\n",
       "    <tr>\n",
       "      <th>16</th>\n",
       "      <td>17</td>\n",
       "      <td>5.5</td>\n",
       "      <td>2</td>\n",
       "      <td>7</td>\n",
       "    </tr>\n",
       "    <tr>\n",
       "      <th>17</th>\n",
       "      <td>18</td>\n",
       "      <td>1.6</td>\n",
       "      <td>2</td>\n",
       "      <td>8</td>\n",
       "    </tr>\n",
       "    <tr>\n",
       "      <th>18</th>\n",
       "      <td>19</td>\n",
       "      <td>4.6</td>\n",
       "      <td>2</td>\n",
       "      <td>9</td>\n",
       "    </tr>\n",
       "    <tr>\n",
       "      <th>19</th>\n",
       "      <td>20</td>\n",
       "      <td>3.4</td>\n",
       "      <td>2</td>\n",
       "      <td>10</td>\n",
       "    </tr>\n",
       "  </tbody>\n",
       "</table>\n",
       "</div>"
      ],
      "text/plain": [
       "    Unnamed: 0  extra  group  ID\n",
       "0            1    0.7      1   1\n",
       "1            2   -1.6      1   2\n",
       "2            3   -0.2      1   3\n",
       "3            4   -1.2      1   4\n",
       "4            5   -0.1      1   5\n",
       "5            6    3.4      1   6\n",
       "6            7    3.7      1   7\n",
       "7            8    0.8      1   8\n",
       "8            9    0.0      1   9\n",
       "9           10    2.0      1  10\n",
       "10          11    1.9      2   1\n",
       "11          12    0.8      2   2\n",
       "12          13    1.1      2   3\n",
       "13          14    0.1      2   4\n",
       "14          15   -0.1      2   5\n",
       "15          16    4.4      2   6\n",
       "16          17    5.5      2   7\n",
       "17          18    1.6      2   8\n",
       "18          19    4.6      2   9\n",
       "19          20    3.4      2  10"
      ]
     },
     "execution_count": 135,
     "metadata": {},
     "output_type": "execute_result"
    }
   ],
   "source": [
    "dfsleep"
   ]
  },
  {
   "cell_type": "markdown",
   "id": "ea015af2",
   "metadata": {},
   "source": [
    "- group ``1`` is a beforehand measure on a person via ``ID`` [6]"
   ]
  },
  {
   "cell_type": "code",
   "execution_count": 136,
   "id": "5c628be4",
   "metadata": {},
   "outputs": [],
   "source": [
    "drugA=dfsleep[dfsleep[\"group\"]==1] # extracting group ``1``"
   ]
  },
  {
   "cell_type": "code",
   "execution_count": 137,
   "id": "e53b807c",
   "metadata": {},
   "outputs": [
    {
     "data": {
      "text/html": [
       "<div>\n",
       "<style scoped>\n",
       "    .dataframe tbody tr th:only-of-type {\n",
       "        vertical-align: middle;\n",
       "    }\n",
       "\n",
       "    .dataframe tbody tr th {\n",
       "        vertical-align: top;\n",
       "    }\n",
       "\n",
       "    .dataframe thead th {\n",
       "        text-align: right;\n",
       "    }\n",
       "</style>\n",
       "<table border=\"1\" class=\"dataframe\">\n",
       "  <thead>\n",
       "    <tr style=\"text-align: right;\">\n",
       "      <th></th>\n",
       "      <th>Unnamed: 0</th>\n",
       "      <th>extra</th>\n",
       "      <th>group</th>\n",
       "      <th>ID</th>\n",
       "    </tr>\n",
       "  </thead>\n",
       "  <tbody>\n",
       "    <tr>\n",
       "      <th>0</th>\n",
       "      <td>1</td>\n",
       "      <td>0.7</td>\n",
       "      <td>1</td>\n",
       "      <td>1</td>\n",
       "    </tr>\n",
       "    <tr>\n",
       "      <th>1</th>\n",
       "      <td>2</td>\n",
       "      <td>-1.6</td>\n",
       "      <td>1</td>\n",
       "      <td>2</td>\n",
       "    </tr>\n",
       "    <tr>\n",
       "      <th>2</th>\n",
       "      <td>3</td>\n",
       "      <td>-0.2</td>\n",
       "      <td>1</td>\n",
       "      <td>3</td>\n",
       "    </tr>\n",
       "    <tr>\n",
       "      <th>3</th>\n",
       "      <td>4</td>\n",
       "      <td>-1.2</td>\n",
       "      <td>1</td>\n",
       "      <td>4</td>\n",
       "    </tr>\n",
       "    <tr>\n",
       "      <th>4</th>\n",
       "      <td>5</td>\n",
       "      <td>-0.1</td>\n",
       "      <td>1</td>\n",
       "      <td>5</td>\n",
       "    </tr>\n",
       "    <tr>\n",
       "      <th>5</th>\n",
       "      <td>6</td>\n",
       "      <td>3.4</td>\n",
       "      <td>1</td>\n",
       "      <td>6</td>\n",
       "    </tr>\n",
       "    <tr>\n",
       "      <th>6</th>\n",
       "      <td>7</td>\n",
       "      <td>3.7</td>\n",
       "      <td>1</td>\n",
       "      <td>7</td>\n",
       "    </tr>\n",
       "    <tr>\n",
       "      <th>7</th>\n",
       "      <td>8</td>\n",
       "      <td>0.8</td>\n",
       "      <td>1</td>\n",
       "      <td>8</td>\n",
       "    </tr>\n",
       "    <tr>\n",
       "      <th>8</th>\n",
       "      <td>9</td>\n",
       "      <td>0.0</td>\n",
       "      <td>1</td>\n",
       "      <td>9</td>\n",
       "    </tr>\n",
       "    <tr>\n",
       "      <th>9</th>\n",
       "      <td>10</td>\n",
       "      <td>2.0</td>\n",
       "      <td>1</td>\n",
       "      <td>10</td>\n",
       "    </tr>\n",
       "  </tbody>\n",
       "</table>\n",
       "</div>"
      ],
      "text/plain": [
       "   Unnamed: 0  extra  group  ID\n",
       "0           1    0.7      1   1\n",
       "1           2   -1.6      1   2\n",
       "2           3   -0.2      1   3\n",
       "3           4   -1.2      1   4\n",
       "4           5   -0.1      1   5\n",
       "5           6    3.4      1   6\n",
       "6           7    3.7      1   7\n",
       "7           8    0.8      1   8\n",
       "8           9    0.0      1   9\n",
       "9          10    2.0      1  10"
      ]
     },
     "execution_count": 137,
     "metadata": {},
     "output_type": "execute_result"
    }
   ],
   "source": [
    "drugA"
   ]
  },
  {
   "cell_type": "code",
   "execution_count": 138,
   "id": "de69fa4a",
   "metadata": {},
   "outputs": [
    {
     "name": "stdout",
     "output_type": "stream",
     "text": [
      "Sort by the values along either axis.\n"
     ]
    }
   ],
   "source": [
    "print(\"\\n\".join(drugA.sort_values.__doc__.split(\"\\n\")[1:2]))"
   ]
  },
  {
   "cell_type": "code",
   "execution_count": 139,
   "id": "9adef60b",
   "metadata": {},
   "outputs": [],
   "source": [
    "drugA=drugA.sort_values(by=\"ID\")"
   ]
  },
  {
   "cell_type": "code",
   "execution_count": 140,
   "id": "9fff3fbf",
   "metadata": {},
   "outputs": [
    {
     "name": "stdout",
     "output_type": "stream",
     "text": [
      "        Convert the DataFrame to a NumPy array.\n"
     ]
    }
   ],
   "source": [
    "print(\"\\n\".join(drugA.to_numpy.__doc__.split(\"\\n\")[1:2]))"
   ]
  },
  {
   "cell_type": "code",
   "execution_count": 141,
   "id": "2ad464fc",
   "metadata": {},
   "outputs": [],
   "source": [
    "drugA=drugA[\"extra\"].to_numpy()"
   ]
  },
  {
   "cell_type": "markdown",
   "id": "2fcd61ab",
   "metadata": {},
   "source": [
    "- group ``2`` is a second measure after some intervention on the same person via ``ID`` [6]"
   ]
  },
  {
   "cell_type": "code",
   "execution_count": 142,
   "id": "52db02dd",
   "metadata": {},
   "outputs": [],
   "source": [
    "drugB=dfsleep[dfsleep[\"group\"]==2] # extracting group ``2``"
   ]
  },
  {
   "cell_type": "code",
   "execution_count": 143,
   "id": "7414b3bf",
   "metadata": {},
   "outputs": [
    {
     "data": {
      "text/html": [
       "<div>\n",
       "<style scoped>\n",
       "    .dataframe tbody tr th:only-of-type {\n",
       "        vertical-align: middle;\n",
       "    }\n",
       "\n",
       "    .dataframe tbody tr th {\n",
       "        vertical-align: top;\n",
       "    }\n",
       "\n",
       "    .dataframe thead th {\n",
       "        text-align: right;\n",
       "    }\n",
       "</style>\n",
       "<table border=\"1\" class=\"dataframe\">\n",
       "  <thead>\n",
       "    <tr style=\"text-align: right;\">\n",
       "      <th></th>\n",
       "      <th>Unnamed: 0</th>\n",
       "      <th>extra</th>\n",
       "      <th>group</th>\n",
       "      <th>ID</th>\n",
       "    </tr>\n",
       "  </thead>\n",
       "  <tbody>\n",
       "    <tr>\n",
       "      <th>10</th>\n",
       "      <td>11</td>\n",
       "      <td>1.9</td>\n",
       "      <td>2</td>\n",
       "      <td>1</td>\n",
       "    </tr>\n",
       "    <tr>\n",
       "      <th>11</th>\n",
       "      <td>12</td>\n",
       "      <td>0.8</td>\n",
       "      <td>2</td>\n",
       "      <td>2</td>\n",
       "    </tr>\n",
       "    <tr>\n",
       "      <th>12</th>\n",
       "      <td>13</td>\n",
       "      <td>1.1</td>\n",
       "      <td>2</td>\n",
       "      <td>3</td>\n",
       "    </tr>\n",
       "    <tr>\n",
       "      <th>13</th>\n",
       "      <td>14</td>\n",
       "      <td>0.1</td>\n",
       "      <td>2</td>\n",
       "      <td>4</td>\n",
       "    </tr>\n",
       "    <tr>\n",
       "      <th>14</th>\n",
       "      <td>15</td>\n",
       "      <td>-0.1</td>\n",
       "      <td>2</td>\n",
       "      <td>5</td>\n",
       "    </tr>\n",
       "    <tr>\n",
       "      <th>15</th>\n",
       "      <td>16</td>\n",
       "      <td>4.4</td>\n",
       "      <td>2</td>\n",
       "      <td>6</td>\n",
       "    </tr>\n",
       "    <tr>\n",
       "      <th>16</th>\n",
       "      <td>17</td>\n",
       "      <td>5.5</td>\n",
       "      <td>2</td>\n",
       "      <td>7</td>\n",
       "    </tr>\n",
       "    <tr>\n",
       "      <th>17</th>\n",
       "      <td>18</td>\n",
       "      <td>1.6</td>\n",
       "      <td>2</td>\n",
       "      <td>8</td>\n",
       "    </tr>\n",
       "    <tr>\n",
       "      <th>18</th>\n",
       "      <td>19</td>\n",
       "      <td>4.6</td>\n",
       "      <td>2</td>\n",
       "      <td>9</td>\n",
       "    </tr>\n",
       "    <tr>\n",
       "      <th>19</th>\n",
       "      <td>20</td>\n",
       "      <td>3.4</td>\n",
       "      <td>2</td>\n",
       "      <td>10</td>\n",
       "    </tr>\n",
       "  </tbody>\n",
       "</table>\n",
       "</div>"
      ],
      "text/plain": [
       "    Unnamed: 0  extra  group  ID\n",
       "10          11    1.9      2   1\n",
       "11          12    0.8      2   2\n",
       "12          13    1.1      2   3\n",
       "13          14    0.1      2   4\n",
       "14          15   -0.1      2   5\n",
       "15          16    4.4      2   6\n",
       "16          17    5.5      2   7\n",
       "17          18    1.6      2   8\n",
       "18          19    4.6      2   9\n",
       "19          20    3.4      2  10"
      ]
     },
     "execution_count": 143,
     "metadata": {},
     "output_type": "execute_result"
    }
   ],
   "source": [
    "drugB"
   ]
  },
  {
   "cell_type": "code",
   "execution_count": 144,
   "id": "02ad1f6f",
   "metadata": {},
   "outputs": [],
   "source": [
    "drugB=drugB.sort_values(by=\"ID\") # sort by ID"
   ]
  },
  {
   "cell_type": "code",
   "execution_count": 145,
   "id": "86eea804",
   "metadata": {},
   "outputs": [],
   "source": [
    "drugB = drugB[\"extra\"].to_numpy() # to numpy array"
   ]
  },
  {
   "cell_type": "markdown",
   "id": "716eaa7a",
   "metadata": {},
   "source": [
    "- the first number of ``drugA`` is paired with the first number of ``drugB`` etc [6]"
   ]
  },
  {
   "cell_type": "code",
   "execution_count": 146,
   "id": "d9dff172",
   "metadata": {},
   "outputs": [
    {
     "data": {
      "text/plain": [
       "array([ 0.7, -1.6, -0.2, -1.2, -0.1,  3.4,  3.7,  0.8,  0. ,  2. ])"
      ]
     },
     "execution_count": 146,
     "metadata": {},
     "output_type": "execute_result"
    }
   ],
   "source": [
    "drugA"
   ]
  },
  {
   "cell_type": "code",
   "execution_count": 147,
   "id": "640b0e7e",
   "metadata": {},
   "outputs": [
    {
     "data": {
      "text/plain": [
       "array([ 1.9,  0.8,  1.1,  0.1, -0.1,  4.4,  5.5,  1.6,  4.6,  3.4])"
      ]
     },
     "execution_count": 147,
     "metadata": {},
     "output_type": "execute_result"
    }
   ],
   "source": [
    "drugB"
   ]
  },
  {
   "cell_type": "markdown",
   "id": "71da9a52",
   "metadata": {},
   "source": [
    "- testing if there is a difference between ``drugA`` and ``drugB`` [6]"
   ]
  },
  {
   "cell_type": "code",
   "execution_count": 148,
   "id": "1c91691c",
   "metadata": {},
   "outputs": [
    {
     "name": "stdout",
     "output_type": "stream",
     "text": [
      "    Calculate the t-test on TWO RELATED samples of scores, a and b.\n",
      "\n",
      "    This is a two-sided test for the null hypothesis that 2 related or\n",
      "    repeated samples have identical average (expected) values.\n"
     ]
    }
   ],
   "source": [
    "print(\"\\n\".join(ss.ttest_rel.__doc__.split(\"\\n\")[1:5]))"
   ]
  },
  {
   "cell_type": "code",
   "execution_count": 149,
   "id": "8c1c40a0",
   "metadata": {},
   "outputs": [
    {
     "data": {
      "text/plain": [
       "Ttest_relResult(statistic=-4.062127683382037, pvalue=0.00283289019738427)"
      ]
     },
     "execution_count": 149,
     "metadata": {},
     "output_type": "execute_result"
    }
   ],
   "source": [
    "ss.ttest_rel(a=drugA,b=drugB)"
   ]
  },
  {
   "cell_type": "markdown",
   "id": "6e516672",
   "metadata": {},
   "source": [
    "- using a $0.5$ confidence level can reject this as it looks like there is a difference between ``drugA`` and ``drugB`` [6]"
   ]
  },
  {
   "cell_type": "code",
   "execution_count": 150,
   "id": "122dcbf4",
   "metadata": {},
   "outputs": [
    {
     "data": {
      "text/plain": [
       "'pvalue: 0.00283289019738427'"
      ]
     },
     "execution_count": 150,
     "metadata": {},
     "output_type": "execute_result"
    }
   ],
   "source": [
    "f\"pvalue: {ss.ttest_rel(a=drugA,b=drugB)[1]}\""
   ]
  },
  {
   "cell_type": "markdown",
   "id": "419569fa",
   "metadata": {},
   "source": [
    "- another type of ``t-test`` called the one sample (or a single sample which is the paired sample ``t-test``) asks the question if subtracting the numbers in ``drugA`` from ``drugB`` is the average zero [6]"
   ]
  },
  {
   "cell_type": "code",
   "execution_count": 151,
   "id": "d88ca3a2",
   "metadata": {},
   "outputs": [
    {
     "name": "stdout",
     "output_type": "stream",
     "text": [
      "    Calculate the T-test for the mean of ONE group of scores.\n",
      "\n",
      "    This is a two-sided test for the null hypothesis that the expected value\n",
      "    (mean) of a sample of independent observations `a` is equal to the given\n",
      "    population mean, `popmean`.\n"
     ]
    }
   ],
   "source": [
    "print(\"\\n\".join(ss.ttest_1samp.__doc__.split(\"\\n\")[1:6]))"
   ]
  },
  {
   "cell_type": "code",
   "execution_count": 152,
   "id": "3238ba75",
   "metadata": {},
   "outputs": [
    {
     "data": {
      "text/plain": [
       "Ttest_1sampResult(statistic=4.062127683382037, pvalue=0.00283289019738427)"
      ]
     },
     "execution_count": 152,
     "metadata": {},
     "output_type": "execute_result"
    }
   ],
   "source": [
    "ss.ttest_1samp(a=drugB-drugA,popmean=0)"
   ]
  },
  {
   "cell_type": "code",
   "execution_count": 153,
   "id": "8c1b6563",
   "metadata": {},
   "outputs": [
    {
     "data": {
      "text/plain": [
       "'pvalue: 0.00283289019738427'"
      ]
     },
     "execution_count": 153,
     "metadata": {},
     "output_type": "execute_result"
    }
   ],
   "source": [
    "f\"pvalue: {ss.ttest_1samp(a=drugA-drugB,popmean=0)[1]}\""
   ]
  },
  {
   "cell_type": "code",
   "execution_count": 154,
   "id": "8ac2a867",
   "metadata": {},
   "outputs": [
    {
     "data": {
      "text/plain": [
       "True"
      ]
     },
     "execution_count": 154,
     "metadata": {},
     "output_type": "execute_result"
    }
   ],
   "source": [
    "ss.ttest_rel(a=drugA,b=drugB)[1]==ss.ttest_1samp(a=drugB-drugA,popmean=0)[1]"
   ]
  },
  {
   "cell_type": "markdown",
   "id": "123f6728",
   "metadata": {},
   "source": [
    "- overview of not just ``t-tests`` but an overview of the typical way to use statistics to do things like hypothesis testing (traditional old way of doing statistics) [6]"
   ]
  },
  {
   "cell_type": "markdown",
   "id": "4ac24de1",
   "metadata": {},
   "source": [
    "***\n",
    "## END"
   ]
  },
  {
   "cell_type": "markdown",
   "id": "cd89ff02",
   "metadata": {},
   "source": [
    "< [Table of Contents](#top) | [Abstract](#abstract) | [Introduction](#introduction) | [Solution](#solution) | [Conclusion](#conclusion) | [References](#references) >\n",
    "<a id=\"references\"></a>\n",
    "***\n",
    "## References\n",
    "***\n",
    "&nbsp;&nbsp;&nbsp;&nbsp;&nbsp;&nbsp;&nbsp;&nbsp;&nbsp;[1] B. Foltz, \"Statistics 101 - ANOVA, A Visual Introduction,\" [youtube.com](https://web.archive.org/web/20210930195145/https://www.youtube.com/watch?v=0Vj2V2qRU10), April 2013.\n",
    "\n",
    "&nbsp;&nbsp;&nbsp;&nbsp;&nbsp;&nbsp;&nbsp;&nbsp;&nbsp;[2] I. McLoughlin, \"t-tests in Python setup,\" GMIT, October 2020.\n",
    "\n",
    "&nbsp;&nbsp;&nbsp;&nbsp;&nbsp;&nbsp;&nbsp;&nbsp;&nbsp;[3] I. McLoughlin, \"Simulating data for a t-test,\" GMIT, October 2020.\n",
    "\n",
    "&nbsp;&nbsp;&nbsp;&nbsp;&nbsp;&nbsp;&nbsp;&nbsp;&nbsp;[4] I. McLoughlin, \"Running a t-test in Python,\" GMIT, October 2020.\n",
    "\n",
    "&nbsp;&nbsp;&nbsp;&nbsp;&nbsp;&nbsp;&nbsp;&nbsp;&nbsp;[5] I. McLoughlin, \"Interpreting a t-test,\" GMIT, October 2020.\n",
    "\n",
    "&nbsp;&nbsp;&nbsp;&nbsp;&nbsp;&nbsp;&nbsp;&nbsp;&nbsp;[6] I. McLoughlin, \"Errors and playing with t-tests,\" GMIT, October 2020.\n",
    "\n",
    "&nbsp;&nbsp;&nbsp;&nbsp;&nbsp;&nbsp;&nbsp;&nbsp;&nbsp;[7] I. McLoughlin, \"From t-tests to ANOVA,\" GMIT, October 2020.\n",
    "\n",
    "&nbsp;&nbsp;&nbsp;&nbsp;&nbsp;&nbsp;&nbsp;&nbsp;&nbsp;[8] D. Rowntree, \"Statistics without Tears,\" Penguin, page 73, 2018.\n",
    "\n",
    "&nbsp;&nbsp;&nbsp;&nbsp;&nbsp;&nbsp;&nbsp;&nbsp;&nbsp;[9] 365 Data Science, \"Hypothesis testing. Null vs alternative,\" [youtube.com](https://www.youtube.com/watch?v=ZzeXCKd5a18), August 2017.\n",
    "\n",
    "&nbsp;&nbsp;&nbsp;&nbsp;&nbsp;&nbsp;&nbsp;[10] I. McLoughlin, \"Practical t-tests in Python,\" GMIT, October 2019."
   ]
  },
  {
   "cell_type": "markdown",
   "id": "16b74beb",
   "metadata": {},
   "source": [
    "***\n",
    "## END"
   ]
  },
  {
   "cell_type": "markdown",
   "id": "899c1783",
   "metadata": {},
   "source": [
    "# END JUPYTER NOTEBOOK"
   ]
  }
 ],
 "metadata": {
  "kernelspec": {
   "display_name": "Python 3",
   "language": "python",
   "name": "python3"
  },
  "language_info": {
   "codemirror_mode": {
    "name": "ipython",
    "version": 3
   },
   "file_extension": ".py",
   "mimetype": "text/x-python",
   "name": "python",
   "nbconvert_exporter": "python",
   "pygments_lexer": "ipython3",
   "version": "3.8.8"
  }
 },
 "nbformat": 4,
 "nbformat_minor": 5
}
