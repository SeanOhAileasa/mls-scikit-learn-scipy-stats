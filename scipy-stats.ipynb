{
 "cells": [
  {
   "cell_type": "code",
   "execution_count": null,
   "id": "76b6aaa9",
   "metadata": {},
   "outputs": [
    {
     "data": {
      "text/html": [
       "<script>Jupyter.notebook.kernel.restart()</script>"
      ]
     },
     "metadata": {},
     "output_type": "display_data"
    }
   ],
   "source": [
    "from IPython.core.display import display_html\n",
    "display_html(\"<script>Jupyter.notebook.kernel.restart()</script>\",raw=True)"
   ]
  },
  {
   "cell_type": "code",
   "execution_count": 1,
   "id": "19093beb",
   "metadata": {},
   "outputs": [
    {
     "data": {
      "text/html": [
       "<style>.container { width:100% !important; }</style>"
      ],
      "text/plain": [
       "<IPython.core.display.HTML object>"
      ]
     },
     "metadata": {},
     "output_type": "display_data"
    },
    {
     "data": {
      "text/html": [
       "<style>.container { width:100% !important; }</style>"
      ],
      "text/plain": [
       "<IPython.core.display.HTML object>"
      ]
     },
     "metadata": {},
     "output_type": "display_data"
    }
   ],
   "source": [
    "from sys import path; path.insert(1,\"../src\");\n",
    "import fubar; from importlib import reload; reload(fubar);"
   ]
  },
  {
   "cell_type": "markdown",
   "id": "616b0550",
   "metadata": {},
   "source": [
    "***\n",
    "< [GMIT Data Analytics](https://web.archive.org/web/20201029063153/https://www.gmit.ie/computer-science-and-applied-physics/higher-diploma-science-computing-data-analytics-ict) | [Home](https://github.com/SeanOhAileasa) | [README](https://github.com/SeanOhAileasa/mls-scikit-learn-scipy-stats/blob/main/README.md) >\n",
    "\n",
    "[![GMIT](https://github.com/SeanOhAileasa/SeanOhAileasa/blob/master/rc/gmit.png?raw=true)](https://web.archive.org/web/20201029063153/https://www.gmit.ie/computer-science-and-applied-physics/higher-diploma-science-computing-data-analytics-ict)\n",
    "\n",
    "## Machine Learning & Statistics, Winter 21/22\n",
    "### Due: last commit on or before December 19th, 2021\n",
    "### Topic: [``scipy-stats``](https://nbviewer.jupyter.org/github/SeanOhAileasa/mls-scikit-learn-scipy-stats/blob/main/scipy-stats.ipynb)\n",
    "***"
   ]
  },
  {
   "cell_type": "markdown",
   "id": "4bcc9989",
   "metadata": {},
   "source": [
    "Winter 21/22 assessment for the ``Machine Learning & Statistics`` module (5 Credits) of the ``Higher Diploma in Science in Computing (Data Analytics) (H.Dip)`` programme (75 Credits) at **Galway-Mayo Institute of Technology (GMIT)**.\n",
    "\n",
    "***\n",
    "## Instructions\n",
    "***\n",
    "\n",
    "- Overview of the ``scipy-stats`` Python library.\n",
    "\n",
    "\n",
    "- Perform a hypothesis test using ``ANOVA`` on an appropriate dataset and ensuring the appropriate underlying ``ANOVA`` are met, then perform and display the results using ``scipy-stats``.\n",
    "\n",
    "\n",
    "- Using plots and other visualisations to enhance the notebook for viewers."
   ]
  },
  {
   "cell_type": "markdown",
   "id": "e1449819",
   "metadata": {},
   "source": [
    "<a id=\"top\"></a>\n",
    "***\n",
    "## Table of Contents\n",
    "***\n",
    "\n",
    "## [Project Management](#ppm)\n",
    "\n",
    "* [Commit](#ppmCommit) <br/><br/>\n",
    "    * [History](#ppmCommitHistory) <br/><br/>\n",
    "* [Planning](#ppmPlanning) <br/><br/>\n",
    "    * [Research](#ppmGettingStartedResearch) <br/><br/>\n",
    "    * [Development](#ppmGettingStartedDevelopment) <br/><br/>\n",
    "    * [Consistency](#ppmGettingStartedConsistency) <br/><br/>\n",
    "    * [Documentation](#ppmGettingStartedDocumentation) <br/><br/>\n",
    "* [Considerations](#considerations) <br/><br/>\n",
    "    * [Coding Conventions](#codingConventions)\n",
    "    \n",
    "## [Abstract](#abstract)\n",
    "\n",
    "## [Introduction](#introduction)\n",
    "\n",
    "- &#x1F6A7;\n",
    "\n",
    "## [Solution](#solution)\n",
    "\n",
    "- &#x1F6A7;\n",
    "\n",
    "## [Conclusion](#conclusion)\n",
    "\n",
    "- &#x1F6A7;\n",
    "\n",
    "## [Appendix](#appendix)\n",
    "\n",
    "- &#x1F6A7;"
   ]
  },
  {
   "cell_type": "markdown",
   "id": "bc989e6f",
   "metadata": {},
   "source": [
    "***\n",
    "## END"
   ]
  },
  {
   "cell_type": "markdown",
   "id": "ae1fa62c",
   "metadata": {},
   "source": [
    "< [Table of Contents](#top) | [Abstract](#abstract) | [Introduction](#introduction) | [Solution](#solution) | [Conclusion](#conclusion) | [References](#references) >\n",
    "<a id=\"ppm\"></a>\n",
    "***\n",
    "## Project Management\n",
    "***"
   ]
  },
  {
   "cell_type": "markdown",
   "id": "406f3255",
   "metadata": {},
   "source": [
    "< [Table of Contents](#top) | [References](#references) >\n",
    "<a id=\"ppmCommit\"></a>\n",
    "***\n",
    "### Commit\n",
    "***"
   ]
  },
  {
   "cell_type": "code",
   "execution_count": 1,
   "id": "2acb5420",
   "metadata": {},
   "outputs": [
    {
     "name": "stdout",
     "output_type": "stream",
     "text": [
      "30 Sep 2021 21:09:21\n"
     ]
    }
   ],
   "source": [
    "%%script bash\n",
    "date"
   ]
  },
  {
   "cell_type": "markdown",
   "id": "9ad433a7",
   "metadata": {},
   "source": [
    "```python\n",
    "\"DAY:79 - [Notebook: scipy-stats]: (Last Commit) i. Blank Jupiter notebook created and; ii. submitted GitHub repository URL to GMIT. (Abstract) Brief introductory blurb about the analysis of variance (ANOVA) and its application beyond comparing just two populations (t-test). (Propose) Researching t-tests and especially F-Ratios (central part of ANOVA) before proceeding.\"\n",
    "```"
   ]
  },
  {
   "cell_type": "code",
   "execution_count": 2,
   "id": "98d1b626",
   "metadata": {},
   "outputs": [],
   "source": [
    "exit()"
   ]
  },
  {
   "cell_type": "markdown",
   "id": "c280ee62",
   "metadata": {},
   "source": [
    "< [Table of Contents](#top) | [References](#references) >\n",
    "<a id=\"ppmCommitHistory\"></a>\n",
    "***\n",
    "###### History\n",
    "***"
   ]
  },
  {
   "cell_type": "code",
   "execution_count": 1,
   "id": "f810b6e4",
   "metadata": {},
   "outputs": [
    {
     "name": "stdout",
     "output_type": "stream",
     "text": [
      "commit 023bf6b96aca8dfb2ea833cba6fc6101b8f334ad\n",
      "Author: SeanOhAileasa <seanohaileasa@protonmail.com>\n",
      "Date:   Wed Sep 29 19:44:12 2021 +0100\n",
      "\n",
      "    DAY:80 - [Notebook: scikit-learn]: (Last Commit) i. Blank Jupiter notebook created and; ii. submitted GitHub repository URL to GMIT. (Abstract) Introductory blurb about scikit-learn. (Introduction) Short blurb on each scikit-learn algorithms of interest: i. classification; ii. regression and iii. clustering. Classification thought of in terms of labelling data (e.g., images of hand drawn digits). Regression thought of in terms of fitting a line to a set of points (e.g., all of science). Clustering thought of in terms of grouping like items together (e.g., iris dataset). (Propose) Researching classification by simulating a collection of data and introducing sklearn.cluster.\n",
      "\n",
      "commit 39127b924e9bd70b79bacd7c3abb363390364bb6\n",
      "Author: SeanOhAileasa <seanohaileasa@protonmail.com>\n",
      "Date:   Mon Sep 27 15:42:14 2021 +0100\n",
      "\n",
      "    add repository ./mls-scikit-learn-scipy-stats\n"
     ]
    }
   ],
   "source": [
    "%%script bash\n",
    "git log"
   ]
  },
  {
   "cell_type": "code",
   "execution_count": 2,
   "id": "cb91ae66",
   "metadata": {},
   "outputs": [],
   "source": [
    "exit()"
   ]
  },
  {
   "cell_type": "markdown",
   "id": "7462b02d",
   "metadata": {},
   "source": [
    "< [Table of Contents](#top) | [References](#references) >\n",
    "<a id=\"ppmPlanning\"></a>\n",
    "***\n",
    "## Planning\n",
    "***"
   ]
  },
  {
   "cell_type": "markdown",
   "id": "409f7bf5",
   "metadata": {},
   "source": [
    "- Keeping in mind:\n",
    "\n",
    "i) GMIT assessment submission marking scheme; and \n",
    "\n",
    "ii) impression given to someone who is looking at this repository, endeavour to provide direct evidence of each of the items listed in each category where applicable (``Research`` - ``Development`` - ``Consistency`` - ``Documentation``)."
   ]
  },
  {
   "cell_type": "markdown",
   "id": "d27a8f39",
   "metadata": {},
   "source": [
    "< [Table of Contents](#top) | [References](#references) >\n",
    "<a id=\"ppmGettingStartedResearch\"></a>\n",
    "***\n",
    "###### Research\n",
    "***"
   ]
  },
  {
   "cell_type": "markdown",
   "id": "54ca4d6c",
   "metadata": {},
   "source": [
    "- GMIT: **\"Evidence of research performed on topic; submission based on referenced literature, particularly academic literature; evidence of understanding of the documentation for any software or libraries used.\"**"
   ]
  },
  {
   "cell_type": "markdown",
   "id": "b5d20382",
   "metadata": {},
   "source": [
    "- Investigation of packages used as demonstrated by references, background information, and approach: References will be in the format:\n",
    "\n",
    "```\n",
    "[referenceNumber] authorNames, referenceTitle, locationWebsiteBookVideo, dateMonthYear.\n",
    "```"
   ]
  },
  {
   "cell_type": "markdown",
   "id": "af4ffe9e",
   "metadata": {},
   "source": [
    "- Demonstrating work complete with appropriate references and not just for the problem but for the level of understanding of the problem."
   ]
  },
  {
   "cell_type": "markdown",
   "id": "1d4d8f2b",
   "metadata": {},
   "source": [
    "- Code commentary will include details of package, module, object (if applicable) to demonstrate understanding of software documentation and libraries used.\n",
    "\n",
    "```python\n",
    "# b_T_hird_P_arty-imports\n",
    "from matplotlib.pyplot import plot\n",
    "```\n",
    "```python\n",
    "# package matplotlib - module pyplot\n",
    "plot(x,y)\n",
    "```"
   ]
  },
  {
   "cell_type": "markdown",
   "id": "0f3b4bc4",
   "metadata": {},
   "source": [
    "< [Table of Contents](#top) | [References](#references) >\n",
    "<a id=\"ppmGettingStartedDevelopment\"></a>\n",
    "***\n",
    "###### Development\n",
    "***"
   ]
  },
  {
   "cell_type": "markdown",
   "id": "df845398",
   "metadata": {},
   "source": [
    "- GMIT: **\"Environment can be set up as described; code works without tweaking and as described; code is efficient, clean, and clear; evidence of consideration of standards and conventions appropriate to code of this kind.\"**"
   ]
  },
  {
   "cell_type": "markdown",
   "id": "74c59aa8",
   "metadata": {},
   "source": [
    "- Clear, well-written, and efficient code with appropriate comments - using Jupyter Notebook markdown cells to summarise concise workings. "
   ]
  },
  {
   "cell_type": "markdown",
   "id": "5fbaa3f2",
   "metadata": {},
   "source": [
    "- As much as possible use the ``Style Guide for Python Code`` [Guido van Rossum](https://web.archive.org/web/20201029095211/https://www.python.org/dev/peps/pep-0008/). Refer user-defined [Coding Conventions](#codingConventions)."
   ]
  },
  {
   "cell_type": "markdown",
   "id": "436d1355",
   "metadata": {},
   "source": [
    "< [Table of Contents](#top) | [References](#references) >\n",
    "<a id=\"ppmGettingStartedConsistency\"></a>\n",
    "***\n",
    "###### Consistency\n",
    "***"
   ]
  },
  {
   "cell_type": "markdown",
   "id": "0a8b1854",
   "metadata": {},
   "source": [
    "- GMIT: **\"Evidence of planning and project management; pragmatic attitude to work as evidenced by well-considered commit history; commits are of a reasonable size; consideration of how commit history will be perceived by others.\"**"
   ]
  },
  {
   "cell_type": "markdown",
   "id": "3cab841c",
   "metadata": {},
   "source": [
    "- Git commit blurb to include number of days outstanding before deadline (if applicable)."
   ]
  },
  {
   "cell_type": "markdown",
   "id": "bdcb459c",
   "metadata": {},
   "source": [
    "- Commits to highlight changes made since the last commit so that reviews of the git history can demonstrate compartmentation of work into the different sections."
   ]
  },
  {
   "cell_type": "markdown",
   "id": "0b7678e5",
   "metadata": {},
   "source": [
    "< [Table of Contents](#top) | [References](#references) >\n",
    "<a id=\"ppmGettingStartedDocumentation\"></a>\n",
    "***\n",
    "###### Documentation\n",
    "***"
   ]
  },
  {
   "cell_type": "markdown",
   "id": "53a0d5d9",
   "metadata": {},
   "source": [
    "- GMIT: **\"Clear documentation of how to create an environment in which any code will run, how to prepare the code for running, how to run the code including setting any options or flags, and what to expect upon running the code. Concise descriptions of code in comments and README.\"**"
   ]
  },
  {
   "cell_type": "markdown",
   "id": "aef6008a",
   "metadata": {},
   "source": [
    "- Include descriptions/plots of theoretical and practical aspects of the problem(s) - comments to be very concise for ease of readability."
   ]
  },
  {
   "cell_type": "markdown",
   "id": "54e2e162",
   "metadata": {},
   "source": [
    "- Descriptions of code requiring further explanation will be presented in Jupyter Notebook markdown cells prior to code execution."
   ]
  },
  {
   "cell_type": "markdown",
   "id": "8e7551b0",
   "metadata": {},
   "source": [
    "< [Table of Contents](#top) | [References](#references) >\n",
    "<a id=\"considerations\"></a>\n",
    "***\n",
    "### Considerations\n",
    "***"
   ]
  },
  {
   "cell_type": "markdown",
   "id": "dd3973c6",
   "metadata": {},
   "source": [
    "- Using the four listed categories (``Research`` - ``Development`` - ``Consistency`` - ``Documentation``) in an attempt to not only focus on programming but also look at the information (data) and manipulating the data and coming up with techniques."
   ]
  },
  {
   "cell_type": "markdown",
   "id": "c766c472",
   "metadata": {},
   "source": [
    "- Sometimes the most complex algorithms are counter-intuitive but do work and have been proven to work. Sometimes only a few lines of code is required to complete a topic/section - endeavour to explain the development of the algorithm and the reasoning behind why/how the code works."
   ]
  },
  {
   "cell_type": "markdown",
   "id": "21519f48",
   "metadata": {},
   "source": [
    "- Jupyter Notebook text formatting/presentation to be tidied up closer to the deadline (if applicable)."
   ]
  },
  {
   "cell_type": "markdown",
   "id": "b1cc071c",
   "metadata": {},
   "source": [
    "< [Table of Contents](#top) | [References](#references) >\n",
    "<a id=\"codingConventions\"></a>\n",
    "***\n",
    "###### Coding Conventions\n",
    "***"
   ]
  },
  {
   "cell_type": "markdown",
   "id": "67d78ffb",
   "metadata": {},
   "source": [
    "- user-defined function / name (variable) - start with letters as follows\n",
    "\n",
    "| Example       | Signify \t\t          |\n",
    "| :------------ |:------------------------|\n",
    "|\tf        \t|\tuser-defined function |\n",
    "|\tn        \t|\tname - no variables   |"
   ]
  },
  {
   "cell_type": "markdown",
   "id": "0024e4bd",
   "metadata": {},
   "source": [
    "***\n",
    "## END"
   ]
  },
  {
   "cell_type": "markdown",
   "id": "0c88ab4a",
   "metadata": {},
   "source": [
    "< [Table of Contents](#top) | [Introduction](#introduction) | [Solution](#solution) | [Conclusion](#conclusion) | [References](#references) >\n",
    "<a id=\"abstract\"></a>\n",
    "***\n",
    "## Abstract\n",
    "***"
   ]
  },
  {
   "cell_type": "markdown",
   "id": "14617072",
   "metadata": {},
   "source": [
    "- ``F-Ratios`` are simply a ratio of two variances and are a central part of ``ANOVA`` [1]"
   ]
  },
  {
   "cell_type": "markdown",
   "id": "380014da",
   "metadata": {},
   "source": [
    "- the independent sample ``t-tests`` compares two random samples - the matched sample ``t-test`` is when each measurement is maybe the same person or the same machine [1]"
   ]
  },
  {
   "cell_type": "markdown",
   "id": "120128a9",
   "metadata": {},
   "source": [
    "- the real-world is much more complex than just limiting to the comparison of two populations [1]"
   ]
  },
  {
   "cell_type": "markdown",
   "id": "eec3f0cf",
   "metadata": {},
   "source": [
    "- the analysis of variance (more commonly known ``ANOVA``) allows us to move beyond comparing just two populations [1]"
   ]
  },
  {
   "cell_type": "markdown",
   "id": "e16c0704",
   "metadata": {},
   "source": [
    "- with ``ANOVA`` we can compare multiple populations and even subgroups of those populations and can investigate how two groups interact with each other quantitatively - many experimental research designs use ``ANOVA`` for these very reasons [1]"
   ]
  },
  {
   "cell_type": "markdown",
   "id": "c2b02fff",
   "metadata": {},
   "source": [
    "- ``ANOVA`` greatly expands what we are able to do in statistics [1]"
   ]
  },
  {
   "cell_type": "markdown",
   "id": "3fa461fc",
   "metadata": {},
   "source": [
    "***\n",
    "## END"
   ]
  },
  {
   "cell_type": "markdown",
   "id": "d319e57d",
   "metadata": {},
   "source": [
    "< [Table of Contents](#top) | [Abstract](#abstract) | [Solution](#solution) | [Conclusion](#conclusion) | [References](#references) >\n",
    "<a id=\"introduction\"></a>\n",
    "***\n",
    "## Introduction\n",
    "***"
   ]
  },
  {
   "cell_type": "markdown",
   "id": "6e7e3f1e",
   "metadata": {},
   "source": [
    "&#x1F6A7;"
   ]
  },
  {
   "cell_type": "markdown",
   "id": "c8781b87",
   "metadata": {},
   "source": [
    "***\n",
    "## END"
   ]
  },
  {
   "cell_type": "markdown",
   "id": "f1291269",
   "metadata": {},
   "source": [
    "< [Table of Contents](#top) | [Abstract](#abstract) | [Introduction](#introduction) | [Conclusion](#conclusion) | [References](#references) >\n",
    "<a id=\"solution\"></a>\n",
    "***\n",
    "## Solution\n",
    "***"
   ]
  },
  {
   "cell_type": "markdown",
   "id": "6ee51fa4",
   "metadata": {},
   "source": [
    "&#x1F6A7;"
   ]
  },
  {
   "cell_type": "markdown",
   "id": "681a4f11",
   "metadata": {},
   "source": [
    "<!-- - refer [Appendix](#appendix-df) to view the full dataset <a id=\"go-back-df\"></a> -->\n",
    "<!-- print(fGetModuleType(___x___),fDocumentation(___x___)) -->\n",
    "***\n",
    "## END"
   ]
  },
  {
   "cell_type": "markdown",
   "id": "28e9ffc8",
   "metadata": {},
   "source": [
    "< [Table of Contents](#top) | [Abstract](#abstract) | [Introduction](#introduction) | [Solution](#solution) | [References](#references) >\n",
    "<a id=\"conclusion\"></a>\n",
    "***\n",
    "## Conclusion\n",
    "***"
   ]
  },
  {
   "cell_type": "markdown",
   "id": "56d5e2c1",
   "metadata": {},
   "source": [
    "&#x1F6A7;"
   ]
  },
  {
   "cell_type": "markdown",
   "id": "840b765a",
   "metadata": {},
   "source": [
    "***\n",
    "## END"
   ]
  },
  {
   "cell_type": "markdown",
   "id": "e0e42d51",
   "metadata": {},
   "source": [
    "< [Table of Contents](#top) | [Abstract](#abstract) | [Introduction](#introduction) | [Solution](#solution) | [Conclusion](#conclusion) | [References](#references) >\n",
    "<a id=\"references\"></a>\n",
    "***\n",
    "## References\n",
    "***\n",
    "&nbsp;&nbsp;&nbsp;&nbsp;&nbsp;&nbsp;&nbsp;&nbsp;&nbsp;[1] B. Foltz, \"Statistics 101 - ANOVA, A Visual Introduction,\" [youtube.com](https://web.archive.org/web/20210930195145/https://www.youtube.com/watch?v=0Vj2V2qRU10), April 2013."
   ]
  },
  {
   "cell_type": "markdown",
   "id": "b33c372a",
   "metadata": {},
   "source": [
    "***\n",
    "## END"
   ]
  },
  {
   "cell_type": "markdown",
   "id": "e5961b4d",
   "metadata": {},
   "source": [
    "< [Table of Contents](#top) | [Abstract](#abstract) | [Introduction](#introduction) | [Solution](#solution) | [Conclusion](#conclusion) | [References](#references) >\n",
    "<a id=\"appendix\"></a>\n",
    "***\n",
    "## Appendix\n",
    "***"
   ]
  },
  {
   "cell_type": "markdown",
   "id": "00d82a82",
   "metadata": {},
   "source": [
    "***\n",
    "## END"
   ]
  },
  {
   "cell_type": "markdown",
   "id": "899c1783",
   "metadata": {},
   "source": [
    "# END JUPYTER NOTEBOOK"
   ]
  }
 ],
 "metadata": {
  "kernelspec": {
   "display_name": "Python 3 (ipykernel)",
   "language": "python",
   "name": "python3"
  },
  "language_info": {
   "codemirror_mode": {
    "name": "ipython",
    "version": 3
   },
   "file_extension": ".py",
   "mimetype": "text/x-python",
   "name": "python",
   "nbconvert_exporter": "python",
   "pygments_lexer": "ipython3",
   "version": "3.8.11"
  }
 },
 "nbformat": 4,
 "nbformat_minor": 5
}
