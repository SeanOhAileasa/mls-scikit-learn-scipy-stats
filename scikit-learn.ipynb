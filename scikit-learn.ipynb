{
 "cells": [
  {
   "cell_type": "code",
   "execution_count": null,
   "id": "76b6aaa9",
   "metadata": {},
   "outputs": [
    {
     "data": {
      "text/html": [
       "<script>Jupyter.notebook.kernel.restart()</script>"
      ]
     },
     "metadata": {},
     "output_type": "display_data"
    }
   ],
   "source": [
    "from IPython.core.display import display_html\n",
    "display_html(\"<script>Jupyter.notebook.kernel.restart()</script>\",raw=True)"
   ]
  },
  {
   "cell_type": "code",
   "execution_count": 1,
   "id": "19093beb",
   "metadata": {},
   "outputs": [
    {
     "data": {
      "text/html": [
       "<style>.container { width:100% !important; }</style>"
      ],
      "text/plain": [
       "<IPython.core.display.HTML object>"
      ]
     },
     "metadata": {},
     "output_type": "display_data"
    },
    {
     "data": {
      "text/html": [
       "<style>.container { width:100% !important; }</style>"
      ],
      "text/plain": [
       "<IPython.core.display.HTML object>"
      ]
     },
     "metadata": {},
     "output_type": "display_data"
    }
   ],
   "source": [
    "from sys import path; path.insert(1,\"../src\");\n",
    "import fubar; from importlib import reload; reload(fubar);"
   ]
  },
  {
   "cell_type": "markdown",
   "id": "616b0550",
   "metadata": {},
   "source": [
    "***\n",
    "< [GMIT Data Analytics](https://web.archive.org/web/20201029063153/https://www.gmit.ie/computer-science-and-applied-physics/higher-diploma-science-computing-data-analytics-ict) | [Home](https://github.com/SeanOhAileasa) | [README](https://github.com/SeanOhAileasa/mls-scikit-learn-scipy-stats/blob/main/README.md) >\n",
    "\n",
    "[![GMIT](https://github.com/SeanOhAileasa/SeanOhAileasa/blob/master/rc/gmit.png?raw=true)](https://web.archive.org/web/20201029063153/https://www.gmit.ie/computer-science-and-applied-physics/higher-diploma-science-computing-data-analytics-ict)\n",
    "\n",
    "## Machine Learning & Statistics, Winter 21/22\n",
    "### Due: last commit on or before December 19th, 2021\n",
    "### Topic: [``scikit-learn``](https://nbviewer.jupyter.org/github/SeanOhAileasa/mls-scikit-learn-scipy-stats/blob/main/scikit-learn.ipynb)\n",
    "***"
   ]
  },
  {
   "cell_type": "markdown",
   "id": "4bcc9989",
   "metadata": {},
   "source": [
    "Winter 21/22 assessment for the ``Machine Learning & Statistics`` module (5 Credits) of the ``Higher Diploma in Science in Computing (Data Analytics) (H.Dip)`` programme (75 Credits) at **Galway-Mayo Institute of Technology (GMIT)**.\n",
    "\n",
    "***\n",
    "## Instructions\n",
    "***\n",
    "\n",
    "- Overview of the ``scikit-learn`` Python library.\n",
    "\n",
    "\n",
    "- Demonstrations of three interesting ``scikit-learn`` algorithms.\n",
    "\n",
    "\n",
    "- Using plots and other visualisations to enhance the notebook for viewers."
   ]
  },
  {
   "cell_type": "markdown",
   "id": "e1449819",
   "metadata": {},
   "source": [
    "<a id=\"top\"></a>\n",
    "***\n",
    "## Table of Contents\n",
    "***\n",
    "\n",
    "## [Project Management](#ppm)\n",
    "\n",
    "* [Outstanding](#outstanding) <br/><br/>\n",
    "    * [DAY:20 - Due Date](#outstandingday20) <br/><br/>\n",
    "* [Commit](#ppmCommit) <br/><br/>\n",
    "    * [History](#ppmCommitHistory) <br/><br/>\n",
    "* [Planning](#ppmPlanning) <br/><br/>\n",
    "    * [Research](#ppmGettingStartedResearch) <br/><br/>\n",
    "    * [Development](#ppmGettingStartedDevelopment) <br/><br/>\n",
    "    * [Consistency](#ppmGettingStartedConsistency) <br/><br/>\n",
    "    * [Documentation](#ppmGettingStartedDocumentation) <br/><br/>\n",
    "* [Considerations](#considerations) <br/><br/>\n",
    "    * [Coding Conventions](#codingConventions)\n",
    "\n",
    "## [Abstract](#abstract)\n",
    "\n",
    "## [Introduction](#introduction)\n",
    "\n",
    "* [Classification](#classification) <br/><br/>\n",
    "* [Regression](#regression) <br/><br/>\n",
    "* [Clustering](#clustering) <br/><br/>\n",
    "    * [Demonstration](#clusteringDemonstrations) &#x1F6A7; <br/><br/>\n",
    "        * [K-Means Clustering](#clusteringKMeansClustering) &#x1F6A7; <br/><br/>\n",
    "            * [``sklearn.cluster.KMeans``](#clusteringsklearnclusterkmeans) <br/><br/>\n",
    "    * [Visualisation](#clusteringVisualisation) <br/><br/>\n",
    "        * [New Values](#clusteringVisualisationAddNewValues) <br/><br/>\n",
    "        * [Cluster Centre](#clusteringVisualisationClusterCentre) \n",
    "        \n",
    "## [Solution](#solution)\n",
    "\n",
    "- &#x1F6A7;\n",
    "\n",
    "## [Conclusion](#conclusion)\n",
    "\n",
    "- &#x1F6A7;\n",
    "\n",
    "## [Appendix](#appendix)\n",
    "\n",
    "- &#x1F6A7;"
   ]
  },
  {
   "cell_type": "markdown",
   "id": "bc989e6f",
   "metadata": {},
   "source": [
    "***\n",
    "## END"
   ]
  },
  {
   "cell_type": "markdown",
   "id": "3bc2600c",
   "metadata": {},
   "source": [
    "< [Table of Contents](#top) | [Abstract](#abstract) | [Introduction](#introduction) | [Solution](#solution) | [Conclusion](#conclusion) | [References](#references) >\n",
    "<a id=\"ppm\"></a>\n",
    "***\n",
    "## Project Management\n",
    "***"
   ]
  },
  {
   "cell_type": "markdown",
   "id": "5faa3198",
   "metadata": {},
   "source": [
    "< [Table of Contents](#top) | [References](#references) >\n",
    "<a id=\"outstanding\"></a>\n",
    "***\n",
    "### Outstanding\n",
    "***"
   ]
  },
  {
   "cell_type": "markdown",
   "id": "714654a7",
   "metadata": {},
   "source": [
    "< [Table of Contents](#top) | [References](#references) >\n",
    "<a id=\"outstandingday20\"></a>\n",
    "***\n",
    "###### DAY:20 - Due Date\n",
    "***"
   ]
  },
  {
   "cell_type": "markdown",
   "id": "9ba51900",
   "metadata": {},
   "source": [
    "- introductory blurbs about scikit-learn and each of the scikit-learn algorithms of interest require more depth and explanation [[commit](https://github.com/SeanOhAileasa/mls-scikit-learn-scipy-stats/tree/023bf6b96aca8dfb2ea833cba6fc6101b8f334ad)]"
   ]
  },
  {
   "cell_type": "markdown",
   "id": "96251f1a",
   "metadata": {},
   "source": [
    "< [Table of Contents](#top) | [References](#references) >\n",
    "<a id=\"ppmCommit\"></a>\n",
    "***\n",
    "### Commit\n",
    "***"
   ]
  },
  {
   "cell_type": "code",
   "execution_count": 1,
   "id": "888950d5",
   "metadata": {},
   "outputs": [
    {
     "name": "stdout",
     "output_type": "stream",
     "text": [
      "02 Oct 2021 21:06:00\n"
     ]
    }
   ],
   "source": [
    "%%script bash\n",
    "date"
   ]
  },
  {
   "cell_type": "markdown",
   "id": "78441caa",
   "metadata": {},
   "source": [
    "```python\n",
    "\"DAY:77 - [Notebook: scikit-learn]: (Last Commit) Reengineered example code from the sklearn.cluster.KMeans documentation to be supported with simulated data before moving onto a real-world implementation (re. Solution). (Introduction) Using matplotlib.pyplot plotting documentation example dataset (converting into an appropriate format beforehand). Once the x and y values are separated the plot appears to support the fact there exists two distinct groups of points. The KMeans algorithm determines if two distinct groups exist (allows for a human to be able to determine). Visually changed the colour of the second cluster to distinct both groups and added two new points to test KMeans. Using the KMeans prediction the new points are coloured according to associated (predicted) cluster. Plotting what the KMeans algorithm took as the centre of each clusters gives an indication how the algorithm came to its prediction. (Propose) Creating a clustering simulation with plotting to further develop understand of the sklearn.cluster.KMeans algorithm.\n",
    "```"
   ]
  },
  {
   "cell_type": "code",
   "execution_count": 2,
   "id": "013ca567",
   "metadata": {},
   "outputs": [],
   "source": [
    "exit()"
   ]
  },
  {
   "cell_type": "markdown",
   "id": "a7ca0299",
   "metadata": {},
   "source": [
    "< [Table of Contents](#top) | [References](#references) >\n",
    "<a id=\"ppmCommitHistory\"></a>\n",
    "***\n",
    "###### History\n",
    "***"
   ]
  },
  {
   "cell_type": "code",
   "execution_count": 1,
   "id": "f39bcf39",
   "metadata": {},
   "outputs": [
    {
     "name": "stdout",
     "output_type": "stream",
     "text": [
      "commit d321c05f8ca8b5ac863badd05cd6d18c4b2cf577\n",
      "Author: SeanOhAileasa <seanohaileasa@protonmail.com>\n",
      "Date:   Fri Oct 1 20:35:07 2021 +0100\n",
      "\n",
      "    DAY:78 - [Notebook: scikit-learn]: (Last Commit) Introductory blurbs about scikit-learn and each of the scikit-learn algorithms of interest require more depth and explanation - revert [DAY:20,0). Commit proposes researching classification. This was a typo and should be clustering. (Introduction) Hacking the example code from the sklearn.cluster.KMeans documentation. Short blurb on the parameters of object KMeans (i. n_clusters and ii. random_state) and method fit which computes the k-means clustering. Two clusters specified and the attribute labels_ confirms this. Making a prediction using method predict passing two new points predicts associated cluster. Attribute cluster_centers returns what the KMeans algorithm took as the centre point of each cluster. (Propose) Plotting the dataset X separating the two clusters.\n",
      "\n",
      "commit 60956a92a82d7c3be0b4000db1fe1586cca94034\n",
      "Author: SeanOhAileasa <seanohaileasa@protonmail.com>\n",
      "Date:   Thu Sep 30 21:10:53 2021 +0100\n",
      "\n",
      "    DAY:79 - [Notebook: scipy-stats]: (Last Commit) i. Blank Jupiter notebook created and; ii. submitted GitHub repository URL to GMIT. (Abstract) Brief introductory blurb about the analysis of variance (ANOVA) and its application beyond comparing just two populations (t-test). (Propose) Researching t-tests and especially F-Ratios (central part of ANOVA) before proceeding.\n",
      "\n",
      "commit 023bf6b96aca8dfb2ea833cba6fc6101b8f334ad\n",
      "Author: SeanOhAileasa <seanohaileasa@protonmail.com>\n",
      "Date:   Wed Sep 29 19:44:12 2021 +0100\n",
      "\n",
      "    DAY:80 - [Notebook: scikit-learn]: (Last Commit) i. Blank Jupiter notebook created and; ii. submitted GitHub repository URL to GMIT. (Abstract) Introductory blurb about scikit-learn. (Introduction) Short blurb on each scikit-learn algorithms of interest: i. classification; ii. regression and iii. clustering. Classification thought of in terms of labelling data (e.g., images of hand drawn digits). Regression thought of in terms of fitting a line to a set of points (e.g., all of science). Clustering thought of in terms of grouping like items together (e.g., iris dataset). (Propose) Researching classification by simulating a collection of data and introducing sklearn.cluster.\n",
      "\n",
      "commit 39127b924e9bd70b79bacd7c3abb363390364bb6\n",
      "Author: SeanOhAileasa <seanohaileasa@protonmail.com>\n",
      "Date:   Mon Sep 27 15:42:14 2021 +0100\n",
      "\n",
      "    add repository ./mls-scikit-learn-scipy-stats\n"
     ]
    }
   ],
   "source": [
    "%%script bash\n",
    "git log"
   ]
  },
  {
   "cell_type": "code",
   "execution_count": 2,
   "id": "f9992b8f",
   "metadata": {},
   "outputs": [],
   "source": [
    "exit()"
   ]
  },
  {
   "cell_type": "markdown",
   "id": "37bcb131",
   "metadata": {},
   "source": [
    "< [Table of Contents](#top) | [References](#references) >\n",
    "<a id=\"ppmPlanning\"></a>\n",
    "***\n",
    "## Planning\n",
    "***"
   ]
  },
  {
   "cell_type": "markdown",
   "id": "c593d75f",
   "metadata": {},
   "source": [
    "- Keeping in mind:\n",
    "\n",
    "i) GMIT assessment submission marking scheme; and \n",
    "\n",
    "ii) impression given to someone who is looking at this repository, endeavour to provide direct evidence of each of the items listed in each category where applicable (``Research`` - ``Development`` - ``Consistency`` - ``Documentation``)."
   ]
  },
  {
   "cell_type": "markdown",
   "id": "7b4c4737",
   "metadata": {},
   "source": [
    "< [Table of Contents](#top) | [References](#references) >\n",
    "<a id=\"ppmGettingStartedResearch\"></a>\n",
    "***\n",
    "###### Research\n",
    "***"
   ]
  },
  {
   "cell_type": "markdown",
   "id": "36c2b212",
   "metadata": {},
   "source": [
    "- GMIT: **\"Evidence of research performed on topic; submission based on referenced literature, particularly academic literature; evidence of understanding of the documentation for any software or libraries used.\"**"
   ]
  },
  {
   "cell_type": "markdown",
   "id": "23709627",
   "metadata": {},
   "source": [
    "- Investigation of packages used as demonstrated by references, background information, and approach: References will be in the format:\n",
    "\n",
    "```\n",
    "[referenceNumber] authorNames, referenceTitle, locationWebsiteBookVideo, dateMonthYear.\n",
    "```"
   ]
  },
  {
   "cell_type": "markdown",
   "id": "31e3a17e",
   "metadata": {},
   "source": [
    "- Demonstrating work complete with appropriate references and not just for the problem but for the level of understanding of the problem."
   ]
  },
  {
   "cell_type": "markdown",
   "id": "004e3e39",
   "metadata": {},
   "source": [
    "- Code commentary will include details of package, module, object (if applicable) to demonstrate understanding of software documentation and libraries used.\n",
    "\n",
    "```python\n",
    "# b_T_hird_P_arty-imports\n",
    "from matplotlib.pyplot import plot\n",
    "```\n",
    "```python\n",
    "# package matplotlib - module pyplot\n",
    "plot(x,y)\n",
    "```"
   ]
  },
  {
   "cell_type": "markdown",
   "id": "5de26e21",
   "metadata": {},
   "source": [
    "< [Table of Contents](#top) | [References](#references) >\n",
    "<a id=\"ppmGettingStartedDevelopment\"></a>\n",
    "***\n",
    "###### Development\n",
    "***"
   ]
  },
  {
   "cell_type": "markdown",
   "id": "28252c4c",
   "metadata": {},
   "source": [
    "- GMIT: **\"Environment can be set up as described; code works without tweaking and as described; code is efficient, clean, and clear; evidence of consideration of standards and conventions appropriate to code of this kind.\"**"
   ]
  },
  {
   "cell_type": "markdown",
   "id": "5db520cd",
   "metadata": {},
   "source": [
    "- Clear, well-written, and efficient code with appropriate comments - using Jupyter Notebook markdown cells to summarise concise workings. "
   ]
  },
  {
   "cell_type": "markdown",
   "id": "c701d1e2",
   "metadata": {},
   "source": [
    "- As much as possible use the ``Style Guide for Python Code`` [Guido van Rossum](https://web.archive.org/web/20201029095211/https://www.python.org/dev/peps/pep-0008/). Refer user-defined [Coding Conventions](#codingConventions)."
   ]
  },
  {
   "cell_type": "markdown",
   "id": "b12aa450",
   "metadata": {},
   "source": [
    "< [Table of Contents](#top) | [References](#references) >\n",
    "<a id=\"ppmGettingStartedConsistency\"></a>\n",
    "***\n",
    "###### Consistency\n",
    "***"
   ]
  },
  {
   "cell_type": "markdown",
   "id": "7a20dd24",
   "metadata": {},
   "source": [
    "- GMIT: **\"Evidence of planning and project management; pragmatic attitude to work as evidenced by well-considered commit history; commits are of a reasonable size; consideration of how commit history will be perceived by others.\"**"
   ]
  },
  {
   "cell_type": "markdown",
   "id": "6a58e7e4",
   "metadata": {},
   "source": [
    "- Git commit blurb to include number of days outstanding before deadline (if applicable)."
   ]
  },
  {
   "cell_type": "markdown",
   "id": "25051d6f",
   "metadata": {},
   "source": [
    "- Commits to highlight changes made since the last commit so that reviews of the git history can demonstrate compartmentation of work into the different sections."
   ]
  },
  {
   "cell_type": "markdown",
   "id": "f5f36617",
   "metadata": {},
   "source": [
    "< [Table of Contents](#top) | [References](#references) >\n",
    "<a id=\"ppmGettingStartedDocumentation\"></a>\n",
    "***\n",
    "###### Documentation\n",
    "***"
   ]
  },
  {
   "cell_type": "markdown",
   "id": "85ee02aa",
   "metadata": {},
   "source": [
    "- GMIT: **\"Clear documentation of how to create an environment in which any code will run, how to prepare the code for running, how to run the code including setting any options or flags, and what to expect upon running the code. Concise descriptions of code in comments and README.\"**"
   ]
  },
  {
   "cell_type": "markdown",
   "id": "d17f8fb9",
   "metadata": {},
   "source": [
    "- Include descriptions/plots of theoretical and practical aspects of the problem(s) - comments to be very concise for ease of readability."
   ]
  },
  {
   "cell_type": "markdown",
   "id": "4f643e28",
   "metadata": {},
   "source": [
    "- Descriptions of code requiring further explanation will be presented in Jupyter Notebook markdown cells prior to code execution."
   ]
  },
  {
   "cell_type": "markdown",
   "id": "e44451f1",
   "metadata": {},
   "source": [
    "< [Table of Contents](#top) | [References](#references) >\n",
    "<a id=\"considerations\"></a>\n",
    "***\n",
    "### Considerations\n",
    "***"
   ]
  },
  {
   "cell_type": "markdown",
   "id": "27122872",
   "metadata": {},
   "source": [
    "- Using the four listed categories (``Research`` - ``Development`` - ``Consistency`` - ``Documentation``) in an attempt to not only focus on programming but also look at the information (data) and manipulating the data and coming up with techniques."
   ]
  },
  {
   "cell_type": "markdown",
   "id": "ebba38e0",
   "metadata": {},
   "source": [
    "- Sometimes the most complex algorithms are counter-intuitive but do work and have been proven to work. Sometimes only a few lines of code is required to complete a topic/section - endeavour to explain the development of the algorithm and the reasoning behind why/how the code works."
   ]
  },
  {
   "cell_type": "markdown",
   "id": "f67da7d7",
   "metadata": {},
   "source": [
    "- Jupyter Notebook text formatting/presentation to be tidied up closer to the deadline (if applicable)."
   ]
  },
  {
   "cell_type": "markdown",
   "id": "6232ab89",
   "metadata": {},
   "source": [
    "< [Table of Contents](#top) | [References](#references) >\n",
    "<a id=\"codingConventions\"></a>\n",
    "***\n",
    "###### Coding Conventions\n",
    "***"
   ]
  },
  {
   "cell_type": "markdown",
   "id": "8b7a6187",
   "metadata": {},
   "source": [
    "- user-defined function / name (variable) - start with letters as follows\n",
    "\n",
    "| Example       | Signify \t\t          |\n",
    "| :------------ |:------------------------|\n",
    "|\tf        \t|\tuser-defined function |\n",
    "|\tn        \t|\tname - no variables   |"
   ]
  },
  {
   "cell_type": "markdown",
   "id": "f232e36d",
   "metadata": {},
   "source": [
    "***\n",
    "## END"
   ]
  },
  {
   "cell_type": "markdown",
   "id": "0c88ab4a",
   "metadata": {},
   "source": [
    "< [Table of Contents](#top) | [Introduction](#introduction) | [Solution](#solution) | [Conclusion](#conclusion) | [References](#references) >\n",
    "<a id=\"abstract\"></a>\n",
    "***\n",
    "## Abstract\n",
    "***"
   ]
  },
  {
   "cell_type": "markdown",
   "id": "ac050a22",
   "metadata": {},
   "source": [
    "- ``scikit-learn`` is for machine learning in ``python`` [1]"
   ]
  },
  {
   "cell_type": "markdown",
   "id": "fffdb0c2",
   "metadata": {},
   "source": [
    "- for topical machine learning algorithms ``scikit-learn`` might not be the first port of call but at the same time even if using other packages typically would use the various helper methods in ``scikit-learn`` to clean up the dataset initially - can use for neural networks but this would typically be outsourced to a specific package such as ``tensorflow.keras`` [1]"
   ]
  },
  {
   "cell_type": "markdown",
   "id": "2430e544",
   "metadata": {},
   "source": [
    "- organised in six sections ``scikit-learn`` (spawned from ``scipy``) consists of built-in algorithms that are typically considered machine learning [2]"
   ]
  },
  {
   "cell_type": "markdown",
   "id": "3fa461fc",
   "metadata": {},
   "source": [
    "***\n",
    "## END"
   ]
  },
  {
   "cell_type": "markdown",
   "id": "d319e57d",
   "metadata": {},
   "source": [
    "< [Table of Contents](#top) | [Abstract](#abstract) | [Solution](#solution) | [Conclusion](#conclusion) | [References](#references) >\n",
    "<a id=\"introduction\"></a>\n",
    "***\n",
    "## Introduction\n",
    "***"
   ]
  },
  {
   "cell_type": "markdown",
   "id": "3d97a37f",
   "metadata": {},
   "source": [
    "- demonstrations of three interesting ``scikit-learn`` algorithms"
   ]
  },
  {
   "cell_type": "markdown",
   "id": "3a3407cb",
   "metadata": {},
   "source": [
    "< [Table of Contents](#top) | [References](#references) >\n",
    "<a id=\"classification\"></a>\n",
    "***\n",
    "### Classification\n",
    "***"
   ]
  },
  {
   "cell_type": "markdown",
   "id": "37098d3b",
   "metadata": {},
   "source": [
    "- typically thought of in terms of labelling data [2]"
   ]
  },
  {
   "cell_type": "markdown",
   "id": "868f027b",
   "metadata": {},
   "source": [
    "- could have a set of images containing single digits hand drawn with zero in one image and one in another - the labels put on these images might be the digit $0$ and the digit $1$ etc [2]"
   ]
  },
  {
   "cell_type": "markdown",
   "id": "37d8d979",
   "metadata": {},
   "source": [
    "- shown a picture with a digit drawn a ``classification`` algorithm is used to determine the digit it represents [2]"
   ]
  },
  {
   "cell_type": "markdown",
   "id": "103846b4",
   "metadata": {},
   "source": [
    "![classification](https://github.com/SeanOhAileasa/SeanOhAileasa/blob/master/rc/mls/scikit/classification.png?raw=true)\n",
    "\n",
    "***(Image) scikit-learn, \"Machine Learning in Python,\" [scikit-learn.org](https://scikit-learn.org/stable), n.d..***"
   ]
  },
  {
   "cell_type": "markdown",
   "id": "1823c8e2",
   "metadata": {},
   "source": [
    "< [Table of Contents](#top) | [References](#references) >\n",
    "<a id=\"regression\"></a>\n",
    "***\n",
    "### Regression\n",
    "***"
   ]
  },
  {
   "cell_type": "markdown",
   "id": "8726c688",
   "metadata": {},
   "source": [
    "- fitting a line to a set of points (maybe with a little bit of error) [2]"
   ]
  },
  {
   "cell_type": "markdown",
   "id": "07d66fa9",
   "metadata": {},
   "source": [
    "- two different lines used (red and green) to fit the black dots (might assume theres a little bit of error in some of the measurements) - essentially trying to reverse engineer a function [2]"
   ]
  },
  {
   "cell_type": "markdown",
   "id": "bb98fa79",
   "metadata": {},
   "source": [
    "- looking at a selection of inputs and their corresponding outputs from some process and trying to fit some sort of function to those points [2] "
   ]
  },
  {
   "cell_type": "markdown",
   "id": "16ed1dca",
   "metadata": {},
   "source": [
    "![regression](https://github.com/SeanOhAileasa/SeanOhAileasa/blob/master/rc/mls/scikit/regression.png?raw=true)\n",
    "\n",
    "***(Image) scikit-learn, \"Machine Learning in Python,\" [scikit-learn.org](https://scikit-learn.org/stable), n.d..***"
   ]
  },
  {
   "cell_type": "markdown",
   "id": "02a73c83",
   "metadata": {},
   "source": [
    "- essentially all of science can be looked at from this viewpoint [2]"
   ]
  },
  {
   "cell_type": "markdown",
   "id": "c7a5d750",
   "metadata": {},
   "source": [
    "- going back hundreds of years when looking at the planets/stars in the sky to determine a map of how all seem to move around with the conclusion that the earth is actually orbiting the sun (not the other way around) - looking up at the sky measuring where the planets/stars are then trying to come up with some sort of a model (a way of maybe predicting where different planets/stars would be in the sky at different times) is essentially performing ``regression`` [2]"
   ]
  },
  {
   "cell_type": "markdown",
   "id": "d75617de",
   "metadata": {},
   "source": [
    "- Newton and Kepler might have figured out that the orbits looked like an oval and by joining all the dots up predicted where the planets/stars are going to be - ``regression`` is a very old idea [2]"
   ]
  },
  {
   "cell_type": "markdown",
   "id": "b46be9f9",
   "metadata": {},
   "source": [
    "< [Table of Contents](#top) | [References](#references) >\n",
    "<a id=\"clustering\"></a>\n",
    "***\n",
    "### Clustering\n",
    "***"
   ]
  },
  {
   "cell_type": "markdown",
   "id": "e8810e77",
   "metadata": {},
   "source": [
    "- grouping like items together - ``clustering`` is closely related to ``classification`` [2]"
   ]
  },
  {
   "cell_type": "markdown",
   "id": "7ec93275",
   "metadata": {},
   "source": [
    "- the iris dataset has three different iris and to ``cluster`` is to group together the points that appear to be related [2]"
   ]
  },
  {
   "cell_type": "markdown",
   "id": "d02400f7",
   "metadata": {},
   "source": [
    "![clustering](https://github.com/SeanOhAileasa/SeanOhAileasa/blob/master/rc/mls/scikit/clustering.png?raw=true)\n",
    "\n",
    "***(Image) scikit-learn, \"Machine Learning in Python,\" [scikit-learn.org](https://scikit-learn.org/stable), n.d..***"
   ]
  },
  {
   "cell_type": "markdown",
   "id": "d510e6e7",
   "metadata": {},
   "source": [
    "< [Table of Contents](#top) | [References](#references) >\n",
    "<a id=\"clusteringDemonstrations\"></a>\n",
    "***\n",
    "###### Demonstration\n",
    "***"
   ]
  },
  {
   "cell_type": "markdown",
   "id": "4d48a13e",
   "metadata": {},
   "source": [
    "&#x1F6A7;"
   ]
  },
  {
   "cell_type": "markdown",
   "id": "b9e631c5",
   "metadata": {},
   "source": [
    "< [Table of Contents](#top) | [References](#references) >\n",
    "<a id=\"clusteringKMeansClustering\"></a>\n",
    "***\n",
    "###### K-Means Clustering\n",
    "***"
   ]
  },
  {
   "cell_type": "markdown",
   "id": "405ce7f5",
   "metadata": {},
   "source": [
    "&#x1F6A7;"
   ]
  },
  {
   "cell_type": "markdown",
   "id": "8364b8f0",
   "metadata": {},
   "source": [
    "< [Table of Contents](#top) | [References](#references) >\n",
    "<a id=\"clusteringsklearnclusterkmeans\"></a>\n",
    "***\n",
    "###### ``sklearn.cluster.KMeans``\n",
    "***"
   ]
  },
  {
   "cell_type": "markdown",
   "id": "dc3e9dad",
   "metadata": {},
   "source": [
    "- analysing example code from ``sklearn.cluster.KMeans`` documentation [3]"
   ]
  },
  {
   "cell_type": "code",
   "execution_count": 1,
   "id": "adf4e587",
   "metadata": {},
   "outputs": [],
   "source": [
    "import sklearn.cluster as skcl"
   ]
  },
  {
   "cell_type": "code",
   "execution_count": 2,
   "id": "7bf012ca",
   "metadata": {
    "scrolled": false
   },
   "outputs": [
    {
     "name": "stdout",
     "output_type": "stream",
     "text": [
      "    >>> from sklearn.cluster import KMeans\n",
      "    >>> import numpy as np\n",
      "    >>> X = np.array([[1, 2], [1, 4], [1, 0],\n",
      "    ...               [10, 2], [10, 4], [10, 0]])\n",
      "    >>> kmeans = KMeans(n_clusters=2, random_state=0).fit(X)\n",
      "    >>> kmeans.labels_\n",
      "    array([1, 1, 1, 0, 0, 0], dtype=int32)\n",
      "    >>> kmeans.predict([[0, 0], [12, 3]])\n",
      "    array([1, 0], dtype=int32)\n",
      "    >>> kmeans.cluster_centers_\n",
      "    array([[10.,  2.],\n",
      "           [ 1.,  2.]])\n"
     ]
    }
   ],
   "source": [
    "print(\"\\n\".join(skcl.KMeans.__doc__.split(\"\\n\")[146:158]))"
   ]
  },
  {
   "cell_type": "code",
   "execution_count": 3,
   "id": "6b04ebd6",
   "metadata": {},
   "outputs": [],
   "source": [
    "import numpy as np"
   ]
  },
  {
   "cell_type": "markdown",
   "id": "797611c0",
   "metadata": {},
   "source": [
    "- collection of data [13]"
   ]
  },
  {
   "cell_type": "code",
   "execution_count": 4,
   "id": "de4f794a",
   "metadata": {},
   "outputs": [],
   "source": [
    "X=np.array(object=[[1,2],[1,4],[1,0],[10,2],[10,4],[10,0]]) # numpy 6-d array"
   ]
  },
  {
   "cell_type": "code",
   "execution_count": 5,
   "id": "d230c482",
   "metadata": {},
   "outputs": [
    {
     "data": {
      "text/plain": [
       "array([[ 1,  2],\n",
       "       [ 1,  4],\n",
       "       [ 1,  0],\n",
       "       [10,  2],\n",
       "       [10,  4],\n",
       "       [10,  0]])"
      ]
     },
     "execution_count": 5,
     "metadata": {},
     "output_type": "execute_result"
    }
   ],
   "source": [
    "X"
   ]
  },
  {
   "cell_type": "code",
   "execution_count": 6,
   "id": "877e1834",
   "metadata": {},
   "outputs": [
    {
     "data": {
      "text/plain": [
       "numpy.ndarray"
      ]
     },
     "execution_count": 6,
     "metadata": {},
     "output_type": "execute_result"
    }
   ],
   "source": [
    "type(X)"
   ]
  },
  {
   "cell_type": "code",
   "execution_count": 7,
   "id": "6f37d865",
   "metadata": {},
   "outputs": [
    {
     "data": {
      "text/plain": [
       "(6, 2)"
      ]
     },
     "execution_count": 7,
     "metadata": {},
     "output_type": "execute_result"
    }
   ],
   "source": [
    "X.shape"
   ]
  },
  {
   "cell_type": "markdown",
   "id": "c76d74df",
   "metadata": {},
   "source": [
    "- such algorithms have a ``randon_state`` built-in (initialise some values internally within the algorithm using randon values - typically from a normal/uniform distribution randomly) [3]"
   ]
  },
  {
   "cell_type": "markdown",
   "id": "1cd13485",
   "metadata": {},
   "source": [
    "- ``randon_state=0`` so that everytime the algoritm is run will get the same randon values initially [3]"
   ]
  },
  {
   "cell_type": "code",
   "execution_count": 8,
   "id": "377864d2",
   "metadata": {},
   "outputs": [],
   "source": [
    "nInsObjKMeans=skcl.KMeans(n_clusters=2,random_state=0)"
   ]
  },
  {
   "cell_type": "markdown",
   "id": "201a2fbb",
   "metadata": {},
   "source": [
    "- method ``fit`` computes ``KMeans`` clustering (performs the ``KMeans`` algorithm on the training dataset) [3]"
   ]
  },
  {
   "cell_type": "code",
   "execution_count": 9,
   "id": "15010e9c",
   "metadata": {},
   "outputs": [
    {
     "data": {
      "text/plain": [
       "KMeans(n_clusters=2, random_state=0)"
      ]
     },
     "execution_count": 9,
     "metadata": {},
     "output_type": "execute_result"
    }
   ],
   "source": [
    "nInsObjKMeans.fit(X=X) # algorithm via X"
   ]
  },
  {
   "cell_type": "markdown",
   "id": "f8590740",
   "metadata": {},
   "source": [
    "- each ``X`` element is a point [13]"
   ]
  },
  {
   "cell_type": "code",
   "execution_count": 10,
   "id": "ca33ef65",
   "metadata": {},
   "outputs": [
    {
     "data": {
      "text/plain": [
       "array([[ 1,  2],\n",
       "       [ 1,  4],\n",
       "       [ 1,  0],\n",
       "       [10,  2],\n",
       "       [10,  4],\n",
       "       [10,  0]])"
      ]
     },
     "execution_count": 10,
     "metadata": {},
     "output_type": "execute_result"
    }
   ],
   "source": [
    "X"
   ]
  },
  {
   "cell_type": "code",
   "execution_count": 11,
   "id": "0774cefd",
   "metadata": {},
   "outputs": [
    {
     "data": {
      "text/plain": [
       "array([10,  0])"
      ]
     },
     "execution_count": 11,
     "metadata": {},
     "output_type": "execute_result"
    }
   ],
   "source": [
    "X[5] # last X element"
   ]
  },
  {
   "cell_type": "markdown",
   "id": "63c44c22",
   "metadata": {},
   "source": [
    "- two clusters already specified (the first three elements is a cluster and the second three elements is a cluster) [3] "
   ]
  },
  {
   "cell_type": "code",
   "execution_count": 12,
   "id": "6583ef34",
   "metadata": {},
   "outputs": [
    {
     "data": {
      "text/plain": [
       "array([1, 1, 1, 0, 0, 0])"
      ]
     },
     "execution_count": 12,
     "metadata": {},
     "output_type": "execute_result"
    }
   ],
   "source": [
    "nInsObjKMeans.labels_"
   ]
  },
  {
   "cell_type": "markdown",
   "id": "81d02eda",
   "metadata": {},
   "source": [
    "- method ``predict`` passed two new points (making a prediction) [3]"
   ]
  },
  {
   "cell_type": "markdown",
   "id": "c1465941",
   "metadata": {},
   "source": [
    "- ``[0,0]`` fits into the first class (``[1, 2],[1, 4],[1, 0]``) [3]"
   ]
  },
  {
   "cell_type": "markdown",
   "id": "c2a9b6a0",
   "metadata": {},
   "source": [
    "- ``[12,3]`` fits into the second class (``[10, 2],[10, 4],[10, 0]``) [3]"
   ]
  },
  {
   "cell_type": "code",
   "execution_count": 13,
   "id": "58557b9d",
   "metadata": {},
   "outputs": [],
   "source": [
    "nVals=np.array([[0,0],[12,3]])"
   ]
  },
  {
   "cell_type": "code",
   "execution_count": 14,
   "id": "23d68b7e",
   "metadata": {},
   "outputs": [
    {
     "data": {
      "text/plain": [
       "numpy.ndarray"
      ]
     },
     "execution_count": 14,
     "metadata": {},
     "output_type": "execute_result"
    }
   ],
   "source": [
    "type(nVals)"
   ]
  },
  {
   "cell_type": "code",
   "execution_count": 15,
   "id": "128192a1",
   "metadata": {},
   "outputs": [],
   "source": [
    "nPredictions=nInsObjKMeans.predict(nVals)"
   ]
  },
  {
   "cell_type": "code",
   "execution_count": 16,
   "id": "47495600",
   "metadata": {},
   "outputs": [
    {
     "data": {
      "text/plain": [
       "array([1, 0])"
      ]
     },
     "execution_count": 16,
     "metadata": {},
     "output_type": "execute_result"
    }
   ],
   "source": [
    "nPredictions"
   ]
  },
  {
   "cell_type": "markdown",
   "id": "f0fe982d",
   "metadata": {},
   "source": [
    "- the point ``[10.,  2.]`` is what the ``KMeans`` algorithm took as the centre point of one of the clusters (other cluster has a centre point of ``[ 1.,  2.]`` [3]"
   ]
  },
  {
   "cell_type": "code",
   "execution_count": 17,
   "id": "e5eb61aa",
   "metadata": {},
   "outputs": [],
   "source": [
    "nCentre=nInsObjKMeans.cluster_centers_"
   ]
  },
  {
   "cell_type": "code",
   "execution_count": 18,
   "id": "76d24305",
   "metadata": {},
   "outputs": [
    {
     "data": {
      "text/plain": [
       "array([[10.,  2.],\n",
       "       [ 1.,  2.]])"
      ]
     },
     "execution_count": 18,
     "metadata": {},
     "output_type": "execute_result"
    }
   ],
   "source": [
    "nCentre"
   ]
  },
  {
   "cell_type": "markdown",
   "id": "49e33166",
   "metadata": {},
   "source": [
    "< [Table of Contents](#top) | [References](#references) >\n",
    "<a id=\"clusteringVisualisation\"></a>\n",
    "***\n",
    "###### Visualisation\n",
    "***"
   ]
  },
  {
   "cell_type": "code",
   "execution_count": 19,
   "id": "af4c837a",
   "metadata": {},
   "outputs": [],
   "source": [
    "import matplotlib.pyplot as plt"
   ]
  },
  {
   "cell_type": "markdown",
   "id": "429332ce",
   "metadata": {},
   "source": [
    "- plotting dataset ``X`` [3]"
   ]
  },
  {
   "cell_type": "markdown",
   "id": "5d48c2a5",
   "metadata": {},
   "source": [
    "- the ``numpy.ndarray`` is in the incorrect format for ``plt`` (need all $x$ and $y$ values in separate lists) [3]"
   ]
  },
  {
   "cell_type": "code",
   "execution_count": 20,
   "id": "16200dff",
   "metadata": {},
   "outputs": [
    {
     "data": {
      "text/plain": [
       "array([[ 1,  2],\n",
       "       [ 1,  4],\n",
       "       [ 1,  0],\n",
       "       [10,  2],\n",
       "       [10,  4],\n",
       "       [10,  0]])"
      ]
     },
     "execution_count": 20,
     "metadata": {},
     "output_type": "execute_result"
    }
   ],
   "source": [
    "X"
   ]
  },
  {
   "cell_type": "code",
   "execution_count": 21,
   "id": "c3aea984",
   "metadata": {},
   "outputs": [
    {
     "data": {
      "text/plain": [
       "numpy.ndarray"
      ]
     },
     "execution_count": 21,
     "metadata": {},
     "output_type": "execute_result"
    }
   ],
   "source": [
    "type(X) # incorrect format pyplot"
   ]
  },
  {
   "cell_type": "markdown",
   "id": "596f427e",
   "metadata": {},
   "source": [
    "- pull initial values representing $x$ (same for $y$) [3]"
   ]
  },
  {
   "cell_type": "markdown",
   "id": "f352ce11",
   "metadata": {},
   "source": [
    "- ``:`` represents the first dimension (get everything) and ``,`` represents the second dimension (return the first element via $0$) [3]"
   ]
  },
  {
   "cell_type": "code",
   "execution_count": 22,
   "id": "ad192734",
   "metadata": {},
   "outputs": [],
   "source": [
    "xVals=X[:,0]"
   ]
  },
  {
   "cell_type": "code",
   "execution_count": 23,
   "id": "e03947aa",
   "metadata": {},
   "outputs": [
    {
     "data": {
      "text/plain": [
       "array([ 1,  1,  1, 10, 10, 10])"
      ]
     },
     "execution_count": 23,
     "metadata": {},
     "output_type": "execute_result"
    }
   ],
   "source": [
    "xVals"
   ]
  },
  {
   "cell_type": "code",
   "execution_count": 24,
   "id": "9b98992f",
   "metadata": {},
   "outputs": [],
   "source": [
    "yVals=X[:,1]"
   ]
  },
  {
   "cell_type": "code",
   "execution_count": 25,
   "id": "9a09b4f9",
   "metadata": {},
   "outputs": [
    {
     "data": {
      "text/plain": [
       "array([2, 4, 0, 2, 4, 0])"
      ]
     },
     "execution_count": 25,
     "metadata": {},
     "output_type": "execute_result"
    }
   ],
   "source": [
    "yVals # second internal dimension"
   ]
  },
  {
   "cell_type": "code",
   "execution_count": 26,
   "id": "14692db7",
   "metadata": {},
   "outputs": [],
   "source": [
    "plt.style.use(style=\"ggplot\") # equivalent R style"
   ]
  },
  {
   "cell_type": "code",
   "execution_count": 27,
   "id": "64e27bf4",
   "metadata": {},
   "outputs": [],
   "source": [
    "plt.rcParams[\"figure.figsize\"]=12.8,7.2 # instance of matplotlib.RcParams"
   ]
  },
  {
   "cell_type": "markdown",
   "id": "a82a1293",
   "metadata": {},
   "source": [
    "- the plot show the two separate clusters (two distinct groups of points) [3]"
   ]
  },
  {
   "cell_type": "code",
   "execution_count": 28,
   "id": "8665465d",
   "metadata": {},
   "outputs": [
    {
     "data": {
      "image/png": "[encoded data removed]",
      "text/plain": [
       "<Figure size 921.6x518.4 with 1 Axes>"
      ]
     },
     "metadata": {},
     "output_type": "display_data"
    }
   ],
   "source": [
    "fig,ax=plt.subplots()\n",
    "ax.plot(xVals,yVals,\"x\")\n",
    "ax.set_xlim([-2,14])\n",
    "ax.set_ylim([-2,6]);"
   ]
  },
  {
   "cell_type": "markdown",
   "id": "9abf6659",
   "metadata": {},
   "source": [
    "- the ``KMeans`` algorithm determines (via how they sit on the plot) if two distinct groups exist [3]"
   ]
  },
  {
   "cell_type": "markdown",
   "id": "06595a1f",
   "metadata": {},
   "source": [
    "- try to separate out for a human to be able to determine also [3]"
   ]
  },
  {
   "cell_type": "markdown",
   "id": "36aa6449",
   "metadata": {},
   "source": [
    "- the first three points as listed in $x$ is one cluster (remaining is the second cluster) - plotting with different colours [3]"
   ]
  },
  {
   "cell_type": "code",
   "execution_count": 29,
   "id": "70636d63",
   "metadata": {},
   "outputs": [
    {
     "data": {
      "text/plain": [
       "array([1, 1, 1, 0, 0, 0])"
      ]
     },
     "execution_count": 29,
     "metadata": {},
     "output_type": "execute_result"
    }
   ],
   "source": [
    "nInsObjKMeans.labels_"
   ]
  },
  {
   "cell_type": "code",
   "execution_count": 30,
   "id": "c6896aaf",
   "metadata": {},
   "outputs": [],
   "source": [
    "ax.plot(X[nInsObjKMeans.labels_==0][:,0],X[nInsObjKMeans.labels_==0][:,1],\"xg\");"
   ]
  },
  {
   "cell_type": "code",
   "execution_count": 31,
   "id": "95fc30de",
   "metadata": {},
   "outputs": [
    {
     "data": {
      "image/png": "[encoded data removed]",
      "text/plain": [
       "<Figure size 921.6x518.4 with 1 Axes>"
      ]
     },
     "execution_count": 31,
     "metadata": {},
     "output_type": "execute_result"
    }
   ],
   "source": [
    "fig"
   ]
  },
  {
   "cell_type": "markdown",
   "id": "05f4262d",
   "metadata": {},
   "source": [
    "< [Table of Contents](#top) | [References](#references) >\n",
    "<a id=\"clusteringVisualisationAddNewValues\"></a>\n",
    "***\n",
    "###### New Values\n",
    "***"
   ]
  },
  {
   "cell_type": "markdown",
   "id": "f42bfced",
   "metadata": {},
   "source": [
    "- plotting the prediction (two more points ``nVals``) [3]"
   ]
  },
  {
   "cell_type": "code",
   "execution_count": 32,
   "id": "aaa3babf",
   "metadata": {},
   "outputs": [
    {
     "data": {
      "text/plain": [
       "array([[ 0,  0],\n",
       "       [12,  3]])"
      ]
     },
     "execution_count": 32,
     "metadata": {},
     "output_type": "execute_result"
    }
   ],
   "source": [
    "nVals"
   ]
  },
  {
   "cell_type": "markdown",
   "id": "fc700575",
   "metadata": {},
   "source": [
    "- visually ``nVals[:,0]`` closer to red values and ``nVals[:,1]`` closer to the green values [3]"
   ]
  },
  {
   "cell_type": "code",
   "execution_count": 33,
   "id": "8ab20781",
   "metadata": {},
   "outputs": [],
   "source": [
    "ax.plot(nVals[:,0],nVals[:,1],\"bx\"); # plot new values"
   ]
  },
  {
   "cell_type": "code",
   "execution_count": 34,
   "id": "6be2c94c",
   "metadata": {},
   "outputs": [
    {
     "data": {
      "image/png": "[encoded data removed]",
      "text/plain": [
       "<Figure size 921.6x518.4 with 1 Axes>"
      ]
     },
     "execution_count": 34,
     "metadata": {},
     "output_type": "execute_result"
    }
   ],
   "source": [
    "fig"
   ]
  },
  {
   "cell_type": "markdown",
   "id": "7dabbcb4",
   "metadata": {},
   "source": [
    "- plot ``nPrediction`` to correct colour [3]"
   ]
  },
  {
   "cell_type": "code",
   "execution_count": 35,
   "id": "62af88c7",
   "metadata": {},
   "outputs": [
    {
     "data": {
      "text/plain": [
       "array([1, 0])"
      ]
     },
     "execution_count": 35,
     "metadata": {},
     "output_type": "execute_result"
    }
   ],
   "source": [
    "nPredictions"
   ]
  },
  {
   "cell_type": "markdown",
   "id": "c1755d41",
   "metadata": {},
   "source": [
    "- ``KMeans`` started with the six points (red ``x`` and green ``x``) specifying two clusters (known or suspected) [3]"
   ]
  },
  {
   "cell_type": "markdown",
   "id": "0cda5164",
   "metadata": {},
   "source": [
    "- determines if there is an obvious grouping of points - passing new values predictions (just by how they sit on the plot) which cluster they belong [3] "
   ]
  },
  {
   "cell_type": "code",
   "execution_count": 36,
   "id": "656e38b3",
   "metadata": {},
   "outputs": [],
   "source": [
    "ax.plot(nVals[nPredictions==1][:,0],nVals[nPredictions==1][:,1],\"or\")\n",
    "ax.plot(nVals[nPredictions==0][:,0],nVals[nPredictions==0][:,1],\"og\");"
   ]
  },
  {
   "cell_type": "code",
   "execution_count": 37,
   "id": "129f1638",
   "metadata": {},
   "outputs": [
    {
     "data": {
      "image/png": "[encoded data removed]",
      "text/plain": [
       "<Figure size 921.6x518.4 with 1 Axes>"
      ]
     },
     "execution_count": 37,
     "metadata": {},
     "output_type": "execute_result"
    }
   ],
   "source": [
    "fig"
   ]
  },
  {
   "cell_type": "markdown",
   "id": "58695f8a",
   "metadata": {},
   "source": [
    "< [Table of Contents](#top) | [References](#references) >\n",
    "<a id=\"clusteringVisualisationClusterCentre\"></a>\n",
    "***\n",
    "###### Cluster Centre\n",
    "***"
   ]
  },
  {
   "cell_type": "markdown",
   "id": "25c95205",
   "metadata": {},
   "source": [
    "- plotting ``cluster_centers`` [3]"
   ]
  },
  {
   "cell_type": "code",
   "execution_count": 38,
   "id": "9df530fa",
   "metadata": {},
   "outputs": [
    {
     "data": {
      "text/plain": [
       "array([[10.,  2.],\n",
       "       [ 1.,  2.]])"
      ]
     },
     "execution_count": 38,
     "metadata": {},
     "output_type": "execute_result"
    }
   ],
   "source": [
    "nCentre"
   ]
  },
  {
   "cell_type": "code",
   "execution_count": 39,
   "id": "7742eaf9",
   "metadata": {},
   "outputs": [],
   "source": [
    "ax.plot(nCentre[:,0],nCentre[:,1],\"ko\");"
   ]
  },
  {
   "cell_type": "code",
   "execution_count": 40,
   "id": "058c537d",
   "metadata": {},
   "outputs": [
    {
     "data": {
      "image/png": "[encoded data removed]",
      "text/plain": [
       "<Figure size 921.6x518.4 with 1 Axes>"
      ]
     },
     "execution_count": 40,
     "metadata": {},
     "output_type": "execute_result"
    }
   ],
   "source": [
    "fig"
   ]
  },
  {
   "cell_type": "code",
   "execution_count": 41,
   "id": "65ff7be8",
   "metadata": {},
   "outputs": [],
   "source": [
    "exit()"
   ]
  },
  {
   "cell_type": "markdown",
   "id": "c8781b87",
   "metadata": {},
   "source": [
    "***\n",
    "## END"
   ]
  },
  {
   "cell_type": "markdown",
   "id": "f1291269",
   "metadata": {},
   "source": [
    "< [Table of Contents](#top) | [Abstract](#abstract) | [Introduction](#introduction) | [Conclusion](#conclusion) | [References](#references) >\n",
    "<a id=\"solution\"></a>\n",
    "***\n",
    "## Solution\n",
    "***"
   ]
  },
  {
   "cell_type": "markdown",
   "id": "6ee51fa4",
   "metadata": {},
   "source": [
    "&#x1F6A7;"
   ]
  },
  {
   "cell_type": "markdown",
   "id": "681a4f11",
   "metadata": {},
   "source": [
    "<!-- - refer [Appendix](#appendix-df) to view the full dataset <a id=\"go-back-df\"></a> -->\n",
    "<!-- print(fGetModuleType(___x___),fDocumentation(___x___)) -->\n",
    "***\n",
    "## END"
   ]
  },
  {
   "cell_type": "markdown",
   "id": "28e9ffc8",
   "metadata": {},
   "source": [
    "< [Table of Contents](#top) | [Abstract](#abstract) | [Introduction](#introduction) | [Solution](#solution) | [References](#references) >\n",
    "<a id=\"conclusion\"></a>\n",
    "***\n",
    "## Conclusion\n",
    "***"
   ]
  },
  {
   "cell_type": "markdown",
   "id": "56d5e2c1",
   "metadata": {},
   "source": [
    "&#x1F6A7;"
   ]
  },
  {
   "cell_type": "markdown",
   "id": "840b765a",
   "metadata": {},
   "source": [
    "***\n",
    "## END"
   ]
  },
  {
   "cell_type": "markdown",
   "id": "e0e42d51",
   "metadata": {},
   "source": [
    "< [Table of Contents](#top) | [Abstract](#abstract) | [Introduction](#introduction) | [Solution](#solution) | [Conclusion](#conclusion) | [References](#references) >\n",
    "<a id=\"references\"></a>\n",
    "***\n",
    "## References\n",
    "***\n",
    "&nbsp;&nbsp;&nbsp;&nbsp;&nbsp;&nbsp;&nbsp;&nbsp;&nbsp;[1] I. McLoughlin, \"Introduction to sklearn,\" GMIT, October 2018.\n",
    "\n",
    "&nbsp;&nbsp;&nbsp;&nbsp;&nbsp;&nbsp;&nbsp;&nbsp;&nbsp;[2] I. McLoughlin, \"Overview of scikit-learn,\" GMIT, November 2020.\n",
    "\n",
    "&nbsp;&nbsp;&nbsp;&nbsp;&nbsp;&nbsp;&nbsp;&nbsp;&nbsp;[3] I. McLoughlin, \"KMeans clustering,\" GMIT, November 2020."
   ]
  },
  {
   "cell_type": "markdown",
   "id": "b33c372a",
   "metadata": {},
   "source": [
    "***\n",
    "## END"
   ]
  },
  {
   "cell_type": "markdown",
   "id": "e5961b4d",
   "metadata": {},
   "source": [
    "< [Table of Contents](#top) | [Abstract](#abstract) | [Introduction](#introduction) | [Solution](#solution) | [Conclusion](#conclusion) | [References](#references) >\n",
    "<a id=\"appendix\"></a>\n",
    "***\n",
    "## Appendix\n",
    "***"
   ]
  },
  {
   "cell_type": "markdown",
   "id": "00d82a82",
   "metadata": {},
   "source": [
    "***\n",
    "## END"
   ]
  },
  {
   "cell_type": "markdown",
   "id": "899c1783",
   "metadata": {},
   "source": [
    "# END JUPYTER NOTEBOOK"
   ]
  }
 ],
 "metadata": {
  "kernelspec": {
   "display_name": "Python 3 (ipykernel)",
   "language": "python",
   "name": "python3"
  },
  "language_info": {
   "codemirror_mode": {
    "name": "ipython",
    "version": 3
   },
   "file_extension": ".py",
   "mimetype": "text/x-python",
   "name": "python",
   "nbconvert_exporter": "python",
   "pygments_lexer": "ipython3",
   "version": "3.8.11"
  }
 },
 "nbformat": 4,
 "nbformat_minor": 5
}
