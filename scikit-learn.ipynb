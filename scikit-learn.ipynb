{
 "cells": [
  {
   "cell_type": "code",
   "execution_count": null,
   "id": "76b6aaa9",
   "metadata": {},
   "outputs": [
    {
     "data": {
      "text/html": [
       "<script>Jupyter.notebook.kernel.restart()</script>"
      ]
     },
     "metadata": {},
     "output_type": "display_data"
    }
   ],
   "source": [
    "from IPython.core.display import display_html\n",
    "display_html(\"<script>Jupyter.notebook.kernel.restart()</script>\",raw=True)"
   ]
  },
  {
   "cell_type": "code",
   "execution_count": 1,
   "id": "19093beb",
   "metadata": {},
   "outputs": [
    {
     "data": {
      "text/html": [
       "<style>.container { width:100% !important; }</style>"
      ],
      "text/plain": [
       "<IPython.core.display.HTML object>"
      ]
     },
     "metadata": {},
     "output_type": "display_data"
    },
    {
     "data": {
      "text/html": [
       "<style>.container { width:100% !important; }</style>"
      ],
      "text/plain": [
       "<IPython.core.display.HTML object>"
      ]
     },
     "metadata": {},
     "output_type": "display_data"
    }
   ],
   "source": [
    "from sys import path; path.insert(1,\"../src\");\n",
    "import fubar; from importlib import reload; reload(fubar);"
   ]
  },
  {
   "cell_type": "markdown",
   "id": "616b0550",
   "metadata": {},
   "source": [
    "***\n",
    "< [GMIT Data Analytics](https://web.archive.org/web/20201029063153/https://www.gmit.ie/computer-science-and-applied-physics/higher-diploma-science-computing-data-analytics-ict) | [Home](https://github.com/SeanOhAileasa) | [README](https://github.com/SeanOhAileasa/mls-scikit-learn-scipy-stats/blob/main/README.md) >\n",
    "\n",
    "[![GMIT](https://github.com/SeanOhAileasa/SeanOhAileasa/blob/master/rc/gmit.png?raw=true)](https://web.archive.org/web/20201029063153/https://www.gmit.ie/computer-science-and-applied-physics/higher-diploma-science-computing-data-analytics-ict)\n",
    "\n",
    "## Machine Learning & Statistics, Winter 21/22\n",
    "### Due: last commit on or before December 19th, 2021\n",
    "### Topic: [``scikit-learn``](https://nbviewer.jupyter.org/github/SeanOhAileasa/mls-scikit-learn-scipy-stats/blob/main/scikit-learn.ipynb)\n",
    "***"
   ]
  },
  {
   "cell_type": "markdown",
   "id": "4bcc9989",
   "metadata": {},
   "source": [
    "Winter 21/22 assessment for the ``Machine Learning & Statistics`` module (5 Credits) of the ``Higher Diploma in Science in Computing (Data Analytics) (H.Dip)`` programme (75 Credits) at **Galway-Mayo Institute of Technology (GMIT)**.\n",
    "\n",
    "***\n",
    "## Instructions\n",
    "***\n",
    "\n",
    "- Overview of the ``scikit-learn`` Python library.\n",
    "\n",
    "\n",
    "- Demonstrations of three interesting ``scikit-learn`` algorithms.\n",
    "\n",
    "\n",
    "- Using plots and other visualisations to enhance the notebook for viewers."
   ]
  },
  {
   "cell_type": "markdown",
   "id": "bc989e6f",
   "metadata": {},
   "source": [
    "***\n",
    "## END"
   ]
  },
  {
   "cell_type": "markdown",
   "id": "be79e5e3",
   "metadata": {},
   "source": [
    "<a id=\"top\"></a>\n",
    "***\n",
    "## Table of Contents\n",
    "***"
   ]
  },
  {
   "cell_type": "markdown",
   "id": "3fba7147",
   "metadata": {},
   "source": [
    "###### Quick Links\n",
    "***\n",
    "< [Project Management](#ppm)&nbsp;&nbsp;|&nbsp;&nbsp;[Structure](#structure)&nbsp;&nbsp;|&nbsp;&nbsp;[Preface](#preface)&nbsp;&nbsp;|&nbsp;&nbsp;[Abstract](#abstract)&nbsp;&nbsp;|&nbsp;&nbsp;[Introduction](#introduction)&nbsp;&nbsp;|&nbsp;&nbsp;[Solution](#solution)&nbsp;&nbsp;|&nbsp;&nbsp;[Conclusion](#conclusion)&nbsp;&nbsp;|&nbsp;&nbsp;[References](#references) >"
   ]
  },
  {
   "cell_type": "markdown",
   "id": "1da2a6d8",
   "metadata": {},
   "source": [
    "## [Project Management](#ppm)\n",
    "\n",
    "* [Outstanding](#outstanding) <br/><br/>\n",
    "    * [Day:56 - Day:53](#outstandingUnforeseenCircumstances) <br/><br/>\n",
    "    * [DAY:20 - Day:01](#outstandingday20) <br/><br/>\n",
    "* [Commit](#ppmCommit) <br/><br/>\n",
    "    * [History](#ppmCommitHistory) <br/><br/>\n",
    "* [Planning](#ppmPlanning) <br/><br/>\n",
    "    * [Research](#ppmGettingStartedResearch) <br/><br/>\n",
    "    * [Development](#ppmGettingStartedDevelopment) <br/><br/>\n",
    "    * [Consistency](#ppmGettingStartedConsistency) <br/><br/>\n",
    "    * [Documentation](#ppmGettingStartedDocumentation) <br/><br/>\n",
    "* [Considerations](#considerations) <br/><br/>\n",
    "    * [Coding Conventions](#codingConventions)"
   ]
  },
  {
   "cell_type": "markdown",
   "id": "45309f16",
   "metadata": {},
   "source": [
    "<hr width=50%;>"
   ]
  },
  {
   "cell_type": "markdown",
   "id": "dab43eed",
   "metadata": {},
   "source": [
    "< [Table of Contents](#top) | [References](#references) >\n",
    "<a id=\"structure\"></a>\n",
    "***\n",
    "## Structure\n",
    "***"
   ]
  },
  {
   "cell_type": "markdown",
   "id": "4af8a9ba",
   "metadata": {},
   "source": [
    "- notebook is organised in five parts"
   ]
  },
  {
   "cell_type": "markdown",
   "id": "0785e958",
   "metadata": {},
   "source": [
    "- part 1 (Preface) serves as the foundation of machine learning (``regression`` etc) without any reference to the ``scikit-learn`` library (for the purposes of assessment this part can be ignored)"
   ]
  },
  {
   "cell_type": "markdown",
   "id": "611016bf",
   "metadata": {},
   "source": [
    "- part 2 (Abstract) provides a clear and concise overview of the ``scikit-learn`` library and introduces an outline of the core machine learning problems"
   ]
  },
  {
   "cell_type": "markdown",
   "id": "8e039bc8",
   "metadata": {},
   "source": [
    "![core](https://github.com/SeanOhAileasa/SeanOhAileasa/blob/master/rc/mls/scikit/outlineCoreML.png?raw=true)\n",
    "\n",
    "***(Image) A. Kumar \"Supervised vs Unsupervised Learning,\" [vitalflux.com](https://vitalflux.com/dummies-notes-supervised-vs-unsupervised-learning/), n.d..***"
   ]
  },
  {
   "cell_type": "markdown",
   "id": "dd0245b1",
   "metadata": {},
   "source": [
    "- part 3 (Introduction) is subdivided into the three demonstrations of the scikit-learn algorithms of interest - analysing the example code from the ``sklearn`` documentation with a follow up of a simulated and/or analysis of a simple dataset "
   ]
  },
  {
   "cell_type": "markdown",
   "id": "0fa8c513",
   "metadata": {},
   "source": [
    "- part 4 (Solution) is subdivided into the three ``scikit-learn`` algorithms of interest and will form the majority of the assessment - applying the three algorithms of interest (machine learning) to cybersecurity problems"
   ]
  },
  {
   "cell_type": "markdown",
   "id": "25235965",
   "metadata": {},
   "source": [
    "- part 5 (Conclusion) is a summary of the notebook (Solution section)"
   ]
  },
  {
   "cell_type": "markdown",
   "id": "41776bd3",
   "metadata": {},
   "source": [
    "<hr width=50%;>"
   ]
  },
  {
   "cell_type": "markdown",
   "id": "bdab546c",
   "metadata": {},
   "source": [
    "## [Preface](#preface)"
   ]
  },
  {
   "cell_type": "markdown",
   "id": "4bd02c56",
   "metadata": {},
   "source": [
    " - [Regression](#prefaceRegression)"
   ]
  },
  {
   "cell_type": "markdown",
   "id": "9e8f9661",
   "metadata": {},
   "source": [
    "<hr width=50%;>"
   ]
  },
  {
   "cell_type": "markdown",
   "id": "737d7914",
   "metadata": {},
   "source": [
    "## [Abstract](#abstract)"
   ]
  },
  {
   "cell_type": "markdown",
   "id": "efad1c07",
   "metadata": {},
   "source": [
    "<hr width=50%;>"
   ]
  },
  {
   "cell_type": "markdown",
   "id": "001795e7",
   "metadata": {},
   "source": [
    "## [Introduction](#introduction)"
   ]
  },
  {
   "cell_type": "markdown",
   "id": "e9983d96",
   "metadata": {},
   "source": [
    "* [Classification](#classification) <br/><br/>\n",
    "    * [``sklearn.neighbors.KNeighborsClassifier``](#clusteringsklearnneighborsKNeighborsClassifier) <br/><br/>\n",
    "        * [Visualisation](#clusteringsklearnneighborsKNeighborsClassifierVisualisation) &#x1F6A7; <br/><br/>\n",
    "            * [Classifier](#clusteringsklearnneighborsKNeighborsClassifierclassifier) <br/><br/>\n",
    "            * [Train](#clusteringsklearnneighborsKNeighborsClassifierClassifierTrain) <br/><br/>\n",
    "            * [Fit](#clusteringsklearnneighborsKNeighborsClassifierClassifierfit) <br/><br/>\n",
    "            * [Predict](#clusteringsklearnneighborsKNeighborsClassifierClassifierpredict) <br/><br/>    \n",
    "    * [Iris Dataset](#classificationiris) <br/><br/>\n",
    "        * [Visualisation](#classificationirisVisualisation) <br/><br/>\n",
    "            * [Classifier](#classificationirisVisualisationclassifier) <br/><br/>\n",
    "            * [Train](#KNeighborsClassifierTrain) <br/><br/>\n",
    "            * [Fit](#KNeighborsClassifierfit) <br/><br/>\n",
    "            * [Predict](#KNeighborsClassifierpredict) <br/><br/>\n",
    "        * [Imprecision](#classificationirisImprecision) <br/><br/>\n",
    "* [Model Selection](#modelSelection) <br/><br/>        \n",
    "    * [``sklearnmodel_selection``](#conclusionsklearnmodel_selection) <br/><br/>  \n",
    "        * [``train_test_split``](#conclusiontrain_test_split) <br/><br/>\n",
    "            * [Classifier](#conclusionsklearnmodel_selectionclassifier) <br/><br/>\n",
    "            * [Train](#conclusionsklearnmodel_selectionclassifierTrain) <br/><br/>\n",
    "            * [Fit](#conclusionsklearnmodel_selectionclassifierFit) <br/><br/>\n",
    "            * [Predict](#conclusionsklearnmodel_selectionclassifierPredict) <br/><br/>"
   ]
  },
  {
   "cell_type": "markdown",
   "id": "9efbbebe",
   "metadata": {},
   "source": [
    "<hr width=50%;>"
   ]
  },
  {
   "cell_type": "markdown",
   "id": "ef1698df",
   "metadata": {},
   "source": [
    "* [Regression](#regression)"
   ]
  },
  {
   "cell_type": "markdown",
   "id": "0b1a633f",
   "metadata": {},
   "source": [
    "<hr width=50%;>"
   ]
  },
  {
   "cell_type": "markdown",
   "id": "2d0961b8",
   "metadata": {},
   "source": [
    "* [Clustering](#clustering) <br/><br/>\n",
    "    * [``sklearn.cluster.KMeans``](#clusteringsklearnclusterkmeans) <br/><br/>\n",
    "        * [Visualisation](#clusteringVisualisation) <br/><br/>\n",
    "            * [Prediction](#clusteringVisualisationAddNewValues) <br/><br/>\n",
    "            * [Cluster Centre](#clusteringVisualisationClusterCentre) <br/><br/>\n",
    "    * [Simulation](#clusteringSimulation) <br/><br/>\n",
    "        * [``sklearn.cluster.KMeans``](#clusteringSimulationsklearnclusterkmeans) <br/><br/>\n",
    "            * [Visualisation](#clusteringSimulationVisualisation) <br/><br/>\n",
    "                * [Prediction](#clusteringSimulationVisualisationAddNewValues) <br/><br/>\n",
    "                * [Cluster Centre](#clusteringSimulationVisualisationClusterCentre)\n",
    "        "
   ]
  },
  {
   "cell_type": "markdown",
   "id": "ad5ca0d4",
   "metadata": {},
   "source": [
    "<hr width=50%;>"
   ]
  },
  {
   "cell_type": "markdown",
   "id": "864393d3",
   "metadata": {},
   "source": [
    "## [Solution](#solution)\n",
    "\n",
    "- &#x1F6A7;"
   ]
  },
  {
   "cell_type": "markdown",
   "id": "aa895eeb",
   "metadata": {},
   "source": [
    "<hr width=50%;>"
   ]
  },
  {
   "cell_type": "markdown",
   "id": "2bfcbb85",
   "metadata": {},
   "source": [
    "## [Conclusion](#conclusion)\n",
    "\n",
    "- &#x1F6A7;"
   ]
  },
  {
   "cell_type": "markdown",
   "id": "82c7d028",
   "metadata": {},
   "source": [
    "<hr width=50%;>"
   ]
  },
  {
   "cell_type": "markdown",
   "id": "e1449819",
   "metadata": {},
   "source": [
    "## [Appendix](#appendix)\n",
    "\n",
    "- &#x1F6A7;"
   ]
  },
  {
   "cell_type": "markdown",
   "id": "6a32d1e1",
   "metadata": {},
   "source": [
    "<hr width=50%;>"
   ]
  },
  {
   "cell_type": "markdown",
   "id": "3bc2600c",
   "metadata": {},
   "source": [
    "< [Table of Contents](#top) | [Abstract](#abstract) | [Introduction](#introduction) | [Solution](#solution) | [Conclusion](#conclusion) | [References](#references) >\n",
    "<a id=\"ppm\"></a>\n",
    "***\n",
    "## Project Management\n",
    "***"
   ]
  },
  {
   "cell_type": "markdown",
   "id": "5faa3198",
   "metadata": {},
   "source": [
    "< [Table of Contents](#top) | [References](#references) >\n",
    "<a id=\"outstanding\"></a>\n",
    "***\n",
    "### Outstanding\n",
    "***"
   ]
  },
  {
   "cell_type": "markdown",
   "id": "8aa94350",
   "metadata": {},
   "source": [
    "< [Table of Contents](#top) | [References](#references) >\n",
    "<a id=\"outstandingUnforeseenCircumstances\"></a>\n",
    "***\n",
    "###### Day:56 - Day:53\n",
    "***"
   ]
  },
  {
   "cell_type": "markdown",
   "id": "08ae4baf",
   "metadata": {},
   "source": [
    "- behind schedule by five days due to illness - to address delays, endeavour to submit 2/3 commits (units of work) per day for the next five days"
   ]
  },
  {
   "cell_type": "markdown",
   "id": "714654a7",
   "metadata": {},
   "source": [
    "< [Table of Contents](#top) | [References](#references) >\n",
    "<a id=\"outstandingday20\"></a>\n",
    "***\n",
    "###### DAY:20 - Day:01\n",
    "***"
   ]
  },
  {
   "cell_type": "markdown",
   "id": "9ba51900",
   "metadata": {},
   "source": [
    "- introductory blurbs about scikit-learn and each of the scikit-learn algorithms of interest require more depth and explanation [[commit](https://github.com/SeanOhAileasa/mls-scikit-learn-scipy-stats/tree/023bf6b96aca8dfb2ea833cba6fc6101b8f334ad)]"
   ]
  },
  {
   "cell_type": "markdown",
   "id": "96251f1a",
   "metadata": {},
   "source": [
    "< [Table of Contents](#top) | [References](#references) >\n",
    "<a id=\"ppmCommit\"></a>\n",
    "***\n",
    "### Commit\n",
    "***"
   ]
  },
  {
   "cell_type": "code",
   "execution_count": 1,
   "id": "888950d5",
   "metadata": {},
   "outputs": [
    {
     "name": "stdout",
     "output_type": "stream",
     "text": [
      "31 Oct 2021 19:31:15\n"
     ]
    }
   ],
   "source": [
    "%%script bash\n",
    "date"
   ]
  },
  {
   "cell_type": "markdown",
   "id": "33ff57be",
   "metadata": {},
   "source": [
    "```python\n",
    "\"DAY:48 - [Notebook: scikit-learn]: (Last Commit) Added labels (x and y) to plot representing height and weight (Preface). (Preface) Adding to data-driven problem introducing Pearson's r correlation and determining both height and weight are positively related and the strength of this relationship is strong. (Propose) Finish preface presentation on how regression differs from correlation and move onto regression via scikit-learn.\"\n",
    "```"
   ]
  },
  {
   "cell_type": "code",
   "execution_count": 2,
   "id": "013ca567",
   "metadata": {},
   "outputs": [],
   "source": [
    "exit()"
   ]
  },
  {
   "cell_type": "markdown",
   "id": "a7ca0299",
   "metadata": {},
   "source": [
    "< [Table of Contents](#top) | [References](#references) >\n",
    "<a id=\"ppmCommitHistory\"></a>\n",
    "***\n",
    "###### History\n",
    "***"
   ]
  },
  {
   "cell_type": "code",
   "execution_count": 1,
   "id": "f39bcf39",
   "metadata": {
    "scrolled": false
   },
   "outputs": [
    {
     "name": "stdout",
     "output_type": "stream",
     "text": [
      "commit abbee0c9f0840a2f34995798ad94e4c84581398c\n",
      "Author: unknown <seanohaileasa@protonmail.com>\n",
      "Date:   Thu Oct 28 21:04:00 2021 +0100\n",
      "\n",
      "    DAY:51 - [Notebook: scikit-learn]: (Last Commit) Redoing regression introduction presented thus far and presenting it under new section (Preface). (Preface) Presenting a simple (near real-world) data-driven problem demonstrate the practice of i. data collection; ii. descriptive statistics; iii. correlation; iv. data visualisation; v. model building; vi. extrapolation and regression analysis without the use of scikit-learn. (Propose) Building upon the near real-world dataset to introduce Pearson's r correlation and how regression differs from correlation by indicating how a variable can be predicted from another.\n",
      "\n",
      "commit 886cdcbe26318b7e8261d78f0eccb7f2793f29ca\n",
      "Author: unknown <seanohaileasa@protonmail.com>\n",
      "Date:   Wed Oct 27 16:21:37 2021 +0100\n",
      "\n",
      "    DAY:52 - [Notebook: scikit-learn]: (Last Commit) Nearly all of machine learning is a regression in some form. Given its importance, moving the last unit of work (last commit) to a new section. (Project Management) Due to illness, the project is behind schedule (x5 days); therefore, endeavour to submit at least two commits (units of work) per day for the next five days to catch up. (Structure) Included for ease of readability. (Preface) Moving last commit (unit of work) regarding regression to this section. (Propose) Elaborating on the topic of regression (without reference to sklearn) to a simple data-driven problem and introducing basic information where appropriate.\n",
      "\n",
      "commit 83a7aa2e54e21973c2fa019a2fa5209eaa266529\n",
      "Author: SeanOhAileasa <seanohaileasa@protonmail.com>\n",
      "Date:   Fri Oct 22 21:00:13 2021 +0100\n",
      "\n",
      "    DAY:57 - [Notebook: scikit-learn]: (Last Commit) Thus far introduced two algorithms of choice and now moving on to regression. (Introduction) Using a simple plot by way of introducing a regression. Two collections represent two points on the plot. Blurb about the equation of a line as thought in school (given the equation and draw the line) and that regression is the opposite idea whereby not given an equation but given points on the line and then trying to fill in the blanks. (Propose) This is a very light touch introduction to regression.\n",
      "\n",
      "commit b62e5b52a574001c8acb2401d7a1e60676e4d18b\n",
      "Author: SeanOhAileasa <seanohaileasa@protonmail.com>\n",
      "Date:   Wed Oct 20 21:28:39 2021 +0100\n",
      "\n",
      "    DAY:59 - [Notebook: scikit-learn]: (Last Commit) On trained data predictions were incorrect. (Introduction) The three algorithms under investigation are i. classification; ii. regression and iii. clustering - introducing model selection given its appropriate to determine the relationship between the input and output data. In addition, it is also closely related to regression (next algorithm to investigate). Training the KNN on a random selection (75%) and using the remaining data points (25%) to test the classifier. The KNN is predicted from input not seen before. It is important to note rerunning the notebook may produce different results given that the splitting of the overall iris dataset has a random element to it. (Propose) Moving onto regression for completion by day 50 then onto the solution section, introducing the algorithms with cybersecurity in mind (might be a bit ask at this early stage - revert with a decision to proceed).\n",
      "\n",
      "commit 41ecbe211326767bf6b443e63f31f92b4642021d\n",
      "Author: SeanOhAileasa <seanohaileasa@protonmail.com>\n",
      "Date:   Tue Oct 19 19:41:43 2021 +0100\n",
      "\n",
      "    DAY:60 - [Notebook: scipy-stats]: (Last Commit) Run 20000 t-tests instead of 100000. Analyst deems appropriate percentage chance collections are different even if they come from the same central point - adding a blurb about vaccines and changing the percentage chance to something more appropriate. (Introduction) Quantify how often false negatives occur (the power of the test). While false positives (Type I Errors) are built-in false negatives (Type II Errors) depend on the difference between two mean values and are difficult to quantify. (Propose) Moving away from t-tests for the moment to introduce the ANOVA.\n",
      "\n",
      "commit a4d0c622054a1d2a8bcf75c9d04811f82581f337\n",
      "Author: SeanOhAileasa <seanohaileasa@protonmail.com>\n",
      "Date:   Sun Oct 17 21:11:01 2021 +0100\n",
      "\n",
      "    DAY:62 - [Notebook: scipy-stats]: (Last Commit) Reviewed alternative approach in asking the t-test question. (Introduction) Built into statistical tests such as the t-test is the fact a wrong decision may be made. Adding to this such tests try to manage/quantify errors. Running 100000 t-tests and generating two new collections each time having the same central value and giving the t-test a 5% chance of determining both are different (albeit are the same). Rerunning the t-test with different means. These are false positives (Type I Error). It is the analyst who deems what percentage is appropriate to deem both collections are different even if both come from the same central point. (Propose) Moving onto a false negative (Type II Error) which is harder to quantify and depends on how close the means are.\n",
      "\n",
      "commit ad1127f7d408babec9df36bf918cfd1144520556\n",
      "Author: SeanOhAileasa <seanohaileasa@protonmail.com>\n",
      "Date:   Sat Oct 16 20:39:53 2021 +0100\n",
      "\n",
      "    DAY:63 - [Notebook: scipy-stats]: (Last Commit) PDF plot demonstrates what the t-test is checking (if the tips of both curves are at the same point). (Introduction) Brief blurb about assumptions thus far and other possible assumptions that could be made. Introducing a different way of asking the t-test question. Subtracting the centre point of each collection and if the result is zero then both are the same therefore end up with a t-distribution. Getting the t-value (t-statistic) and the critical value used to make a decision (calculation of the t-statistic from the samples). If the probability of seeing such a t-value given the hypothesis that there is no difference between the means then the data is suggesting to reject that hypothesis. (Propose) Built into statistical tests is the fact that a wrong decision may be made. Adding blurb about errors.\n",
      "\n",
      "commit 9e7d0aff1e628ac47c7b9a1f6c224113dcdc6c26\n",
      "Author: SeanOhAileasa <seanohaileasa@protonmail.com>\n",
      "Date:   Thu Oct 14 19:44:45 2021 +0100\n",
      "\n",
      "    DAY:65 - [Notebook: scikit-learn]: (Last Commit) Checked only a small number of predictions. (Introduction) A facet of the classification algorithm it that it does not make the right prediction even for values that it has been trained upon. When comparing the output data series to the KNN classifier predictions it is getting five of the inputs incorrect. It is possible to see why using 2-dimensional plots. The KNN classifier makes the prediction based on the five closest data points in the dataset. (Propose) Even on the trained data it does not make correct predictions. Rebuilding the KNN classifier for input not seen before.\n",
      "\n",
      "commit 5f9edad1059206a4e4f97c5a75ba9331f482c116\n",
      "Author: SeanOhAileasa <seanohaileasa@protonmail.com>\n",
      "Date:   Wed Oct 13 20:19:36 2021 +0100\n",
      "\n",
      "    DAY:66 - [Notebook: scipy-stats]: (Last Commit) Introduced an additional collection for demonstrating when two collections are centred around the same value so that the original collections when first run remain throughout the notebook. (Introduction) In order to interpret what a t-test does plotting the uncertainty (probability density function PDF) when generating numbers in the two normal generated collections. The plot demonstrates the t-test is checking (questions) if the tips of both curves (each collection) are at the same point or not. Additional plot demonstrates when both collections coincide. (Propose) Adding blurb about underlying assumptions and another way of asking the t-test question (if the centre point of each collection is the same or not).\n",
      "\n",
      "commit 7f62028c85d9d3ea948b3ff119b9179dc736f134\n",
      "Author: SeanOhAileasa <seanohaileasa@protonmail.com>\n",
      "Date:   Mon Oct 11 17:13:43 2021 +0100\n",
      "\n",
      "    DAY:68 - [Notebook: scikit-learn]: (Last Commit) The iris dataset is up and running and split between inputs (numeric columns) and output being the class of iris (categorical variable). (Introduction) Building KNN classifier selecting five nearest neighbours. Implementing the KNN vote via parameter n_neighbors determining the majority vote. Then training the classifier on the dataset by giving the classifier the inputs for which the outputs are known. The instance object returned from the classifier (instance of KNN) is fit with the actual data points. This information is used to build up a model of what a class of iris looks like and can make predictions about what a class of iris is based on measuring its sepal length and sepal width and petal length and petal width. Appears to be predicting the correct class for a data point that it already has (easily verifiable). (Propose) Rebuilding the KNN classifier for input not seen before.\n",
      "\n",
      "commit 6f53c678277bc0b27b7c1a217dfea2842c6f87fe\n",
      "Author: SeanOhAileasa <seanohaileasa@protonmail.com>\n",
      "Date:   Sun Oct 10 18:58:02 2021 +0100\n",
      "\n",
      "    DAY:69 - [Notebook: scikit-learn]: (Last Commit) The hacked example code from the sklearn.neighbors.KNeighborsClassifier documentation require revision with the use of plots and further explanation of topics. (Introduction) Instead of simulating a dataset (as done with sklearn.cluster.KMeans) using the famous iris dataset. Making the case for using the dataset based on observations and plots built out. Purpose is to take the values of the four variables (i. sepal length, ii. sepal_width, iii. petal_length and iv. petal_width) to predict the class of iris flower. Separating the data structure (DataFrame created from the dataset) into inputs and outputs in order to train up the KNN algorithm (having a set of inputs for which the outputs are known). (Propose) Building the KNN classifier for a given number of neighbors then training the classifier on the dataset. Fitting inputs (training) and output (targets) then make predictions based on the trained KNN classifier.\n",
      "\n",
      "commit 77f809fe6f8b28a56d863bf2298576e4dd20c166\n",
      "Author: SeanOhAileasa <seanohaileasa@protonmail.com>\n",
      "Date:   Fri Oct 8 20:07:59 2021 +0100\n",
      "\n",
      "    DAY:71 - [Notebook: scikit-learn]: (Last Commit) The sklearn.cluster.KMeans section requires revision but in the meantime moving onto the classification algorithm sklearn.neighbors.KNeighborsClassifier. (Introduction) Hacking the example code from the sklearn.neighbors.KNeighborsClassifier documentation. Short blurb on the data structure representing the KNN algorithm whereby parameter n_neighbors selects the specified number of nearest neighbours. Training the classifier with X for which the y is known. Method fit tells the KNN data structure the actual data point or setup for KNN. The KNN algorithm can make predictions based on the trained KNN classifier. (Propose) Creating a classification simulation with plotting or use the iris dataset to further develop understand of the sklearn.neighbors.KNeighborsClassifier algorithm.\n",
      "\n",
      "commit a50ef7b2591f648d867efcd0117eb211cddc636e\n",
      "Author: SeanOhAileasa <seanohaileasa@protonmail.com>\n",
      "Date:   Thu Oct 7 20:17:02 2021 +0100\n",
      "\n",
      "    DAY:72 - [Notebook: scikit-learn]: (Last Commit) Implemented simulation without analysis. Amendments include: i. tidy table of contents and ii. ensuring function parameter included when appropriate. (Introduction) Following the steps from the reengineered example code from the sklearn.cluster.KMeans documentation introduced sklearn.cluster (without commentary). Plotting the simulation dataset making both clusters identifiable then using new values to make a prediction. Plotting the prediction and the centre KMeans determines are the centre points based on where the points sit on the plot. An additional collection of evenly spaced values is introduced and plot. These dummy points (for classification) are used to highlight the decision boundary from where KMeans determines associated cluster via each cluster centre. (Propose) Thus far touched on the scikit-learn clustering algorithm and requires revision. For the moment going to proceed onto the scikit-learn classification algorithm following the same process as the clustering demonstration. First step is to reengineered example code from the sklearn.neighbors.KNeighborsClassifier documentation.\n",
      "\n",
      "commit b2894f773cff3baf3723936213f52cbbe7b2841d\n",
      "Author: SeanOhAileasa <seanohaileasa@protonmail.com>\n",
      "Date:   Wed Oct 6 21:17:11 2021 +0100\n",
      "\n",
      "    DAY:73 - [Notebook: scikit-learn]: (Last Commit) The reengineered example code from the sklearn.cluster.KMeans documentation requires no further examination. (Introduction) To support the reengineered example code from the sklearn.cluster.KMeans documentation now proceeding with simulating a (generated) dataset. Picked two central points from which two clusters of randomly generated values will be built upon. The process involved: i. stacking the collections on top of each other; ii. merging the two collections and iii. shuffling the values of the final collection so that the groups are not identifiable. Created a plot of the generated dataset without any analysis. (Propose) Thus far each commit in both notebooks is probably representing a number of individual units of work (commits). Propose breaking down units of work given commit history will get unwieldy. Next step will involve using the sklearn.cluster.KMeans on the simulated dataset (similar to the sklearn.cluster.KMeans reengineered documentation code completed prior).\n",
      "\n",
      "commit 6cbed5822725fd9ea2002eba39d1b5d9a5419334\n",
      "Author: SeanOhAileasa <seanohaileasa@protonmail.com>\n",
      "Date:   Tue Oct 5 19:56:46 2021 +0100\n",
      "\n",
      "    DAY:74 - [Notebook: scipy-stats]: (Last Commit) Introductory blurb about the t-test may requires less depth and explanation especially referencing machine learning. Chop to a more concise description - revert [DAY:20,0). (Introduction) Demonstrating the t-test by simulating two collections (random numbers) built upon a specified mean and spread (standard deviation). Creating a data structure (DataFrame) from the generated collections and separating both collections into category. Visualisation of the data structure via categorical plot (seaborn) clearly shows both collections differ. Using two methods (i. scipy.stats and; ii. statsmodels.stats.weightstats) performing the actual t-test (determine the probability that the distribution from which the two generated collections had the same mean). The simulated (generated) collections demonstrate a probability of approximately zero or no chance both collections had an underlying distribution in which both had the same mean value because the simulation was setup like this. Running the statistical tests provide evidence that its reproducibly true. Even when both collections have been setup with the same mean value and if the probability is higher than the p-value cut-off of 5% then the statistical test does not provide any evidence the two collections are not centred around same point.\n",
      "\n",
      "commit bd6a1159a5f1d84326bbe91efc5d5be3a22b9bb1\n",
      "Author: SeanOhAileasa <seanohaileasa@protonmail.com>\n",
      "Date:   Mon Oct 4 21:09:13 2021 +0100\n",
      "\n",
      "    DAY:75 - [Notebook: scipy-stats]: (Last Commit) Introductory blurb about the analysis of variance (ANOVA) requires more depth and explanation - revert [DAY:20,0). (Introduction) Taking a step backwards to introduce the t-test and build upon. Introductory blurb about the old-style statistical test called the t-test provides a grounding in the ideas around machine learning. (Propose) Generating two collections of random numbers and creating a data structure built from both then visualising to determine if both collections differ in general enough to justify saying one collection is different to the other collection.\n",
      "\n",
      "commit cd88af3e23ea5b6c246da885d323f2d4de6ac63d\n",
      "Author: SeanOhAileasa <seanohaileasa@protonmail.com>\n",
      "Date:   Sat Oct 2 21:08:12 2021 +0100\n",
      "\n",
      "    DAY:77 - [Notebook: scikit-learn]: (Last Commit) Reengineered example code from the sklearn.cluster.KMeans documentation to be supported with simulated data before moving onto a real-world implementation (re. Solution). (Introduction) Using matplotlib.pyplot plotting documentation example dataset (converting into an appropriate format beforehand). Once the x and y values are separated the plot appears to support the fact there exists two distinct groups of points. The KMeans algorithm determines if two distinct groups exist (allows for a human to be able to determine). Visually changed the colour of the second cluster to distinct both groups and added two new points to test KMeans. Using the KMeans prediction the new points are coloured according to associated (predicted) cluster. Plotting what the KMeans algorithm took as the centre of each clusters gives an indication how the algorithm came to its prediction. (Propose) Creating a clustering simulation with plotting to further develop understand of the sklearn.cluster.KMeans algorithm.\n",
      "\n",
      "commit d321c05f8ca8b5ac863badd05cd6d18c4b2cf577\n",
      "Author: SeanOhAileasa <seanohaileasa@protonmail.com>\n",
      "Date:   Fri Oct 1 20:35:07 2021 +0100\n",
      "\n",
      "    DAY:78 - [Notebook: scikit-learn]: (Last Commit) Introductory blurbs about scikit-learn and each of the scikit-learn algorithms of interest require more depth and explanation - revert [DAY:20,0). Commit proposes researching classification. This was a typo and should be clustering. (Introduction) Hacking the example code from the sklearn.cluster.KMeans documentation. Short blurb on the parameters of object KMeans (i. n_clusters and ii. random_state) and method fit which computes the k-means clustering. Two clusters specified and the attribute labels_ confirms this. Making a prediction using method predict passing two new points predicts associated cluster. Attribute cluster_centers returns what the KMeans algorithm took as the centre point of each cluster. (Propose) Plotting the dataset X separating the two clusters.\n",
      "\n",
      "commit 60956a92a82d7c3be0b4000db1fe1586cca94034\n",
      "Author: SeanOhAileasa <seanohaileasa@protonmail.com>\n",
      "Date:   Thu Sep 30 21:10:53 2021 +0100\n",
      "\n",
      "    DAY:79 - [Notebook: scipy-stats]: (Last Commit) i. Blank Jupiter notebook created and; ii. submitted GitHub repository URL to GMIT. (Abstract) Brief introductory blurb about the analysis of variance (ANOVA) and its application beyond comparing just two populations (t-test). (Propose) Researching t-tests and especially F-Ratios (central part of ANOVA) before proceeding.\n",
      "\n",
      "commit 023bf6b96aca8dfb2ea833cba6fc6101b8f334ad\n",
      "Author: SeanOhAileasa <seanohaileasa@protonmail.com>\n",
      "Date:   Wed Sep 29 19:44:12 2021 +0100\n",
      "\n",
      "    DAY:80 - [Notebook: scikit-learn]: (Last Commit) i. Blank Jupiter notebook created and; ii. submitted GitHub repository URL to GMIT. (Abstract) Introductory blurb about scikit-learn. (Introduction) Short blurb on each scikit-learn algorithms of interest: i. classification; ii. regression and iii. clustering. Classification thought of in terms of labelling data (e.g., images of hand drawn digits). Regression thought of in terms of fitting a line to a set of points (e.g., all of science). Clustering thought of in terms of grouping like items together (e.g., iris dataset). (Propose) Researching classification by simulating a collection of data and introducing sklearn.cluster.\n",
      "\n",
      "commit 39127b924e9bd70b79bacd7c3abb363390364bb6\n",
      "Author: SeanOhAileasa <seanohaileasa@protonmail.com>\n",
      "Date:   Mon Sep 27 15:42:14 2021 +0100\n",
      "\n",
      "    add repository ./mls-scikit-learn-scipy-stats\n"
     ]
    }
   ],
   "source": [
    "%%script bash\n",
    "git log"
   ]
  },
  {
   "cell_type": "code",
   "execution_count": 2,
   "id": "f9992b8f",
   "metadata": {},
   "outputs": [],
   "source": [
    "exit()"
   ]
  },
  {
   "cell_type": "markdown",
   "id": "37bcb131",
   "metadata": {},
   "source": [
    "< [Table of Contents](#top) | [References](#references) >\n",
    "<a id=\"ppmPlanning\"></a>\n",
    "***\n",
    "## Planning\n",
    "***"
   ]
  },
  {
   "cell_type": "markdown",
   "id": "c593d75f",
   "metadata": {},
   "source": [
    "- Keeping in mind:\n",
    "\n",
    "i) GMIT assessment submission marking scheme; and \n",
    "\n",
    "ii) impression given to someone who is looking at this repository, endeavour to provide direct evidence of each of the items listed in each category where applicable (``Research`` - ``Development`` - ``Consistency`` - ``Documentation``)."
   ]
  },
  {
   "cell_type": "markdown",
   "id": "7b4c4737",
   "metadata": {},
   "source": [
    "< [Table of Contents](#top) | [References](#references) >\n",
    "<a id=\"ppmGettingStartedResearch\"></a>\n",
    "***\n",
    "###### Research\n",
    "***"
   ]
  },
  {
   "cell_type": "markdown",
   "id": "36c2b212",
   "metadata": {},
   "source": [
    "- GMIT: **\"Evidence of research performed on topic; submission based on referenced literature, particularly academic literature; evidence of understanding of the documentation for any software or libraries used.\"**"
   ]
  },
  {
   "cell_type": "markdown",
   "id": "23709627",
   "metadata": {},
   "source": [
    "- Investigation of packages used as demonstrated by references, background information, and approach: References will be in the format:\n",
    "\n",
    "```\n",
    "[referenceNumber] authorNames, referenceTitle, locationWebsiteBookVideo, dateMonthYear.\n",
    "```"
   ]
  },
  {
   "cell_type": "markdown",
   "id": "31e3a17e",
   "metadata": {},
   "source": [
    "- Demonstrating work complete with appropriate references and not just for the problem but for the level of understanding of the problem."
   ]
  },
  {
   "cell_type": "markdown",
   "id": "004e3e39",
   "metadata": {},
   "source": [
    "- Code commentary will include details of package, module, object (if applicable) to demonstrate understanding of software documentation and libraries used.\n",
    "\n",
    "```python\n",
    "# b_T_hird_P_arty-imports\n",
    "from matplotlib.pyplot import plot\n",
    "```\n",
    "```python\n",
    "# package matplotlib - module pyplot\n",
    "plot(x,y)\n",
    "```"
   ]
  },
  {
   "cell_type": "markdown",
   "id": "5de26e21",
   "metadata": {},
   "source": [
    "< [Table of Contents](#top) | [References](#references) >\n",
    "<a id=\"ppmGettingStartedDevelopment\"></a>\n",
    "***\n",
    "###### Development\n",
    "***"
   ]
  },
  {
   "cell_type": "markdown",
   "id": "28252c4c",
   "metadata": {},
   "source": [
    "- GMIT: **\"Environment can be set up as described; code works without tweaking and as described; code is efficient, clean, and clear; evidence of consideration of standards and conventions appropriate to code of this kind.\"**"
   ]
  },
  {
   "cell_type": "markdown",
   "id": "5db520cd",
   "metadata": {},
   "source": [
    "- Clear, well-written, and efficient code with appropriate comments - using Jupyter Notebook markdown cells to summarise concise workings. "
   ]
  },
  {
   "cell_type": "markdown",
   "id": "c701d1e2",
   "metadata": {},
   "source": [
    "- As much as possible use the ``Style Guide for Python Code`` [Guido van Rossum](https://web.archive.org/web/20201029095211/https://www.python.org/dev/peps/pep-0008/). Refer user-defined [Coding Conventions](#codingConventions)."
   ]
  },
  {
   "cell_type": "markdown",
   "id": "b12aa450",
   "metadata": {},
   "source": [
    "< [Table of Contents](#top) | [References](#references) >\n",
    "<a id=\"ppmGettingStartedConsistency\"></a>\n",
    "***\n",
    "###### Consistency\n",
    "***"
   ]
  },
  {
   "cell_type": "markdown",
   "id": "7a20dd24",
   "metadata": {},
   "source": [
    "- GMIT: **\"Evidence of planning and project management; pragmatic attitude to work as evidenced by well-considered commit history; commits are of a reasonable size; consideration of how commit history will be perceived by others.\"**"
   ]
  },
  {
   "cell_type": "markdown",
   "id": "6a58e7e4",
   "metadata": {},
   "source": [
    "- Git commit blurb to include number of days outstanding before deadline (if applicable)."
   ]
  },
  {
   "cell_type": "markdown",
   "id": "25051d6f",
   "metadata": {},
   "source": [
    "- Commits to highlight changes made since the last commit so that reviews of the git history can demonstrate compartmentation of work into the different sections."
   ]
  },
  {
   "cell_type": "markdown",
   "id": "f5f36617",
   "metadata": {},
   "source": [
    "< [Table of Contents](#top) | [References](#references) >\n",
    "<a id=\"ppmGettingStartedDocumentation\"></a>\n",
    "***\n",
    "###### Documentation\n",
    "***"
   ]
  },
  {
   "cell_type": "markdown",
   "id": "85ee02aa",
   "metadata": {},
   "source": [
    "- GMIT: **\"Clear documentation of how to create an environment in which any code will run, how to prepare the code for running, how to run the code including setting any options or flags, and what to expect upon running the code. Concise descriptions of code in comments and README.\"**"
   ]
  },
  {
   "cell_type": "markdown",
   "id": "d17f8fb9",
   "metadata": {},
   "source": [
    "- Include descriptions/plots of theoretical and practical aspects of the problem(s) - comments to be very concise for ease of readability."
   ]
  },
  {
   "cell_type": "markdown",
   "id": "4f643e28",
   "metadata": {},
   "source": [
    "- Descriptions of code requiring further explanation will be presented in Jupyter Notebook markdown cells prior to code execution."
   ]
  },
  {
   "cell_type": "markdown",
   "id": "e44451f1",
   "metadata": {},
   "source": [
    "< [Table of Contents](#top) | [References](#references) >\n",
    "<a id=\"considerations\"></a>\n",
    "***\n",
    "### Considerations\n",
    "***"
   ]
  },
  {
   "cell_type": "markdown",
   "id": "27122872",
   "metadata": {},
   "source": [
    "- Using the four listed categories (``Research`` - ``Development`` - ``Consistency`` - ``Documentation``) in an attempt to not only focus on programming but also look at the information (data) and manipulating the data and coming up with techniques."
   ]
  },
  {
   "cell_type": "markdown",
   "id": "ebba38e0",
   "metadata": {},
   "source": [
    "- Sometimes the most complex algorithms are counter-intuitive but do work and have been proven to work. Sometimes only a few lines of code is required to complete a topic/section - endeavour to explain the development of the algorithm and the reasoning behind why/how the code works."
   ]
  },
  {
   "cell_type": "markdown",
   "id": "f67da7d7",
   "metadata": {},
   "source": [
    "- Jupyter Notebook text formatting/presentation to be tidied up closer to the deadline (if applicable)."
   ]
  },
  {
   "cell_type": "markdown",
   "id": "6232ab89",
   "metadata": {},
   "source": [
    "< [Table of Contents](#top) | [References](#references) >\n",
    "<a id=\"codingConventions\"></a>\n",
    "***\n",
    "###### Coding Conventions\n",
    "***"
   ]
  },
  {
   "cell_type": "markdown",
   "id": "8b7a6187",
   "metadata": {},
   "source": [
    "- user-defined function / name (variable) - start with letters as follows\n",
    "\n",
    "| Example       | Signify \t\t          |\n",
    "| :------------ |:------------------------|\n",
    "|\tf        \t|\tuser-defined function |\n",
    "|\tn        \t|\tname - no variables   |"
   ]
  },
  {
   "cell_type": "markdown",
   "id": "f232e36d",
   "metadata": {},
   "source": [
    "***\n",
    "## END"
   ]
  },
  {
   "cell_type": "markdown",
   "id": "499f312c",
   "metadata": {},
   "source": [
    "< [Table of Contents](#top) | [Abstract](#abstract) | [Introduction](#introduction) | [Solution](#solution) | [Conclusion](#conclusion) | [References](#references) >\n",
    "<a id=\"preface\"></a>\n",
    "***\n",
    "## Preface\n",
    "***"
   ]
  },
  {
   "cell_type": "markdown",
   "id": "6f53d84c",
   "metadata": {},
   "source": [
    "- ``regression`` is an overarching idea within ``scikit-learn`` (within machine learning) - nearly all of machine learning (``ml``) is basically ``regression`` in some form [10]"
   ]
  },
  {
   "cell_type": "markdown",
   "id": "2223a2f8",
   "metadata": {},
   "source": [
    "- presenting a simple data-driven problem to demonstrate the practice of: i. data collection; ii. descriptive statistics; iii. correlation; iv. data visualisation; v. model building; vi. extrapolation and regression analysis without the use of ``scikit-learn`` [11]"
   ]
  },
  {
   "cell_type": "markdown",
   "id": "1a7a20c4",
   "metadata": {},
   "source": [
    "- simulating a dataset of the average height (in) and weight (lbs) of the Irish women rugby team [11]"
   ]
  },
  {
   "cell_type": "code",
   "execution_count": 1,
   "id": "6e0add0b",
   "metadata": {},
   "outputs": [],
   "source": [
    "import numpy as np"
   ]
  },
  {
   "cell_type": "markdown",
   "id": "cab10f32",
   "metadata": {},
   "source": [
    "- two collections (``x`` and ``y``) representing fifteen points - the first element in the ``x`` is the input and the output is the first element in ``y`` [10][11]"
   ]
  },
  {
   "cell_type": "code",
   "execution_count": 2,
   "id": "13642483",
   "metadata": {},
   "outputs": [],
   "source": [
    "nHeight=range(58,73) # height of each"
   ]
  },
  {
   "cell_type": "code",
   "execution_count": 3,
   "id": "96f9e800",
   "metadata": {},
   "outputs": [
    {
     "name": "stdout",
     "output_type": "stream",
     "text": [
      "height:  58 59 60 61 62 63 64 65 66 67 68 69 70 71 72\n"
     ]
    }
   ],
   "source": [
    "print(\"height: \",*nHeight)"
   ]
  },
  {
   "cell_type": "code",
   "execution_count": 4,
   "id": "8322166a",
   "metadata": {},
   "outputs": [],
   "source": [
    "x=np.array(nHeight)"
   ]
  },
  {
   "cell_type": "code",
   "execution_count": 5,
   "id": "f3411153",
   "metadata": {},
   "outputs": [
    {
     "data": {
      "text/plain": [
       "array([58, 59, 60, 61, 62, 63, 64, 65, 66, 67, 68, 69, 70, 71, 72])"
      ]
     },
     "execution_count": 5,
     "metadata": {},
     "output_type": "execute_result"
    }
   ],
   "source": [
    "x"
   ]
  },
  {
   "cell_type": "code",
   "execution_count": 6,
   "id": "c23e9ffb",
   "metadata": {},
   "outputs": [],
   "source": [
    "nWeight=[116,118,121,124,127,130,133,136,140,143,147,151,155,160,165] # weight of each"
   ]
  },
  {
   "cell_type": "code",
   "execution_count": 7,
   "id": "f27b0cdd",
   "metadata": {},
   "outputs": [
    {
     "name": "stdout",
     "output_type": "stream",
     "text": [
      "weight:  116 118 121 124 127 130 133 136 140 143 147 151 155 160 165\n"
     ]
    }
   ],
   "source": [
    "print(\"weight: \",*nWeight)"
   ]
  },
  {
   "cell_type": "code",
   "execution_count": 8,
   "id": "f8dc4814",
   "metadata": {},
   "outputs": [],
   "source": [
    "y=np.array(nWeight)"
   ]
  },
  {
   "cell_type": "code",
   "execution_count": 9,
   "id": "308b2a95",
   "metadata": {},
   "outputs": [
    {
     "data": {
      "text/plain": [
       "array([116, 118, 121, 124, 127, 130, 133, 136, 140, 143, 147, 151, 155,\n",
       "       160, 165])"
      ]
     },
     "execution_count": 9,
     "metadata": {},
     "output_type": "execute_result"
    }
   ],
   "source": [
    "y"
   ]
  },
  {
   "cell_type": "markdown",
   "id": "bab980e6",
   "metadata": {},
   "source": [
    "- ``plot`` the points on a grid [10][11]"
   ]
  },
  {
   "cell_type": "code",
   "execution_count": 10,
   "id": "5ff290d8",
   "metadata": {},
   "outputs": [],
   "source": [
    "import matplotlib.pyplot as plt"
   ]
  },
  {
   "cell_type": "code",
   "execution_count": 11,
   "id": "33d6d57e",
   "metadata": {},
   "outputs": [],
   "source": [
    "plt.style.use(\"ggplot\")"
   ]
  },
  {
   "cell_type": "code",
   "execution_count": 12,
   "id": "3e3b6123",
   "metadata": {},
   "outputs": [],
   "source": [
    "plt.rcParams[\"figure.figsize\"]=(12.8,7.2)"
   ]
  },
  {
   "cell_type": "code",
   "execution_count": 13,
   "id": "5c13908b",
   "metadata": {},
   "outputs": [
    {
     "data": {
      "image/png": "[encoded data removed]",
      "text/plain": [
       "<Figure size 921.6x518.4 with 1 Axes>"
      ]
     },
     "metadata": {},
     "output_type": "display_data"
    }
   ],
   "source": [
    "fig,ax=plt.subplots()\n",
    "ax.set_xlabel(\"Height (in)\")\n",
    "ax.set_ylabel(\"Weight (lbs)\")\n",
    "ax.plot(x,y,\"r-\");\n",
    "ax.set_ylim([0,180]);"
   ]
  },
  {
   "cell_type": "code",
   "execution_count": 14,
   "id": "148d8e63",
   "metadata": {},
   "outputs": [],
   "source": [
    "import pandas as pd"
   ]
  },
  {
   "cell_type": "markdown",
   "id": "15483605",
   "metadata": {},
   "source": [
    "- creating a ``DataFrame`` using a dictionary (the first column is ``Height (in)`` and the second column is ``Weight (lbs)`` [11]"
   ]
  },
  {
   "cell_type": "code",
   "execution_count": 15,
   "id": "f27a23c3",
   "metadata": {},
   "outputs": [],
   "source": [
    "d=pd.DataFrame(data={\"Height (in)\":x,\"Weight (lbs)\":y}) # 2-dimensional tabular data"
   ]
  },
  {
   "cell_type": "markdown",
   "id": "6f84ae83",
   "metadata": {},
   "source": [
    "- the ``d`` contains a sample of fifteen observations [11]"
   ]
  },
  {
   "cell_type": "markdown",
   "id": "4782ef54",
   "metadata": {},
   "source": [
    "- it is clear from the dataset the data is sorted (range from lowest to highest) which makes it easy to observe the boundaries of the dataset [11]"
   ]
  },
  {
   "cell_type": "code",
   "execution_count": 16,
   "id": "fdf57d1f",
   "metadata": {},
   "outputs": [
    {
     "data": {
      "text/html": [
       "<div>\n",
       "<style scoped>\n",
       "    .dataframe tbody tr th:only-of-type {\n",
       "        vertical-align: middle;\n",
       "    }\n",
       "\n",
       "    .dataframe tbody tr th {\n",
       "        vertical-align: top;\n",
       "    }\n",
       "\n",
       "    .dataframe thead th {\n",
       "        text-align: right;\n",
       "    }\n",
       "</style>\n",
       "<table border=\"1\" class=\"dataframe\">\n",
       "  <thead>\n",
       "    <tr style=\"text-align: right;\">\n",
       "      <th></th>\n",
       "      <th>Height (in)</th>\n",
       "      <th>Weight (lbs)</th>\n",
       "    </tr>\n",
       "  </thead>\n",
       "  <tbody>\n",
       "    <tr>\n",
       "      <th>0</th>\n",
       "      <td>58</td>\n",
       "      <td>116</td>\n",
       "    </tr>\n",
       "    <tr>\n",
       "      <th>1</th>\n",
       "      <td>59</td>\n",
       "      <td>118</td>\n",
       "    </tr>\n",
       "    <tr>\n",
       "      <th>2</th>\n",
       "      <td>60</td>\n",
       "      <td>121</td>\n",
       "    </tr>\n",
       "    <tr>\n",
       "      <th>3</th>\n",
       "      <td>61</td>\n",
       "      <td>124</td>\n",
       "    </tr>\n",
       "    <tr>\n",
       "      <th>4</th>\n",
       "      <td>62</td>\n",
       "      <td>127</td>\n",
       "    </tr>\n",
       "    <tr>\n",
       "      <th>5</th>\n",
       "      <td>63</td>\n",
       "      <td>130</td>\n",
       "    </tr>\n",
       "    <tr>\n",
       "      <th>6</th>\n",
       "      <td>64</td>\n",
       "      <td>133</td>\n",
       "    </tr>\n",
       "    <tr>\n",
       "      <th>7</th>\n",
       "      <td>65</td>\n",
       "      <td>136</td>\n",
       "    </tr>\n",
       "    <tr>\n",
       "      <th>8</th>\n",
       "      <td>66</td>\n",
       "      <td>140</td>\n",
       "    </tr>\n",
       "    <tr>\n",
       "      <th>9</th>\n",
       "      <td>67</td>\n",
       "      <td>143</td>\n",
       "    </tr>\n",
       "    <tr>\n",
       "      <th>10</th>\n",
       "      <td>68</td>\n",
       "      <td>147</td>\n",
       "    </tr>\n",
       "    <tr>\n",
       "      <th>11</th>\n",
       "      <td>69</td>\n",
       "      <td>151</td>\n",
       "    </tr>\n",
       "    <tr>\n",
       "      <th>12</th>\n",
       "      <td>70</td>\n",
       "      <td>155</td>\n",
       "    </tr>\n",
       "    <tr>\n",
       "      <th>13</th>\n",
       "      <td>71</td>\n",
       "      <td>160</td>\n",
       "    </tr>\n",
       "    <tr>\n",
       "      <th>14</th>\n",
       "      <td>72</td>\n",
       "      <td>165</td>\n",
       "    </tr>\n",
       "  </tbody>\n",
       "</table>\n",
       "</div>"
      ],
      "text/plain": [
       "    Height (in)  Weight (lbs)\n",
       "0            58           116\n",
       "1            59           118\n",
       "2            60           121\n",
       "3            61           124\n",
       "4            62           127\n",
       "5            63           130\n",
       "6            64           133\n",
       "7            65           136\n",
       "8            66           140\n",
       "9            67           143\n",
       "10           68           147\n",
       "11           69           151\n",
       "12           70           155\n",
       "13           71           160\n",
       "14           72           165"
      ]
     },
     "execution_count": 16,
     "metadata": {},
     "output_type": "execute_result"
    }
   ],
   "source": [
    "d"
   ]
  },
  {
   "cell_type": "markdown",
   "id": "7a5da888",
   "metadata": {},
   "source": [
    "- can compute the average height (``x``) by adding the numbers in the ``Height (in)`` column and dividing by the fifteen (number of observations) [11]"
   ]
  },
  {
   "cell_type": "code",
   "execution_count": 17,
   "id": "2be36c4b",
   "metadata": {},
   "outputs": [
    {
     "data": {
      "text/plain": [
       "'average height of women rubgy players is 65.0'"
      ]
     },
     "execution_count": 17,
     "metadata": {},
     "output_type": "execute_result"
    }
   ],
   "source": [
    "heightAvg=d[\"Height (in)\"].sum()/len(d[\"Height (in)\"])\n",
    "f'average height of women rubgy players is {heightAvg}'"
   ]
  },
  {
   "cell_type": "code",
   "execution_count": 18,
   "id": "3882ea36",
   "metadata": {},
   "outputs": [
    {
     "data": {
      "text/plain": [
       "'average weight of women rubgy players is 137.73333333333332'"
      ]
     },
     "execution_count": 18,
     "metadata": {},
     "output_type": "execute_result"
    }
   ],
   "source": [
    "f'average weight of women rubgy players is {d[\"Weight (lbs)\"].sum()/len(d[\"Weight (lbs)\"])}'"
   ]
  },
  {
   "cell_type": "markdown",
   "id": "023069d1",
   "metadata": {},
   "source": [
    "- the dataset and plot reveals that an increase in height correlates with the value of weight [11]"
   ]
  },
  {
   "cell_type": "code",
   "execution_count": 19,
   "id": "1ab64e84",
   "metadata": {},
   "outputs": [
    {
     "data": {
      "text/html": [
       "<div>\n",
       "<style scoped>\n",
       "    .dataframe tbody tr th:only-of-type {\n",
       "        vertical-align: middle;\n",
       "    }\n",
       "\n",
       "    .dataframe tbody tr th {\n",
       "        vertical-align: top;\n",
       "    }\n",
       "\n",
       "    .dataframe thead th {\n",
       "        text-align: right;\n",
       "    }\n",
       "</style>\n",
       "<table border=\"1\" class=\"dataframe\">\n",
       "  <thead>\n",
       "    <tr style=\"text-align: right;\">\n",
       "      <th></th>\n",
       "      <th>Height (in)</th>\n",
       "      <th>Weight (lbs)</th>\n",
       "    </tr>\n",
       "  </thead>\n",
       "  <tbody>\n",
       "    <tr>\n",
       "      <th>0</th>\n",
       "      <td>58</td>\n",
       "      <td>116</td>\n",
       "    </tr>\n",
       "    <tr>\n",
       "      <th>1</th>\n",
       "      <td>59</td>\n",
       "      <td>118</td>\n",
       "    </tr>\n",
       "    <tr>\n",
       "      <th>2</th>\n",
       "      <td>60</td>\n",
       "      <td>121</td>\n",
       "    </tr>\n",
       "    <tr>\n",
       "      <th>3</th>\n",
       "      <td>61</td>\n",
       "      <td>124</td>\n",
       "    </tr>\n",
       "    <tr>\n",
       "      <th>4</th>\n",
       "      <td>62</td>\n",
       "      <td>127</td>\n",
       "    </tr>\n",
       "    <tr>\n",
       "      <th>5</th>\n",
       "      <td>63</td>\n",
       "      <td>130</td>\n",
       "    </tr>\n",
       "    <tr>\n",
       "      <th>6</th>\n",
       "      <td>64</td>\n",
       "      <td>133</td>\n",
       "    </tr>\n",
       "    <tr>\n",
       "      <th>7</th>\n",
       "      <td>65</td>\n",
       "      <td>136</td>\n",
       "    </tr>\n",
       "    <tr>\n",
       "      <th>8</th>\n",
       "      <td>66</td>\n",
       "      <td>140</td>\n",
       "    </tr>\n",
       "    <tr>\n",
       "      <th>9</th>\n",
       "      <td>67</td>\n",
       "      <td>143</td>\n",
       "    </tr>\n",
       "    <tr>\n",
       "      <th>10</th>\n",
       "      <td>68</td>\n",
       "      <td>147</td>\n",
       "    </tr>\n",
       "    <tr>\n",
       "      <th>11</th>\n",
       "      <td>69</td>\n",
       "      <td>151</td>\n",
       "    </tr>\n",
       "    <tr>\n",
       "      <th>12</th>\n",
       "      <td>70</td>\n",
       "      <td>155</td>\n",
       "    </tr>\n",
       "    <tr>\n",
       "      <th>13</th>\n",
       "      <td>71</td>\n",
       "      <td>160</td>\n",
       "    </tr>\n",
       "    <tr>\n",
       "      <th>14</th>\n",
       "      <td>72</td>\n",
       "      <td>165</td>\n",
       "    </tr>\n",
       "  </tbody>\n",
       "</table>\n",
       "</div>"
      ],
      "text/plain": [
       "    Height (in)  Weight (lbs)\n",
       "0            58           116\n",
       "1            59           118\n",
       "2            60           121\n",
       "3            61           124\n",
       "4            62           127\n",
       "5            63           130\n",
       "6            64           133\n",
       "7            65           136\n",
       "8            66           140\n",
       "9            67           143\n",
       "10           68           147\n",
       "11           69           151\n",
       "12           70           155\n",
       "13           71           160\n",
       "14           72           165"
      ]
     },
     "execution_count": 19,
     "metadata": {},
     "output_type": "execute_result"
    }
   ],
   "source": [
    "d"
   ]
  },
  {
   "cell_type": "code",
   "execution_count": 20,
   "id": "64c483ee",
   "metadata": {},
   "outputs": [
    {
     "data": {
      "image/png": "[encoded data removed]",
      "text/plain": [
       "<Figure size 921.6x518.4 with 1 Axes>"
      ]
     },
     "execution_count": 20,
     "metadata": {},
     "output_type": "execute_result"
    }
   ],
   "source": [
    "fig # increase left right"
   ]
  },
  {
   "cell_type": "markdown",
   "id": "d7785a73",
   "metadata": {},
   "source": [
    "- the increase in weight with an increase of one inch in height can be determined by using a simple method - computing the difference in height and weight then dividing the weight difference by the height difference [11]"
   ]
  },
  {
   "cell_type": "code",
   "execution_count": 21,
   "id": "d3e65a44",
   "metadata": {},
   "outputs": [],
   "source": [
    "heightDiff=d[\"Height (in)\"].max()-d[\"Height (in)\"].min()"
   ]
  },
  {
   "cell_type": "code",
   "execution_count": 22,
   "id": "f5bda5a8",
   "metadata": {},
   "outputs": [
    {
     "data": {
      "text/plain": [
       "14"
      ]
     },
     "execution_count": 22,
     "metadata": {},
     "output_type": "execute_result"
    }
   ],
   "source": [
    "heightDiff"
   ]
  },
  {
   "cell_type": "code",
   "execution_count": 23,
   "id": "8fc86c17",
   "metadata": {},
   "outputs": [],
   "source": [
    "weightDiff=d[\"Weight (lbs)\"].max()-d[\"Weight (lbs)\"].min()"
   ]
  },
  {
   "cell_type": "code",
   "execution_count": 24,
   "id": "383ece80",
   "metadata": {},
   "outputs": [
    {
     "data": {
      "text/plain": [
       "49"
      ]
     },
     "execution_count": 24,
     "metadata": {},
     "output_type": "execute_result"
    }
   ],
   "source": [
    "weightDiff"
   ]
  },
  {
   "cell_type": "code",
   "execution_count": 25,
   "id": "2c55886c",
   "metadata": {},
   "outputs": [],
   "source": [
    "lb=weightDiff/heightDiff"
   ]
  },
  {
   "cell_type": "code",
   "execution_count": 26,
   "id": "318f07ac",
   "metadata": {},
   "outputs": [
    {
     "data": {
      "text/plain": [
       "'on average one inch in height results in a difference of 3.5 poounds in weight'"
      ]
     },
     "execution_count": 26,
     "metadata": {},
     "output_type": "execute_result"
    }
   ],
   "source": [
    "f\"on average one inch in height results in a difference of {lb} poounds in weight\""
   ]
  },
  {
   "cell_type": "markdown",
   "id": "6e903e81",
   "metadata": {},
   "source": [
    "- will discover that the weight change to height change is not uniform - keeping in mind the average height is $65$ inches therefore an increase of one inch in height between the heights of $58$ inches and the average is an increase of less than $3$ lbs in weight [11]"
   ]
  },
  {
   "cell_type": "code",
   "execution_count": 27,
   "id": "726a6eb3",
   "metadata": {},
   "outputs": [
    {
     "data": {
      "text/plain": [
       "65.0"
      ]
     },
     "execution_count": 27,
     "metadata": {},
     "output_type": "execute_result"
    }
   ],
   "source": [
    "heightAvg"
   ]
  },
  {
   "cell_type": "code",
   "execution_count": 28,
   "id": "ada45b69",
   "metadata": {},
   "outputs": [],
   "source": [
    "d[\"+(lbs)\"]=d[\"Weight (lbs)\"].diff()"
   ]
  },
  {
   "cell_type": "code",
   "execution_count": 29,
   "id": "207d1508",
   "metadata": {},
   "outputs": [
    {
     "data": {
      "text/html": [
       "<div>\n",
       "<style scoped>\n",
       "    .dataframe tbody tr th:only-of-type {\n",
       "        vertical-align: middle;\n",
       "    }\n",
       "\n",
       "    .dataframe tbody tr th {\n",
       "        vertical-align: top;\n",
       "    }\n",
       "\n",
       "    .dataframe thead th {\n",
       "        text-align: right;\n",
       "    }\n",
       "</style>\n",
       "<table border=\"1\" class=\"dataframe\">\n",
       "  <thead>\n",
       "    <tr style=\"text-align: right;\">\n",
       "      <th></th>\n",
       "      <th>Height (in)</th>\n",
       "      <th>Weight (lbs)</th>\n",
       "      <th>+(lbs)</th>\n",
       "    </tr>\n",
       "  </thead>\n",
       "  <tbody>\n",
       "    <tr>\n",
       "      <th>0</th>\n",
       "      <td>58</td>\n",
       "      <td>116</td>\n",
       "      <td>NaN</td>\n",
       "    </tr>\n",
       "    <tr>\n",
       "      <th>1</th>\n",
       "      <td>59</td>\n",
       "      <td>118</td>\n",
       "      <td>2.0</td>\n",
       "    </tr>\n",
       "    <tr>\n",
       "      <th>2</th>\n",
       "      <td>60</td>\n",
       "      <td>121</td>\n",
       "      <td>3.0</td>\n",
       "    </tr>\n",
       "    <tr>\n",
       "      <th>3</th>\n",
       "      <td>61</td>\n",
       "      <td>124</td>\n",
       "      <td>3.0</td>\n",
       "    </tr>\n",
       "    <tr>\n",
       "      <th>4</th>\n",
       "      <td>62</td>\n",
       "      <td>127</td>\n",
       "      <td>3.0</td>\n",
       "    </tr>\n",
       "    <tr>\n",
       "      <th>5</th>\n",
       "      <td>63</td>\n",
       "      <td>130</td>\n",
       "      <td>3.0</td>\n",
       "    </tr>\n",
       "    <tr>\n",
       "      <th>6</th>\n",
       "      <td>64</td>\n",
       "      <td>133</td>\n",
       "      <td>3.0</td>\n",
       "    </tr>\n",
       "    <tr>\n",
       "      <th>7</th>\n",
       "      <td>65</td>\n",
       "      <td>136</td>\n",
       "      <td>3.0</td>\n",
       "    </tr>\n",
       "  </tbody>\n",
       "</table>\n",
       "</div>"
      ],
      "text/plain": [
       "   Height (in)  Weight (lbs)  +(lbs)\n",
       "0           58           116     NaN\n",
       "1           59           118     2.0\n",
       "2           60           121     3.0\n",
       "3           61           124     3.0\n",
       "4           62           127     3.0\n",
       "5           63           130     3.0\n",
       "6           64           133     3.0\n",
       "7           65           136     3.0"
      ]
     },
     "execution_count": 29,
     "metadata": {},
     "output_type": "execute_result"
    }
   ],
   "source": [
    "d[:8]"
   ]
  },
  {
   "cell_type": "markdown",
   "id": "e466b513",
   "metadata": {},
   "source": [
    "- for values of height greater than $65$ inches the weight increase to $4$ lbs [11]"
   ]
  },
  {
   "cell_type": "code",
   "execution_count": 30,
   "id": "748cc2b9",
   "metadata": {},
   "outputs": [
    {
     "data": {
      "text/html": [
       "<div>\n",
       "<style scoped>\n",
       "    .dataframe tbody tr th:only-of-type {\n",
       "        vertical-align: middle;\n",
       "    }\n",
       "\n",
       "    .dataframe tbody tr th {\n",
       "        vertical-align: top;\n",
       "    }\n",
       "\n",
       "    .dataframe thead th {\n",
       "        text-align: right;\n",
       "    }\n",
       "</style>\n",
       "<table border=\"1\" class=\"dataframe\">\n",
       "  <thead>\n",
       "    <tr style=\"text-align: right;\">\n",
       "      <th></th>\n",
       "      <th>Height (in)</th>\n",
       "      <th>Weight (lbs)</th>\n",
       "      <th>+(lbs)</th>\n",
       "    </tr>\n",
       "  </thead>\n",
       "  <tbody>\n",
       "    <tr>\n",
       "      <th>8</th>\n",
       "      <td>66</td>\n",
       "      <td>140</td>\n",
       "      <td>4.0</td>\n",
       "    </tr>\n",
       "    <tr>\n",
       "      <th>9</th>\n",
       "      <td>67</td>\n",
       "      <td>143</td>\n",
       "      <td>3.0</td>\n",
       "    </tr>\n",
       "    <tr>\n",
       "      <th>10</th>\n",
       "      <td>68</td>\n",
       "      <td>147</td>\n",
       "      <td>4.0</td>\n",
       "    </tr>\n",
       "    <tr>\n",
       "      <th>11</th>\n",
       "      <td>69</td>\n",
       "      <td>151</td>\n",
       "      <td>4.0</td>\n",
       "    </tr>\n",
       "    <tr>\n",
       "      <th>12</th>\n",
       "      <td>70</td>\n",
       "      <td>155</td>\n",
       "      <td>4.0</td>\n",
       "    </tr>\n",
       "  </tbody>\n",
       "</table>\n",
       "</div>"
      ],
      "text/plain": [
       "    Height (in)  Weight (lbs)  +(lbs)\n",
       "8            66           140     4.0\n",
       "9            67           143     3.0\n",
       "10           68           147     4.0\n",
       "11           69           151     4.0\n",
       "12           70           155     4.0"
      ]
     },
     "execution_count": 30,
     "metadata": {},
     "output_type": "execute_result"
    }
   ],
   "source": [
    "d[8:13]"
   ]
  },
  {
   "cell_type": "markdown",
   "id": "59509df3",
   "metadata": {},
   "source": [
    "- for values of height greater than $70$ inches the weight increase by $5$ lbs [11]"
   ]
  },
  {
   "cell_type": "code",
   "execution_count": 31,
   "id": "72321a39",
   "metadata": {},
   "outputs": [
    {
     "data": {
      "text/html": [
       "<div>\n",
       "<style scoped>\n",
       "    .dataframe tbody tr th:only-of-type {\n",
       "        vertical-align: middle;\n",
       "    }\n",
       "\n",
       "    .dataframe tbody tr th {\n",
       "        vertical-align: top;\n",
       "    }\n",
       "\n",
       "    .dataframe thead th {\n",
       "        text-align: right;\n",
       "    }\n",
       "</style>\n",
       "<table border=\"1\" class=\"dataframe\">\n",
       "  <thead>\n",
       "    <tr style=\"text-align: right;\">\n",
       "      <th></th>\n",
       "      <th>Height (in)</th>\n",
       "      <th>Weight (lbs)</th>\n",
       "      <th>+(lbs)</th>\n",
       "    </tr>\n",
       "  </thead>\n",
       "  <tbody>\n",
       "    <tr>\n",
       "      <th>13</th>\n",
       "      <td>71</td>\n",
       "      <td>160</td>\n",
       "      <td>5.0</td>\n",
       "    </tr>\n",
       "    <tr>\n",
       "      <th>14</th>\n",
       "      <td>72</td>\n",
       "      <td>165</td>\n",
       "      <td>5.0</td>\n",
       "    </tr>\n",
       "  </tbody>\n",
       "</table>\n",
       "</div>"
      ],
      "text/plain": [
       "    Height (in)  Weight (lbs)  +(lbs)\n",
       "13           71           160     5.0\n",
       "14           72           165     5.0"
      ]
     },
     "execution_count": 31,
     "metadata": {},
     "output_type": "execute_result"
    }
   ],
   "source": [
    "d[13:15]"
   ]
  },
  {
   "cell_type": "markdown",
   "id": "bfaf5c99",
   "metadata": {},
   "source": [
    "- taking account of the seven substitutes (replacements) bench if someone has a height of $57$ inches then need to extrapolate the present data [11]"
   ]
  },
  {
   "cell_type": "markdown",
   "id": "68ab0184",
   "metadata": {},
   "source": [
    "- already determined the lower range of height (less than $65$ inches) with each inch in height results in a weight change of about $3$ lbs therefore someone who is $58$ inches in height has a corresponding weight of $116$ lbs [11]"
   ]
  },
  {
   "cell_type": "code",
   "execution_count": 32,
   "id": "8e5751df",
   "metadata": {},
   "outputs": [
    {
     "data": {
      "text/html": [
       "<div>\n",
       "<style scoped>\n",
       "    .dataframe tbody tr th:only-of-type {\n",
       "        vertical-align: middle;\n",
       "    }\n",
       "\n",
       "    .dataframe tbody tr th {\n",
       "        vertical-align: top;\n",
       "    }\n",
       "\n",
       "    .dataframe thead th {\n",
       "        text-align: right;\n",
       "    }\n",
       "</style>\n",
       "<table border=\"1\" class=\"dataframe\">\n",
       "  <thead>\n",
       "    <tr style=\"text-align: right;\">\n",
       "      <th></th>\n",
       "      <th>Height (in)</th>\n",
       "      <th>Weight (lbs)</th>\n",
       "      <th>+(lbs)</th>\n",
       "    </tr>\n",
       "  </thead>\n",
       "  <tbody>\n",
       "    <tr>\n",
       "      <th>0</th>\n",
       "      <td>58</td>\n",
       "      <td>116</td>\n",
       "      <td>NaN</td>\n",
       "    </tr>\n",
       "  </tbody>\n",
       "</table>\n",
       "</div>"
      ],
      "text/plain": [
       "   Height (in)  Weight (lbs)  +(lbs)\n",
       "0           58           116     NaN"
      ]
     },
     "execution_count": 32,
     "metadata": {},
     "output_type": "execute_result"
    }
   ],
   "source": [
    "d[:1]"
   ]
  },
  {
   "cell_type": "markdown",
   "id": "6329c91a",
   "metadata": {},
   "source": [
    "- deducting an inch from the height (now $57$ inches) then should deduce $3$ lbs from weight resulting in a corresponding weight of $113$ lbs [11]"
   ]
  },
  {
   "cell_type": "markdown",
   "id": "fd1735fc",
   "metadata": {},
   "source": [
    "- adding an inch to the height at the other end (now $73$ inches) then should add $5$ lbs to the weight resulting in a corresponding weight of $170$ lbs [11]"
   ]
  },
  {
   "cell_type": "code",
   "execution_count": 33,
   "id": "1d0d79bf",
   "metadata": {},
   "outputs": [
    {
     "data": {
      "text/html": [
       "<div>\n",
       "<style scoped>\n",
       "    .dataframe tbody tr th:only-of-type {\n",
       "        vertical-align: middle;\n",
       "    }\n",
       "\n",
       "    .dataframe tbody tr th {\n",
       "        vertical-align: top;\n",
       "    }\n",
       "\n",
       "    .dataframe thead th {\n",
       "        text-align: right;\n",
       "    }\n",
       "</style>\n",
       "<table border=\"1\" class=\"dataframe\">\n",
       "  <thead>\n",
       "    <tr style=\"text-align: right;\">\n",
       "      <th></th>\n",
       "      <th>Height (in)</th>\n",
       "      <th>Weight (lbs)</th>\n",
       "      <th>+(lbs)</th>\n",
       "    </tr>\n",
       "  </thead>\n",
       "  <tbody>\n",
       "    <tr>\n",
       "      <th>14</th>\n",
       "      <td>72</td>\n",
       "      <td>165</td>\n",
       "      <td>5.0</td>\n",
       "    </tr>\n",
       "  </tbody>\n",
       "</table>\n",
       "</div>"
      ],
      "text/plain": [
       "    Height (in)  Weight (lbs)  +(lbs)\n",
       "14           72           165     5.0"
      ]
     },
     "execution_count": 33,
     "metadata": {},
     "output_type": "execute_result"
    }
   ],
   "source": [
    "d[14:15]"
   ]
  },
  {
   "cell_type": "markdown",
   "id": "9e5b641c",
   "metadata": {},
   "source": [
    "- in summary the dependent variable ``Weight (lbs)`` changes in relation to one unit change in the independent variable ``Height (in)`` [11]"
   ]
  },
  {
   "cell_type": "markdown",
   "id": "80d25150",
   "metadata": {},
   "source": [
    "- the Pearson's r correlation is an important statistic used to measure the degree of the relationship between linear related variables [12]"
   ]
  },
  {
   "cell_type": "markdown",
   "id": "3eceddad",
   "metadata": {},
   "source": [
    "- using the Pearson's r correlation to measure the degree to which the ``Height (in)`` and ``Weight (lbs)`` are related using the formula ``(Eq. (1))`` [12]"
   ]
  },
  {
   "cell_type": "markdown",
   "id": "82f74266",
   "metadata": {},
   "source": [
    "$$r = \\frac{N \\sum x y - \\sum x \\sum y}\n",
    "                 {\\sqrt{[\\space N\\space \\sum x^2 - (\\sum x)^2\\space ]\\space [\\space N\\space \\sum y^2 - (\\sum y)^2\\space ]}}\\tag{1}$$           "
   ]
  },
  {
   "cell_type": "markdown",
   "id": "7c6e1319",
   "metadata": {},
   "source": [
    "- $N$ is the number of observations (rows) in the dataset [12]"
   ]
  },
  {
   "cell_type": "code",
   "execution_count": 34,
   "id": "bf16aec3",
   "metadata": {},
   "outputs": [
    {
     "data": {
      "text/plain": [
       "15"
      ]
     },
     "execution_count": 34,
     "metadata": {},
     "output_type": "execute_result"
    }
   ],
   "source": [
    "N=len(d)\n",
    "N"
   ]
  },
  {
   "cell_type": "markdown",
   "id": "2f8d6392",
   "metadata": {},
   "source": [
    "- $\\sum xy$ is the sum of the products of paired scores [12]"
   ]
  },
  {
   "cell_type": "code",
   "execution_count": 35,
   "id": "2388b452",
   "metadata": {
    "scrolled": true
   },
   "outputs": [
    {
     "data": {
      "text/plain": [
       "135256"
      ]
     },
     "execution_count": 35,
     "metadata": {},
     "output_type": "execute_result"
    }
   ],
   "source": [
    "sXY=0\n",
    "for i in range(len(d)): sXY+=d[\"Height (in)\"][i]*d[\"Weight (lbs)\"][i]\n",
    "sXY"
   ]
  },
  {
   "cell_type": "markdown",
   "id": "fc2aa4b9",
   "metadata": {},
   "source": [
    "- $\\sum x$ is the sum of $x$ scores [12]"
   ]
  },
  {
   "cell_type": "code",
   "execution_count": 36,
   "id": "ee5aaa95",
   "metadata": {},
   "outputs": [
    {
     "data": {
      "text/plain": [
       "975"
      ]
     },
     "execution_count": 36,
     "metadata": {},
     "output_type": "execute_result"
    }
   ],
   "source": [
    "sX=d[\"Height (in)\"].sum()\n",
    "sX"
   ]
  },
  {
   "cell_type": "markdown",
   "id": "dff9f468",
   "metadata": {},
   "source": [
    "- $\\sum y$ is the sum of $y$ scores [12]"
   ]
  },
  {
   "cell_type": "code",
   "execution_count": 37,
   "id": "f2e97ea3",
   "metadata": {},
   "outputs": [
    {
     "data": {
      "text/plain": [
       "2066"
      ]
     },
     "execution_count": 37,
     "metadata": {},
     "output_type": "execute_result"
    }
   ],
   "source": [
    "sY=d[\"Weight (lbs)\"].sum()\n",
    "sY"
   ]
  },
  {
   "cell_type": "markdown",
   "id": "6e9eab75",
   "metadata": {},
   "source": [
    "- $\\sum x^2$ is the sum of squared $x$ scores [12]"
   ]
  },
  {
   "cell_type": "code",
   "execution_count": 38,
   "id": "05a10306",
   "metadata": {},
   "outputs": [
    {
     "data": {
      "text/plain": [
       "63655"
      ]
     },
     "execution_count": 38,
     "metadata": {},
     "output_type": "execute_result"
    }
   ],
   "source": [
    "sXsq=0\n",
    "for i in range(len(d)): sXsq+=d[\"Height (in)\"][i]**2\n",
    "sXsq"
   ]
  },
  {
   "cell_type": "markdown",
   "id": "01f0d745",
   "metadata": {},
   "source": [
    "- $\\sum y^2$ is the sum of squared $y$ scores [12]"
   ]
  },
  {
   "cell_type": "code",
   "execution_count": 39,
   "id": "8cb4a764",
   "metadata": {},
   "outputs": [
    {
     "data": {
      "text/plain": [
       "287920"
      ]
     },
     "execution_count": 39,
     "metadata": {},
     "output_type": "execute_result"
    }
   ],
   "source": [
    "sYsq=0\n",
    "for i in range(len(d)): sYsq+=d[\"Weight (lbs)\"][i]**2\n",
    "sYsq"
   ]
  },
  {
   "cell_type": "markdown",
   "id": "6005d4d3",
   "metadata": {},
   "source": [
    "- $r$ is the Pearson's r correlation coefficient when input into ``Eq. (1)`` [12]"
   ]
  },
  {
   "cell_type": "markdown",
   "id": "680f3a6f",
   "metadata": {},
   "source": [
    "- $0.995$ (to three decimal places) is the correlation coefficient which indicates two things: i. ``height (in)`` and ``weight (lbs)`` are positively related; and ii. the strength of their relation is strong [12]"
   ]
  },
  {
   "cell_type": "code",
   "execution_count": 40,
   "id": "055cd7fd",
   "metadata": {},
   "outputs": [
    {
     "data": {
      "text/plain": [
       "0.995"
      ]
     },
     "execution_count": 40,
     "metadata": {},
     "output_type": "execute_result"
    }
   ],
   "source": [
    "from math import sqrt\n",
    "r=round((N*sXY-sX*sY)/(sqrt((N*sXsq-sX**2)*(N*sYsq-sY**2))),3)\n",
    "r"
   ]
  },
  {
   "cell_type": "markdown",
   "id": "5fe6e6d0",
   "metadata": {},
   "source": [
    "< [Table of Contents](#top) | [References](#references) >\n",
    "<a id=\"prefaceRegression\"></a>\n",
    "***\n",
    "### Regression\n",
    "***"
   ]
  },
  {
   "cell_type": "code",
   "execution_count": 41,
   "id": "1fe4828d",
   "metadata": {},
   "outputs": [],
   "source": [
    "x=np.array([4.0,16.0])"
   ]
  },
  {
   "cell_type": "code",
   "execution_count": 42,
   "id": "91c37286",
   "metadata": {},
   "outputs": [
    {
     "data": {
      "text/plain": [
       "array([ 4., 16.])"
      ]
     },
     "execution_count": 42,
     "metadata": {},
     "output_type": "execute_result"
    }
   ],
   "source": [
    "x"
   ]
  },
  {
   "cell_type": "code",
   "execution_count": 43,
   "id": "0f7965ad",
   "metadata": {},
   "outputs": [],
   "source": [
    "y=np.array([6.0,12.0])"
   ]
  },
  {
   "cell_type": "code",
   "execution_count": 44,
   "id": "2326bad1",
   "metadata": {},
   "outputs": [
    {
     "data": {
      "text/plain": [
       "array([ 6., 12.])"
      ]
     },
     "execution_count": 44,
     "metadata": {},
     "output_type": "execute_result"
    }
   ],
   "source": [
    "y"
   ]
  },
  {
   "cell_type": "markdown",
   "id": "0c63c66e",
   "metadata": {},
   "source": [
    "- ``plot`` the points on a grid [10]"
   ]
  },
  {
   "cell_type": "code",
   "execution_count": 45,
   "id": "d53f18b7",
   "metadata": {},
   "outputs": [
    {
     "data": {
      "image/png": "[encoded data removed]",
      "text/plain": [
       "<Figure size 921.6x518.4 with 1 Axes>"
      ]
     },
     "metadata": {},
     "output_type": "display_data"
    }
   ],
   "source": [
    "fig,ax=plt.subplots()\n",
    "ax.plot(x,y,\"ro\")\n",
    "ax.set_xlim([-5,25])\n",
    "ax.set_ylim([-5,25]);"
   ]
  },
  {
   "cell_type": "markdown",
   "id": "dc3818af",
   "metadata": {},
   "source": [
    "- in school when given the equation of a line (usually taught to think in terms of equations) told to plot the equation (draw the line) - usually would pick two points on the line and draw the line - the line is a picture of the equation (at least around these two points) [10]"
   ]
  },
  {
   "cell_type": "markdown",
   "id": "9e468e33",
   "metadata": {},
   "source": [
    "- ``regression`` is the opposite idea - not given the equation of the line but given points on the line then trying to fill in the blanks between the points [10]"
   ]
  },
  {
   "cell_type": "markdown",
   "id": "cbb24ec7",
   "metadata": {},
   "source": [
    "- this can be tricky because effectively theres an infinite number of lines between two points (theres only one straight line between two distinct points) [10]"
   ]
  },
  {
   "cell_type": "markdown",
   "id": "51b44678",
   "metadata": {},
   "source": [
    "- allowing for curves etc then got an infinite number of lines and the question is out of those infinite number of lines which is the best one [10]"
   ]
  },
  {
   "cell_type": "markdown",
   "id": "16af013a",
   "metadata": {},
   "source": [
    "- its easy when there is just two points because theres a perfect line that fits between them but more typically might see a number of points all jiggle about therefore not going to get a line that fits all the points perfectly but is there a best fit line nonetheless [10]"
   ]
  },
  {
   "cell_type": "code",
   "execution_count": 46,
   "id": "4e69ed4e",
   "metadata": {},
   "outputs": [],
   "source": [
    "l=np.linspace(-5.0,25.0,100)\n",
    "ax.plot(l,0.5*l+4.0,\"g--\"); # plot straight line"
   ]
  },
  {
   "cell_type": "code",
   "execution_count": 47,
   "id": "b8126173",
   "metadata": {},
   "outputs": [],
   "source": [
    "l=np.linspace(4.0,16.0,10) # straight line segmenta\n",
    "ax.plot(l,0.5*l+4.0,\"b-\");"
   ]
  },
  {
   "cell_type": "code",
   "execution_count": 48,
   "id": "ab40d785",
   "metadata": {},
   "outputs": [],
   "source": [
    "ax.plot(x,y,\"ro\"); # plot the points"
   ]
  },
  {
   "cell_type": "code",
   "execution_count": 49,
   "id": "12238b90",
   "metadata": {},
   "outputs": [],
   "source": [
    "ax.set_xlim([-5.0,25.0])\n",
    "ax.set_ylim([-5.0,25.0]);"
   ]
  },
  {
   "cell_type": "markdown",
   "id": "63541edd",
   "metadata": {},
   "source": [
    "- the green dotted line is the best fit line for these two points (including the blue segment so can imagine the green continues behind the blue) [10]"
   ]
  },
  {
   "cell_type": "markdown",
   "id": "de9de028",
   "metadata": {},
   "source": [
    "- mathematical theory proves that if two points exist in a 2-dimensional plane then theres a single line that cuts them both (joins them both) [10]"
   ]
  },
  {
   "cell_type": "code",
   "execution_count": 50,
   "id": "ed6c008d",
   "metadata": {},
   "outputs": [
    {
     "data": {
      "image/png": "[encoded data removed]",
      "text/plain": [
       "<Figure size 921.6x518.4 with 1 Axes>"
      ]
     },
     "execution_count": 50,
     "metadata": {},
     "output_type": "execute_result"
    }
   ],
   "source": [
    "fig"
   ]
  },
  {
   "cell_type": "code",
   "execution_count": 51,
   "id": "d21ae7a5",
   "metadata": {},
   "outputs": [],
   "source": [
    "exit()"
   ]
  },
  {
   "cell_type": "markdown",
   "id": "0c88ab4a",
   "metadata": {},
   "source": [
    "< [Table of Contents](#top) | [Introduction](#introduction) | [Solution](#solution) | [Conclusion](#conclusion) | [References](#references) >\n",
    "<a id=\"abstract\"></a>\n",
    "***\n",
    "## Abstract\n",
    "***"
   ]
  },
  {
   "cell_type": "markdown",
   "id": "ac050a22",
   "metadata": {},
   "source": [
    "- ``scikit-learn`` is for machine learning in ``python`` [1]"
   ]
  },
  {
   "cell_type": "markdown",
   "id": "fffdb0c2",
   "metadata": {},
   "source": [
    "- for topical machine learning algorithms ``scikit-learn`` might not be the first port of call but at the same time even if using other packages typically would use the various helper methods in ``scikit-learn`` to clean up the dataset initially - can use for neural networks but this would typically be outsourced to a specific package such as ``tensorflow.keras`` [1]"
   ]
  },
  {
   "cell_type": "markdown",
   "id": "2430e544",
   "metadata": {},
   "source": [
    "- organised in six sections ``scikit-learn`` (spawned from ``scipy``) consists of built-in algorithms that are typically considered machine learning [2]"
   ]
  },
  {
   "cell_type": "markdown",
   "id": "3fa461fc",
   "metadata": {},
   "source": [
    "***\n",
    "## END"
   ]
  },
  {
   "cell_type": "markdown",
   "id": "d319e57d",
   "metadata": {},
   "source": [
    "< [Table of Contents](#top) | [Abstract](#abstract) | [Solution](#solution) | [Conclusion](#conclusion) | [References](#references) >\n",
    "<a id=\"introduction\"></a>\n",
    "***\n",
    "## Introduction\n",
    "***"
   ]
  },
  {
   "cell_type": "markdown",
   "id": "3d97a37f",
   "metadata": {},
   "source": [
    "- demonstrations of three interesting ``scikit-learn`` algorithms"
   ]
  },
  {
   "cell_type": "markdown",
   "id": "3a3407cb",
   "metadata": {},
   "source": [
    "< [Table of Contents](#top) | [References](#references) >\n",
    "<a id=\"classification\"></a>\n",
    "***\n",
    "### Classification\n",
    "***"
   ]
  },
  {
   "cell_type": "markdown",
   "id": "37098d3b",
   "metadata": {},
   "source": [
    "- typically thought of in terms of labelling data [2]"
   ]
  },
  {
   "cell_type": "markdown",
   "id": "868f027b",
   "metadata": {},
   "source": [
    "- could have a set of images containing single digits hand drawn with zero in one image and one in another - the labels put on these images might be the digit $0$ and the digit $1$ etc [2]"
   ]
  },
  {
   "cell_type": "markdown",
   "id": "37d8d979",
   "metadata": {},
   "source": [
    "- shown a picture with a digit drawn a ``classification`` algorithm is used to determine the digit it represents [2]"
   ]
  },
  {
   "cell_type": "markdown",
   "id": "103846b4",
   "metadata": {},
   "source": [
    "![classification](https://github.com/SeanOhAileasa/SeanOhAileasa/blob/master/rc/mls/scikit/classification.png?raw=true)\n",
    "\n",
    "***(Image) scikit-learn, \"Machine Learning in Python,\" [scikit-learn.org](https://scikit-learn.org/stable), n.d..***"
   ]
  },
  {
   "cell_type": "markdown",
   "id": "45b016de",
   "metadata": {},
   "source": [
    "< [Table of Contents](#top) | [References](#references) >\n",
    "<a id=\"clusteringsklearnneighborsKNeighborsClassifier\"></a>\n",
    "***\n",
    "###### ``sklearn.neighbors.KNeighborsClassifier ``\n",
    "***"
   ]
  },
  {
   "cell_type": "markdown",
   "id": "75e36c19",
   "metadata": {},
   "source": [
    "- analysing example code from ``sklearn.neighbors.KNeighborsClassifier`` documentation [5]"
   ]
  },
  {
   "cell_type": "code",
   "execution_count": 1,
   "id": "5f676d86",
   "metadata": {},
   "outputs": [],
   "source": [
    "import sklearn.neighbors as nei"
   ]
  },
  {
   "cell_type": "code",
   "execution_count": 2,
   "id": "d0b714aa",
   "metadata": {
    "scrolled": false
   },
   "outputs": [
    {
     "name": "stdout",
     "output_type": "stream",
     "text": [
      "    >>> X = [[0], [1], [2], [3]]\n",
      "    >>> y = [0, 0, 1, 1]\n",
      "    >>> from sklearn.neighbors import KNeighborsClassifier\n",
      "    >>> neigh = KNeighborsClassifier(n_neighbors=3)\n",
      "    >>> neigh.fit(X, y)\n",
      "    KNeighborsClassifier(...)\n",
      "    >>> print(neigh.predict([[1.1]]))\n",
      "    [0]\n",
      "    >>> print(neigh.predict_proba([[0.9]]))\n",
      "    [[0.66666667 0.33333333]]\n"
     ]
    }
   ],
   "source": [
    "print(\"\\n\".join(nei.KNeighborsClassifier.__doc__.split(\"\\n\")[88:98]))"
   ]
  },
  {
   "cell_type": "code",
   "execution_count": 3,
   "id": "84e97c67",
   "metadata": {},
   "outputs": [],
   "source": [
    "X=[[0],[1],[2],[3]]"
   ]
  },
  {
   "cell_type": "code",
   "execution_count": 4,
   "id": "b78c3b2b",
   "metadata": {},
   "outputs": [],
   "source": [
    "y=[0,0,1,1]"
   ]
  },
  {
   "cell_type": "markdown",
   "id": "ec26ee7f",
   "metadata": {},
   "source": [
    "< [Table of Contents](#top) | [References](#references) >\n",
    "<a id=\"clusteringsklearnneighborsKNeighborsClassifierVisualisation\"></a>\n",
    "***\n",
    "###### Visualisation\n",
    "***"
   ]
  },
  {
   "cell_type": "markdown",
   "id": "3af46f48",
   "metadata": {},
   "source": [
    "&#x1F6A7;"
   ]
  },
  {
   "cell_type": "markdown",
   "id": "60d4ec8e",
   "metadata": {},
   "source": [
    "< [Table of Contents](#top) | [References](#references) >\n",
    "<a id=\"clusteringsklearnneighborsKNeighborsClassifierclassifier\"></a>\n",
    "***\n",
    "###### Classifier\n",
    "***"
   ]
  },
  {
   "cell_type": "markdown",
   "id": "a9727644",
   "metadata": {},
   "source": [
    "- using the ``k-nearest neighbors`` (hereafter referred as ``KNN``) algorithm in ``scikit-learn`` the class ``KNeighborsClassifier`` returns back an object represents an instance of the ``KNN`` setup [5]"
   ]
  },
  {
   "cell_type": "markdown",
   "id": "750c89ba",
   "metadata": {},
   "source": [
    "- ``nInsObjKNN`` (data structure) represents the ``KNN`` algorithm whereby parameter ``n_neighbors`` is set to 3 (selects the 3 nearest neighbors) [5]"
   ]
  },
  {
   "cell_type": "code",
   "execution_count": 5,
   "id": "ca157ba4",
   "metadata": {},
   "outputs": [],
   "source": [
    "nInsObjKNN=nei.KNeighborsClassifier(n_neighbors=3) # n_neighbors to use"
   ]
  },
  {
   "cell_type": "code",
   "execution_count": 6,
   "id": "10a36f5c",
   "metadata": {},
   "outputs": [
    {
     "data": {
      "text/plain": [
       "sklearn.neighbors._classification.KNeighborsClassifier"
      ]
     },
     "execution_count": 6,
     "metadata": {},
     "output_type": "execute_result"
    }
   ],
   "source": [
    "type(nInsObjKNN)"
   ]
  },
  {
   "cell_type": "markdown",
   "id": "bda8ddfe",
   "metadata": {},
   "source": [
    "< [Table of Contents](#top) | [References](#references) >\n",
    "<a id=\"clusteringsklearnneighborsKNeighborsClassifierClassifierTrain\"></a>\n",
    "***\n",
    "###### Train\n",
    "***"
   ]
  },
  {
   "cell_type": "markdown",
   "id": "18b790d9",
   "metadata": {},
   "source": [
    "- need to train the classifier [5]"
   ]
  },
  {
   "cell_type": "markdown",
   "id": "7a77b7ab",
   "metadata": {},
   "source": [
    "- giving the classifer the ``X`` for which the ``y`` is known [5]"
   ]
  },
  {
   "cell_type": "code",
   "execution_count": 7,
   "id": "a2bc4386",
   "metadata": {},
   "outputs": [
    {
     "data": {
      "text/plain": [
       "[[0], [1], [2], [3]]"
      ]
     },
     "execution_count": 7,
     "metadata": {},
     "output_type": "execute_result"
    }
   ],
   "source": [
    "X # fit nInsObjKNN training"
   ]
  },
  {
   "cell_type": "code",
   "execution_count": 8,
   "id": "047019e7",
   "metadata": {},
   "outputs": [
    {
     "data": {
      "text/plain": [
       "[0, 0, 1, 1]"
      ]
     },
     "execution_count": 8,
     "metadata": {},
     "output_type": "execute_result"
    }
   ],
   "source": [
    "y # fit nInsObjKNN targets"
   ]
  },
  {
   "cell_type": "markdown",
   "id": "690d3c70",
   "metadata": {},
   "source": [
    "< [Table of Contents](#top) | [References](#references) >\n",
    "<a id=\"clusteringsklearnneighborsKNeighborsClassifierClassifierfit\"></a>\n",
    "***\n",
    "###### Fit\n",
    "***"
   ]
  },
  {
   "cell_type": "markdown",
   "id": "f01001a7",
   "metadata": {},
   "source": [
    "- method ``fit`` tells the ``nInsObjKNN`` the actual data points (setup for ``KNN``) [5]"
   ]
  },
  {
   "cell_type": "code",
   "execution_count": 9,
   "id": "11b4b21b",
   "metadata": {},
   "outputs": [
    {
     "data": {
      "text/plain": [
       "KNeighborsClassifier(n_neighbors=3)"
      ]
     },
     "execution_count": 9,
     "metadata": {},
     "output_type": "execute_result"
    }
   ],
   "source": [
    "nInsObjKNN.fit(X=X,y=y) # # parameters X=training y=targets"
   ]
  },
  {
   "cell_type": "markdown",
   "id": "b0400f03",
   "metadata": {},
   "source": [
    "- ``nInsObjKNN`` is now changed (``X`` and ``y`` are fit to it) which is the actual training step (telling the ``KNN`` the actual data points want to generalise from) [5]"
   ]
  },
  {
   "cell_type": "markdown",
   "id": "9324e956",
   "metadata": {},
   "source": [
    "< [Table of Contents](#top) | [References](#references) >\n",
    "<a id=\"clusteringsklearnneighborsKNeighborsClassifierClassifierpredict\"></a>\n",
    "***\n",
    "###### Predict\n",
    "***"
   ]
  },
  {
   "cell_type": "markdown",
   "id": "ff4f6054",
   "metadata": {},
   "source": [
    "- the ``KNN`` algorithm has prepared itself to make predictions based on the trained ``KNN`` classifier (trained to have 3 neighbours with four ``X`` knowing the four ``y``) [6]"
   ]
  },
  {
   "cell_type": "markdown",
   "id": "ae595956",
   "metadata": {},
   "source": [
    "- predicts the class labels via ``nData`` [6]"
   ]
  },
  {
   "cell_type": "code",
   "execution_count": 10,
   "id": "ecc18867",
   "metadata": {},
   "outputs": [],
   "source": [
    "nData=[1.1]"
   ]
  },
  {
   "cell_type": "code",
   "execution_count": 11,
   "id": "4d1d20c6",
   "metadata": {},
   "outputs": [
    {
     "data": {
      "text/plain": [
       "array([0])"
      ]
     },
     "execution_count": 11,
     "metadata": {},
     "output_type": "execute_result"
    }
   ],
   "source": [
    "nInsObjKNN.predict(X=[nData]) # return y ndarray"
   ]
  },
  {
   "cell_type": "code",
   "execution_count": 12,
   "id": "bf10f869",
   "metadata": {},
   "outputs": [
    {
     "data": {
      "text/plain": [
       "[0, 0, 1, 1]"
      ]
     },
     "execution_count": 12,
     "metadata": {},
     "output_type": "execute_result"
    }
   ],
   "source": [
    "y # training is zero"
   ]
  },
  {
   "cell_type": "markdown",
   "id": "f7645a15",
   "metadata": {},
   "source": [
    "- method ``predict_proba`` returns the probability estimates for the test data ``X`` [6]"
   ]
  },
  {
   "cell_type": "code",
   "execution_count": 13,
   "id": "4ad229d1",
   "metadata": {},
   "outputs": [
    {
     "data": {
      "text/plain": [
       "array([[0.66666667, 0.33333333]])"
      ]
     },
     "execution_count": 13,
     "metadata": {},
     "output_type": "execute_result"
    }
   ],
   "source": [
    "nInsObjKNN.predict_proba(X=[[0.9]])"
   ]
  },
  {
   "cell_type": "code",
   "execution_count": 14,
   "id": "66a4bb2b",
   "metadata": {},
   "outputs": [],
   "source": [
    "exit()"
   ]
  },
  {
   "cell_type": "markdown",
   "id": "df7b24e1",
   "metadata": {},
   "source": [
    "< [Table of Contents](#top) | [References](#references) >\n",
    "<a id=\"classificationiris\"></a>\n",
    "***\n",
    "###### Iris Dataset\n",
    "***"
   ]
  },
  {
   "cell_type": "markdown",
   "id": "232faae7",
   "metadata": {},
   "source": [
    "- setting up the iris dataset to use the ``KNN`` algorithm [7] and determine if the problem is in fact suitable for ``KNN`` [5]"
   ]
  },
  {
   "cell_type": "code",
   "execution_count": 1,
   "id": "820a9c66",
   "metadata": {},
   "outputs": [],
   "source": [
    "import pandas as pd"
   ]
  },
  {
   "cell_type": "code",
   "execution_count": 2,
   "id": "7ff3ef7b",
   "metadata": {},
   "outputs": [],
   "source": [
    "df=pd.read_csv(filepath_or_buffer=\"https://raw.githubusercontent.com/SeanOhAileasa/SeanOhAileasa/master/rc/datasets/iris.csv\") # instance object DataFrame"
   ]
  },
  {
   "cell_type": "markdown",
   "id": "2449e0dd",
   "metadata": {},
   "source": [
    "- visualising the dataset at this stage to determine if it is in fact suitable for something like ``KNN`` [8]"
   ]
  },
  {
   "cell_type": "markdown",
   "id": "55ae5283",
   "metadata": {},
   "source": [
    "- making a case for using a given machine learning algorithm based on observations or different summary statistics or plots built out from the dataset [8]"
   ]
  },
  {
   "cell_type": "code",
   "execution_count": 3,
   "id": "79eb336f",
   "metadata": {},
   "outputs": [
    {
     "data": {
      "text/html": [
       "<div>\n",
       "<style scoped>\n",
       "    .dataframe tbody tr th:only-of-type {\n",
       "        vertical-align: middle;\n",
       "    }\n",
       "\n",
       "    .dataframe tbody tr th {\n",
       "        vertical-align: top;\n",
       "    }\n",
       "\n",
       "    .dataframe thead th {\n",
       "        text-align: right;\n",
       "    }\n",
       "</style>\n",
       "<table border=\"1\" class=\"dataframe\">\n",
       "  <thead>\n",
       "    <tr style=\"text-align: right;\">\n",
       "      <th></th>\n",
       "      <th>sepal_length</th>\n",
       "      <th>sepal_width</th>\n",
       "      <th>petal_length</th>\n",
       "      <th>petal_width</th>\n",
       "      <th>class</th>\n",
       "    </tr>\n",
       "  </thead>\n",
       "  <tbody>\n",
       "    <tr>\n",
       "      <th>0</th>\n",
       "      <td>5.1</td>\n",
       "      <td>3.5</td>\n",
       "      <td>1.4</td>\n",
       "      <td>0.2</td>\n",
       "      <td>setosa</td>\n",
       "    </tr>\n",
       "    <tr>\n",
       "      <th>1</th>\n",
       "      <td>4.9</td>\n",
       "      <td>3.0</td>\n",
       "      <td>1.4</td>\n",
       "      <td>0.2</td>\n",
       "      <td>setosa</td>\n",
       "    </tr>\n",
       "    <tr>\n",
       "      <th>2</th>\n",
       "      <td>4.7</td>\n",
       "      <td>3.2</td>\n",
       "      <td>1.3</td>\n",
       "      <td>0.2</td>\n",
       "      <td>setosa</td>\n",
       "    </tr>\n",
       "    <tr>\n",
       "      <th>3</th>\n",
       "      <td>4.6</td>\n",
       "      <td>3.1</td>\n",
       "      <td>1.5</td>\n",
       "      <td>0.2</td>\n",
       "      <td>setosa</td>\n",
       "    </tr>\n",
       "    <tr>\n",
       "      <th>4</th>\n",
       "      <td>5.0</td>\n",
       "      <td>3.6</td>\n",
       "      <td>1.4</td>\n",
       "      <td>0.2</td>\n",
       "      <td>setosa</td>\n",
       "    </tr>\n",
       "    <tr>\n",
       "      <th>...</th>\n",
       "      <td>...</td>\n",
       "      <td>...</td>\n",
       "      <td>...</td>\n",
       "      <td>...</td>\n",
       "      <td>...</td>\n",
       "    </tr>\n",
       "    <tr>\n",
       "      <th>145</th>\n",
       "      <td>6.7</td>\n",
       "      <td>3.0</td>\n",
       "      <td>5.2</td>\n",
       "      <td>2.3</td>\n",
       "      <td>virginica</td>\n",
       "    </tr>\n",
       "    <tr>\n",
       "      <th>146</th>\n",
       "      <td>6.3</td>\n",
       "      <td>2.5</td>\n",
       "      <td>5.0</td>\n",
       "      <td>1.9</td>\n",
       "      <td>virginica</td>\n",
       "    </tr>\n",
       "    <tr>\n",
       "      <th>147</th>\n",
       "      <td>6.5</td>\n",
       "      <td>3.0</td>\n",
       "      <td>5.2</td>\n",
       "      <td>2.0</td>\n",
       "      <td>virginica</td>\n",
       "    </tr>\n",
       "    <tr>\n",
       "      <th>148</th>\n",
       "      <td>6.2</td>\n",
       "      <td>3.4</td>\n",
       "      <td>5.4</td>\n",
       "      <td>2.3</td>\n",
       "      <td>virginica</td>\n",
       "    </tr>\n",
       "    <tr>\n",
       "      <th>149</th>\n",
       "      <td>5.9</td>\n",
       "      <td>3.0</td>\n",
       "      <td>5.1</td>\n",
       "      <td>1.8</td>\n",
       "      <td>virginica</td>\n",
       "    </tr>\n",
       "  </tbody>\n",
       "</table>\n",
       "<p>150 rows × 5 columns</p>\n",
       "</div>"
      ],
      "text/plain": [
       "     sepal_length  sepal_width  petal_length  petal_width      class\n",
       "0             5.1          3.5           1.4          0.2     setosa\n",
       "1             4.9          3.0           1.4          0.2     setosa\n",
       "2             4.7          3.2           1.3          0.2     setosa\n",
       "3             4.6          3.1           1.5          0.2     setosa\n",
       "4             5.0          3.6           1.4          0.2     setosa\n",
       "..            ...          ...           ...          ...        ...\n",
       "145           6.7          3.0           5.2          2.3  virginica\n",
       "146           6.3          2.5           5.0          1.9  virginica\n",
       "147           6.5          3.0           5.2          2.0  virginica\n",
       "148           6.2          3.4           5.4          2.3  virginica\n",
       "149           5.9          3.0           5.1          1.8  virginica\n",
       "\n",
       "[150 rows x 5 columns]"
      ]
     },
     "execution_count": 3,
     "metadata": {},
     "output_type": "execute_result"
    }
   ],
   "source": [
    "df"
   ]
  },
  {
   "cell_type": "markdown",
   "id": "e5599691",
   "metadata": {},
   "source": [
    "< [Table of Contents](#top) | [References](#references) >\n",
    "<a id=\"classificationirisVisualisation\"></a>\n",
    "***\n",
    "###### Visualisation\n",
    "***"
   ]
  },
  {
   "cell_type": "code",
   "execution_count": 4,
   "id": "2fad33cf",
   "metadata": {},
   "outputs": [],
   "source": [
    "import matplotlib.pyplot as plt"
   ]
  },
  {
   "cell_type": "code",
   "execution_count": 5,
   "id": "75bc7968",
   "metadata": {},
   "outputs": [],
   "source": [
    "plt.style.use(style=\"ggplot\")"
   ]
  },
  {
   "cell_type": "code",
   "execution_count": 6,
   "id": "3dcd3a50",
   "metadata": {},
   "outputs": [],
   "source": [
    "plt.rcParams[\"figure.figsize\"]=12.8,7.2"
   ]
  },
  {
   "cell_type": "code",
   "execution_count": 7,
   "id": "a20dbaed",
   "metadata": {},
   "outputs": [],
   "source": [
    "import seaborn as sns"
   ]
  },
  {
   "cell_type": "code",
   "execution_count": 8,
   "id": "298cf53c",
   "metadata": {},
   "outputs": [
    {
     "data": {
      "image/png": "[encoded data removed]",
      "text/plain": [
       "<Figure size 804.75x720 with 20 Axes>"
      ]
     },
     "metadata": {},
     "output_type": "display_data"
    }
   ],
   "source": [
    "sns.pairplot(data=df,hue=\"class\"); # numeric columns df"
   ]
  },
  {
   "cell_type": "markdown",
   "id": "64a59cbb",
   "metadata": {},
   "source": [
    "- want ``KNN`` to take the values of the four variables ``sepal_length`` and ``sepal_width`` and ``petal_length`` and ``petal_width`` to predict the ``class`` of iris flower [8]"
   ]
  },
  {
   "cell_type": "markdown",
   "id": "2f9b1c65",
   "metadata": {},
   "source": [
    "- building up a model or method of using the four values so that if a new iris flower in presented that is different to the one-hundred and fifty known then can measure its four values and go to the ``KNN`` algorithm asking what ``class`` of iris it belongs to (hopefully it will return with relatively high accuracy the kind of ``class`` of iris its likely to be based on the observations seen before) [8]"
   ]
  },
  {
   "cell_type": "markdown",
   "id": "9c51ac5a",
   "metadata": {},
   "source": [
    "- separating the ``DataFrame`` instance object ``df`` into a set of ``nInputs`` and ``nOutput`` in order to train up the ``KNN`` algorithm with a set of inputs for which the outputs are known [8]"
   ]
  },
  {
   "cell_type": "markdown",
   "id": "42201011",
   "metadata": {},
   "source": [
    "- ``nInputs`` is appropriate as input to the ``KNN`` algorithm because the various values of each ``sepal_length`` can be taken away from other values of ``sepal_length`` therefore getting something meaningful out of it [8]"
   ]
  },
  {
   "cell_type": "markdown",
   "id": "b8f8f731",
   "metadata": {},
   "source": [
    " - if a ``sepal_length`` is $4.1$ and another is $2.6$ then can take one from the other and say that the difference is $1.5$ - this makes sense because the ``sepal_length`` is measured in centimetres so can take one length in centimetres away from another length in centimetres to find out what the difference is in centimetres between the two lengths (has a physical reality to it thats allowable with a variable like ``sepal_length``) [8]"
   ]
  },
  {
   "cell_type": "markdown",
   "id": "a03d6eda",
   "metadata": {},
   "source": [
    "- this would not be appropriate for a variable like ``class`` because the these variable are categories [8]"
   ]
  },
  {
   "cell_type": "markdown",
   "id": "ebe48eda",
   "metadata": {},
   "source": [
    "- taking each of the four variables (``sepal_length`` and ``sepal_width`` and ``petal_length`` and ``petal_width``) creating ``nInputs`` from ``df`` [8]"
   ]
  },
  {
   "cell_type": "markdown",
   "id": "52b4affa",
   "metadata": {},
   "source": [
    "- selecting the four of the five columns in the dataset (denoted by square brackets) the list is going to be the names of the columns from the original ``df`` with comma separation - ``nInputs`` is now a subselection of the ``df`` but just with four columns rather than five [8]"
   ]
  },
  {
   "cell_type": "code",
   "execution_count": 9,
   "id": "ac7efbd6",
   "metadata": {},
   "outputs": [],
   "source": [
    "nInputs=df[[\"sepal_length\",\"sepal_width\",\"petal_length\",\"petal_width\"]] # instance object 2-dimensional"
   ]
  },
  {
   "cell_type": "markdown",
   "id": "792e1474",
   "metadata": {},
   "source": [
    "- ``nInputs`` is just like ``df`` except it does not have the column ``class`` [8]"
   ]
  },
  {
   "cell_type": "code",
   "execution_count": 10,
   "id": "008c5104",
   "metadata": {},
   "outputs": [
    {
     "data": {
      "text/html": [
       "<div>\n",
       "<style scoped>\n",
       "    .dataframe tbody tr th:only-of-type {\n",
       "        vertical-align: middle;\n",
       "    }\n",
       "\n",
       "    .dataframe tbody tr th {\n",
       "        vertical-align: top;\n",
       "    }\n",
       "\n",
       "    .dataframe thead th {\n",
       "        text-align: right;\n",
       "    }\n",
       "</style>\n",
       "<table border=\"1\" class=\"dataframe\">\n",
       "  <thead>\n",
       "    <tr style=\"text-align: right;\">\n",
       "      <th></th>\n",
       "      <th>sepal_length</th>\n",
       "      <th>sepal_width</th>\n",
       "      <th>petal_length</th>\n",
       "      <th>petal_width</th>\n",
       "    </tr>\n",
       "  </thead>\n",
       "  <tbody>\n",
       "    <tr>\n",
       "      <th>0</th>\n",
       "      <td>5.1</td>\n",
       "      <td>3.5</td>\n",
       "      <td>1.4</td>\n",
       "      <td>0.2</td>\n",
       "    </tr>\n",
       "    <tr>\n",
       "      <th>1</th>\n",
       "      <td>4.9</td>\n",
       "      <td>3.0</td>\n",
       "      <td>1.4</td>\n",
       "      <td>0.2</td>\n",
       "    </tr>\n",
       "    <tr>\n",
       "      <th>2</th>\n",
       "      <td>4.7</td>\n",
       "      <td>3.2</td>\n",
       "      <td>1.3</td>\n",
       "      <td>0.2</td>\n",
       "    </tr>\n",
       "    <tr>\n",
       "      <th>3</th>\n",
       "      <td>4.6</td>\n",
       "      <td>3.1</td>\n",
       "      <td>1.5</td>\n",
       "      <td>0.2</td>\n",
       "    </tr>\n",
       "    <tr>\n",
       "      <th>4</th>\n",
       "      <td>5.0</td>\n",
       "      <td>3.6</td>\n",
       "      <td>1.4</td>\n",
       "      <td>0.2</td>\n",
       "    </tr>\n",
       "    <tr>\n",
       "      <th>...</th>\n",
       "      <td>...</td>\n",
       "      <td>...</td>\n",
       "      <td>...</td>\n",
       "      <td>...</td>\n",
       "    </tr>\n",
       "    <tr>\n",
       "      <th>145</th>\n",
       "      <td>6.7</td>\n",
       "      <td>3.0</td>\n",
       "      <td>5.2</td>\n",
       "      <td>2.3</td>\n",
       "    </tr>\n",
       "    <tr>\n",
       "      <th>146</th>\n",
       "      <td>6.3</td>\n",
       "      <td>2.5</td>\n",
       "      <td>5.0</td>\n",
       "      <td>1.9</td>\n",
       "    </tr>\n",
       "    <tr>\n",
       "      <th>147</th>\n",
       "      <td>6.5</td>\n",
       "      <td>3.0</td>\n",
       "      <td>5.2</td>\n",
       "      <td>2.0</td>\n",
       "    </tr>\n",
       "    <tr>\n",
       "      <th>148</th>\n",
       "      <td>6.2</td>\n",
       "      <td>3.4</td>\n",
       "      <td>5.4</td>\n",
       "      <td>2.3</td>\n",
       "    </tr>\n",
       "    <tr>\n",
       "      <th>149</th>\n",
       "      <td>5.9</td>\n",
       "      <td>3.0</td>\n",
       "      <td>5.1</td>\n",
       "      <td>1.8</td>\n",
       "    </tr>\n",
       "  </tbody>\n",
       "</table>\n",
       "<p>150 rows × 4 columns</p>\n",
       "</div>"
      ],
      "text/plain": [
       "     sepal_length  sepal_width  petal_length  petal_width\n",
       "0             5.1          3.5           1.4          0.2\n",
       "1             4.9          3.0           1.4          0.2\n",
       "2             4.7          3.2           1.3          0.2\n",
       "3             4.6          3.1           1.5          0.2\n",
       "4             5.0          3.6           1.4          0.2\n",
       "..            ...          ...           ...          ...\n",
       "145           6.7          3.0           5.2          2.3\n",
       "146           6.3          2.5           5.0          1.9\n",
       "147           6.5          3.0           5.2          2.0\n",
       "148           6.2          3.4           5.4          2.3\n",
       "149           5.9          3.0           5.1          1.8\n",
       "\n",
       "[150 rows x 4 columns]"
      ]
     },
     "execution_count": 10,
     "metadata": {},
     "output_type": "execute_result"
    }
   ],
   "source": [
    "nInputs"
   ]
  },
  {
   "cell_type": "markdown",
   "id": "75308140",
   "metadata": {},
   "source": [
    "- separated ``df`` into ``nInputs`` and decided that its reasonable to use these as inputs given these are the type of variables suited to take one from another (are numeric values) [8]"
   ]
  },
  {
   "cell_type": "code",
   "execution_count": 11,
   "id": "378e9c0d",
   "metadata": {},
   "outputs": [
    {
     "data": {
      "text/plain": [
       "pandas.core.frame.DataFrame"
      ]
     },
     "execution_count": 11,
     "metadata": {},
     "output_type": "execute_result"
    }
   ],
   "source": [
    "type(nInputs)"
   ]
  },
  {
   "cell_type": "markdown",
   "id": "69da9172",
   "metadata": {},
   "source": [
    "- ``nOutput`` is just the column ``class`` from ``df`` [4]"
   ]
  },
  {
   "cell_type": "code",
   "execution_count": 12,
   "id": "7f892a9f",
   "metadata": {},
   "outputs": [],
   "source": [
    "nOutput=df[\"class\"] # instance object 1-dimensional"
   ]
  },
  {
   "cell_type": "code",
   "execution_count": 13,
   "id": "00d5aacc",
   "metadata": {},
   "outputs": [
    {
     "data": {
      "text/plain": [
       "0         setosa\n",
       "1         setosa\n",
       "2         setosa\n",
       "3         setosa\n",
       "4         setosa\n",
       "         ...    \n",
       "145    virginica\n",
       "146    virginica\n",
       "147    virginica\n",
       "148    virginica\n",
       "149    virginica\n",
       "Name: class, Length: 150, dtype: object"
      ]
     },
     "execution_count": 13,
     "metadata": {},
     "output_type": "execute_result"
    }
   ],
   "source": [
    "nOutput"
   ]
  },
  {
   "cell_type": "markdown",
   "id": "eea80f4f",
   "metadata": {},
   "source": [
    "- ``nOutput`` variable ``class`` is a categorical variable which is appropriate for ``KNN`` [4]"
   ]
  },
  {
   "cell_type": "code",
   "execution_count": 14,
   "id": "2944cbe0",
   "metadata": {},
   "outputs": [
    {
     "data": {
      "text/plain": [
       "pandas.core.series.Series"
      ]
     },
     "execution_count": 14,
     "metadata": {},
     "output_type": "execute_result"
    }
   ],
   "source": [
    "type(nOutput)"
   ]
  },
  {
   "cell_type": "markdown",
   "id": "aaa5cd8a",
   "metadata": {},
   "source": [
    "< [Table of Contents](#top) | [References](#references) >\n",
    "<a id=\"classificationirisVisualisationclassifier\"></a>\n",
    "***\n",
    "###### Classifier\n",
    "***"
   ]
  },
  {
   "cell_type": "code",
   "execution_count": 15,
   "id": "aeeabe91",
   "metadata": {},
   "outputs": [],
   "source": [
    "import sklearn.neighbors as nei"
   ]
  },
  {
   "cell_type": "markdown",
   "id": "cb847ce3",
   "metadata": {},
   "source": [
    "- building ``KNN`` classifier for a given number of neighbors [5]"
   ]
  },
  {
   "cell_type": "markdown",
   "id": "fba8a564",
   "metadata": {},
   "source": [
    "- the iris dataset is up and running with ``nInputs`` (numeric columns) and ``nOutput`` being the ``class`` of iris (categorical variable) [5]"
   ]
  },
  {
   "cell_type": "markdown",
   "id": "e5734786",
   "metadata": {},
   "source": [
    "- using the ``KNN`` algorithm in ``scikit-learn`` the class ``KNeighborsClassifier`` returns back an object representing an instance of the ``KNN`` setup [5]"
   ]
  },
  {
   "cell_type": "markdown",
   "id": "8c77e93d",
   "metadata": {},
   "source": [
    "- ``nInsObjKNN`` (data structure) represents the ``KNN`` algorithm whereby parameter ``n_neighbors`` is set to ``5`` (selects the $5$ nearest neighbors) [5]"
   ]
  },
  {
   "cell_type": "markdown",
   "id": "7f0fc3ef",
   "metadata": {},
   "source": [
    "- from the plots produced by ``seaborn`` (imagine in 2-dimensions) given a new data point finds the closest five dots [5]"
   ]
  },
  {
   "cell_type": "markdown",
   "id": "3dc0c4b4",
   "metadata": {},
   "source": [
    "- taking a majority vote deciding that a particular data point should be a either a ``setosa`` or ``versicolor`` or ``virginica`` (can change the number of neighbors by just changing parameter ``n_neighbors``) [5]"
   ]
  },
  {
   "cell_type": "code",
   "execution_count": 16,
   "id": "178b760a",
   "metadata": {},
   "outputs": [
    {
     "data": {
      "image/png": "[encoded data removed]",
      "text/plain": [
       "<Figure size 804.75x720 with 20 Axes>"
      ]
     },
     "metadata": {},
     "output_type": "display_data"
    }
   ],
   "source": [
    "sns.pairplot(data=df,hue=\"class\");"
   ]
  },
  {
   "cell_type": "markdown",
   "id": "d93e56c9",
   "metadata": {},
   "source": [
    "- the classifier is now up and running and implements the ``KNN`` vote via parameter ``n_neighbors`` determining the majority vote [5]"
   ]
  },
  {
   "cell_type": "markdown",
   "id": "b643ae29",
   "metadata": {},
   "source": [
    "- if there are three ``setosa`` and two ``virginica`` then for the given new data point ``setosa`` has the majority (three of the five) [5]"
   ]
  },
  {
   "cell_type": "code",
   "execution_count": 17,
   "id": "80669ebd",
   "metadata": {},
   "outputs": [],
   "source": [
    "nInsObjKNN=nei.KNeighborsClassifier(n_neighbors=5) # n_neighbors to use"
   ]
  },
  {
   "cell_type": "code",
   "execution_count": 18,
   "id": "1a537bbd",
   "metadata": {},
   "outputs": [
    {
     "data": {
      "text/plain": [
       "sklearn.neighbors._classification.KNeighborsClassifier"
      ]
     },
     "execution_count": 18,
     "metadata": {},
     "output_type": "execute_result"
    }
   ],
   "source": [
    "type(nInsObjKNN)"
   ]
  },
  {
   "cell_type": "markdown",
   "id": "200b25e5",
   "metadata": {},
   "source": [
    "< [Table of Contents](#top) | [References](#references) >\n",
    "<a id=\"KNeighborsClassifierTrain\"></a>\n",
    "***\n",
    "###### Train\n",
    "***"
   ]
  },
  {
   "cell_type": "markdown",
   "id": "c1d94c2c",
   "metadata": {},
   "source": [
    "- need to train the classifier on the dataset [5]"
   ]
  },
  {
   "cell_type": "markdown",
   "id": "0f035303",
   "metadata": {},
   "source": [
    "- giving the classifier the ``nInputs`` for which the ``nOutput`` is known [5]"
   ]
  },
  {
   "cell_type": "code",
   "execution_count": 19,
   "id": "f4bcd353",
   "metadata": {},
   "outputs": [
    {
     "data": {
      "text/html": [
       "<div>\n",
       "<style scoped>\n",
       "    .dataframe tbody tr th:only-of-type {\n",
       "        vertical-align: middle;\n",
       "    }\n",
       "\n",
       "    .dataframe tbody tr th {\n",
       "        vertical-align: top;\n",
       "    }\n",
       "\n",
       "    .dataframe thead th {\n",
       "        text-align: right;\n",
       "    }\n",
       "</style>\n",
       "<table border=\"1\" class=\"dataframe\">\n",
       "  <thead>\n",
       "    <tr style=\"text-align: right;\">\n",
       "      <th></th>\n",
       "      <th>sepal_length</th>\n",
       "      <th>sepal_width</th>\n",
       "      <th>petal_length</th>\n",
       "      <th>petal_width</th>\n",
       "    </tr>\n",
       "  </thead>\n",
       "  <tbody>\n",
       "    <tr>\n",
       "      <th>0</th>\n",
       "      <td>5.1</td>\n",
       "      <td>3.5</td>\n",
       "      <td>1.4</td>\n",
       "      <td>0.2</td>\n",
       "    </tr>\n",
       "    <tr>\n",
       "      <th>1</th>\n",
       "      <td>4.9</td>\n",
       "      <td>3.0</td>\n",
       "      <td>1.4</td>\n",
       "      <td>0.2</td>\n",
       "    </tr>\n",
       "    <tr>\n",
       "      <th>2</th>\n",
       "      <td>4.7</td>\n",
       "      <td>3.2</td>\n",
       "      <td>1.3</td>\n",
       "      <td>0.2</td>\n",
       "    </tr>\n",
       "    <tr>\n",
       "      <th>3</th>\n",
       "      <td>4.6</td>\n",
       "      <td>3.1</td>\n",
       "      <td>1.5</td>\n",
       "      <td>0.2</td>\n",
       "    </tr>\n",
       "    <tr>\n",
       "      <th>4</th>\n",
       "      <td>5.0</td>\n",
       "      <td>3.6</td>\n",
       "      <td>1.4</td>\n",
       "      <td>0.2</td>\n",
       "    </tr>\n",
       "    <tr>\n",
       "      <th>...</th>\n",
       "      <td>...</td>\n",
       "      <td>...</td>\n",
       "      <td>...</td>\n",
       "      <td>...</td>\n",
       "    </tr>\n",
       "    <tr>\n",
       "      <th>145</th>\n",
       "      <td>6.7</td>\n",
       "      <td>3.0</td>\n",
       "      <td>5.2</td>\n",
       "      <td>2.3</td>\n",
       "    </tr>\n",
       "    <tr>\n",
       "      <th>146</th>\n",
       "      <td>6.3</td>\n",
       "      <td>2.5</td>\n",
       "      <td>5.0</td>\n",
       "      <td>1.9</td>\n",
       "    </tr>\n",
       "    <tr>\n",
       "      <th>147</th>\n",
       "      <td>6.5</td>\n",
       "      <td>3.0</td>\n",
       "      <td>5.2</td>\n",
       "      <td>2.0</td>\n",
       "    </tr>\n",
       "    <tr>\n",
       "      <th>148</th>\n",
       "      <td>6.2</td>\n",
       "      <td>3.4</td>\n",
       "      <td>5.4</td>\n",
       "      <td>2.3</td>\n",
       "    </tr>\n",
       "    <tr>\n",
       "      <th>149</th>\n",
       "      <td>5.9</td>\n",
       "      <td>3.0</td>\n",
       "      <td>5.1</td>\n",
       "      <td>1.8</td>\n",
       "    </tr>\n",
       "  </tbody>\n",
       "</table>\n",
       "<p>150 rows × 4 columns</p>\n",
       "</div>"
      ],
      "text/plain": [
       "     sepal_length  sepal_width  petal_length  petal_width\n",
       "0             5.1          3.5           1.4          0.2\n",
       "1             4.9          3.0           1.4          0.2\n",
       "2             4.7          3.2           1.3          0.2\n",
       "3             4.6          3.1           1.5          0.2\n",
       "4             5.0          3.6           1.4          0.2\n",
       "..            ...          ...           ...          ...\n",
       "145           6.7          3.0           5.2          2.3\n",
       "146           6.3          2.5           5.0          1.9\n",
       "147           6.5          3.0           5.2          2.0\n",
       "148           6.2          3.4           5.4          2.3\n",
       "149           5.9          3.0           5.1          1.8\n",
       "\n",
       "[150 rows x 4 columns]"
      ]
     },
     "execution_count": 19,
     "metadata": {},
     "output_type": "execute_result"
    }
   ],
   "source": [
    "nInputs"
   ]
  },
  {
   "cell_type": "code",
   "execution_count": 20,
   "id": "6f520d9a",
   "metadata": {},
   "outputs": [
    {
     "data": {
      "text/plain": [
       "0         setosa\n",
       "1         setosa\n",
       "2         setosa\n",
       "3         setosa\n",
       "4         setosa\n",
       "         ...    \n",
       "145    virginica\n",
       "146    virginica\n",
       "147    virginica\n",
       "148    virginica\n",
       "149    virginica\n",
       "Name: class, Length: 150, dtype: object"
      ]
     },
     "execution_count": 20,
     "metadata": {},
     "output_type": "execute_result"
    }
   ],
   "source": [
    "nOutput"
   ]
  },
  {
   "cell_type": "markdown",
   "id": "a7cee967",
   "metadata": {},
   "source": [
    "< [Table of Contents](#top) | [References](#references) >\n",
    "<a id=\"KNeighborsClassifierfit\"></a>\n",
    "***\n",
    "###### ``fit``\n",
    "***"
   ]
  },
  {
   "cell_type": "markdown",
   "id": "1dcd04ec",
   "metadata": {},
   "source": [
    "- method ``fit`` just tells the ``nInsObjKNN`` the actual data points (setup for ``KNN``) [5]"
   ]
  },
  {
   "cell_type": "markdown",
   "id": "70c0457b",
   "metadata": {},
   "source": [
    "- using this information to build a model of what a ``setosa`` or ``versicolor`` or ``virginica`` looks like so that in future can make predictions about what a ``class`` of iris is based on measuring its ``sepal_length`` and ``sepal_width`` and ``petal_length`` and ``petal_width`` [5]"
   ]
  },
  {
   "cell_type": "markdown",
   "id": "96749e56",
   "metadata": {},
   "source": [
    "- ``fit`` to ``nInsObjKNN`` the ``nInputs`` (training) and ``nOutput`` (targets) [5]"
   ]
  },
  {
   "cell_type": "code",
   "execution_count": 21,
   "id": "72909c65",
   "metadata": {},
   "outputs": [
    {
     "data": {
      "text/plain": [
       "KNeighborsClassifier()"
      ]
     },
     "execution_count": 21,
     "metadata": {},
     "output_type": "execute_result"
    }
   ],
   "source": [
    "nInsObjKNN.fit(X=nInputs,y=nOutput) # parameters X=training y=targets"
   ]
  },
  {
   "cell_type": "markdown",
   "id": "ef872b05",
   "metadata": {},
   "source": [
    "- ``nInsObjKNN`` is now changed (``nInputs`` and ``nOutput`` are ``fit`` to it) which is the actual training step (telling the ``KNN`` the actual data points want to generalise from) [5]"
   ]
  },
  {
   "cell_type": "markdown",
   "id": "6b716867",
   "metadata": {},
   "source": [
    "< [Table of Contents](#top) | [References](#references) >\n",
    "<a id=\"KNeighborsClassifierpredict\"></a>\n",
    "***\n",
    "###### ``predict``\n",
    "***"
   ]
  },
  {
   "cell_type": "markdown",
   "id": "732c742d",
   "metadata": {},
   "source": [
    "- the ``KNN`` algorithm has prepared itself to make predictions based on the trained ``KNN`` classifier (trained to have $5$ neighbours with $150$ ``nInputs`` knowing the $150$ ``nOutputs`` ) [6]"
   ]
  },
  {
   "cell_type": "markdown",
   "id": "efe5bfd1",
   "metadata": {},
   "source": [
    "- could take one of the trained iris flowers and ask the ``KNN`` classifier what its ``class`` is - checking the first observation (first row of data) from the iris dataset asking the ``KNN`` algorithm to predict what it is [6]"
   ]
  },
  {
   "cell_type": "code",
   "execution_count": 22,
   "id": "0c679552",
   "metadata": {},
   "outputs": [
    {
     "data": {
      "text/plain": [
       "sepal_length       5.1\n",
       "sepal_width        3.5\n",
       "petal_length       1.4\n",
       "petal_width        0.2\n",
       "class           setosa\n",
       "Name: 0, dtype: object"
      ]
     },
     "execution_count": 22,
     "metadata": {},
     "output_type": "execute_result"
    }
   ],
   "source": [
    "df.loc[0] # actual iris input"
   ]
  },
  {
   "cell_type": "markdown",
   "id": "3a84dc00",
   "metadata": {},
   "source": [
    "- its predicting the correct ``class`` for a data point that it already has - method ``predict`` parameter ``X`` is a ``list`` via double set of square brackets with the outer indicating more than one flower [6]"
   ]
  },
  {
   "cell_type": "code",
   "execution_count": 23,
   "id": "51cdce96",
   "metadata": {},
   "outputs": [
    {
     "data": {
      "text/plain": [
       "array(['setosa'], dtype=object)"
      ]
     },
     "execution_count": 23,
     "metadata": {},
     "output_type": "execute_result"
    }
   ],
   "source": [
    "nInsObjKNN.predict(X=[[5.1,3.5,1.4,0.2]]) # one data point"
   ]
  },
  {
   "cell_type": "code",
   "execution_count": 24,
   "id": "d464c7af",
   "metadata": {},
   "outputs": [
    {
     "data": {
      "text/plain": [
       "sepal_length           7.0\n",
       "sepal_width            3.2\n",
       "petal_length           4.7\n",
       "petal_width            1.4\n",
       "class           versicolor\n",
       "Name: 50, dtype: object"
      ]
     },
     "execution_count": 24,
     "metadata": {},
     "output_type": "execute_result"
    }
   ],
   "source": [
    "df.loc[50]"
   ]
  },
  {
   "cell_type": "code",
   "execution_count": 25,
   "id": "6270016e",
   "metadata": {},
   "outputs": [
    {
     "data": {
      "text/plain": [
       "sepal_length          6.3\n",
       "sepal_width           3.3\n",
       "petal_length          6.0\n",
       "petal_width           2.5\n",
       "class           virginica\n",
       "Name: 100, dtype: object"
      ]
     },
     "execution_count": 25,
     "metadata": {},
     "output_type": "execute_result"
    }
   ],
   "source": [
    "df.loc[100]"
   ]
  },
  {
   "cell_type": "code",
   "execution_count": 26,
   "id": "5c6ec6f5",
   "metadata": {},
   "outputs": [
    {
     "data": {
      "text/plain": [
       "array(['versicolor', 'virginica'], dtype=object)"
      ]
     },
     "execution_count": 26,
     "metadata": {},
     "output_type": "execute_result"
    }
   ],
   "source": [
    "nInsObjKNN.predict(X=[[7.0,3.2,4.7,1.4],[6.3,3.3,6.0,2.5]]) # two data points"
   ]
  },
  {
   "cell_type": "markdown",
   "id": "bd69706b",
   "metadata": {},
   "source": [
    "< [Table of Contents](#top) | [References](#references) >\n",
    "<a id=\"classificationirisImprecision\"></a>\n",
    "***\n",
    "###### Imprecision\n",
    "***"
   ]
  },
  {
   "cell_type": "markdown",
   "id": "7a5d9595",
   "metadata": {},
   "source": [
    "- might not always make the right prediction even for values that it has been trained upon and thats just a facet of the algorithm [6]"
   ]
  },
  {
   "cell_type": "code",
   "execution_count": 27,
   "id": "d49a4463",
   "metadata": {},
   "outputs": [
    {
     "data": {
      "text/plain": [
       "array(['setosa', 'setosa', 'setosa', 'setosa', 'setosa', 'setosa',\n",
       "       'setosa', 'setosa', 'setosa', 'setosa', 'setosa', 'setosa',\n",
       "       'setosa', 'setosa', 'setosa', 'setosa', 'setosa', 'setosa',\n",
       "       'setosa', 'setosa', 'setosa', 'setosa', 'setosa', 'setosa',\n",
       "       'setosa', 'setosa', 'setosa', 'setosa', 'setosa', 'setosa',\n",
       "       'setosa', 'setosa', 'setosa', 'setosa', 'setosa', 'setosa',\n",
       "       'setosa', 'setosa', 'setosa', 'setosa', 'setosa', 'setosa',\n",
       "       'setosa', 'setosa', 'setosa', 'setosa', 'setosa', 'setosa',\n",
       "       'setosa', 'setosa', 'versicolor', 'versicolor', 'versicolor',\n",
       "       'versicolor', 'versicolor', 'versicolor', 'versicolor',\n",
       "       'versicolor', 'versicolor', 'versicolor', 'versicolor',\n",
       "       'versicolor', 'versicolor', 'versicolor', 'versicolor',\n",
       "       'versicolor', 'versicolor', 'versicolor', 'versicolor',\n",
       "       'versicolor', 'virginica', 'versicolor', 'virginica', 'versicolor',\n",
       "       'versicolor', 'versicolor', 'versicolor', 'versicolor',\n",
       "       'versicolor', 'versicolor', 'versicolor', 'versicolor',\n",
       "       'versicolor', 'virginica', 'versicolor', 'versicolor',\n",
       "       'versicolor', 'versicolor', 'versicolor', 'versicolor',\n",
       "       'versicolor', 'versicolor', 'versicolor', 'versicolor',\n",
       "       'versicolor', 'versicolor', 'versicolor', 'versicolor',\n",
       "       'versicolor', 'versicolor', 'virginica', 'virginica', 'virginica',\n",
       "       'virginica', 'virginica', 'virginica', 'versicolor', 'virginica',\n",
       "       'virginica', 'virginica', 'virginica', 'virginica', 'virginica',\n",
       "       'virginica', 'virginica', 'virginica', 'virginica', 'virginica',\n",
       "       'virginica', 'versicolor', 'virginica', 'virginica', 'virginica',\n",
       "       'virginica', 'virginica', 'virginica', 'virginica', 'virginica',\n",
       "       'virginica', 'virginica', 'virginica', 'virginica', 'virginica',\n",
       "       'virginica', 'virginica', 'virginica', 'virginica', 'virginica',\n",
       "       'virginica', 'virginica', 'virginica', 'virginica', 'virginica',\n",
       "       'virginica', 'virginica', 'virginica', 'virginica', 'virginica',\n",
       "       'virginica', 'virginica'], dtype=object)"
      ]
     },
     "execution_count": 27,
     "metadata": {},
     "output_type": "execute_result"
    }
   ],
   "source": [
    "nInsObjKNN.predict(X=nInputs) # inputs predict output"
   ]
  },
  {
   "cell_type": "code",
   "execution_count": 28,
   "id": "4950048d",
   "metadata": {},
   "outputs": [
    {
     "data": {
      "text/plain": [
       "sepal_length           5.9\n",
       "sepal_width            3.2\n",
       "petal_length           4.8\n",
       "petal_width            1.8\n",
       "class           versicolor\n",
       "Name: 70, dtype: object"
      ]
     },
     "execution_count": 28,
     "metadata": {},
     "output_type": "execute_result"
    }
   ],
   "source": [
    "df.loc[70]"
   ]
  },
  {
   "cell_type": "code",
   "execution_count": 29,
   "id": "5d81d02a",
   "metadata": {},
   "outputs": [
    {
     "data": {
      "text/plain": [
       "'virginica'"
      ]
     },
     "execution_count": 29,
     "metadata": {},
     "output_type": "execute_result"
    }
   ],
   "source": [
    "nInsObjKNN.predict(X=nInputs)[70] # versicolor incorrect prediction"
   ]
  },
  {
   "cell_type": "markdown",
   "id": "0fc435cc",
   "metadata": {},
   "source": [
    "- method ``predict`` returns a ``numpy`` array of the predictions for the ``nInputs`` [9]"
   ]
  },
  {
   "cell_type": "markdown",
   "id": "77d5ef64",
   "metadata": {},
   "source": [
    "- comparing the ``nOutput`` data series to the ``KNN`` classifier predictions [9]"
   ]
  },
  {
   "cell_type": "code",
   "execution_count": 30,
   "id": "3e2a21d8",
   "metadata": {},
   "outputs": [
    {
     "data": {
      "text/plain": [
       "0      True\n",
       "1      True\n",
       "2      True\n",
       "3      True\n",
       "4      True\n",
       "       ... \n",
       "145    True\n",
       "146    True\n",
       "147    True\n",
       "148    True\n",
       "149    True\n",
       "Name: class, Length: 150, dtype: bool"
      ]
     },
     "execution_count": 30,
     "metadata": {},
     "output_type": "execute_result"
    }
   ],
   "source": [
    "nInsObjKNN.predict(X=nInputs)==nOutput # compare data series"
   ]
  },
  {
   "cell_type": "markdown",
   "id": "d421e3f7",
   "metadata": {},
   "source": [
    "- the ``KNN`` classifer is getting five of the ``nInputs`` incorrect ($150$ ``nOutput``) [9]"
   ]
  },
  {
   "cell_type": "code",
   "execution_count": 31,
   "id": "6c3f56c8",
   "metadata": {},
   "outputs": [
    {
     "data": {
      "text/plain": [
       "145"
      ]
     },
     "execution_count": 31,
     "metadata": {},
     "output_type": "execute_result"
    }
   ],
   "source": [
    "(nInsObjKNN.predict(X=nInputs)==nOutput).sum() # sum True values"
   ]
  },
  {
   "cell_type": "markdown",
   "id": "9b949969",
   "metadata": {},
   "source": [
    "- visually can reason why there may be incorrect predictions using the 2-dimensional plots [9]"
   ]
  },
  {
   "cell_type": "markdown",
   "id": "b2d8e392",
   "metadata": {},
   "source": [
    "- analysing the ``sepel_width`` on the x-axis and ``sepal_length`` on the y-axis can see a ``veriscolor`` dot surrounded by ``setosa`` [9]"
   ]
  },
  {
   "cell_type": "markdown",
   "id": "f69b8395",
   "metadata": {},
   "source": [
    "- the ``KNN`` classifier makes the prediction based on the $5$ closest data points in the dataset (includes the ``veriscolor`` data point itself) - the $4$ closest data points happen to be ``virginica`` [9]"
   ]
  },
  {
   "cell_type": "code",
   "execution_count": 32,
   "id": "f4c65181",
   "metadata": {},
   "outputs": [
    {
     "data": {
      "image/png": "[encoded data removed]",
      "text/plain": [
       "<Figure size 180x180 with 1 Axes>"
      ]
     },
     "metadata": {},
     "output_type": "display_data"
    }
   ],
   "source": [
    "sns.PairGrid(data=df,hue=\"class\",x_vars=[\"sepal_width\"],y_vars=[\"sepal_length\"]).map(sns.scatterplot);"
   ]
  },
  {
   "cell_type": "markdown",
   "id": "169ac4d8",
   "metadata": {},
   "source": [
    "- the ``KNN`` classifer is supposed to predict inputs that it has not seen before - it is interesting how even on the trained data it does not make correct predictions - to evaluate its performance want to pass input values not seen before [9]"
   ]
  },
  {
   "cell_type": "markdown",
   "id": "c43c68df",
   "metadata": {},
   "source": [
    "< [Table of Contents](#top) | [scikit-learn](#TOCscikitlearn) | [References](#references) >\n",
    "<a id=\"modelSelection\"></a>\n",
    "***\n",
    "###### Model Selection\n",
    "***"
   ]
  },
  {
   "cell_type": "markdown",
   "id": "c80ac734",
   "metadata": {},
   "source": [
    "- closely related to ``regression`` the red line has a curvature whereas the green line is more staccato (jagged edges with straight lines between different points) [2]"
   ]
  },
  {
   "cell_type": "markdown",
   "id": "863d392a",
   "metadata": {},
   "source": [
    "- these are two different models of what the relationship between the data and the target might be (``nInputs`` and ``nOutputs``) [2]"
   ]
  },
  {
   "cell_type": "markdown",
   "id": "b6fb12ac",
   "metadata": {},
   "source": [
    "![regression](https://github.com/SeanOhAileasa/SeanOhAileasa/blob/master/rc/mls/scikit/regression.png?raw=true)\n",
    "\n",
    "***(Image) scikit-learn, \"Machine Learning in Python,\" [scikit-learn.org](https://scikit-learn.org/stable), n.d..***"
   ]
  },
  {
   "cell_type": "markdown",
   "id": "cc32b91c",
   "metadata": {},
   "source": [
    "- with competing models getting from inputs to outputs the question is how to select one over the other [2]"
   ]
  },
  {
   "cell_type": "markdown",
   "id": "3109cfb5",
   "metadata": {},
   "source": [
    "< [Table of Contents](#top) | [References](#references) >\n",
    "<a id=\"conclusionsklearnmodel_selection\"></a>\n",
    "***\n",
    "###### ``sklearn.model_selection``\n",
    "***"
   ]
  },
  {
   "cell_type": "code",
   "execution_count": 33,
   "id": "1eca8e11",
   "metadata": {},
   "outputs": [],
   "source": [
    "import sklearn.model_selection as mod"
   ]
  },
  {
   "cell_type": "markdown",
   "id": "9022b602",
   "metadata": {},
   "source": [
    "< [Table of Contents](#top) | [References](#references) >\n",
    "<a id=\"conclusiontrain_test_split\"></a>\n",
    "***\n",
    "###### ``train_test_split`` ``:test_size``\n",
    "***"
   ]
  },
  {
   "cell_type": "markdown",
   "id": "96f1dc62",
   "metadata": {},
   "source": [
    "- rather than training (``fit``) all the ``nInputs`` instead taking a random selection ($\\approx113$) [9]"
   ]
  },
  {
   "cell_type": "markdown",
   "id": "fc723e70",
   "metadata": {},
   "source": [
    "- training the ``KNN`` on the selection (making sure there is some ``setosa`` and ``virginica`` and ``versicolor``) [9]"
   ]
  },
  {
   "cell_type": "markdown",
   "id": "fc1f426b",
   "metadata": {},
   "source": [
    "- the remaining data points ($\\approx38$) will be used to test the classifer [9]"
   ]
  },
  {
   "cell_type": "markdown",
   "id": "6d32c274",
   "metadata": {},
   "source": [
    "- function ``train_test_split`` is splitting the ``nInputs`` and the ``nOutput`` into two distinct parts [9]"
   ]
  },
  {
   "cell_type": "code",
   "execution_count": 34,
   "id": "50896143",
   "metadata": {
    "scrolled": false
   },
   "outputs": [
    {
     "data": {
      "text/plain": [
       "[     sepal_length  sepal_width  petal_length  petal_width\n",
       " 76            6.8          2.8           4.8          1.4\n",
       " 32            5.2          4.1           1.5          0.1\n",
       " 117           7.7          3.8           6.7          2.2\n",
       " 124           6.7          3.3           5.7          2.1\n",
       " 8             4.4          2.9           1.4          0.2\n",
       " ..            ...          ...           ...          ...\n",
       " 72            6.3          2.5           4.9          1.5\n",
       " 71            6.1          2.8           4.0          1.3\n",
       " 50            7.0          3.2           4.7          1.4\n",
       " 142           5.8          2.7           5.1          1.9\n",
       " 40            5.0          3.5           1.3          0.3\n",
       " \n",
       " [112 rows x 4 columns],\n",
       "      sepal_length  sepal_width  petal_length  petal_width\n",
       " 106           4.9          2.5           4.5          1.7\n",
       " 131           7.9          3.8           6.4          2.0\n",
       " 60            5.0          2.0           3.5          1.0\n",
       " 147           6.5          3.0           5.2          2.0\n",
       " 5             5.4          3.9           1.7          0.4\n",
       " 24            4.8          3.4           1.9          0.2\n",
       " 116           6.5          3.0           5.5          1.8\n",
       " 12            4.8          3.0           1.4          0.1\n",
       " 74            6.4          2.9           4.3          1.3\n",
       " 75            6.6          3.0           4.4          1.4\n",
       " 108           6.7          2.5           5.8          1.8\n",
       " 149           5.9          3.0           5.1          1.8\n",
       " 42            4.4          3.2           1.3          0.2\n",
       " 122           7.7          2.8           6.7          2.0\n",
       " 112           6.8          3.0           5.5          2.1\n",
       " 27            5.2          3.5           1.5          0.2\n",
       " 20            5.4          3.4           1.7          0.2\n",
       " 59            5.2          2.7           3.9          1.4\n",
       " 119           6.0          2.2           5.0          1.5\n",
       " 96            5.7          2.9           4.2          1.3\n",
       " 137           6.4          3.1           5.5          1.8\n",
       " 94            5.6          2.7           4.2          1.3\n",
       " 145           6.7          3.0           5.2          2.3\n",
       " 23            5.1          3.3           1.7          0.5\n",
       " 17            5.1          3.5           1.4          0.3\n",
       " 104           6.5          3.0           5.8          2.2\n",
       " 67            5.8          2.7           4.1          1.0\n",
       " 69            5.6          2.5           3.9          1.1\n",
       " 48            5.3          3.7           1.5          0.2\n",
       " 43            5.0          3.5           1.6          0.6\n",
       " 22            4.6          3.6           1.0          0.2\n",
       " 41            4.5          2.3           1.3          0.3\n",
       " 134           6.1          2.6           5.6          1.4\n",
       " 101           5.8          2.7           5.1          1.9\n",
       " 13            4.3          3.0           1.1          0.1\n",
       " 110           6.5          3.2           5.1          2.0\n",
       " 109           7.2          3.6           6.1          2.5\n",
       " 93            5.0          2.3           3.3          1.0,\n",
       " 76     versicolor\n",
       " 32         setosa\n",
       " 117     virginica\n",
       " 124     virginica\n",
       " 8          setosa\n",
       "           ...    \n",
       " 72     versicolor\n",
       " 71     versicolor\n",
       " 50     versicolor\n",
       " 142     virginica\n",
       " 40         setosa\n",
       " Name: class, Length: 112, dtype: object,\n",
       " 106     virginica\n",
       " 131     virginica\n",
       " 60     versicolor\n",
       " 147     virginica\n",
       " 5          setosa\n",
       " 24         setosa\n",
       " 116     virginica\n",
       " 12         setosa\n",
       " 74     versicolor\n",
       " 75     versicolor\n",
       " 108     virginica\n",
       " 149     virginica\n",
       " 42         setosa\n",
       " 122     virginica\n",
       " 112     virginica\n",
       " 27         setosa\n",
       " 20         setosa\n",
       " 59     versicolor\n",
       " 119     virginica\n",
       " 96     versicolor\n",
       " 137     virginica\n",
       " 94     versicolor\n",
       " 145     virginica\n",
       " 23         setosa\n",
       " 17         setosa\n",
       " 104     virginica\n",
       " 67     versicolor\n",
       " 69     versicolor\n",
       " 48         setosa\n",
       " 43         setosa\n",
       " 22         setosa\n",
       " 41         setosa\n",
       " 134     virginica\n",
       " 101     virginica\n",
       " 13         setosa\n",
       " 110     virginica\n",
       " 109     virginica\n",
       " 93     versicolor\n",
       " Name: class, dtype: object]"
      ]
     },
     "execution_count": 34,
     "metadata": {},
     "output_type": "execute_result"
    }
   ],
   "source": [
    "mod.train_test_split(nInputs,nOutput,test_size=0.25) # fourth of samples"
   ]
  },
  {
   "cell_type": "code",
   "execution_count": 35,
   "id": "a256c55b",
   "metadata": {},
   "outputs": [],
   "source": [
    "nInputsTrain1125,nInputsTest375,nOutputsTrain1125,nOutputsTest375=mod.train_test_split(nInputs,nOutput,test_size=0.25)"
   ]
  },
  {
   "cell_type": "markdown",
   "id": "aa47254f",
   "metadata": {},
   "source": [
    "< [Table of Contents](#top) | [References](#references) >\n",
    "<a id=\"conclusionsklearnmodel_selectionclassifier\"></a>\n",
    "***\n",
    "###### Classifier\n",
    "***"
   ]
  },
  {
   "cell_type": "markdown",
   "id": "6b0e9b20",
   "metadata": {},
   "source": [
    "- redoing the ``KNN`` classifer given the splitting of the training and test sets (random) [9]"
   ]
  },
  {
   "cell_type": "code",
   "execution_count": 36,
   "id": "6125d2f5",
   "metadata": {},
   "outputs": [],
   "source": [
    "nInsObjKNN=nei.KNeighborsClassifier(n_neighbors=5) # new blank classifer"
   ]
  },
  {
   "cell_type": "markdown",
   "id": "08567233",
   "metadata": {},
   "source": [
    "< [Table of Contents](#top) | [References](#references) >\n",
    "<a id=\"conclusionsklearnmodel_selectionclassifierTrain\"></a>\n",
    "***\n",
    "###### Train\n",
    "***"
   ]
  },
  {
   "cell_type": "code",
   "execution_count": 37,
   "id": "2e7580c4",
   "metadata": {},
   "outputs": [
    {
     "data": {
      "text/html": [
       "<div>\n",
       "<style scoped>\n",
       "    .dataframe tbody tr th:only-of-type {\n",
       "        vertical-align: middle;\n",
       "    }\n",
       "\n",
       "    .dataframe tbody tr th {\n",
       "        vertical-align: top;\n",
       "    }\n",
       "\n",
       "    .dataframe thead th {\n",
       "        text-align: right;\n",
       "    }\n",
       "</style>\n",
       "<table border=\"1\" class=\"dataframe\">\n",
       "  <thead>\n",
       "    <tr style=\"text-align: right;\">\n",
       "      <th></th>\n",
       "      <th>sepal_length</th>\n",
       "      <th>sepal_width</th>\n",
       "      <th>petal_length</th>\n",
       "      <th>petal_width</th>\n",
       "    </tr>\n",
       "  </thead>\n",
       "  <tbody>\n",
       "    <tr>\n",
       "      <th>146</th>\n",
       "      <td>6.3</td>\n",
       "      <td>2.5</td>\n",
       "      <td>5.0</td>\n",
       "      <td>1.9</td>\n",
       "    </tr>\n",
       "    <tr>\n",
       "      <th>9</th>\n",
       "      <td>4.9</td>\n",
       "      <td>3.1</td>\n",
       "      <td>1.5</td>\n",
       "      <td>0.1</td>\n",
       "    </tr>\n",
       "    <tr>\n",
       "      <th>27</th>\n",
       "      <td>5.2</td>\n",
       "      <td>3.5</td>\n",
       "      <td>1.5</td>\n",
       "      <td>0.2</td>\n",
       "    </tr>\n",
       "    <tr>\n",
       "      <th>63</th>\n",
       "      <td>6.1</td>\n",
       "      <td>2.9</td>\n",
       "      <td>4.7</td>\n",
       "      <td>1.4</td>\n",
       "    </tr>\n",
       "    <tr>\n",
       "      <th>43</th>\n",
       "      <td>5.0</td>\n",
       "      <td>3.5</td>\n",
       "      <td>1.6</td>\n",
       "      <td>0.6</td>\n",
       "    </tr>\n",
       "    <tr>\n",
       "      <th>...</th>\n",
       "      <td>...</td>\n",
       "      <td>...</td>\n",
       "      <td>...</td>\n",
       "      <td>...</td>\n",
       "    </tr>\n",
       "    <tr>\n",
       "      <th>57</th>\n",
       "      <td>4.9</td>\n",
       "      <td>2.4</td>\n",
       "      <td>3.3</td>\n",
       "      <td>1.0</td>\n",
       "    </tr>\n",
       "    <tr>\n",
       "      <th>139</th>\n",
       "      <td>6.9</td>\n",
       "      <td>3.1</td>\n",
       "      <td>5.4</td>\n",
       "      <td>2.1</td>\n",
       "    </tr>\n",
       "    <tr>\n",
       "      <th>95</th>\n",
       "      <td>5.7</td>\n",
       "      <td>3.0</td>\n",
       "      <td>4.2</td>\n",
       "      <td>1.2</td>\n",
       "    </tr>\n",
       "    <tr>\n",
       "      <th>50</th>\n",
       "      <td>7.0</td>\n",
       "      <td>3.2</td>\n",
       "      <td>4.7</td>\n",
       "      <td>1.4</td>\n",
       "    </tr>\n",
       "    <tr>\n",
       "      <th>112</th>\n",
       "      <td>6.8</td>\n",
       "      <td>3.0</td>\n",
       "      <td>5.5</td>\n",
       "      <td>2.1</td>\n",
       "    </tr>\n",
       "  </tbody>\n",
       "</table>\n",
       "<p>112 rows × 4 columns</p>\n",
       "</div>"
      ],
      "text/plain": [
       "     sepal_length  sepal_width  petal_length  petal_width\n",
       "146           6.3          2.5           5.0          1.9\n",
       "9             4.9          3.1           1.5          0.1\n",
       "27            5.2          3.5           1.5          0.2\n",
       "63            6.1          2.9           4.7          1.4\n",
       "43            5.0          3.5           1.6          0.6\n",
       "..            ...          ...           ...          ...\n",
       "57            4.9          2.4           3.3          1.0\n",
       "139           6.9          3.1           5.4          2.1\n",
       "95            5.7          3.0           4.2          1.2\n",
       "50            7.0          3.2           4.7          1.4\n",
       "112           6.8          3.0           5.5          2.1\n",
       "\n",
       "[112 rows x 4 columns]"
      ]
     },
     "execution_count": 37,
     "metadata": {},
     "output_type": "execute_result"
    }
   ],
   "source": [
    "nInputsTrain1125 # row labels shuffled"
   ]
  },
  {
   "cell_type": "code",
   "execution_count": 38,
   "id": "330a3d47",
   "metadata": {},
   "outputs": [
    {
     "data": {
      "text/plain": [
       "146     virginica\n",
       "9          setosa\n",
       "27         setosa\n",
       "63     versicolor\n",
       "43         setosa\n",
       "          ...    \n",
       "57     versicolor\n",
       "139     virginica\n",
       "95     versicolor\n",
       "50     versicolor\n",
       "112     virginica\n",
       "Name: class, Length: 112, dtype: object"
      ]
     },
     "execution_count": 38,
     "metadata": {},
     "output_type": "execute_result"
    }
   ],
   "source": [
    "nOutputsTrain1125"
   ]
  },
  {
   "cell_type": "markdown",
   "id": "125d2136",
   "metadata": {},
   "source": [
    "< [Table of Contents](#top) | [References](#references) >\n",
    "<a id=\"conclusionsklearnmodel_selectionclassifierFit\"></a>\n",
    "***\n",
    "###### Fit\n",
    "***"
   ]
  },
  {
   "cell_type": "code",
   "execution_count": 39,
   "id": "aaff38f8",
   "metadata": {},
   "outputs": [
    {
     "data": {
      "text/plain": [
       "KNeighborsClassifier()"
      ]
     },
     "execution_count": 39,
     "metadata": {},
     "output_type": "execute_result"
    }
   ],
   "source": [
    "nInsObjKNN.fit(X=nInputsTrain1125,y=nOutputsTrain1125) # fit new classifer"
   ]
  },
  {
   "cell_type": "markdown",
   "id": "8976e01a",
   "metadata": {},
   "source": [
    "< [Table of Contents](#top) | [References](#references) >\n",
    "<a id=\"conclusionsklearnmodel_selectionclassifierPredict\"></a>\n",
    "***\n",
    "###### Predict\n",
    "***"
   ]
  },
  {
   "cell_type": "markdown",
   "id": "c8f3c749",
   "metadata": {},
   "source": [
    "- the ``KNN`` is now predicting from input not seen before (``nInputsTest375``) [9]"
   ]
  },
  {
   "cell_type": "code",
   "execution_count": 40,
   "id": "4961bcbe",
   "metadata": {},
   "outputs": [
    {
     "data": {
      "text/plain": [
       "array(['versicolor', 'setosa', 'setosa', 'virginica', 'setosa',\n",
       "       'virginica', 'setosa', 'setosa', 'setosa', 'setosa', 'setosa',\n",
       "       'setosa', 'versicolor', 'virginica', 'setosa', 'versicolor',\n",
       "       'virginica', 'virginica', 'virginica', 'virginica', 'virginica',\n",
       "       'setosa', 'versicolor', 'versicolor', 'versicolor', 'virginica',\n",
       "       'virginica', 'versicolor', 'setosa', 'versicolor', 'versicolor',\n",
       "       'setosa', 'virginica', 'versicolor', 'setosa', 'virginica',\n",
       "       'setosa', 'setosa'], dtype=object)"
      ]
     },
     "execution_count": 40,
     "metadata": {},
     "output_type": "execute_result"
    }
   ],
   "source": [
    "nInsObjKNN.predict(X=nInputsTest375)"
   ]
  },
  {
   "cell_type": "markdown",
   "id": "105014ed",
   "metadata": {},
   "source": [
    "- comparing the ``nOutputsTest375`` data series to the ``KNN`` classifier predictions [9]"
   ]
  },
  {
   "cell_type": "code",
   "execution_count": 41,
   "id": "9f8539b4",
   "metadata": {},
   "outputs": [
    {
     "data": {
      "text/plain": [
       "106    False\n",
       "44      True\n",
       "48      True\n",
       "114     True\n",
       "24      True\n",
       "109     True\n",
       "18      True\n",
       "22      True\n",
       "16      True\n",
       "17      True\n",
       "29      True\n",
       "11      True\n",
       "77      True\n",
       "136     True\n",
       "31      True\n",
       "82      True\n",
       "110     True\n",
       "115     True\n",
       "147     True\n",
       "108     True\n",
       "100     True\n",
       "49      True\n",
       "66      True\n",
       "98      True\n",
       "55      True\n",
       "104     True\n",
       "72     False\n",
       "75      True\n",
       "1       True\n",
       "92      True\n",
       "69      True\n",
       "37      True\n",
       "128     True\n",
       "93      True\n",
       "46      True\n",
       "103     True\n",
       "10      True\n",
       "0       True\n",
       "Name: class, dtype: bool"
      ]
     },
     "execution_count": 41,
     "metadata": {},
     "output_type": "execute_result"
    }
   ],
   "source": [
    "nInsObjKNN.predict(X=nInputsTest375)==nOutputsTest375 # compare data series"
   ]
  },
  {
   "cell_type": "markdown",
   "id": "c7c95153",
   "metadata": {},
   "source": [
    "- the ``KNN`` classifer result correct is out of ``nInputsTest375`` not seen before [9]"
   ]
  },
  {
   "cell_type": "code",
   "execution_count": 42,
   "id": "88f9e2ab",
   "metadata": {},
   "outputs": [
    {
     "data": {
      "text/plain": [
       "36"
      ]
     },
     "execution_count": 42,
     "metadata": {},
     "output_type": "execute_result"
    }
   ],
   "source": [
    "(nInsObjKNN.predict(X=nInputsTest375)==nOutputsTest375).sum() # sum True values"
   ]
  },
  {
   "cell_type": "code",
   "execution_count": 43,
   "id": "239a934d",
   "metadata": {},
   "outputs": [],
   "source": [
    "exit()"
   ]
  },
  {
   "cell_type": "markdown",
   "id": "d5352c64",
   "metadata": {},
   "source": [
    "- rerunning may produce different results because ``train_test_split`` has a random element to it (using ``numpy.random`` in the background) [9]"
   ]
  },
  {
   "cell_type": "markdown",
   "id": "1823c8e2",
   "metadata": {},
   "source": [
    "< [Table of Contents](#top) | [References](#references) >\n",
    "<a id=\"regression\"></a>\n",
    "***\n",
    "### Regression\n",
    "***"
   ]
  },
  {
   "cell_type": "markdown",
   "id": "8726c688",
   "metadata": {},
   "source": [
    "- fitting a line to a set of points (maybe with a little bit of error) [2]"
   ]
  },
  {
   "cell_type": "markdown",
   "id": "07d66fa9",
   "metadata": {},
   "source": [
    "- two different lines used (red and green) to fit the black dots (might assume theres a little bit of error in some of the measurements) - essentially trying to reverse engineer a function [2]"
   ]
  },
  {
   "cell_type": "markdown",
   "id": "bb98fa79",
   "metadata": {},
   "source": [
    "- looking at a selection of inputs and their corresponding outputs from some process and trying to fit some sort of function to those points [2] "
   ]
  },
  {
   "cell_type": "markdown",
   "id": "16ed1dca",
   "metadata": {},
   "source": [
    "![regression](https://github.com/SeanOhAileasa/SeanOhAileasa/blob/master/rc/mls/scikit/regression.png?raw=true)\n",
    "\n",
    "***(Image) scikit-learn, \"Machine Learning in Python,\" [scikit-learn.org](https://scikit-learn.org/stable), n.d..***"
   ]
  },
  {
   "cell_type": "markdown",
   "id": "02a73c83",
   "metadata": {},
   "source": [
    "- essentially all of science can be looked at from this viewpoint [2]"
   ]
  },
  {
   "cell_type": "markdown",
   "id": "c7a5d750",
   "metadata": {},
   "source": [
    "- going back hundreds of years when looking at the planets/stars in the sky to determine a map of how all seem to move around with the conclusion that the earth is actually orbiting the sun (not the other way around) - looking up at the sky measuring where the planets/stars are then trying to come up with some sort of a model (a way of maybe predicting where different planets/stars would be in the sky at different times) is essentially performing ``regression`` [2]"
   ]
  },
  {
   "cell_type": "markdown",
   "id": "d75617de",
   "metadata": {},
   "source": [
    "- Newton and Kepler might have figured out that the orbits looked like an oval and by joining all the dots up predicted where the planets/stars are going to be - ``regression`` is a very old idea [2]"
   ]
  },
  {
   "cell_type": "markdown",
   "id": "b46be9f9",
   "metadata": {},
   "source": [
    "< [Table of Contents](#top) | [References](#references) >\n",
    "<a id=\"clustering\"></a>\n",
    "***\n",
    "### Clustering\n",
    "***"
   ]
  },
  {
   "cell_type": "markdown",
   "id": "e8810e77",
   "metadata": {},
   "source": [
    "- grouping like items together - ``clustering`` is closely related to ``classification`` [2]"
   ]
  },
  {
   "cell_type": "markdown",
   "id": "7ec93275",
   "metadata": {},
   "source": [
    "- the iris dataset has three different iris and to ``cluster`` is to group together the points that appear to be related [2]"
   ]
  },
  {
   "cell_type": "markdown",
   "id": "d02400f7",
   "metadata": {},
   "source": [
    "![clustering](https://github.com/SeanOhAileasa/SeanOhAileasa/blob/master/rc/mls/scikit/clustering.png?raw=true)\n",
    "\n",
    "***(Image) scikit-learn, \"Machine Learning in Python,\" [scikit-learn.org](https://scikit-learn.org/stable), n.d..***"
   ]
  },
  {
   "cell_type": "markdown",
   "id": "8364b8f0",
   "metadata": {},
   "source": [
    "< [Table of Contents](#top) | [References](#references) >\n",
    "<a id=\"clusteringsklearnclusterkmeans\"></a>\n",
    "***\n",
    "###### ``sklearn.cluster.KMeans``\n",
    "***"
   ]
  },
  {
   "cell_type": "markdown",
   "id": "dc3e9dad",
   "metadata": {},
   "source": [
    "- analysing example code from ``sklearn.cluster.KMeans`` documentation [3]"
   ]
  },
  {
   "cell_type": "code",
   "execution_count": 1,
   "id": "adf4e587",
   "metadata": {},
   "outputs": [],
   "source": [
    "import sklearn.cluster as skcl"
   ]
  },
  {
   "cell_type": "code",
   "execution_count": 2,
   "id": "7bf012ca",
   "metadata": {
    "scrolled": false
   },
   "outputs": [
    {
     "name": "stdout",
     "output_type": "stream",
     "text": [
      "    >>> from sklearn.cluster import KMeans\n",
      "    >>> import numpy as np\n",
      "    >>> X = np.array([[1, 2], [1, 4], [1, 0],\n",
      "    ...               [10, 2], [10, 4], [10, 0]])\n",
      "    >>> kmeans = KMeans(n_clusters=2, random_state=0).fit(X)\n",
      "    >>> kmeans.labels_\n",
      "    array([1, 1, 1, 0, 0, 0], dtype=int32)\n",
      "    >>> kmeans.predict([[0, 0], [12, 3]])\n",
      "    array([1, 0], dtype=int32)\n",
      "    >>> kmeans.cluster_centers_\n",
      "    array([[10.,  2.],\n",
      "           [ 1.,  2.]])\n"
     ]
    }
   ],
   "source": [
    "print(\"\\n\".join(skcl.KMeans.__doc__.split(\"\\n\")[146:158]))"
   ]
  },
  {
   "cell_type": "code",
   "execution_count": 3,
   "id": "6b04ebd6",
   "metadata": {},
   "outputs": [],
   "source": [
    "import numpy as np"
   ]
  },
  {
   "cell_type": "markdown",
   "id": "797611c0",
   "metadata": {},
   "source": [
    "- collection of data [13]"
   ]
  },
  {
   "cell_type": "code",
   "execution_count": 4,
   "id": "de4f794a",
   "metadata": {},
   "outputs": [],
   "source": [
    "X=np.array(object=[[1,2],[1,4],[1,0],[10,2],[10,4],[10,0]]) # numpy 6-d array"
   ]
  },
  {
   "cell_type": "code",
   "execution_count": 5,
   "id": "d230c482",
   "metadata": {},
   "outputs": [
    {
     "data": {
      "text/plain": [
       "array([[ 1,  2],\n",
       "       [ 1,  4],\n",
       "       [ 1,  0],\n",
       "       [10,  2],\n",
       "       [10,  4],\n",
       "       [10,  0]])"
      ]
     },
     "execution_count": 5,
     "metadata": {},
     "output_type": "execute_result"
    }
   ],
   "source": [
    "X"
   ]
  },
  {
   "cell_type": "code",
   "execution_count": 6,
   "id": "877e1834",
   "metadata": {},
   "outputs": [
    {
     "data": {
      "text/plain": [
       "numpy.ndarray"
      ]
     },
     "execution_count": 6,
     "metadata": {},
     "output_type": "execute_result"
    }
   ],
   "source": [
    "type(X)"
   ]
  },
  {
   "cell_type": "code",
   "execution_count": 7,
   "id": "6f37d865",
   "metadata": {},
   "outputs": [
    {
     "data": {
      "text/plain": [
       "(6, 2)"
      ]
     },
     "execution_count": 7,
     "metadata": {},
     "output_type": "execute_result"
    }
   ],
   "source": [
    "X.shape"
   ]
  },
  {
   "cell_type": "markdown",
   "id": "c76d74df",
   "metadata": {},
   "source": [
    "- such algorithms have a ``randon_state`` built-in (initialise some values internally within the algorithm using randon values - typically from a normal/uniform distribution randomly) [3]"
   ]
  },
  {
   "cell_type": "markdown",
   "id": "1cd13485",
   "metadata": {},
   "source": [
    "- ``randon_state=0`` so that everytime the algoritm is run will get the same randon values initially [3]"
   ]
  },
  {
   "cell_type": "code",
   "execution_count": 8,
   "id": "377864d2",
   "metadata": {},
   "outputs": [],
   "source": [
    "nInsObjKMeans=skcl.KMeans(n_clusters=2,random_state=0)"
   ]
  },
  {
   "cell_type": "markdown",
   "id": "201a2fbb",
   "metadata": {},
   "source": [
    "- method ``fit`` computes ``KMeans`` clustering (performs the ``KMeans`` algorithm on the training dataset) [3]"
   ]
  },
  {
   "cell_type": "code",
   "execution_count": 9,
   "id": "15010e9c",
   "metadata": {},
   "outputs": [
    {
     "data": {
      "text/plain": [
       "KMeans(n_clusters=2, random_state=0)"
      ]
     },
     "execution_count": 9,
     "metadata": {},
     "output_type": "execute_result"
    }
   ],
   "source": [
    "nInsObjKMeans.fit(X=X) # algorithm via X"
   ]
  },
  {
   "cell_type": "markdown",
   "id": "f8590740",
   "metadata": {},
   "source": [
    "- each ``X`` element is a point [13]"
   ]
  },
  {
   "cell_type": "code",
   "execution_count": 10,
   "id": "ca33ef65",
   "metadata": {},
   "outputs": [
    {
     "data": {
      "text/plain": [
       "array([[ 1,  2],\n",
       "       [ 1,  4],\n",
       "       [ 1,  0],\n",
       "       [10,  2],\n",
       "       [10,  4],\n",
       "       [10,  0]])"
      ]
     },
     "execution_count": 10,
     "metadata": {},
     "output_type": "execute_result"
    }
   ],
   "source": [
    "X"
   ]
  },
  {
   "cell_type": "code",
   "execution_count": 11,
   "id": "0774cefd",
   "metadata": {},
   "outputs": [
    {
     "data": {
      "text/plain": [
       "array([10,  0])"
      ]
     },
     "execution_count": 11,
     "metadata": {},
     "output_type": "execute_result"
    }
   ],
   "source": [
    "X[5] # last X element"
   ]
  },
  {
   "cell_type": "markdown",
   "id": "63c44c22",
   "metadata": {},
   "source": [
    "- two clusters already specified (the first three elements is a cluster and the second three elements is a cluster) [3] "
   ]
  },
  {
   "cell_type": "code",
   "execution_count": 12,
   "id": "6583ef34",
   "metadata": {},
   "outputs": [
    {
     "data": {
      "text/plain": [
       "array([1, 1, 1, 0, 0, 0])"
      ]
     },
     "execution_count": 12,
     "metadata": {},
     "output_type": "execute_result"
    }
   ],
   "source": [
    "nInsObjKMeans.labels_"
   ]
  },
  {
   "cell_type": "markdown",
   "id": "81d02eda",
   "metadata": {},
   "source": [
    "- method ``predict`` passed two new points (making a prediction) [3]"
   ]
  },
  {
   "cell_type": "markdown",
   "id": "c1465941",
   "metadata": {},
   "source": [
    "- ``[0,0]`` fits into the first class (``[1, 2],[1, 4],[1, 0]``) [3]"
   ]
  },
  {
   "cell_type": "markdown",
   "id": "c2a9b6a0",
   "metadata": {},
   "source": [
    "- ``[12,3]`` fits into the second class (``[10, 2],[10, 4],[10, 0]``) [3]"
   ]
  },
  {
   "cell_type": "code",
   "execution_count": 13,
   "id": "58557b9d",
   "metadata": {},
   "outputs": [],
   "source": [
    "nVals=np.array(object=[[0,0],[12,3]])"
   ]
  },
  {
   "cell_type": "code",
   "execution_count": 14,
   "id": "23d68b7e",
   "metadata": {},
   "outputs": [
    {
     "data": {
      "text/plain": [
       "numpy.ndarray"
      ]
     },
     "execution_count": 14,
     "metadata": {},
     "output_type": "execute_result"
    }
   ],
   "source": [
    "type(nVals)"
   ]
  },
  {
   "cell_type": "code",
   "execution_count": 15,
   "id": "128192a1",
   "metadata": {},
   "outputs": [],
   "source": [
    "nPredictions=nInsObjKMeans.predict(X=nVals)"
   ]
  },
  {
   "cell_type": "code",
   "execution_count": 16,
   "id": "47495600",
   "metadata": {},
   "outputs": [
    {
     "data": {
      "text/plain": [
       "array([1, 0])"
      ]
     },
     "execution_count": 16,
     "metadata": {},
     "output_type": "execute_result"
    }
   ],
   "source": [
    "nPredictions"
   ]
  },
  {
   "cell_type": "markdown",
   "id": "f0fe982d",
   "metadata": {},
   "source": [
    "- the point ``[10.,  2.]`` is what the ``KMeans`` algorithm took as the centre point of one of the clusters (other cluster has a centre point of ``[ 1.,  2.]`` [3]"
   ]
  },
  {
   "cell_type": "code",
   "execution_count": 17,
   "id": "e5eb61aa",
   "metadata": {},
   "outputs": [],
   "source": [
    "nCentre=nInsObjKMeans.cluster_centers_"
   ]
  },
  {
   "cell_type": "code",
   "execution_count": 18,
   "id": "76d24305",
   "metadata": {},
   "outputs": [
    {
     "data": {
      "text/plain": [
       "array([[10.,  2.],\n",
       "       [ 1.,  2.]])"
      ]
     },
     "execution_count": 18,
     "metadata": {},
     "output_type": "execute_result"
    }
   ],
   "source": [
    "nCentre"
   ]
  },
  {
   "cell_type": "markdown",
   "id": "49e33166",
   "metadata": {},
   "source": [
    "< [Table of Contents](#top) | [References](#references) >\n",
    "<a id=\"clusteringVisualisation\"></a>\n",
    "***\n",
    "###### Visualisation\n",
    "***"
   ]
  },
  {
   "cell_type": "code",
   "execution_count": 19,
   "id": "af4c837a",
   "metadata": {},
   "outputs": [],
   "source": [
    "import matplotlib.pyplot as plt"
   ]
  },
  {
   "cell_type": "markdown",
   "id": "429332ce",
   "metadata": {},
   "source": [
    "- plotting dataset ``X`` [3]"
   ]
  },
  {
   "cell_type": "markdown",
   "id": "5d48c2a5",
   "metadata": {},
   "source": [
    "- the ``numpy.ndarray`` is in the incorrect format for ``plt`` (need all $x$ and $y$ values in separate lists) [3]"
   ]
  },
  {
   "cell_type": "code",
   "execution_count": 20,
   "id": "16200dff",
   "metadata": {},
   "outputs": [
    {
     "data": {
      "text/plain": [
       "array([[ 1,  2],\n",
       "       [ 1,  4],\n",
       "       [ 1,  0],\n",
       "       [10,  2],\n",
       "       [10,  4],\n",
       "       [10,  0]])"
      ]
     },
     "execution_count": 20,
     "metadata": {},
     "output_type": "execute_result"
    }
   ],
   "source": [
    "X"
   ]
  },
  {
   "cell_type": "code",
   "execution_count": 21,
   "id": "c3aea984",
   "metadata": {},
   "outputs": [
    {
     "data": {
      "text/plain": [
       "numpy.ndarray"
      ]
     },
     "execution_count": 21,
     "metadata": {},
     "output_type": "execute_result"
    }
   ],
   "source": [
    "type(X) # incorrect format pyplot"
   ]
  },
  {
   "cell_type": "markdown",
   "id": "596f427e",
   "metadata": {},
   "source": [
    "- pull initial values representing $x$ (same for $y$) [3]"
   ]
  },
  {
   "cell_type": "markdown",
   "id": "f352ce11",
   "metadata": {},
   "source": [
    "- ``:`` represents the first dimension (get everything) and ``,`` represents the second dimension (return the first element via $0$) [3]"
   ]
  },
  {
   "cell_type": "code",
   "execution_count": 22,
   "id": "ad192734",
   "metadata": {},
   "outputs": [],
   "source": [
    "xVals=X[:,0]"
   ]
  },
  {
   "cell_type": "code",
   "execution_count": 23,
   "id": "e03947aa",
   "metadata": {},
   "outputs": [
    {
     "data": {
      "text/plain": [
       "array([ 1,  1,  1, 10, 10, 10])"
      ]
     },
     "execution_count": 23,
     "metadata": {},
     "output_type": "execute_result"
    }
   ],
   "source": [
    "xVals"
   ]
  },
  {
   "cell_type": "code",
   "execution_count": 24,
   "id": "9b98992f",
   "metadata": {},
   "outputs": [],
   "source": [
    "yVals=X[:,1]"
   ]
  },
  {
   "cell_type": "code",
   "execution_count": 25,
   "id": "9a09b4f9",
   "metadata": {},
   "outputs": [
    {
     "data": {
      "text/plain": [
       "array([2, 4, 0, 2, 4, 0])"
      ]
     },
     "execution_count": 25,
     "metadata": {},
     "output_type": "execute_result"
    }
   ],
   "source": [
    "yVals # second internal dimension"
   ]
  },
  {
   "cell_type": "code",
   "execution_count": 26,
   "id": "14692db7",
   "metadata": {},
   "outputs": [],
   "source": [
    "plt.style.use(style=\"ggplot\") # equivalent R style"
   ]
  },
  {
   "cell_type": "code",
   "execution_count": 27,
   "id": "64e27bf4",
   "metadata": {},
   "outputs": [],
   "source": [
    "plt.rcParams[\"figure.figsize\"]=12.8,7.2 # instance of matplotlib.RcParams"
   ]
  },
  {
   "cell_type": "markdown",
   "id": "a82a1293",
   "metadata": {},
   "source": [
    "- the plot show the two separate clusters (two distinct groups of points) [3]"
   ]
  },
  {
   "cell_type": "code",
   "execution_count": 28,
   "id": "8665465d",
   "metadata": {},
   "outputs": [
    {
     "data": {
      "image/png": "[encoded data removed]",
      "text/plain": [
       "<Figure size 921.6x518.4 with 1 Axes>"
      ]
     },
     "metadata": {},
     "output_type": "display_data"
    }
   ],
   "source": [
    "fig,ax=plt.subplots()\n",
    "ax.plot(xVals,yVals,\"x\")\n",
    "ax.set_xlim([-2,14])\n",
    "ax.set_ylim([-2,6]);"
   ]
  },
  {
   "cell_type": "markdown",
   "id": "9abf6659",
   "metadata": {},
   "source": [
    "- the ``KMeans`` algorithm determines (via how they sit on the plot) if two distinct groups exist [3]"
   ]
  },
  {
   "cell_type": "markdown",
   "id": "06595a1f",
   "metadata": {},
   "source": [
    "- try to separate out for a human to be able to determine also [3]"
   ]
  },
  {
   "cell_type": "markdown",
   "id": "36aa6449",
   "metadata": {},
   "source": [
    "- the first three points as listed in $x$ is one cluster (remaining is the second cluster) - plotting with different colours [3]"
   ]
  },
  {
   "cell_type": "code",
   "execution_count": 29,
   "id": "70636d63",
   "metadata": {},
   "outputs": [
    {
     "data": {
      "text/plain": [
       "array([1, 1, 1, 0, 0, 0])"
      ]
     },
     "execution_count": 29,
     "metadata": {},
     "output_type": "execute_result"
    }
   ],
   "source": [
    "nInsObjKMeans.labels_"
   ]
  },
  {
   "cell_type": "code",
   "execution_count": 30,
   "id": "c6896aaf",
   "metadata": {},
   "outputs": [],
   "source": [
    "ax.plot(X[nInsObjKMeans.labels_==0][:,0],X[nInsObjKMeans.labels_==0][:,1],\"xg\");"
   ]
  },
  {
   "cell_type": "code",
   "execution_count": 31,
   "id": "95fc30de",
   "metadata": {},
   "outputs": [
    {
     "data": {
      "image/png": "[encoded data removed]",
      "text/plain": [
       "<Figure size 921.6x518.4 with 1 Axes>"
      ]
     },
     "execution_count": 31,
     "metadata": {},
     "output_type": "execute_result"
    }
   ],
   "source": [
    "fig"
   ]
  },
  {
   "cell_type": "markdown",
   "id": "05f4262d",
   "metadata": {},
   "source": [
    "< [Table of Contents](#top) | [References](#references) >\n",
    "<a id=\"clusteringVisualisationAddNewValues\"></a>\n",
    "***\n",
    "###### Prediction\n",
    "***"
   ]
  },
  {
   "cell_type": "markdown",
   "id": "f42bfced",
   "metadata": {},
   "source": [
    "- plotting the prediction (two more points ``nVals``) [3]"
   ]
  },
  {
   "cell_type": "code",
   "execution_count": 32,
   "id": "aaa3babf",
   "metadata": {},
   "outputs": [
    {
     "data": {
      "text/plain": [
       "array([[ 0,  0],\n",
       "       [12,  3]])"
      ]
     },
     "execution_count": 32,
     "metadata": {},
     "output_type": "execute_result"
    }
   ],
   "source": [
    "nVals"
   ]
  },
  {
   "cell_type": "markdown",
   "id": "fc700575",
   "metadata": {},
   "source": [
    "- visually ``nVals[:,0]`` closer to red values and ``nVals[:,1]`` closer to the green values [3]"
   ]
  },
  {
   "cell_type": "code",
   "execution_count": 33,
   "id": "8ab20781",
   "metadata": {},
   "outputs": [],
   "source": [
    "ax.plot(nVals[:,0],nVals[:,1],\"bx\"); # plot new values"
   ]
  },
  {
   "cell_type": "code",
   "execution_count": 34,
   "id": "6be2c94c",
   "metadata": {},
   "outputs": [
    {
     "data": {
      "image/png": "[encoded data removed]",
      "text/plain": [
       "<Figure size 921.6x518.4 with 1 Axes>"
      ]
     },
     "execution_count": 34,
     "metadata": {},
     "output_type": "execute_result"
    }
   ],
   "source": [
    "fig"
   ]
  },
  {
   "cell_type": "markdown",
   "id": "7dabbcb4",
   "metadata": {},
   "source": [
    "- plot ``nPrediction`` to correct colour [3]"
   ]
  },
  {
   "cell_type": "code",
   "execution_count": 35,
   "id": "62af88c7",
   "metadata": {},
   "outputs": [
    {
     "data": {
      "text/plain": [
       "array([1, 0])"
      ]
     },
     "execution_count": 35,
     "metadata": {},
     "output_type": "execute_result"
    }
   ],
   "source": [
    "nPredictions"
   ]
  },
  {
   "cell_type": "markdown",
   "id": "c1755d41",
   "metadata": {},
   "source": [
    "- ``KMeans`` started with the six points (red ``x`` and green ``x``) specifying two clusters (known or suspected) [3]"
   ]
  },
  {
   "cell_type": "markdown",
   "id": "0cda5164",
   "metadata": {},
   "source": [
    "- determines if there is an obvious grouping of points - passing new values predictions (just by how they sit on the plot) which cluster they belong [3] "
   ]
  },
  {
   "cell_type": "code",
   "execution_count": 36,
   "id": "656e38b3",
   "metadata": {},
   "outputs": [],
   "source": [
    "ax.plot(nVals[nPredictions==1][:,0],nVals[nPredictions==1][:,1],\"or\")\n",
    "ax.plot(nVals[nPredictions==0][:,0],nVals[nPredictions==0][:,1],\"og\");"
   ]
  },
  {
   "cell_type": "code",
   "execution_count": 37,
   "id": "129f1638",
   "metadata": {},
   "outputs": [
    {
     "data": {
      "image/png": "[encoded data removed]",
      "text/plain": [
       "<Figure size 921.6x518.4 with 1 Axes>"
      ]
     },
     "execution_count": 37,
     "metadata": {},
     "output_type": "execute_result"
    }
   ],
   "source": [
    "fig"
   ]
  },
  {
   "cell_type": "markdown",
   "id": "58695f8a",
   "metadata": {},
   "source": [
    "< [Table of Contents](#top) | [References](#references) >\n",
    "<a id=\"clusteringVisualisationClusterCentre\"></a>\n",
    "***\n",
    "###### Cluster Centre\n",
    "***"
   ]
  },
  {
   "cell_type": "markdown",
   "id": "25c95205",
   "metadata": {},
   "source": [
    "- plotting ``cluster_centers`` [3]"
   ]
  },
  {
   "cell_type": "code",
   "execution_count": 38,
   "id": "9df530fa",
   "metadata": {},
   "outputs": [
    {
     "data": {
      "text/plain": [
       "array([[10.,  2.],\n",
       "       [ 1.,  2.]])"
      ]
     },
     "execution_count": 38,
     "metadata": {},
     "output_type": "execute_result"
    }
   ],
   "source": [
    "nCentre"
   ]
  },
  {
   "cell_type": "code",
   "execution_count": 39,
   "id": "7742eaf9",
   "metadata": {},
   "outputs": [],
   "source": [
    "ax.plot(nCentre[:,0],nCentre[:,1],\"ko\");"
   ]
  },
  {
   "cell_type": "code",
   "execution_count": 40,
   "id": "058c537d",
   "metadata": {},
   "outputs": [
    {
     "data": {
      "image/png": "[encoded data removed]",
      "text/plain": [
       "<Figure size 921.6x518.4 with 1 Axes>"
      ]
     },
     "execution_count": 40,
     "metadata": {},
     "output_type": "execute_result"
    }
   ],
   "source": [
    "fig"
   ]
  },
  {
   "cell_type": "code",
   "execution_count": 41,
   "id": "65ff7be8",
   "metadata": {},
   "outputs": [],
   "source": [
    "exit()"
   ]
  },
  {
   "cell_type": "markdown",
   "id": "a419a6c1",
   "metadata": {},
   "source": [
    "< [Table of Contents](#top) | [References](#references) >\n",
    "<a id=\"clusteringSimulation\"></a>\n",
    "***\n",
    "###### Simulation\n",
    "***"
   ]
  },
  {
   "cell_type": "markdown",
   "id": "ed73f522",
   "metadata": {},
   "source": [
    "- picking two central points and building two clusters around those [4]"
   ]
  },
  {
   "cell_type": "code",
   "execution_count": 1,
   "id": "2c9eb7d4",
   "metadata": {},
   "outputs": [],
   "source": [
    "import numpy as np"
   ]
  },
  {
   "cell_type": "markdown",
   "id": "6f9c7704",
   "metadata": {},
   "source": [
    "- goal is to create a group of points around the ``[2., 3.]`` and a group of points around ``[ 6., 13.]`` [4]"
   ]
  },
  {
   "cell_type": "code",
   "execution_count": 2,
   "id": "74b401c6",
   "metadata": {},
   "outputs": [],
   "source": [
    "c1=np.array(object=[2.0,3.0])"
   ]
  },
  {
   "cell_type": "code",
   "execution_count": 3,
   "id": "575a805b",
   "metadata": {},
   "outputs": [
    {
     "data": {
      "text/plain": [
       "array([2., 3.])"
      ]
     },
     "execution_count": 3,
     "metadata": {},
     "output_type": "execute_result"
    }
   ],
   "source": [
    "c1"
   ]
  },
  {
   "cell_type": "code",
   "execution_count": 4,
   "id": "539f184a",
   "metadata": {},
   "outputs": [],
   "source": [
    "c2=np.array(object=[6.0,13.0])"
   ]
  },
  {
   "cell_type": "code",
   "execution_count": 5,
   "id": "3da2f5d1",
   "metadata": {},
   "outputs": [
    {
     "data": {
      "text/plain": [
       "array([ 6., 13.])"
      ]
     },
     "execution_count": 5,
     "metadata": {},
     "output_type": "execute_result"
    }
   ],
   "source": [
    "c2"
   ]
  },
  {
   "cell_type": "markdown",
   "id": "8edfc6df",
   "metadata": {},
   "source": [
    "- ``s`` (technically not quite right) represents the standard deviation [4]"
   ]
  },
  {
   "cell_type": "code",
   "execution_count": 6,
   "id": "08225a55",
   "metadata": {},
   "outputs": [],
   "source": [
    "s=1.0"
   ]
  },
  {
   "cell_type": "markdown",
   "id": "125fdaff",
   "metadata": {},
   "source": [
    "- ``N`` is just a convenience parameter thrown in representing the size of each collection [4]"
   ]
  },
  {
   "cell_type": "code",
   "execution_count": 7,
   "id": "8ec8f92b",
   "metadata": {},
   "outputs": [],
   "source": [
    "N=20"
   ]
  },
  {
   "cell_type": "markdown",
   "id": "4d9d1744",
   "metadata": {},
   "source": [
    "- later merge both sets of points into one dataset and see if the ``KMeans`` algorithm can separate them back out (game the system) [4]"
   ]
  },
  {
   "cell_type": "markdown",
   "id": "0e493308",
   "metadata": {},
   "source": [
    "- create points randomly around the centres ``c1`` and ``c2`` [4]"
   ]
  },
  {
   "cell_type": "code",
   "execution_count": 8,
   "id": "f096e3ce",
   "metadata": {},
   "outputs": [],
   "source": [
    "c1x=np.random.normal(loc=c1[0],scale=s,size=N) # cluster one x"
   ]
  },
  {
   "cell_type": "code",
   "execution_count": 9,
   "id": "c80a30a8",
   "metadata": {},
   "outputs": [],
   "source": [
    "X=c1x"
   ]
  },
  {
   "cell_type": "markdown",
   "id": "fed4cab0",
   "metadata": {},
   "source": [
    "- ``X`` (dataset) is now a group of points around $2.0$ [4]"
   ]
  },
  {
   "cell_type": "code",
   "execution_count": 10,
   "id": "3d837be3",
   "metadata": {},
   "outputs": [
    {
     "data": {
      "text/plain": [
       "array([0.88291485, 2.49492543, 2.73782521, 3.39182352, 2.06291723,\n",
       "       0.55592512, 1.68163397, 1.06437791, 2.42240384, 4.02735142,\n",
       "       0.54921725, 0.62760291, 2.04588059, 2.12336084, 1.22902005,\n",
       "       1.4625054 , 0.99267693, 1.36080706, 0.65643133, 2.52327886])"
      ]
     },
     "execution_count": 10,
     "metadata": {},
     "output_type": "execute_result"
    }
   ],
   "source": [
    "X"
   ]
  },
  {
   "cell_type": "code",
   "execution_count": 11,
   "id": "a2d72d0c",
   "metadata": {},
   "outputs": [],
   "source": [
    "c1y=np.random.normal(loc=c1[1],scale=s,size=N) # cluster one y"
   ]
  },
  {
   "cell_type": "code",
   "execution_count": 12,
   "id": "0b181270",
   "metadata": {},
   "outputs": [],
   "source": [
    "X=c1y"
   ]
  },
  {
   "cell_type": "markdown",
   "id": "858f1b2e",
   "metadata": {},
   "source": [
    "- ``X`` (dataset) is now a group of points around $3.0$ [4]"
   ]
  },
  {
   "cell_type": "code",
   "execution_count": 13,
   "id": "0024bda4",
   "metadata": {},
   "outputs": [
    {
     "data": {
      "text/plain": [
       "array([3.69463284, 2.96799751, 1.48306584, 2.48009354, 3.30811179,\n",
       "       1.25293788, 2.80105761, 1.35214401, 2.48280317, 2.17901089,\n",
       "       4.05682051, 2.98021835, 4.41683216, 3.59743246, 4.1220217 ,\n",
       "       0.94769039, 4.84327246, 3.73118853, 2.8953724 , 3.86410481])"
      ]
     },
     "execution_count": 13,
     "metadata": {},
     "output_type": "execute_result"
    }
   ],
   "source": [
    "X"
   ]
  },
  {
   "cell_type": "markdown",
   "id": "1fd00ea6",
   "metadata": {},
   "source": [
    "- need to put the ``c1x`` and ``c1y`` into points [4]"
   ]
  },
  {
   "cell_type": "markdown",
   "id": "1a372c3e",
   "metadata": {},
   "source": [
    "- vertically stacking the first collection on top of the second collection [4]"
   ]
  },
  {
   "cell_type": "code",
   "execution_count": 14,
   "id": "826af071",
   "metadata": {},
   "outputs": [],
   "source": [
    "c1p=np.vstack(tup=[c1x,c1y])"
   ]
  },
  {
   "cell_type": "code",
   "execution_count": 15,
   "id": "311579e4",
   "metadata": {},
   "outputs": [],
   "source": [
    "X=c1p"
   ]
  },
  {
   "cell_type": "code",
   "execution_count": 16,
   "id": "ec250b39",
   "metadata": {},
   "outputs": [
    {
     "data": {
      "text/plain": [
       "array([0.88291485, 2.49492543, 2.73782521, 3.39182352, 2.06291723,\n",
       "       0.55592512, 1.68163397, 1.06437791, 2.42240384, 4.02735142,\n",
       "       0.54921725, 0.62760291, 2.04588059, 2.12336084, 1.22902005,\n",
       "       1.4625054 , 0.99267693, 1.36080706, 0.65643133, 2.52327886])"
      ]
     },
     "execution_count": 16,
     "metadata": {},
     "output_type": "execute_result"
    }
   ],
   "source": [
    "X[0] # first collection x-axis"
   ]
  },
  {
   "cell_type": "code",
   "execution_count": 17,
   "id": "29f9c505",
   "metadata": {},
   "outputs": [
    {
     "data": {
      "text/plain": [
       "array([3.69463284, 2.96799751, 1.48306584, 2.48009354, 3.30811179,\n",
       "       1.25293788, 2.80105761, 1.35214401, 2.48280317, 2.17901089,\n",
       "       4.05682051, 2.98021835, 4.41683216, 3.59743246, 4.1220217 ,\n",
       "       0.94769039, 4.84327246, 3.73118853, 2.8953724 , 3.86410481])"
      ]
     },
     "execution_count": 17,
     "metadata": {},
     "output_type": "execute_result"
    }
   ],
   "source": [
    "X[1] # second collection y-axis"
   ]
  },
  {
   "cell_type": "markdown",
   "id": "cb1ea21c",
   "metadata": {},
   "source": [
    "- result is an outer collection with the two created collections within [4]"
   ]
  },
  {
   "cell_type": "code",
   "execution_count": 18,
   "id": "21a19e0d",
   "metadata": {},
   "outputs": [
    {
     "data": {
      "text/plain": [
       "array([[0.88291485, 2.49492543, 2.73782521, 3.39182352, 2.06291723,\n",
       "        0.55592512, 1.68163397, 1.06437791, 2.42240384, 4.02735142,\n",
       "        0.54921725, 0.62760291, 2.04588059, 2.12336084, 1.22902005,\n",
       "        1.4625054 , 0.99267693, 1.36080706, 0.65643133, 2.52327886],\n",
       "       [3.69463284, 2.96799751, 1.48306584, 2.48009354, 3.30811179,\n",
       "        1.25293788, 2.80105761, 1.35214401, 2.48280317, 2.17901089,\n",
       "        4.05682051, 2.98021835, 4.41683216, 3.59743246, 4.1220217 ,\n",
       "        0.94769039, 4.84327246, 3.73118853, 2.8953724 , 3.86410481]])"
      ]
     },
     "execution_count": 18,
     "metadata": {},
     "output_type": "execute_result"
    }
   ],
   "source": [
    "X"
   ]
  },
  {
   "cell_type": "markdown",
   "id": "b92aaea0",
   "metadata": {},
   "source": [
    "- transposed collection [4]"
   ]
  },
  {
   "cell_type": "code",
   "execution_count": 19,
   "id": "f6b0a440",
   "metadata": {},
   "outputs": [],
   "source": [
    "c1p=np.vstack(tup=[c1x,c1y]).T"
   ]
  },
  {
   "cell_type": "code",
   "execution_count": 20,
   "id": "2e6c45da",
   "metadata": {},
   "outputs": [],
   "source": [
    "X=c1p"
   ]
  },
  {
   "cell_type": "markdown",
   "id": "3e719b51",
   "metadata": {},
   "source": [
    "- group of twenty points all centred around the point ``[2., 3.]`` on the plot [4]"
   ]
  },
  {
   "cell_type": "code",
   "execution_count": 21,
   "id": "a49b0ba4",
   "metadata": {},
   "outputs": [
    {
     "data": {
      "text/plain": [
       "array([[0.88291485, 3.69463284],\n",
       "       [2.49492543, 2.96799751],\n",
       "       [2.73782521, 1.48306584],\n",
       "       [3.39182352, 2.48009354],\n",
       "       [2.06291723, 3.30811179],\n",
       "       [0.55592512, 1.25293788],\n",
       "       [1.68163397, 2.80105761],\n",
       "       [1.06437791, 1.35214401],\n",
       "       [2.42240384, 2.48280317],\n",
       "       [4.02735142, 2.17901089],\n",
       "       [0.54921725, 4.05682051],\n",
       "       [0.62760291, 2.98021835],\n",
       "       [2.04588059, 4.41683216],\n",
       "       [2.12336084, 3.59743246],\n",
       "       [1.22902005, 4.1220217 ],\n",
       "       [1.4625054 , 0.94769039],\n",
       "       [0.99267693, 4.84327246],\n",
       "       [1.36080706, 3.73118853],\n",
       "       [0.65643133, 2.8953724 ],\n",
       "       [2.52327886, 3.86410481]])"
      ]
     },
     "execution_count": 21,
     "metadata": {},
     "output_type": "execute_result"
    }
   ],
   "source": [
    "X"
   ]
  },
  {
   "cell_type": "markdown",
   "id": "375779ba",
   "metadata": {},
   "source": [
    "- same process for ``c2`` (create points randomly around the centre) [4]"
   ]
  },
  {
   "cell_type": "code",
   "execution_count": 22,
   "id": "3a49caa4",
   "metadata": {},
   "outputs": [],
   "source": [
    "c2x=np.random.normal(loc=c2[0],scale=s,size=N) # cluster two x\n",
    "c2y=np.random.normal(loc=c2[1],scale=s,size=N) # cluster two y\n",
    "c2p=np.vstack(tup=[c2x,c2y]).T"
   ]
  },
  {
   "cell_type": "code",
   "execution_count": 23,
   "id": "dd377d12",
   "metadata": {},
   "outputs": [
    {
     "data": {
      "text/plain": [
       "array([[ 5.68495561, 12.38331445],\n",
       "       [ 5.21867624, 12.15294542],\n",
       "       [ 5.17848639, 12.02862101],\n",
       "       [ 4.33869089, 15.16159619],\n",
       "       [ 4.91593482, 11.9598927 ],\n",
       "       [ 4.07611475, 15.55341871],\n",
       "       [ 5.69861387, 11.63075515],\n",
       "       [ 6.01115751, 14.78363924],\n",
       "       [ 6.07160904, 13.90310823],\n",
       "       [ 5.80133226, 12.00623973],\n",
       "       [ 6.86784418, 11.39047761],\n",
       "       [ 5.63280271, 12.57365329],\n",
       "       [ 5.98097868, 10.79174619],\n",
       "       [ 5.15275856, 15.34698561],\n",
       "       [ 6.66909081, 13.19136218],\n",
       "       [ 5.14153762, 13.00174909],\n",
       "       [ 6.07201754, 13.83499278],\n",
       "       [ 4.89536093, 13.396822  ],\n",
       "       [ 5.8459333 , 12.07867753],\n",
       "       [ 4.90021526, 12.45653315]])"
      ]
     },
     "execution_count": 23,
     "metadata": {},
     "output_type": "execute_result"
    }
   ],
   "source": [
    "c2p"
   ]
  },
  {
   "cell_type": "markdown",
   "id": "b4b1064f",
   "metadata": {},
   "source": [
    "- merge the two groups of twenty points together [4]"
   ]
  },
  {
   "cell_type": "code",
   "execution_count": 24,
   "id": "de1385ea",
   "metadata": {},
   "outputs": [
    {
     "data": {
      "text/plain": [
       "array([[ 5.68495561, 12.38331445],\n",
       "       [ 5.21867624, 12.15294542],\n",
       "       [ 5.17848639, 12.02862101],\n",
       "       [ 4.33869089, 15.16159619],\n",
       "       [ 4.91593482, 11.9598927 ],\n",
       "       [ 4.07611475, 15.55341871],\n",
       "       [ 5.69861387, 11.63075515],\n",
       "       [ 6.01115751, 14.78363924],\n",
       "       [ 6.07160904, 13.90310823],\n",
       "       [ 5.80133226, 12.00623973],\n",
       "       [ 6.86784418, 11.39047761],\n",
       "       [ 5.63280271, 12.57365329],\n",
       "       [ 5.98097868, 10.79174619],\n",
       "       [ 5.15275856, 15.34698561],\n",
       "       [ 6.66909081, 13.19136218],\n",
       "       [ 5.14153762, 13.00174909],\n",
       "       [ 6.07201754, 13.83499278],\n",
       "       [ 4.89536093, 13.396822  ],\n",
       "       [ 5.8459333 , 12.07867753],\n",
       "       [ 4.90021526, 12.45653315]])"
      ]
     },
     "execution_count": 24,
     "metadata": {},
     "output_type": "execute_result"
    }
   ],
   "source": [
    "c2p"
   ]
  },
  {
   "cell_type": "code",
   "execution_count": 25,
   "id": "9076bedf",
   "metadata": {},
   "outputs": [],
   "source": [
    "X=np.concatenate((c1p,c2p))"
   ]
  },
  {
   "cell_type": "markdown",
   "id": "b7da90c6",
   "metadata": {},
   "source": [
    "- the first twenty points are grouped around ``[2., 3.]`` and the second ten points are bunched around ``[ 6., 13.]`` [4]"
   ]
  },
  {
   "cell_type": "code",
   "execution_count": 26,
   "id": "84cbc350",
   "metadata": {},
   "outputs": [
    {
     "data": {
      "text/plain": [
       "array([[ 0.88291485,  3.69463284],\n",
       "       [ 2.49492543,  2.96799751],\n",
       "       [ 2.73782521,  1.48306584],\n",
       "       [ 3.39182352,  2.48009354],\n",
       "       [ 2.06291723,  3.30811179],\n",
       "       [ 0.55592512,  1.25293788],\n",
       "       [ 1.68163397,  2.80105761],\n",
       "       [ 1.06437791,  1.35214401],\n",
       "       [ 2.42240384,  2.48280317],\n",
       "       [ 4.02735142,  2.17901089],\n",
       "       [ 0.54921725,  4.05682051],\n",
       "       [ 0.62760291,  2.98021835],\n",
       "       [ 2.04588059,  4.41683216],\n",
       "       [ 2.12336084,  3.59743246],\n",
       "       [ 1.22902005,  4.1220217 ],\n",
       "       [ 1.4625054 ,  0.94769039],\n",
       "       [ 0.99267693,  4.84327246],\n",
       "       [ 1.36080706,  3.73118853],\n",
       "       [ 0.65643133,  2.8953724 ],\n",
       "       [ 2.52327886,  3.86410481],\n",
       "       [ 5.68495561, 12.38331445],\n",
       "       [ 5.21867624, 12.15294542],\n",
       "       [ 5.17848639, 12.02862101],\n",
       "       [ 4.33869089, 15.16159619],\n",
       "       [ 4.91593482, 11.9598927 ],\n",
       "       [ 4.07611475, 15.55341871],\n",
       "       [ 5.69861387, 11.63075515],\n",
       "       [ 6.01115751, 14.78363924],\n",
       "       [ 6.07160904, 13.90310823],\n",
       "       [ 5.80133226, 12.00623973],\n",
       "       [ 6.86784418, 11.39047761],\n",
       "       [ 5.63280271, 12.57365329],\n",
       "       [ 5.98097868, 10.79174619],\n",
       "       [ 5.15275856, 15.34698561],\n",
       "       [ 6.66909081, 13.19136218],\n",
       "       [ 5.14153762, 13.00174909],\n",
       "       [ 6.07201754, 13.83499278],\n",
       "       [ 4.89536093, 13.396822  ],\n",
       "       [ 5.8459333 , 12.07867753],\n",
       "       [ 4.90021526, 12.45653315]])"
      ]
     },
     "execution_count": 26,
     "metadata": {},
     "output_type": "execute_result"
    }
   ],
   "source": [
    "X"
   ]
  },
  {
   "cell_type": "markdown",
   "id": "914c0ffc",
   "metadata": {},
   "source": [
    "- mixing the two groups together (``X``) [4]"
   ]
  },
  {
   "cell_type": "code",
   "execution_count": 27,
   "id": "9f0d0067",
   "metadata": {},
   "outputs": [],
   "source": [
    "np.random.shuffle(X) # modify sequence in-place"
   ]
  },
  {
   "cell_type": "markdown",
   "id": "1f6fb1e1",
   "metadata": {},
   "source": [
    "- shuffling the points in order to ensure the groups are not identifiable via the collection itself [4]"
   ]
  },
  {
   "cell_type": "code",
   "execution_count": 28,
   "id": "b0dedbd6",
   "metadata": {},
   "outputs": [
    {
     "data": {
      "text/plain": [
       "array([[ 6.01115751, 14.78363924],\n",
       "       [ 2.73782521,  1.48306584],\n",
       "       [ 6.07201754, 13.83499278],\n",
       "       [ 0.54921725,  4.05682051],\n",
       "       [ 5.15275856, 15.34698561],\n",
       "       [ 0.55592512,  1.25293788],\n",
       "       [ 2.42240384,  2.48280317],\n",
       "       [ 2.52327886,  3.86410481],\n",
       "       [ 5.17848639, 12.02862101],\n",
       "       [ 1.36080706,  3.73118853],\n",
       "       [ 4.91593482, 11.9598927 ],\n",
       "       [ 4.02735142,  2.17901089],\n",
       "       [ 5.80133226, 12.00623973],\n",
       "       [ 6.07160904, 13.90310823],\n",
       "       [ 5.14153762, 13.00174909],\n",
       "       [ 4.90021526, 12.45653315],\n",
       "       [ 2.49492543,  2.96799751],\n",
       "       [ 0.65643133,  2.8953724 ],\n",
       "       [ 4.33869089, 15.16159619],\n",
       "       [ 2.04588059,  4.41683216],\n",
       "       [ 5.21867624, 12.15294542],\n",
       "       [ 5.63280271, 12.57365329],\n",
       "       [ 5.8459333 , 12.07867753],\n",
       "       [ 4.07611475, 15.55341871],\n",
       "       [ 0.62760291,  2.98021835],\n",
       "       [ 6.66909081, 13.19136218],\n",
       "       [ 4.89536093, 13.396822  ],\n",
       "       [ 2.06291723,  3.30811179],\n",
       "       [ 1.06437791,  1.35214401],\n",
       "       [ 5.68495561, 12.38331445],\n",
       "       [ 2.12336084,  3.59743246],\n",
       "       [ 0.99267693,  4.84327246],\n",
       "       [ 1.4625054 ,  0.94769039],\n",
       "       [ 0.88291485,  3.69463284],\n",
       "       [ 5.98097868, 10.79174619],\n",
       "       [ 1.22902005,  4.1220217 ],\n",
       "       [ 1.68163397,  2.80105761],\n",
       "       [ 6.86784418, 11.39047761],\n",
       "       [ 3.39182352,  2.48009354],\n",
       "       [ 5.69861387, 11.63075515]])"
      ]
     },
     "execution_count": 28,
     "metadata": {},
     "output_type": "execute_result"
    }
   ],
   "source": [
    "X"
   ]
  },
  {
   "cell_type": "code",
   "execution_count": 29,
   "id": "6c3b90a3",
   "metadata": {},
   "outputs": [],
   "source": [
    "import matplotlib.pyplot as plt"
   ]
  },
  {
   "cell_type": "code",
   "execution_count": 30,
   "id": "ac1ec634",
   "metadata": {},
   "outputs": [],
   "source": [
    "plt.style.use(style=\"ggplot\")"
   ]
  },
  {
   "cell_type": "code",
   "execution_count": 31,
   "id": "ca938094",
   "metadata": {},
   "outputs": [],
   "source": [
    "plt.rcParams[\"figure.figsize\"]=12.8,7.2"
   ]
  },
  {
   "cell_type": "code",
   "execution_count": 32,
   "id": "7f1b9046",
   "metadata": {},
   "outputs": [
    {
     "data": {
      "image/png": "[encoded data removed]",
      "text/plain": [
       "<Figure size 921.6x518.4 with 1 Axes>"
      ]
     },
     "metadata": {},
     "output_type": "display_data"
    }
   ],
   "source": [
    "fig,ax=plt.subplots()\n",
    "ax.plot(X[:,0],X[:,1],\"x\");"
   ]
  },
  {
   "cell_type": "markdown",
   "id": "a258f408",
   "metadata": {},
   "source": [
    "< [Table of Contents](#top) | [References](#references) >\n",
    "<a id=\"clusteringSimulationsklearnclusterkmeans\"></a>\n",
    "***\n",
    "###### ``sklearn.cluster.KMeans``\n",
    "***"
   ]
  },
  {
   "cell_type": "code",
   "execution_count": 33,
   "id": "ac2c13b4",
   "metadata": {},
   "outputs": [],
   "source": [
    "import sklearn.cluster as skcl"
   ]
  },
  {
   "cell_type": "code",
   "execution_count": 34,
   "id": "89484d89",
   "metadata": {},
   "outputs": [],
   "source": [
    "nInsObjKMeans=skcl.KMeans(n_clusters=2,random_state=0)"
   ]
  },
  {
   "cell_type": "code",
   "execution_count": 35,
   "id": "ea5d3951",
   "metadata": {},
   "outputs": [
    {
     "data": {
      "text/plain": [
       "KMeans(n_clusters=2, random_state=0)"
      ]
     },
     "execution_count": 35,
     "metadata": {},
     "output_type": "execute_result"
    }
   ],
   "source": [
    "nInsObjKMeans"
   ]
  },
  {
   "cell_type": "code",
   "execution_count": 36,
   "id": "635da3c4",
   "metadata": {},
   "outputs": [
    {
     "data": {
      "text/plain": [
       "array([[ 6.01115751, 14.78363924],\n",
       "       [ 2.73782521,  1.48306584],\n",
       "       [ 6.07201754, 13.83499278],\n",
       "       [ 0.54921725,  4.05682051],\n",
       "       [ 5.15275856, 15.34698561],\n",
       "       [ 0.55592512,  1.25293788],\n",
       "       [ 2.42240384,  2.48280317],\n",
       "       [ 2.52327886,  3.86410481],\n",
       "       [ 5.17848639, 12.02862101],\n",
       "       [ 1.36080706,  3.73118853],\n",
       "       [ 4.91593482, 11.9598927 ],\n",
       "       [ 4.02735142,  2.17901089],\n",
       "       [ 5.80133226, 12.00623973],\n",
       "       [ 6.07160904, 13.90310823],\n",
       "       [ 5.14153762, 13.00174909],\n",
       "       [ 4.90021526, 12.45653315],\n",
       "       [ 2.49492543,  2.96799751],\n",
       "       [ 0.65643133,  2.8953724 ],\n",
       "       [ 4.33869089, 15.16159619],\n",
       "       [ 2.04588059,  4.41683216],\n",
       "       [ 5.21867624, 12.15294542],\n",
       "       [ 5.63280271, 12.57365329],\n",
       "       [ 5.8459333 , 12.07867753],\n",
       "       [ 4.07611475, 15.55341871],\n",
       "       [ 0.62760291,  2.98021835],\n",
       "       [ 6.66909081, 13.19136218],\n",
       "       [ 4.89536093, 13.396822  ],\n",
       "       [ 2.06291723,  3.30811179],\n",
       "       [ 1.06437791,  1.35214401],\n",
       "       [ 5.68495561, 12.38331445],\n",
       "       [ 2.12336084,  3.59743246],\n",
       "       [ 0.99267693,  4.84327246],\n",
       "       [ 1.4625054 ,  0.94769039],\n",
       "       [ 0.88291485,  3.69463284],\n",
       "       [ 5.98097868, 10.79174619],\n",
       "       [ 1.22902005,  4.1220217 ],\n",
       "       [ 1.68163397,  2.80105761],\n",
       "       [ 6.86784418, 11.39047761],\n",
       "       [ 3.39182352,  2.48009354],\n",
       "       [ 5.69861387, 11.63075515]])"
      ]
     },
     "execution_count": 36,
     "metadata": {},
     "output_type": "execute_result"
    }
   ],
   "source": [
    "X"
   ]
  },
  {
   "cell_type": "code",
   "execution_count": 37,
   "id": "b0bf2569",
   "metadata": {},
   "outputs": [
    {
     "data": {
      "text/plain": [
       "KMeans(n_clusters=2, random_state=0)"
      ]
     },
     "execution_count": 37,
     "metadata": {},
     "output_type": "execute_result"
    }
   ],
   "source": [
    "nInsObjKMeans.fit(X=X)"
   ]
  },
  {
   "cell_type": "code",
   "execution_count": 38,
   "id": "89d7fd65",
   "metadata": {},
   "outputs": [
    {
     "data": {
      "text/plain": [
       "array([0, 1, 0, 1, 0, 1, 1, 1, 0, 1, 0, 1, 0, 0, 0, 0, 1, 1, 0, 1, 0, 0,\n",
       "       0, 0, 1, 0, 0, 1, 1, 0, 1, 1, 1, 1, 0, 1, 1, 0, 1, 0])"
      ]
     },
     "execution_count": 38,
     "metadata": {},
     "output_type": "execute_result"
    }
   ],
   "source": [
    "nInsObjKMeans.labels_"
   ]
  },
  {
   "cell_type": "markdown",
   "id": "339d4a67",
   "metadata": {},
   "source": [
    "< [Table of Contents](#top) | [References](#references) >\n",
    "<a id=\"clusteringSimulationVisualisation\"></a>\n",
    "***\n",
    "###### Visualisation\n",
    "***"
   ]
  },
  {
   "cell_type": "markdown",
   "id": "a1a97d63",
   "metadata": {},
   "source": [
    "- ``plot`` the two groups (``X``) from ``nInsObjKMeans`` (make both groups identifiable) [4]"
   ]
  },
  {
   "cell_type": "code",
   "execution_count": 39,
   "id": "6af65612",
   "metadata": {},
   "outputs": [
    {
     "data": {
      "image/png": "[encoded data removed]",
      "text/plain": [
       "<Figure size 921.6x518.4 with 1 Axes>"
      ]
     },
     "metadata": {},
     "output_type": "display_data"
    }
   ],
   "source": [
    "fig,ax=plt.subplots()\n",
    "ax.plot(X[nInsObjKMeans.labels_==0][:,0],X[nInsObjKMeans.labels_==0][:,1],\"xg\")\n",
    "ax.plot(X[nInsObjKMeans.labels_==1][:,0],X[nInsObjKMeans.labels_==1][:,1],\"xr\");"
   ]
  },
  {
   "cell_type": "markdown",
   "id": "d2251e4a",
   "metadata": {},
   "source": [
    "- make prediction (``nVals``) [4]"
   ]
  },
  {
   "cell_type": "code",
   "execution_count": 40,
   "id": "155e0048",
   "metadata": {},
   "outputs": [],
   "source": [
    "nVals=np.array(object=[[0.0,0.0],[6,10]])"
   ]
  },
  {
   "cell_type": "code",
   "execution_count": 41,
   "id": "2e3bc37c",
   "metadata": {},
   "outputs": [
    {
     "data": {
      "text/plain": [
       "array([[ 0.,  0.],\n",
       "       [ 6., 10.]])"
      ]
     },
     "execution_count": 41,
     "metadata": {},
     "output_type": "execute_result"
    }
   ],
   "source": [
    "nVals"
   ]
  },
  {
   "cell_type": "code",
   "execution_count": 42,
   "id": "ba39536b",
   "metadata": {},
   "outputs": [],
   "source": [
    "nPrediction=nInsObjKMeans.predict(X=nVals)"
   ]
  },
  {
   "cell_type": "code",
   "execution_count": 43,
   "id": "956ccf9e",
   "metadata": {},
   "outputs": [
    {
     "data": {
      "text/plain": [
       "array([1, 0])"
      ]
     },
     "execution_count": 43,
     "metadata": {},
     "output_type": "execute_result"
    }
   ],
   "source": [
    "nPrediction"
   ]
  },
  {
   "cell_type": "markdown",
   "id": "4119e369",
   "metadata": {},
   "source": [
    "- plot ``nPrediction`` with associated coloured marker [4]"
   ]
  },
  {
   "cell_type": "code",
   "execution_count": 44,
   "id": "6fee002a",
   "metadata": {},
   "outputs": [],
   "source": [
    "ax.plot(nVals[nPrediction==0][:,0],nVals[nPrediction==0][:,1],\"go\")\n",
    "ax.plot(nVals[nPrediction==1][:,0],nVals[nPrediction==1][:,1],\"ro\");"
   ]
  },
  {
   "cell_type": "code",
   "execution_count": 45,
   "id": "1fee2e5f",
   "metadata": {},
   "outputs": [
    {
     "data": {
      "image/png": "[encoded data removed]",
      "text/plain": [
       "<Figure size 921.6x518.4 with 1 Axes>"
      ]
     },
     "execution_count": 45,
     "metadata": {},
     "output_type": "execute_result"
    }
   ],
   "source": [
    "fig"
   ]
  },
  {
   "cell_type": "code",
   "execution_count": 46,
   "id": "4ecffe6c",
   "metadata": {},
   "outputs": [],
   "source": [
    "nCentre=nInsObjKMeans.cluster_centers_"
   ]
  },
  {
   "cell_type": "code",
   "execution_count": 47,
   "id": "5761ac2e",
   "metadata": {},
   "outputs": [
    {
     "data": {
      "text/plain": [
       "array([[ 5.50770555, 12.98132651],\n",
       "       [ 1.74464399,  2.97284044]])"
      ]
     },
     "execution_count": 47,
     "metadata": {},
     "output_type": "execute_result"
    }
   ],
   "source": [
    "nCentre"
   ]
  },
  {
   "cell_type": "markdown",
   "id": "fe971491",
   "metadata": {},
   "source": [
    "- ``plot`` centres of each cluster [4]"
   ]
  },
  {
   "cell_type": "markdown",
   "id": "287e6aa0",
   "metadata": {},
   "source": [
    "- the ``KMeans`` algorithm determines (black dot within the green/red group) the centre point based on where the points sit on the plot [4]"
   ]
  },
  {
   "cell_type": "markdown",
   "id": "674b4e4d",
   "metadata": {},
   "source": [
    "- introducing two new points (``nVals``) the question is which of the centre points each is closer to [4]"
   ]
  },
  {
   "cell_type": "code",
   "execution_count": 48,
   "id": "a6a784b5",
   "metadata": {},
   "outputs": [],
   "source": [
    "ax.plot(nCentre[:,0],nCentre[:,1],\"k.\");"
   ]
  },
  {
   "cell_type": "code",
   "execution_count": 49,
   "id": "32afb62f",
   "metadata": {},
   "outputs": [
    {
     "data": {
      "image/png": "[encoded data removed]",
      "text/plain": [
       "<Figure size 921.6x518.4 with 1 Axes>"
      ]
     },
     "execution_count": 49,
     "metadata": {},
     "output_type": "execute_result"
    }
   ],
   "source": [
    "fig"
   ]
  },
  {
   "cell_type": "markdown",
   "id": "72d860b2",
   "metadata": {},
   "source": [
    "< [Table of Contents](#top) | [References](#references) >\n",
    "<a id=\"clusteringSimulationVisualisationAddNewValues\"></a>\n",
    "***\n",
    "###### Prediction\n",
    "***"
   ]
  },
  {
   "cell_type": "markdown",
   "id": "e7d8b61f",
   "metadata": {},
   "source": [
    "- creating a line of points evenly spaced on a ``plot`` (very contrived and aligned) from the button left to the top right (by design using ``numpy.linspace``) [4]"
   ]
  },
  {
   "cell_type": "markdown",
   "id": "fc360533",
   "metadata": {},
   "source": [
    "- creating a new collection of ``nVals`` (dummy points for classification) [4]"
   ]
  },
  {
   "cell_type": "code",
   "execution_count": 50,
   "id": "347bed3b",
   "metadata": {},
   "outputs": [],
   "source": [
    "xVals=np.linspace(start=-1.0,stop=7.0,num=20)"
   ]
  },
  {
   "cell_type": "code",
   "execution_count": 51,
   "id": "a3d64227",
   "metadata": {},
   "outputs": [
    {
     "data": {
      "text/plain": [
       "array([-1.        , -0.57894737, -0.15789474,  0.26315789,  0.68421053,\n",
       "        1.10526316,  1.52631579,  1.94736842,  2.36842105,  2.78947368,\n",
       "        3.21052632,  3.63157895,  4.05263158,  4.47368421,  4.89473684,\n",
       "        5.31578947,  5.73684211,  6.15789474,  6.57894737,  7.        ])"
      ]
     },
     "execution_count": 51,
     "metadata": {},
     "output_type": "execute_result"
    }
   ],
   "source": [
    "xVals"
   ]
  },
  {
   "cell_type": "code",
   "execution_count": 52,
   "id": "4d8efae1",
   "metadata": {},
   "outputs": [],
   "source": [
    "yVals=np.linspace(start=-1.0,stop=15.0,num=20)"
   ]
  },
  {
   "cell_type": "code",
   "execution_count": 53,
   "id": "4f9c52c6",
   "metadata": {},
   "outputs": [
    {
     "data": {
      "text/plain": [
       "array([-1.        , -0.15789474,  0.68421053,  1.52631579,  2.36842105,\n",
       "        3.21052632,  4.05263158,  4.89473684,  5.73684211,  6.57894737,\n",
       "        7.42105263,  8.26315789,  9.10526316,  9.94736842, 10.78947368,\n",
       "       11.63157895, 12.47368421, 13.31578947, 14.15789474, 15.        ])"
      ]
     },
     "execution_count": 53,
     "metadata": {},
     "output_type": "execute_result"
    }
   ],
   "source": [
    "yVals"
   ]
  },
  {
   "cell_type": "code",
   "execution_count": 54,
   "id": "d439c380",
   "metadata": {},
   "outputs": [],
   "source": [
    "nVals=np.vstack(tup=[xVals,yVals]).T"
   ]
  },
  {
   "cell_type": "code",
   "execution_count": 55,
   "id": "19b35005",
   "metadata": {},
   "outputs": [
    {
     "data": {
      "text/plain": [
       "array([[-1.        , -1.        ],\n",
       "       [-0.57894737, -0.15789474],\n",
       "       [-0.15789474,  0.68421053],\n",
       "       [ 0.26315789,  1.52631579],\n",
       "       [ 0.68421053,  2.36842105],\n",
       "       [ 1.10526316,  3.21052632],\n",
       "       [ 1.52631579,  4.05263158],\n",
       "       [ 1.94736842,  4.89473684],\n",
       "       [ 2.36842105,  5.73684211],\n",
       "       [ 2.78947368,  6.57894737],\n",
       "       [ 3.21052632,  7.42105263],\n",
       "       [ 3.63157895,  8.26315789],\n",
       "       [ 4.05263158,  9.10526316],\n",
       "       [ 4.47368421,  9.94736842],\n",
       "       [ 4.89473684, 10.78947368],\n",
       "       [ 5.31578947, 11.63157895],\n",
       "       [ 5.73684211, 12.47368421],\n",
       "       [ 6.15789474, 13.31578947],\n",
       "       [ 6.57894737, 14.15789474],\n",
       "       [ 7.        , 15.        ]])"
      ]
     },
     "execution_count": 55,
     "metadata": {},
     "output_type": "execute_result"
    }
   ],
   "source": [
    "nVals"
   ]
  },
  {
   "cell_type": "markdown",
   "id": "373ff267",
   "metadata": {},
   "source": [
    "- get the ``KMeans`` algorithm to classify [4]"
   ]
  },
  {
   "cell_type": "code",
   "execution_count": 56,
   "id": "3de20a8e",
   "metadata": {},
   "outputs": [],
   "source": [
    "nPrediction=nInsObjKMeans.predict(X=nVals)"
   ]
  },
  {
   "cell_type": "code",
   "execution_count": 57,
   "id": "ddf86d88",
   "metadata": {},
   "outputs": [
    {
     "data": {
      "text/plain": [
       "array([1, 1, 1, 1, 1, 1, 1, 1, 1, 1, 1, 0, 0, 0, 0, 0, 0, 0, 0, 0])"
      ]
     },
     "execution_count": 57,
     "metadata": {},
     "output_type": "execute_result"
    }
   ],
   "source": [
    "nPrediction"
   ]
  },
  {
   "cell_type": "markdown",
   "id": "52e53265",
   "metadata": {},
   "source": [
    "- the new points are classified according to a cluster (there exists a decision boundary between the green and red points) [4]"
   ]
  },
  {
   "cell_type": "code",
   "execution_count": 58,
   "id": "0ea4d716",
   "metadata": {},
   "outputs": [],
   "source": [
    "ax.plot(nVals[nPrediction==0][:,0],nVals[nPrediction==0][:,1],\"go\")\n",
    "ax.plot(nVals[nPrediction==1][:,0],nVals[nPrediction==1][:,1],\"ro\");"
   ]
  },
  {
   "cell_type": "markdown",
   "id": "ce0f6046",
   "metadata": {},
   "source": [
    "< [Table of Contents](#top) | [References](#references) >\n",
    "<a id=\"clusteringSimulationVisualisationClusterCentre\"></a>\n",
    "***\n",
    "###### Cluster Centre\n",
    "***"
   ]
  },
  {
   "cell_type": "markdown",
   "id": "27648bc0",
   "metadata": {},
   "source": [
    "- color associated with closest black dot [4]"
   ]
  },
  {
   "cell_type": "code",
   "execution_count": 59,
   "id": "2a33ca32",
   "metadata": {},
   "outputs": [],
   "source": [
    "ax.plot(nCentre[:,0],nCentre[:,1],\"k.\");"
   ]
  },
  {
   "cell_type": "code",
   "execution_count": 60,
   "id": "78c911cb",
   "metadata": {},
   "outputs": [
    {
     "data": {
      "image/png": "[encoded data removed]",
      "text/plain": [
       "<Figure size 921.6x518.4 with 1 Axes>"
      ]
     },
     "execution_count": 60,
     "metadata": {},
     "output_type": "execute_result"
    }
   ],
   "source": [
    "fig"
   ]
  },
  {
   "cell_type": "code",
   "execution_count": 61,
   "id": "87247780",
   "metadata": {},
   "outputs": [],
   "source": [
    "exit()"
   ]
  },
  {
   "cell_type": "markdown",
   "id": "c8781b87",
   "metadata": {},
   "source": [
    "***\n",
    "## END"
   ]
  },
  {
   "cell_type": "markdown",
   "id": "f1291269",
   "metadata": {},
   "source": [
    "< [Table of Contents](#top) | [Abstract](#abstract) | [Introduction](#introduction) | [Conclusion](#conclusion) | [References](#references) >\n",
    "<a id=\"solution\"></a>\n",
    "***\n",
    "## Solution\n",
    "***"
   ]
  },
  {
   "cell_type": "markdown",
   "id": "6ee51fa4",
   "metadata": {},
   "source": [
    "&#x1F6A7;"
   ]
  },
  {
   "cell_type": "markdown",
   "id": "681a4f11",
   "metadata": {},
   "source": [
    "<!-- - refer [Appendix](#appendix-df) to view the full dataset <a id=\"go-back-df\"></a> -->\n",
    "<!-- print(fGetModuleType(___x___),fDocumentation(___x___)) -->\n",
    "***\n",
    "## END"
   ]
  },
  {
   "cell_type": "markdown",
   "id": "28e9ffc8",
   "metadata": {},
   "source": [
    "< [Table of Contents](#top) | [Abstract](#abstract) | [Introduction](#introduction) | [Solution](#solution) | [References](#references) >\n",
    "<a id=\"conclusion\"></a>\n",
    "***\n",
    "## Conclusion\n",
    "***"
   ]
  },
  {
   "cell_type": "markdown",
   "id": "56d5e2c1",
   "metadata": {},
   "source": [
    "&#x1F6A7;"
   ]
  },
  {
   "cell_type": "markdown",
   "id": "840b765a",
   "metadata": {},
   "source": [
    "***\n",
    "## END"
   ]
  },
  {
   "cell_type": "markdown",
   "id": "e0e42d51",
   "metadata": {},
   "source": [
    "< [Table of Contents](#top) | [Abstract](#abstract) | [Introduction](#introduction) | [Solution](#solution) | [Conclusion](#conclusion) | [References](#references) >\n",
    "<a id=\"references\"></a>\n",
    "***\n",
    "## References\n",
    "***\n",
    "&nbsp;&nbsp;&nbsp;&nbsp;&nbsp;&nbsp;&nbsp;&nbsp;&nbsp;[1] I. McLoughlin, \"Introduction to sklearn,\" GMIT, October 2018.\n",
    "\n",
    "&nbsp;&nbsp;&nbsp;&nbsp;&nbsp;&nbsp;&nbsp;&nbsp;&nbsp;[2] I. McLoughlin, \"Overview of scikit-learn,\" GMIT, November 2020.\n",
    "\n",
    "&nbsp;&nbsp;&nbsp;&nbsp;&nbsp;&nbsp;&nbsp;&nbsp;&nbsp;[3] I. McLoughlin, \"KMeans clustering,\" GMIT, November 2020.\n",
    "\n",
    "&nbsp;&nbsp;&nbsp;&nbsp;&nbsp;&nbsp;&nbsp;&nbsp;&nbsp;[4] I. McLoughlin, \"K-means - using your own dataset,\" GMIT, November 2020.\n",
    "\n",
    "&nbsp;&nbsp;&nbsp;&nbsp;&nbsp;&nbsp;&nbsp;&nbsp;&nbsp;[5] I. McLoughlin, \"Using k nearest neighbours in sklearn,\" GMIT, October 2018.\n",
    "\n",
    "&nbsp;&nbsp;&nbsp;&nbsp;&nbsp;&nbsp;&nbsp;&nbsp;&nbsp;[6] I. McLoughlin, \"Making predictions in sklearn,\" GMIT, October 2018.\n",
    "\n",
    "&nbsp;&nbsp;&nbsp;&nbsp;&nbsp;&nbsp;&nbsp;&nbsp;&nbsp;[7] B. McGinley, \"SciKit-Learn Overview,\" GMIT, November 2020.\n",
    "\n",
    "&nbsp;&nbsp;&nbsp;&nbsp;&nbsp;&nbsp;&nbsp;&nbsp;&nbsp;[8] I. McLoughlin, \"Loading inputs and outputs,\" GMIT, October 2018.\n",
    "\n",
    "&nbsp;&nbsp;&nbsp;&nbsp;&nbsp;&nbsp;&nbsp;&nbsp;&nbsp;[9] I. McLoughlin, \"Testing the classifier,\" GMIT, October 2018.\n",
    "\n",
    "&nbsp;&nbsp;&nbsp;&nbsp;&nbsp;&nbsp;&nbsp;[10] I. McLoughlin, \"Regression using scikit-learn,\" GMIT, November 2020.\n",
    "\n",
    "&nbsp;&nbsp;&nbsp;&nbsp;&nbsp;&nbsp;&nbsp;[11] C. Shah, \"A Hands-on Introduction to Data Science,\" Cambridge University Press, pages 24-27, November 2020.\n",
    "\n",
    "&nbsp;&nbsp;&nbsp;&nbsp;&nbsp;&nbsp;&nbsp;[12] C. Shah, \"A Hands-on Introduction to Data Science,\" Cambridge University Press, pages 82, November 2020."
   ]
  },
  {
   "cell_type": "markdown",
   "id": "b33c372a",
   "metadata": {},
   "source": [
    "***\n",
    "## END"
   ]
  },
  {
   "cell_type": "markdown",
   "id": "e5961b4d",
   "metadata": {},
   "source": [
    "< [Table of Contents](#top) | [Abstract](#abstract) | [Introduction](#introduction) | [Solution](#solution) | [Conclusion](#conclusion) | [References](#references) >\n",
    "<a id=\"appendix\"></a>\n",
    "***\n",
    "## Appendix\n",
    "***"
   ]
  },
  {
   "cell_type": "markdown",
   "id": "00d82a82",
   "metadata": {},
   "source": [
    "***\n",
    "## END"
   ]
  },
  {
   "cell_type": "markdown",
   "id": "899c1783",
   "metadata": {},
   "source": [
    "# END JUPYTER NOTEBOOK"
   ]
  }
 ],
 "metadata": {
  "kernelspec": {
   "display_name": "Python 3",
   "language": "python",
   "name": "python3"
  },
  "language_info": {
   "codemirror_mode": {
    "name": "ipython",
    "version": 3
   },
   "file_extension": ".py",
   "mimetype": "text/x-python",
   "name": "python",
   "nbconvert_exporter": "python",
   "pygments_lexer": "ipython3",
   "version": "3.8.8"
  }
 },
 "nbformat": 4,
 "nbformat_minor": 5
}
