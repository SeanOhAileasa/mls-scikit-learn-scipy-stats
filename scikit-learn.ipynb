{
 "cells": [
  {
   "cell_type": "code",
   "execution_count": null,
   "id": "76b6aaa9",
   "metadata": {},
   "outputs": [
    {
     "data": {
      "text/html": [
       "<script>Jupyter.notebook.kernel.restart()</script>"
      ]
     },
     "metadata": {},
     "output_type": "display_data"
    }
   ],
   "source": [
    "from IPython.core.display import display_html\n",
    "display_html(\"<script>Jupyter.notebook.kernel.restart()</script>\",raw=True)"
   ]
  },
  {
   "cell_type": "code",
   "execution_count": 1,
   "id": "19093beb",
   "metadata": {},
   "outputs": [
    {
     "data": {
      "text/html": [
       "<style>.container { width:100% !important; }</style>"
      ],
      "text/plain": [
       "<IPython.core.display.HTML object>"
      ]
     },
     "metadata": {},
     "output_type": "display_data"
    },
    {
     "data": {
      "text/html": [
       "<style>.container { width:100% !important; }</style>"
      ],
      "text/plain": [
       "<IPython.core.display.HTML object>"
      ]
     },
     "metadata": {},
     "output_type": "display_data"
    }
   ],
   "source": [
    "from sys import path; path.insert(1,\"../src\");\n",
    "import fubar; from importlib import reload; reload(fubar);"
   ]
  },
  {
   "cell_type": "markdown",
   "id": "616b0550",
   "metadata": {},
   "source": [
    "***\n",
    "< [GMIT Data Analytics](https://web.archive.org/web/20201029063153/https://www.gmit.ie/computer-science-and-applied-physics/higher-diploma-science-computing-data-analytics-ict) | [Home](https://github.com/SeanOhAileasa) | [README](https://github.com/SeanOhAileasa/mls-scikit-learn-scipy-stats/blob/main/README.md) >\n",
    "\n",
    "[![GMIT](https://github.com/SeanOhAileasa/SeanOhAileasa/blob/master/rc/gmit.png?raw=true)](https://web.archive.org/web/20201029063153/https://www.gmit.ie/computer-science-and-applied-physics/higher-diploma-science-computing-data-analytics-ict)\n",
    "\n",
    "## Machine Learning & Statistics, Winter 21/22\n",
    "### Due: last commit on or before December 19th, 2021\n",
    "### Topic: [``scikit-learn``](https://nbviewer.jupyter.org/github/SeanOhAileasa/mls-scikit-learn-scipy-stats/blob/main/scikit-learn.ipynb)\n",
    "***"
   ]
  },
  {
   "cell_type": "markdown",
   "id": "4bcc9989",
   "metadata": {},
   "source": [
    "Winter 21/22 assessment for the ``Machine Learning & Statistics`` module (5 Credits) of the ``Higher Diploma in Science in Computing (Data Analytics) (H.Dip)`` programme (75 Credits) at **Galway-Mayo Institute of Technology (GMIT)**.\n",
    "\n",
    "***\n",
    "## Instructions\n",
    "***\n",
    "\n",
    "- Overview of the ``scikit-learn`` Python library.\n",
    "\n",
    "\n",
    "- Demonstrations of three interesting ``scikit-learn`` algorithms.\n",
    "\n",
    "\n",
    "- Using plots and other visualisations to enhance the notebook for viewers."
   ]
  },
  {
   "cell_type": "markdown",
   "id": "bc989e6f",
   "metadata": {},
   "source": [
    "***\n",
    "## END"
   ]
  },
  {
   "cell_type": "markdown",
   "id": "e1449819",
   "metadata": {},
   "source": [
    "<a id=\"top\"></a>\n",
    "***\n",
    "## Table of Contents\n",
    "***\n",
    "\n",
    "## [Project Management](#ppm)\n",
    "\n",
    "* [Outstanding](#outstanding) <br/><br/>\n",
    "    * [DAY:20 - Due Date](#outstandingday20) <br/><br/>\n",
    "* [Commit](#ppmCommit) <br/><br/>\n",
    "    * [History](#ppmCommitHistory) <br/><br/>\n",
    "* [Planning](#ppmPlanning) <br/><br/>\n",
    "    * [Research](#ppmGettingStartedResearch) <br/><br/>\n",
    "    * [Development](#ppmGettingStartedDevelopment) <br/><br/>\n",
    "    * [Consistency](#ppmGettingStartedConsistency) <br/><br/>\n",
    "    * [Documentation](#ppmGettingStartedDocumentation) <br/><br/>\n",
    "* [Considerations](#considerations) <br/><br/>\n",
    "    * [Coding Conventions](#codingConventions)\n",
    "\n",
    "## [Abstract](#abstract)\n",
    "\n",
    "## [Introduction](#introduction)\n",
    "\n",
    "* [Classification](#classification) <br/><br/>\n",
    "    * [``sklearn.neighbors.KNeighborsClassifier``](#clusteringsklearnneighborsKNeighborsClassifier) <br/><br/>\n",
    "* [Regression](#regression) <br/><br/>\n",
    "* [Clustering](#clustering) <br/><br/>\n",
    "    * [``sklearn.cluster.KMeans``](#clusteringsklearnclusterkmeans) <br/><br/>\n",
    "        * [Visualisation](#clusteringVisualisation) <br/><br/>\n",
    "            * [Prediction](#clusteringVisualisationAddNewValues) <br/><br/>\n",
    "            * [Cluster Centre](#clusteringVisualisationClusterCentre) <br/><br/>\n",
    "    * [Simulation](#clusteringSimulation) <br/><br/>\n",
    "        * [``sklearn.cluster.KMeans``](#clusteringSimulationsklearnclusterkmeans) <br/><br/>\n",
    "            * [Visualisation](#clusteringSimulationVisualisation) <br/><br/>\n",
    "                * [Prediction](#clusteringSimulationVisualisationAddNewValues) <br/><br/>\n",
    "                * [Cluster Centre](#clusteringSimulationVisualisationClusterCentre) <br/><br/>        \n",
    "        \n",
    "## [Solution](#solution)\n",
    "\n",
    "- &#x1F6A7;\n",
    "\n",
    "## [Conclusion](#conclusion)\n",
    "\n",
    "- &#x1F6A7;\n",
    "\n",
    "## [Appendix](#appendix)\n",
    "\n",
    "- &#x1F6A7;"
   ]
  },
  {
   "cell_type": "markdown",
   "id": "3bc2600c",
   "metadata": {},
   "source": [
    "< [Table of Contents](#top) | [Abstract](#abstract) | [Introduction](#introduction) | [Solution](#solution) | [Conclusion](#conclusion) | [References](#references) >\n",
    "<a id=\"ppm\"></a>\n",
    "***\n",
    "## Project Management\n",
    "***"
   ]
  },
  {
   "cell_type": "markdown",
   "id": "5faa3198",
   "metadata": {},
   "source": [
    "< [Table of Contents](#top) | [References](#references) >\n",
    "<a id=\"outstanding\"></a>\n",
    "***\n",
    "### Outstanding\n",
    "***"
   ]
  },
  {
   "cell_type": "markdown",
   "id": "714654a7",
   "metadata": {},
   "source": [
    "< [Table of Contents](#top) | [References](#references) >\n",
    "<a id=\"outstandingday20\"></a>\n",
    "***\n",
    "###### DAY:20 - Due Date\n",
    "***"
   ]
  },
  {
   "cell_type": "markdown",
   "id": "9ba51900",
   "metadata": {},
   "source": [
    "- introductory blurbs about scikit-learn and each of the scikit-learn algorithms of interest require more depth and explanation [[commit](https://github.com/SeanOhAileasa/mls-scikit-learn-scipy-stats/tree/023bf6b96aca8dfb2ea833cba6fc6101b8f334ad)]"
   ]
  },
  {
   "cell_type": "markdown",
   "id": "96251f1a",
   "metadata": {},
   "source": [
    "< [Table of Contents](#top) | [References](#references) >\n",
    "<a id=\"ppmCommit\"></a>\n",
    "***\n",
    "### Commit\n",
    "***"
   ]
  },
  {
   "cell_type": "code",
   "execution_count": 1,
   "id": "888950d5",
   "metadata": {},
   "outputs": [
    {
     "name": "stdout",
     "output_type": "stream",
     "text": [
      "08 Oct 2021 19:55:06\n"
     ]
    }
   ],
   "source": [
    "%%script bash\n",
    "date"
   ]
  },
  {
   "cell_type": "markdown",
   "id": "88e84a9b",
   "metadata": {},
   "source": [
    "```python\n",
    "\"DAY:71 - [Notebook: scikit-learn]: (Last Commit) The sklearn.cluster.KMeans section requires revision but in the meantime moving onto the classification algorithm sklearn.neighbors.KNeighborsClassifier. (Introduction) Hacking the example code from the sklearn.neighbors.KNeighborsClassifier documentation. Short blurb on the data structure representing the KNN algorithm whereby parameter n_neighbors selects the specified number of nearest neighbours. Training the classifier with X for which the y is known. Method fit tells the KNN data structure the actual data point or setup for KNN. The KNN algorithm can make predictions based on the trained KNN classifier. (Propose) Creating a classification simulation with plotting or use the iris dataset to further develop understand of the sklearn.neighbors.KNeighborsClassifier algorithm.”\n",
    "```"
   ]
  },
  {
   "cell_type": "code",
   "execution_count": 2,
   "id": "013ca567",
   "metadata": {},
   "outputs": [],
   "source": [
    "exit()"
   ]
  },
  {
   "cell_type": "markdown",
   "id": "a7ca0299",
   "metadata": {},
   "source": [
    "< [Table of Contents](#top) | [References](#references) >\n",
    "<a id=\"ppmCommitHistory\"></a>\n",
    "***\n",
    "###### History\n",
    "***"
   ]
  },
  {
   "cell_type": "code",
   "execution_count": 1,
   "id": "f39bcf39",
   "metadata": {},
   "outputs": [
    {
     "name": "stdout",
     "output_type": "stream",
     "text": [
      "commit a50ef7b2591f648d867efcd0117eb211cddc636e\n",
      "Author: SeanOhAileasa <seanohaileasa@protonmail.com>\n",
      "Date:   Thu Oct 7 20:17:02 2021 +0100\n",
      "\n",
      "    DAY:72 - [Notebook: scikit-learn]: (Last Commit) Implemented simulation without analysis. Amendments include: i. tidy table of contents and ii. ensuring function parameter included when appropriate. (Introduction) Following the steps from the reengineered example code from the sklearn.cluster.KMeans documentation introduced sklearn.cluster (without commentary). Plotting the simulation dataset making both clusters identifiable then using new values to make a prediction. Plotting the prediction and the centre KMeans determines are the centre points based on where the points sit on the plot. An additional collection of evenly spaced values is introduced and plot. These dummy points (for classification) are used to highlight the decision boundary from where KMeans determines associated cluster via each cluster centre. (Propose) Thus far touched on the scikit-learn clustering algorithm and requires revision. For the moment going to proceed onto the scikit-learn classification algorithm following the same process as the clustering demonstration. First step is to reengineered example code from the sklearn.neighbors.KNeighborsClassifier documentation.\n",
      "\n",
      "commit b2894f773cff3baf3723936213f52cbbe7b2841d\n",
      "Author: SeanOhAileasa <seanohaileasa@protonmail.com>\n",
      "Date:   Wed Oct 6 21:17:11 2021 +0100\n",
      "\n",
      "    DAY:73 - [Notebook: scikit-learn]: (Last Commit) The reengineered example code from the sklearn.cluster.KMeans documentation requires no further examination. (Introduction) To support the reengineered example code from the sklearn.cluster.KMeans documentation now proceeding with simulating a (generated) dataset. Picked two central points from which two clusters of randomly generated values will be built upon. The process involved: i. stacking the collections on top of each other; ii. merging the two collections and iii. shuffling the values of the final collection so that the groups are not identifiable. Created a plot of the generated dataset without any analysis. (Propose) Thus far each commit in both notebooks is probably representing a number of individual units of work (commits). Propose breaking down units of work given commit history will get unwieldy. Next step will involve using the sklearn.cluster.KMeans on the simulated dataset (similar to the sklearn.cluster.KMeans reengineered documentation code completed prior).\n",
      "\n",
      "commit 6cbed5822725fd9ea2002eba39d1b5d9a5419334\n",
      "Author: SeanOhAileasa <seanohaileasa@protonmail.com>\n",
      "Date:   Tue Oct 5 19:56:46 2021 +0100\n",
      "\n",
      "    DAY:74 - [Notebook: scipy-stats]: (Last Commit) Introductory blurb about the t-test may requires less depth and explanation especially referencing machine learning. Chop to a more concise description - revert [DAY:20,0). (Introduction) Demonstrating the t-test by simulating two collections (random numbers) built upon a specified mean and spread (standard deviation). Creating a data structure (DataFrame) from the generated collections and separating both collections into category. Visualisation of the data structure via categorical plot (seaborn) clearly shows both collections differ. Using two methods (i. scipy.stats and; ii. statsmodels.stats.weightstats) performing the actual t-test (determine the probability that the distribution from which the two generated collections had the same mean). The simulated (generated) collections demonstrate a probability of approximately zero or no chance both collections had an underlying distribution in which both had the same mean value because the simulation was setup like this. Running the statistical tests provide evidence that its reproducibly true. Even when both collections have been setup with the same mean value and if the probability is higher than the p-value cut-off of 5% then the statistical test does not provide any evidence the two collections are not centred around same point.\n",
      "\n",
      "commit bd6a1159a5f1d84326bbe91efc5d5be3a22b9bb1\n",
      "Author: SeanOhAileasa <seanohaileasa@protonmail.com>\n",
      "Date:   Mon Oct 4 21:09:13 2021 +0100\n",
      "\n",
      "    DAY:75 - [Notebook: scipy-stats]: (Last Commit) Introductory blurb about the analysis of variance (ANOVA) requires more depth and explanation - revert [DAY:20,0). (Introduction) Taking a step backwards to introduce the t-test and build upon. Introductory blurb about the old-style statistical test called the t-test provides a grounding in the ideas around machine learning. (Propose) Generating two collections of random numbers and creating a data structure built from both then visualising to determine if both collections differ in general enough to justify saying one collection is different to the other collection.\n",
      "\n",
      "commit cd88af3e23ea5b6c246da885d323f2d4de6ac63d\n",
      "Author: SeanOhAileasa <seanohaileasa@protonmail.com>\n",
      "Date:   Sat Oct 2 21:08:12 2021 +0100\n",
      "\n",
      "    DAY:77 - [Notebook: scikit-learn]: (Last Commit) Reengineered example code from the sklearn.cluster.KMeans documentation to be supported with simulated data before moving onto a real-world implementation (re. Solution). (Introduction) Using matplotlib.pyplot plotting documentation example dataset (converting into an appropriate format beforehand). Once the x and y values are separated the plot appears to support the fact there exists two distinct groups of points. The KMeans algorithm determines if two distinct groups exist (allows for a human to be able to determine). Visually changed the colour of the second cluster to distinct both groups and added two new points to test KMeans. Using the KMeans prediction the new points are coloured according to associated (predicted) cluster. Plotting what the KMeans algorithm took as the centre of each clusters gives an indication how the algorithm came to its prediction. (Propose) Creating a clustering simulation with plotting to further develop understand of the sklearn.cluster.KMeans algorithm.\n",
      "\n",
      "commit d321c05f8ca8b5ac863badd05cd6d18c4b2cf577\n",
      "Author: SeanOhAileasa <seanohaileasa@protonmail.com>\n",
      "Date:   Fri Oct 1 20:35:07 2021 +0100\n",
      "\n",
      "    DAY:78 - [Notebook: scikit-learn]: (Last Commit) Introductory blurbs about scikit-learn and each of the scikit-learn algorithms of interest require more depth and explanation - revert [DAY:20,0). Commit proposes researching classification. This was a typo and should be clustering. (Introduction) Hacking the example code from the sklearn.cluster.KMeans documentation. Short blurb on the parameters of object KMeans (i. n_clusters and ii. random_state) and method fit which computes the k-means clustering. Two clusters specified and the attribute labels_ confirms this. Making a prediction using method predict passing two new points predicts associated cluster. Attribute cluster_centers returns what the KMeans algorithm took as the centre point of each cluster. (Propose) Plotting the dataset X separating the two clusters.\n",
      "\n",
      "commit 60956a92a82d7c3be0b4000db1fe1586cca94034\n",
      "Author: SeanOhAileasa <seanohaileasa@protonmail.com>\n",
      "Date:   Thu Sep 30 21:10:53 2021 +0100\n",
      "\n",
      "    DAY:79 - [Notebook: scipy-stats]: (Last Commit) i. Blank Jupiter notebook created and; ii. submitted GitHub repository URL to GMIT. (Abstract) Brief introductory blurb about the analysis of variance (ANOVA) and its application beyond comparing just two populations (t-test). (Propose) Researching t-tests and especially F-Ratios (central part of ANOVA) before proceeding.\n",
      "\n",
      "commit 023bf6b96aca8dfb2ea833cba6fc6101b8f334ad\n",
      "Author: SeanOhAileasa <seanohaileasa@protonmail.com>\n",
      "Date:   Wed Sep 29 19:44:12 2021 +0100\n",
      "\n",
      "    DAY:80 - [Notebook: scikit-learn]: (Last Commit) i. Blank Jupiter notebook created and; ii. submitted GitHub repository URL to GMIT. (Abstract) Introductory blurb about scikit-learn. (Introduction) Short blurb on each scikit-learn algorithms of interest: i. classification; ii. regression and iii. clustering. Classification thought of in terms of labelling data (e.g., images of hand drawn digits). Regression thought of in terms of fitting a line to a set of points (e.g., all of science). Clustering thought of in terms of grouping like items together (e.g., iris dataset). (Propose) Researching classification by simulating a collection of data and introducing sklearn.cluster.\n",
      "\n",
      "commit 39127b924e9bd70b79bacd7c3abb363390364bb6\n",
      "Author: SeanOhAileasa <seanohaileasa@protonmail.com>\n",
      "Date:   Mon Sep 27 15:42:14 2021 +0100\n",
      "\n",
      "    add repository ./mls-scikit-learn-scipy-stats\n"
     ]
    }
   ],
   "source": [
    "%%script bash\n",
    "git log"
   ]
  },
  {
   "cell_type": "code",
   "execution_count": 2,
   "id": "f9992b8f",
   "metadata": {},
   "outputs": [],
   "source": [
    "exit()"
   ]
  },
  {
   "cell_type": "markdown",
   "id": "37bcb131",
   "metadata": {},
   "source": [
    "< [Table of Contents](#top) | [References](#references) >\n",
    "<a id=\"ppmPlanning\"></a>\n",
    "***\n",
    "## Planning\n",
    "***"
   ]
  },
  {
   "cell_type": "markdown",
   "id": "c593d75f",
   "metadata": {},
   "source": [
    "- Keeping in mind:\n",
    "\n",
    "i) GMIT assessment submission marking scheme; and \n",
    "\n",
    "ii) impression given to someone who is looking at this repository, endeavour to provide direct evidence of each of the items listed in each category where applicable (``Research`` - ``Development`` - ``Consistency`` - ``Documentation``)."
   ]
  },
  {
   "cell_type": "markdown",
   "id": "7b4c4737",
   "metadata": {},
   "source": [
    "< [Table of Contents](#top) | [References](#references) >\n",
    "<a id=\"ppmGettingStartedResearch\"></a>\n",
    "***\n",
    "###### Research\n",
    "***"
   ]
  },
  {
   "cell_type": "markdown",
   "id": "36c2b212",
   "metadata": {},
   "source": [
    "- GMIT: **\"Evidence of research performed on topic; submission based on referenced literature, particularly academic literature; evidence of understanding of the documentation for any software or libraries used.\"**"
   ]
  },
  {
   "cell_type": "markdown",
   "id": "23709627",
   "metadata": {},
   "source": [
    "- Investigation of packages used as demonstrated by references, background information, and approach: References will be in the format:\n",
    "\n",
    "```\n",
    "[referenceNumber] authorNames, referenceTitle, locationWebsiteBookVideo, dateMonthYear.\n",
    "```"
   ]
  },
  {
   "cell_type": "markdown",
   "id": "31e3a17e",
   "metadata": {},
   "source": [
    "- Demonstrating work complete with appropriate references and not just for the problem but for the level of understanding of the problem."
   ]
  },
  {
   "cell_type": "markdown",
   "id": "004e3e39",
   "metadata": {},
   "source": [
    "- Code commentary will include details of package, module, object (if applicable) to demonstrate understanding of software documentation and libraries used.\n",
    "\n",
    "```python\n",
    "# b_T_hird_P_arty-imports\n",
    "from matplotlib.pyplot import plot\n",
    "```\n",
    "```python\n",
    "# package matplotlib - module pyplot\n",
    "plot(x,y)\n",
    "```"
   ]
  },
  {
   "cell_type": "markdown",
   "id": "5de26e21",
   "metadata": {},
   "source": [
    "< [Table of Contents](#top) | [References](#references) >\n",
    "<a id=\"ppmGettingStartedDevelopment\"></a>\n",
    "***\n",
    "###### Development\n",
    "***"
   ]
  },
  {
   "cell_type": "markdown",
   "id": "28252c4c",
   "metadata": {},
   "source": [
    "- GMIT: **\"Environment can be set up as described; code works without tweaking and as described; code is efficient, clean, and clear; evidence of consideration of standards and conventions appropriate to code of this kind.\"**"
   ]
  },
  {
   "cell_type": "markdown",
   "id": "5db520cd",
   "metadata": {},
   "source": [
    "- Clear, well-written, and efficient code with appropriate comments - using Jupyter Notebook markdown cells to summarise concise workings. "
   ]
  },
  {
   "cell_type": "markdown",
   "id": "c701d1e2",
   "metadata": {},
   "source": [
    "- As much as possible use the ``Style Guide for Python Code`` [Guido van Rossum](https://web.archive.org/web/20201029095211/https://www.python.org/dev/peps/pep-0008/). Refer user-defined [Coding Conventions](#codingConventions)."
   ]
  },
  {
   "cell_type": "markdown",
   "id": "b12aa450",
   "metadata": {},
   "source": [
    "< [Table of Contents](#top) | [References](#references) >\n",
    "<a id=\"ppmGettingStartedConsistency\"></a>\n",
    "***\n",
    "###### Consistency\n",
    "***"
   ]
  },
  {
   "cell_type": "markdown",
   "id": "7a20dd24",
   "metadata": {},
   "source": [
    "- GMIT: **\"Evidence of planning and project management; pragmatic attitude to work as evidenced by well-considered commit history; commits are of a reasonable size; consideration of how commit history will be perceived by others.\"**"
   ]
  },
  {
   "cell_type": "markdown",
   "id": "6a58e7e4",
   "metadata": {},
   "source": [
    "- Git commit blurb to include number of days outstanding before deadline (if applicable)."
   ]
  },
  {
   "cell_type": "markdown",
   "id": "25051d6f",
   "metadata": {},
   "source": [
    "- Commits to highlight changes made since the last commit so that reviews of the git history can demonstrate compartmentation of work into the different sections."
   ]
  },
  {
   "cell_type": "markdown",
   "id": "f5f36617",
   "metadata": {},
   "source": [
    "< [Table of Contents](#top) | [References](#references) >\n",
    "<a id=\"ppmGettingStartedDocumentation\"></a>\n",
    "***\n",
    "###### Documentation\n",
    "***"
   ]
  },
  {
   "cell_type": "markdown",
   "id": "85ee02aa",
   "metadata": {},
   "source": [
    "- GMIT: **\"Clear documentation of how to create an environment in which any code will run, how to prepare the code for running, how to run the code including setting any options or flags, and what to expect upon running the code. Concise descriptions of code in comments and README.\"**"
   ]
  },
  {
   "cell_type": "markdown",
   "id": "d17f8fb9",
   "metadata": {},
   "source": [
    "- Include descriptions/plots of theoretical and practical aspects of the problem(s) - comments to be very concise for ease of readability."
   ]
  },
  {
   "cell_type": "markdown",
   "id": "4f643e28",
   "metadata": {},
   "source": [
    "- Descriptions of code requiring further explanation will be presented in Jupyter Notebook markdown cells prior to code execution."
   ]
  },
  {
   "cell_type": "markdown",
   "id": "e44451f1",
   "metadata": {},
   "source": [
    "< [Table of Contents](#top) | [References](#references) >\n",
    "<a id=\"considerations\"></a>\n",
    "***\n",
    "### Considerations\n",
    "***"
   ]
  },
  {
   "cell_type": "markdown",
   "id": "27122872",
   "metadata": {},
   "source": [
    "- Using the four listed categories (``Research`` - ``Development`` - ``Consistency`` - ``Documentation``) in an attempt to not only focus on programming but also look at the information (data) and manipulating the data and coming up with techniques."
   ]
  },
  {
   "cell_type": "markdown",
   "id": "ebba38e0",
   "metadata": {},
   "source": [
    "- Sometimes the most complex algorithms are counter-intuitive but do work and have been proven to work. Sometimes only a few lines of code is required to complete a topic/section - endeavour to explain the development of the algorithm and the reasoning behind why/how the code works."
   ]
  },
  {
   "cell_type": "markdown",
   "id": "f67da7d7",
   "metadata": {},
   "source": [
    "- Jupyter Notebook text formatting/presentation to be tidied up closer to the deadline (if applicable)."
   ]
  },
  {
   "cell_type": "markdown",
   "id": "6232ab89",
   "metadata": {},
   "source": [
    "< [Table of Contents](#top) | [References](#references) >\n",
    "<a id=\"codingConventions\"></a>\n",
    "***\n",
    "###### Coding Conventions\n",
    "***"
   ]
  },
  {
   "cell_type": "markdown",
   "id": "8b7a6187",
   "metadata": {},
   "source": [
    "- user-defined function / name (variable) - start with letters as follows\n",
    "\n",
    "| Example       | Signify \t\t          |\n",
    "| :------------ |:------------------------|\n",
    "|\tf        \t|\tuser-defined function |\n",
    "|\tn        \t|\tname - no variables   |"
   ]
  },
  {
   "cell_type": "markdown",
   "id": "f232e36d",
   "metadata": {},
   "source": [
    "***\n",
    "## END"
   ]
  },
  {
   "cell_type": "markdown",
   "id": "0c88ab4a",
   "metadata": {},
   "source": [
    "< [Table of Contents](#top) | [Introduction](#introduction) | [Solution](#solution) | [Conclusion](#conclusion) | [References](#references) >\n",
    "<a id=\"abstract\"></a>\n",
    "***\n",
    "## Abstract\n",
    "***"
   ]
  },
  {
   "cell_type": "markdown",
   "id": "ac050a22",
   "metadata": {},
   "source": [
    "- ``scikit-learn`` is for machine learning in ``python`` [1]"
   ]
  },
  {
   "cell_type": "markdown",
   "id": "fffdb0c2",
   "metadata": {},
   "source": [
    "- for topical machine learning algorithms ``scikit-learn`` might not be the first port of call but at the same time even if using other packages typically would use the various helper methods in ``scikit-learn`` to clean up the dataset initially - can use for neural networks but this would typically be outsourced to a specific package such as ``tensorflow.keras`` [1]"
   ]
  },
  {
   "cell_type": "markdown",
   "id": "2430e544",
   "metadata": {},
   "source": [
    "- organised in six sections ``scikit-learn`` (spawned from ``scipy``) consists of built-in algorithms that are typically considered machine learning [2]"
   ]
  },
  {
   "cell_type": "markdown",
   "id": "3fa461fc",
   "metadata": {},
   "source": [
    "***\n",
    "## END"
   ]
  },
  {
   "cell_type": "markdown",
   "id": "d319e57d",
   "metadata": {},
   "source": [
    "< [Table of Contents](#top) | [Abstract](#abstract) | [Solution](#solution) | [Conclusion](#conclusion) | [References](#references) >\n",
    "<a id=\"introduction\"></a>\n",
    "***\n",
    "## Introduction\n",
    "***"
   ]
  },
  {
   "cell_type": "markdown",
   "id": "3d97a37f",
   "metadata": {},
   "source": [
    "- demonstrations of three interesting ``scikit-learn`` algorithms"
   ]
  },
  {
   "cell_type": "markdown",
   "id": "3a3407cb",
   "metadata": {},
   "source": [
    "< [Table of Contents](#top) | [References](#references) >\n",
    "<a id=\"classification\"></a>\n",
    "***\n",
    "### Classification\n",
    "***"
   ]
  },
  {
   "cell_type": "markdown",
   "id": "37098d3b",
   "metadata": {},
   "source": [
    "- typically thought of in terms of labelling data [2]"
   ]
  },
  {
   "cell_type": "markdown",
   "id": "868f027b",
   "metadata": {},
   "source": [
    "- could have a set of images containing single digits hand drawn with zero in one image and one in another - the labels put on these images might be the digit $0$ and the digit $1$ etc [2]"
   ]
  },
  {
   "cell_type": "markdown",
   "id": "37d8d979",
   "metadata": {},
   "source": [
    "- shown a picture with a digit drawn a ``classification`` algorithm is used to determine the digit it represents [2]"
   ]
  },
  {
   "cell_type": "markdown",
   "id": "103846b4",
   "metadata": {},
   "source": [
    "![classification](https://github.com/SeanOhAileasa/SeanOhAileasa/blob/master/rc/mls/scikit/classification.png?raw=true)\n",
    "\n",
    "***(Image) scikit-learn, \"Machine Learning in Python,\" [scikit-learn.org](https://scikit-learn.org/stable), n.d..***"
   ]
  },
  {
   "cell_type": "markdown",
   "id": "45b016de",
   "metadata": {},
   "source": [
    "< [Table of Contents](#top) | [References](#references) >\n",
    "<a id=\"clusteringsklearnneighborsKNeighborsClassifier\"></a>\n",
    "***\n",
    "###### ``sklearn.neighbors.KNeighborsClassifier ``\n",
    "***"
   ]
  },
  {
   "cell_type": "markdown",
   "id": "75e36c19",
   "metadata": {},
   "source": [
    "- analysing example code from ``sklearn.neighbors.KNeighborsClassifier`` documentation [5]"
   ]
  },
  {
   "cell_type": "code",
   "execution_count": 1,
   "id": "5f676d86",
   "metadata": {},
   "outputs": [],
   "source": [
    "import sklearn.neighbors as nei"
   ]
  },
  {
   "cell_type": "code",
   "execution_count": 2,
   "id": "d0b714aa",
   "metadata": {
    "scrolled": false
   },
   "outputs": [
    {
     "name": "stdout",
     "output_type": "stream",
     "text": [
      "    >>> X = [[0], [1], [2], [3]]\n",
      "    >>> y = [0, 0, 1, 1]\n",
      "    >>> from sklearn.neighbors import KNeighborsClassifier\n",
      "    >>> neigh = KNeighborsClassifier(n_neighbors=3)\n",
      "    >>> neigh.fit(X, y)\n",
      "    KNeighborsClassifier(...)\n",
      "    >>> print(neigh.predict([[1.1]]))\n",
      "    [0]\n",
      "    >>> print(neigh.predict_proba([[0.9]]))\n",
      "    [[0.66666667 0.33333333]]\n"
     ]
    }
   ],
   "source": [
    "print(\"\\n\".join(nei.KNeighborsClassifier.__doc__.split(\"\\n\")[88:98]))"
   ]
  },
  {
   "cell_type": "code",
   "execution_count": 3,
   "id": "84e97c67",
   "metadata": {},
   "outputs": [],
   "source": [
    "X=[[0],[1],[2],[3]]"
   ]
  },
  {
   "cell_type": "code",
   "execution_count": 4,
   "id": "b78c3b2b",
   "metadata": {},
   "outputs": [],
   "source": [
    "y=[0,0,1,1]"
   ]
  },
  {
   "cell_type": "markdown",
   "id": "a9727644",
   "metadata": {},
   "source": [
    "- using the ``k-nearest neighbors`` (hereafter referred as ``KNN``) algorithm in ``scikit-learn`` the class ``KNeighborsClassifier`` returns back an object represents an instance of the ``KNN`` setup [5]"
   ]
  },
  {
   "cell_type": "markdown",
   "id": "750c89ba",
   "metadata": {},
   "source": [
    "- ``nInsObjKNN`` (data structure) represents the ``KNN`` algorithm whereby parameter ``n_neighbors`` is set to 3 (selects the 3 nearest neighbors) [5]"
   ]
  },
  {
   "cell_type": "code",
   "execution_count": 5,
   "id": "ca157ba4",
   "metadata": {},
   "outputs": [],
   "source": [
    "nInsObjKNN=nei.KNeighborsClassifier(n_neighbors=3) # n_neighbors to use"
   ]
  },
  {
   "cell_type": "code",
   "execution_count": 6,
   "id": "10a36f5c",
   "metadata": {},
   "outputs": [
    {
     "data": {
      "text/plain": [
       "sklearn.neighbors._classification.KNeighborsClassifier"
      ]
     },
     "execution_count": 6,
     "metadata": {},
     "output_type": "execute_result"
    }
   ],
   "source": [
    "type(nInsObjKNN)"
   ]
  },
  {
   "cell_type": "markdown",
   "id": "18b790d9",
   "metadata": {},
   "source": [
    "- need to train the classifier [5]"
   ]
  },
  {
   "cell_type": "markdown",
   "id": "7a77b7ab",
   "metadata": {},
   "source": [
    "- giving the classifer the ``X`` for which the ``y`` is known [5]"
   ]
  },
  {
   "cell_type": "code",
   "execution_count": 7,
   "id": "a2bc4386",
   "metadata": {},
   "outputs": [
    {
     "data": {
      "text/plain": [
       "[[0], [1], [2], [3]]"
      ]
     },
     "execution_count": 7,
     "metadata": {},
     "output_type": "execute_result"
    }
   ],
   "source": [
    "X # fit nInsObjKNN training"
   ]
  },
  {
   "cell_type": "code",
   "execution_count": 8,
   "id": "047019e7",
   "metadata": {},
   "outputs": [
    {
     "data": {
      "text/plain": [
       "[0, 0, 1, 1]"
      ]
     },
     "execution_count": 8,
     "metadata": {},
     "output_type": "execute_result"
    }
   ],
   "source": [
    "y # fit nInsObjKNN targets"
   ]
  },
  {
   "cell_type": "markdown",
   "id": "f01001a7",
   "metadata": {},
   "source": [
    "- method ``fit`` tells the ``nInsObjKNN`` the actual data points (setup for ``KNN``) [5]"
   ]
  },
  {
   "cell_type": "code",
   "execution_count": 9,
   "id": "11b4b21b",
   "metadata": {},
   "outputs": [
    {
     "data": {
      "text/plain": [
       "KNeighborsClassifier(n_neighbors=3)"
      ]
     },
     "execution_count": 9,
     "metadata": {},
     "output_type": "execute_result"
    }
   ],
   "source": [
    "nInsObjKNN.fit(X=X,y=y) # # parameters X=training y=targets"
   ]
  },
  {
   "cell_type": "markdown",
   "id": "b0400f03",
   "metadata": {},
   "source": [
    "- ``nInsObjKNN`` is now changed (``X`` and ``y`` are fit to it) which is the actual training step (telling the ``KNN`` the actual data points want to generalise from) [5]"
   ]
  },
  {
   "cell_type": "markdown",
   "id": "ff4f6054",
   "metadata": {},
   "source": [
    "- the ``KNN`` algorithm has prepared itself to make predictions based on the trained ``KNN`` classifier (trained to have 3 neighbours with four ``X`` knowing the four ``y``) [6]"
   ]
  },
  {
   "cell_type": "markdown",
   "id": "ae595956",
   "metadata": {},
   "source": [
    "- predicts the class labels via ``nData`` [6]"
   ]
  },
  {
   "cell_type": "code",
   "execution_count": 10,
   "id": "ecc18867",
   "metadata": {},
   "outputs": [],
   "source": [
    "nData=[1.1]"
   ]
  },
  {
   "cell_type": "code",
   "execution_count": 11,
   "id": "4d1d20c6",
   "metadata": {},
   "outputs": [
    {
     "data": {
      "text/plain": [
       "array([0])"
      ]
     },
     "execution_count": 11,
     "metadata": {},
     "output_type": "execute_result"
    }
   ],
   "source": [
    "nInsObjKNN.predict(X=[nData]) # return y ndarray"
   ]
  },
  {
   "cell_type": "code",
   "execution_count": 12,
   "id": "bf10f869",
   "metadata": {},
   "outputs": [
    {
     "data": {
      "text/plain": [
       "[0, 0, 1, 1]"
      ]
     },
     "execution_count": 12,
     "metadata": {},
     "output_type": "execute_result"
    }
   ],
   "source": [
    "y # training is zero"
   ]
  },
  {
   "cell_type": "markdown",
   "id": "f7645a15",
   "metadata": {},
   "source": [
    "- method ``predict_proba`` returns the probability estimates for the test data ``X`` [6]"
   ]
  },
  {
   "cell_type": "code",
   "execution_count": 13,
   "id": "4ad229d1",
   "metadata": {},
   "outputs": [
    {
     "data": {
      "text/plain": [
       "array([[0.66666667, 0.33333333]])"
      ]
     },
     "execution_count": 13,
     "metadata": {},
     "output_type": "execute_result"
    }
   ],
   "source": [
    "nInsObjKNN.predict_proba(X=[[0.9]])"
   ]
  },
  {
   "cell_type": "code",
   "execution_count": 14,
   "id": "66a4bb2b",
   "metadata": {},
   "outputs": [],
   "source": [
    "exit()"
   ]
  },
  {
   "cell_type": "markdown",
   "id": "1823c8e2",
   "metadata": {},
   "source": [
    "< [Table of Contents](#top) | [References](#references) >\n",
    "<a id=\"regression\"></a>\n",
    "***\n",
    "### Regression\n",
    "***"
   ]
  },
  {
   "cell_type": "markdown",
   "id": "8726c688",
   "metadata": {},
   "source": [
    "- fitting a line to a set of points (maybe with a little bit of error) [2]"
   ]
  },
  {
   "cell_type": "markdown",
   "id": "07d66fa9",
   "metadata": {},
   "source": [
    "- two different lines used (red and green) to fit the black dots (might assume theres a little bit of error in some of the measurements) - essentially trying to reverse engineer a function [2]"
   ]
  },
  {
   "cell_type": "markdown",
   "id": "bb98fa79",
   "metadata": {},
   "source": [
    "- looking at a selection of inputs and their corresponding outputs from some process and trying to fit some sort of function to those points [2] "
   ]
  },
  {
   "cell_type": "markdown",
   "id": "16ed1dca",
   "metadata": {},
   "source": [
    "![regression](https://github.com/SeanOhAileasa/SeanOhAileasa/blob/master/rc/mls/scikit/regression.png?raw=true)\n",
    "\n",
    "***(Image) scikit-learn, \"Machine Learning in Python,\" [scikit-learn.org](https://scikit-learn.org/stable), n.d..***"
   ]
  },
  {
   "cell_type": "markdown",
   "id": "02a73c83",
   "metadata": {},
   "source": [
    "- essentially all of science can be looked at from this viewpoint [2]"
   ]
  },
  {
   "cell_type": "markdown",
   "id": "c7a5d750",
   "metadata": {},
   "source": [
    "- going back hundreds of years when looking at the planets/stars in the sky to determine a map of how all seem to move around with the conclusion that the earth is actually orbiting the sun (not the other way around) - looking up at the sky measuring where the planets/stars are then trying to come up with some sort of a model (a way of maybe predicting where different planets/stars would be in the sky at different times) is essentially performing ``regression`` [2]"
   ]
  },
  {
   "cell_type": "markdown",
   "id": "d75617de",
   "metadata": {},
   "source": [
    "- Newton and Kepler might have figured out that the orbits looked like an oval and by joining all the dots up predicted where the planets/stars are going to be - ``regression`` is a very old idea [2]"
   ]
  },
  {
   "cell_type": "markdown",
   "id": "b46be9f9",
   "metadata": {},
   "source": [
    "< [Table of Contents](#top) | [References](#references) >\n",
    "<a id=\"clustering\"></a>\n",
    "***\n",
    "### Clustering\n",
    "***"
   ]
  },
  {
   "cell_type": "markdown",
   "id": "e8810e77",
   "metadata": {},
   "source": [
    "- grouping like items together - ``clustering`` is closely related to ``classification`` [2]"
   ]
  },
  {
   "cell_type": "markdown",
   "id": "7ec93275",
   "metadata": {},
   "source": [
    "- the iris dataset has three different iris and to ``cluster`` is to group together the points that appear to be related [2]"
   ]
  },
  {
   "cell_type": "markdown",
   "id": "d02400f7",
   "metadata": {},
   "source": [
    "![clustering](https://github.com/SeanOhAileasa/SeanOhAileasa/blob/master/rc/mls/scikit/clustering.png?raw=true)\n",
    "\n",
    "***(Image) scikit-learn, \"Machine Learning in Python,\" [scikit-learn.org](https://scikit-learn.org/stable), n.d..***"
   ]
  },
  {
   "cell_type": "markdown",
   "id": "8364b8f0",
   "metadata": {},
   "source": [
    "< [Table of Contents](#top) | [References](#references) >\n",
    "<a id=\"clusteringsklearnclusterkmeans\"></a>\n",
    "***\n",
    "###### ``sklearn.cluster.KMeans``\n",
    "***"
   ]
  },
  {
   "cell_type": "markdown",
   "id": "dc3e9dad",
   "metadata": {},
   "source": [
    "- analysing example code from ``sklearn.cluster.KMeans`` documentation [3]"
   ]
  },
  {
   "cell_type": "code",
   "execution_count": 1,
   "id": "adf4e587",
   "metadata": {},
   "outputs": [],
   "source": [
    "import sklearn.cluster as skcl"
   ]
  },
  {
   "cell_type": "code",
   "execution_count": 2,
   "id": "7bf012ca",
   "metadata": {
    "scrolled": false
   },
   "outputs": [
    {
     "name": "stdout",
     "output_type": "stream",
     "text": [
      "    >>> from sklearn.cluster import KMeans\n",
      "    >>> import numpy as np\n",
      "    >>> X = np.array([[1, 2], [1, 4], [1, 0],\n",
      "    ...               [10, 2], [10, 4], [10, 0]])\n",
      "    >>> kmeans = KMeans(n_clusters=2, random_state=0).fit(X)\n",
      "    >>> kmeans.labels_\n",
      "    array([1, 1, 1, 0, 0, 0], dtype=int32)\n",
      "    >>> kmeans.predict([[0, 0], [12, 3]])\n",
      "    array([1, 0], dtype=int32)\n",
      "    >>> kmeans.cluster_centers_\n",
      "    array([[10.,  2.],\n",
      "           [ 1.,  2.]])\n"
     ]
    }
   ],
   "source": [
    "print(\"\\n\".join(skcl.KMeans.__doc__.split(\"\\n\")[146:158]))"
   ]
  },
  {
   "cell_type": "code",
   "execution_count": 3,
   "id": "6b04ebd6",
   "metadata": {},
   "outputs": [],
   "source": [
    "import numpy as np"
   ]
  },
  {
   "cell_type": "markdown",
   "id": "797611c0",
   "metadata": {},
   "source": [
    "- collection of data [13]"
   ]
  },
  {
   "cell_type": "code",
   "execution_count": 4,
   "id": "de4f794a",
   "metadata": {},
   "outputs": [],
   "source": [
    "X=np.array(object=[[1,2],[1,4],[1,0],[10,2],[10,4],[10,0]]) # numpy 6-d array"
   ]
  },
  {
   "cell_type": "code",
   "execution_count": 5,
   "id": "d230c482",
   "metadata": {},
   "outputs": [
    {
     "data": {
      "text/plain": [
       "array([[ 1,  2],\n",
       "       [ 1,  4],\n",
       "       [ 1,  0],\n",
       "       [10,  2],\n",
       "       [10,  4],\n",
       "       [10,  0]])"
      ]
     },
     "execution_count": 5,
     "metadata": {},
     "output_type": "execute_result"
    }
   ],
   "source": [
    "X"
   ]
  },
  {
   "cell_type": "code",
   "execution_count": 6,
   "id": "877e1834",
   "metadata": {},
   "outputs": [
    {
     "data": {
      "text/plain": [
       "numpy.ndarray"
      ]
     },
     "execution_count": 6,
     "metadata": {},
     "output_type": "execute_result"
    }
   ],
   "source": [
    "type(X)"
   ]
  },
  {
   "cell_type": "code",
   "execution_count": 7,
   "id": "6f37d865",
   "metadata": {},
   "outputs": [
    {
     "data": {
      "text/plain": [
       "(6, 2)"
      ]
     },
     "execution_count": 7,
     "metadata": {},
     "output_type": "execute_result"
    }
   ],
   "source": [
    "X.shape"
   ]
  },
  {
   "cell_type": "markdown",
   "id": "c76d74df",
   "metadata": {},
   "source": [
    "- such algorithms have a ``randon_state`` built-in (initialise some values internally within the algorithm using randon values - typically from a normal/uniform distribution randomly) [3]"
   ]
  },
  {
   "cell_type": "markdown",
   "id": "1cd13485",
   "metadata": {},
   "source": [
    "- ``randon_state=0`` so that everytime the algoritm is run will get the same randon values initially [3]"
   ]
  },
  {
   "cell_type": "code",
   "execution_count": 8,
   "id": "377864d2",
   "metadata": {},
   "outputs": [],
   "source": [
    "nInsObjKMeans=skcl.KMeans(n_clusters=2,random_state=0)"
   ]
  },
  {
   "cell_type": "markdown",
   "id": "201a2fbb",
   "metadata": {},
   "source": [
    "- method ``fit`` computes ``KMeans`` clustering (performs the ``KMeans`` algorithm on the training dataset) [3]"
   ]
  },
  {
   "cell_type": "code",
   "execution_count": 9,
   "id": "15010e9c",
   "metadata": {},
   "outputs": [
    {
     "data": {
      "text/plain": [
       "KMeans(n_clusters=2, random_state=0)"
      ]
     },
     "execution_count": 9,
     "metadata": {},
     "output_type": "execute_result"
    }
   ],
   "source": [
    "nInsObjKMeans.fit(X=X) # algorithm via X"
   ]
  },
  {
   "cell_type": "markdown",
   "id": "f8590740",
   "metadata": {},
   "source": [
    "- each ``X`` element is a point [13]"
   ]
  },
  {
   "cell_type": "code",
   "execution_count": 10,
   "id": "ca33ef65",
   "metadata": {},
   "outputs": [
    {
     "data": {
      "text/plain": [
       "array([[ 1,  2],\n",
       "       [ 1,  4],\n",
       "       [ 1,  0],\n",
       "       [10,  2],\n",
       "       [10,  4],\n",
       "       [10,  0]])"
      ]
     },
     "execution_count": 10,
     "metadata": {},
     "output_type": "execute_result"
    }
   ],
   "source": [
    "X"
   ]
  },
  {
   "cell_type": "code",
   "execution_count": 11,
   "id": "0774cefd",
   "metadata": {},
   "outputs": [
    {
     "data": {
      "text/plain": [
       "array([10,  0])"
      ]
     },
     "execution_count": 11,
     "metadata": {},
     "output_type": "execute_result"
    }
   ],
   "source": [
    "X[5] # last X element"
   ]
  },
  {
   "cell_type": "markdown",
   "id": "63c44c22",
   "metadata": {},
   "source": [
    "- two clusters already specified (the first three elements is a cluster and the second three elements is a cluster) [3] "
   ]
  },
  {
   "cell_type": "code",
   "execution_count": 12,
   "id": "6583ef34",
   "metadata": {},
   "outputs": [
    {
     "data": {
      "text/plain": [
       "array([1, 1, 1, 0, 0, 0])"
      ]
     },
     "execution_count": 12,
     "metadata": {},
     "output_type": "execute_result"
    }
   ],
   "source": [
    "nInsObjKMeans.labels_"
   ]
  },
  {
   "cell_type": "markdown",
   "id": "81d02eda",
   "metadata": {},
   "source": [
    "- method ``predict`` passed two new points (making a prediction) [3]"
   ]
  },
  {
   "cell_type": "markdown",
   "id": "c1465941",
   "metadata": {},
   "source": [
    "- ``[0,0]`` fits into the first class (``[1, 2],[1, 4],[1, 0]``) [3]"
   ]
  },
  {
   "cell_type": "markdown",
   "id": "c2a9b6a0",
   "metadata": {},
   "source": [
    "- ``[12,3]`` fits into the second class (``[10, 2],[10, 4],[10, 0]``) [3]"
   ]
  },
  {
   "cell_type": "code",
   "execution_count": 13,
   "id": "58557b9d",
   "metadata": {},
   "outputs": [],
   "source": [
    "nVals=np.array(object=[[0,0],[12,3]])"
   ]
  },
  {
   "cell_type": "code",
   "execution_count": 14,
   "id": "23d68b7e",
   "metadata": {},
   "outputs": [
    {
     "data": {
      "text/plain": [
       "numpy.ndarray"
      ]
     },
     "execution_count": 14,
     "metadata": {},
     "output_type": "execute_result"
    }
   ],
   "source": [
    "type(nVals)"
   ]
  },
  {
   "cell_type": "code",
   "execution_count": 15,
   "id": "128192a1",
   "metadata": {},
   "outputs": [],
   "source": [
    "nPredictions=nInsObjKMeans.predict(X=nVals)"
   ]
  },
  {
   "cell_type": "code",
   "execution_count": 16,
   "id": "47495600",
   "metadata": {},
   "outputs": [
    {
     "data": {
      "text/plain": [
       "array([1, 0])"
      ]
     },
     "execution_count": 16,
     "metadata": {},
     "output_type": "execute_result"
    }
   ],
   "source": [
    "nPredictions"
   ]
  },
  {
   "cell_type": "markdown",
   "id": "f0fe982d",
   "metadata": {},
   "source": [
    "- the point ``[10.,  2.]`` is what the ``KMeans`` algorithm took as the centre point of one of the clusters (other cluster has a centre point of ``[ 1.,  2.]`` [3]"
   ]
  },
  {
   "cell_type": "code",
   "execution_count": 17,
   "id": "e5eb61aa",
   "metadata": {},
   "outputs": [],
   "source": [
    "nCentre=nInsObjKMeans.cluster_centers_"
   ]
  },
  {
   "cell_type": "code",
   "execution_count": 18,
   "id": "76d24305",
   "metadata": {},
   "outputs": [
    {
     "data": {
      "text/plain": [
       "array([[10.,  2.],\n",
       "       [ 1.,  2.]])"
      ]
     },
     "execution_count": 18,
     "metadata": {},
     "output_type": "execute_result"
    }
   ],
   "source": [
    "nCentre"
   ]
  },
  {
   "cell_type": "markdown",
   "id": "49e33166",
   "metadata": {},
   "source": [
    "< [Table of Contents](#top) | [References](#references) >\n",
    "<a id=\"clusteringVisualisation\"></a>\n",
    "***\n",
    "###### Visualisation\n",
    "***"
   ]
  },
  {
   "cell_type": "code",
   "execution_count": 19,
   "id": "af4c837a",
   "metadata": {},
   "outputs": [],
   "source": [
    "import matplotlib.pyplot as plt"
   ]
  },
  {
   "cell_type": "markdown",
   "id": "429332ce",
   "metadata": {},
   "source": [
    "- plotting dataset ``X`` [3]"
   ]
  },
  {
   "cell_type": "markdown",
   "id": "5d48c2a5",
   "metadata": {},
   "source": [
    "- the ``numpy.ndarray`` is in the incorrect format for ``plt`` (need all $x$ and $y$ values in separate lists) [3]"
   ]
  },
  {
   "cell_type": "code",
   "execution_count": 20,
   "id": "16200dff",
   "metadata": {},
   "outputs": [
    {
     "data": {
      "text/plain": [
       "array([[ 1,  2],\n",
       "       [ 1,  4],\n",
       "       [ 1,  0],\n",
       "       [10,  2],\n",
       "       [10,  4],\n",
       "       [10,  0]])"
      ]
     },
     "execution_count": 20,
     "metadata": {},
     "output_type": "execute_result"
    }
   ],
   "source": [
    "X"
   ]
  },
  {
   "cell_type": "code",
   "execution_count": 21,
   "id": "c3aea984",
   "metadata": {},
   "outputs": [
    {
     "data": {
      "text/plain": [
       "numpy.ndarray"
      ]
     },
     "execution_count": 21,
     "metadata": {},
     "output_type": "execute_result"
    }
   ],
   "source": [
    "type(X) # incorrect format pyplot"
   ]
  },
  {
   "cell_type": "markdown",
   "id": "596f427e",
   "metadata": {},
   "source": [
    "- pull initial values representing $x$ (same for $y$) [3]"
   ]
  },
  {
   "cell_type": "markdown",
   "id": "f352ce11",
   "metadata": {},
   "source": [
    "- ``:`` represents the first dimension (get everything) and ``,`` represents the second dimension (return the first element via $0$) [3]"
   ]
  },
  {
   "cell_type": "code",
   "execution_count": 22,
   "id": "ad192734",
   "metadata": {},
   "outputs": [],
   "source": [
    "xVals=X[:,0]"
   ]
  },
  {
   "cell_type": "code",
   "execution_count": 23,
   "id": "e03947aa",
   "metadata": {},
   "outputs": [
    {
     "data": {
      "text/plain": [
       "array([ 1,  1,  1, 10, 10, 10])"
      ]
     },
     "execution_count": 23,
     "metadata": {},
     "output_type": "execute_result"
    }
   ],
   "source": [
    "xVals"
   ]
  },
  {
   "cell_type": "code",
   "execution_count": 24,
   "id": "9b98992f",
   "metadata": {},
   "outputs": [],
   "source": [
    "yVals=X[:,1]"
   ]
  },
  {
   "cell_type": "code",
   "execution_count": 25,
   "id": "9a09b4f9",
   "metadata": {},
   "outputs": [
    {
     "data": {
      "text/plain": [
       "array([2, 4, 0, 2, 4, 0])"
      ]
     },
     "execution_count": 25,
     "metadata": {},
     "output_type": "execute_result"
    }
   ],
   "source": [
    "yVals # second internal dimension"
   ]
  },
  {
   "cell_type": "code",
   "execution_count": 26,
   "id": "14692db7",
   "metadata": {},
   "outputs": [],
   "source": [
    "plt.style.use(style=\"ggplot\") # equivalent R style"
   ]
  },
  {
   "cell_type": "code",
   "execution_count": 27,
   "id": "64e27bf4",
   "metadata": {},
   "outputs": [],
   "source": [
    "plt.rcParams[\"figure.figsize\"]=12.8,7.2 # instance of matplotlib.RcParams"
   ]
  },
  {
   "cell_type": "markdown",
   "id": "a82a1293",
   "metadata": {},
   "source": [
    "- the plot show the two separate clusters (two distinct groups of points) [3]"
   ]
  },
  {
   "cell_type": "code",
   "execution_count": 28,
   "id": "8665465d",
   "metadata": {},
   "outputs": [
    {
     "data": {
      "image/png": "[encoded data removed]",
      "text/plain": [
       "<Figure size 921.6x518.4 with 1 Axes>"
      ]
     },
     "metadata": {},
     "output_type": "display_data"
    }
   ],
   "source": [
    "fig,ax=plt.subplots()\n",
    "ax.plot(xVals,yVals,\"x\")\n",
    "ax.set_xlim([-2,14])\n",
    "ax.set_ylim([-2,6]);"
   ]
  },
  {
   "cell_type": "markdown",
   "id": "9abf6659",
   "metadata": {},
   "source": [
    "- the ``KMeans`` algorithm determines (via how they sit on the plot) if two distinct groups exist [3]"
   ]
  },
  {
   "cell_type": "markdown",
   "id": "06595a1f",
   "metadata": {},
   "source": [
    "- try to separate out for a human to be able to determine also [3]"
   ]
  },
  {
   "cell_type": "markdown",
   "id": "36aa6449",
   "metadata": {},
   "source": [
    "- the first three points as listed in $x$ is one cluster (remaining is the second cluster) - plotting with different colours [3]"
   ]
  },
  {
   "cell_type": "code",
   "execution_count": 29,
   "id": "70636d63",
   "metadata": {},
   "outputs": [
    {
     "data": {
      "text/plain": [
       "array([1, 1, 1, 0, 0, 0])"
      ]
     },
     "execution_count": 29,
     "metadata": {},
     "output_type": "execute_result"
    }
   ],
   "source": [
    "nInsObjKMeans.labels_"
   ]
  },
  {
   "cell_type": "code",
   "execution_count": 30,
   "id": "c6896aaf",
   "metadata": {},
   "outputs": [],
   "source": [
    "ax.plot(X[nInsObjKMeans.labels_==0][:,0],X[nInsObjKMeans.labels_==0][:,1],\"xg\");"
   ]
  },
  {
   "cell_type": "code",
   "execution_count": 31,
   "id": "95fc30de",
   "metadata": {},
   "outputs": [
    {
     "data": {
      "image/png": "[encoded data removed]",
      "text/plain": [
       "<Figure size 921.6x518.4 with 1 Axes>"
      ]
     },
     "execution_count": 31,
     "metadata": {},
     "output_type": "execute_result"
    }
   ],
   "source": [
    "fig"
   ]
  },
  {
   "cell_type": "markdown",
   "id": "05f4262d",
   "metadata": {},
   "source": [
    "< [Table of Contents](#top) | [References](#references) >\n",
    "<a id=\"clusteringVisualisationAddNewValues\"></a>\n",
    "***\n",
    "###### Prediction\n",
    "***"
   ]
  },
  {
   "cell_type": "markdown",
   "id": "f42bfced",
   "metadata": {},
   "source": [
    "- plotting the prediction (two more points ``nVals``) [3]"
   ]
  },
  {
   "cell_type": "code",
   "execution_count": 32,
   "id": "aaa3babf",
   "metadata": {},
   "outputs": [
    {
     "data": {
      "text/plain": [
       "array([[ 0,  0],\n",
       "       [12,  3]])"
      ]
     },
     "execution_count": 32,
     "metadata": {},
     "output_type": "execute_result"
    }
   ],
   "source": [
    "nVals"
   ]
  },
  {
   "cell_type": "markdown",
   "id": "fc700575",
   "metadata": {},
   "source": [
    "- visually ``nVals[:,0]`` closer to red values and ``nVals[:,1]`` closer to the green values [3]"
   ]
  },
  {
   "cell_type": "code",
   "execution_count": 33,
   "id": "8ab20781",
   "metadata": {},
   "outputs": [],
   "source": [
    "ax.plot(nVals[:,0],nVals[:,1],\"bx\"); # plot new values"
   ]
  },
  {
   "cell_type": "code",
   "execution_count": 34,
   "id": "6be2c94c",
   "metadata": {},
   "outputs": [
    {
     "data": {
      "image/png": "[encoded data removed]",
      "text/plain": [
       "<Figure size 921.6x518.4 with 1 Axes>"
      ]
     },
     "execution_count": 34,
     "metadata": {},
     "output_type": "execute_result"
    }
   ],
   "source": [
    "fig"
   ]
  },
  {
   "cell_type": "markdown",
   "id": "7dabbcb4",
   "metadata": {},
   "source": [
    "- plot ``nPrediction`` to correct colour [3]"
   ]
  },
  {
   "cell_type": "code",
   "execution_count": 35,
   "id": "62af88c7",
   "metadata": {},
   "outputs": [
    {
     "data": {
      "text/plain": [
       "array([1, 0])"
      ]
     },
     "execution_count": 35,
     "metadata": {},
     "output_type": "execute_result"
    }
   ],
   "source": [
    "nPredictions"
   ]
  },
  {
   "cell_type": "markdown",
   "id": "c1755d41",
   "metadata": {},
   "source": [
    "- ``KMeans`` started with the six points (red ``x`` and green ``x``) specifying two clusters (known or suspected) [3]"
   ]
  },
  {
   "cell_type": "markdown",
   "id": "0cda5164",
   "metadata": {},
   "source": [
    "- determines if there is an obvious grouping of points - passing new values predictions (just by how they sit on the plot) which cluster they belong [3] "
   ]
  },
  {
   "cell_type": "code",
   "execution_count": 36,
   "id": "656e38b3",
   "metadata": {},
   "outputs": [],
   "source": [
    "ax.plot(nVals[nPredictions==1][:,0],nVals[nPredictions==1][:,1],\"or\")\n",
    "ax.plot(nVals[nPredictions==0][:,0],nVals[nPredictions==0][:,1],\"og\");"
   ]
  },
  {
   "cell_type": "code",
   "execution_count": 37,
   "id": "129f1638",
   "metadata": {},
   "outputs": [
    {
     "data": {
      "image/png": "[encoded data removed]",
      "text/plain": [
       "<Figure size 921.6x518.4 with 1 Axes>"
      ]
     },
     "execution_count": 37,
     "metadata": {},
     "output_type": "execute_result"
    }
   ],
   "source": [
    "fig"
   ]
  },
  {
   "cell_type": "markdown",
   "id": "58695f8a",
   "metadata": {},
   "source": [
    "< [Table of Contents](#top) | [References](#references) >\n",
    "<a id=\"clusteringVisualisationClusterCentre\"></a>\n",
    "***\n",
    "###### Cluster Centre\n",
    "***"
   ]
  },
  {
   "cell_type": "markdown",
   "id": "25c95205",
   "metadata": {},
   "source": [
    "- plotting ``cluster_centers`` [3]"
   ]
  },
  {
   "cell_type": "code",
   "execution_count": 38,
   "id": "9df530fa",
   "metadata": {},
   "outputs": [
    {
     "data": {
      "text/plain": [
       "array([[10.,  2.],\n",
       "       [ 1.,  2.]])"
      ]
     },
     "execution_count": 38,
     "metadata": {},
     "output_type": "execute_result"
    }
   ],
   "source": [
    "nCentre"
   ]
  },
  {
   "cell_type": "code",
   "execution_count": 39,
   "id": "7742eaf9",
   "metadata": {},
   "outputs": [],
   "source": [
    "ax.plot(nCentre[:,0],nCentre[:,1],\"ko\");"
   ]
  },
  {
   "cell_type": "code",
   "execution_count": 40,
   "id": "058c537d",
   "metadata": {},
   "outputs": [
    {
     "data": {
      "image/png": "[encoded data removed]",
      "text/plain": [
       "<Figure size 921.6x518.4 with 1 Axes>"
      ]
     },
     "execution_count": 40,
     "metadata": {},
     "output_type": "execute_result"
    }
   ],
   "source": [
    "fig"
   ]
  },
  {
   "cell_type": "code",
   "execution_count": 41,
   "id": "65ff7be8",
   "metadata": {},
   "outputs": [],
   "source": [
    "exit()"
   ]
  },
  {
   "cell_type": "markdown",
   "id": "a419a6c1",
   "metadata": {},
   "source": [
    "< [Table of Contents](#top) | [References](#references) >\n",
    "<a id=\"clusteringSimulation\"></a>\n",
    "***\n",
    "###### Simulation\n",
    "***"
   ]
  },
  {
   "cell_type": "markdown",
   "id": "ed73f522",
   "metadata": {},
   "source": [
    "- picking two central points and building two clusters around those [4]"
   ]
  },
  {
   "cell_type": "code",
   "execution_count": 1,
   "id": "2c9eb7d4",
   "metadata": {},
   "outputs": [],
   "source": [
    "import numpy as np"
   ]
  },
  {
   "cell_type": "markdown",
   "id": "6f9c7704",
   "metadata": {},
   "source": [
    "- goal is to create a group of points around the ``[2., 3.]`` and a group of points around ``[ 6., 13.]`` [4]"
   ]
  },
  {
   "cell_type": "code",
   "execution_count": 2,
   "id": "74b401c6",
   "metadata": {},
   "outputs": [],
   "source": [
    "c1=np.array(object=[2.0,3.0])"
   ]
  },
  {
   "cell_type": "code",
   "execution_count": 3,
   "id": "575a805b",
   "metadata": {},
   "outputs": [
    {
     "data": {
      "text/plain": [
       "array([2., 3.])"
      ]
     },
     "execution_count": 3,
     "metadata": {},
     "output_type": "execute_result"
    }
   ],
   "source": [
    "c1"
   ]
  },
  {
   "cell_type": "code",
   "execution_count": 4,
   "id": "539f184a",
   "metadata": {},
   "outputs": [],
   "source": [
    "c2=np.array(object=[6.0,13.0])"
   ]
  },
  {
   "cell_type": "code",
   "execution_count": 5,
   "id": "3da2f5d1",
   "metadata": {},
   "outputs": [
    {
     "data": {
      "text/plain": [
       "array([ 6., 13.])"
      ]
     },
     "execution_count": 5,
     "metadata": {},
     "output_type": "execute_result"
    }
   ],
   "source": [
    "c2"
   ]
  },
  {
   "cell_type": "markdown",
   "id": "8edfc6df",
   "metadata": {},
   "source": [
    "- ``s`` (technically not quite right) represents the standard deviation [4]"
   ]
  },
  {
   "cell_type": "code",
   "execution_count": 6,
   "id": "08225a55",
   "metadata": {},
   "outputs": [],
   "source": [
    "s=1.0"
   ]
  },
  {
   "cell_type": "markdown",
   "id": "125fdaff",
   "metadata": {},
   "source": [
    "- ``N`` is just a convenience parameter thrown in representing the size of each collection [4]"
   ]
  },
  {
   "cell_type": "code",
   "execution_count": 7,
   "id": "8ec8f92b",
   "metadata": {},
   "outputs": [],
   "source": [
    "N=20"
   ]
  },
  {
   "cell_type": "markdown",
   "id": "4d9d1744",
   "metadata": {},
   "source": [
    "- later merge both sets of points into one dataset and see if the ``KMeans`` algorithm can separate them back out (game the system) [4]"
   ]
  },
  {
   "cell_type": "markdown",
   "id": "0e493308",
   "metadata": {},
   "source": [
    "- create points randomly around the centres ``c1`` and ``c2`` [4]"
   ]
  },
  {
   "cell_type": "code",
   "execution_count": 8,
   "id": "f096e3ce",
   "metadata": {},
   "outputs": [],
   "source": [
    "c1x=np.random.normal(loc=c1[0],scale=s,size=N) # cluster one x"
   ]
  },
  {
   "cell_type": "code",
   "execution_count": 9,
   "id": "c80a30a8",
   "metadata": {},
   "outputs": [],
   "source": [
    "X=c1x"
   ]
  },
  {
   "cell_type": "markdown",
   "id": "fed4cab0",
   "metadata": {},
   "source": [
    "- ``X`` (dataset) is now a group of points around $2.0$ [4]"
   ]
  },
  {
   "cell_type": "code",
   "execution_count": 10,
   "id": "3d837be3",
   "metadata": {},
   "outputs": [
    {
     "data": {
      "text/plain": [
       "array([0.88291485, 2.49492543, 2.73782521, 3.39182352, 2.06291723,\n",
       "       0.55592512, 1.68163397, 1.06437791, 2.42240384, 4.02735142,\n",
       "       0.54921725, 0.62760291, 2.04588059, 2.12336084, 1.22902005,\n",
       "       1.4625054 , 0.99267693, 1.36080706, 0.65643133, 2.52327886])"
      ]
     },
     "execution_count": 10,
     "metadata": {},
     "output_type": "execute_result"
    }
   ],
   "source": [
    "X"
   ]
  },
  {
   "cell_type": "code",
   "execution_count": 11,
   "id": "a2d72d0c",
   "metadata": {},
   "outputs": [],
   "source": [
    "c1y=np.random.normal(loc=c1[1],scale=s,size=N) # cluster one y"
   ]
  },
  {
   "cell_type": "code",
   "execution_count": 12,
   "id": "0b181270",
   "metadata": {},
   "outputs": [],
   "source": [
    "X=c1y"
   ]
  },
  {
   "cell_type": "markdown",
   "id": "858f1b2e",
   "metadata": {},
   "source": [
    "- ``X`` (dataset) is now a group of points around $3.0$ [4]"
   ]
  },
  {
   "cell_type": "code",
   "execution_count": 13,
   "id": "0024bda4",
   "metadata": {},
   "outputs": [
    {
     "data": {
      "text/plain": [
       "array([3.69463284, 2.96799751, 1.48306584, 2.48009354, 3.30811179,\n",
       "       1.25293788, 2.80105761, 1.35214401, 2.48280317, 2.17901089,\n",
       "       4.05682051, 2.98021835, 4.41683216, 3.59743246, 4.1220217 ,\n",
       "       0.94769039, 4.84327246, 3.73118853, 2.8953724 , 3.86410481])"
      ]
     },
     "execution_count": 13,
     "metadata": {},
     "output_type": "execute_result"
    }
   ],
   "source": [
    "X"
   ]
  },
  {
   "cell_type": "markdown",
   "id": "1fd00ea6",
   "metadata": {},
   "source": [
    "- need to put the ``c1x`` and ``c1y`` into points [4]"
   ]
  },
  {
   "cell_type": "markdown",
   "id": "1a372c3e",
   "metadata": {},
   "source": [
    "- vertically stacking the first collection on top of the second collection [4]"
   ]
  },
  {
   "cell_type": "code",
   "execution_count": 14,
   "id": "826af071",
   "metadata": {},
   "outputs": [],
   "source": [
    "c1p=np.vstack(tup=[c1x,c1y])"
   ]
  },
  {
   "cell_type": "code",
   "execution_count": 15,
   "id": "311579e4",
   "metadata": {},
   "outputs": [],
   "source": [
    "X=c1p"
   ]
  },
  {
   "cell_type": "code",
   "execution_count": 16,
   "id": "ec250b39",
   "metadata": {},
   "outputs": [
    {
     "data": {
      "text/plain": [
       "array([0.88291485, 2.49492543, 2.73782521, 3.39182352, 2.06291723,\n",
       "       0.55592512, 1.68163397, 1.06437791, 2.42240384, 4.02735142,\n",
       "       0.54921725, 0.62760291, 2.04588059, 2.12336084, 1.22902005,\n",
       "       1.4625054 , 0.99267693, 1.36080706, 0.65643133, 2.52327886])"
      ]
     },
     "execution_count": 16,
     "metadata": {},
     "output_type": "execute_result"
    }
   ],
   "source": [
    "X[0] # first collection x-axis"
   ]
  },
  {
   "cell_type": "code",
   "execution_count": 17,
   "id": "29f9c505",
   "metadata": {},
   "outputs": [
    {
     "data": {
      "text/plain": [
       "array([3.69463284, 2.96799751, 1.48306584, 2.48009354, 3.30811179,\n",
       "       1.25293788, 2.80105761, 1.35214401, 2.48280317, 2.17901089,\n",
       "       4.05682051, 2.98021835, 4.41683216, 3.59743246, 4.1220217 ,\n",
       "       0.94769039, 4.84327246, 3.73118853, 2.8953724 , 3.86410481])"
      ]
     },
     "execution_count": 17,
     "metadata": {},
     "output_type": "execute_result"
    }
   ],
   "source": [
    "X[1] # second collection y-axis"
   ]
  },
  {
   "cell_type": "markdown",
   "id": "cb1ea21c",
   "metadata": {},
   "source": [
    "- result is an outer collection with the two created collections within [4]"
   ]
  },
  {
   "cell_type": "code",
   "execution_count": 18,
   "id": "21a19e0d",
   "metadata": {},
   "outputs": [
    {
     "data": {
      "text/plain": [
       "array([[0.88291485, 2.49492543, 2.73782521, 3.39182352, 2.06291723,\n",
       "        0.55592512, 1.68163397, 1.06437791, 2.42240384, 4.02735142,\n",
       "        0.54921725, 0.62760291, 2.04588059, 2.12336084, 1.22902005,\n",
       "        1.4625054 , 0.99267693, 1.36080706, 0.65643133, 2.52327886],\n",
       "       [3.69463284, 2.96799751, 1.48306584, 2.48009354, 3.30811179,\n",
       "        1.25293788, 2.80105761, 1.35214401, 2.48280317, 2.17901089,\n",
       "        4.05682051, 2.98021835, 4.41683216, 3.59743246, 4.1220217 ,\n",
       "        0.94769039, 4.84327246, 3.73118853, 2.8953724 , 3.86410481]])"
      ]
     },
     "execution_count": 18,
     "metadata": {},
     "output_type": "execute_result"
    }
   ],
   "source": [
    "X"
   ]
  },
  {
   "cell_type": "markdown",
   "id": "b92aaea0",
   "metadata": {},
   "source": [
    "- transposed collection [4]"
   ]
  },
  {
   "cell_type": "code",
   "execution_count": 19,
   "id": "f6b0a440",
   "metadata": {},
   "outputs": [],
   "source": [
    "c1p=np.vstack(tup=[c1x,c1y]).T"
   ]
  },
  {
   "cell_type": "code",
   "execution_count": 20,
   "id": "2e6c45da",
   "metadata": {},
   "outputs": [],
   "source": [
    "X=c1p"
   ]
  },
  {
   "cell_type": "markdown",
   "id": "3e719b51",
   "metadata": {},
   "source": [
    "- group of twenty points all centred around the point ``[2., 3.]`` on the plot [4]"
   ]
  },
  {
   "cell_type": "code",
   "execution_count": 21,
   "id": "a49b0ba4",
   "metadata": {},
   "outputs": [
    {
     "data": {
      "text/plain": [
       "array([[0.88291485, 3.69463284],\n",
       "       [2.49492543, 2.96799751],\n",
       "       [2.73782521, 1.48306584],\n",
       "       [3.39182352, 2.48009354],\n",
       "       [2.06291723, 3.30811179],\n",
       "       [0.55592512, 1.25293788],\n",
       "       [1.68163397, 2.80105761],\n",
       "       [1.06437791, 1.35214401],\n",
       "       [2.42240384, 2.48280317],\n",
       "       [4.02735142, 2.17901089],\n",
       "       [0.54921725, 4.05682051],\n",
       "       [0.62760291, 2.98021835],\n",
       "       [2.04588059, 4.41683216],\n",
       "       [2.12336084, 3.59743246],\n",
       "       [1.22902005, 4.1220217 ],\n",
       "       [1.4625054 , 0.94769039],\n",
       "       [0.99267693, 4.84327246],\n",
       "       [1.36080706, 3.73118853],\n",
       "       [0.65643133, 2.8953724 ],\n",
       "       [2.52327886, 3.86410481]])"
      ]
     },
     "execution_count": 21,
     "metadata": {},
     "output_type": "execute_result"
    }
   ],
   "source": [
    "X"
   ]
  },
  {
   "cell_type": "markdown",
   "id": "375779ba",
   "metadata": {},
   "source": [
    "- same process for ``c2`` (create points randomly around the centre) [4]"
   ]
  },
  {
   "cell_type": "code",
   "execution_count": 22,
   "id": "3a49caa4",
   "metadata": {},
   "outputs": [],
   "source": [
    "c2x=np.random.normal(loc=c2[0],scale=s,size=N) # cluster two x\n",
    "c2y=np.random.normal(loc=c2[1],scale=s,size=N) # cluster two y\n",
    "c2p=np.vstack(tup=[c2x,c2y]).T"
   ]
  },
  {
   "cell_type": "code",
   "execution_count": 23,
   "id": "dd377d12",
   "metadata": {},
   "outputs": [
    {
     "data": {
      "text/plain": [
       "array([[ 5.68495561, 12.38331445],\n",
       "       [ 5.21867624, 12.15294542],\n",
       "       [ 5.17848639, 12.02862101],\n",
       "       [ 4.33869089, 15.16159619],\n",
       "       [ 4.91593482, 11.9598927 ],\n",
       "       [ 4.07611475, 15.55341871],\n",
       "       [ 5.69861387, 11.63075515],\n",
       "       [ 6.01115751, 14.78363924],\n",
       "       [ 6.07160904, 13.90310823],\n",
       "       [ 5.80133226, 12.00623973],\n",
       "       [ 6.86784418, 11.39047761],\n",
       "       [ 5.63280271, 12.57365329],\n",
       "       [ 5.98097868, 10.79174619],\n",
       "       [ 5.15275856, 15.34698561],\n",
       "       [ 6.66909081, 13.19136218],\n",
       "       [ 5.14153762, 13.00174909],\n",
       "       [ 6.07201754, 13.83499278],\n",
       "       [ 4.89536093, 13.396822  ],\n",
       "       [ 5.8459333 , 12.07867753],\n",
       "       [ 4.90021526, 12.45653315]])"
      ]
     },
     "execution_count": 23,
     "metadata": {},
     "output_type": "execute_result"
    }
   ],
   "source": [
    "c2p"
   ]
  },
  {
   "cell_type": "markdown",
   "id": "b4b1064f",
   "metadata": {},
   "source": [
    "- merge the two groups of twenty points together [4]"
   ]
  },
  {
   "cell_type": "code",
   "execution_count": 24,
   "id": "de1385ea",
   "metadata": {},
   "outputs": [
    {
     "data": {
      "text/plain": [
       "array([[ 5.68495561, 12.38331445],\n",
       "       [ 5.21867624, 12.15294542],\n",
       "       [ 5.17848639, 12.02862101],\n",
       "       [ 4.33869089, 15.16159619],\n",
       "       [ 4.91593482, 11.9598927 ],\n",
       "       [ 4.07611475, 15.55341871],\n",
       "       [ 5.69861387, 11.63075515],\n",
       "       [ 6.01115751, 14.78363924],\n",
       "       [ 6.07160904, 13.90310823],\n",
       "       [ 5.80133226, 12.00623973],\n",
       "       [ 6.86784418, 11.39047761],\n",
       "       [ 5.63280271, 12.57365329],\n",
       "       [ 5.98097868, 10.79174619],\n",
       "       [ 5.15275856, 15.34698561],\n",
       "       [ 6.66909081, 13.19136218],\n",
       "       [ 5.14153762, 13.00174909],\n",
       "       [ 6.07201754, 13.83499278],\n",
       "       [ 4.89536093, 13.396822  ],\n",
       "       [ 5.8459333 , 12.07867753],\n",
       "       [ 4.90021526, 12.45653315]])"
      ]
     },
     "execution_count": 24,
     "metadata": {},
     "output_type": "execute_result"
    }
   ],
   "source": [
    "c2p"
   ]
  },
  {
   "cell_type": "code",
   "execution_count": 25,
   "id": "9076bedf",
   "metadata": {},
   "outputs": [],
   "source": [
    "X=np.concatenate((c1p,c2p))"
   ]
  },
  {
   "cell_type": "markdown",
   "id": "b7da90c6",
   "metadata": {},
   "source": [
    "- the first twenty points are grouped around ``[2., 3.]`` and the second ten points are bunched around ``[ 6., 13.]`` [4]"
   ]
  },
  {
   "cell_type": "code",
   "execution_count": 26,
   "id": "84cbc350",
   "metadata": {},
   "outputs": [
    {
     "data": {
      "text/plain": [
       "array([[ 0.88291485,  3.69463284],\n",
       "       [ 2.49492543,  2.96799751],\n",
       "       [ 2.73782521,  1.48306584],\n",
       "       [ 3.39182352,  2.48009354],\n",
       "       [ 2.06291723,  3.30811179],\n",
       "       [ 0.55592512,  1.25293788],\n",
       "       [ 1.68163397,  2.80105761],\n",
       "       [ 1.06437791,  1.35214401],\n",
       "       [ 2.42240384,  2.48280317],\n",
       "       [ 4.02735142,  2.17901089],\n",
       "       [ 0.54921725,  4.05682051],\n",
       "       [ 0.62760291,  2.98021835],\n",
       "       [ 2.04588059,  4.41683216],\n",
       "       [ 2.12336084,  3.59743246],\n",
       "       [ 1.22902005,  4.1220217 ],\n",
       "       [ 1.4625054 ,  0.94769039],\n",
       "       [ 0.99267693,  4.84327246],\n",
       "       [ 1.36080706,  3.73118853],\n",
       "       [ 0.65643133,  2.8953724 ],\n",
       "       [ 2.52327886,  3.86410481],\n",
       "       [ 5.68495561, 12.38331445],\n",
       "       [ 5.21867624, 12.15294542],\n",
       "       [ 5.17848639, 12.02862101],\n",
       "       [ 4.33869089, 15.16159619],\n",
       "       [ 4.91593482, 11.9598927 ],\n",
       "       [ 4.07611475, 15.55341871],\n",
       "       [ 5.69861387, 11.63075515],\n",
       "       [ 6.01115751, 14.78363924],\n",
       "       [ 6.07160904, 13.90310823],\n",
       "       [ 5.80133226, 12.00623973],\n",
       "       [ 6.86784418, 11.39047761],\n",
       "       [ 5.63280271, 12.57365329],\n",
       "       [ 5.98097868, 10.79174619],\n",
       "       [ 5.15275856, 15.34698561],\n",
       "       [ 6.66909081, 13.19136218],\n",
       "       [ 5.14153762, 13.00174909],\n",
       "       [ 6.07201754, 13.83499278],\n",
       "       [ 4.89536093, 13.396822  ],\n",
       "       [ 5.8459333 , 12.07867753],\n",
       "       [ 4.90021526, 12.45653315]])"
      ]
     },
     "execution_count": 26,
     "metadata": {},
     "output_type": "execute_result"
    }
   ],
   "source": [
    "X"
   ]
  },
  {
   "cell_type": "markdown",
   "id": "914c0ffc",
   "metadata": {},
   "source": [
    "- mixing the two groups together (``X``) [4]"
   ]
  },
  {
   "cell_type": "code",
   "execution_count": 27,
   "id": "9f0d0067",
   "metadata": {},
   "outputs": [],
   "source": [
    "np.random.shuffle(X) # modify sequence in-place"
   ]
  },
  {
   "cell_type": "markdown",
   "id": "1f6fb1e1",
   "metadata": {},
   "source": [
    "- shuffling the points in order to ensure the groups are not identifiable via the collection itself [4]"
   ]
  },
  {
   "cell_type": "code",
   "execution_count": 28,
   "id": "b0dedbd6",
   "metadata": {},
   "outputs": [
    {
     "data": {
      "text/plain": [
       "array([[ 6.01115751, 14.78363924],\n",
       "       [ 2.73782521,  1.48306584],\n",
       "       [ 6.07201754, 13.83499278],\n",
       "       [ 0.54921725,  4.05682051],\n",
       "       [ 5.15275856, 15.34698561],\n",
       "       [ 0.55592512,  1.25293788],\n",
       "       [ 2.42240384,  2.48280317],\n",
       "       [ 2.52327886,  3.86410481],\n",
       "       [ 5.17848639, 12.02862101],\n",
       "       [ 1.36080706,  3.73118853],\n",
       "       [ 4.91593482, 11.9598927 ],\n",
       "       [ 4.02735142,  2.17901089],\n",
       "       [ 5.80133226, 12.00623973],\n",
       "       [ 6.07160904, 13.90310823],\n",
       "       [ 5.14153762, 13.00174909],\n",
       "       [ 4.90021526, 12.45653315],\n",
       "       [ 2.49492543,  2.96799751],\n",
       "       [ 0.65643133,  2.8953724 ],\n",
       "       [ 4.33869089, 15.16159619],\n",
       "       [ 2.04588059,  4.41683216],\n",
       "       [ 5.21867624, 12.15294542],\n",
       "       [ 5.63280271, 12.57365329],\n",
       "       [ 5.8459333 , 12.07867753],\n",
       "       [ 4.07611475, 15.55341871],\n",
       "       [ 0.62760291,  2.98021835],\n",
       "       [ 6.66909081, 13.19136218],\n",
       "       [ 4.89536093, 13.396822  ],\n",
       "       [ 2.06291723,  3.30811179],\n",
       "       [ 1.06437791,  1.35214401],\n",
       "       [ 5.68495561, 12.38331445],\n",
       "       [ 2.12336084,  3.59743246],\n",
       "       [ 0.99267693,  4.84327246],\n",
       "       [ 1.4625054 ,  0.94769039],\n",
       "       [ 0.88291485,  3.69463284],\n",
       "       [ 5.98097868, 10.79174619],\n",
       "       [ 1.22902005,  4.1220217 ],\n",
       "       [ 1.68163397,  2.80105761],\n",
       "       [ 6.86784418, 11.39047761],\n",
       "       [ 3.39182352,  2.48009354],\n",
       "       [ 5.69861387, 11.63075515]])"
      ]
     },
     "execution_count": 28,
     "metadata": {},
     "output_type": "execute_result"
    }
   ],
   "source": [
    "X"
   ]
  },
  {
   "cell_type": "code",
   "execution_count": 29,
   "id": "6c3b90a3",
   "metadata": {},
   "outputs": [],
   "source": [
    "import matplotlib.pyplot as plt"
   ]
  },
  {
   "cell_type": "code",
   "execution_count": 30,
   "id": "ac1ec634",
   "metadata": {},
   "outputs": [],
   "source": [
    "plt.style.use(style=\"ggplot\")"
   ]
  },
  {
   "cell_type": "code",
   "execution_count": 31,
   "id": "ca938094",
   "metadata": {},
   "outputs": [],
   "source": [
    "plt.rcParams[\"figure.figsize\"]=12.8,7.2"
   ]
  },
  {
   "cell_type": "code",
   "execution_count": 32,
   "id": "7f1b9046",
   "metadata": {},
   "outputs": [
    {
     "data": {
      "image/png": "[encoded data removed]",
      "text/plain": [
       "<Figure size 921.6x518.4 with 1 Axes>"
      ]
     },
     "metadata": {},
     "output_type": "display_data"
    }
   ],
   "source": [
    "fig,ax=plt.subplots()\n",
    "ax.plot(X[:,0],X[:,1],\"x\");"
   ]
  },
  {
   "cell_type": "markdown",
   "id": "a258f408",
   "metadata": {},
   "source": [
    "< [Table of Contents](#top) | [References](#references) >\n",
    "<a id=\"clusteringSimulationsklearnclusterkmeans\"></a>\n",
    "***\n",
    "###### ``sklearn.cluster.KMeans``\n",
    "***"
   ]
  },
  {
   "cell_type": "code",
   "execution_count": 33,
   "id": "ac2c13b4",
   "metadata": {},
   "outputs": [],
   "source": [
    "import sklearn.cluster as skcl"
   ]
  },
  {
   "cell_type": "code",
   "execution_count": 34,
   "id": "89484d89",
   "metadata": {},
   "outputs": [],
   "source": [
    "nInsObjKMeans=skcl.KMeans(n_clusters=2,random_state=0)"
   ]
  },
  {
   "cell_type": "code",
   "execution_count": 35,
   "id": "ea5d3951",
   "metadata": {},
   "outputs": [
    {
     "data": {
      "text/plain": [
       "KMeans(n_clusters=2, random_state=0)"
      ]
     },
     "execution_count": 35,
     "metadata": {},
     "output_type": "execute_result"
    }
   ],
   "source": [
    "nInsObjKMeans"
   ]
  },
  {
   "cell_type": "code",
   "execution_count": 36,
   "id": "635da3c4",
   "metadata": {},
   "outputs": [
    {
     "data": {
      "text/plain": [
       "array([[ 6.01115751, 14.78363924],\n",
       "       [ 2.73782521,  1.48306584],\n",
       "       [ 6.07201754, 13.83499278],\n",
       "       [ 0.54921725,  4.05682051],\n",
       "       [ 5.15275856, 15.34698561],\n",
       "       [ 0.55592512,  1.25293788],\n",
       "       [ 2.42240384,  2.48280317],\n",
       "       [ 2.52327886,  3.86410481],\n",
       "       [ 5.17848639, 12.02862101],\n",
       "       [ 1.36080706,  3.73118853],\n",
       "       [ 4.91593482, 11.9598927 ],\n",
       "       [ 4.02735142,  2.17901089],\n",
       "       [ 5.80133226, 12.00623973],\n",
       "       [ 6.07160904, 13.90310823],\n",
       "       [ 5.14153762, 13.00174909],\n",
       "       [ 4.90021526, 12.45653315],\n",
       "       [ 2.49492543,  2.96799751],\n",
       "       [ 0.65643133,  2.8953724 ],\n",
       "       [ 4.33869089, 15.16159619],\n",
       "       [ 2.04588059,  4.41683216],\n",
       "       [ 5.21867624, 12.15294542],\n",
       "       [ 5.63280271, 12.57365329],\n",
       "       [ 5.8459333 , 12.07867753],\n",
       "       [ 4.07611475, 15.55341871],\n",
       "       [ 0.62760291,  2.98021835],\n",
       "       [ 6.66909081, 13.19136218],\n",
       "       [ 4.89536093, 13.396822  ],\n",
       "       [ 2.06291723,  3.30811179],\n",
       "       [ 1.06437791,  1.35214401],\n",
       "       [ 5.68495561, 12.38331445],\n",
       "       [ 2.12336084,  3.59743246],\n",
       "       [ 0.99267693,  4.84327246],\n",
       "       [ 1.4625054 ,  0.94769039],\n",
       "       [ 0.88291485,  3.69463284],\n",
       "       [ 5.98097868, 10.79174619],\n",
       "       [ 1.22902005,  4.1220217 ],\n",
       "       [ 1.68163397,  2.80105761],\n",
       "       [ 6.86784418, 11.39047761],\n",
       "       [ 3.39182352,  2.48009354],\n",
       "       [ 5.69861387, 11.63075515]])"
      ]
     },
     "execution_count": 36,
     "metadata": {},
     "output_type": "execute_result"
    }
   ],
   "source": [
    "X"
   ]
  },
  {
   "cell_type": "code",
   "execution_count": 37,
   "id": "b0bf2569",
   "metadata": {},
   "outputs": [
    {
     "data": {
      "text/plain": [
       "KMeans(n_clusters=2, random_state=0)"
      ]
     },
     "execution_count": 37,
     "metadata": {},
     "output_type": "execute_result"
    }
   ],
   "source": [
    "nInsObjKMeans.fit(X=X)"
   ]
  },
  {
   "cell_type": "code",
   "execution_count": 38,
   "id": "89d7fd65",
   "metadata": {},
   "outputs": [
    {
     "data": {
      "text/plain": [
       "array([0, 1, 0, 1, 0, 1, 1, 1, 0, 1, 0, 1, 0, 0, 0, 0, 1, 1, 0, 1, 0, 0,\n",
       "       0, 0, 1, 0, 0, 1, 1, 0, 1, 1, 1, 1, 0, 1, 1, 0, 1, 0])"
      ]
     },
     "execution_count": 38,
     "metadata": {},
     "output_type": "execute_result"
    }
   ],
   "source": [
    "nInsObjKMeans.labels_"
   ]
  },
  {
   "cell_type": "markdown",
   "id": "339d4a67",
   "metadata": {},
   "source": [
    "< [Table of Contents](#top) | [References](#references) >\n",
    "<a id=\"clusteringSimulationVisualisation\"></a>\n",
    "***\n",
    "###### Visualisation\n",
    "***"
   ]
  },
  {
   "cell_type": "markdown",
   "id": "a1a97d63",
   "metadata": {},
   "source": [
    "- ``plot`` the two groups (``X``) from ``nInsObjKMeans`` (make both groups identifiable) [4]"
   ]
  },
  {
   "cell_type": "code",
   "execution_count": 39,
   "id": "6af65612",
   "metadata": {},
   "outputs": [
    {
     "data": {
      "image/png": "[encoded data removed]",
      "text/plain": [
       "<Figure size 921.6x518.4 with 1 Axes>"
      ]
     },
     "metadata": {},
     "output_type": "display_data"
    }
   ],
   "source": [
    "fig,ax=plt.subplots()\n",
    "ax.plot(X[nInsObjKMeans.labels_==0][:,0],X[nInsObjKMeans.labels_==0][:,1],\"xg\")\n",
    "ax.plot(X[nInsObjKMeans.labels_==1][:,0],X[nInsObjKMeans.labels_==1][:,1],\"xr\");"
   ]
  },
  {
   "cell_type": "markdown",
   "id": "d2251e4a",
   "metadata": {},
   "source": [
    "- make prediction (``nVals``) [4]"
   ]
  },
  {
   "cell_type": "code",
   "execution_count": 40,
   "id": "155e0048",
   "metadata": {},
   "outputs": [],
   "source": [
    "nVals=np.array(object=[[0.0,0.0],[6,10]])"
   ]
  },
  {
   "cell_type": "code",
   "execution_count": 41,
   "id": "2e3bc37c",
   "metadata": {},
   "outputs": [
    {
     "data": {
      "text/plain": [
       "array([[ 0.,  0.],\n",
       "       [ 6., 10.]])"
      ]
     },
     "execution_count": 41,
     "metadata": {},
     "output_type": "execute_result"
    }
   ],
   "source": [
    "nVals"
   ]
  },
  {
   "cell_type": "code",
   "execution_count": 42,
   "id": "ba39536b",
   "metadata": {},
   "outputs": [],
   "source": [
    "nPrediction=nInsObjKMeans.predict(X=nVals)"
   ]
  },
  {
   "cell_type": "code",
   "execution_count": 43,
   "id": "956ccf9e",
   "metadata": {},
   "outputs": [
    {
     "data": {
      "text/plain": [
       "array([1, 0])"
      ]
     },
     "execution_count": 43,
     "metadata": {},
     "output_type": "execute_result"
    }
   ],
   "source": [
    "nPrediction"
   ]
  },
  {
   "cell_type": "markdown",
   "id": "4119e369",
   "metadata": {},
   "source": [
    "- plot ``nPrediction`` with associated coloured marker [4]"
   ]
  },
  {
   "cell_type": "code",
   "execution_count": 44,
   "id": "6fee002a",
   "metadata": {},
   "outputs": [],
   "source": [
    "ax.plot(nVals[nPrediction==0][:,0],nVals[nPrediction==0][:,1],\"go\")\n",
    "ax.plot(nVals[nPrediction==1][:,0],nVals[nPrediction==1][:,1],\"ro\");"
   ]
  },
  {
   "cell_type": "code",
   "execution_count": 45,
   "id": "1fee2e5f",
   "metadata": {},
   "outputs": [
    {
     "data": {
      "image/png": "[encoded data removed]",
      "text/plain": [
       "<Figure size 921.6x518.4 with 1 Axes>"
      ]
     },
     "execution_count": 45,
     "metadata": {},
     "output_type": "execute_result"
    }
   ],
   "source": [
    "fig"
   ]
  },
  {
   "cell_type": "code",
   "execution_count": 46,
   "id": "4ecffe6c",
   "metadata": {},
   "outputs": [],
   "source": [
    "nCentre=nInsObjKMeans.cluster_centers_"
   ]
  },
  {
   "cell_type": "code",
   "execution_count": 47,
   "id": "5761ac2e",
   "metadata": {},
   "outputs": [
    {
     "data": {
      "text/plain": [
       "array([[ 5.50770555, 12.98132651],\n",
       "       [ 1.74464399,  2.97284044]])"
      ]
     },
     "execution_count": 47,
     "metadata": {},
     "output_type": "execute_result"
    }
   ],
   "source": [
    "nCentre"
   ]
  },
  {
   "cell_type": "markdown",
   "id": "fe971491",
   "metadata": {},
   "source": [
    "- ``plot`` centres of each cluster [4]"
   ]
  },
  {
   "cell_type": "markdown",
   "id": "287e6aa0",
   "metadata": {},
   "source": [
    "- the ``KMeans`` algorithm determines (black dot within the green/red group) the centre point based on where the points sit on the plot [4]"
   ]
  },
  {
   "cell_type": "markdown",
   "id": "674b4e4d",
   "metadata": {},
   "source": [
    "- introducing two new points (``nVals``) the question is which of the centre points each is closer to [4]"
   ]
  },
  {
   "cell_type": "code",
   "execution_count": 48,
   "id": "a6a784b5",
   "metadata": {},
   "outputs": [],
   "source": [
    "ax.plot(nCentre[:,0],nCentre[:,1],\"k.\");"
   ]
  },
  {
   "cell_type": "code",
   "execution_count": 49,
   "id": "32afb62f",
   "metadata": {},
   "outputs": [
    {
     "data": {
      "image/png": "[encoded data removed]",
      "text/plain": [
       "<Figure size 921.6x518.4 with 1 Axes>"
      ]
     },
     "execution_count": 49,
     "metadata": {},
     "output_type": "execute_result"
    }
   ],
   "source": [
    "fig"
   ]
  },
  {
   "cell_type": "markdown",
   "id": "72d860b2",
   "metadata": {},
   "source": [
    "< [Table of Contents](#top) | [References](#references) >\n",
    "<a id=\"clusteringSimulationVisualisationAddNewValues\"></a>\n",
    "***\n",
    "###### Prediction\n",
    "***"
   ]
  },
  {
   "cell_type": "markdown",
   "id": "e7d8b61f",
   "metadata": {},
   "source": [
    "- creating a line of points evenly spaced on a ``plot`` (very contrived and aligned) from the button left to the top right (by design using ``numpy.linspace``) [4]"
   ]
  },
  {
   "cell_type": "markdown",
   "id": "fc360533",
   "metadata": {},
   "source": [
    "- creating a new collection of ``nVals`` (dummy points for classification) [4]"
   ]
  },
  {
   "cell_type": "code",
   "execution_count": 50,
   "id": "347bed3b",
   "metadata": {},
   "outputs": [],
   "source": [
    "xVals=np.linspace(start=-1.0,stop=7.0,num=20)"
   ]
  },
  {
   "cell_type": "code",
   "execution_count": 51,
   "id": "a3d64227",
   "metadata": {},
   "outputs": [
    {
     "data": {
      "text/plain": [
       "array([-1.        , -0.57894737, -0.15789474,  0.26315789,  0.68421053,\n",
       "        1.10526316,  1.52631579,  1.94736842,  2.36842105,  2.78947368,\n",
       "        3.21052632,  3.63157895,  4.05263158,  4.47368421,  4.89473684,\n",
       "        5.31578947,  5.73684211,  6.15789474,  6.57894737,  7.        ])"
      ]
     },
     "execution_count": 51,
     "metadata": {},
     "output_type": "execute_result"
    }
   ],
   "source": [
    "xVals"
   ]
  },
  {
   "cell_type": "code",
   "execution_count": 52,
   "id": "4d8efae1",
   "metadata": {},
   "outputs": [],
   "source": [
    "yVals=np.linspace(start=-1.0,stop=15.0,num=20)"
   ]
  },
  {
   "cell_type": "code",
   "execution_count": 53,
   "id": "4f9c52c6",
   "metadata": {},
   "outputs": [
    {
     "data": {
      "text/plain": [
       "array([-1.        , -0.15789474,  0.68421053,  1.52631579,  2.36842105,\n",
       "        3.21052632,  4.05263158,  4.89473684,  5.73684211,  6.57894737,\n",
       "        7.42105263,  8.26315789,  9.10526316,  9.94736842, 10.78947368,\n",
       "       11.63157895, 12.47368421, 13.31578947, 14.15789474, 15.        ])"
      ]
     },
     "execution_count": 53,
     "metadata": {},
     "output_type": "execute_result"
    }
   ],
   "source": [
    "yVals"
   ]
  },
  {
   "cell_type": "code",
   "execution_count": 54,
   "id": "d439c380",
   "metadata": {},
   "outputs": [],
   "source": [
    "nVals=np.vstack(tup=[xVals,yVals]).T"
   ]
  },
  {
   "cell_type": "code",
   "execution_count": 55,
   "id": "19b35005",
   "metadata": {},
   "outputs": [
    {
     "data": {
      "text/plain": [
       "array([[-1.        , -1.        ],\n",
       "       [-0.57894737, -0.15789474],\n",
       "       [-0.15789474,  0.68421053],\n",
       "       [ 0.26315789,  1.52631579],\n",
       "       [ 0.68421053,  2.36842105],\n",
       "       [ 1.10526316,  3.21052632],\n",
       "       [ 1.52631579,  4.05263158],\n",
       "       [ 1.94736842,  4.89473684],\n",
       "       [ 2.36842105,  5.73684211],\n",
       "       [ 2.78947368,  6.57894737],\n",
       "       [ 3.21052632,  7.42105263],\n",
       "       [ 3.63157895,  8.26315789],\n",
       "       [ 4.05263158,  9.10526316],\n",
       "       [ 4.47368421,  9.94736842],\n",
       "       [ 4.89473684, 10.78947368],\n",
       "       [ 5.31578947, 11.63157895],\n",
       "       [ 5.73684211, 12.47368421],\n",
       "       [ 6.15789474, 13.31578947],\n",
       "       [ 6.57894737, 14.15789474],\n",
       "       [ 7.        , 15.        ]])"
      ]
     },
     "execution_count": 55,
     "metadata": {},
     "output_type": "execute_result"
    }
   ],
   "source": [
    "nVals"
   ]
  },
  {
   "cell_type": "markdown",
   "id": "373ff267",
   "metadata": {},
   "source": [
    "- get the ``KMeans`` algorithm to classify [4]"
   ]
  },
  {
   "cell_type": "code",
   "execution_count": 56,
   "id": "3de20a8e",
   "metadata": {},
   "outputs": [],
   "source": [
    "nPrediction=nInsObjKMeans.predict(X=nVals)"
   ]
  },
  {
   "cell_type": "code",
   "execution_count": 57,
   "id": "ddf86d88",
   "metadata": {},
   "outputs": [
    {
     "data": {
      "text/plain": [
       "array([1, 1, 1, 1, 1, 1, 1, 1, 1, 1, 1, 0, 0, 0, 0, 0, 0, 0, 0, 0])"
      ]
     },
     "execution_count": 57,
     "metadata": {},
     "output_type": "execute_result"
    }
   ],
   "source": [
    "nPrediction"
   ]
  },
  {
   "cell_type": "markdown",
   "id": "52e53265",
   "metadata": {},
   "source": [
    "- the new points are classified according to a cluster (there exists a decision boundary between the green and red points) [4]"
   ]
  },
  {
   "cell_type": "code",
   "execution_count": 58,
   "id": "0ea4d716",
   "metadata": {},
   "outputs": [],
   "source": [
    "ax.plot(nVals[nPrediction==0][:,0],nVals[nPrediction==0][:,1],\"go\")\n",
    "ax.plot(nVals[nPrediction==1][:,0],nVals[nPrediction==1][:,1],\"ro\");"
   ]
  },
  {
   "cell_type": "markdown",
   "id": "ce0f6046",
   "metadata": {},
   "source": [
    "< [Table of Contents](#top) | [References](#references) >\n",
    "<a id=\"clusteringSimulationVisualisationClusterCentre\"></a>\n",
    "***\n",
    "###### Cluster Centre\n",
    "***"
   ]
  },
  {
   "cell_type": "markdown",
   "id": "27648bc0",
   "metadata": {},
   "source": [
    "- color associated with closest black dot [4]"
   ]
  },
  {
   "cell_type": "code",
   "execution_count": 59,
   "id": "2a33ca32",
   "metadata": {},
   "outputs": [],
   "source": [
    "ax.plot(nCentre[:,0],nCentre[:,1],\"k.\");"
   ]
  },
  {
   "cell_type": "code",
   "execution_count": 60,
   "id": "78c911cb",
   "metadata": {},
   "outputs": [
    {
     "data": {
      "image/png": "[encoded data removed]",
      "text/plain": [
       "<Figure size 921.6x518.4 with 1 Axes>"
      ]
     },
     "execution_count": 60,
     "metadata": {},
     "output_type": "execute_result"
    }
   ],
   "source": [
    "fig"
   ]
  },
  {
   "cell_type": "code",
   "execution_count": 61,
   "id": "87247780",
   "metadata": {},
   "outputs": [],
   "source": [
    "exit()"
   ]
  },
  {
   "cell_type": "markdown",
   "id": "c8781b87",
   "metadata": {},
   "source": [
    "***\n",
    "## END"
   ]
  },
  {
   "cell_type": "markdown",
   "id": "f1291269",
   "metadata": {},
   "source": [
    "< [Table of Contents](#top) | [Abstract](#abstract) | [Introduction](#introduction) | [Conclusion](#conclusion) | [References](#references) >\n",
    "<a id=\"solution\"></a>\n",
    "***\n",
    "## Solution\n",
    "***"
   ]
  },
  {
   "cell_type": "markdown",
   "id": "6ee51fa4",
   "metadata": {},
   "source": [
    "&#x1F6A7;"
   ]
  },
  {
   "cell_type": "markdown",
   "id": "681a4f11",
   "metadata": {},
   "source": [
    "<!-- - refer [Appendix](#appendix-df) to view the full dataset <a id=\"go-back-df\"></a> -->\n",
    "<!-- print(fGetModuleType(___x___),fDocumentation(___x___)) -->\n",
    "***\n",
    "## END"
   ]
  },
  {
   "cell_type": "markdown",
   "id": "28e9ffc8",
   "metadata": {},
   "source": [
    "< [Table of Contents](#top) | [Abstract](#abstract) | [Introduction](#introduction) | [Solution](#solution) | [References](#references) >\n",
    "<a id=\"conclusion\"></a>\n",
    "***\n",
    "## Conclusion\n",
    "***"
   ]
  },
  {
   "cell_type": "markdown",
   "id": "56d5e2c1",
   "metadata": {},
   "source": [
    "&#x1F6A7;"
   ]
  },
  {
   "cell_type": "markdown",
   "id": "840b765a",
   "metadata": {},
   "source": [
    "***\n",
    "## END"
   ]
  },
  {
   "cell_type": "markdown",
   "id": "e0e42d51",
   "metadata": {},
   "source": [
    "< [Table of Contents](#top) | [Abstract](#abstract) | [Introduction](#introduction) | [Solution](#solution) | [Conclusion](#conclusion) | [References](#references) >\n",
    "<a id=\"references\"></a>\n",
    "***\n",
    "## References\n",
    "***\n",
    "&nbsp;&nbsp;&nbsp;&nbsp;&nbsp;&nbsp;&nbsp;&nbsp;&nbsp;[1] I. McLoughlin, \"Introduction to sklearn,\" GMIT, October 2018.\n",
    "\n",
    "&nbsp;&nbsp;&nbsp;&nbsp;&nbsp;&nbsp;&nbsp;&nbsp;&nbsp;[2] I. McLoughlin, \"Overview of scikit-learn,\" GMIT, November 2020.\n",
    "\n",
    "&nbsp;&nbsp;&nbsp;&nbsp;&nbsp;&nbsp;&nbsp;&nbsp;&nbsp;[3] I. McLoughlin, \"KMeans clustering,\" GMIT, November 2020.\n",
    "\n",
    "&nbsp;&nbsp;&nbsp;&nbsp;&nbsp;&nbsp;&nbsp;&nbsp;&nbsp;[4] I. McLoughlin, \"K-means - using your own dataset,\" GMIT, November 2020.\n",
    "\n",
    "&nbsp;&nbsp;&nbsp;&nbsp;&nbsp;&nbsp;&nbsp;&nbsp;&nbsp;[5] I. McLoughlin, \"Using k nearest neighbours in sklearn,\" GMIT, October 2018.\n",
    "\n",
    "&nbsp;&nbsp;&nbsp;&nbsp;&nbsp;&nbsp;&nbsp;&nbsp;&nbsp;[6] I. McLoughlin, \"Making predictions in sklearn,\" GMIT, October 2018."
   ]
  },
  {
   "cell_type": "markdown",
   "id": "b33c372a",
   "metadata": {},
   "source": [
    "***\n",
    "## END"
   ]
  },
  {
   "cell_type": "markdown",
   "id": "e5961b4d",
   "metadata": {},
   "source": [
    "< [Table of Contents](#top) | [Abstract](#abstract) | [Introduction](#introduction) | [Solution](#solution) | [Conclusion](#conclusion) | [References](#references) >\n",
    "<a id=\"appendix\"></a>\n",
    "***\n",
    "## Appendix\n",
    "***"
   ]
  },
  {
   "cell_type": "markdown",
   "id": "00d82a82",
   "metadata": {},
   "source": [
    "***\n",
    "## END"
   ]
  },
  {
   "cell_type": "markdown",
   "id": "899c1783",
   "metadata": {},
   "source": [
    "# END JUPYTER NOTEBOOK"
   ]
  }
 ],
 "metadata": {
  "kernelspec": {
   "display_name": "Python 3",
   "language": "python",
   "name": "python3"
  },
  "language_info": {
   "codemirror_mode": {
    "name": "ipython",
    "version": 3
   },
   "file_extension": ".py",
   "mimetype": "text/x-python",
   "name": "python",
   "nbconvert_exporter": "python",
   "pygments_lexer": "ipython3",
   "version": "3.8.8"
  }
 },
 "nbformat": 4,
 "nbformat_minor": 5
}
