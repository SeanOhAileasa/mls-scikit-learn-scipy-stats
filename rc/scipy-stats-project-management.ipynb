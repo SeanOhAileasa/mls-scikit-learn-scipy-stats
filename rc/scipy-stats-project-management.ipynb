{
 "cells": [
  {
   "cell_type": "markdown",
   "id": "616b0550",
   "metadata": {},
   "source": [
    "***\n",
    "< [GMIT Data Analytics](https://web.archive.org/web/20201029063153/https://www.gmit.ie/computer-science-and-applied-physics/higher-diploma-science-computing-data-analytics-ict) | [Home](https://github.com/SeanOhAileasa) | [README](https://github.com/SeanOhAileasa/mls-scikit-learn-scipy-stats/blob/main/README.md) >\n",
    "\n",
    "[![GMIT](https://github.com/SeanOhAileasa/SeanOhAileasa/blob/master/rc/gmit.png?raw=true)](https://web.archive.org/web/20201029063153/https://www.gmit.ie/computer-science-and-applied-physics/higher-diploma-science-computing-data-analytics-ict)\n",
    "\n",
    "## Machine Learning & Statistics, Winter 21/22\n",
    "### Due: last commit on or before January 2nd, 2022\n",
    "### Topic: [``scipy-stats``](https://nbviewer.jupyter.org/github/SeanOhAileasa/mls-scikit-learn-scipy-stats/blob/main/scipy-stats.ipynb)\n",
    "***"
   ]
  },
  {
   "cell_type": "markdown",
   "id": "d1f412a7",
   "metadata": {},
   "source": [
    "<a id=\"ppmTOC\"></a>\n",
    "< [Table of Contents](#top) > < [Instructions](#instructions)&nbsp;&nbsp;|&nbsp;&nbsp;[Structure](#structure) > < [Abstract](#abstract) > < [Introduction](#introduction)&nbsp;&nbsp;:&nbsp;&nbsp;[Sampling](#introductionScenario)&nbsp;&nbsp;|&nbsp;&nbsp;[``scipy.stats``](#solutionttest)&nbsp;&nbsp;|&nbsp;&nbsp;[Multiple Samples](#solutionMultipleSamples) > < [Solution](#solution)&nbsp;&nbsp;:&nbsp;&nbsp;[``ANOVA``](#solutionANOVA)&nbsp;&nbsp;|&nbsp;&nbsp;[Flavors of Cacao](#solutionANOVAOnewayflavorsofcacao) > < [Conclusion](#conclusion) > < [References](#references) > < [Appendix](#appendix)&nbsp;&nbsp;|&nbsp;&nbsp;[Project Management](#ppmTOC) >\n",
    "***\n",
    "### Project Management\n",
    "***\n",
    "* [Propose](#ppmPropose) &#x1F4CC; <br/><br/>\n",
    "* [Revision](#ppmRevert) &#x1F4CC; <br/><br/>\n",
    "* [Commit](#ppmCommit) <br/><br/>\n",
    "    * [History](#ppmCommitHistory) <br/><br/>\n",
    "* [Planning](#ppmPlanning) <br/><br/>\n",
    "    * [Research](#ppmGettingStartedResearch) <br/><br/>\n",
    "    * [Development](#ppmGettingStartedDevelopment) <br/><br/>\n",
    "    * [Consistency](#ppmGettingStartedConsistency) <br/><br/>\n",
    "    * [Documentation](#ppmGettingStartedDocumentation) <br/><br/>\n",
    "* [Considerations](#considerations) <br/><br/>\n",
    "    * [Coding Conventions](#codingConventions) <br/><br/>\n",
    "    * [Getting Referenced Website Publishing Date](#considerationsGettingReferencedWebsitePublishingDate) <br/><br/>\n",
    "* [Outstanding](#outstanding) <br/><br/>\n",
    "    * [Day:55 - Day:45](#outstandingUnforeseenCircumstances) &#x1F4CC; <br/><br/>\n",
    "    * [DAY:30 - Day:21](#outstandingday30) <br/><br/>\n",
    "    * [DAY:20 - Day:10](#outstandingday20today10) &#x1F4CC; <br/><br/>    \n",
    "    * [DAY:20 - Day:01](#outstandingday20) <br/><br/>\n",
    "    * [DAY:15 - Day:01](#outstandingday15)"
   ]
  },
  {
   "cell_type": "markdown",
   "id": "c6ff9f2d",
   "metadata": {},
   "source": [
    "<hr width=50%;>"
   ]
  },
  {
   "cell_type": "markdown",
   "id": "c8064e70",
   "metadata": {},
   "source": [
    "<a id=\"ppmPropose\"></a>\n",
    "< [Table of Contents](#top) > < [Instructions](#instructions)&nbsp;&nbsp;|&nbsp;&nbsp;[Structure](#structure) > < [Abstract](#abstract) > < [Introduction](#introduction)&nbsp;&nbsp;:&nbsp;&nbsp;[Sampling](#introductionScenario)&nbsp;&nbsp;|&nbsp;&nbsp;[``scipy.stats``](#solutionttest)&nbsp;&nbsp;|&nbsp;&nbsp;[Multiple Samples](#solutionMultipleSamples) > < [Solution](#solution)&nbsp;&nbsp;:&nbsp;&nbsp;[``ANOVA``](#solutionANOVA)&nbsp;&nbsp;|&nbsp;&nbsp;[Flavors of Cacao](#solutionANOVAOnewayflavorsofcacao) > < [Conclusion](#conclusion) > < [References](#references) > < [Appendix](#appendix)&nbsp;&nbsp;|&nbsp;&nbsp;[Project Management](#ppmTOC) >\n",
    "***\n",
    "###### Propose\n",
    "***"
   ]
  },
  {
   "cell_type": "markdown",
   "id": "99eb0e32",
   "metadata": {},
   "source": [
    "- tidy existing work with additional content where appropriate to finalise that section (subsection/code etc.)"
   ]
  },
  {
   "cell_type": "markdown",
   "id": "043d6f3c",
   "metadata": {},
   "source": [
    "- units of work completed on this Jupyter Notebook thus far could have been split into several individual commits - each commit will now represent an appropriate unit of work and where possible complete particular section (subsection/code etc) it represents"
   ]
  },
  {
   "cell_type": "markdown",
   "id": "22c049cc",
   "metadata": {},
   "source": [
    "<a id=\"ppmRevert\"></a>\n",
    "< [Table of Contents](#top) > < [Instructions](#instructions)&nbsp;&nbsp;|&nbsp;&nbsp;[Structure](#structure) > < [Abstract](#abstract) > < [Introduction](#introduction)&nbsp;&nbsp;:&nbsp;&nbsp;[Sampling](#introductionScenario)&nbsp;&nbsp;|&nbsp;&nbsp;[``scipy.stats``](#solutionttest)&nbsp;&nbsp;|&nbsp;&nbsp;[Multiple Samples](#solutionMultipleSamples) > < [Solution](#solution)&nbsp;&nbsp;:&nbsp;&nbsp;[``ANOVA``](#solutionANOVA)&nbsp;&nbsp;|&nbsp;&nbsp;[Flavors of Cacao](#solutionANOVAOnewayflavorsofcacao) > < [Conclusion](#conclusion) > < [References](#references) > < [Appendix](#appendix)&nbsp;&nbsp;|&nbsp;&nbsp;[Project Management](#ppmTOC) >\n",
    "***\n",
    "###### Revision\n",
    "***"
   ]
  },
  {
   "cell_type": "markdown",
   "id": "9e74a4ba",
   "metadata": {},
   "source": [
    "- requiring revision:\n",
    "\n",
    "\n",
    "- [1](#revert1) - hypothesis testing blurb\n",
    "\n",
    "\n",
    "- [2](#revert2) - alternative hypothesis blurb\n",
    "\n",
    "\n",
    "- [3](#revert2) - null hypothesis acceptance blurb\n",
    "\n",
    "\n",
    "- [4](#revert4) - sample versus population blurb\n",
    "\n",
    "\n",
    "- [5](#revert5) - statistic calcultation commentary and maybe additional blurb\n",
    "\n",
    "\n",
    "- [6](#revert6) - significance tests blurb \n",
    "\n",
    "\n",
    "- [7](#revert7) - further investigation blurb \n",
    "\n",
    "```html\n",
    "<a id=\"revert___\"></a>\n",
    "```"
   ]
  },
  {
   "cell_type": "markdown",
   "id": "260ddf86",
   "metadata": {},
   "source": [
    "<a id=\"ppmCommit\"></a>\n",
    "< [Table of Contents](#top) > < [Instructions](#instructions)&nbsp;&nbsp;|&nbsp;&nbsp;[Structure](#structure) > < [Abstract](#abstract) > < [Introduction](#introduction)&nbsp;&nbsp;:&nbsp;&nbsp;[Sampling](#introductionScenario)&nbsp;&nbsp;|&nbsp;&nbsp;[``scipy.stats``](#solutionttest)&nbsp;&nbsp;|&nbsp;&nbsp;[Multiple Samples](#solutionMultipleSamples) > < [Solution](#solution)&nbsp;&nbsp;:&nbsp;&nbsp;[``ANOVA``](#solutionANOVA)&nbsp;&nbsp;|&nbsp;&nbsp;[Flavors of Cacao](#solutionANOVAOnewayflavorsofcacao) > < [Conclusion](#conclusion) > < [References](#references) > < [Appendix](#appendix)&nbsp;&nbsp;|&nbsp;&nbsp;[Project Management](#ppmTOC) >\n",
    "***\n",
    "###### Commit\n",
    "***"
   ]
  },
  {
   "cell_type": "code",
   "execution_count": 1,
   "id": "94425c15",
   "metadata": {},
   "outputs": [
    {
     "name": "stdout",
     "output_type": "stream",
     "text": [
      "02 Jan 2022 21:40:30\n"
     ]
    }
   ],
   "source": [
    "%%script bash\n",
    "date"
   ]
  },
  {
   "cell_type": "markdown",
   "id": "541178da",
   "metadata": {},
   "source": [
    "```python\n",
    "\"HOURS:2 - [Notebook: scikit-learn]: Complete and ready for submission.\"\n",
    "```"
   ]
  },
  {
   "cell_type": "markdown",
   "id": "e0adbb7d",
   "metadata": {},
   "source": [
    "<a id=\"ppmCommitHistory\"></a>\n",
    "< [Table of Contents](#top) > < [Instructions](#instructions)&nbsp;&nbsp;|&nbsp;&nbsp;[Structure](#structure) > < [Abstract](#abstract) > < [Introduction](#introduction)&nbsp;&nbsp;:&nbsp;&nbsp;[Sampling](#introductionScenario)&nbsp;&nbsp;|&nbsp;&nbsp;[``scipy.stats``](#solutionttest)&nbsp;&nbsp;|&nbsp;&nbsp;[Multiple Samples](#solutionMultipleSamples) > < [Solution](#solution)&nbsp;&nbsp;:&nbsp;&nbsp;[``ANOVA``](#solutionANOVA)&nbsp;&nbsp;|&nbsp;&nbsp;[Flavors of Cacao](#solutionANOVAOnewayflavorsofcacao) > < [Conclusion](#conclusion) > < [References](#references) > < [Appendix](#appendix)&nbsp;&nbsp;|&nbsp;&nbsp;[Project Management](#ppmTOC) >\n",
    "***\n",
    "###### History\n",
    "***"
   ]
  },
  {
   "cell_type": "code",
   "execution_count": 2,
   "id": "3d2762da",
   "metadata": {},
   "outputs": [],
   "source": [
    "%%script bash\n",
    "git log>../rc/log.txt"
   ]
  },
  {
   "cell_type": "code",
   "execution_count": 3,
   "id": "70c6b0f9",
   "metadata": {},
   "outputs": [],
   "source": [
    "scipy_stats_commits,scikit_learn_commits=0,0 # number of commits\n",
    "with open(r\"../rc/log.txt\",\"r\") as f: # open ready only\n",
    "    data=f.read() # read file contents\n",
    "    scipy_stats_commits=data.count(\"[Notebook: scipy-stats]\") # capture scipy-stats count\n",
    "    scikit_learn_commits=data.count(\"[Notebook: scikit-learn]\") # capture scikit-learn count"
   ]
  },
  {
   "cell_type": "code",
   "execution_count": 4,
   "id": "c06054b3",
   "metadata": {},
   "outputs": [
    {
     "data": {
      "image/png": "[encoded data removed]",
      "text/plain": [
       "<Figure size 432x288 with 1 Axes>"
      ]
     },
     "metadata": {},
     "output_type": "display_data"
    }
   ],
   "source": [
    "import datetime\n",
    "\n",
    "now=datetime.datetime.now() # capture current date\n",
    "due=datetime.datetime(2022,1,2) # assessment due date\n",
    "delta=due-now # count days outstanding\n",
    "\n",
    "import matplotlib.pyplot as plt\n",
    "\n",
    "plt.rcParams[\"text.color\"]=\"r\" # chart text colour\n",
    "# plt.rcParams[\"figure.figsize\"]=12.8,7.2 # rc chart size\n",
    "plt.rcParams[\"savefig.format\"]=\"png\" # chart image format\n",
    "\n",
    "l=f\"scikit-learn ({scikit_learn_commits})\",f\"scipy-stats ({scipy_stats_commits})\" # notebook plus count\n",
    "s=[scikit_learn_commits,scipy_stats_commits] # pie chart size\n",
    "c=[\"green\",\"orange\"] # pie chart colours\n",
    "e=(0.25,0) # explode first slice\n",
    "plt.title(f\"Assessment Due: {delta.days} Days\")\n",
    "plt.pie(x=s,explode=e,labels=l,colors=c,autopct='%.0f%%',shadow=True,startangle=240) # actual pie chart\n",
    "plt.axis('equal')\n",
    "plt.savefig(fname=\"../rc/history\"); #,format=\"png\");"
   ]
  },
  {
   "cell_type": "code",
   "execution_count": 5,
   "id": "68efe8fe",
   "metadata": {
    "scrolled": false
   },
   "outputs": [
    {
     "name": "stdout",
     "output_type": "stream",
     "text": [
      "commit 0e7b0184c8e1b471e8ed055b3ec95e349c86dbca\n",
      "Author: unknown <seanohaileasa@protonmail.com>\n",
      "Date:   Sun Jan 2 21:08:44 2022 +0000\n",
      "\n",
      "    HOURS:3 - [Notebook: scipy-stats]: Reviewed and complete. (Project Management) Move to ./rc for reference purposes only. (Propose) Add blurb to section - Conclusion.\n",
      "\n",
      "commit ba208a39f874712c184c13e6b8472d89f7268b3d\n",
      "Author: unknown <seanohaileasa@protonmail.com>\n",
      "Date:   Sun Jan 2 20:48:23 2022 +0000\n",
      "\n",
      "    HOURS:3 - [Notebook: scikit-learn]: Complete and ready for submission.\n",
      "\n",
      "commit 3dc54347cad976d7c06e603c56f9ad57af20ba9d\n",
      "Author: unknown <seanohaileasa@protonmail.com>\n",
      "Date:   Sun Jan 2 19:43:04 2022 +0000\n",
      "\n",
      "    HOURS:4 - [Notebook: scikit-learn]: (Solution) Subsection - Clustering - reviewed and complete. (Project Management) Move to ./rc for reference purposes only. (Propose) Add blurb to section - Conclusion.\n",
      "\n",
      "commit 7f23fdc1c3026674fbde13279464fdbaaf4e175f\n",
      "Author: unknown <seanohaileasa@protonmail.com>\n",
      "Date:   Sun Jan 2 18:34:31 2022 +0000\n",
      "\n",
      "    HOURS:5 - [Notebook: scikit-learn]: (Solution) Subsection - Classification - reviewed and complete. (Propose) Review subsection - Clustering.\n",
      "\n",
      "commit 7bdbde327492b632381663e9326eb8a92b259178\n",
      "Author: unknown <seanohaileasa@protonmail.com>\n",
      "Date:   Sun Jan 2 16:38:40 2022 +0000\n",
      "\n",
      "    HOURS:7 - [Notebook: scikit-learn]: (Solution) Subsection - Regression - reviewed and complete. (Propose) Review subsection - Classication.\n",
      "\n",
      "commit 6524cbcaad3b1ced0627274a3a2d09f8b6b8cd2a\n",
      "Author: unknown <seanohaileasa@protonmail.com>\n",
      "Date:   Sun Jan 2 11:08:50 2022 +0000\n",
      "\n",
      "    HOURS:11 - [Notebook: scikit-learn]: (Project Management) Closer to the submission deadline, proposed collecting and reviewing all material regarding this Jupyter Notebook closer to the submission deadline. However, given the breadth of material and detail, I decided against this approach. Mindful of consistency, reviewing each section (and subsection - Regression - Classification - Clustering) before summarising in section - Conclusion. Each reviewed section will form a commit to signify sign-off for submission. (Instructions) Tidy. (Structure) Tidy. (Packages) Add section - Packages - for easy reference to the python libraries/modules used. (Abstract) Resize core machine learning problems map. (Introduction) Using the women dataset, removed simulated dataset - reviewed and ready for submission.\n",
      "\n",
      "commit 0c9a2512522b011464f69eaa005d72d6d5dc41a5\n",
      "Author: unknown <seanohaileasa@protonmail.com>\n",
      "Date:   Wed Dec 29 17:56:15 2021 +0000\n",
      "\n",
      "    DAY:3 - [Notebook: scipy-stats]: (Last Commit) Had set up the Flavors of Cacao dataset to apply ANOVA but now changed approach in demonstrating the technique. (Abstract/Introduction/Solution) Reviewed Jupyter Notebook thus far, making minor changes such as changing the sample mean representation (correct Roman format). (Solution) ANOVA is implemented on the Flavors of Cacao dataset, following the same approach as the mussel Mytilus trossulus in the scipy.stata documentation code. (Propose) i. finish section - Structure - and add a reference to the documentation explaining p-value introduced throughout the Notebook (remind the reader of the default hypothesis); ii. start and finish section - Conclusion. I cannot envision new material will be added at this late stage but will add any shortcoming in the section - Conclusion.\n",
      "\n",
      "commit c7ce18159c58358f36bc18e69e9426506b68dc6c\n",
      "Author: unknown <seanohaileasa@protonmail.com>\n",
      "Date:   Sun Dec 26 21:46:57 2021 +0000\n",
      "\n",
      "    DAY:6 - [Notebook: scipy-stats]: (Last Commit) Add to subsection - Abstract - blurb promoting the case for learning the theory of statistics and the application via python all as one. (Solution) Set up the Flavors of Cacao dataset to apply ANOVA. (Propose) Finish ANOVA analyse.\n",
      "\n",
      "commit 7f586a7fef1938f5b8ab539830d52742366e907d\n",
      "Author: unknown <seanohaileasa@protonmail.com>\n",
      "Date:   Fri Dec 24 19:42:56 2021 +0000\n",
      "\n",
      "    DAY:8 - [Notebook: scipy-stats]: (Project Management) Add subsection - Propose - for strategy before the submission date. Add subsection - Revision - links to specific content requiring review before submission. In addition, updating subsection - Outstanding. (Abstract) Considered complete and satisfies the assessment specification for a clear and concise overview of the scipy-stats Python library. (Propose) Finish section - ANOVA - then systematically review the remainder of the Jupyter Notebook (adding features to improve shortcomings.\n",
      "\n",
      "commit a6eadb01f78811e273d0c6102cfc94368c9ec462\n",
      "Author: unknown <seanohaileasa@protonmail.com>\n",
      "Date:   Fri Dec 24 11:28:17 2021 +0000\n",
      "\n",
      "    DAY:8 - [Notebook: scipy-learn]: (Last Commit) README requires revision: i. Description; ii. Conclusion (plus Troubleshooting/Credits/Contact and anything else deemed appropriate for submission) - revert [DAY:2,0). (Project Management) Add subsection - Propose - for strategy before the submission date. Add subsection - Revision - links to specific content requiring review before submission. In addition, updating subsection - Outstanding. (Abstract) Add a blurb about machine learning and the vector space model. Briefly introducing supervised (classification) and unsupervised (clustering) learning and its various utility tools: i. convert the data into the vector space model, then apply machine learning and iiiâ€”performance evaluation via metrics. The abstract is considered complete and satisfies the assessment specification for a clear and concise overview of the scikit-learn Python library. (Propose). Systematically reviewing the remainder of the Jupyter Notebook and adding features to improve shortcomings.\n",
      "\n",
      "commit 20c2c021fc9c55e9a2abd2f8470f922e162a1ea8\n",
      "Author: unknown <seanohaileasa@protonmail.com>\n",
      "Date:   Thu Dec 16 21:41:10 2021 +0000\n",
      "\n",
      "    DAY:16 - [README]: Assessment README file structure in place. Add a blurb about: i. the Machine Learning & Statistics module learning outcomes; ii. motivating the use of the Binder interactive environment; iii. tidied assessment instructions section; iv adding subheading include motivation, description, conclusion, installation, troubleshoot, credits and contact details. (Propose) will revert to the README periodically until the deadline. In the interim, the bulk of the assessment is to be complete from day 10 (22nd December 2021), which is the Multi-paradigm Programming module assessment deadline).\n",
      "\n",
      "commit 238c6a8ef59b5ad63627b98a3b6a88801d2aa290\n",
      "Author: unknown <seanohaileasa@protonmail.com>\n",
      "Date:   Sun Dec 12 23:49:31 2021 +0000\n",
      "\n",
      "    DAY:20 - [Notebook: scipy-learn]: Tidy notebook: i. moving section - Project Management - to section - Appendix; ii. update section - Instructions - adding blurb about the project requirements and objective plus marking scheme; iii. section - Structure - to later add blurb; iv. section - Table of Contents - referencing all headings; v. add a quick link to every heading and subheading for easy movement. (Propose) Reviewing and update ``README.md``.\n",
      "\n",
      "commit 43fb10df172e22c30cd8ad23cded649337cbd7b5\n",
      "Author: unknown <seanohaileasa@protonmail.com>\n",
      "Date:   Thu Dec 9 12:28:44 2021 +0000\n",
      "\n",
      "    DAY:23 - [Notebook: scipy-learn]: Tidy notebook: i. moving section - Project Management - to section - Appendix; ii. update section - Instructions - adding blurb about the project requirements and objective plus marking scheme; iii. update section - Structure - adding blurb about initial project proposal and structure from now on; iv. section - Table of Contents - referencing subheadings only (each subsection has its table of contents); v. add a quick link to every heading and subheading for easy movement. (Propose) Tidy notebook (scipy-stats) with a similar structure as ``scikit-learn`` and review ``README.md``.\n",
      "\n",
      "commit 20d71f3573d2678245408d1eb9f32fe42e832746\n",
      "Author: unknown <seanohaileasa@protonmail.com>\n",
      "Date:   Fri Dec 3 21:23:10 2021 +0000\n",
      "\n",
      "    DAY:29 - [Notebook: scipy-stats]: (Last Commit) Section - Solution - subsection - Process (now called Statistic) manually coded the test statistic - requires revision with plots if remaining in the Notebook. (Solution) Introducing the Flavors of Cacao dataset on which to perform and display the results of ANOVA using scipy.stats. (Propose) Review Section - Solution - subsection - Statistic - before moving on to performing ANOVA on the Flavors of Cacao dataset.\n",
      "\n",
      "commit 8ed69453dee3722352d355ffd56076d268a3187f\n",
      "Author: unknown <seanohaileasa@protonmail.com>\n",
      "Date:   Thu Dec 2 20:35:02 2021 +0000\n",
      "\n",
      "    DAY:30 - [Notebook: scipy-stats]: (Last Commit) Section - Solution - subsection - ANOVA - the blurb is sparse (may update later) but in the interim will build upon by reviewing the Handbook of Biological Statistics (One-way ANOVA) from John H. McDonald. Documentation also includes example code for multidimensional input - refer Section - Project Management - revert [DAY:15,0). (Solution) Add a blurb about one-way ANOVA detailing appropriate variables for use. Add subsection - Process - manually coding the test statistic. Presentation requires revision with plots and explanation (might later remove as it could introduce confusion). (Propose) If the subsection - Process - remain, then endeavour to find an appropriate dataset and perform ANOVA.\n",
      "\n",
      "commit 9e0a47c5035c91666c8169747f998a69cbd3919e\n",
      "Author: unknown <seanohaileasa@protonmail.com>\n",
      "Date:   Tue Nov 30 20:59:27 2021 +0000\n",
      "\n",
      "    DAY:32 - [Notebook: scipy-stats]: (Last Commit) Add scipy.stat.f_oneway documentation via docstring for additional information about ANOVA and its important assumptions. (Solution) Hacked example code from the scipy.stats.f_oneway documentation. Determined the null hypothesis to be disproved and alternative hypothesis and thereafter performed ANOVA. (Propose) To: i. review the Handbook of Biological Statistics from John H. McDonald, the goto reference in the scipy.stats.f_oneway documentation and ii. find an appropriate dataset to perform ANOVA (as per assessment specification).\n",
      "\n",
      "commit 7030e5569c9cd40eec56e707e5acb4e06f7bd743\n",
      "Author: unknown <seanohaileasa@protonmail.com>\n",
      "Date:   Mon Nov 29 17:00:22 2021 +0000\n",
      "\n",
      "    **ASSESSMENT DUE DATE EXTENDED TO JANUARY 2nd 2022** DAY:33 - [Notebook: scipy-stats]: (Last Commit) Amend subsection - Multiple Samples - for ease of readability and reference: i. tidy blurb about the generation of the collections (including new sample) and ii. add null hypothesis notation with the tag number and appropriate wording for the alternative hypothesis (should not have a notation). The last commit introduced ANOVA without detail (now moving towards section - Solution). (Propose) Hacking example code from the scipy.stats.f_oneway documentation before moving analysis a dataset.\n",
      "\n",
      "commit aa31cc24e8c8bbe4e12607cf565990e3ace3a709\n",
      "Author: unknown <seanohaileasa@protonmail.com>\n",
      "Date:   Thu Nov 25 21:51:55 2021 +0000\n",
      "\n",
      "    DAY:23 - [Notebook: scipy-stats]: (Last Commit) No commentary. (Introduction) Add a blurb about ANOVA. Applied ANOVA to three samples. Although similar to the t-test the ANOVA compares samples in parallel and still allows for a p-value cutoff of 0.05. (Propose) Expanding on the ANOVA function f_oneway using the code from the scipy documentation and obtain an appropriate dataset for section - Solution.\n",
      "\n",
      "commit 5783a8d6e4da6272a6fe4fe461c94e526eb31de9\n",
      "Author: unknown <seanohaileasa@protonmail.com>\n",
      "Date:   Sun Nov 21 20:49:05 2021 +0000\n",
      "\n",
      "    DAY:27 - [Notebook: scipy-stats]: (Last Commit) Changed plot style to ggplot. (Introduction) Add a blurb about hypothesis formulation and the null hypothesis being the assumption to be tested. Introduced the alternative hypothesis being the goal of rejecting the null hypothesis. Highlighting the p-value result of a t-test is about the populations and not just the sample collections used. Also made the error sections more concise, incorporating the null hypothesis and the alternative hypothesis notation (easier to read and follow). (Propose) Move onto section - Solution - introducing ANOVA but first must find an appropriate dataset to analyse.\n",
      "\n",
      "commit 15f56af05a1131c48dd2a33e77b3bf8bb70d1aa1\n",
      "Author: unknown <seanohaileasa@protonmail.com>\n",
      "Date:   Sat Nov 20 20:16:24 2021 +0000\n",
      "\n",
      "    DAY:28 - [Configuration]: Add requirements.txt to enable interactive notebooks via Binder. Add Binder and nbviewer (static view) badges to README.md. Add script (fullscreen.py) to utilise full Jupyter Notebook screen via nbviewer. Move log.txt (git log) to ./rc.\n",
      "\n",
      "commit 2f3dd960e42bf93c1d814c360e91279db9e0bdd5\n",
      "Author: unknown <seanohaileasa@protonmail.com>\n",
      "Date:   Fri Nov 19 22:40:18 2021 +0000\n",
      "\n",
      "    DAY:29 - [Notebook: scipy-stats]: (Last Commit) Add notes for better clarity plus additional plots to distinguish sample versus population. (Introduction) Adding a new collection highlights the limitations of the t-test. Several t-tests in parallel increase the chance of making an error. Samples from the same population using a cut-off result in a high False Positive rate because of repetition. (Propose) Move onto section - Solution - introducing ANOVA.\n",
      "\n",
      "commit 6d4a51254602be1e81efddec87275b758a8b82bc\n",
      "Author: unknown <seanohaileasa@protonmail.com>\n",
      "Date:   Wed Nov 17 21:38:21 2021 +0000\n",
      "\n",
      "    DAY:31 - [Notebook: scikit-learn]: (Last Commit) Using the obtained coefficients via sklearn to perform predictions. (Introduction) Finally, able to take a value on which to make a prediction based on the coefficients (trained dataset) found earlier. Summarised section - Regression - with a blurb about determinism and how the obtained coefficients are more than just data but actually form part of a machine learning function. (Propose) At this stage, the three algorithms of interest have been introduced, albeit revision is required. Propose tidying up the Notebook thus far, making the presentation concise and filling in any blanks. Then proceed with the section - Solution (cyber security). In the interim on Day:30 revisit section - Project Management.\n",
      "\n",
      "commit b6c715003432a3f054236df027adde3fe1b7f28a\n",
      "Author: unknown <seanohaileasa@protonmail.com>\n",
      "Date:   Sun Nov 14 19:01:41 2021 +0000\n",
      "\n",
      "    DAY:34 - [Notebook: scikit-learn]: (Last Commit) Thus far, the actual values from the penguins dataset are fit to the model. (Introduction) Determined the coefficient of determination of the prediction (a measure of how well the lines fits the dataset). Then asked the model for i. the y-intercept (value of y when x is zero) and; ii. the slope or gradient for the coefficients b and m. (Propose) Use the obtained coefficients (parameter p), sklearn found (trained) and pass in the function f to perform the prediction.\n",
      "\n",
      "commit 916cfaf336885ce5102f6f9502bce277b1078f8d\n",
      "Author: unknown <seanohaileasa@protonmail.com>\n",
      "Date:   Fri Nov 12 14:40:47 2021 +0000\n",
      "\n",
      "    DAY:36 - [Notebook: scipy-stats]: (Last Commit) Proposed finally moving onto ANOVA by way of highlighting the limitations of the t-test. Instead have rewritten the whole Notebook completed thus far (except Appendix) to be more concise for ease of readability. Significant amendments include i. denoting repeated terms when first introduced; iiâ€”using equations (with tags for reference); iiiâ€”less repeated commentary. In review/rewriting the Notebook, there were errors in its presentation, albeit all now in order. (Propose) Maintaining same Notebook structure and introducing ANOVA (by way of highlighting the limitations of the t-test (i.e. submitting three or more collections).\n",
      "\n",
      "commit bdaf712045b45f9375af77d4fd7e329968c1e4e4\n",
      "Author: unknown <seanohaileasa@protonmail.com>\n",
      "Date:   Thu Nov 11 20:06:47 2021 +0000\n",
      "\n",
      "    DAY:37 - [Notebook: scikit-learn]: (Last Commit) To start the automation process enlarging the regplot already created. (Introduction) Visually prediction based on minds eye by drawing a straight line vertically from the x-axis stopping at the best fit line and moving across the horizontal. The automation algorithm pairs the x-axis values to the y-axis values to find the relationship between the two collections of numbers. To determine the coefficients (parameters for the best fit line) first manipulated the two collection to ensure the correct ordering of inputs to sklearn (reshape also required due to package techniciallies). Finally fit the actualy values from the dataset to the model. (Propose) Determine the: i. score ii. intercept (b) iii. coeeficients (b & m) in line with the same pattern of the function f (linear model) introduced earlier - f(input, trained).\n",
      "\n",
      "commit 35dc247229a9194e56995221670982dd75212276\n",
      "Author: unknown <seanohaileasa@protonmail.com>\n",
      "Date:   Tue Nov 9 20:03:44 2021 +0000\n",
      "\n",
      "    DAY:39 - [Notebook: scikit-learn]: (Last Commit) Appropriately concise given introduction albeit the section - Introduction - does require revision before proceeding to section - Solution (cybersecurity-related). (Introduction) Extracted columns under investigation, creating a new DataFrame. Using the seaborn function regplot to i. plot the data extracted and ii. produce a linear regression model fit. (Propose) Automating the predictions by following the process outlined in the section - Preface - using package sklearn.\n",
      "\n",
      "commit 3c9502f057c356eda8ffb471fc375b14a8a90445\n",
      "Author: unknown <seanohaileasa@protonmail.com>\n",
      "Date:   Mon Nov 8 20:35:21 2021 +0000\n",
      "\n",
      "    DAY:40 - [Notebook: scipy-stats]: (Last Commit) No comment. (Appendix) Completed t-test on the real-world sleep dataset. The dataset consists of two groups with a before measurement and an after intervention measurement. It is tested with a 0.5 confidence level to determine a difference between the two groups (drugs). (Propose) Introducing ANOVA (by way of highlighting the limitations of the t-test (i.e. submitting three or more collections).\n",
      "\n",
      "commit f926577805b810ceb8bfc3ee24022954fecfab4a\n",
      "Author: unknown <seanohaileasa@protonmail.com>\n",
      "Date:   Mon Nov 8 20:07:34 2021 +0000\n",
      "\n",
      "    DAY:40 - [Notebook: scipy-stats]: (Last Commit) Similiar to the previous commit reviewed the remainder of the Notebook (subsection - Error). Day: 45 proposed reviewing Notebook due to delays and being behind schedule. Notebook is now up to date with further explanatory blurbs to better understand concepts (ready to proceed with new content). (Introduction) Add blurbs to subsection - Error. (Propose) i. Doing a t-test on a real-world dataset but for the moment adding to the Appendix (with the option to remove later if deemed appropriate). ii. Introducing ANOVA (by way of highlighting the limitations of the t-test (i.e. submitting three or more collections).\n",
      "\n",
      "commit 40dbbce75b89ec27de5c29427db1c183168c8670\n",
      "Author: unknown <seanohaileasa@protonmail.com>\n",
      "Date:   Mon Nov 8 19:26:08 2021 +0000\n",
      "\n",
      "    DAY:40 - [Notebook: scipy-stats]: (Last Commit) Proposed to continue reviewing the Notebook in the same fashion as the last commit before moving on to introducing ANOVA. (Introduction) Add blurbs to subsection - Scipy Stats - and capture the appropriate section of package/function documentation introduced into the Notebook for ease of readability and understanding without the need for explanation. Removed reference to statsmodels.stats as it thus far was used to verify the return values from scipy.stats.ttest_ind plus return the degrees of freedom (which is trivial to calculate). (Propose) Continue reviewing the Notebook in the same fashion (subsection - Error) before moving on to introducing ANOVA (by way of highlighting the limitations of the t-test.\n",
      "\n",
      "commit 20bbb54d7caf9b36689056f104e07ae4153bf04d\n",
      "Author: unknown <seanohaileasa@protonmail.com>\n",
      "Date:   Sun Nov 7 21:13:49 2021 +0000\n",
      "\n",
      "    DAY:41 - [Notebook: scipy-stats]: (Last Commit) Proposed reviewing the Notebook thus far before proceeding to ANOVA. (Introduction) Add blurbs to subsection - Simulation - and capture the appropriate section of package/function documentation introduced into the Notebook for ease of readability and understanding without the need for explanation. (Propose) Continue reviewing the Notebook in the same fashion before moving on to introducing ANOVA.\n",
      "\n",
      "commit 93630bc92cb0a1e292de9e4913893293f3def6c8\n",
      "Author: unknown <seanohaileasa@protonmail.com>\n",
      "Date:   Sat Nov 6 21:03:21 2021 +0000\n",
      "\n",
      "    DAY:42 - [Notebook: scikit-learn]: (Last Commit) Introduced the scenario of creating a function passing an argument trained on some pattern to make predictions. Proposed analysing the seaborn package builtin dataset penguins. (Introduction) Loading the penguins dataset creates a DataFrame to analyse the relationship between a penguins body mass and flipper length. Add a pairwise plot of the relationships in the dataset to highlight characteristics. Proposing to analyse the relationship between body mass and flipper length given the visual appearance of a line on the plot. (Propose) Extract variables of interest and plot the line.\n",
      "\n",
      "commit 9473e7ba68427459945912f995f8a85f896547d6\n",
      "Author: unknown <seanohaileasa@protonmail.com>\n",
      "Date:   Sat Nov 6 20:32:37 2021 +0000\n",
      "\n",
      "    DAY:42 - [Notebook: scikit-learn]: (Last Commit) The preface requires revision. (Introduction) Add a blurb about creating a function that takes the input to make a prediction based on an observed pattern from which the input will be trained. The trained collection of pattern values used on the input will provide predictions (asking given the input what the output is). The idea behind machine learning is often to predict something. (Propose) Using the seaborn package built-in dataset, penguins training a simple model by analysing the relationship between a penguins body mass and flipper length. In the interim to first analysis the dataset penguins.\n",
      "\n",
      "commit 6d168145eea93dd3a2c16b0f632ebab1873308d7\n",
      "Author: unknown <seanohaileasa@protonmail.com>\n",
      "Date:   Thu Nov 4 20:40:47 2021 +0000\n",
      "\n",
      "    DAY:44 - [Notebook: scikit-learn]: (Last Commit) Very rough work in completing the preface (requires revision). (Preface) Add a blurb about regression and how it differs from correlation. Regression indicates how one variable can be predicted from anotherâ€”building upon the earlier extrapolated data with a plot on what to expect from regression analysis. Given assessment is behind schedule moving away from the preface for the moment. (Propose) Move onto regression using scikit-learn without hacking example code from the sklearn documentation given introduction via preface (albeit not finished and requiring revision).\n",
      "\n",
      "commit 76c04b2fd6e45c1a8e0a8671a68267fe663daa26\n",
      "Author: unknown <seanohaileasa@protonmail.com>\n",
      "Date:   Wed Nov 3 17:01:00 2021 +0000\n",
      "\n",
      "    DAY:45 - [Notebook: scipy-stats]: (Last Commit) Fifteen days since the last commit. Proposed moving away from t-tests onto ANOVA but given behind schedule reviewing Notebook before proceeding. (Project Management) Added chart splitting commits completed on both assessment notebooks. Adding title and labels to plots presented thus far. (Propose) Before moving on to introducing ANOVA reviewing the Notebook and filling in any blank.\n",
      "\n",
      "commit d90a162b41cbe10b40e1b180d410a42a032b5f21\n",
      "Author: unknown <seanohaileasa@protonmail.com>\n",
      "Date:   Sun Oct 31 19:41:21 2021 +0000\n",
      "\n",
      "    DAY:48 - [Notebook: scikit-learn]: (Last Commit) Added labels (x and y) to plot representing height and weight (Preface). (Preface) Adding to data-driven problem introducing Pearson's r correlation and determining both height and weight are positively related and the strength of this relationship is strong. (Propose) Finish preface presentation on how regression differs from correlation and move onto regression via scikit-learn.\n",
      "\n",
      "commit abbee0c9f0840a2f34995798ad94e4c84581398c\n",
      "Author: unknown <seanohaileasa@protonmail.com>\n",
      "Date:   Thu Oct 28 21:04:00 2021 +0100\n",
      "\n",
      "    DAY:51 - [Notebook: scikit-learn]: (Last Commit) Redoing regression introduction presented thus far and presenting it under new section (Preface). (Preface) Presenting a simple (near real-world) data-driven problem demonstrate the practice of i. data collection; ii. descriptive statistics; iii. correlation; iv. data visualisation; v. model building; vi. extrapolation and regression analysis without the use of scikit-learn. (Propose) Building upon the near real-world dataset to introduce Pearson's r correlation and how regression differs from correlation by indicating how a variable can be predicted from another.\n",
      "\n",
      "commit 886cdcbe26318b7e8261d78f0eccb7f2793f29ca\n",
      "Author: unknown <seanohaileasa@protonmail.com>\n",
      "Date:   Wed Oct 27 16:21:37 2021 +0100\n",
      "\n",
      "    DAY:52 - [Notebook: scikit-learn]: (Last Commit) Nearly all of machine learning is a regression in some form. Given its importance, moving the last unit of work (last commit) to a new section. (Project Management) Due to illness, the project is behind schedule (x5 days); therefore, endeavour to submit at least two commits (units of work) per day for the next five days to catch up. (Structure) Included for ease of readability. (Preface) Moving last commit (unit of work) regarding regression to this section. (Propose) Elaborating on the topic of regression (without reference to sklearn) to a simple data-driven problem and introducing basic information where appropriate.\n",
      "\n",
      "commit 83a7aa2e54e21973c2fa019a2fa5209eaa266529\n",
      "Author: SeanOhAileasa <seanohaileasa@protonmail.com>\n",
      "Date:   Fri Oct 22 21:00:13 2021 +0100\n",
      "\n",
      "    DAY:57 - [Notebook: scikit-learn]: (Last Commit) Thus far introduced two algorithms of choice and now moving on to regression. (Introduction) Using a simple plot by way of introducing a regression. Two collections represent two points on the plot. Blurb about the equation of a line as thought in school (given the equation and draw the line) and that regression is the opposite idea whereby not given an equation but given points on the line and then trying to fill in the blanks. (Propose) This is a very light touch introduction to regression.\n",
      "\n",
      "commit b62e5b52a574001c8acb2401d7a1e60676e4d18b\n",
      "Author: SeanOhAileasa <seanohaileasa@protonmail.com>\n",
      "Date:   Wed Oct 20 21:28:39 2021 +0100\n",
      "\n",
      "    DAY:59 - [Notebook: scikit-learn]: (Last Commit) On trained data predictions were incorrect. (Introduction) The three algorithms under investigation are i. classification; ii. regression and iii. clustering - introducing model selection given its appropriate to determine the relationship between the input and output data. In addition, it is also closely related to regression (next algorithm to investigate). Training the KNN on a random selection (75%) and using the remaining data points (25%) to test the classifier. The KNN is predicted from input not seen before. It is important to note rerunning the notebook may produce different results given that the splitting of the overall iris dataset has a random element to it. (Propose) Moving onto regression for completion by day 50 then onto the solution section, introducing the algorithms with cybersecurity in mind (might be a bit ask at this early stage - revert with a decision to proceed).\n",
      "\n",
      "commit 41ecbe211326767bf6b443e63f31f92b4642021d\n",
      "Author: SeanOhAileasa <seanohaileasa@protonmail.com>\n",
      "Date:   Tue Oct 19 19:41:43 2021 +0100\n",
      "\n",
      "    DAY:60 - [Notebook: scipy-stats]: (Last Commit) Run 20000 t-tests instead of 100000. Analyst deems appropriate percentage chance collections are different even if they come from the same central point - adding a blurb about vaccines and changing the percentage chance to something more appropriate. (Introduction) Quantify how often false negatives occur (the power of the test). While false positives (Type I Errors) are built-in false negatives (Type II Errors) depend on the difference between two mean values and are difficult to quantify. (Propose) Moving away from t-tests for the moment to introduce the ANOVA.\n",
      "\n",
      "commit a4d0c622054a1d2a8bcf75c9d04811f82581f337\n",
      "Author: SeanOhAileasa <seanohaileasa@protonmail.com>\n",
      "Date:   Sun Oct 17 21:11:01 2021 +0100\n",
      "\n",
      "    DAY:62 - [Notebook: scipy-stats]: (Last Commit) Reviewed alternative approach in asking the t-test question. (Introduction) Built into statistical tests such as the t-test is the fact a wrong decision may be made. Adding to this such tests try to manage/quantify errors. Running 100000 t-tests and generating two new collections each time having the same central value and giving the t-test a 5% chance of determining both are different (albeit are the same). Rerunning the t-test with different means. These are false positives (Type I Error). It is the analyst who deems what percentage is appropriate to deem both collections are different even if both come from the same central point. (Propose) Moving onto a false negative (Type II Error) which is harder to quantify and depends on how close the means are.\n",
      "\n",
      "commit ad1127f7d408babec9df36bf918cfd1144520556\n",
      "Author: SeanOhAileasa <seanohaileasa@protonmail.com>\n",
      "Date:   Sat Oct 16 20:39:53 2021 +0100\n",
      "\n",
      "    DAY:63 - [Notebook: scipy-stats]: (Last Commit) PDF plot demonstrates what the t-test is checking (if the tips of both curves are at the same point). (Introduction) Brief blurb about assumptions thus far and other possible assumptions that could be made. Introducing a different way of asking the t-test question. Subtracting the centre point of each collection and if the result is zero then both are the same therefore end up with a t-distribution. Getting the t-value (t-statistic) and the critical value used to make a decision (calculation of the t-statistic from the samples). If the probability of seeing such a t-value given the hypothesis that there is no difference between the means then the data is suggesting to reject that hypothesis. (Propose) Built into statistical tests is the fact that a wrong decision may be made. Adding blurb about errors.\n",
      "\n",
      "commit 9e7d0aff1e628ac47c7b9a1f6c224113dcdc6c26\n",
      "Author: SeanOhAileasa <seanohaileasa@protonmail.com>\n",
      "Date:   Thu Oct 14 19:44:45 2021 +0100\n",
      "\n",
      "    DAY:65 - [Notebook: scikit-learn]: (Last Commit) Checked only a small number of predictions. (Introduction) A facet of the classification algorithm it that it does not make the right prediction even for values that it has been trained upon. When comparing the output data series to the KNN classifier predictions it is getting five of the inputs incorrect. It is possible to see why using 2-dimensional plots. The KNN classifier makes the prediction based on the five closest data points in the dataset. (Propose) Even on the trained data it does not make correct predictions. Rebuilding the KNN classifier for input not seen before.\n",
      "\n",
      "commit 5f9edad1059206a4e4f97c5a75ba9331f482c116\n",
      "Author: SeanOhAileasa <seanohaileasa@protonmail.com>\n",
      "Date:   Wed Oct 13 20:19:36 2021 +0100\n",
      "\n",
      "    DAY:66 - [Notebook: scipy-stats]: (Last Commit) Introduced an additional collection for demonstrating when two collections are centred around the same value so that the original collections when first run remain throughout the notebook. (Introduction) In order to interpret what a t-test does plotting the uncertainty (probability density function PDF) when generating numbers in the two normal generated collections. The plot demonstrates the t-test is checking (questions) if the tips of both curves (each collection) are at the same point or not. Additional plot demonstrates when both collections coincide. (Propose) Adding blurb about underlying assumptions and another way of asking the t-test question (if the centre point of each collection is the same or not).\n",
      "\n",
      "commit 7f62028c85d9d3ea948b3ff119b9179dc736f134\n",
      "Author: SeanOhAileasa <seanohaileasa@protonmail.com>\n",
      "Date:   Mon Oct 11 17:13:43 2021 +0100\n",
      "\n",
      "    DAY:68 - [Notebook: scikit-learn]: (Last Commit) The iris dataset is up and running and split between inputs (numeric columns) and output being the class of iris (categorical variable). (Introduction) Building KNN classifier selecting five nearest neighbours. Implementing the KNN vote via parameter n_neighbors determining the majority vote. Then training the classifier on the dataset by giving the classifier the inputs for which the outputs are known. The instance object returned from the classifier (instance of KNN) is fit with the actual data points. This information is used to build up a model of what a class of iris looks like and can make predictions about what a class of iris is based on measuring its sepal length and sepal width and petal length and petal width. Appears to be predicting the correct class for a data point that it already has (easily verifiable). (Propose) Rebuilding the KNN classifier for input not seen before.\n",
      "\n",
      "commit 6f53c678277bc0b27b7c1a217dfea2842c6f87fe\n",
      "Author: SeanOhAileasa <seanohaileasa@protonmail.com>\n",
      "Date:   Sun Oct 10 18:58:02 2021 +0100\n",
      "\n",
      "    DAY:69 - [Notebook: scikit-learn]: (Last Commit) The hacked example code from the sklearn.neighbors.KNeighborsClassifier documentation require revision with the use of plots and further explanation of topics. (Introduction) Instead of simulating a dataset (as done with sklearn.cluster.KMeans) using the famous iris dataset. Making the case for using the dataset based on observations and plots built out. Purpose is to take the values of the four variables (i. sepal length, ii. sepal_width, iii. petal_length and iv. petal_width) to predict the class of iris flower. Separating the data structure (DataFrame created from the dataset) into inputs and outputs in order to train up the KNN algorithm (having a set of inputs for which the outputs are known). (Propose) Building the KNN classifier for a given number of neighbors then training the classifier on the dataset. Fitting inputs (training) and output (targets) then make predictions based on the trained KNN classifier.\n",
      "\n",
      "commit 77f809fe6f8b28a56d863bf2298576e4dd20c166\n",
      "Author: SeanOhAileasa <seanohaileasa@protonmail.com>\n",
      "Date:   Fri Oct 8 20:07:59 2021 +0100\n",
      "\n",
      "    DAY:71 - [Notebook: scikit-learn]: (Last Commit) The sklearn.cluster.KMeans section requires revision but in the meantime moving onto the classification algorithm sklearn.neighbors.KNeighborsClassifier. (Introduction) Hacking the example code from the sklearn.neighbors.KNeighborsClassifier documentation. Short blurb on the data structure representing the KNN algorithm whereby parameter n_neighbors selects the specified number of nearest neighbours. Training the classifier with X for which the y is known. Method fit tells the KNN data structure the actual data point or setup for KNN. The KNN algorithm can make predictions based on the trained KNN classifier. (Propose) Creating a classification simulation with plotting or use the iris dataset to further develop understand of the sklearn.neighbors.KNeighborsClassifier algorithm.\n",
      "\n",
      "commit a50ef7b2591f648d867efcd0117eb211cddc636e\n",
      "Author: SeanOhAileasa <seanohaileasa@protonmail.com>\n",
      "Date:   Thu Oct 7 20:17:02 2021 +0100\n",
      "\n",
      "    DAY:72 - [Notebook: scikit-learn]: (Last Commit) Implemented simulation without analysis. Amendments include: i. tidy table of contents and ii. ensuring function parameter included when appropriate. (Introduction) Following the steps from the reengineered example code from the sklearn.cluster.KMeans documentation introduced sklearn.cluster (without commentary). Plotting the simulation dataset making both clusters identifiable then using new values to make a prediction. Plotting the prediction and the centre KMeans determines are the centre points based on where the points sit on the plot. An additional collection of evenly spaced values is introduced and plot. These dummy points (for classification) are used to highlight the decision boundary from where KMeans determines associated cluster via each cluster centre. (Propose) Thus far touched on the scikit-learn clustering algorithm and requires revision. For the moment going to proceed onto the scikit-learn classification algorithm following the same process as the clustering demonstration. First step is to reengineered example code from the sklearn.neighbors.KNeighborsClassifier documentation.\n",
      "\n",
      "commit b2894f773cff3baf3723936213f52cbbe7b2841d\n",
      "Author: SeanOhAileasa <seanohaileasa@protonmail.com>\n",
      "Date:   Wed Oct 6 21:17:11 2021 +0100\n",
      "\n",
      "    DAY:73 - [Notebook: scikit-learn]: (Last Commit) The reengineered example code from the sklearn.cluster.KMeans documentation requires no further examination. (Introduction) To support the reengineered example code from the sklearn.cluster.KMeans documentation now proceeding with simulating a (generated) dataset. Picked two central points from which two clusters of randomly generated values will be built upon. The process involved: i. stacking the collections on top of each other; ii. merging the two collections and iii. shuffling the values of the final collection so that the groups are not identifiable. Created a plot of the generated dataset without any analysis. (Propose) Thus far each commit in both notebooks is probably representing a number of individual units of work (commits). Propose breaking down units of work given commit history will get unwieldy. Next step will involve using the sklearn.cluster.KMeans on the simulated dataset (similar to the sklearn.cluster.KMeans reengineered documentation code completed prior).\n",
      "\n",
      "commit 6cbed5822725fd9ea2002eba39d1b5d9a5419334\n",
      "Author: SeanOhAileasa <seanohaileasa@protonmail.com>\n",
      "Date:   Tue Oct 5 19:56:46 2021 +0100\n",
      "\n",
      "    DAY:74 - [Notebook: scipy-stats]: (Last Commit) Introductory blurb about the t-test may requires less depth and explanation especially referencing machine learning. Chop to a more concise description - revert [DAY:20,0). (Introduction) Demonstrating the t-test by simulating two collections (random numbers) built upon a specified mean and spread (standard deviation). Creating a data structure (DataFrame) from the generated collections and separating both collections into category. Visualisation of the data structure via categorical plot (seaborn) clearly shows both collections differ. Using two methods (i. scipy.stats and; ii. statsmodels.stats.weightstats) performing the actual t-test (determine the probability that the distribution from which the two generated collections had the same mean). The simulated (generated) collections demonstrate a probability of approximately zero or no chance both collections had an underlying distribution in which both had the same mean value because the simulation was setup like this. Running the statistical tests provide evidence that its reproducibly true. Even when both collections have been setup with the same mean value and if the probability is higher than the p-value cut-off of 5% then the statistical test does not provide any evidence the two collections are not centred around same point.\n",
      "\n",
      "commit bd6a1159a5f1d84326bbe91efc5d5be3a22b9bb1\n",
      "Author: SeanOhAileasa <seanohaileasa@protonmail.com>\n",
      "Date:   Mon Oct 4 21:09:13 2021 +0100\n",
      "\n",
      "    DAY:75 - [Notebook: scipy-stats]: (Last Commit) Introductory blurb about the analysis of variance (ANOVA) requires more depth and explanation - revert [DAY:20,0). (Introduction) Taking a step backwards to introduce the t-test and build upon. Introductory blurb about the old-style statistical test called the t-test provides a grounding in the ideas around machine learning. (Propose) Generating two collections of random numbers and creating a data structure built from both then visualising to determine if both collections differ in general enough to justify saying one collection is different to the other collection.\n",
      "\n",
      "commit cd88af3e23ea5b6c246da885d323f2d4de6ac63d\n",
      "Author: SeanOhAileasa <seanohaileasa@protonmail.com>\n",
      "Date:   Sat Oct 2 21:08:12 2021 +0100\n",
      "\n",
      "    DAY:77 - [Notebook: scikit-learn]: (Last Commit) Reengineered example code from the sklearn.cluster.KMeans documentation to be supported with simulated data before moving onto a real-world implementation (re. Solution). (Introduction) Using matplotlib.pyplot plotting documentation example dataset (converting into an appropriate format beforehand). Once the x and y values are separated the plot appears to support the fact there exists two distinct groups of points. The KMeans algorithm determines if two distinct groups exist (allows for a human to be able to determine). Visually changed the colour of the second cluster to distinct both groups and added two new points to test KMeans. Using the KMeans prediction the new points are coloured according to associated (predicted) cluster. Plotting what the KMeans algorithm took as the centre of each clusters gives an indication how the algorithm came to its prediction. (Propose) Creating a clustering simulation with plotting to further develop understand of the sklearn.cluster.KMeans algorithm.\n",
      "\n",
      "commit d321c05f8ca8b5ac863badd05cd6d18c4b2cf577\n",
      "Author: SeanOhAileasa <seanohaileasa@protonmail.com>\n",
      "Date:   Fri Oct 1 20:35:07 2021 +0100\n",
      "\n",
      "    DAY:78 - [Notebook: scikit-learn]: (Last Commit) Introductory blurbs about scikit-learn and each of the scikit-learn algorithms of interest require more depth and explanation - revert [DAY:20,0). Commit proposes researching classification. This was a typo and should be clustering. (Introduction) Hacking the example code from the sklearn.cluster.KMeans documentation. Short blurb on the parameters of object KMeans (i. n_clusters and ii. random_state) and method fit which computes the k-means clustering. Two clusters specified and the attribute labels_ confirms this. Making a prediction using method predict passing two new points predicts associated cluster. Attribute cluster_centers returns what the KMeans algorithm took as the centre point of each cluster. (Propose) Plotting the dataset X separating the two clusters.\n",
      "\n",
      "commit 60956a92a82d7c3be0b4000db1fe1586cca94034\n",
      "Author: SeanOhAileasa <seanohaileasa@protonmail.com>\n",
      "Date:   Thu Sep 30 21:10:53 2021 +0100\n",
      "\n",
      "    DAY:79 - [Notebook: scipy-stats]: (Last Commit) i. Blank Jupiter notebook created and; ii. submitted GitHub repository URL to GMIT. (Abstract) Brief introductory blurb about the analysis of variance (ANOVA) and its application beyond comparing just two populations (t-test). (Propose) Researching t-tests and especially F-Ratios (central part of ANOVA) before proceeding.\n",
      "\n",
      "commit 023bf6b96aca8dfb2ea833cba6fc6101b8f334ad\n",
      "Author: SeanOhAileasa <seanohaileasa@protonmail.com>\n",
      "Date:   Wed Sep 29 19:44:12 2021 +0100\n",
      "\n",
      "    DAY:80 - [Notebook: scikit-learn]: (Last Commit) i. Blank Jupiter notebook created and; ii. submitted GitHub repository URL to GMIT. (Abstract) Introductory blurb about scikit-learn. (Introduction) Short blurb on each scikit-learn algorithms of interest: i. classification; ii. regression and iii. clustering. Classification thought of in terms of labelling data (e.g., images of hand drawn digits). Regression thought of in terms of fitting a line to a set of points (e.g., all of science). Clustering thought of in terms of grouping like items together (e.g., iris dataset). (Propose) Researching classification by simulating a collection of data and introducing sklearn.cluster.\n",
      "\n",
      "commit 39127b924e9bd70b79bacd7c3abb363390364bb6\n",
      "Author: SeanOhAileasa <seanohaileasa@protonmail.com>\n",
      "Date:   Mon Sep 27 15:42:14 2021 +0100\n",
      "\n",
      "    add repository ./mls-scikit-learn-scipy-stats\n"
     ]
    }
   ],
   "source": [
    "%%script bash\n",
    "git log"
   ]
  },
  {
   "cell_type": "markdown",
   "id": "eccd1f11",
   "metadata": {},
   "source": [
    "<a id=\"ppmPlanning\"></a>\n",
    "< [Table of Contents](#top) > < [Instructions](#instructions)&nbsp;&nbsp;|&nbsp;&nbsp;[Structure](#structure) > < [Abstract](#abstract) > < [Introduction](#introduction)&nbsp;&nbsp;:&nbsp;&nbsp;[Sampling](#introductionScenario)&nbsp;&nbsp;|&nbsp;&nbsp;[``scipy.stats``](#solutionttest)&nbsp;&nbsp;|&nbsp;&nbsp;[Multiple Samples](#solutionMultipleSamples) > < [Solution](#solution)&nbsp;&nbsp;:&nbsp;&nbsp;[``ANOVA``](#solutionANOVA)&nbsp;&nbsp;|&nbsp;&nbsp;[Flavors of Cacao](#solutionANOVAOnewayflavorsofcacao) > < [Conclusion](#conclusion) > < [References](#references) > < [Appendix](#appendix)&nbsp;&nbsp;|&nbsp;&nbsp;[Project Management](#ppmTOC) >\n",
    "***\n",
    "###### Planning\n",
    "***"
   ]
  },
  {
   "cell_type": "markdown",
   "id": "2368f219",
   "metadata": {},
   "source": [
    "- Keeping in mind:\n",
    "\n",
    "i) GMIT assessment submission marking scheme; and \n",
    "\n",
    "ii) impression given to someone who is looking at this repository, endeavour to provide direct evidence of each of the items listed in each category where applicable (``Research`` - ``Development`` - ``Consistency`` - ``Documentation``)."
   ]
  },
  {
   "cell_type": "markdown",
   "id": "9c8f53a8",
   "metadata": {},
   "source": [
    "<a id=\"ppmGettingStartedResearch\"></a>\n",
    "< [Table of Contents](#top) > < [Instructions](#instructions)&nbsp;&nbsp;|&nbsp;&nbsp;[Structure](#structure) > < [Abstract](#abstract) > < [Introduction](#introduction)&nbsp;&nbsp;:&nbsp;&nbsp;[Sampling](#introductionScenario)&nbsp;&nbsp;|&nbsp;&nbsp;[``scipy.stats``](#solutionttest)&nbsp;&nbsp;|&nbsp;&nbsp;[Multiple Samples](#solutionMultipleSamples) > < [Solution](#solution)&nbsp;&nbsp;:&nbsp;&nbsp;[``ANOVA``](#solutionANOVA)&nbsp;&nbsp;|&nbsp;&nbsp;[Flavors of Cacao](#solutionANOVAOnewayflavorsofcacao) > < [Conclusion](#conclusion) > < [References](#references) > < [Appendix](#appendix)&nbsp;&nbsp;|&nbsp;&nbsp;[Project Management](#ppmTOC) >\n",
    "***\n",
    "###### Research\n",
    "***"
   ]
  },
  {
   "cell_type": "markdown",
   "id": "72618b05",
   "metadata": {},
   "source": [
    "- GMIT: **\"Evidence of research performed on topic; submission based on referenced literature, particularly academic literature; evidence of understanding of the documentation for any software or libraries used.\"**"
   ]
  },
  {
   "cell_type": "markdown",
   "id": "db29e61d",
   "metadata": {},
   "source": [
    "- Investigation of packages used as demonstrated by references, background information, and approach: References will be in the format:\n",
    "\n",
    "```\n",
    "[referenceNumber] authorNames, referenceTitle, locationWebsiteBookVideo, dateMonthYear.\n",
    "```"
   ]
  },
  {
   "cell_type": "markdown",
   "id": "ba86233d",
   "metadata": {},
   "source": [
    "- Demonstrating work complete with appropriate references and not just for the problem but for the level of understanding of the problem."
   ]
  },
  {
   "cell_type": "markdown",
   "id": "ea7fc933",
   "metadata": {},
   "source": [
    "- Code commentary will include details of package, module, object (if applicable) to demonstrate understanding of software documentation and libraries used.\n",
    "\n",
    "```python\n",
    "# b_T_hird_P_arty-imports\n",
    "from matplotlib.pyplot import plot\n",
    "```\n",
    "```python\n",
    "# package matplotlib - module pyplot\n",
    "plot(x,y)\n",
    "```"
   ]
  },
  {
   "cell_type": "markdown",
   "id": "5a8f3651",
   "metadata": {},
   "source": [
    "<a id=\"ppmGettingStartedDevelopment\"></a>\n",
    "< [Table of Contents](#top) > < [Instructions](#instructions)&nbsp;&nbsp;|&nbsp;&nbsp;[Structure](#structure) > < [Abstract](#abstract) > < [Introduction](#introduction)&nbsp;&nbsp;:&nbsp;&nbsp;[Sampling](#introductionScenario)&nbsp;&nbsp;|&nbsp;&nbsp;[``scipy.stats``](#solutionttest)&nbsp;&nbsp;|&nbsp;&nbsp;[Multiple Samples](#solutionMultipleSamples) > < [Solution](#solution)&nbsp;&nbsp;:&nbsp;&nbsp;[``ANOVA``](#solutionANOVA)&nbsp;&nbsp;|&nbsp;&nbsp;[Flavors of Cacao](#solutionANOVAOnewayflavorsofcacao) > < [Conclusion](#conclusion) > < [References](#references) > < [Appendix](#appendix)&nbsp;&nbsp;|&nbsp;&nbsp;[Project Management](#ppmTOC) >\n",
    "***\n",
    "###### Development\n",
    "***"
   ]
  },
  {
   "cell_type": "markdown",
   "id": "7cad6334",
   "metadata": {},
   "source": [
    "- GMIT: **\"Environment can be set up as described; code works without tweaking and as described; code is efficient, clean, and clear; evidence of consideration of standards and conventions appropriate to code of this kind.\"**"
   ]
  },
  {
   "cell_type": "markdown",
   "id": "9fa09d81",
   "metadata": {},
   "source": [
    "- Clear, well-written, and efficient code with appropriate comments - using Jupyter Notebook markdown cells to summarise concise workings. "
   ]
  },
  {
   "cell_type": "markdown",
   "id": "91ba1d97",
   "metadata": {},
   "source": [
    "- As much as possible use the ``Style Guide for Python Code`` [Guido van Rossum](https://web.archive.org/web/20201029095211/https://www.python.org/dev/peps/pep-0008/). Refer user-defined [Coding Conventions](#codingConventions)."
   ]
  },
  {
   "cell_type": "markdown",
   "id": "84133b0e",
   "metadata": {},
   "source": [
    "<a id=\"ppmGettingStartedConsistency\"></a>\n",
    "< [Table of Contents](#top) > < [Instructions](#instructions)&nbsp;&nbsp;|&nbsp;&nbsp;[Structure](#structure) > < [Abstract](#abstract) > < [Introduction](#introduction)&nbsp;&nbsp;:&nbsp;&nbsp;[Sampling](#introductionScenario)&nbsp;&nbsp;|&nbsp;&nbsp;[``scipy.stats``](#solutionttest)&nbsp;&nbsp;|&nbsp;&nbsp;[Multiple Samples](#solutionMultipleSamples) > < [Solution](#solution)&nbsp;&nbsp;:&nbsp;&nbsp;[``ANOVA``](#solutionANOVA)&nbsp;&nbsp;|&nbsp;&nbsp;[Flavors of Cacao](#solutionANOVAOnewayflavorsofcacao) > < [Conclusion](#conclusion) > < [References](#references) > < [Appendix](#appendix)&nbsp;&nbsp;|&nbsp;&nbsp;[Project Management](#ppmTOC) >\n",
    "***\n",
    "###### Consistency\n",
    "***"
   ]
  },
  {
   "cell_type": "markdown",
   "id": "47c347b3",
   "metadata": {},
   "source": [
    "- GMIT: **\"Evidence of planning and project management; pragmatic attitude to work as evidenced by well-considered commit history; commits are of a reasonable size; consideration of how commit history will be perceived by others.\"**"
   ]
  },
  {
   "cell_type": "markdown",
   "id": "22cb7fc0",
   "metadata": {},
   "source": [
    "- Git commit blurb to include number of days outstanding before deadline (if applicable)."
   ]
  },
  {
   "cell_type": "markdown",
   "id": "ca250792",
   "metadata": {},
   "source": [
    "- Commits to highlight changes made since the last commit so that reviews of the git history can demonstrate compartmentation of work into the different sections."
   ]
  },
  {
   "cell_type": "markdown",
   "id": "444a28ba",
   "metadata": {},
   "source": [
    "<a id=\"ppmGettingStartedDocumentation\"></a>\n",
    "< [Table of Contents](#top) > < [Instructions](#instructions)&nbsp;&nbsp;|&nbsp;&nbsp;[Structure](#structure) > < [Abstract](#abstract) > < [Introduction](#introduction)&nbsp;&nbsp;:&nbsp;&nbsp;[Sampling](#introductionScenario)&nbsp;&nbsp;|&nbsp;&nbsp;[``scipy.stats``](#solutionttest)&nbsp;&nbsp;|&nbsp;&nbsp;[Multiple Samples](#solutionMultipleSamples) > < [Solution](#solution)&nbsp;&nbsp;:&nbsp;&nbsp;[``ANOVA``](#solutionANOVA)&nbsp;&nbsp;|&nbsp;&nbsp;[Flavors of Cacao](#solutionANOVAOnewayflavorsofcacao) > < [Conclusion](#conclusion) > < [References](#references) > < [Appendix](#appendix)&nbsp;&nbsp;|&nbsp;&nbsp;[Project Management](#ppmTOC) >\n",
    "***\n",
    "###### Documentation\n",
    "***"
   ]
  },
  {
   "cell_type": "markdown",
   "id": "1547e7d7",
   "metadata": {},
   "source": [
    "- GMIT: **\"Clear documentation of how to create an environment in which any code will run, how to prepare the code for running, how to run the code including setting any options or flags, and what to expect upon running the code. Concise descriptions of code in comments and README.\"**"
   ]
  },
  {
   "cell_type": "markdown",
   "id": "5b16fe4d",
   "metadata": {},
   "source": [
    "- Include descriptions/plots of theoretical and practical aspects of the problem(s) - comments to be very concise for ease of readability."
   ]
  },
  {
   "cell_type": "markdown",
   "id": "e5d79e37",
   "metadata": {},
   "source": [
    "- Descriptions of code requiring further explanation will be presented in Jupyter Notebook markdown cells prior to code execution."
   ]
  },
  {
   "cell_type": "markdown",
   "id": "8885a3ce",
   "metadata": {},
   "source": [
    "<a id=\"considerations\"></a>\n",
    "< [Table of Contents](#top) > < [Instructions](#instructions)&nbsp;&nbsp;|&nbsp;&nbsp;[Structure](#structure) > < [Abstract](#abstract) > < [Introduction](#introduction)&nbsp;&nbsp;:&nbsp;&nbsp;[Sampling](#introductionScenario)&nbsp;&nbsp;|&nbsp;&nbsp;[``scipy.stats``](#solutionttest)&nbsp;&nbsp;|&nbsp;&nbsp;[Multiple Samples](#solutionMultipleSamples) > < [Solution](#solution)&nbsp;&nbsp;:&nbsp;&nbsp;[``ANOVA``](#solutionANOVA)&nbsp;&nbsp;|&nbsp;&nbsp;[Flavors of Cacao](#solutionANOVAOnewayflavorsofcacao) > < [Conclusion](#conclusion) > < [References](#references) > < [Appendix](#appendix)&nbsp;&nbsp;|&nbsp;&nbsp;[Project Management](#ppmTOC) >\n",
    "***\n",
    "###### Considerations\n",
    "***"
   ]
  },
  {
   "cell_type": "markdown",
   "id": "2fc8c67e",
   "metadata": {},
   "source": [
    "- Using the four listed categories (``Research`` - ``Development`` - ``Consistency`` - ``Documentation``) in an attempt to not only focus on programming but also look at the information (data) and manipulating the data and coming up with techniques."
   ]
  },
  {
   "cell_type": "markdown",
   "id": "bd1e55c2",
   "metadata": {},
   "source": [
    "- Sometimes the most complex algorithms are counter-intuitive but do work and have been proven to work. Sometimes only a few lines of code is required to complete a topic/section - endeavour to explain the development of the algorithm and the reasoning behind why/how the code works."
   ]
  },
  {
   "cell_type": "markdown",
   "id": "8bede7d9",
   "metadata": {},
   "source": [
    "- Jupyter Notebook text formatting/presentation to be tidied up closer to the deadline (if applicable)."
   ]
  },
  {
   "cell_type": "markdown",
   "id": "dca3d988",
   "metadata": {},
   "source": [
    "<a id=\"codingConventions\"></a>\n",
    "< [Table of Contents](#top) > < [Instructions](#instructions)&nbsp;&nbsp;|&nbsp;&nbsp;[Structure](#structure) > < [Abstract](#abstract) > < [Introduction](#introduction)&nbsp;&nbsp;:&nbsp;&nbsp;[Sampling](#introductionScenario)&nbsp;&nbsp;|&nbsp;&nbsp;[``scipy.stats``](#solutionttest)&nbsp;&nbsp;|&nbsp;&nbsp;[Multiple Samples](#solutionMultipleSamples) > < [Solution](#solution)&nbsp;&nbsp;:&nbsp;&nbsp;[``ANOVA``](#solutionANOVA)&nbsp;&nbsp;|&nbsp;&nbsp;[Flavors of Cacao](#solutionANOVAOnewayflavorsofcacao) > < [Conclusion](#conclusion) > < [References](#references) > < [Appendix](#appendix)&nbsp;&nbsp;|&nbsp;&nbsp;[Project Management](#ppmTOC) >\n",
    "***\n",
    "###### Coding Conventions\n",
    "***"
   ]
  },
  {
   "cell_type": "markdown",
   "id": "5376b4c7",
   "metadata": {},
   "source": [
    "- user-defined function / name (variable) - start with letters as follows\n",
    "\n",
    "| Example       | Signify \t\t          |\n",
    "| :------------ |:------------------------|\n",
    "|\tf        \t|\tuser-defined function |\n",
    "|\tn        \t|\tname - no variables   |"
   ]
  },
  {
   "cell_type": "markdown",
   "id": "b8e5abc2",
   "metadata": {},
   "source": [
    "<a id=\"considerationsGettingReferencedWebsitePublishingDate\"></a>\n",
    "< [Table of Contents](#top) > < [Instructions](#instructions)&nbsp;&nbsp;|&nbsp;&nbsp;[Structure](#structure) > < [Abstract](#abstract) > < [Introduction](#introduction)&nbsp;&nbsp;:&nbsp;&nbsp;[Sampling](#introductionScenario)&nbsp;&nbsp;|&nbsp;&nbsp;[``scipy.stats``](#solutionttest)&nbsp;&nbsp;|&nbsp;&nbsp;[Multiple Samples](#solutionMultipleSamples) > < [Solution](#solution)&nbsp;&nbsp;:&nbsp;&nbsp;[``ANOVA``](#solutionANOVA)&nbsp;&nbsp;|&nbsp;&nbsp;[Flavors of Cacao](#solutionANOVAOnewayflavorsofcacao) > < [Conclusion](#conclusion) > < [References](#references) > < [Appendix](#appendix)&nbsp;&nbsp;|&nbsp;&nbsp;[Project Management](#ppmTOC) >\n",
    "***\n",
    "###### Getting Referenced Website Publishing Date:\n",
    "***"
   ]
  },
  {
   "cell_type": "markdown",
   "id": "007ef078",
   "metadata": {},
   "source": [
    "To get the publication date of a web page (``https://www.mathsisfun.com/equation_of_line.html``):\n",
    "\n",
    "\n",
    "i. google search ``https://www.mathsisfun.com/equation_of_line.html``;\n",
    "\n",
    "```\n",
    "https://www.google.com/search?q=https%3A%2F%2Fwww.mathsisfun.com%2Fequation_of_line.html&source=hp&ei=Q5LFYa6MNcLC8gLCl7LIBA&iflsig=ALs-wAMAAAAAYcWgU3AxsQA8P5-v81qGgtFn8-0UmefS&ved=0ahUKEwjuudCYj_z0AhVCoVwKHcKLDEkQ4dUDCAY&uact=5&oq=https%3A%2F%2Fwww.mathsisfun.com%2Fequation_of_line.html&gs_lcp=Cgdnd3Mtd2l6EAMyBggAEBYQHlAAWABgqgNoAHAAeACAAS-IAS-SAQExmAEAoAECoAEB&sclient=gws-wiz\n",
    "```\n",
    "\n",
    "ii. add ``&as_qdr=y15`` to the end of the output url:\n",
    "\n",
    "```\n",
    "https://www.google.com/search?q=https%3A%2F%2Fwww.mathsisfun.com%2Fequation_of_line.html&source=hp&ei=Q5LFYa6MNcLC8gLCl7LIBA&iflsig=ALs-wAMAAAAAYcWgU3AxsQA8P5-v81qGgtFn8-0UmefS&ved=0ahUKEwjuudCYj_z0AhVCoVwKHcKLDEkQ4dUDCAY&uact=5&oq=https%3A%2F%2Fwww.mathsisfun.com%2Fequation_of_line.html&gs_lcp=Cgdnd3Mtd2l6EAMyBggAEBYQHlAAWABgqgNoAHAAeACAAS-IAS-SAQExmAEAoAECoAEB&sclient=gws-wiz&as_qdr=y30\n",
    "```\n",
    "\n",
    "\n",
    "iii. hit enter and the result page shows publishing dates"
   ]
  },
  {
   "cell_type": "markdown",
   "id": "a562717e",
   "metadata": {},
   "source": [
    "<a id=\"outstanding\"></a>\n",
    "< [Table of Contents](#top) > < [Instructions](#instructions)&nbsp;&nbsp;|&nbsp;&nbsp;[Structure](#structure) > < [Abstract](#abstract) > < [Introduction](#introduction)&nbsp;&nbsp;:&nbsp;&nbsp;[Sampling](#introductionScenario)&nbsp;&nbsp;|&nbsp;&nbsp;[``scipy.stats``](#solutionttest)&nbsp;&nbsp;|&nbsp;&nbsp;[Multiple Samples](#solutionMultipleSamples) > < [Solution](#solution)&nbsp;&nbsp;:&nbsp;&nbsp;[``ANOVA``](#solutionANOVA)&nbsp;&nbsp;|&nbsp;&nbsp;[Flavors of Cacao](#solutionANOVAOnewayflavorsofcacao) > < [Conclusion](#conclusion) > < [References](#references) > < [Appendix](#appendix)&nbsp;&nbsp;|&nbsp;&nbsp;[Project Management](#ppmTOC) >\n",
    "***\n",
    "###### Outstanding\n",
    "***"
   ]
  },
  {
   "cell_type": "markdown",
   "id": "61371cf4",
   "metadata": {},
   "source": [
    "<a id=\"outstandingUnforeseenCircumstances\"></a>\n",
    "< [Table of Contents](#top) > < [Instructions](#instructions)&nbsp;&nbsp;|&nbsp;&nbsp;[Structure](#structure) > < [Abstract](#abstract) > < [Introduction](#introduction)&nbsp;&nbsp;:&nbsp;&nbsp;[Sampling](#introductionScenario)&nbsp;&nbsp;|&nbsp;&nbsp;[``scipy.stats``](#solutionttest)&nbsp;&nbsp;|&nbsp;&nbsp;[Multiple Samples](#solutionMultipleSamples) > < [Solution](#solution)&nbsp;&nbsp;:&nbsp;&nbsp;[``ANOVA``](#solutionANOVA)&nbsp;&nbsp;|&nbsp;&nbsp;[Flavors of Cacao](#solutionANOVAOnewayflavorsofcacao) > < [Conclusion](#conclusion) > < [References](#references) > < [Appendix](#appendix)&nbsp;&nbsp;|&nbsp;&nbsp;[Project Management](#ppmTOC) >\n",
    "***\n",
    "###### Day:55 - Day:45\n",
    "***"
   ]
  },
  {
   "cell_type": "markdown",
   "id": "0a872167",
   "metadata": {},
   "source": [
    "- behind schedule due to illness - to address delays, endeavour to submit 1/2 commits (units of work) per day until 19th December 2021 (deadline)"
   ]
  },
  {
   "cell_type": "markdown",
   "id": "af254a18",
   "metadata": {},
   "source": [
    "<a id=\"outstandingday30\"></a>\n",
    "< [Table of Contents](#top) > < [Instructions](#instructions)&nbsp;&nbsp;|&nbsp;&nbsp;[Structure](#structure) > < [Abstract](#abstract) > < [Introduction](#introduction)&nbsp;&nbsp;:&nbsp;&nbsp;[Sampling](#introductionScenario)&nbsp;&nbsp;|&nbsp;&nbsp;[``scipy.stats``](#solutionttest)&nbsp;&nbsp;|&nbsp;&nbsp;[Multiple Samples](#solutionMultipleSamples) > < [Solution](#solution)&nbsp;&nbsp;:&nbsp;&nbsp;[``ANOVA``](#solutionANOVA)&nbsp;&nbsp;|&nbsp;&nbsp;[Flavors of Cacao](#solutionANOVAOnewayflavorsofcacao) > < [Conclusion](#conclusion) > < [References](#references) > < [Appendix](#appendix)&nbsp;&nbsp;|&nbsp;&nbsp;[Project Management](#ppmTOC) >\n",
    "***\n",
    "###### DAY:30 - Day:21\n",
    "***"
   ]
  },
  {
   "cell_type": "markdown",
   "id": "cd6d99c8",
   "metadata": {},
   "source": [
    "- include more subsections detailing ``ANOVA`` (later may chop to a concise description albeit subsections to be as brief as possible)"
   ]
  },
  {
   "cell_type": "markdown",
   "id": "28748ed0",
   "metadata": {},
   "source": [
    "<a id=\"outstandingday20today10\"></a>\n",
    "< [Table of Contents](#top) > < [Instructions](#instructions)&nbsp;&nbsp;|&nbsp;&nbsp;[Structure](#structure) > < [Abstract](#abstract) > < [Introduction](#introduction)&nbsp;&nbsp;:&nbsp;&nbsp;[Sampling](#introductionScenario)&nbsp;&nbsp;|&nbsp;&nbsp;[``scipy.stats``](#solutionttest)&nbsp;&nbsp;|&nbsp;&nbsp;[Multiple Samples](#solutionMultipleSamples) > < [Solution](#solution)&nbsp;&nbsp;:&nbsp;&nbsp;[``ANOVA``](#solutionANOVA)&nbsp;&nbsp;|&nbsp;&nbsp;[Flavors of Cacao](#solutionANOVAOnewayflavorsofcacao) > < [Conclusion](#conclusion) > < [References](#references) > < [Appendix](#appendix)&nbsp;&nbsp;|&nbsp;&nbsp;[Project Management](#ppmTOC) >\n",
    "***\n",
    "###### DAY:20 - Day:10\n",
    "***"
   ]
  },
  {
   "cell_type": "markdown",
   "id": "8d0b7b44",
   "metadata": {},
   "source": [
    "- preoccupied with the ``Multi-Paradigm Programming`` module assessment due for submission 22nd December 2021:\n",
    "\n",
    "[![nbviewer](https://raw.githubusercontent.com/jupyter/design/master/logos/Badges/nbviewer_badge.svg)](https://nbviewer.org/github/SeanOhAileasa/mpp-multi-paradigm-programming/blob/main/mpp-multi-paradigm-programming.ipynb#solution)"
   ]
  },
  {
   "cell_type": "markdown",
   "id": "f2c35df7",
   "metadata": {},
   "source": [
    "<a id=\"outstandingday20\"></a>\n",
    "< [Table of Contents](#top) > < [Instructions](#instructions)&nbsp;&nbsp;|&nbsp;&nbsp;[Structure](#structure) > < [Abstract](#abstract) > < [Introduction](#introduction)&nbsp;&nbsp;:&nbsp;&nbsp;[Sampling](#introductionScenario)&nbsp;&nbsp;|&nbsp;&nbsp;[``scipy.stats``](#solutionttest)&nbsp;&nbsp;|&nbsp;&nbsp;[Multiple Samples](#solutionMultipleSamples) > < [Solution](#solution)&nbsp;&nbsp;:&nbsp;&nbsp;[``ANOVA``](#solutionANOVA)&nbsp;&nbsp;|&nbsp;&nbsp;[Flavors of Cacao](#solutionANOVAOnewayflavorsofcacao) > < [Conclusion](#conclusion) > < [References](#references) > < [Appendix](#appendix)&nbsp;&nbsp;|&nbsp;&nbsp;[Project Management](#ppmTOC) >\n",
    "***\n",
    "###### DAY:20 - Day:01\n",
    "***"
   ]
  },
  {
   "cell_type": "markdown",
   "id": "9e659a07",
   "metadata": {},
   "source": [
    "- introductory blurb about the analysis of variance (ANOVA) requires more depth and explanation [[commit](https://github.com/SeanOhAileasa/mls-scikit-learn-scipy-stats/tree/60956a92a82d7c3be0b4000db1fe1586cca94034)]"
   ]
  },
  {
   "cell_type": "markdown",
   "id": "e68c26fc",
   "metadata": {},
   "source": [
    "- introductory blurb about the t-test may requires less depth and explanation especially referencing machine learning - chop to a more concise description [[commit](https://github.com/SeanOhAileasa/mls-scikit-learn-scipy-stats/tree/bd6a1159a5f1d84326bbe91efc5d5be3a22b9bb1)]"
   ]
  },
  {
   "cell_type": "markdown",
   "id": "31fec95c",
   "metadata": {},
   "source": [
    "<a id=\"outstandingday15\"></a>\n",
    "< [Table of Contents](#top) > < [Instructions](#instructions)&nbsp;&nbsp;|&nbsp;&nbsp;[Structure](#structure) > < [Abstract](#abstract) > < [Introduction](#introduction)&nbsp;&nbsp;:&nbsp;&nbsp;[Sampling](#introductionScenario)&nbsp;&nbsp;|&nbsp;&nbsp;[``scipy.stats``](#solutionttest)&nbsp;&nbsp;|&nbsp;&nbsp;[Multiple Samples](#solutionMultipleSamples) > < [Solution](#solution)&nbsp;&nbsp;:&nbsp;&nbsp;[``ANOVA``](#solutionANOVA)&nbsp;&nbsp;|&nbsp;&nbsp;[Flavors of Cacao](#solutionANOVAOnewayflavorsofcacao) > < [Conclusion](#conclusion) > < [References](#references) > < [Appendix](#appendix)&nbsp;&nbsp;|&nbsp;&nbsp;[Project Management](#ppmTOC) >\n",
    "***\n",
    "###### DAY:15 - Day:01\n",
    "***"
   ]
  },
  {
   "cell_type": "markdown",
   "id": "d99657ad",
   "metadata": {},
   "source": [
    "- ``scipy.stats.f_oneway`` documentation includes example code for multidimensional input - determine if appropriate to include?"
   ]
  },
  {
   "cell_type": "code",
   "execution_count": 6,
   "id": "66cb5144",
   "metadata": {},
   "outputs": [],
   "source": [
    "import scipy.stats as ss"
   ]
  },
  {
   "cell_type": "code",
   "execution_count": 7,
   "id": "cc47414e",
   "metadata": {},
   "outputs": [
    {
     "name": "stdout",
     "output_type": "stream",
     "text": [
      "    `f_oneway` accepts multidimensional input arrays.  When the inputs\n",
      "    are multidimensional and `axis` is not given, the test is performed\n",
      "    along the first axis of the input arrays.  For the following data, the\n",
      "    test is performed three times, once for each column.\n",
      "\n",
      "    >>> a = np.array([[9.87, 9.03, 6.81],\n",
      "    ...               [7.18, 8.35, 7.00],\n",
      "    ...               [8.39, 7.58, 7.68],\n",
      "    ...               [7.45, 6.33, 9.35],\n",
      "    ...               [6.41, 7.10, 9.33],\n",
      "    ...               [8.00, 8.24, 8.44]])\n",
      "    >>> b = np.array([[6.35, 7.30, 7.16],\n",
      "    ...               [6.65, 6.68, 7.63],\n",
      "    ...               [5.72, 7.73, 6.72],\n",
      "    ...               [7.01, 9.19, 7.41],\n",
      "    ...               [7.75, 7.87, 8.30],\n",
      "    ...               [6.90, 7.97, 6.97]])\n",
      "    >>> c = np.array([[3.31, 8.77, 1.01],\n",
      "    ...               [8.25, 3.24, 3.62],\n",
      "    ...               [6.32, 8.81, 5.19],\n",
      "    ...               [7.48, 8.83, 8.91],\n",
      "    ...               [8.59, 6.01, 6.07],\n",
      "    ...               [3.07, 9.72, 7.48]])\n",
      "    >>> F, p = f_oneway(a, b, c)\n",
      "    >>> F\n",
      "    array([1.75676344, 0.03701228, 3.76439349])\n",
      "    >>> p\n",
      "    array([0.20630784, 0.96375203, 0.04733157])\n",
      "\n",
      "    \n"
     ]
    }
   ],
   "source": [
    "print(\"\\n\".join(ss.f_oneway.__doc__.split(\"\\n\")[97:])) # multidimensional input arrays"
   ]
  },
  {
   "cell_type": "markdown",
   "id": "13d90471",
   "metadata": {},
   "source": [
    "<a id=\"outstandingday15\"></a>\n",
    "< [Table of Contents](#top) > < [Instructions](#instructions)&nbsp;&nbsp;|&nbsp;&nbsp;[Structure](#structure) > < [Abstract](#abstract) > < [Introduction](#introduction)&nbsp;&nbsp;:&nbsp;&nbsp;[Sampling](#introductionScenario)&nbsp;&nbsp;|&nbsp;&nbsp;[``scipy.stats``](#solutionttest)&nbsp;&nbsp;|&nbsp;&nbsp;[Multiple Samples](#solutionMultipleSamples) > < [Solution](#solution)&nbsp;&nbsp;:&nbsp;&nbsp;[``ANOVA``](#solutionANOVA)&nbsp;&nbsp;|&nbsp;&nbsp;[Flavors of Cacao](#solutionANOVAOnewayflavorsofcacao) > < [Conclusion](#conclusion) > < [References](#references) > < [Appendix](#appendix)&nbsp;&nbsp;|&nbsp;&nbsp;[Project Management](#ppmTOC) >\n",
    "***\n",
    "###### DAY:02 - Day:00\n",
    "***"
   ]
  },
  {
   "cell_type": "markdown",
   "id": "f96f1f98",
   "metadata": {},
   "source": [
    "- ``README`` requires revision: i. Description; ii. Conclusion (plus Troubleshooting/Credits/Contact and anything else deemed appropriate for submission)"
   ]
  },
  {
   "cell_type": "markdown",
   "id": "f79549f7",
   "metadata": {},
   "source": [
    "***\n",
    "## END"
   ]
  },
  {
   "cell_type": "markdown",
   "id": "4ac24de1",
   "metadata": {},
   "source": [
    "***\n",
    "## END (Appendix)"
   ]
  },
  {
   "cell_type": "code",
   "execution_count": 8,
   "id": "99013144",
   "metadata": {},
   "outputs": [
    {
     "data": {
      "text/html": [
       "<style>.container { width:100% !important; }</style>"
      ],
      "text/plain": [
       "<IPython.core.display.HTML object>"
      ]
     },
     "metadata": {},
     "output_type": "display_data"
    },
    {
     "data": {
      "text/html": [
       "<style>.container { width:100% !important; }</style>"
      ],
      "text/plain": [
       "<IPython.core.display.HTML object>"
      ]
     },
     "metadata": {},
     "output_type": "display_data"
    }
   ],
   "source": [
    "from sys import path; path.insert(1,\"./rc\");\n",
    "import fullscreen; from importlib import reload; reload(fullscreen);"
   ]
  },
  {
   "cell_type": "markdown",
   "id": "899c1783",
   "metadata": {},
   "source": [
    "# END JUPYTER NOTEBOOK"
   ]
  }
 ],
 "metadata": {
  "kernelspec": {
   "display_name": "Python 3",
   "language": "python",
   "name": "python3"
  },
  "language_info": {
   "codemirror_mode": {
    "name": "ipython",
    "version": 3
   },
   "file_extension": ".py",
   "mimetype": "text/x-python",
   "name": "python",
   "nbconvert_exporter": "python",
   "pygments_lexer": "ipython3",
   "version": "3.8.8"
  }
 },
 "nbformat": 4,
 "nbformat_minor": 5
}
